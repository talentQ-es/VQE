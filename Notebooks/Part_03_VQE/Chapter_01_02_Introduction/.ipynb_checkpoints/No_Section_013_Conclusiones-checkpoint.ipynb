{
 "cells": [
  {
   "cell_type": "markdown",
   "id": "0ec3d300",
   "metadata": {
    "slideshow": {
     "slide_type": "-"
    },
    "tags": []
   },
   "source": [
    "<figure><center>\n",
    "<img align=\"left\" src=\"https://quantumspain-project.es/wp-content/uploads/2022/11/Logo_QS_EspanaDigital.png\" width=\"1000px\"/><br><br><br><br>\n",
    "</center></figure>\n",
    "\n",
    "<a id='Notebook_Date'></a> Created: 2022/10/30\n",
    "\n",
    "<center>\n",
    "<a rel=\"license\" href=\"http://creativecommons.org/licenses/by-sa/4.0/\">\n",
    "<img aling=\"left\" alt=\"Licencia Creative Commons\" style=\"border-width:0\" src=\"https://i.creativecommons.org/l/by-sa/4.0/88x31.png\" /></a>\n",
    "</center>\n",
    "\n",
    "License: <a rel=\"license\" href=\"http://creativecommons.org/licenses/by-sa/4.0/\">Licencia Creative Commons Atribución-CompartirIgual 4.0 Internacional</a>.\n",
    "\n",
    "Internal Reviewers:\n",
    "* Alba Cervera ([BSC](https://www.bsc.es/))\n",
    "* Andrés Gómez ([CESGA](http://www.cesga.es))\n",
    "\n",
    "Authors:\n",
    "* Irais Bautista ([CESGA](http://www.cesga.es))\n",
    "<img src=\"https://quantumspain-project.es/wp-content/uploads/2022/11/CESGA.png\" width=\"100px\">\n",
    "\n",
    "* Sergio Martínez ([BIFi-UNIZAR](https://bifi.es/es/))\n",
    "<img src=\"http://bifi.es/wp-content/uploads/2016/11/logo_vectorial-web.png\" width=\"200px\">\n",
    "\n",
    "* Jaime Scharfhausen ([UAM](https://www.uam.es/uam/inicio))\n",
    "<img src=\"https://www.iib.uam.es/iiblf6theme-theme/images/custom/logo-uam.png\" width = \"200px\">\n",
    "\n",
    "* Alejandro Jaramillo ([CSUC](https://www.csuc.cat/es))\n",
    "<img src=\"https://www.csuc.cat/sites/default/files/2021-02/CSUC_logo_corporatiu_0.png\" width = \"200px\">"
   ]
  },
  {
   "cell_type": "markdown",
   "id": "d376d716-30a5-4ddf-a603-1ba11f6b9040",
   "metadata": {},
   "source": [
    "<a id='sec_Introducción_al_Algoritmo_VQE'></a>\n",
    "# Introducción al Algoritmo VQE"
   ]
  },
  {
   "cell_type": "code",
   "execution_count": 1,
   "id": "8dd6c9c3",
   "metadata": {
    "editable": true,
    "scrolled": true,
    "slideshow": {
     "slide_type": ""
    },
    "tags": [
     "hide-input",
     "remove-output"
    ]
   },
   "outputs": [
    {
     "ename": "ModuleNotFoundError",
     "evalue": "No module named 'qibo'",
     "output_type": "error",
     "traceback": [
      "\u001b[0;31m---------------------------------------------------------------------------\u001b[0m",
      "\u001b[0;31mModuleNotFoundError\u001b[0m                       Traceback (most recent call last)",
      "Cell \u001b[0;32mIn[1], line 11\u001b[0m\n\u001b[1;32m      8\u001b[0m \u001b[38;5;28;01mimport\u001b[39;00m \u001b[38;5;21;01mmatplotlib\u001b[39;00m\u001b[38;5;21;01m.\u001b[39;00m\u001b[38;5;21;01mpyplot\u001b[39;00m \u001b[38;5;28;01mas\u001b[39;00m \u001b[38;5;21;01mplt\u001b[39;00m\n\u001b[1;32m     10\u001b[0m \u001b[38;5;66;03m# Librerías Qibo\u001b[39;00m\n\u001b[0;32m---> 11\u001b[0m \u001b[38;5;28;01mimport\u001b[39;00m \u001b[38;5;21;01mqibo\u001b[39;00m\n\u001b[1;32m     12\u001b[0m \u001b[38;5;28;01mfrom\u001b[39;00m \u001b[38;5;21;01mqibo\u001b[39;00m \u001b[38;5;28;01mimport\u001b[39;00m models, gates, hamiltonians\n\u001b[1;32m     13\u001b[0m \u001b[38;5;28;01mfrom\u001b[39;00m \u001b[38;5;21;01mqibo\u001b[39;00m \u001b[38;5;28;01mimport\u001b[39;00m matrices \u001b[38;5;28;01mas\u001b[39;00m m\n",
      "\u001b[0;31mModuleNotFoundError\u001b[0m: No module named 'qibo'"
     ]
    }
   ],
   "source": [
    "# Librerías generales\n",
    "import numpy as np\n",
    "from collections import defaultdict\n",
    "from functools import reduce\n",
    "from itertools import product\n",
    "import random\n",
    "import scipy\n",
    "import matplotlib.pyplot as plt\n",
    "\n",
    "# Librerías Qibo\n",
    "import qibo\n",
    "from qibo import models, gates, hamiltonians\n",
    "from qibo import matrices as m\n",
    "\n",
    "# Librerías Qiskit\n",
    "import qiskit\n",
    "from qiskit import IBMQ, QuantumCircuit, QuantumRegister, ClassicalRegister, Aer, execute, transpile\n",
    "from qiskit.visualization import plot_bloch_multivector\n",
    "from qiskit.algorithms.optimizers import COBYLA, SPSA, POWELL\n",
    "from qiskit.primitives import Estimator\n",
    "from qiskit.algorithms.minimum_eigensolvers import VQE\n",
    "from qiskit.utils import QuantumInstance, algorithm_globals\n",
    "from qiskit.opflow import X, Z, I, Y\n",
    "from qiskit.circuit.library import TwoLocal\n",
    "from qiskit.tools.parallel import parallel_map\n",
    "\n",
    "random.seed()\n",
    "\n",
    "qibo.set_backend(\"numpy\")\n",
    "\n",
    "%matplotlib inline"
   ]
  },
  {
   "cell_type": "markdown",
   "id": "3201b545",
   "metadata": {
    "editable": true,
    "slideshow": {
     "slide_type": ""
    },
    "tags": []
   },
   "source": [
    "<a id='sec_Índice'></a>\n",
    "## Índice\n",
    "\n",
    "- [Primeros pasos](#sec_Primeros_pasos)\n",
    "\n",
    "    - [Programando el Algoritmo VQE](#sec_Programando_el_Algoritmo_VQE)\n",
    "\n",
    "- [El Modelo de Ising con el algoritmo VQE](#sec_El_Modelo_de_Ising_con_el_algoritmo_VQE)\n",
    "\n",
    "    - [El Modelo de Ising 1D](#sec_El_modelo_de_Ising_1D)\n",
    "    \n",
    "- [La Molécula de $\\text{H}_2$](#sec_La_Molécula_de_H2)\n",
    "\n",
    "- [Conclusiones](#sec_Conclusiones)\n",
    "    \n",
    "- [Bibliografía](#sec_Bibliografía)"
   ]
  },
  {
   "cell_type": "markdown",
   "id": "5b983e7a",
   "metadata": {},
   "source": [
    "<a id='sec_Conclusiones'></a>\n",
    "## Conclusiones"
   ]
  },
  {
   "cell_type": "markdown",
   "id": "37b36b2f",
   "metadata": {},
   "source": [
    "El punto clave del algoritmo VQE, y de los algoritmos variacionales en general, es que, al ser repeticiones de un proceso parametrizado, los posibles errores inducidos por el circuito cuántico (puertas, cross-talking, recaída al fundamental...) al final son contemplados por las sucesivas elecciones de los parámetros, haciéndolo más robusto. Esto hace que, en esta era de la computación NISQ en la que vivimos, sea un algoritmo aplicable e implementable, al menos para casos lo suficientemente sencillos y que no demanden muchos recursos.\n",
    "<br>\n",
    "<br>\n",
    "Y es una suerte que esto sea así, porque los problemas de diagonalización y obtención del autovalor más bajo son de vital importancia en muchas ramas de la ciencia, como puede ser la química teórica [[1](#bib_peruzzo_variational_2014), [2](#bib_tilly_variational_2022)] o la física nuclear [[12](#bib_cervia_lipkin_2021), [13](#bib_grimsley_adaptive_2019), [14](#bib_romero_solving_2022)], así como en problemas de otras disciplinas, como la economía (*travelling salesman*, *max-cut*) [[3](#bib_zickert_hands-quantum_2022)].\n",
    "<br>\n",
    "<br>\n",
    "Los puntos claves de este algoritmo para aumentar las posibilidades y la velocidad de convergencia son la elección del *ansatz* (que al final determina la cantidad de recursos demandados y varias de las condiciones del problema a resolver) y del algoritmo de optimizador clásico (que debe lidiar con múltiples problemas en el espacio de parámetros, como los mínimos locales o los *barren plateaus*). En los siguientes apartados de esta documentación hablaremos más sobre estos dos temas."
   ]
  },
  {
   "cell_type": "markdown",
   "id": "01ab8651",
   "metadata": {},
   "source": [
    "<a id=\"Bibliografía\"></a>\n",
    "## Bibliografía\n",
    "\n",
    "[1] Peruzzo, A., McClean, J., Shadbolt, P., Yung, M.-H., Zhou, X.-Q., Love, P.J., Aspuru-Guzik, A., O’Brien, J.L., (2014). 'A variational eigenvalue solver on a photonic quantum processor'. *Nat Commun* 5, 4213. https://doi.org/10.1038/ncomms5213 <a id='bib_peruzzo_variational_2014'></a>\n",
    "\n",
    "[2] Tilly, J., Chen, H., Cao, S., Picozzi, D., Setia, K., Li, Y., Grant, E., Wossnig, L., Rungger, I., Booth, G.H., Tennyson, J., (2022). 'The Variational Quantum Eigensolver: A review of methods and best practices'. *Physics Reports*, The Variational Quantum Eigensolver: a review of methods and best practices 986, 1–128. https://doi.org/10.1016/j.physrep.2022.08.003 <a id='bib_tilly_variational_2022'></a>\n",
    "\n",
    "[3] Zickert, F., (2022). *Hands-On Quantum Machine Learning With Python*. PyQML. <a id='bib_zickert_hands-quantum_2022'></a>\n",
    "\n",
    "[4] Bhatnagar, S., Prasad, H.L., Prashanth, L.A., (2013). *Stochastic Recursive Algorithms for Optimization*, Lecture Notes in Control and Information Sciences. Springer London, London. https://doi.org/10.1007/978-1-4471-4285-0 <a id='bib_bhatnagar_stochastic_2013'></a>\n",
    "\n",
    "[5] Plischke, Michael, y Birger Bergersen. Equilibrium statistical physics. 3rd ed. Hackensack, NJ: World Scientific, 2006. <a id='bib_plischke_equilibrium_2006'></a>\n",
    "\n",
    "[6] Cervera-Lierta, A., (2018). 'Exact Ising model simulation on a quantum computer'. *Quantum* 2, 114. https://doi.org/10.22331/q-2018-12-21-114 <a id='bib_cervera-lierta_exact_2018'></a>\n",
    "\n",
    "[7] Sachdev, S., (2011). *Quantum phase transitions*, Second edition. ed. Cambridge University Press, Cambridge ; New York. <a id='bib_sachdev_quantum_2011'></a>\n",
    "\n",
    "[8] Suzuki, S., Inoue, J., Chakrabarti, B.K., (2013). *Quantum Ising Phases and Transitions in Transverse Ising Models*, Lecture Notes in Physics. Springer Berlin Heidelberg, Berlin, Heidelberg. https://doi.org/10.1007/978-3-642-33039-1 <a id='bib_suzuki_quantum_2013'></a>\n",
    "\n",
    "[9] Powell, M. J. D. «An efficient method for finding the minimum of a function of several variables without calculating derivatives». The Computer Journal 7, n.º 2 (1 de enero de 1964): 155-62. https://doi.org/10.1093/comjnl/7.2.155. <a id='bib_powell_efficient_1964'></a>\n",
    "\n",
    "[10] Pang, T., 1994. Hydrogen molecule under confinement: Exact results. Phys. Rev. A 49, 1709–1713. https://doi.org/10.1103/PhysRevA.49.1709 <a id='bib_pang_hydrogen_1994'></a>\n",
    "\n",
    "[11] Yang, Z.-Y., Hou, J.-X., 2019. Calculating the ground state energy of hydrogen molecules and helium hydride ions using Bohr’s quantum theory. Eur. J. Phys. 40, 065405. https://doi.org/10.1088/1361-6404/ab32ce <a id='bib_yang_calculating_2019'></a>\n",
    "\n",
    "[12] Cervia, Michael J., A. B. Balantekin, S. N. Coppersmith, Calvin W. Johnson, Peter J. Love, C. Poole, K. Robbins, y M. Saffman. «Lipkin Model on a Quantum Computer». Physical Review C 104, n.º 2 (3 de agosto de 2021): 024305. https://doi.org/10.1103/PhysRevC.104.024305. <a id='bib_cervia_lipkin_2021'></a>\n",
    "\n",
    "[13] Grimsley, Harper R., Sophia E. Economou, Edwin Barnes, y Nicholas J. Mayhall. «An Adaptive Variational Algorithm for Exact Molecular Simulations on a Quantum Computer». Nature Communications 10, n.º 1 (8 de julio de 2019): 3007. https://doi.org/10.1038/s41467-019-10988-2. <a id='bib_grimsley_adaptive_2019'></a>\n",
    "\n",
    "[14] Romero, A. M., J. Engel, Ho Lun Tang, y Sophia E. Economou. «Solving Nuclear Structure Problems with the Adaptive Variational Quantum Algorithm». Physical Review C 105, n.º 6 (27 de junio de 2022): 064317. https://doi.org/10.1103/PhysRevC.105.064317. <a id='bib_romero_solving_2022'></a>"
   ]
  },
  {
   "cell_type": "markdown",
   "id": "7a3a81d2",
   "metadata": {},
   "source": [
    "This work has been financially supported by the Ministry for Digital Transformation and of Civil Service of the Spanish Government through the QUANTUM ENIA project call - Quantum Spain project, and by the European Union through the Recovery, Transformation and Resilience Plan - NextGenerationEU within the framework of the Digital Spain 2026 Agenda.\n",
    "\n",
    "<center>\n",
    "<img align=\"left\" src=\"https://quantumspain-project.es/wp-content/uploads/2024/02/Banner-QS_GOB_v2.png\" width=\"1000px\" />\n",
    "</center>"
   ]
  }
 ],
 "metadata": {
  "celltoolbar": "Tags",
  "kernelspec": {
   "display_name": "Python 3 (ipykernel)",
   "language": "python",
   "name": "python3"
  },
  "language_info": {
   "codemirror_mode": {
    "name": "ipython",
    "version": 3
   },
   "file_extension": ".py",
   "mimetype": "text/x-python",
   "name": "python",
   "nbconvert_exporter": "python",
   "pygments_lexer": "ipython3",
   "version": "3.8.18"
  },
  "toc": {
   "base_numbering": 1,
   "nav_menu": {},
   "number_sections": false,
   "sideBar": true,
   "skip_h1_title": true,
   "title_cell": "Table of Contents",
   "title_sidebar": "Contents",
   "toc_cell": false,
   "toc_position": {},
   "toc_section_display": true,
   "toc_window_display": false
  },
  "vscode": {
   "interpreter": {
    "hash": "9ceb105841182fb6279c9286d3cac6f256262ba5358230452797534895d46c7b"
   }
  }
 },
 "nbformat": 4,
 "nbformat_minor": 5
}
