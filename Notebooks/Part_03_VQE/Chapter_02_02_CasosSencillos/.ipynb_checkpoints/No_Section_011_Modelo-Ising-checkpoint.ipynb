{
 "cells": [
  {
   "cell_type": "markdown",
   "id": "0ec3d300",
   "metadata": {
    "slideshow": {
     "slide_type": "-"
    },
    "tags": []
   },
   "source": [
    "<figure><center>\n",
    "<img align=\"left\" src=\"https://quantumspain-project.es/wp-content/uploads/2022/11/Logo_QS_EspanaDigital.png\" width=\"1000px\"/><br><br><br><br>\n",
    "</center></figure>\n",
    "\n",
    "<a id='Notebook_Date'></a> Created: 2022/10/30\n",
    "\n",
    "<center>\n",
    "<a rel=\"license\" href=\"http://creativecommons.org/licenses/by-sa/4.0/\">\n",
    "<img aling=\"left\" alt=\"Licencia Creative Commons\" style=\"border-width:0\" src=\"https://i.creativecommons.org/l/by-sa/4.0/88x31.png\" /></a>\n",
    "</center>\n",
    "\n",
    "License: <a rel=\"license\" href=\"http://creativecommons.org/licenses/by-sa/4.0/\">Licencia Creative Commons Atribución-CompartirIgual 4.0 Internacional</a>.\n",
    "\n",
    "Internal Reviewers:\n",
    "* Alba Cervera ([BSC](https://www.bsc.es/))\n",
    "* Andrés Gómez ([CESGA](http://www.cesga.es))\n",
    "\n",
    "Authors:\n",
    "* Irais Bautista ([CESGA](http://www.cesga.es))\n",
    "<img src=\"https://quantumspain-project.es/wp-content/uploads/2022/11/CESGA.png\" width=\"100px\">\n",
    "\n",
    "* Sergio Martínez ([BIFi-UNIZAR](https://bifi.es/es/))\n",
    "<img src=\"http://bifi.es/wp-content/uploads/2016/11/logo_vectorial-web.png\" width=\"200px\">\n",
    "\n",
    "* Jaime Scharfhausen ([UAM](https://www.uam.es/uam/inicio))\n",
    "<img src=\"https://www.iib.uam.es/iiblf6theme-theme/images/custom/logo-uam.png\" width = \"200px\">\n",
    "\n",
    "* Alejandro Jaramillo ([CSUC](https://www.csuc.cat/es))\n",
    "<img src=\"https://www.csuc.cat/sites/default/files/2021-02/CSUC_logo_corporatiu_0.png\" width = \"200px\">"
   ]
  },
  {
   "cell_type": "markdown",
   "id": "d376d716-30a5-4ddf-a603-1ba11f6b9040",
   "metadata": {},
   "source": [
    "<a id='sec_Introducción_al_Algoritmo_VQE'></a>\n",
    "# Introducción al Algoritmo VQE"
   ]
  },
  {
   "cell_type": "code",
   "execution_count": 1,
   "id": "8dd6c9c3",
   "metadata": {
    "editable": true,
    "scrolled": true,
    "slideshow": {
     "slide_type": ""
    },
    "tags": [
     "hide-input",
     "remove-output"
    ]
   },
   "outputs": [
    {
     "ename": "ModuleNotFoundError",
     "evalue": "No module named 'qibo'",
     "output_type": "error",
     "traceback": [
      "\u001b[0;31m---------------------------------------------------------------------------\u001b[0m",
      "\u001b[0;31mModuleNotFoundError\u001b[0m                       Traceback (most recent call last)",
      "Cell \u001b[0;32mIn[1], line 11\u001b[0m\n\u001b[1;32m      8\u001b[0m \u001b[38;5;28;01mimport\u001b[39;00m \u001b[38;5;21;01mmatplotlib\u001b[39;00m\u001b[38;5;21;01m.\u001b[39;00m\u001b[38;5;21;01mpyplot\u001b[39;00m \u001b[38;5;28;01mas\u001b[39;00m \u001b[38;5;21;01mplt\u001b[39;00m\n\u001b[1;32m     10\u001b[0m \u001b[38;5;66;03m# Librerías Qibo\u001b[39;00m\n\u001b[0;32m---> 11\u001b[0m \u001b[38;5;28;01mimport\u001b[39;00m \u001b[38;5;21;01mqibo\u001b[39;00m\n\u001b[1;32m     12\u001b[0m \u001b[38;5;28;01mfrom\u001b[39;00m \u001b[38;5;21;01mqibo\u001b[39;00m \u001b[38;5;28;01mimport\u001b[39;00m models, gates, hamiltonians\n\u001b[1;32m     13\u001b[0m \u001b[38;5;28;01mfrom\u001b[39;00m \u001b[38;5;21;01mqibo\u001b[39;00m \u001b[38;5;28;01mimport\u001b[39;00m matrices \u001b[38;5;28;01mas\u001b[39;00m m\n",
      "\u001b[0;31mModuleNotFoundError\u001b[0m: No module named 'qibo'"
     ]
    }
   ],
   "source": [
    "# Librerías generales\n",
    "import numpy as np\n",
    "from collections import defaultdict\n",
    "from functools import reduce\n",
    "from itertools import product\n",
    "import random\n",
    "import scipy\n",
    "import matplotlib.pyplot as plt\n",
    "\n",
    "# Librerías Qibo\n",
    "import qibo\n",
    "from qibo import models, gates, hamiltonians\n",
    "from qibo import matrices as m\n",
    "\n",
    "# Librerías Qiskit\n",
    "import qiskit\n",
    "from qiskit import IBMQ, QuantumCircuit, QuantumRegister, ClassicalRegister, Aer, execute, transpile\n",
    "from qiskit.visualization import plot_bloch_multivector\n",
    "from qiskit.algorithms.optimizers import COBYLA, SPSA, POWELL\n",
    "from qiskit.primitives import Estimator\n",
    "from qiskit.algorithms.minimum_eigensolvers import VQE\n",
    "from qiskit.utils import QuantumInstance, algorithm_globals\n",
    "from qiskit.opflow import X, Z, I, Y\n",
    "from qiskit.circuit.library import TwoLocal\n",
    "from qiskit.tools.parallel import parallel_map\n",
    "\n",
    "random.seed()\n",
    "\n",
    "qibo.set_backend(\"numpy\")\n",
    "\n",
    "%matplotlib inline"
   ]
  },
  {
   "cell_type": "markdown",
   "id": "3201b545",
   "metadata": {
    "editable": true,
    "slideshow": {
     "slide_type": ""
    },
    "tags": []
   },
   "source": [
    "<a id='sec_Índice'></a>\n",
    "## Índice\n",
    "\n",
    "- [Primeros pasos](#sec_Primeros_pasos)\n",
    "\n",
    "    - [Programando el Algoritmo VQE](#sec_Programando_el_Algoritmo_VQE)\n",
    "\n",
    "- [El Modelo de Ising con el algoritmo VQE](#sec_El_Modelo_de_Ising_con_el_algoritmo_VQE)\n",
    "\n",
    "    - [El Modelo de Ising 1D](#sec_El_modelo_de_Ising_1D)\n",
    "    \n",
    "- [La Molécula de $\\text{H}_2$](#sec_La_Molécula_de_H2)\n",
    "\n",
    "- [Conclusiones](#sec_Conclusiones)\n",
    "    \n",
    "- [Bibliografía](#sec_Bibliografía)"
   ]
  },
  {
   "cell_type": "markdown",
   "id": "8d67bb2c",
   "metadata": {},
   "source": [
    "<a id='sec_El_Modelo_de_Ising_con_el_algoritmo_VQE'> </a> \n",
    "## El Modelo de Ising con el algoritmo VQE"
   ]
  },
  {
   "cell_type": "markdown",
   "id": "374b2e07",
   "metadata": {},
   "source": [
    "El Modelo de Ising es un modelo para entender los materiales magnéticos en términos de los *spines* de los átomos y los electrones que lo forman. Pdemos imaginar el sólido magnético como una red cristalina, y en cada uno de los nodos tenemos una flecha que apunta hacia arriba ($\\uparrow$) o hacia abajo ($\\downarrow$). Si dos flechas contiguas apuntan en la misma dirección ($\\uparrow \\uparrow$ o $\\downarrow \\downarrow$), esta unión tiene una contribución negativa a la energía del sistema: el sistema tiende a alinear los *spines* entre si. Por otro lado si las flechas apuntan en direcciones contrarias ($\\uparrow \\downarrow$), la energía de esa unión es positiva: al sistema le \"cuesta\" mantener flechas en direcciones opuestas.\n",
    "<br>\n",
    "<br>\n",
    "Existen dos factores externos que pueden condicionar el estado del sistema: el campo magnético y la temperatura a los que lo sometemos. Por un lado, si introducimos un campo magnético apuntando hacia arriba, los *spines* tienden a alinearse con el campo, por lo que todos querrán apuntar hacia arriba. Por otro lado, si calentamos mucho el sistema, las excitaciones térmicas provocarán que los *spines* se agiten, cambiando de dirección y desordenándose.\n",
    "<br>\n",
    "<br>\n",
    "En el caso cuántico, las fluctuaciones cuánticas del sistema provocan cambios en estos spines incluso a temperatura cero, permitiendo la existencia de transiciones de fase cuánticas."
   ]
  },
  {
   "cell_type": "markdown",
   "id": "2feaf91c",
   "metadata": {
    "slideshow": {
     "slide_type": ""
    },
    "tags": []
   },
   "source": [
    "Podemos expresar el Hamiltoniano del sistema como:<br>\n",
    "<br>\n",
    "$$\n",
    "\\mathcal{H} = - J \\sum_{\\langle i,j \\rangle} \\sigma_i \\sigma_j - h \\sum_i \\sigma_i \\;,\n",
    "$$\n",
    "<br>\n",
    "donde $J$ es la contribución energética de la interacción de dos *spines* adyacentes (fijémonos en que en el primer sumatorio solo se suma a primeros vecinos, $\\langle i,j \\rangle$) y $h$ está relacionado con este campo magnético externo. $\\sigma_i$ es la \"etiqueta\" del *spin* y vale $+1$ o $-1$ según apunte hacia arriba o hacia abajo.\n",
    "<br>\n",
    "<br>\n",
    "Este problema puede complicarse dados diferentes factores microcópicos como la estructura cristalina o incluso tener interacciones más allá de los primeros vecinos, lo que requiere métodos aproximados para solucionarlo. No obstante, hay dos casos especiales para los que existe una solución exacta y analítica del modelo: cuando el sistema tiene solo una dimensión o cuando el sistema tiene dos dimensiones y una estructura cuadrada."
   ]
  },
  {
   "cell_type": "markdown",
   "id": "4d946faa",
   "metadata": {
    "slideshow": {
     "slide_type": ""
    },
    "tags": []
   },
   "source": [
    "<a id='sec_El_Modelo_de_Ising_1D'></a>\n",
    "### El Modelo de Ising 1D"
   ]
  },
  {
   "cell_type": "markdown",
   "id": "40bc27d8",
   "metadata": {
    "slideshow": {
     "slide_type": ""
    },
    "tags": []
   },
   "source": [
    "Vamos a analizar el caso cuántico de la cadena de Ising **unidimensional**. Precisamente por la naturaleza cuántica del problema podemos utilizar las matrices de Pauli para caracterizar el Hamiltoniano, dando lugar a una nueva forma del operador [[6](#bib_cervera-lierta_exact_2018)]: <br>\n",
    "<br>\n",
    "$$\n",
    "\\mathcal{H} = -J \\sum_{i=1}^N X_i X_{i+1} - J g \\sum_i Z_i \\;,\n",
    "$$\n",
    "<br>\n",
    "siendo $N$ la longitud de la cadena y, de nuevo, $J$ está relacionado con la energía del sistema y $g$ con la intensidad del campo magnético a primeros vecinos. $X_i$ y $Z_i$ son operadores de Pauli como los que introducíamos al principio de este documento, actuando sobre el *spin* en posición $i$.\n",
    "<br>\n",
    "<br>\n",
    "Este modelo se conoce como **transverse field Ising Model**. A veces se define $\\Gamma = J g$, donde $\\Gamma$ se conoce como campo transverso."
   ]
  },
  {
   "cell_type": "markdown",
   "id": "7d1d57fe",
   "metadata": {
    "slideshow": {
     "slide_type": ""
    },
    "tags": []
   },
   "source": [
    "<div class=\"alert alert-block alert-danger\">\n",
    "<p style=\"color: DarkRed;\">\n",
    "<b>Nota</b>: <i>Notación reducida</i> \n",
    "<br>    \n",
    "En lo que a la descomposición de Pauli se refiere, los productos anteriores realmente son productos tensoriales de operadores para las partículas $i$ e $i+1$, teniendo identidades en el resto de posiciones. Por ejemplo, para una cadena de tres <i>spines</i>, $N=3$,  \n",
    "<br>\n",
    "$$\n",
    "\\mathcal{H} = -J(X \\otimes X \\otimes I + I \\otimes X \\otimes X + X \\otimes I \\otimes X) - J g (Z \\otimes I \\otimes I + I \\otimes Z \\otimes I + I \\otimes I \\otimes Z) \\;,\n",
    "$$    \n",
    "donde hemos tomado condiciones de contorno periódicas ($\\sigma_{N+1} \\rightarrow \\sigma_1$).\n",
    "</p>\n",
    "</div>"
   ]
  },
  {
   "cell_type": "markdown",
   "id": "d1ec3c35",
   "metadata": {
    "slideshow": {
     "slide_type": ""
    },
    "tags": []
   },
   "source": [
    "Vamos a redefinir nuestras constantes del problema $J$ y $g$ de forma que podamos expresarlas como magnitudes relativas, escribiendo nuestro operador como <br>\n",
    "<br>\n",
    "$$\n",
    "\\mathcal{H} = \\sum_{i=1}^N X_i X_{i+1} + \\gamma \\sum_i Z_i \\;.\n",
    "$$\n",
    "<br>\n",
    "Ahora los signos ($-$) han pasado a ser positivos y solo tenemos una constante de acoplo, $\\gamma$. Esto implica que, cuando $\\gamma$ es positivo estamos en el caso ferromagnético y cuando es negativo en el antiferromagnético.\n",
    "<br>\n",
    "<br>\n",
    "La función que implementa esto es la siguiente:"
   ]
  },
  {
   "cell_type": "code",
   "execution_count": 58,
   "id": "41a660be",
   "metadata": {
    "slideshow": {
     "slide_type": ""
    },
    "tags": []
   },
   "outputs": [],
   "source": [
    "'''Qibo_code_cell'''\n",
    "\n",
    "def ising_chain_ham_qibo(n, gam):\n",
    "    \n",
    "    # Esta función nos devuelve el Hamiltoniano en términos utilizables por los algoritmos de Qibo\n",
    "    # n = number of spin positions\n",
    "    # gam = transverse field parameter\n",
    "\n",
    "    from qibo.symbols import X, Z\n",
    "\n",
    "    sym_X = sum(X(i) * X(i+1) for i in range(n-1)) + (X(0) * X(n-1))\n",
    "    sym_Z = sum(Z(i) for i in range(n))\n",
    "    sym_H = sym_X + gam * sym_Z\n",
    "\n",
    "    H = hamiltonians.SymbolicHamiltonian(sym_H)\n",
    "    \n",
    "    return H, H.matrix"
   ]
  },
  {
   "cell_type": "code",
   "execution_count": 21,
   "id": "ab88f0d9-1f27-4ff5-8613-4a53032120a0",
   "metadata": {},
   "outputs": [],
   "source": [
    "'''Qiskit_code_cell'''\n",
    "\n",
    "def ising_chain_ham(n, gam):\n",
    "    \n",
    "    # Esta función nos devuelve el Hamiltoniano en términos utilizables por los algoritmos de Qiskit\n",
    "    # n = number of spin positions\n",
    "    # gam = transverse field parameter\n",
    "    \n",
    "    for i in range(n):\n",
    "        vecX = [I] * n\n",
    "        vecZ = [I] * n\n",
    "        vecX[i] = X\n",
    "        vecZ[i] = Z\n",
    "        \n",
    "        if i == n - 1:\n",
    "            vecX[0] = X\n",
    "        else:\n",
    "            vecX[i+1] = X\n",
    "\n",
    "        auxX = vecX[0]\n",
    "        auxZ = vecZ[0]\n",
    "        \n",
    "        for a in vecX[1:n]:\n",
    "            auxX = auxX ^ a\n",
    "        for b in vecZ[1:n]:\n",
    "            auxZ = auxZ ^ b\n",
    "            \n",
    "        if i == 0:\n",
    "            H = (auxX) + (gam * auxZ)\n",
    "        else:\n",
    "            H = H + (auxX) + (gam * auxZ)\n",
    "\n",
    "    return H\n",
    "\n",
    "\n",
    "def ising_chain_matrix(n, gam):\n",
    "    \n",
    "    # Esta función devuelve el Hamiltoniano como un array (lista de listas)\n",
    "      \n",
    "    for i in range(n):\n",
    "        HX = [PAULIS[\"I\"]] * n\n",
    "        HZ = [PAULIS[\"I\"]] * n\n",
    "        HX[i] = PAULIS[\"X\"]\n",
    "        HZ[i] = PAULIS[\"Z\"]\n",
    "        \n",
    "        if i == n - 1:\n",
    "            HX[0] = PAULIS[\"X\"]\n",
    "        else:\n",
    "            HX[i+1] = PAULIS[\"X\"]\n",
    "            \n",
    "        aux = reduce(np.kron, HZ)\n",
    "        aux = [val * gam for val in aux]\n",
    "        \n",
    "        if i == 0:\n",
    "            H = reduce(np.kron, HX) + aux\n",
    "        else:            \n",
    "            H = H + reduce(np.kron, HX) + aux\n",
    "        \n",
    "    return H"
   ]
  },
  {
   "cell_type": "markdown",
   "id": "d719839d",
   "metadata": {},
   "source": [
    "Vamos a resolver una cadena de Ising de $N = 4$ *spines*. Entonces prepararemos el Hamiltoniano y después le haremos una serie de transformaciones que nos permiten diagonalizarlo.\n",
    "<br>\n",
    "<br>\n",
    "Empezamos por escribir nuestro operador. Como tenemos $N=4$ <i>spines</i>, el operador será <br>\n",
    "<br>\n",
    "$$\n",
    "\\mathcal{H} = X_1X_2I_3I_4 + I_1X_2X_3I_4 + I_1I_2X_3X_4 + X_1I_2I_3X_4 + \\gamma (Z_1I_2I_3I_4 + I_1Z_2I_3I_4 + I_1I_2Z_3I_4 + I_1I_2I_3Z_4)\n",
    "$$\n",
    "<br>\n",
    "Tomemos un valor de $\\gamma$ pequeño, por ejemplo, $\\gamma = 0.3$."
   ]
  },
  {
   "cell_type": "code",
   "execution_count": 59,
   "id": "d2dcca0e",
   "metadata": {
    "editable": true,
    "slideshow": {
     "slide_type": ""
    },
    "tags": [
     "remove-output"
    ]
   },
   "outputs": [
    {
     "name": "stderr",
     "output_type": "stream",
     "text": [
      "[Qibo 0.1.12.dev0|WARNING|2024-02-09 09:56:03]: Calculating the dense form of a symbolic Hamiltonian. This operation is memory inefficient.\n"
     ]
    }
   ],
   "source": [
    "'''Qibo_code_cell'''\n",
    "\n",
    "# Definimos el Hamiltoniano\n",
    "n = 4\n",
    "gam = .3\n",
    "\n",
    "op_H, matrix = ising_chain_ham_qibo(n,gam)"
   ]
  },
  {
   "cell_type": "code",
   "execution_count": 22,
   "id": "84be6fb0-29b6-4cd6-8953-9f5064c0a9f9",
   "metadata": {},
   "outputs": [],
   "source": [
    "'''Qiskit_code_cell'''\n",
    "\n",
    "# Definimos el Hamiltoniano\n",
    "n = 4\n",
    "gam = 0.3\n",
    "op_H = ising_chain_ham(n,gam)\n",
    "matrix = ising_chain_matrix(n, gam)"
   ]
  },
  {
   "cell_type": "code",
   "execution_count": 61,
   "id": "d94014e4",
   "metadata": {},
   "outputs": [],
   "source": [
    "'''Qibo_code_cell'''\n",
    "\n",
    "# Ahora creamos un circuito variacional de ansatz\n",
    "# En este caso usamos un circuito de puertas RY(theta) y CZ, haciendo los diferentes valores de theta aleatorios\n",
    "\n",
    "nqubits = n\n",
    "nlayers  = 8\n",
    "\n",
    "circuit = models.Circuit(nqubits)\n",
    "\n",
    "for l in range(nlayers):\n",
    "    circuit.add((gates.RY(q, theta=0) for q in range(nqubits)))\n",
    "    circuit.add((gates.CZ(q, q+1) for q in range(0, nqubits-1, 2)))\n",
    "    circuit.add((gates.RY(q, theta=0) for q in range(nqubits)))\n",
    "    circuit.add((gates.CZ(q, q+1) for q in range(1, nqubits-2, 2)))\n",
    "    circuit.add(gates.CZ(0, nqubits-1))\n",
    "    \n",
    "circuit.add((gates.RY(q, theta=0) for q in range(nqubits)))"
   ]
  },
  {
   "cell_type": "code",
   "execution_count": 23,
   "id": "911d615b-89ef-4650-bb33-3cfb30e18885",
   "metadata": {},
   "outputs": [],
   "source": [
    "'''Qiskit_code_cell'''\n",
    "\n",
    "# Ahora creamos un circuito variacional de ansatz\n",
    "# En este caso usamos un circuito de puertas RY(theta) y CZ, haciendo los diferentes valores de theta aleatorios\n",
    "\n",
    "ansatz_circ = TwoLocal(num_qubits=n, rotation_blocks='ry', entanglement_blocks='cz')"
   ]
  },
  {
   "cell_type": "markdown",
   "id": "279af954",
   "metadata": {},
   "source": [
    "En este caso, en lugar de utilizar el optimizador SPSA como hicimos en la sección anterior, empleamos uno nuevo: el algorimto de COBYLA. Realmente, este algoritmo tampoco es particularmente eficiente, pero la forma en la que converge resulta más ilustrativa. Para ejecutar este código de forma más rápida, sugerimos que se emplee el método de Powell [[9](#bib_powell_efficient_1964)]."
   ]
  },
  {
   "cell_type": "code",
   "execution_count": 65,
   "id": "b9b9cc66",
   "metadata": {
    "editable": true,
    "slideshow": {
     "slide_type": ""
    },
    "tags": []
   },
   "outputs": [],
   "source": [
    "'''Qibo_code_cell'''\n",
    "\n",
    "# Especificamos el algorimto de optimización clásica\n",
    "opt = 'COBYLA'\n",
    "# opt = 'Powell'"
   ]
  },
  {
   "cell_type": "code",
   "execution_count": 24,
   "id": "69106ea4-27b1-4bc5-8c31-6c4724fa487f",
   "metadata": {
    "editable": true,
    "slideshow": {
     "slide_type": ""
    },
    "tags": []
   },
   "outputs": [],
   "source": [
    "'''Qiskit_code_cell'''\n",
    "\n",
    "# Especificamos el algorimto de optimización clásica\n",
    "opt = COBYLA(maxiter = 10000)\n",
    "# opt = POWELL()"
   ]
  },
  {
   "cell_type": "markdown",
   "id": "3a6c633f-8a6d-4e2a-8cc2-f92feffb672b",
   "metadata": {},
   "source": [
    "Implementamos unas funciones de callback para poder almacenar los datos de cada iteración y hacer un análisis de la convergencia."
   ]
  },
  {
   "cell_type": "code",
   "execution_count": 63,
   "id": "1a1ff42c",
   "metadata": {
    "editable": true,
    "slideshow": {
     "slide_type": ""
    },
    "tags": [
     "remove-output"
    ]
   },
   "outputs": [],
   "source": [
    "'''Qibo_code_cell'''\n",
    "\n",
    "# Esto son funciones auxiliares para guardar los datos de las iteraciones\n",
    "\n",
    "intermediate_info = {\n",
    "    'parameters': [],\n",
    "    'energy': [],\n",
    "    #'stddev': []\n",
    "}\n",
    "\n",
    "def callback(p):\n",
    "    intermediate_info['parameters'].append(p)    \n",
    "    energy, _, _ = vqe.minimize(p, callback = None, method=opt, options = None, compile=False)\n",
    "    intermediate_info['energy'].append(energy)\n",
    "    #intermediate_info['stddev'].append(stddev)"
   ]
  },
  {
   "cell_type": "code",
   "execution_count": 25,
   "id": "1fc9952e-3698-4a31-af57-6cca74438c94",
   "metadata": {
    "editable": true,
    "slideshow": {
     "slide_type": ""
    },
    "tags": [
     "remove-output"
    ]
   },
   "outputs": [],
   "source": [
    "'''Qiskit_code_cell'''\n",
    "\n",
    "# Esto son funciones auxiliares para guardar los datos de las iteraciones\n",
    "\n",
    "counts = []\n",
    "values = []\n",
    "\n",
    "def store_intermediate_result(eval_count, parameters, mean, std):\n",
    "    counts.append(eval_count)\n",
    "    values.append(mean)"
   ]
  },
  {
   "cell_type": "markdown",
   "id": "479205a0",
   "metadata": {},
   "source": [
    "Como anticipamos previamente, vamos a hacer uso de la función ```vqe``` que está ya implementada, ya que es considerablemente más eficiente que la que programamos en la sección anterior."
   ]
  },
  {
   "cell_type": "code",
   "execution_count": 66,
   "id": "7d357bf1",
   "metadata": {},
   "outputs": [
    {
     "name": "stdout",
     "output_type": "stream",
     "text": [
      "Optimization terminated successfully.\n",
      "         Current function value: -4.092902\n",
      "         Iterations: 3\n",
      "         Function evaluations: 1871\n",
      "E_G =  -4.092901871278741\n"
     ]
    }
   ],
   "source": [
    "'''Qibo_code_cell'''\n",
    "\n",
    "# Parámetros del Ansatz\n",
    "initial_parameters = np.random.uniform(-2*np.pi, 2*np.pi, 2*nqubits*nlayers + nqubits)\n",
    "\n",
    "# Construcción del método VQE\n",
    "vqe = models.VQE(circuit, op_H)\n",
    "options = {'disp': True, 'return_all': True}\n",
    "\n",
    "# Y ejecutamos el algoritmo\n",
    "best, params, extra = vqe.minimize(initial_parameters, callback = callback, method=opt, options = options, compile=False)\n",
    "print(\"E_G = \", best)\n",
    "\n",
    "values = intermediate_info['energy']"
   ]
  },
  {
   "cell_type": "code",
   "execution_count": 30,
   "id": "921fcfc3",
   "metadata": {},
   "outputs": [
    {
     "name": "stderr",
     "output_type": "stream",
     "text": [
      "/tmp/ipykernel_33264/1590746714.py:8: DeprecationWarning: The class ``qiskit.utils.quantum_instance.QuantumInstance`` is deprecated as of qiskit-terra 0.24.0. It will be removed no earlier than 3 months after the release date. For code migration guidelines, visit https://qisk.it/qi_migration.\n",
      "  qi = QuantumInstance(backend, seed_transpiler=63, seed_simulator=63)\n"
     ]
    },
    {
     "name": "stdout",
     "output_type": "stream",
     "text": [
      "E_G = -4.0905101973813816\n"
     ]
    }
   ],
   "source": [
    "'''Qiskit_code_cell'''\n",
    "\n",
    "# Simulador/Ordenador cuántico\n",
    "backend = Aer.get_backend('statevector_simulator')\n",
    "\n",
    "# Entorno para la resolución\n",
    "algorithm_globals.random_seed = 63\n",
    "qi = QuantumInstance(backend, seed_transpiler=63, seed_simulator=63)\n",
    "\n",
    "# Algoritmo VQE, introduciendo el ansatz y el optimizador elegidos\n",
    "vqe_proc = VQE(estimator = Estimator() ,ansatz=ansatz_circ, optimizer=opt, callback=store_intermediate_result)\n",
    "vqe_proc.quantum_instance = qi\n",
    "\n",
    "# Resultados\n",
    "sol = vqe_proc.compute_minimum_eigenvalue(operator = op_H)\n",
    "# print(sol, \"\\n\")\n",
    "best = sol.optimal_value\n",
    "print(\"E_G =\",best)"
   ]
  },
  {
   "cell_type": "code",
   "execution_count": 67,
   "id": "d3b0cd6c",
   "metadata": {},
   "outputs": [
    {
     "data": {
      "image/png": "[encoded data removed]",
      "text/plain": [
       "<Figure size 1500x700 with 1 Axes>"
      ]
     },
     "metadata": {},
     "output_type": "display_data"
    }
   ],
   "source": [
    "# Con la información de las iteraciones podemos dibujar la convergencia de nuestro código\n",
    "\n",
    "fontsize = 15\n",
    "\n",
    "plt.rcParams['figure.figsize'] = (15, 7)\n",
    "plt.plot(range(len(values)), values, label=\"Energy value\", color='red')\n",
    "plt.xticks(fontsize = fontsize)\n",
    "plt.yticks(fontsize = fontsize)\n",
    "plt.xlabel('Steps', fontsize = fontsize)\n",
    "plt.ylabel('Energy', fontsize = fontsize)\n",
    "plt.title('Energy convergence for COBYLA optimizer', fontsize = fontsize)\n",
    "plt.legend(loc='upper right', fontsize = fontsize);\n",
    "plt.show()"
   ]
  },
  {
   "cell_type": "markdown",
   "id": "4c3ae66c",
   "metadata": {},
   "source": [
    "También comparamos con el valor que obtenemos simplemente de diagonalizar la matriz, ya que, al ser \"pequeña\" ($16 \\times 16$), ```scipy``` no tiene problema en hacerlo."
   ]
  },
  {
   "cell_type": "code",
   "execution_count": 68,
   "id": "90607b2f",
   "metadata": {},
   "outputs": [
    {
     "name": "stdout",
     "output_type": "stream",
     "text": [
      "E_G = -4.092961599426855\n",
      "Error relativo = 0.0014592892374552804 %\n"
     ]
    }
   ],
   "source": [
    "eigvals, eigvecs = scipy.linalg.eig(matrix)\n",
    "\n",
    "print(\"E_G =\", min(eigvals).real)\n",
    "\n",
    "print(\"Error relativo =\", abs((best - min(eigvals).real)/min(eigvals).real) * 100, \"%\")"
   ]
  },
  {
   "cell_type": "markdown",
   "id": "01ab8651",
   "metadata": {},
   "source": [
    "# <a id=\"Bibliografía\"></a>\n",
    "## Bibliografía\n",
    "\n",
    "[1] Peruzzo, A., McClean, J., Shadbolt, P., Yung, M.-H., Zhou, X.-Q., Love, P.J., Aspuru-Guzik, A., O’Brien, J.L., (2014). 'A variational eigenvalue solver on a photonic quantum processor'. *Nat Commun* 5, 4213. https://doi.org/10.1038/ncomms5213 <a id='bib_peruzzo_variational_2014'></a>\n",
    "\n",
    "[2] Tilly, J., Chen, H., Cao, S., Picozzi, D., Setia, K., Li, Y., Grant, E., Wossnig, L., Rungger, I., Booth, G.H., Tennyson, J., (2022). 'The Variational Quantum Eigensolver: A review of methods and best practices'. *Physics Reports*, The Variational Quantum Eigensolver: a review of methods and best practices 986, 1–128. https://doi.org/10.1016/j.physrep.2022.08.003 <a id='bib_tilly_variational_2022'></a>\n",
    "\n",
    "[3] Zickert, F., (2022). *Hands-On Quantum Machine Learning With Python*. PyQML. <a id='bib_zickert_hands-quantum_2022'></a>\n",
    "\n",
    "[4] Bhatnagar, S., Prasad, H.L., Prashanth, L.A., (2013). *Stochastic Recursive Algorithms for Optimization*, Lecture Notes in Control and Information Sciences. Springer London, London. https://doi.org/10.1007/978-1-4471-4285-0 <a id='bib_bhatnagar_stochastic_2013'></a>\n",
    "\n",
    "[5] Plischke, Michael, y Birger Bergersen. Equilibrium statistical physics. 3rd ed. Hackensack, NJ: World Scientific, 2006. <a id='bib_plischke_equilibrium_2006'></a>\n",
    "\n",
    "[6] Cervera-Lierta, A., (2018). 'Exact Ising model simulation on a quantum computer'. *Quantum* 2, 114. https://doi.org/10.22331/q-2018-12-21-114 <a id='bib_cervera-lierta_exact_2018'></a>\n",
    "\n",
    "[7] Sachdev, S., (2011). *Quantum phase transitions*, Second edition. ed. Cambridge University Press, Cambridge ; New York. <a id='bib_sachdev_quantum_2011'></a>\n",
    "\n",
    "[8] Suzuki, S., Inoue, J., Chakrabarti, B.K., (2013). *Quantum Ising Phases and Transitions in Transverse Ising Models*, Lecture Notes in Physics. Springer Berlin Heidelberg, Berlin, Heidelberg. https://doi.org/10.1007/978-3-642-33039-1 <a id='bib_suzuki_quantum_2013'></a>\n",
    "\n",
    "[9] Powell, M. J. D. «An efficient method for finding the minimum of a function of several variables without calculating derivatives». The Computer Journal 7, n.º 2 (1 de enero de 1964): 155-62. https://doi.org/10.1093/comjnl/7.2.155. <a id='bib_powell_efficient_1964'></a>\n",
    "\n",
    "[10] Pang, T., 1994. Hydrogen molecule under confinement: Exact results. Phys. Rev. A 49, 1709–1713. https://doi.org/10.1103/PhysRevA.49.1709 <a id='bib_pang_hydrogen_1994'></a>\n",
    "\n",
    "[11] Yang, Z.-Y., Hou, J.-X., 2019. Calculating the ground state energy of hydrogen molecules and helium hydride ions using Bohr’s quantum theory. Eur. J. Phys. 40, 065405. https://doi.org/10.1088/1361-6404/ab32ce <a id='bib_yang_calculating_2019'></a>\n",
    "\n",
    "[12] Cervia, Michael J., A. B. Balantekin, S. N. Coppersmith, Calvin W. Johnson, Peter J. Love, C. Poole, K. Robbins, y M. Saffman. «Lipkin Model on a Quantum Computer». Physical Review C 104, n.º 2 (3 de agosto de 2021): 024305. https://doi.org/10.1103/PhysRevC.104.024305. <a id='bib_cervia_lipkin_2021'></a>\n",
    "\n",
    "[13] Grimsley, Harper R., Sophia E. Economou, Edwin Barnes, y Nicholas J. Mayhall. «An Adaptive Variational Algorithm for Exact Molecular Simulations on a Quantum Computer». Nature Communications 10, n.º 1 (8 de julio de 2019): 3007. https://doi.org/10.1038/s41467-019-10988-2. <a id='bib_grimsley_adaptive_2019'></a>\n",
    "\n",
    "[14] Romero, A. M., J. Engel, Ho Lun Tang, y Sophia E. Economou. «Solving Nuclear Structure Problems with the Adaptive Variational Quantum Algorithm». Physical Review C 105, n.º 6 (27 de junio de 2022): 064317. https://doi.org/10.1103/PhysRevC.105.064317. <a id='bib_romero_solving_2022'></a>"
   ]
  },
  {
   "cell_type": "markdown",
   "id": "7a3a81d2",
   "metadata": {},
   "source": [
    "This work has been financially supported by the Ministry for Digital Transformation and of Civil Service of the Spanish Government through the QUANTUM ENIA project call - Quantum Spain project, and by the European Union through the Recovery, Transformation and Resilience Plan - NextGenerationEU within the framework of the Digital Spain 2026 Agenda.\n",
    "\n",
    "<center>\n",
    "<img align=\"left\" src=\"https://quantumspain-project.es/wp-content/uploads/2024/02/Banner-QS_GOB_v2.png\" width=\"1000px\" />\n",
    "</center>"
   ]
  }
 ],
 "metadata": {
  "celltoolbar": "Tags",
  "kernelspec": {
   "display_name": "Python 3 (ipykernel)",
   "language": "python",
   "name": "python3"
  },
  "language_info": {
   "codemirror_mode": {
    "name": "ipython",
    "version": 3
   },
   "file_extension": ".py",
   "mimetype": "text/x-python",
   "name": "python",
   "nbconvert_exporter": "python",
   "pygments_lexer": "ipython3",
   "version": "3.8.18"
  },
  "toc": {
   "base_numbering": 1,
   "nav_menu": {},
   "number_sections": false,
   "sideBar": true,
   "skip_h1_title": true,
   "title_cell": "Table of Contents",
   "title_sidebar": "Contents",
   "toc_cell": false,
   "toc_position": {},
   "toc_section_display": true,
   "toc_window_display": false
  },
  "vscode": {
   "interpreter": {
    "hash": "9ceb105841182fb6279c9286d3cac6f256262ba5358230452797534895d46c7b"
   }
  }
 },
 "nbformat": 4,
 "nbformat_minor": 5
}
