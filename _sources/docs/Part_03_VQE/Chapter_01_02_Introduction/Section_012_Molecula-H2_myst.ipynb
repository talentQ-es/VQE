{
 "cells": [
  {
   "cell_type": "markdown",
   "id": "0ec3d300",
   "metadata": {
    "slideshow": {
     "slide_type": "-"
    },
    "tags": []
   },
   "source": [
    "> May 06, 2024 | {sub-ref}`wordcount-minutes` min read\n",
    "\n",
    "\n"
   ]
  },
  {
   "cell_type": "markdown",
   "id": "1e984205-09cf-4502-8a34-200f4a180fff",
   "metadata": {},
   "source": [
    "(sec_La_Molécula_de_H2)= \n",
    "# La molécula de $\\text{H}_2$"
   ]
  },
  {
   "cell_type": "code",
   "execution_count": 1,
   "id": "8dd6c9c3",
   "metadata": {
    "scrolled": true,
    "slideshow": {
     "slide_type": ""
    },
    "tags": [
     "hide-input",
     "remove-output"
    ]
   },
   "outputs": [
    {
     "name": "stderr",
     "output_type": "stream",
     "text": [
      "/tmp/ipykernel_56655/2196755265.py:19: DeprecationWarning: ``qiskit.algorithms`` has been migrated to an independent package: https://github.com/qiskit-community/qiskit-algorithms. The ``qiskit.algorithms`` import path is deprecated as of qiskit-terra 0.25.0 and will be removed no earlier than 3 months after the release date. Please run ``pip install qiskit_algorithms`` and use ``import qiskit_algorithms`` instead.\n",
      "  from qiskit.algorithms.optimizers import COBYLA, SPSA, POWELL\n",
      "[Qibo 0.1.12.dev0|INFO|2024-04-18 11:14:55]: Using numpy backend on /CPU:0\n"
     ]
    }
   ],
   "source": [
    "# Librerías generales\n",
    "import numpy as np\n",
    "from collections import defaultdict\n",
    "from functools import reduce\n",
    "from itertools import product\n",
    "import random\n",
    "import scipy\n",
    "import matplotlib.pyplot as plt\n",
    "\n",
    "# Librerías Qibo\n",
    "import qibo\n",
    "from qibo import models, gates, hamiltonians\n",
    "from qibo import matrices as m\n",
    "\n",
    "# Librerías Qiskit\n",
    "import qiskit\n",
    "from qiskit import IBMQ, QuantumCircuit, QuantumRegister, ClassicalRegister, Aer, execute, transpile\n",
    "from qiskit.visualization import plot_bloch_multivector\n",
    "from qiskit.algorithms.optimizers import COBYLA, SPSA, POWELL\n",
    "from qiskit.primitives import Estimator\n",
    "from qiskit.algorithms.minimum_eigensolvers import VQE\n",
    "from qiskit.utils import QuantumInstance, algorithm_globals\n",
    "from qiskit.opflow import X, Z, I, Y\n",
    "from qiskit.circuit.library import TwoLocal\n",
    "from qiskit.tools.parallel import parallel_map\n",
    "\n",
    "random.seed()\n",
    "\n",
    "qibo.set_backend(\"numpy\")\n",
    "\n",
    "%matplotlib inline"
   ]
  },
  {
   "cell_type": "markdown",
   "id": "0c730d4a",
   "metadata": {},
   "source": [
    "El algoritmo VQE se propuso originalmente para obtener el estado de mínima energía de moléculas complicadas a partir de su Hamiltoniano {cite}`bib_peruzzo_variational_2014`. Por este motivo, gran parte de su historia y sus aplicaciones se han desarrollado y estudiado dentro del ámbito de la química computacional. También por este motivo, muchas librerías y lenguajes de programación orientados a utilizar computadores cuánticos tienen integradas multitud de funciones y características para trabajar con moléculas.\n",
    "\n",
    "\n",
    "Por ejemplo, Google tiene su librería de computación cuántica [```openfermion```](https://quantumai.google/openfermion), mientras que Qiskit tiene, en su módulo ```qiskit_nature```, un método para construir moléculas utilizando PYSCF."
   ]
  },
  {
   "cell_type": "markdown",
   "metadata": {},
   "source": [
    ":::::{tab-set}\n",
    "::::{tab-item} Qibo\n",
    "```python\n",
    "",
    "\n",
    "from openfermion import MolecularData\n",
    "from openfermionpyscf import run_pyscf\n",
    "from openfermion import jordan_wigner, count_qubits\n",
    "\n",
    "# NOTA: Haciendo este código me ha salido un error interno de las librerías de pyscf.\n",
    "# Este error alega que no existe un módulo llamado openfermion.chem\n",
    "# Esto puede deberse a que la versión de openfermion esté en una versión no compatible.\n",
    "# Para solucionarlo, basta con ir al script de la función de pyscf y cambiar el comando\n",
    "# from openfermion.chem import *\n",
    "#   por\n",
    "# from openfermion import *\n",
    "```\n",
    "::::\n",
    "::::{tab-item} Qiskit\n",
    "```python\n",
    "",
    "\n",
    "import qiskit_nature\n",
    "from qiskit_nature.units import DistanceUnit\n",
    "from qiskit_nature.second_q.drivers import PySCFDriver\n",
    "from qiskit_nature.second_q.algorithms import GroundStateEigensolver\n",
    "from qiskit_nature.second_q.circuit.library import UCCSD\n",
    "from qiskit_nature.second_q.mappers import JordanWignerMapper, QubitMapper\n",
    "```\n",
    "::::\n",
    ":::::\n"
   ]
  },
  {
   "cell_type": "code",
   "execution_count": 2,
   "id": "4827d209",
   "metadata": {
    "slideshow": {
     "slide_type": ""
    },
    "tags": []
   },
   "outputs": [],
   "metadata": {
    "tags": [
     "remove_input"
    ]
   },
   "source": [
    "'''Qibo_code_cell'''\n",
    "\n",
    "from openfermion import MolecularData\n",
    "from openfermionpyscf import run_pyscf\n",
    "from openfermion import jordan_wigner, count_qubits\n",
    "\n",
    "# NOTA: Haciendo este código me ha salido un error interno de las librerías de pyscf.\n",
    "# Este error alega que no existe un módulo llamado openfermion.chem\n",
    "# Esto puede deberse a que la versión de openfermion esté en una versión no compatible.\n",
    "# Para solucionarlo, basta con ir al script de la función de pyscf y cambiar el comando\n",
    "# from openfermion.chem import *\n",
    "#   por\n",
    "# from openfermion import *"
   ]
  },
  {
   "cell_type": "markdown",
   "id": "a4a55688",
   "metadata": {},
   "source": [
    "Este módulo nos permite, entre otras cosas, fabricar diferentes moléculas, especificando los diferentes átomos que la componen, la base de funciones de la función de onda del electrón, la carga y la multiplicidad de la molécula."
   ]
  },
  {
   "cell_type": "markdown",
   "id": "72a85177",
   "metadata": {},
   "source": [
    "De todas las posibles moléculas que podríamos tratar, la más sencilla es la de $\\text{H}_2$: el átomo de Hidrógeno es el más pequeño y simple, presenta un único enlace y solo tiene dos electrones.\n",
    "\n",
    "\n",
    "Aun así, al contrario que el Modelo de Ising, la molécula de Hidrógeno presenta un problema: no es resoluble analíticamente. En su lugar, el \"valor teórico\" de su energía fundamental es realmente el resultado de simulaciones y experimentos, en ocasiones dando resultados en forma de operaciones infinitas que hay que truncar en alguna parte. \n",
    "\n",
    "\n",
    "Así, por ejemplo, en {cite}`bib_pang_hydrogen_1994` se presenta un resultado de $-1.1746(5) E_h$ a partir de simulaciones de Monte Carlo, mientras que en {cite}`bib_yang_calculating_2019` obtienen un resultado comprendido entre $-1.2241 E_h$ y $-1.0999 E_h$ empleando el modelo de Bohr."
   ]
  },
  {
   "cell_type": "markdown",
   "metadata": {},
   "source": [
    ":::::{tab-set}\n",
    "::::{tab-item} Qibo\n",
    "```python\n",
    "",
    "\n",
    "# Creamos la molécula con los parámetros requeridos\n",
    "\n",
    "# Parámetros moleculares\n",
    "bond_length = 1.40104295\n",
    "multiplicity = 1    # Dependiendo del tipo de molécula, el spin queda determinado por la multiplicidad. Si lo detecta como incompatible, dará error.\n",
    "basis = 'sto-3g'\n",
    "charge = 0\n",
    "\n",
    "# Especificamos los elementos y su disposición geométrica\n",
    "geometry = [('H', (0., 0., 0.)), ('H', (0., 0., bond_length))]\n",
    "\n",
    "# Parámetros del cálculo. En nuestro caso especificamos solo run_scf porque nos basta con haber hecho solo Hartree-Fock.\n",
    "run_scf = 1\n",
    "run_mp2 = 0\n",
    "run_cisd = 0\n",
    "run_ccsd = 0\n",
    "run_fci = 0\n",
    "delete_input = True\n",
    "delete_output = True\n",
    "\n",
    "# Inicializamos la estructura molecular\n",
    "molecule = MolecularData(geometry, basis, multiplicity,\n",
    "                         charge, description=str(bond_length))\n",
    "\n",
    "# Calculamos sus integrales\n",
    "molecule = run_pyscf(molecule,\n",
    "                        run_scf=run_scf,\n",
    "                        run_mp2=run_mp2,\n",
    "                        run_cisd=run_cisd,\n",
    "                        run_ccsd=run_ccsd,\n",
    "                        run_fci=run_fci)\n",
    "\n\n",
    "```\n",
    "::::\n",
    "::::{tab-item} Qiskit\n",
    "```python\n",
    "",
    "\n",
    "driver = PySCFDriver(\n",
    "    atom=\"H 0 0 0; H 0 0 0.741\",\n",
    "    basis=\"sto3g\",\n",
    "    charge=0,\n",
    "    spin=0,\n",
    "    unit=DistanceUnit.ANGSTROM,\n",
    "    # El método de aproximación por defecto es Hartree-Fock: method=MethodType.RHF\n",
    ")\n",
    "\n",
    "es_problem = driver.run()\n",
    "```\n",
    "::::\n",
    ":::::\n"
   ]
  },
  {
   "cell_type": "code",
   "execution_count": 3,
   "id": "cc261428",
   "metadata": {
    "slideshow": {
     "slide_type": ""
    },
    "tags": []
   },
   "outputs": [],
   "metadata": {
    "tags": [
     "remove_input"
    ]
   },
   "source": [
    "'''Qibo_code_cell'''\n",
    "\n",
    "# Creamos la molécula con los parámetros requeridos\n",
    "\n",
    "# Parámetros moleculares\n",
    "bond_length = 1.40104295\n",
    "multiplicity = 1    # Dependiendo del tipo de molécula, el spin queda determinado por la multiplicidad. Si lo detecta como incompatible, dará error.\n",
    "basis = 'sto-3g'\n",
    "charge = 0\n",
    "\n",
    "# Especificamos los elementos y su disposición geométrica\n",
    "geometry = [('H', (0., 0., 0.)), ('H', (0., 0., bond_length))]\n",
    "\n",
    "# Parámetros del cálculo. En nuestro caso especificamos solo run_scf porque nos basta con haber hecho solo Hartree-Fock.\n",
    "run_scf = 1\n",
    "run_mp2 = 0\n",
    "run_cisd = 0\n",
    "run_ccsd = 0\n",
    "run_fci = 0\n",
    "delete_input = True\n",
    "delete_output = True\n",
    "\n",
    "# Inicializamos la estructura molecular\n",
    "molecule = MolecularData(geometry, basis, multiplicity,\n",
    "                         charge, description=str(bond_length))\n",
    "\n",
    "# Calculamos sus integrales\n",
    "molecule = run_pyscf(molecule,\n",
    "                        run_scf=run_scf,\n",
    "                        run_mp2=run_mp2,\n",
    "                        run_cisd=run_cisd,\n",
    "                        run_ccsd=run_ccsd,\n",
    "                        run_fci=run_fci)\n",
    "\n"
   ]
  },
  {
   "cell_type": "markdown",
   "id": "eeede440",
   "metadata": {},
   "source": [
    "Mientras que Qiskit puede generar el Hamiltoniano de la molécula con sus propias funciones, con Qibo necesitamos fabricar una función que nos convierta el problema molecular en uno legible por un circuito cuántico."
   ]
  },
  {
   "cell_type": "markdown",
   "metadata": {},
   "source": [
    ":::::{tab-set}\n",
    "::::{tab-item} Qibo\n",
    "```python\n",
    "",
    "\n",
    "def qibo_mol_H(molecule):\n",
    "\n",
    "    # molecule es una estructura molecular de OpenFermion\n",
    "    # devuelve un Hamiltoniano en términos de Qibo\n",
    "\n",
    "    # Obtenemos el Hamiltoniano molecular de nuestra molécula fabricada con OpenFermion\n",
    "    H = molecule.get_molecular_hamiltonian()\n",
    "\n",
    "    # Nos aseguramos de que el término constante está bien definido\n",
    "    if H.constant is None: H.constant = 0\n",
    "\n",
    "    # Hacemos la transformación de Jordan Wigner\n",
    "    JW = jordan_wigner(H)\n",
    "    dim = count_qubits(JW)\n",
    "\n",
    "    # Inicializamos el operador con el término constante\n",
    "    operator = JW.constant * reduce(np.kron, [m.I]*dim)  \n",
    "\n",
    "    # Recorremos los términos del operador de Jordan-Wigner\n",
    "    for index in JW.terms.keys():\n",
    "        if index == ():\n",
    "            continue # Omitimos el término constante, ya que hemos inicializado con él\n",
    "\n",
    "        # Definimos una lista auxiliar de operadores identidad del tamaño del sistema\n",
    "        lis = [m.I]*dim\n",
    "\n",
    "        # Reemplazamos en nuestra lista los operadores en la posición en la que indica el término de JW\n",
    "        for tag in index:\n",
    "            if tag[1] == 'X': lis[tag[0]] = m.X\n",
    "            elif tag[1] == 'Y': lis[tag[0]] = m.Y\n",
    "            elif tag[1] == 'Z': lis[tag[0]] = m.Z\n",
    "\n",
    "        # Sumamos el término JW a nuestro operador matricial\n",
    "        operator += JW.terms[index] * reduce(np.kron, lis)\n",
    "\n",
    "    return hamiltonians.Hamiltonian(dim, operator), dim, operator\n",
    "```\n",
    "::::\n",
    "::::{tab-item} Qiskit\n",
    "```python\n",
    "",
    "\n",
    "converter = JordanWignerMapper()\n",
    "```\n",
    "::::\n",
    ":::::\n"
   ]
  },
  {
   "cell_type": "code",
   "execution_count": 4,
   "id": "b2704f9f",
   "metadata": {
    "slideshow": {
     "slide_type": ""
    },
    "tags": []
   },
   "outputs": [],
   "metadata": {
    "tags": [
     "remove_input"
    ]
   },
   "source": [
    "'''Qibo_code_cell'''\n",
    "\n",
    "def qibo_mol_H(molecule):\n",
    "\n",
    "    # molecule es una estructura molecular de OpenFermion\n",
    "    # devuelve un Hamiltoniano en términos de Qibo\n",
    "\n",
    "    # Obtenemos el Hamiltoniano molecular de nuestra molécula fabricada con OpenFermion\n",
    "    H = molecule.get_molecular_hamiltonian()\n",
    "\n",
    "    # Nos aseguramos de que el término constante está bien definido\n",
    "    if H.constant is None: H.constant = 0\n",
    "\n",
    "    # Hacemos la transformación de Jordan Wigner\n",
    "    JW = jordan_wigner(H)\n",
    "    dim = count_qubits(JW)\n",
    "\n",
    "    # Inicializamos el operador con el término constante\n",
    "    operator = JW.constant * reduce(np.kron, [m.I]*dim)  \n",
    "\n",
    "    # Recorremos los términos del operador de Jordan-Wigner\n",
    "    for index in JW.terms.keys():\n",
    "        if index == ():\n",
    "            continue # Omitimos el término constante, ya que hemos inicializado con él\n",
    "\n",
    "        # Definimos una lista auxiliar de operadores identidad del tamaño del sistema\n",
    "        lis = [m.I]*dim\n",
    "\n",
    "        # Reemplazamos en nuestra lista los operadores en la posición en la que indica el término de JW\n",
    "        for tag in index:\n",
    "            if tag[1] == 'X': lis[tag[0]] = m.X\n",
    "            elif tag[1] == 'Y': lis[tag[0]] = m.Y\n",
    "            elif tag[1] == 'Z': lis[tag[0]] = m.Z\n",
    "\n",
    "        # Sumamos el término JW a nuestro operador matricial\n",
    "        operator += JW.terms[index] * reduce(np.kron, lis)\n",
    "\n",
    "    return hamiltonians.Hamiltonian(dim, operator), dim, operator"
   ]
  },
  {
   "cell_type": "markdown",
   "id": "a44fd645",
   "metadata": {},
   "source": [
    "Y, una vez tenemos el Hamiltoniano, podemos implementar el algoritmo VQE igual que hicimos antes:"
   ]
  },
  {
   "cell_type": "markdown",
   "metadata": {},
   "source": [
    ":::::{tab-set}\n",
    "::::{tab-item} Qibo\n",
    "```python\n",
    "",
    "\n",
    "# Ahora creamos un circuito variacional de ansatz\n",
    "# En este caso usamos un circuito de puertas RY(theta) y CZ, haciendo los diferentes valores de theta aleatorios\n",
    "\n",
    "op_H, n, mat = qibo_mol_H(molecule)\n",
    "\n",
    "nqubits = n\n",
    "nlayers  = 8\n",
    "\n",
    "circuit = models.Circuit(nqubits)\n",
    "\n",
    "for l in range(nlayers):\n",
    "    circuit.add((gates.RY(q, theta=0) for q in range(nqubits)))\n",
    "    circuit.add((gates.CZ(q, q+1) for q in range(0, nqubits-1, 2)))\n",
    "    circuit.add((gates.RY(q, theta=0) for q in range(nqubits)))\n",
    "    circuit.add((gates.CZ(q, q+1) for q in range(1, nqubits-2, 2)))\n",
    "    circuit.add(gates.CZ(0, nqubits-1))\n",
    "    \n",
    "circuit.add((gates.RY(q, theta=0) for q in range(nqubits)))\n",
    "```\n",
    "::::\n",
    "::::{tab-item} Qiskit\n",
    "```python\n",
    "",
    "\n",
    "tl_circuit = TwoLocal(\n",
    "    rotation_blocks=[\"h\", \"rx\"],\n",
    "    entanglement_blocks=\"cz\",\n",
    "    entanglement=\"full\",\n",
    "    reps=2,\n",
    "    parameter_prefix=\"y\",\n",
    ")\n",
    "```\n",
    "::::\n",
    ":::::\n"
   ]
  },
  {
   "cell_type": "code",
   "execution_count": 5,
   "id": "7d21c007",
   "metadata": {
    "slideshow": {
     "slide_type": ""
    },
    "tags": []
   },
   "outputs": [],
   "metadata": {
    "tags": [
     "remove_input"
    ]
   },
   "source": [
    "'''Qibo_code_cell'''\n",
    "\n",
    "# Ahora creamos un circuito variacional de ansatz\n",
    "# En este caso usamos un circuito de puertas RY(theta) y CZ, haciendo los diferentes valores de theta aleatorios\n",
    "\n",
    "op_H, n, mat = qibo_mol_H(molecule)\n",
    "\n",
    "nqubits = n\n",
    "nlayers  = 8\n",
    "\n",
    "circuit = models.Circuit(nqubits)\n",
    "\n",
    "for l in range(nlayers):\n",
    "    circuit.add((gates.RY(q, theta=0) for q in range(nqubits)))\n",
    "    circuit.add((gates.CZ(q, q+1) for q in range(0, nqubits-1, 2)))\n",
    "    circuit.add((gates.RY(q, theta=0) for q in range(nqubits)))\n",
    "    circuit.add((gates.CZ(q, q+1) for q in range(1, nqubits-2, 2)))\n",
    "    circuit.add(gates.CZ(0, nqubits-1))\n",
    "    \n",
    "circuit.add((gates.RY(q, theta=0) for q in range(nqubits)))"
   ]
  },
  {
   "cell_type": "markdown",
   "id": "d03d3844",
   "metadata": {},
   "source": [
    "Utilizamos, de nuevo, el algoritmo de optimización de Powell."
   ]
  },
  {
   "cell_type": "markdown",
   "id": "a60790df-13b7-4f1d-8a5b-32203695cbda",
   "metadata": {},
   "source": [
    "::::::{admonition} Nota (Eficiencia en la optimización) \n",
    ":class: note\n",
    "\n",
    "\n",
    "    \n",
    "El algoritmo de Powell que estamos empleando es considerablemente más eficiente que el resto de algoritmos que hemos probado para este problema específicamente. No obstante, su funcionamiento da lugar a unas gráficas de convergencia que no son particularmente ilustrativas. Si se quiere ver una gráfica en la que realmente se aprecie la convergencia del algoritmo, se puede probar a utilizar el algoritmo COBYLA. No obstante, la ejecución del código tardará un tiempo considerable (del orden de 20 minutos).\n",
    "\n",
    "::::::\n"
   ]
  },
  {
   "cell_type": "markdown",
   "metadata": {},
   "source": [
    ":::::{tab-set}\n",
    "::::{tab-item} Qibo\n",
    "```python\n",
    "",
    "\n",
    "# Optimizador\n",
    "# opt = 'COBYLA'\n",
    "opt = 'Powell'\n",
    "```\n",
    "::::\n",
    "::::{tab-item} Qiskit\n",
    "```python\n",
    "",
    "\n",
    "# Optimizador\n",
    "# opt = COBYLA(maxiter=1000)\n",
    "opt = POWELL()\n",
    "```\n",
    "::::\n",
    ":::::\n"
   ]
  },
  {
   "cell_type": "code",
   "execution_count": 6,
   "id": "b77761c1",
   "metadata": {
    "slideshow": {
     "slide_type": ""
    },
    "tags": []
   },
   "outputs": [],
   "metadata": {
    "tags": [
     "remove_input"
    ]
   },
   "source": [
    "'''Qibo_code_cell'''\n",
    "\n",
    "# Optimizador\n",
    "# opt = 'COBYLA'\n",
    "opt = 'Powell'"
   ]
  },
  {
   "cell_type": "markdown",
   "id": "142e1df3-b962-407e-96c3-7f19d3578672",
   "metadata": {},
   "source": [
    "De nuevo necesitamos funciones de callback"
   ]
  },
  {
   "cell_type": "markdown",
   "metadata": {},
   "source": [
    ":::::{tab-set}\n",
    "::::{tab-item} Qibo\n",
    "```python\n",
    "",
    "\n",
    "# Esto son funciones auxiliares para guardar los datos de las iteraciones\n",
    "\n",
    "intermediate_info = {\n",
    "    'parameters': [],\n",
    "    'energy': [],\n",
    "    #'stddev': []\n",
    "}\n",
    "\n",
    "def callback(p):\n",
    "    intermediate_info['parameters'].append(p)\n",
    "    \n",
    "    energy, _, _ = vqe.minimize(p, callback = None, method=opt, options = None, compile=False)\n",
    "    \n",
    "    intermediate_info['energy'].append(energy)\n",
    "    \n",
    "    #intermediate_info['stddev'].append(stddev)\n",
    "```\n",
    "::::\n",
    "::::{tab-item} Qiskit\n",
    "```python\n",
    "",
    "\n",
    "# Esto son funciones auxiliares para guardar los datos de las iteraciones\n",
    "\n",
    "intermediate_info = {\n",
    "    'parameters': [],\n",
    "    'energy': [],\n",
    "    #'stddev': []\n",
    "}\n",
    "\n",
    "def callback(eval_count, parameters, mean, std):\n",
    "   intermediate_info['parameters'].append(parameters)\n",
    "   intermediate_info['energy'].append(mean)\n",
    "```\n",
    "::::\n",
    ":::::\n"
   ]
  },
  {
   "cell_type": "code",
   "execution_count": 7,
   "id": "f57dff3f",
   "metadata": {
    "slideshow": {
     "slide_type": ""
    },
    "tags": []
   },
   "outputs": [],
   "metadata": {
    "tags": [
     "remove_input"
    ]
   },
   "source": [
    "'''Qibo_code_cell'''\n",
    "\n",
    "# Esto son funciones auxiliares para guardar los datos de las iteraciones\n",
    "\n",
    "intermediate_info = {\n",
    "    'parameters': [],\n",
    "    'energy': [],\n",
    "    #'stddev': []\n",
    "}\n",
    "\n",
    "def callback(p):\n",
    "    intermediate_info['parameters'].append(p)\n",
    "    \n",
    "    energy, _, _ = vqe.minimize(p, callback = None, method=opt, options = None, compile=False)\n",
    "    \n",
    "    intermediate_info['energy'].append(energy)\n",
    "    \n",
    "    #intermediate_info['stddev'].append(stddev)"
   ]
  },
  {
   "cell_type": "markdown",
   "metadata": {},
   "source": [
    ":::::{tab-set}\n",
    "::::{tab-item} Qibo\n",
    "```python\n",
    "",
    "\n",
    "# Parámetros del Ansatz\n",
    "initial_parameters = np.random.uniform(-2*np.pi, 2*np.pi, 2*nqubits*nlayers + nqubits)\n",
    "\n",
    "# Construcción del método VQE\n",
    "vqe = models.VQE(circuit, op_H)\n",
    "options = {'disp': True, 'return_all': True}\n",
    "\n",
    "# Y ejecutamos el algoritmo\n",
    "best, params, extra = vqe.minimize(initial_parameters, callback = callback, method=opt, options = options, compile=False)\n",
    "```\n",
    "::::\n",
    "::::{tab-item} Qiskit\n",
    "```python\n",
    "",
    "\n",
    "# Y ejecutamos el algoritmo\n",
    "vqe_solver = VQE(Estimator(), tl_circuit, opt, callback=callback)\n",
    "\n",
    "calc = GroundStateEigensolver(converter, vqe_solver)\n",
    "\n",
    "res = calc.solve(es_problem)\n",
    "best = res.total_energies\n",
    "```\n",
    "::::\n",
    ":::::\n"
   ]
  },
  {
   "cell_type": "code",
   "execution_count": 8,
   "id": "a6ae0337",
   "metadata": {
    "slideshow": {
     "slide_type": ""
    },
    "tags": [
     "remove-output"
    ]
   },
   "outputs": [
    {
     "name": "stdout",
     "output_type": "stream",
     "text": [
      "Optimization terminated successfully.\n",
      "         Current function value: -1.015272\n",
      "         Iterations: 6\n",
      "         Function evaluations: 3698\n"
     ]
    }
   ],
   "metadata": {
    "tags": [
     "remove_input"
    ]
   },
   "source": [
    "'''Qibo_code_cell'''\n",
    "\n",
    "# Parámetros del Ansatz\n",
    "initial_parameters = np.random.uniform(-2*np.pi, 2*np.pi, 2*nqubits*nlayers + nqubits)\n",
    "\n",
    "# Construcción del método VQE\n",
    "vqe = models.VQE(circuit, op_H)\n",
    "options = {'disp': True, 'return_all': True}\n",
    "\n",
    "# Y ejecutamos el algoritmo\n",
    "best, params, extra = vqe.minimize(initial_parameters, callback = callback, method=opt, options = options, compile=False)"
   ]
  },
  {
   "cell_type": "code",
   "execution_count": 9,
   "id": "4dfc9434-9fe1-481a-b4d2-41feee10966d",
   "metadata": {
    "slideshow": {
     "slide_type": ""
    },
    "tags": []
   },
   "outputs": [
    {
     "name": "stdout",
     "output_type": "stream",
     "text": [
      "E_G = -1.0152716812248899\n"
     ]
    }
   ],
   "source": [
    "# Vemos el valor al que convergemos\n",
    "print('E_G =',best)"
   ]
  },
  {
   "cell_type": "code",
   "execution_count": 10,
   "id": "0c12d017",
   "metadata": {
    "slideshow": {
     "slide_type": ""
    },
    "tags": []
   },
   "outputs": [
    {
     "data": {
      "image/png": "[encoded data removed]",
      "text/plain": [
       "<Figure size 1500x700 with 1 Axes>"
      ]
     },
     "metadata": {},
     "output_type": "display_data"
    }
   ],
   "source": [
    "# Con la información de las iteraciones podemos dibujar la convergencia de nuestro código\n",
    "\n",
    "sim_values = intermediate_info['energy']\n",
    "fontsize = 15\n",
    "\n",
    "plt.rcParams['figure.figsize'] = (15, 7)\n",
    "plt.plot(range(len(sim_values)), sim_values, label=\"Energy value\", color='red')\n",
    "plt.xticks(fontsize = fontsize)\n",
    "plt.yticks(fontsize = fontsize)\n",
    "plt.xlabel('Steps', fontsize = fontsize)\n",
    "plt.ylabel('Energy', fontsize = fontsize)\n",
    "plt.title('Energy convergence for Powell optimizer', fontsize = fontsize)\n",
    "plt.legend(loc='upper right', fontsize = fontsize);\n",
    "plt.show()"
   ]
  },
  {
   "cell_type": "markdown",
   "id": "df7f3d47",
   "metadata": {
    "slideshow": {
     "slide_type": ""
    },
    "tags": []
   },
   "source": [
    "Para este caso concreto es importante destacar que el problema que hemos resuelto es la diagonalización del Hamiltoniano de Hartree-Fock de la molécula.\n",
    "\n",
    "\n",
    "Existen otros modelos de *ansatz* (como los *ansätze* UCC) que, antes que hacer la diagonalización, operan sobre el circuito introduciendo términos y consideraciones nuevas, como correcciones relativistas o correlación electrónica, y después obtienen la energía fundamental, de forma que la resolución del problema tiene en cuenta efectos más difíciles de simular con computadores clásicos."
   ]
  },
  {
   "cell_type": "markdown",
   "id": "01ab8651",
   "metadata": {},
   "source": [
    "---\n",
    "## Bibliografía \n",
    "```{bibliography} \n",
    ":style: plain\n",
    ":filter: docname in docnames\n",
    "```",
    "",
    "",
    "",
    "",
    "",
    "",
    ""
   ]
  },
  {
   "cell_type": "markdown",
   "id": "7a3a81d2",
   "metadata": {},
   "source": [
    "---\n",
    "Authors:\n",
    "\n",
    "Irais Bautista ([CESGA](http://www.cesga.es)), Sergio Martínez ([BIFi-UNIZAR](https://bifi.es/es/)), Jaime Scharfhausen ([UAM](https://www.uam.es/uam/inicio)) y Alejandro Jaramillo ([CSUC](https://www.csuc.cat/es))\n",
    "\n",
    "<img src=\"https://quantumspain-project.es/wp-content/uploads/2022/11/CESGA.png\" width=\"150px\">\n",
    "<img src=\"http://bifi.es/wp-content/uploads/2016/11/logo_vectorial-web.png\" width=\"200px\">\n",
    "<img src=\"https://www.iib.uam.es/iiblf6theme-theme/images/custom/logo-uam.png\" width = \"200px\">\n",
    "<img src=\"https://www.csuc.cat/sites/default/files/2021-02/CSUC_logo_corporatiu_0.png\" width = \"200px\">\n",
    "\n",
    "\n",
    "---\n",
    "::::{figure} https://quantumspain-project.es/wp-content/uploads/2022/11/Logo_QS_EspanaDigital.png\n",
    ":width: 2000px\n",
    ":align: center\n",
    "::::\n",
    "\n",
    "<center>\n",
    "<a rel=\"license\" href=\"http://creativecommons.org/licenses/by-sa/4.0/\">\n",
    "<img aling=\"left\" alt=\"Licencia Creative Commons\" style=\"border-width:0\" src=\"https://i.creativecommons.org/l/by-sa/4.0/88x31.png\" /></a>\n",
    "</center>\n",
    "\n",
    "License: <a rel=\"license\" href=\"http://creativecommons.org/licenses/by-sa/4.0/\">Licencia Creative Commons Atribución-CompartirIgual 4.0 Internacional</a>.\n",
    "\n",
    "This work has been financially supported by the Ministry for Digital Transformation and of Civil Service of the Spanish Government through the QUANTUM ENIA project call - Quantum Spain project, and by the European Union through the Recovery, Transformation and Resilience Plan - NextGenerationEU within the framework of the Digital Spain 2026 Agenda.\n",
    "\n",
    "<center>\n",
    "<img align=\"left\" src=\"https://quantumspain-project.es/wp-content/uploads/2024/02/Banner-QS_GOB_v2.png\" width=\"1000px\" />\n",
    "</center>"
   ]
  }
 ],
 "metadata": {
  "celltoolbar": "Tags",
  "kernelspec": {
   "display_name": "Python 3 (ipykernel)",
   "language": "python",
   "name": "python3"
  },
  "language_info": {
   "codemirror_mode": {
    "name": "ipython",
    "version": 3
   },
   "file_extension": ".py",
   "mimetype": "text/x-python",
   "name": "python",
   "nbconvert_exporter": "python",
   "pygments_lexer": "ipython3",
   "version": "3.11.7"
  },
  "toc": {
   "base_numbering": 1,
   "nav_menu": {},
   "number_sections": false,
   "sideBar": true,
   "skip_h1_title": true,
   "title_cell": "Table of Contents",
   "title_sidebar": "Contents",
   "toc_cell": false,
   "toc_position": {},
   "toc_section_display": true,
   "toc_window_display": false
  },
  "vscode": {
   "interpreter": {
    "hash": "9ceb105841182fb6279c9286d3cac6f256262ba5358230452797534895d46c7b"
   }
  }
 },
 "nbformat": 4,
 "nbformat_minor": 5
}
