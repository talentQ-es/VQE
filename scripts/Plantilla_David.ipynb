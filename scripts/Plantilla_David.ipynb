{
 "cells": [
  {
   "cell_type": "markdown",
   "id": "5d20c685",
   "metadata": {
    "slideshow": {
     "slide_type": "slide"
    }
   },
   "source": [
    "<figure><center>\n",
    "<img   src=\"https://quantumspain-project.es/wp-content/uploads/2022/11/Logo_QS_EspanaDigital.png\" align=center  width=\"2000px\"/>\n",
    "</center></figure>\n",
    "\n",
    "<a id='Notebook_Date'></a> Created: 2024/02/07\n",
    "\n",
    "<center>\n",
    "<a rel=\"license\" href=\"http://creativecommons.org/licenses/by-sa/4.0/\">\n",
    "<img aling=\"left\" alt=\"Licencia Creative Commons\" style=\"border-width:0\" src=\"https://i.creativecommons.org/l/by-sa/4.0/88x31.png\" /></a>\n",
    "</center>\n",
    "\n",
    "License: <a rel=\"license\" href=\"http://creativecommons.org/licenses/by-sa/4.0/\">Licencia Creative Commons Atribución-CompartirIgual 4.0 Internacional</a>.\n",
    "\n",
    "Internal Reviewers: \n",
    "* Andrés Gómez Tato ([CESGA](http://www.cesga.es))\n",
    "* ...\n",
    "\n",
    "Authors:\n",
    "* David Castaño ([Scbi-UMA](https://www.scbi.uma.es/site/))\n",
    "* ...\n",
    "\n",
    "$ \\newcommand{\\bra}[1]{\\langle #1|} $\n",
    "$ \\newcommand{\\ket}[1]{|#1\\rangle} $\n",
    "$ \\newcommand{\\braket}[2]{\\langle #1|#2\\rangle} $\n",
    "$ \\newcommand{\\i}{{\\color{blue} i}} $ \n",
    "$ \\newcommand{\\Hil}{{\\cal H}} $\n",
    "$ \\newcommand{\\cg}[1]{{\\rm C}#1} $"
   ]
  },
  {
   "cell_type": "markdown",
   "id": "c3081eb5",
   "metadata": {
    "slideshow": {
     "slide_type": "slide"
    }
   },
   "source": [
    "<a id='sec_Titulo_del_notebook'></a>\n",
    "# Titulo del Notebook"
   ]
  },
  {
   "cell_type": "markdown",
   "id": "5ac22bb8",
   "metadata": {
    "slideshow": {
     "slide_type": "fragment"
    }
   },
   "source": [
    "<a id='sec_indice'></a>\n",
    "## Índice\n",
    "\n",
    "- **[Cosas generales](#sec_cosas_generales)**\n",
    "- **[Referencias a secciones.](#sec_referencias_a_secciones)**\n",
    "- **[Cuadros](#sec_cuadros)**\n",
    "- **[Figuras](#sec_figuras)**\n",
    "- **[Referencias a ecuaciones](#sec_ecuaciones)**\n",
    "- **[Bloques de código](#sec_bloques_de_codigo)**\n",
    "- **[Bibliografia](#sec_Bibliografía)**"
   ]
  },
  {
   "cell_type": "markdown",
   "id": "497b5d36",
   "metadata": {
    "slideshow": {
     "slide_type": "fragment"
    }
   },
   "source": [
    "El script buscará la celda que contenga `## Índice` y la sustituira por el código correspondiente de la web para generar el índice. De igual que pongamos en el índice, este será sustituido.\n",
    "\n",
    "Si no hay celda con `## Índice`, simplemente no se añadirá el ínidice en la web.\n",
    "\n",
    "Esto implica que la celda de índice debe de contener el texto `## Índice` (con la coma y todo) y que además este solo puede ocupar una celda (no se puede dividir el índice en varias celdas)."
   ]
  },
  {
   "cell_type": "markdown",
   "id": "490d5dc3",
   "metadata": {
    "slideshow": {
     "slide_type": "slide"
    }
   },
   "source": [
    "<a id='sec_cosas_generales'></a>\n",
    "## Cosas generales"
   ]
  },
  {
   "cell_type": "markdown",
   "id": "e90c0eb7",
   "metadata": {
    "slideshow": {
     "slide_type": "subslide"
    }
   },
   "source": [
    "Es importate que **el título del notebook sea el único título con un solo #**. El resto deben de tener dos ## o más.\n",
    "\n",
    "En la primera celda van la macros de latex\n",
    "\n",
    "No puede haber lineas **tabuladas** que tengan encima **una linea en blanco** o **una linea con solo `<br>`** (uno o varios, es lo mismo)\n",
    "\n",
    "Ninguna label puede repetirse **en ningún otro notebook**\n",
    "\n",
    "La fecha de la primera celda debe de ser de la forma: `<a id='Notebook_Date'></a>  Created: yyyy/mm/dd`.\n",
    "El script cogerá la fecha, eliminará esta línea y añadirá la fecha en otro formato"
   ]
  },
  {
   "cell_type": "markdown",
   "id": "0b774736",
   "metadata": {
    "slideshow": {
     "slide_type": "slide"
    }
   },
   "source": [
    "<a id='sec_referencias_a_secciones'></a>\n",
    "## Referencias a secciones."
   ]
  },
  {
   "cell_type": "markdown",
   "id": "ec47d021",
   "metadata": {
    "slideshow": {
     "slide_type": "subslide"
    }
   },
   "source": [
    "Si quemos referenciar secciones (para hacer un índice, referenciarlas desde otros notebook,...) hay que añadirle una label:\n",
    "\n",
    "`<a id='sec_...'></a>`\n",
    "\n",
    "Es importe que:\n",
    "- La label esté inmediatemente encima del título (sin dejar lineas en blanco)\n",
    "- La label empiece por sec_\n",
    "- Que las comillas sean simples (') no dobles (\")\n",
    "- Que **no se repita** esta label en **ningún otro notebook**. En principio, esto daría igual al abrir el notebook en Jupyter Notebook, pero al compilarlos como una web, no puede haber referencias iguales en otros notebook. Yo propongo por ejemplo que a todas las label de un notebook se les añada un patrón (despues del sec_) propio del notebook:\n",
    "`<a id='sec_PatronNotebook_label'></a>`\n",
    "\n",
    "\n",
    "Tenemos como ejemplo los propios títulos de esta platilla"
   ]
  },
  {
   "cell_type": "markdown",
   "id": "ac20158b",
   "metadata": {
    "slideshow": {
     "slide_type": "slide"
    }
   },
   "source": [
    "Para referenciar secciones, tenemos dos casos:\n",
    "- Si es una sección del propio notebook: `[Título de la sección](#sec_label_de_la_sección)`\n",
    "- Si es una sección de otro notebook: `[Título de la sección](path_relativo_al_notebook#sec_label_de_la_seccion)`\n",
    "\n",
    "Si queremos referenciar otro notebook (sin referenciar ninguna sección en concreto), tenemos dos opciones:\n",
    "- `[Título del notebook](path_relativo_al_notebook)`\n",
    "- `[Título del notebook](path_relativo_al_notebook#sec_label_del_titulo)`\n",
    "\n",
    "Es decir, podemos referencial el notebook en sí o la celda de título. \n",
    "\n",
    "Cuando estas referencias se transformen con el script, el texto entre `[]` será ignorado, apareciendo en su lugar el título de la sección que referenciemos. Por este motivo en las plantillas anteriores entre los `[]` aparece `Título de la sección`, para que el notebook original y transformado sean iguales.\n",
    "\n",
    "La única excepción es cuendo ponemos simplemente `[Título del notebook](path_relativo_al_notebook)` (sin ninguna label con #). Es este caso, se respeta el téxto entre `[]`."
   ]
  },
  {
   "cell_type": "markdown",
   "id": "859b0b1e",
   "metadata": {
    "slideshow": {
     "slide_type": "slide"
    }
   },
   "source": [
    "<a id='sec_cuadros'></a>\n",
    "## Cuadros"
   ]
  },
  {
   "cell_type": "markdown",
   "id": "2fecd1f9",
   "metadata": {
    "slideshow": {
     "slide_type": "subslide"
    }
   },
   "source": [
    "**Pueden incluirse mas** bloques p dentro de los cuadros (`<p style ....>`). Lo único que hay que tener en cuenta es que se borrará las líneas donde aparezcan `<p style ....>` y `</p>`.\n",
    "\n",
    "No pueden quedar lineas vacías. Hay que poner los br (ver ejemplos). Esto es para que el cambio de color del `<p style ....>` funcione. El `<p style ....>` debe de cerrar antes del `<details..>`, dejando ya de usar los br\n",
    "\n",
    "En realidad, a efectos de la conversión el cambio de color y los br no tiene efecto. Puede ponerse simplemente el titulo en negrita.\n",
    "    \n",
    "Sobre los subtítulos: \n",
    "- Véase que los subtitulo son opcionales. Puede borrarse todo lo que está a la derecha de los :\n",
    "- En el subtitulo se **eliminara** los parentesis (si es que los hay).\n",
    "\n",
    "No puede haber **tabuladores** antes del texto (a no ser que sean listados de cosas, como el caso anterior donde se explican los subtitulo)\n",
    "    \n"
   ]
  },
  {
   "cell_type": "markdown",
   "id": "e305b8c6",
   "metadata": {
    "slideshow": {
     "slide_type": "slide"
    }
   },
   "source": [
    "<div class=\"alert alert-block alert-info\">\n",
    "<p style=\"color: navy;\">\n",
    "<b>Definición/Teorema/Lema/Postulado/Axioma</b>: <i>subtitulo del Teorema/Lema/Definición</i>\n",
    "<br>\n",
    "Plantilla de Teorema, Lema o definición. \n",
    "<br>\n",
    "<br>\n",
    "Debe de quedar una de las conco palabras del título: Definición, Teorema, Lema, Postulado o Axioma. <br>\n",
    "<br>\n",
    "La demostración/prueba/... es opcional. Puede borrarse todo el texto de a continuación, dejando el div del final!!! (la última linea)\n",
    "</p>\n",
    "    \n",
    "<details><summary> >> <i>Demostración/Prueba/...</i> </summary>\n",
    "\n",
    "TEXTO AQUÍ\n",
    "    \n",
    "</details>\n",
    "</div>"
   ]
  },
  {
   "cell_type": "markdown",
   "id": "b673508e",
   "metadata": {
    "slideshow": {
     "slide_type": "fragment"
    }
   },
   "source": [
    "<figure><center>\n",
    "<img src=\"Figuras/Fig_Defincion.png\" align=center width='1000px'/>\n",
    "</center></figure>"
   ]
  },
  {
   "cell_type": "markdown",
   "id": "8f2bf95a",
   "metadata": {},
   "source": [
    "También se pueden poner los cuadros azules anteriores sin ningún título, solo hay que dejar varío el hueco del título `<b></b>`\n",
    "\n",
    "<div class=\"alert alert-block alert-info\">\n",
    "<p style=\"color: navy;\">\n",
    "    <b></b>\n",
    "Plantilla de cuadro destacado sin título. \n",
    "<br>\n",
    "La demostración/prueba/... es opcional. Puede borrarse todo el texto de a continuación, dejando el div del final!!! (la última linea)\n",
    "</p>\n",
    "    \n",
    "<details><summary> >> <i>Demostración/Prueba/...</i> </summary>\n",
    "\n",
    "TEXTO AQUÍ\n",
    "    \n",
    "</details>\n",
    "</div>"
   ]
  },
  {
   "cell_type": "markdown",
   "id": "e679edf6",
   "metadata": {
    "slideshow": {
     "slide_type": "slide"
    }
   },
   "source": [
    "<div class=\"alert alert-block alert-danger\">\n",
    "<p style=\"color: DarkRed;\">\n",
    "<b>Nota</b>: <i>Subtitulo de la nota</i>\n",
    "<br>     \n",
    "Plantilla de Nota\n",
    "<br>\n",
    "<br>\n",
    "El titulo debe de ser Nota\n",
    "<br> \n",
    "La demostración/prueba/... es opcional. Puede borrarse todo el texto de a continuación, dejando el div del final!!! (la última linea)\n",
    "</p>\n",
    "    \n",
    "<details><summary> >> <i>Demostración/Prueba/...</i> </summary>\n",
    "\n",
    "TEXTO AQUÍ\n",
    "    \n",
    "</details>\n",
    "</div>"
   ]
  },
  {
   "cell_type": "markdown",
   "id": "68a54c23",
   "metadata": {
    "slideshow": {
     "slide_type": "fragment"
    }
   },
   "source": [
    "<figure><center>\n",
    "<img src=\"Figuras/Fig_Nota.png\" align=center width='1000px'/>\n",
    "</center></figure>"
   ]
  },
  {
   "cell_type": "markdown",
   "id": "b0e47dcd",
   "metadata": {
    "slideshow": {
     "slide_type": "slide"
    }
   },
   "source": [
    "<div class=\"alert alert-block alert-success\">\n",
    "<p style=\"color: DarkGreen;\">\n",
    "<b>Ejercicio/Ejemplo</b>: <i>Subtitulo del ejercicio/ejemplo</i>\n",
    "<br>        \n",
    "Plantilla de Ejercicios y Ejemplos\n",
    "<br>     \n",
    "Debe de quedar una de las dos palabras del título: Ejercicio o Ejemplo\n",
    "<br> \n",
    "La solución/pista/... es opcional. Puede borrarse todo el texto de a continuación, dejando el div del final!!! (la última linea)\n",
    "<br> \n",
    "</p>\n",
    "<details><summary> >> <i>Solución/Pista/...</i> </summary>\n",
    "\n",
    "TEXTO AQUÍ\n",
    "    \n",
    "</details>\n",
    "</div>"
   ]
  },
  {
   "cell_type": "markdown",
   "id": "4a271749",
   "metadata": {
    "slideshow": {
     "slide_type": "fragment"
    }
   },
   "source": [
    "<figure><center>\n",
    "<img src=\"Figuras/Fig_Ejercicio.png\" align=center width='1000px'/>\n",
    "</center></figure>"
   ]
  },
  {
   "cell_type": "markdown",
   "id": "bf3a5fb5",
   "metadata": {
    "slideshow": {
     "slide_type": "slide"
    }
   },
   "source": [
    "<div class=\"alert alert-block alert-warning\">\n",
    "<p style=\"color: #4B5320;\">\n",
    "<b>Resumen</b> : <i>Subtitulo del resumen</i>\n",
    "<br>     \n",
    "Platilla del resumen\n",
    "<br>\n",
    "<br>\n",
    "Debe de estar en el título la palabra resumen\n",
    "<br>\n",
    "<br>    \n",
    "La Desmostración/Prueba/... es opcional. Puede borrarse todo el texto de a continuación, dejando el div del final!!! (la última linea)\n",
    "<br>\n",
    "</p>\n",
    "<details><summary> >> <i>Desmostración/Prueba/...</i> </summary>\n",
    "\n",
    "TEXTO AQUÍ\n",
    "    \n",
    "</details>\n",
    "</div>    "
   ]
  },
  {
   "cell_type": "markdown",
   "id": "45f4ef88",
   "metadata": {
    "slideshow": {
     "slide_type": "fragment"
    }
   },
   "source": [
    "<figure><center>\n",
    "<img src=\"Figuras/Fig_Resumen.png\" align=center width='1000px'/>\n",
    "</center></figure>"
   ]
  },
  {
   "cell_type": "markdown",
   "id": "b3a27996",
   "metadata": {
    "slideshow": {
     "slide_type": "slide"
    }
   },
   "source": [
    "Para textos desplegables sueltos (sin ser dentro de una de las anteriores cajas:\n",
    "\n",
    "<details><summary><p style=\"color:blue\" > >> <i>Demostración/Prueba/...</i> </p></summary>\n",
    "\n",
    "TEXTO AQUÍ\n",
    "\n",
    "</details>"
   ]
  },
  {
   "cell_type": "markdown",
   "id": "f147b743",
   "metadata": {
    "slideshow": {
     "slide_type": "slide"
    }
   },
   "source": [
    "<a id='sec_cuadros'></a>\n",
    "## Sobre los `<br>`"
   ]
  },
  {
   "cell_type": "markdown",
   "id": "f2599cac",
   "metadata": {
    "slideshow": {
     "slide_type": "fragment"
    }
   },
   "source": [
    "El script elimina todos los `<br>`. Si hay una linea que solo contenga un `<br>`, esta pasará a ser una línea en blanco.\n",
    "\n",
    "Si hay algún `<br>` que queramos que se conserve si o si, podmeos poner `<br >`.\n",
    "\n",
    "Esta eliminación tiene un sentido, y va a colación de los dos siguientes motivos:\n",
    "- Las ecuaciones con `$$` **deben de tener siempre una línea en blanco antes**\n",
    "- En los cuadros no se puede dejar ninguna línea en blanco (antes del `<details>`) para que se conserve el cambio de color del bloque `<p>`\n",
    "\n",
    "Es decir, dentro de los cuadros nos vemos obligados a usar los `<br>` antes de las ecuaciones sí o sí para que se conserve el cambio de color. Al hacerlos desaparecer, queda una linea en blanco antes de la ecuación"
   ]
  },
  {
   "cell_type": "markdown",
   "id": "a376241c",
   "metadata": {
    "slideshow": {
     "slide_type": "slide"
    }
   },
   "source": [
    "<a id='sec_figuras'></a>\n",
    "## Figuras"
   ]
  },
  {
   "cell_type": "markdown",
   "id": "5209c824",
   "metadata": {
    "slideshow": {
     "slide_type": "fragment"
    }
   },
   "source": [
    "Esto sería para añadir figuras "
   ]
  },
  {
   "cell_type": "raw",
   "id": "13597391",
   "metadata": {
    "slideshow": {
     "slide_type": "fragment"
    }
   },
   "source": [
    "<figure><center>\n",
    "<a id='fig_ref'></a>\n",
    "<img src=\"path_relativo\" align=center width='1000px'/>\n",
    "<center>Pie de foto de la figura</center>\n",
    "</center></figure>"
   ]
  },
  {
   "cell_type": "markdown",
   "id": "98ca36fa",
   "metadata": {
    "slideshow": {
     "slide_type": "fragment"
    }
   },
   "source": [
    "Cosas opcionales:\n",
    "- La referencia: `<a id='fig_ref'></a>`. \n",
    "    - Si se pone la label, esta debe de empezar por `id='fig_`\n",
    "    - Es importante que **no se repita** esta label en **ningún otro notebook**. En principio, esto daría igual al abrir el notebook en Jupyter Notebook, pero al compilarlos como una web, no puede haber referencias iguales en otros notebook. Yo propongo por ejemplo que a todas las label de un notebook se les añada un patrón (despues del fig_) propio del notebook:\n",
    "`<a id='fig_PatronNotebook_label'></a>`\n",
    "- El pie de foto:  `<center>....</center>`\n",
    "    - Importante!!! No se puden meter saltos de linea en las caption\n",
    "    - Si se añade la caption, la figura saldrá numerada en la web.\n"
   ]
  },
  {
   "cell_type": "markdown",
   "id": "e935db51",
   "metadata": {},
   "source": [
    "### Sobre la numeración de las figuras:\n",
    "- Si se pone caption, la figura en la web aparecerá **numerada**. \n",
    "- En la web, **se continua la numeración entre figuras de diferentes notebook**, lo que hace dificil de predecir que numeración va a tener cada figura.\n",
    "- Por eso, si numeramos la figuras **\"a mano\"** en el notebook (simplemente poniendo \"Figura N\" en la caption), esta numeración \"a mano\" no va a coincidir con la de la web. \n",
    "- Si se decide numerar \"a mano\" una figura, entonces debemos añadir el parámetro `alt=` en la llamada a la figura y poner ahí la el mismo texto de la caption, sin la numeración, y con `--` en vez de espacios. De esta forma, el script **ignorará** el texto `<center>Figura 1: Pie de foto de la figura</center>` y tomará el texto `alt=\"Pie--de--foto--de--la--figura\"` para construir la caption de la figura en la web, evitando así una doble numeración."
   ]
  },
  {
   "cell_type": "raw",
   "id": "2fefc3b1",
   "metadata": {},
   "source": [
    "<figure><center>\n",
    "<a id='fig_ref'></a>\n",
    "<img src=\"path_relativo\" alt=\"Pie--de--foto--de--la--figura\" align=center width='1000px'/>\n",
    "<center>Figura 1: Pie de foto de la figura</center>\n",
    "</center></figure>"
   ]
  },
  {
   "cell_type": "markdown",
   "id": "fc4b6b4c",
   "metadata": {},
   "source": [
    "### Sobre las referencias a figuras\n",
    "\n",
    "Pueden referenciarse sin problemas las figuras usando `[texto que quieras](#fig_...)`.\n",
    "\n",
    "El script buscará la cade `](#fig_`, así que todas las label de las figuras deben de empezar con `fig_`.\n",
    "\n",
    "Sim embargo, vamos a tener dos casos en como trata el script las referencias: \n",
    "- **Si no hemos añadido `alt=`a NINGUNA de las figuras** : En este caso el script *respetará el texto entre `[]`*. \n",
    "- **Si hemos añadido `alt=` a al menos UNA figuras**: En este caso, *el texto entre `[]` se sustituira por `Fig. N`*.\n",
    "\n",
    "Esto es importante pues si decidimos añadir `alt=` a una de las figuras, entonces las referenciemos siempre teniendo en cuenta que el texto entre `[]` será ignorado y sustituido por la numeración. Es decir, pueden pasar cosas como:\n",
    "- En el Notebook: \"Como podemos ver [en la anterior figura](#fig_ref), tenemos ... \"\n",
    "- En la web: \"Como podemos ver *Fig. 4*, tenemos ...\"\n",
    "\n",
    "Vemos que la referencia se ha sustituido **y el texto ya no queda fluido**"
   ]
  },
  {
   "cell_type": "markdown",
   "id": "00d3b39f",
   "metadata": {},
   "source": [
    "- IMPORTANTE: \n",
    "    - solo poner el `alt=` si se decide que las referencias de la web irán numeradas.\n",
    "    - Se puede poner simplemente `alt=\"\"` en una de las figuras para indicarle al script que las referencias en la web iran numeradas. Para la figura con el `alt=\"\"` se cogerá como pie de foto el que parezca entre `<center>` y `</center>`"
   ]
  },
  {
   "cell_type": "markdown",
   "id": "636a5fd8",
   "metadata": {},
   "source": [
    "<a id='sec_ecuaciones'></a>\n",
    "## Referencias a ecuaciones"
   ]
  },
  {
   "cell_type": "markdown",
   "id": "28ba71e8",
   "metadata": {},
   "source": [
    "Vamos a ver como hacer para referenciar ecuaciones. \n",
    "\n",
    "La sintaxis sería la siguiente:"
   ]
  },
  {
   "cell_type": "raw",
   "id": "d6553872",
   "metadata": {},
   "source": [
    "<a id='ec_...'></a>\n",
    "\\begin{equation/align/...} \\label{ec_...}\n",
    "x^2\n",
    "\\end{equation/align/...}"
   ]
  },
  {
   "cell_type": "markdown",
   "id": "2c928e03",
   "metadata": {},
   "source": [
    "El script hará lo siguiente:\n",
    "- Buscara el texto `<a id='` para encontrar la línea. Una vez encontrada, hará desaperecer el `<a id='ec_...'></a>`.\n",
    "- Sustituirá el esto entre `[]` en las referencias por el texto `Ec. (#)` (donde # representa el número de la ecuacuión)\n",
    "- El script buscará una linea que tenda un `begin{` y un `label{` (**las dos cosas!!**). Lo que hará será sustituir este bloque de ecuación por el de myst:"
   ]
  },
  {
   "cell_type": "raw",
   "id": "8a0aafe6",
   "metadata": {},
   "source": [
    "```{math}\n",
    ":label: ec_...\n",
    "\\begin{equation/align/...}\n",
    "x^2\n",
    "\\end{equation/align/...}\n",
    "```"
   ]
  },
  {
   "cell_type": "markdown",
   "id": "0ba85162",
   "metadata": {},
   "source": [
    "Porqué poner el `<a id='ec_...'></a>` y el `\\label{` y no solo uno? \n",
    "\n",
    "Es simple:\n",
    "- Al poner el `<a id='ec_...'></a>` podemos hacer referencias en los notebook a las ecuaciones\n",
    "- Al poner `\\label{` **en la misma linea que el** `\\begin{` lo que hacemos es añadir un **texto oculto** que facilita la vida al script a la hora de buscar las ecuaciones."
   ]
  },
  {
   "cell_type": "markdown",
   "id": "d5f66139",
   "metadata": {
    "slideshow": {
     "slide_type": "slide"
    }
   },
   "source": [
    "<a id='sec_bloques_de_codigo'></a>\n",
    "## Bloques de código"
   ]
  },
  {
   "cell_type": "markdown",
   "id": "f23e5dba",
   "metadata": {},
   "source": [
    "### Celdas no ejecutables"
   ]
  },
  {
   "cell_type": "markdown",
   "id": "ce54fac8",
   "metadata": {},
   "source": [
    "Puede añadirse la tag `skip_execution` a una celda de código, de forma que está celda se convierta en una celda no ejecutable."
   ]
  },
  {
   "cell_type": "markdown",
   "id": "3733a525",
   "metadata": {},
   "source": [
    "### Celdas compartidas y dedicadas"
   ]
  },
  {
   "cell_type": "markdown",
   "id": "1c796e0b",
   "metadata": {
    "slideshow": {
     "slide_type": "fragment"
    }
   },
   "source": [
    "La idea es poner código de varias librerias (Qibo y Qiskit principalmente, aunque se pueden incluir cosas de, por ejemplo, PennyLane, Cirq,...). \n",
    "\n",
    "Tendremos pues dos tipos de celdas:\n",
    "- Celdas de código **compartidas** (como las que tengan los `import ...` o definciones de variables)-\n",
    "- Celdas de código **dedicadas** a cada librería.\n",
    "\n",
    "Es importante que el código completo se pueda ejecutar sin problemas si SOLO EJECUTAMOS LAS CELDAS DE UN LENGUAJE.\n",
    "Estilo, si usamos `numpy`, el `import numpy as np` debe de ir en una celda compartida. En realidad, TODOS los `import` deben de ir en celdas compartidas para que no haya problemas. "
   ]
  },
  {
   "cell_type": "markdown",
   "id": "17b7bcfd",
   "metadata": {
    "slideshow": {
     "slide_type": "slide"
    }
   },
   "source": [
    "#### Celdas Compartidas"
   ]
  },
  {
   "cell_type": "code",
   "execution_count": 1,
   "id": "c7f8b119",
   "metadata": {
    "slideshow": {
     "slide_type": "fragment"
    }
   },
   "outputs": [],
   "source": [
    "import numpy as np\n",
    "import matplotlib.pyplot as plt\n",
    "from qiskit import QuantumRegister, ClassicalRegister,QuantumCircuit\n",
    "from qibo import callbacks, gates, models, hamiltonians"
   ]
  },
  {
   "cell_type": "markdown",
   "id": "c726f109",
   "metadata": {
    "slideshow": {
     "slide_type": "fragment"
    }
   },
   "source": [
    "#### Celdas Dedicadas"
   ]
  },
  {
   "cell_type": "markdown",
   "id": "48428a5e",
   "metadata": {
    "slideshow": {
     "slide_type": "fragment"
    }
   },
   "source": [
    "Aquí empieza lo importate: solo pondremos una celda como **dedicada** si tenemos *al menos una* equivalente en otra librería. Las dos celdas **deben de hacer exactamente lo mismo**. Si solo tenemos el código en una librería (el circuito construido solo en Qiskit o Qibo), entonces pondremos una celda **compartida**. "
   ]
  },
  {
   "cell_type": "markdown",
   "id": "455949ed",
   "metadata": {
    "slideshow": {
     "slide_type": "slide"
    }
   },
   "source": [
    "Las celdas **dedicadas** deben de ir seguidas, es decir, **inmeditamente después de una celda dedicada debe de ir otra celda dedicada con el código de otra librería**. \n",
    "\n",
    "**No pueden ponerse seguidas dos celdas dedicada a la misma librería**.\n",
    "\n",
    "Esto es porque es script lo que va hacer es buscar X celdas dedicadas diferentes seguidas y las va agrupar en una extructura con pestañas, de forma que solo se vea una celda y puedas cambiar a la celda de la otra libreía clicando en otra pestaña.\n",
    "\n",
    "**Solo se mostrará la salida de la primera celda dedicada de cada bloque** (los print o las figuras)."
   ]
  },
  {
   "cell_type": "markdown",
   "id": "37bb346d",
   "metadata": {
    "slideshow": {
     "slide_type": "slide"
    }
   },
   "source": [
    "En el sifuiente ejemplo tenemos un celda compartida, dos bloques de dos celdas dedicas y una celda compartida\n",
    "\n",
    "<figure><center>\n",
    "<img src=\"Figuras/Fig_Celdas.png\" align=center width='700px'/>\n",
    "</center></figure>"
   ]
  },
  {
   "cell_type": "markdown",
   "id": "b94bf054",
   "metadata": {
    "slideshow": {
     "slide_type": "slide"
    }
   },
   "source": [
    "Veamos ejemplos de ordenes permitidos (azul) y no permitidos (rojo), donde los bloques son de 3 celdas (Qiskit, Qibo y Pennylane\n",
    "\n",
    "<p style=\"color: Blue\">\n",
    "- Compartida o de texto <br>\n",
    "<br>\n",
    "- Qiskit (Mustra Output) <br>\n",
    "- Qibo <br>\n",
    "- Pennylane <br>\n",
    "<br>\n",
    "- Compartida o de texto <br>\n",
    "</p>"
   ]
  },
  {
   "cell_type": "markdown",
   "id": "f4852e24",
   "metadata": {
    "slideshow": {
     "slide_type": "slide"
    }
   },
   "source": [
    "<p style=\"color: Blue\">\n",
    "- Compartida o de texto <br>\n",
    " <br>\n",
    "- Qibo (Mustra Output) <br>\n",
    "- Qiskit <br>\n",
    "- Pennylane <br>\n",
    "<br>\n",
    "- Compartida o de texto (una o varias) <br>\n",
    "<br>\n",
    "- Pennylane (Mustra Output) <br>\n",
    "- Qibo  <br>\n",
    "- Qiskit <br>\n",
    "<br>\n",
    "- Compartida o de texto <br>\n",
    "</p>"
   ]
  },
  {
   "cell_type": "markdown",
   "id": "1a23e045",
   "metadata": {
    "slideshow": {
     "slide_type": "slide"
    }
   },
   "source": [
    "<p style=\"color: Red\">\n",
    "- Compartida o de texto <br>\n",
    " <br>\n",
    "- Qibo (Mustra Output) <br>\n",
    "- Qiskit <br>\n",
    "- Pennylane <br>\n",
    "<br>\n",
    "- Qiskit  (Mustra Output) <br>\n",
    "- Qibo <br>\n",
    "- Pennylane  <br>\n",
    "<br>\n",
    "- Compartida o de texto <br>\n",
    "</p>\n",
    "\n",
    "Mal porque tenemos dos bloques de celdas seguidos, sin ninguna celda compartida o de texto en medio, y los bloques **tiene diferente orden** en sus celdas. \n",
    "\n",
    "Podemos poner bloques con las celdas en diferente orden (poque quizás en unos casos nos interesa que se vea la figura de una libería o de otra), pero entonces entre bloque y bloque debe de haber otro tipo de celda (compartida o de texto)"
   ]
  },
  {
   "cell_type": "markdown",
   "id": "9d570ad5",
   "metadata": {
    "slideshow": {
     "slide_type": "slide"
    }
   },
   "source": [
    "<p style=\"color: Blue\">\n",
    "- Compartida o de texto <br>\n",
    " <br>\n",
    "- Qibo (Mustra Output) <br>\n",
    "- Qiskit <br>\n",
    "- Pennylane <br>\n",
    "<br>\n",
    "- Qibo (Mustra Output) <br>\n",
    "- Pennylane  <br>\n",
    "- Qiskit <br>\n",
    "<br>\n",
    "- Compartida o de texto <br>\n",
    "</p>"
   ]
  },
  {
   "cell_type": "markdown",
   "id": "2ccc81b9",
   "metadata": {
    "slideshow": {
     "slide_type": "slide"
    }
   },
   "source": [
    "Ahora sí, veamos la sinataxis de las celdas dedicadas:"
   ]
  },
  {
   "cell_type": "code",
   "execution_count": 3,
   "id": "abbbc51a",
   "metadata": {
    "slideshow": {
     "slide_type": "fragment"
    }
   },
   "outputs": [],
   "source": [
    "import numpy\n",
    "import matplotlib\n",
    "from qiskit import QuantumRegister, ClassicalRegister,QuantumCircuit\n",
    "from qibo import callbacks, gates, models, hamiltonians"
   ]
  },
  {
   "cell_type": "code",
   "execution_count": 4,
   "id": "f47a9350",
   "metadata": {
    "slideshow": {
     "slide_type": "fragment"
    }
   },
   "outputs": [
    {
     "data": {
      "image/png": "[encoded data removed]",
      "text/plain": [
       "<Figure size 185.453x117.056 with 1 Axes>"
      ]
     },
     "execution_count": 4,
     "metadata": {},
     "output_type": "execute_result"
    }
   ],
   "source": [
    "'''Qiskit_code_cell'''\n",
    "\n",
    "qc1 = QuantumCircuit(1)\n",
    "qc1.x(0)\n",
    "qc1.draw('mpl', style=\"iqp\")"
   ]
  },
  {
   "cell_type": "code",
   "execution_count": 5,
   "id": "cd3baa78",
   "metadata": {
    "slideshow": {
     "slide_type": "fragment"
    }
   },
   "outputs": [
    {
     "name": "stdout",
     "output_type": "stream",
     "text": [
      "q0: ─X─\n"
     ]
    }
   ],
   "source": [
    "'''Qibo_code_cell'''\n",
    "\n",
    "circuit = models.Circuit(1)\n",
    "circuit.add(gates.X(0))\n",
    "print(circuit.draw())"
   ]
  },
  {
   "cell_type": "markdown",
   "id": "95b2cf86",
   "metadata": {
    "slideshow": {
     "slide_type": "slide"
    }
   },
   "source": [
    "La primera de las anteriores es una celda compartida, las otras dos son dedicadas. Vemos que lo único que las diferencia es que **las celdas dedicadas deben de empezar por un patrón concreto**: \n",
    "\n",
    "`'''librería_code_cell'''`"
   ]
  },
  {
   "cell_type": "markdown",
   "id": "6d385dab",
   "metadata": {
    "slideshow": {
     "slide_type": "slide"
    }
   },
   "source": [
    "<a id='sec_Bibliografía'></a>\n",
    "## Bibliografía\n",
    "\n",
    "[1]. Beauregard, S. (2002). Circuit for Shor's algorithm using 2n+ 3 qubits, [quant-ph/0205095](https://arxiv.org/abs/quant-ph/0205095). <a id='bib_Beauregard_2002'></a>\n",
    "\n",
    "[2]. [Quantum Fourier Transform (textbook Qiskit)](https://learn.qiskit.org/course/ch-algorithms/quantum-fourier-transform) <a id='bib_QFT_Qiskit'></a>"
   ]
  },
  {
   "cell_type": "markdown",
   "id": "7c3c8de1",
   "metadata": {
    "slideshow": {
     "slide_type": "slide"
    }
   },
   "source": [
    "Cada entrada de la bibliografía debe de tener al final un `<a id='bib_...'></a>`. Para referenciar a la una entrada de la bibliografía hay que usar entonces `[...](#bib_...)`. Es importante que la label empiece por `bib` y que no haya espacio entre `]` y `(#bib_...` en la referencia.\n",
    "\n",
    "A parte de esta celda de bibliografía, deben incluirse en el archivo `Bibliografia.bib` del repositorio las referencias en latex (se sacan de google bastante facil), poniendo como label de cada referencia **LA MISMA** que se ha puesto en la celda de arriba. De esta forma, el script eliminará la celda anterior y añadirá la bibliografía de latex, cambiando la sintaxis de todas las referencias.\n",
    "    \n",
    "- Es importante que **no se repita** ninguna label en **ningún otro notebook**. Esto es facil de entender: todas las referencias bibliográficas van a estar en un mismos archivo `Bibliografia.bib`.\n",
    "\n",
    "Es importante que si se añade algo en la bibliografía, se referencie en el texto en algún momento, pues la web lo que hace es mirar el archivo `Bibliografia.bib` y coger solo las entradas que han sido referenciadas en el texto.\n",
    "\n",
    "Si hay la misma entrada bibliográfica en varios notebook, hay que usar la misma label"
   ]
  },
  {
   "cell_type": "code",
   "execution_count": 7,
   "id": "f3b812e3",
   "metadata": {
    "slideshow": {
     "slide_type": "slide"
    }
   },
   "outputs": [
    {
     "data": {
      "text/html": [
       "<h3>Version Information</h3><table><tr><th>Software</th><th>Version</th></tr><tr><td><code>qiskit</code></td><td>0.45.2</td></tr><tr><th colspan='2'>System information</th></tr><tr><td>Python version</td><td>3.11.7</td></tr><tr><td>Python compiler</td><td>GCC 11.2.0</td></tr><tr><td>Python build</td><td>main, Dec 15 2023 18:12:31</td></tr><tr><td>OS</td><td>Linux</td></tr><tr><td>CPUs</td><td>12</td></tr><tr><td>Memory (Gb)</td><td>62.610992431640625</td></tr><tr><td colspan='2'>Mon Feb 05 11:58:31 2024 CET</td></tr></table>"
      ],
      "text/plain": [
       "<IPython.core.display.HTML object>"
      ]
     },
     "metadata": {},
     "output_type": "display_data"
    }
   ],
   "source": [
    "import qiskit.tools.jupyter\n",
    "%qiskit_version_table"
   ]
  },
  {
   "cell_type": "markdown",
   "id": "ae269433",
   "metadata": {
    "slideshow": {
     "slide_type": "slide"
    }
   },
   "source": [
    "This work has been financially supported by the Ministry for Digital Transformation and of Civil Service of the Spanish Government through the QUANTUM ENIA project call - Quantum Spain project, and by the European Union through the Recovery, Transformation and Resilience Plan - NextGenerationEU within the framework of the Digital Spain 2026 Agenda.\n",
    "\n",
    "<center>\n",
    "<img align=\"left\" src=\"https://quantumspain-project.es/wp-content/uploads/2024/02/Banner-QS_GOB_v2.png\" width=\"1000px\" />\n",
    "</center>\n",
    "\n"
   ]
  }
 ],
 "metadata": {
  "celltoolbar": "Tags",
  "kernelspec": {
   "display_name": "Python 3 (ipykernel)",
   "language": "python",
   "name": "python3"
  },
  "language_info": {
   "codemirror_mode": {
    "name": "ipython",
    "version": 3
   },
   "file_extension": ".py",
   "mimetype": "text/x-python",
   "name": "python",
   "nbconvert_exporter": "python",
   "pygments_lexer": "ipython3",
   "version": "3.11.7"
  },
  "toc": {
   "base_numbering": 1,
   "nav_menu": {},
   "number_sections": false,
   "sideBar": true,
   "skip_h1_title": false,
   "title_cell": "Table of Contents",
   "title_sidebar": "Contents",
   "toc_cell": false,
   "toc_position": {
    "height": "calc(100% - 180px)",
    "left": "10px",
    "top": "150px",
    "width": "255.933px"
   },
   "toc_section_display": true,
   "toc_window_display": false
  }
 },
 "nbformat": 4,
 "nbformat_minor": 5
}
