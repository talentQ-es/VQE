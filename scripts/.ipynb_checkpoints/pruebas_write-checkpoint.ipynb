{
 "cells": [
  {
   "cell_type": "markdown",
   "id": "36a4f9fa",
   "metadata": {
    "slideshow": {
     "slide_type": "subslide"
    }
   },
   "source": [
    "<img   src=\"../figuras/logo/TalentQ_LogoPosNegro.png\" align=center  width=\"12%\"/>\n",
    "<br>\n",
    "\n",
    "<table width=\"100%\">\n",
    "<td style=\"font-size:400%px;font-style:italic;text-align:right;background-color:rgba(0, 190, 170,0.6)\">\n",
    "Algoritmo de Grover\n",
    "</td></table>\n",
    "\n",
    "\n",
    "$ \\newcommand{\\bra}[1]{\\langle #1|} $\n",
    "$ \\newcommand{\\ket}[1]{|#1\\rangle} $\n",
    "$ \\newcommand{\\braket}[2]{\\langle #1|#2\\rangle} $\n",
    "$ \\newcommand{\\i}{{\\color{blue} i}} $ \n",
    "$ \\newcommand{\\Hil}{{\\cal H}} $\n",
    "$ \\newcommand{\\cg}[1]{{\\rm C}#1} $\n",
    "\n"
   ]
  },
  {
   "cell_type": "code",
   "execution_count": 1,
   "id": "2b0c0215",
   "metadata": {
    "slideshow": {
     "slide_type": "slide"
    }
   },
   "outputs": [],
   "source": [
    "%run ../macro_CURSO.py"
   ]
  },
  {
   "cell_type": "markdown",
   "id": "8bfc9c32",
   "metadata": {
    "slideshow": {
     "slide_type": "skip"
    }
   },
   "source": [
    "\n",
    "- [Una aguja en un pajar](#aguja)\n",
    "\n",
    "\n",
    "- [Más agujas en un pajar](#agujas)\n",
    "\n",
    "\n",
    "- [Contaje cuántico](#contcuan)\n",
    "\n"
   ]
  },
  {
   "cell_type": "markdown",
   "id": "e936014f",
   "metadata": {
    "slideshow": {
     "slide_type": "slide"
    }
   },
   "source": [
    "<a id='aguja'></a>\n",
    "<table width=\"100%\">\n",
    "    <td style=\"font-size:250%px;font-family:Helvetica;text-align:left;background-color:rgba(0,0,900, 0.3);\">\n",
    "<b> Una aguja en un pajar </b>\n",
    "</table>   "
   ]
  },
  {
   "cell_type": "markdown",
   "id": "3a828fb7-44db-4aec-a8a5-c75ee43cb95d",
   "metadata": {},
   "source": [
    "<div class=\"alert alert-block alert-info\">\n",
    "<p style=\"text-align: center;\"> <p style=\"text-align: left ;color: navy;\">  \n",
    "<b> Lema:</b>\n",
    "<br>\n",
    "Sea $\\ket{\\psi}$ un vector <i>preparable</i> en la forma  $\\ket{\\psi} = V\\ket{0}$. El reflector paralelo a $\\ket{\\psi}$ es\n",
    "<br>\n",
    "<br>\n",
    "$$\n",
    "R_\\psi = I - 2\\ket{\\psi}\\bra{\\psi} = V \\left( I - 2\\ket{0}\\bra{0}\\rule{0mm}{6mm} \\right) V^\\dagger = V R_0 V^\\dagger\n",
    "$$\n",
    "</div>"
   ]
  },
  {
   "cell_type": "markdown",
   "id": "b34b022f-bcb7-4836-be17-55f51a8291f8",
   "metadata": {},
   "source": [
    "<div class=\"alert alert-block alert-info\"><p style=\"text-align:left ;color: navy;\">  \n",
    "<b> Lema</b>:\n",
    "<br>    \n",
    "El cúbit $\\ket{u}$  <i> más general</i> se puede representar, en la base computacional $\\{\\ket{0},\\ket{1}\\}$, usando dos números reales (ángulos) $\\theta\\in [0,\\pi)$ y $\\varphi\\in [0,2\\pi)$   \n",
    "<br>\n",
    "<br>\n",
    "$$\n",
    "|u\\rangle = \\cos{\\frac{\\theta}{2}}\\, |0\\rangle + e^{i\\phi}\\sin{\\frac{\\theta}{2}}\\,|1\\rangle \n",
    "$$\n",
    "\n",
    "<details><summary><p style=\"text-align:left\"> >> <i>Demostración</i> </p></summary>\n",
    "Para demostrar el lema escribimos un vector de estado general usando la representación polar para las componentes complejas\n",
    "    \n",
    "$$\n",
    "\\begin{array}{rcl}\n",
    "\\ket{u} &=& u_0\\ket{0} + u_1\\ket{1} \\\\\n",
    "&=& a_0 e^{i b_0}\\ket{0} + a_1 e^{ib_1}\\ket{1}\\\\\n",
    "&=& e^{i b_0}\\big(a_0 \\ket{0} + a_1 e^{i(b_1-b_0)}\\ket{1}\\big)\\\\\n",
    "&\\sim & \\big( a_0 \\ket{0} + a_1 e^{i(b_1-b_0)}\\ket{1} \\big)\n",
    "\\end{array}\n",
    "$$\n",
    "    \n",
    "donde hemos hecho uso de la irrelevancia de una fase global para descartar $e^{i b_0}$ en la última línea.\n",
    "\n",
    "Ahora $a_1$ y $a_0$ no son números independientes sino que verifican $a_0^2 + a_1^2 = 0$ para que $\\|\\ket{u}\\|=1$.\n",
    "Esta ecuación se puede resolver en términos de un ángulo $\\theta/2$ tal que\n",
    "$$\n",
    "a_0 = \\cos\\frac{\\theta}{2}~~~,~~~ a_1 = \\sin\\frac{\\theta}{2} \n",
    "$$\n",
    "Por su parte, de los números $b_1, b_2$ sólo la diferencia\n",
    "$$\n",
    "\\varphi = b_1-b_2\n",
    "$$\n",
    "es relevante para especificar $\\ket{u}$.   \n",
    "</details>\n",
    "</p></div> "
   ]
  },
  {
   "cell_type": "markdown",
   "id": "f8573d57-0d45-4467-b529-ed81f10326d4",
   "metadata": {},
   "source": [
    "<div class=\"alert alert-block alert-info\"><p style=\"text-align:left ;color: navy;\">  \n",
    "<b> Teorema</b>: <i>subtitulo del teorema</i>\n",
    "<br>    \n",
    "El cúbit $\\ket{u}$  <i> más general</i> se puede representar, en la base computacional $\\{\\ket{0},\\ket{1}\\}$, usando dos números reales (ángulos) $\\theta\\in [0,\\pi)$ y $\\varphi\\in [0,2\\pi)$   \n",
    "<br>\n",
    "<br>\n",
    "$$\n",
    "|u\\rangle = \\cos{\\frac{\\theta}{2}}\\, |0\\rangle + e^{i\\phi}\\sin{\\frac{\\theta}{2}}\\,|1\\rangle \n",
    "$$\n",
    "\n",
    "<details><summary><p style=\"text-align:left\"> >> <i>Demostración</i> </p></summary>\n",
    "Para demostrar el lema escribimos un vector de estado general usando la representación polar para las componentes complejas\n",
    "    \n",
    "$$\n",
    "\\begin{array}{rcl}\n",
    "\\ket{u} &=& u_0\\ket{0} + u_1\\ket{1} \\\\\n",
    "&=& a_0 e^{i b_0}\\ket{0} + a_1 e^{ib_1}\\ket{1}\\\\\n",
    "&=& e^{i b_0}\\big(a_0 \\ket{0} + a_1 e^{i(b_1-b_0)}\\ket{1}\\big)\\\\\n",
    "&\\sim & \\big( a_0 \\ket{0} + a_1 e^{i(b_1-b_0)}\\ket{1} \\big)\n",
    "\\end{array}\n",
    "$$\n",
    "    \n",
    "donde hemos hecho uso de la irrelevancia de una fase global para descartar $e^{i b_0}$ en la última línea.\n",
    "\n",
    "Ahora $a_1$ y $a_0$ no son números independientes sino que verifican $a_0^2 + a_1^2 = 0$ para que $\\|\\ket{u}\\|=1$.\n",
    "Esta ecuación se puede resolver en términos de un ángulo $\\theta/2$ tal que\n",
    "$$\n",
    "a_0 = \\cos\\frac{\\theta}{2}~~~,~~~ a_1 = \\sin\\frac{\\theta}{2} \n",
    "$$\n",
    "Por su parte, de los números $b_1, b_2$ sólo la diferencia\n",
    "$$\n",
    "\\varphi = b_1-b_2\n",
    "$$\n",
    "es relevante para especificar $\\ket{u}$.   \n",
    "</details>\n",
    "</p></div> "
   ]
  },
  {
   "cell_type": "markdown",
   "id": "c024b41a-94ed-4b1b-9a08-57f53d6e9dbc",
   "metadata": {},
   "source": [
    "<div class=\"alert alert-block alert-info\"><p style=\"text-align:left ;color: navy;\">  \n",
    "<b> Definición</b>:\n",
    "<br>    \n",
    "El cúbit $\\ket{u}$  <i> más general</i> se puede representar, en la base computacional $\\{\\ket{0},\\ket{1}\\}$, usando dos números reales (ángulos) $\\theta\\in [0,\\pi)$ y $\\varphi\\in [0,2\\pi)$   \n",
    "<br>\n",
    "<br>\n",
    "$$\n",
    "|u\\rangle = \\cos{\\frac{\\theta}{2}}\\, |0\\rangle + e^{i\\phi}\\sin{\\frac{\\theta}{2}}\\,|1\\rangle \n",
    "$$\n",
    "\n",
    "<details><summary><p style=\"text-align:left\"> >> <i>Demostración</i> </p></summary>\n",
    "Para demostrar el lema escribimos un vector de estado general usando la representación polar para las componentes complejas\n",
    "    \n",
    "$$\n",
    "\\begin{array}{rcl}\n",
    "\\ket{u} &=& u_0\\ket{0} + u_1\\ket{1} \\\\\n",
    "&=& a_0 e^{i b_0}\\ket{0} + a_1 e^{ib_1}\\ket{1}\\\\\n",
    "&=& e^{i b_0}\\big(a_0 \\ket{0} + a_1 e^{i(b_1-b_0)}\\ket{1}\\big)\\\\\n",
    "&\\sim & \\big( a_0 \\ket{0} + a_1 e^{i(b_1-b_0)}\\ket{1} \\big)\n",
    "\\end{array}\n",
    "$$\n",
    "    \n",
    "donde hemos hecho uso de la irrelevancia de una fase global para descartar $e^{i b_0}$ en la última línea.\n",
    "\n",
    "Ahora $a_1$ y $a_0$ no son números independientes sino que verifican $a_0^2 + a_1^2 = 0$ para que $\\|\\ket{u}\\|=1$.\n",
    "Esta ecuación se puede resolver en términos de un ángulo $\\theta/2$ tal que\n",
    "$$\n",
    "a_0 = \\cos\\frac{\\theta}{2}~~~,~~~ a_1 = \\sin\\frac{\\theta}{2} \n",
    "$$\n",
    "Por su parte, de los números $b_1, b_2$ sólo la diferencia\n",
    "$$\n",
    "\\varphi = b_1-b_2\n",
    "$$\n",
    "es relevante para especificar $\\ket{u}$.   \n",
    "</details>\n",
    "</p></div> "
   ]
  },
  {
   "cell_type": "markdown",
   "id": "244c1fa7",
   "metadata": {
    "slideshow": {
     "slide_type": "skip"
    }
   },
   "source": [
    "<div class=\"alert alert-block alert-danger\">\n",
    "    <b>Nota</b>: \n",
    "\n",
    "-  el ángulo disminuye con el tamaño $N$ de la base de datos. Este ángulo es la amplitud de probabilidad de encontrar la solución $w$ después de una medida de $\\ket{s}$.\n",
    "    \n",
    "- Para $N\\to \\infty$ tenemos que $\\theta \\sim 1/\\sqrt{N}$\n",
    "</div>"
   ]
  },
  {
   "cell_type": "markdown",
   "id": "b97ec3c7-919e-485c-8b37-1eee93517a99",
   "metadata": {},
   "source": [
    "<div class=\"alert alert-block alert-success\">\n",
    "<b> Ejercicio: </b> Prueba esta igualdad   \n",
    "</div>"
   ]
  },
  {
   "cell_type": "markdown",
   "id": "da887b3c-ecc1-4c98-8af9-e52556da3ed3",
   "metadata": {},
   "source": [
    "<div class=\"alert alert-block alert-success\">\n",
    "<b> Ejercicio: </b> prueba esta igualdad\n",
    "\n",
    "<details><summary><p style=\"text-align:left\"> >> <i>Solución</i></p></summary>\n",
    "Para demostrar el lema escribimos un vector de estado general usando la representación polar para las componentes complejas\n",
    "    \n",
    "TEXTO\n",
    "    \n",
    "</div>"
   ]
  },
  {
   "cell_type": "markdown",
   "id": "9ee7acf8-4e1b-4e3f-abeb-10f302455789",
   "metadata": {},
   "source": [
    "<div class=\"alert alert-block alert-info\">\n",
    "<p style=\"text-align: center;\"> <p style=\"text-align: left ;color: navy;\">  \n",
    "<b> Lema:</b>\n",
    "<br>\n",
    "Sea $\\ket{\\psi}$ un vector <i>preparable</i> en la forma  $\\ket{\\psi} = V\\ket{0}$. El reflector paralelo a $\\ket{\\psi}$ es\n",
    "<br>\n",
    "<br>\n",
    "$$\n",
    "R_\\psi = I - 2\\ket{\\psi}\\bra{\\psi} = V \\left( I - 2\\ket{0}\\bra{0}\\rule{0mm}{6mm} \\right) V^\\dagger = V R_0 V^\\dagger\n",
    "$$\n",
    "</div>"
   ]
  },
  {
   "cell_type": "markdown",
   "id": "a00bb254",
   "metadata": {
    "slideshow": {
     "slide_type": "slide"
    }
   },
   "source": [
    "El **algoritmo de Grover**  es un *algoritmo de búsqueda en bases de datos no estructuradas*.\n",
    "\n"
   ]
  },
  {
   "cell_type": "markdown",
   "id": "6413c7b0",
   "metadata": {
    "slideshow": {
     "slide_type": "fragment"
    }
   },
   "source": [
    "Una guía telefónica es una base *estructurada alfabéticamente* si lo que buscamos es un teléfono a partir de un nombre. \n"
   ]
  },
  {
   "cell_type": "markdown",
   "id": "dce193c1",
   "metadata": {
    "slideshow": {
     "slide_type": "fragment"
    }
   },
   "source": [
    "\n",
    "A la inversa, encontrar el usuario al que pertenece un cierto teléfono es una busqueda *no estructurada*. \n",
    "\n",
    "Si hay $N$ teléfonos, el número medio de veces que tendremos que consultar la base de datos crecerá como $N$. "
   ]
  },
  {
   "cell_type": "markdown",
   "id": "f32bb419",
   "metadata": {
    "slideshow": {
     "slide_type": "fragment"
    }
   },
   "source": [
    " \n",
    " \n",
    " El algoritmos de Grover permite efectuar esta tarea en un número de pasos que crece como   ${\\cal O}(\\sqrt{N})$.\n"
   ]
  },
  {
   "cell_type": "markdown",
   "id": "f683a665",
   "metadata": {
    "slideshow": {
     "slide_type": "slide"
    }
   },
   "source": [
    "## El plano de Grover"
   ]
  },
  {
   "cell_type": "markdown",
   "id": "45b76047",
   "metadata": {
    "slideshow": {
     "slide_type": "fragment"
    }
   },
   "source": [
    "Nuestra *base de datos* $x\\in S_n$ se convierte en la *base computacional* de $n$ cúbits, $\\{\\ket{x}\\}$ \n",
    "\n",
    "La *aguja en el pajar* que queremos encontrar será un cierto vector $\\ket{w}$. \n",
    "\n",
    "En esta sección supondremos que es único."
   ]
  },
  {
   "cell_type": "markdown",
   "id": "225d8a9f",
   "metadata": {
    "slideshow": {
     "slide_type": "fragment"
    }
   },
   "source": [
    "Como de costumbre, la estrategia cuántica comienza introduciendo  una superposición uniforme de la elementos de la base\n",
    "\n",
    "\\begin{equation}\n",
    "\\ket{s} = H^{\\otimes n}\\ket{0} = \\frac{1}{\\sqrt{N}}\\sum_{x=0}^{N-1} \\ket{x}\n",
    "\\end{equation}"
   ]
  },
  {
   "cell_type": "markdown",
   "id": "40605378",
   "metadata": {
    "slideshow": {
     "slide_type": "fragment"
    }
   },
   "source": [
    "Definamos el vector unitario compuesto por la *superposición uniforme* de los elementos que **no son solución**\n",
    "\n",
    "$$\\ket{s^{\\prime}} = \\frac{1}{\\sqrt{N-1}} \\sum_{x \\neq w} \\ket{x}$$\n",
    "Claramente $\\braket{\\omega}{s'} = 0$ son ortogonales"
   ]
  },
  {
   "cell_type": "markdown",
   "id": "fc8169b6",
   "metadata": {
    "slideshow": {
     "slide_type": "slide"
    }
   },
   "source": [
    "Podemos reescribir $\\ket{s}$ en una forma más conveniente.\n",
    "\n",
    "\n",
    "\\begin{eqnarray}\n",
    "\\ket{s} = \\frac{1}{\\sqrt{N}}\\sum_x \\ket{x}  ~&=& ~\n",
    " \\frac{1}{\\sqrt{N}}\\left(\\ket{w} + \\sum_{x \\neq w} \\ket{x} \\right) \n",
    "\\end{eqnarray}\n",
    "\n",
    "definiendo el vector unitario\n",
    "$$\n",
    "\\ket{s'} = \\frac{1}{\\sqrt{N-1}}\\sum_{x \\neq w} \\ket{x} \n",
    "$$\n",
    "\n",
    "encontramos\n",
    "\n",
    "\\begin{eqnarray}\n",
    "\\ket{s} =  \\frac{1}{\\sqrt{N}} \\ket{w} + \\sqrt{\\frac{N-1}{N}} \\ket{s^\\prime}.\n",
    "\\end{eqnarray}\n"
   ]
  },
  {
   "cell_type": "markdown",
   "id": "9b310405",
   "metadata": {
    "slideshow": {
     "slide_type": "fragment"
    }
   },
   "source": [
    "\n",
    "Eso quiere decir que: \n",
    "- podemos pensar  en un subespacio de dimensión 2 (un *plano*) formado por los dos vectores $\\{\\ket{w},\\ket{s'}\\}$\n"
   ]
  },
  {
   "cell_type": "markdown",
   "id": "8bae9f34",
   "metadata": {
    "slideshow": {
     "slide_type": "slide"
    }
   },
   "source": [
    "- en ese plano, nuestro estado $\\ket{s}$ es  un vector \n",
    "\n",
    "$$\\ket{s} = \\sin{\\theta}\\ket{w} + \\cos{\\theta}\\ket{s^\\prime}$$\n",
    "\n",
    "  caracterizado por el ángulo $\\sin\\theta = \\frac{1}{\\sqrt{N}}$, "
   ]
  },
  {
   "cell_type": "markdown",
   "id": "e954d422",
   "metadata": {
    "slideshow": {
     "slide_type": "fragment"
    }
   },
   "source": [
    "<center> \n",
    "<img src=\"./figuras/Grover1.png\" width='70%' style='margin:automatic'/>\n",
    "</center>\n"
   ]
  },
  {
   "cell_type": "markdown",
   "id": "798c006f",
   "metadata": {
    "slideshow": {
     "slide_type": "slide"
    }
   },
   "source": [
    "## Amplificación de amplitud"
   ]
  },
  {
   "cell_type": "markdown",
   "id": "e6e5df92",
   "metadata": {
    "slideshow": {
     "slide_type": "fragment"
    }
   },
   "source": [
    "La estrategia se basa en iterar una serie de operaciones que amplifiquen la amplitud de obtener el estado $\\ket{w}$.\n",
    "\n",
    "\n",
    "Geométricamente, cada *iteración de Grover* es una composición de dos [*reflectores*](../00_Formalismo/01_Operadores.ipynb#reflect) $~\n",
    "\\fbox{$G = R_{s_\\perp} R_w$}\n",
    "~$, donde\n",
    "<br>\n",
    "-  **el marcador**, $R_w$, produce una reflexión en la dirección *paralela* a  $\\ket{w}$\n",
    "\n",
    "$$\n",
    "R_w\\ket{s} ~=~ \\left( I - 2\\ket{w}\\bra{w}\\rule{0mm}{8mm}\\right)\\ket{s} ~ = ~ -\\frac{1}{\\sqrt{N}} \\ket{w} + \\sqrt{\\frac{N-1}{N}} \\ket{s^\\prime}\n",
    "$$"
   ]
  },
  {
   "cell_type": "markdown",
   "id": "d9e8c6c0",
   "metadata": {
    "slideshow": {
     "slide_type": "fragment"
    }
   },
   "source": [
    "<center> \n",
    "<img src=\"./figuras/Grover2.png\" width='50%' style='margin:automatic'/>\n",
    "</center>\n"
   ]
  },
  {
   "cell_type": "markdown",
   "id": "7c36c090",
   "metadata": {
    "slideshow": {
     "slide_type": "slide"
    }
   },
   "source": [
    "<div class=\"alert alert-block alert-danger\">\n",
    "    <b>Nota</b>:\n",
    "$\\bullet$\n",
    "El marcador es la parte del algoritmo que <i>conoce</i> la solución. \n",
    "<br> \n",
    "    Podemos formalizar el <i>marcador</i> como la <i>consulta al oráculo</i> $O_f$ asociado a una función que  <i>reconoce</i> la solución cuando la ve\n",
    "<br>\n",
    "<br>\n",
    "\\begin{equation}\n",
    "f_w(x) = \\left\\{ \\begin{array}{lcc}\n",
    "             1 &   \\hbox{si}  & x = w \\\\\n",
    "              0 &  \\hbox{si} & x \\neq w \\end{array}\n",
    "   \\right..\n",
    "\\end{equation}\n",
    "    \n",
    "$\\bullet$  Al igual que cuando buscas una aguja en un pajar, saber cómo es una aguja no te ayuda a encontrarla,  si te encuentras con ella, reconocerla es una operacion de coste unidad. \n",
    "<br>\n",
    "<br>\n",
    "    \n",
    "$\\bullet$ La implementación de esta función es trivial porque sólo contiene un <i>min-term</i> $f_w(x=w)=1$. Podemos\n",
    "    implementar esta función como un <i>oráculo de fase</i>, preparando la ancilla en el estado $\\ket{-}$\n",
    "$$\n",
    "O_f \\ket{x}\\ket{-} = (-1)^{f_w(x)}\\ket{x}\\ket{-} ~= ~ \\left\\{ \\begin{array}{lcc}\n",
    "             -\\ket{x}\\ket{-} &   \\hbox{si}  & x = w \\\\ \\rule{0mm}{6mm}\n",
    "              \\, ~~\\ket{x}\\ket{-} &  \\hbox{si} & x \\neq w \\end{array}\n",
    "   \\right..\n",
    "$$\n",
    "\n",
    "En resumen cada reflexión $U_w$ es equivalente a una consulta al oráculo.\n",
    "    \n",
    "</b>\n",
    "</div>"
   ]
  },
  {
   "cell_type": "markdown",
   "id": "d5082cf8",
   "metadata": {
    "slideshow": {
     "slide_type": "slide"
    }
   },
   "source": [
    "\n",
    "-   **El difusor**, $ R_{s_\\perp}$, es un reflector paralelo a $\\ket{s_\\perp}$, es decir,  perpendicular al estado inicial $\\ket{s}$. Es un resultado que $R_{s_\\perp} = - R_{s}$\n",
    "\n",
    "$$\n",
    "R_{s_\\perp} =  I - 2\\ket{s_\\perp}\\bra{s_\\perp}  =   2\\ket{s}\\bra{s}- I  = - R_s\n",
    "$$"
   ]
  },
  {
   "cell_type": "markdown",
   "id": "33dca94c",
   "metadata": {
    "slideshow": {
     "slide_type": "fragment"
    }
   },
   "source": [
    "<center> \n",
    "<img src=\"./figuras/Grover3.png\" width='70%' style='margin:automatic'/>\n",
    "</center>\n"
   ]
  },
  {
   "cell_type": "markdown",
   "id": "91971e0d",
   "metadata": {
    "slideshow": {
     "slide_type": "slide"
    }
   },
   "source": [
    "En las ilustraciones hemos representado el efecto de una primera iteración de Grover $G = R_{s_\\perp} R_w$ actuando sobre el vector $\\ket{s}$. \n",
    "\n",
    "Observamos que: \n",
    "\n"
   ]
  },
  {
   "cell_type": "markdown",
   "id": "a67f3fa0",
   "metadata": {
    "slideshow": {
     "slide_type": "fragment"
    }
   },
   "source": [
    "- el vector resultante sufre una rotación de ángulo $2\\theta$ en el  plano $\\{\\ket{w},\\ket{s'}\\}$. \n",
    "\n"
   ]
  },
  {
   "cell_type": "markdown",
   "id": "ce4b1144",
   "metadata": {
    "slideshow": {
     "slide_type": "fragment"
    }
   },
   "source": [
    "\n",
    "\n",
    "- la amplitud del estado $\\ket{w}$ aumenta a expensas de las amplitudes de los demás estados.\n"
   ]
  },
  {
   "cell_type": "markdown",
   "id": "f1ffd2a6",
   "metadata": {
    "slideshow": {
     "slide_type": "fragment"
    }
   },
   "source": [
    "- este hecho no depende de cómo sea $\\ket{s}$, por tanto: es cierto *para cada iteración* $G$ de Grover.\n",
    "\n",
    "<details>\n",
    "<summary><p style=\"color:blue\"> >> Demostración </p></summary>\n",
    "    \n",
    "La demostración consiste en relacionar los vectores resultantes de aplicar el operador de Grover $k$  y $k-1$ veces\n",
    "En general tendremos que \n",
    "\n",
    "$$\n",
    "G^k\\ket{s}  = a_k\\ket{w} + b_k \\ket{s^\\prime}\n",
    "$$\n",
    "\n",
    "para ciertos coeficientes $a_k, b_k$. Ahora operamos\n",
    "\n",
    "\\begin{eqnarray}\n",
    "G^k\\ket{s} & = &a_k\\ket{w} + b_k \\ket{s^\\prime} \\\\\n",
    "&=& -U_sU_w\\left(a_{k-1}\\ket{w} + b_{k-1} \\ket{s^\\prime}\\right) \\\\\n",
    "&=& \\left( 2 \\ket{s}\\bra{s} -I \\right)\\left(-a_{k-1}\\ket{w} + b_{k-1}\\ket{s^\\prime}\\right)\\\\\n",
    "&=& \\left(a_{k-1}\\ket{w} - b_{k-1}\\ket{s^\\prime}\\right) + 2\\ket{s} \\left(-a_{k-1}\\braket{s}{w}+b_{k-1}\\braket{s}{s^\\prime}\\right) \\\\\n",
    "&=& a_{k-1}\\ket{w} - b_{k-1}\\ket{s^\\prime} + 2\\left(\\frac{1}{\\sqrt{N}}\\ket{w} + \\sqrt{\\frac{N-1}{N}}\\ket{s^\\prime}\\right) \\left(-a_{k-1}\\frac{1}{\\sqrt{N}}+b_{k-1}\\sqrt{\\frac{N-1}{N}}\\right) \\\\\n",
    "&=&\\left(a_{k-1} - \\frac{2}{N} a_{k-1} + 2\\frac{\\sqrt{N-1}}{N}\\right)\\ket{w} + \\left(b_{k-1} - 2\\frac{\\sqrt{N-1}}{N}a_{k-1} + 2\\frac{N-1}{N}b_{k-1}\\right)\\ket{s^\\prime}.\n",
    "\\end{eqnarray}\n",
    "    \n",
    "Agrupando términos, esta ecuación se puede escribir en forma matricial como\n",
    "\n",
    "$$\n",
    "\\begin{bmatrix}\n",
    "a_k\\\\\n",
    "b_k\n",
    "\\end{bmatrix}\n",
    "=\n",
    "\\begin{bmatrix}\n",
    "\\frac{N-2}{N} & 2\\frac{\\sqrt{N-1}}{N}\\\\\n",
    "-2\\frac{\\sqrt{N-1}}{N} & \\frac{N-2}{N}\n",
    "\\end{bmatrix}\n",
    "\\begin{bmatrix}\n",
    "a_{k-1}\\\\\n",
    "b_{k-1}\n",
    "\\end{bmatrix}.\n",
    "$$\n",
    "    \n",
    "Es sencillo ver que esta matriz tiene determinante unidad, es decir, ha de ser una matriz de rotación\n",
    "    \n",
    "$$\\text{det}(G)=\\frac{\\left(N-2\\right)^2}{N^2} + 4\\frac{N-1}{N^2} = \\frac{N^2 - 4N + 4}{N^2} + \\frac{4N-4}{N^2} = 1$$\n",
    "    \n",
    "Recordando\n",
    "    \n",
    "$$\\sin{\\theta} = \\frac{1}{\\sqrt{N}}~~~\\Rightarrow ~~~\\cos{\\theta} = \\sqrt{\\frac{N-1}{N}} $$\n",
    "\n",
    "$$\\cos^2{\\theta} - \\sin^2{\\theta} = \\frac{N-2}{N} = \\cos{2\\theta}$$\n",
    "    \n",
    "$$2\\sin{\\theta}\\cos{\\theta} =2\\frac{\\sqrt{N-2}}{N}= \\sin{2\\theta}$$\n",
    "    \n",
    "se llega a\n",
    "    \n",
    "$$G=\\begin{bmatrix}\n",
    "\\cos{2\\theta} & \\sin{2\\theta}\\\\\n",
    "-\\sin{2\\theta} & \\cos{2\\theta}\n",
    "\\end{bmatrix}$$\n",
    "\n",
    "Esta es una matriz de rotación que gira un ángulo $2\\theta$ en sentido antihorario. Es elementar comprobar que\n",
    "\n",
    "$$\n",
    "G^2  = \\begin{bmatrix}\n",
    "\\cos{4\\theta} & \\sin{4\\theta}\\\\\n",
    "-\\sin{4\\theta} & \\cos{4\\theta} \n",
    "\\end{bmatrix}\n",
    "\\hspace{1cm}... \\hspace{1cm}\n",
    "G^k = \\begin{bmatrix}\n",
    "\\cos{2k\\theta} & \\sin{2k\\theta}\\\\\n",
    "-\\sin{2k\\theta} & \\cos{2k\\theta}\n",
    "\\end{bmatrix}\n",
    "$$\n",
    "</details>\n",
    "\n"
   ]
  },
  {
   "cell_type": "markdown",
   "id": "b9f988fc",
   "metadata": {
    "slideshow": {
     "slide_type": "slide"
    }
   },
   "source": [
    "La demostración consiste en relacionar los vectores resultantes de aplicar el operador de Grover $k$  y $k-1$ veces\n",
    "En general tendremos que \n",
    "\n",
    "$$\n",
    "G^k\\ket{s}  = a_k\\ket{w} + b_k \\ket{s^\\prime}\n",
    "$$\n",
    "\n",
    "para ciertos coeficientes $a_k, b_k$. Ahora operamos\n",
    "\n",
    "\\begin{eqnarray}\n",
    "G^k\\ket{s} & = &a_k\\ket{w} + b_k \\ket{s^\\prime} \\\\\n",
    "&=& -U_sU_w\\left(a_{k-1}\\ket{w} + b_{k-1} \\ket{s^\\prime}\\right) \\\\\n",
    "&=& \\left( 2 \\ket{s}\\bra{s} -I \\right)\\left(-a_{k-1}\\ket{w} + b_{k-1}\\ket{s^\\prime}\\right)\\\\\n",
    "&=& \\left(a_{k-1}\\ket{w} - b_{k-1}\\ket{s^\\prime}\\right) + 2\\ket{s} \\left(-a_{k-1}\\braket{s}{w}+b_{k-1}\\braket{s}{s^\\prime}\\right) \\\\\n",
    "&=& a_{k-1}\\ket{w} - b_{k-1}\\ket{s^\\prime} + 2\\left(\\frac{1}{\\sqrt{N}}\\ket{w} + \\sqrt{\\frac{N-1}{N}}\\ket{s^\\prime}\\right) \\left(-a_{k-1}\\frac{1}{\\sqrt{N}}+b_{k-1}\\sqrt{\\frac{N-1}{N}}\\right) \\\\\n",
    "&=&\\left(a_{k-1} - \\frac{2}{N} a_{k-1} + 2\\frac{\\sqrt{N-1}}{N}\\right)\\ket{w} + \\left(b_{k-1} - 2\\frac{\\sqrt{N-1}}{N}a_{k-1} + 2\\frac{N-1}{N}b_{k-1}\\right)\\ket{s^\\prime}.\n",
    "\\end{eqnarray}\n",
    "    \n",
    "Agrupando términos, esta ecuación se puede escribir en forma matricial como\n",
    "\n",
    "$$\n",
    "\\begin{bmatrix}\n",
    "a_k\\\\\n",
    "b_k\n",
    "\\end{bmatrix}\n",
    "=\n",
    "\\begin{bmatrix}\n",
    "\\frac{N-2}{N} & 2\\frac{\\sqrt{N-1}}{N}\\\\\n",
    "-2\\frac{\\sqrt{N-1}}{N} & \\frac{N-2}{N}\n",
    "\\end{bmatrix}\n",
    "\\begin{bmatrix}\n",
    "a_{k-1}\\\\\n",
    "b_{k-1}\n",
    "\\end{bmatrix}.\n",
    "$$\n",
    "    \n",
    "Es sencillo ver que esta matriz tiene determinante unidad, es decir, ha de ser una matriz de rotación\n",
    "    \n",
    "$$\\text{det}(G)=\\frac{\\left(N-2\\right)^2}{N^2} + 4\\frac{N-1}{N^2} = \\frac{N^2 - 4N + 4}{N^2} + \\frac{4N-4}{N^2} = 1$$\n",
    "    \n"
   ]
  },
  {
   "cell_type": "markdown",
   "id": "3f7ffadc",
   "metadata": {
    "slideshow": {
     "slide_type": "slide"
    }
   },
   "source": [
    "Recordando\n",
    "    \n",
    "$$\\sin{\\theta} = \\frac{1}{\\sqrt{N}}~~~\\Rightarrow ~~~\\cos{\\theta} = \\sqrt{\\frac{N-1}{N}} $$\n",
    "\n",
    "$$\\cos^2{\\theta} - \\sin^2{\\theta} = \\frac{N-2}{N} = \\cos{2\\theta}$$\n",
    "    \n",
    "$$2\\sin{\\theta}\\cos{\\theta} =2\\frac{\\sqrt{N-2}}{N}= \\sin{2\\theta}$$\n",
    "    \n",
    "se llega a\n",
    "    \n",
    "$$G=\\begin{bmatrix}\n",
    "\\cos{2\\theta} & \\sin{2\\theta}\\\\\n",
    "-\\sin{2\\theta} & \\cos{2\\theta}\n",
    "\\end{bmatrix}$$\n",
    "\n",
    "Esta es una matriz de rotación que gira un ángulo $2\\theta$ en sentido antihorario. Es elementar comprobar que\n",
    "\n",
    "$$\n",
    "G^2  = \\begin{bmatrix}\n",
    "\\cos{4\\theta} & \\sin{4\\theta}\\\\\n",
    "-\\sin{4\\theta} & \\cos{4\\theta} \n",
    "\\end{bmatrix}\n",
    "\\hspace{1cm}... \\hspace{1cm}\n",
    "G^k = \\begin{bmatrix}\n",
    "\\cos{2k\\theta} & \\sin{2k\\theta}\\\\\n",
    "-\\sin{2k\\theta} & \\cos{2k\\theta}\n",
    "\\end{bmatrix}\n",
    "$$"
   ]
  },
  {
   "cell_type": "markdown",
   "id": "bcd96820",
   "metadata": {
    "slideshow": {
     "slide_type": "slide"
    }
   },
   "source": [
    "## El circuito de Grover\n",
    "\n",
    "La tarea ahora es crear sendos circuitos implementen las reflexiones $R_w$ y $R_s$.\n",
    "\n",
    "Comenzaremos repasando la prescripción general para programar estos operadores."
   ]
  },
  {
   "cell_type": "markdown",
   "id": "17908134",
   "metadata": {
    "slideshow": {
     "slide_type": "fragment"
    }
   },
   "source": [
    "<div class=\"alert alert-block alert-info\">\n",
    "<p style=\"text-align: center;\"> <p style=\"text-align: left ;color: navy;\">  \n",
    "<b> Lema:</b>\n",
    "<br>\n",
    "Sea $\\ket{\\psi}$ un vector <i>preparable</i> en la forma  $\\ket{\\psi} = V\\ket{0}$. El reflector paralelo a $\\ket{\\psi}$ es\n",
    "<br>\n",
    "<br>\n",
    "$$\n",
    "R_\\psi = I - 2\\ket{\\psi}\\bra{\\psi} = V \\left( I - 2\\ket{0}\\bra{0}\\rule{0mm}{6mm} \\right) V^\\dagger = V R_0 V^\\dagger\n",
    "$$\n",
    "</div>"
   ]
  },
  {
   "cell_type": "markdown",
   "id": "bacf22b9",
   "metadata": {
    "slideshow": {
     "slide_type": "fragment"
    }
   },
   "source": [
    "De modo que sólo necesitamos un circuito para el reflector  $~R_0 = I- 2\\ket{0}\\bra{0}~$ *paralelo* al estado $\\ket{0}$.\n",
    "\n"
   ]
  },
  {
   "cell_type": "markdown",
   "id": "55736752",
   "metadata": {
    "slideshow": {
     "slide_type": "slide"
    }
   },
   "source": [
    "<div class=\"alert alert-block alert-info\">\n",
    "<p style=\"text-align: center;\"> <p style=\"text-align: left ;color: navy;\">  \n",
    "<b> Lema:</b>\n",
    "<br>\n",
    "El siguiente circuito  implementa la acción del  <i>reflector</i> $R_0$ paralelo al estado $\\ket{0}$ es\n",
    "<br>\n",
    "<br>\n",
    "$$~~R_0 ~=~ I- 2\\ket{0}\\bra{0} ~=~ \\sum_{x\\neq 0}\\ket{x}\\bra{x}-\\ket{0}\\bra{0}$$    \n",
    "<br>\n",
    "<br>\n",
    "<center> \n",
    "<img src=\"./figuras/Reflection0.png\" width='20%' style='margin:automatic'/>\n",
    "</center>\n",
    "<br>\n",
    "<p style=\"text-align: center;\"> <p style=\"text-align: left ;color: navy;\">  \n",
    "donde la cadena $XZX$ puede situarse en cualquier cúbit, no necesariamente el último. \n",
    "</div>"
   ]
  },
  {
   "cell_type": "code",
   "execution_count": 2,
   "id": "22ae3d2e",
   "metadata": {
    "slideshow": {
     "slide_type": "slide"
    }
   },
   "outputs": [],
   "source": [
    "from qiskit.circuit.library import ZGate\n",
    "from qiskit import QuantumRegister, ClassicalRegister,QuantumCircuit\n",
    "\n",
    "def R0(n):    \n",
    "            \n",
    "    qr = QuantumRegister(n)\n",
    "    qc = QuantumCircuit(qr) \n",
    "    qc.x(n-1)\n",
    "    qc.append(ZGate().control(n-1,ctrl_state= 0),qr)\n",
    "    qc.x(n-1)\n",
    "    qcR0 =  qc.to_gate()\n",
    "    qcR0.name = 'R0'\n",
    "    return qcR0"
   ]
  },
  {
   "cell_type": "code",
   "execution_count": 3,
   "id": "3ff49a94",
   "metadata": {
    "slideshow": {
     "slide_type": "fragment"
    }
   },
   "outputs": [
    {
     "data": {
      "image/png": "[encoded data removed]",
      "text/plain": [
       "<Figure size 371.107x367.889 with 1 Axes>"
      ]
     },
     "execution_count": 3,
     "metadata": {},
     "output_type": "execute_result"
    }
   ],
   "source": [
    "R0(4).definition.draw('mpl')"
   ]
  },
  {
   "cell_type": "markdown",
   "id": "6ea3f791",
   "metadata": {
    "slideshow": {
     "slide_type": "slide"
    }
   },
   "source": [
    "### Codificando el marcador $O = R_w$"
   ]
  },
  {
   "cell_type": "markdown",
   "id": "4ea0e1f7",
   "metadata": {
    "slideshow": {
     "slide_type": "fragment"
    }
   },
   "source": [
    "Comenzando por $R_w$, se trata de  un operador que depende del vector desconocido $w$. Por tanto esa etiqueta debe figurar como un argumento oculto de la función que sirva para construir el operador $V(w)\\ket{0} = \\ket{w}$.\n",
    "\n",
    "Simplemente es necesario añadir un operador $X$ por cada $1$ que haya en la versión binaria de $w$."
   ]
  },
  {
   "cell_type": "code",
   "execution_count": 4,
   "id": "92be3589",
   "metadata": {
    "run_control": {
     "marked": false
    },
    "slideshow": {
     "slide_type": "fragment"
    }
   },
   "outputs": [],
   "source": [
    "def Rw(n,w):        \n",
    "            \n",
    "    qr = QuantumRegister(n)\n",
    "    qc = QuantumCircuit(qr) \n",
    "    wstring = format(int(w), 'b').zfill(n)\n",
    "    for i,wi in enumerate(reversed(wstring)):\n",
    "        if wi == '1':\n",
    "            qc.x(qr[i])\n",
    "    qc.append(R0(n),qr)        \n",
    "#    qc.append(ZGate().control(n-1,ctrl_state= 0),qr) # el reflector R0\n",
    "    for i,wi in enumerate(reversed(wstring)):\n",
    "        if wi == '1':\n",
    "            qc.x(qr[i])\n",
    "    qcRw =  qc.to_gate()\n",
    "    qcRw.name='Rw'\n",
    "    return qcRw\n"
   ]
  },
  {
   "cell_type": "code",
   "execution_count": 5,
   "id": "83c50765",
   "metadata": {
    "slideshow": {
     "slide_type": "slide"
    }
   },
   "outputs": [
    {
     "data": {
      "image/png": "[encoded data removed]",
      "text/plain": [
       "<Figure size 371.107x367.889 with 1 Axes>"
      ]
     },
     "execution_count": 5,
     "metadata": {},
     "output_type": "execute_result"
    }
   ],
   "source": [
    "# Sobre un circuito de 4 cúbits, sea el estado w = 6 = 0110 \n",
    "Rw(4,6).definition.draw('mpl')"
   ]
  },
  {
   "cell_type": "markdown",
   "id": "2d27788c",
   "metadata": {
    "slideshow": {
     "slide_type": "slide"
    }
   },
   "source": [
    "### Codificando el difusor $D = R_{s_\\perp}$"
   ]
  },
  {
   "cell_type": "markdown",
   "id": "1c82d7e3",
   "metadata": {},
   "source": [
    "Recordemos que $R_{s_\\perp} = - R_s$, el reflector *perpendicular* a $\\ket{s}$ es el negativo del reflector *paralelo*."
   ]
  },
  {
   "cell_type": "markdown",
   "id": "171f34e3",
   "metadata": {
    "slideshow": {
     "slide_type": "fragment"
    }
   },
   "source": [
    "Ahora codificamos el reflector $R_s = V R_0 V^\\dagger$, donde el operador $V:\\ket{0}\\to\\ket{s}$ es la puerta de Walsh-Hadamard $V=H^{\\otimes n}$"
   ]
  },
  {
   "cell_type": "code",
   "execution_count": 6,
   "id": "8fe6b173",
   "metadata": {
    "slideshow": {
     "slide_type": "fragment"
    }
   },
   "outputs": [],
   "source": [
    "def Rs(n):        \n",
    "            \n",
    "    qr = QuantumRegister(n)\n",
    "    qc = QuantumCircuit(qr) \n",
    "    qc.h(qr)\n",
    "    qc.append(R0(n),qr)\n",
    "    qc.h(qr)\n",
    "    qcRs = qc.to_gate()\n",
    "    qcRs.name='Rs'\n",
    "    return qcRs\n"
   ]
  },
  {
   "cell_type": "code",
   "execution_count": 7,
   "id": "114c9884",
   "metadata": {
    "slideshow": {
     "slide_type": "fragment"
    }
   },
   "outputs": [
    {
     "data": {
      "image/png": "[encoded data removed]",
      "text/plain": [
       "<Figure size 371.107x367.889 with 1 Axes>"
      ]
     },
     "execution_count": 7,
     "metadata": {},
     "output_type": "execute_result"
    }
   ],
   "source": [
    "Rs(4).definition.draw('mpl')"
   ]
  },
  {
   "cell_type": "markdown",
   "id": "00e7ef6c",
   "metadata": {
    "slideshow": {
     "slide_type": "slide"
    }
   },
   "source": [
    "Con estos dos ingredientes ya podríamos fabricar el operador de Grover. \n",
    "\n",
    "$$\n",
    " G = D \\, O = -R_s  R_w\n",
    "$$"
   ]
  },
  {
   "cell_type": "markdown",
   "id": "806f3916",
   "metadata": {},
   "source": [
    "<div class=\"alert alert-block alert-danger\">\n",
    "<b> Notar: </b> \n",
    "<br>\n",
    "¡no sabemos implementar  $-R_s$! $~$, sólo $R_s$. De modo que lo más cercano a la iteración de Grover que podemos conseguir es\n",
    "$\n",
    "\\Rightarrow  R_s R_w = - G \n",
    "$\n",
    "\n",
    "El signo menos, en apariencia es una fase global y no debería afectar a las probabilidades finales que son sus módulos al cuadrado. \n",
    "    \n",
    "De modo que, de momento, lo vamos a ignorar, pero mantenemos una nota de atención sobre este hecho.\n",
    "</div>"
   ]
  },
  {
   "cell_type": "markdown",
   "id": "ae79abb6",
   "metadata": {},
   "source": [
    "<center> \n",
    "<img src=\"./figuras/Grover5.png\" width='60%' style='margin:automatic'/>\n",
    "</center>\n"
   ]
  },
  {
   "cell_type": "code",
   "execution_count": 8,
   "id": "f79fe19d",
   "metadata": {
    "slideshow": {
     "slide_type": "slide"
    }
   },
   "outputs": [],
   "source": [
    "\n",
    "def G(n,w):                    \n",
    "    qr = QuantumRegister(n)\n",
    "    qc = QuantumCircuit(qr) \n",
    "\n",
    "    qc.append(Rw(n,w),qr)\n",
    "    qc.append(Rs(n),qr)\n",
    "    \n",
    "    qcG=qc.to_gate()\n",
    "    qcG.name='-G'\n",
    "    return qcG\n"
   ]
  },
  {
   "cell_type": "code",
   "execution_count": 9,
   "id": "d0fa0600",
   "metadata": {
    "slideshow": {
     "slide_type": "fragment"
    }
   },
   "outputs": [
    {
     "data": {
      "image/png": "[encoded data removed]",
      "text/plain": [
       "<Figure size 287.496x367.889 with 1 Axes>"
      ]
     },
     "execution_count": 9,
     "metadata": {},
     "output_type": "execute_result"
    }
   ],
   "source": [
    "G(4,6).definition.draw('mpl')"
   ]
  },
  {
   "cell_type": "markdown",
   "id": "9a88b7a0",
   "metadata": {
    "slideshow": {
     "slide_type": "slide"
    }
   },
   "source": [
    "### El circuito de Grover\n",
    "\n",
    "finalmente podemos componer el circuito, que contiene la solución $w$ como argumento de $G$"
   ]
  },
  {
   "cell_type": "code",
   "execution_count": 10,
   "id": "caefae22",
   "metadata": {
    "slideshow": {
     "slide_type": "fragment"
    }
   },
   "outputs": [
    {
     "name": "stdout",
     "output_type": "stream",
     "text": [
      "0110\n"
     ]
    },
    {
     "data": {
      "image/png": "[encoded data removed]",
      "text/plain": [
       "<Figure size 992.644x451.5 with 1 Axes>"
      ]
     },
     "execution_count": 10,
     "metadata": {},
     "output_type": "execute_result"
    }
   ],
   "source": [
    "#### el número de cúbits de la base de datos\n",
    "n=4\n",
    "# el número de iteraciones de Grover\n",
    "it =3\n",
    "# la solución oculta en decimal y en binario\n",
    "w = 6\n",
    "wstring = format(int(w), 'b').zfill(n)\n",
    "print(wstring)\n",
    "\n",
    "# el circuito de Grover\n",
    "qr = QuantumRegister(n)\n",
    "cr = ClassicalRegister(n)\n",
    "qcGrover = QuantumCircuit(qr,cr)\n",
    "qcGrover.h(qr)\n",
    "qcGrover.barrier()\n",
    "\n",
    "for i in range(it):\n",
    "    qcGrover.append(G(n,w),qr)\n",
    "\n",
    "qcGrover.barrier()\n",
    "\n",
    "# medimos el resultado\n",
    "qcGrover.measure(qr,cr)\n",
    "qcGrover.draw('mpl')"
   ]
  },
  {
   "cell_type": "code",
   "execution_count": 11,
   "id": "d5d442a7",
   "metadata": {
    "slideshow": {
     "slide_type": "slide"
    }
   },
   "outputs": [
    {
     "data": {
      "image/png": "[encoded data removed]",
      "text/plain": [
       "<Figure size 700x500 with 1 Axes>"
      ]
     },
     "execution_count": 11,
     "metadata": {},
     "output_type": "execute_result"
    }
   ],
   "source": [
    "from qiskit import Aer, execute\n",
    "M_simulator = Aer.get_backend('qasm_simulator')\n",
    "\n",
    "shots = 10000\n",
    "\n",
    "# Ejecutamos la simulación y recogemos el número de cuentas de cada estado\n",
    "cuentas = execute(qcGrover,backend=M_simulator, shots=shots).result().get_counts()\n",
    "\n",
    "\n",
    "# Calculamos la probabilidad de medir w\n",
    "#prob_w = cuentas[wstring]/shots\n",
    "#print(r'La probabilidad de medir w=%s es %f' % (w, prob_w))\n",
    "\n",
    "# Histogramamos las probabilidades\n",
    "from qiskit.visualization import plot_histogram\n",
    "plot_histogram(cuentas)"
   ]
  },
  {
   "cell_type": "markdown",
   "id": "5ec9a25d",
   "metadata": {
    "slideshow": {
     "slide_type": "slide"
    }
   },
   "source": [
    "## La rotación óptima"
   ]
  },
  {
   "cell_type": "markdown",
   "id": "a0d4ab3c",
   "metadata": {
    "slideshow": {
     "slide_type": "fragment"
    }
   },
   "source": [
    "Se sigue de la figura que ilustra la acción de $G$ que cada iteración de  produce una rotación de ángulo $2\\theta$ donde $\\theta = \\arcsin 1/\\sqrt{N}$ es el ángulo inicial\n",
    "\n",
    "\\begin{eqnarray}\n",
    "\\ket{s} &=&  \\sin \\theta \\ket{w} + \\cos  \\theta \\ket{s'} \\nonumber\\\\ \\rule{0mm}{5mm}\n",
    "G \\ket{s} &=& \\sin 3\\theta \\ket{w} + \\cos 3 \\theta \\ket{s'}\\\\ \\rule{0mm}{5mm}\n",
    "G^2 \\ket{s} &=& \\sin 5\\theta \\ket{w} + \\cos 5 \\theta \\ket{s'}\\\\\\rule{0mm}{5mm}\n",
    "\\vdots\n",
    "\\end{eqnarray}"
   ]
  },
  {
   "cell_type": "markdown",
   "id": "f3a78ddf",
   "metadata": {
    "slideshow": {
     "slide_type": "fragment"
    }
   },
   "source": [
    "Esta rotación puede representarse en la forma de una matriz\n",
    "\n",
    "$$\n",
    "G\\ket{s} = G\\begin{bmatrix}\\sin\\theta \\\\ \\cos\\theta\\end{bmatrix} = \\begin{bmatrix} \\sin 2\\theta & \\cos 2 \\theta \\\\ - \\cos 2\\theta & \\sin 2\\theta \\end{bmatrix} \\begin{bmatrix}\\sin\\theta \\\\ \\cos\\theta \\end{bmatrix} =\n",
    "\\begin{bmatrix}\\sin 3 \\theta \\\\ \\cos3\\theta \\end{bmatrix}\n",
    "$$"
   ]
  },
  {
   "cell_type": "markdown",
   "id": "c20eb0ae",
   "metadata": {
    "slideshow": {
     "slide_type": "fragment"
    }
   },
   "source": [
    "La iteración del circuito de Grover conduce a una sucesión de vectores\n",
    "\n",
    "$$\n",
    "G^k\\ket{s} = \\begin{bmatrix} \\sin 2k\\theta & \\cos 2k \\theta \\\\ - \\cos 2k\\theta & \\sin 2k\\theta \\end{bmatrix} \\begin{bmatrix}\\sin\\theta \\\\ \\cos\\theta \\end{bmatrix} = \\begin{bmatrix}\\sin(2k+1)\\theta  \\\\\n",
    "\\cos(2k+1)\\theta \\end{bmatrix}\n",
    "$$\n",
    "que giran *sin salirse* del plano $(\\ket{w},\\ket{s'})$"
   ]
  },
  {
   "cell_type": "markdown",
   "id": "1be537fc",
   "metadata": {
    "slideshow": {
     "slide_type": "fragment"
    }
   },
   "source": [
    "<div class=\"alert alert-block alert-success\">\n",
    "<b> Ejercicio: </b> prueba esta igualdad\n",
    "\n",
    "<details><summary><p style=\"text-align:left\"> >> <i>Solución</i></p></summary>\n",
    "Para demostrar el lema escribimos un vector de estado general usando la representación polar para las componentes complejas\n",
    "    \n",
    "$$\n",
    "\\begin{array}{rcl}\n",
    "\\ket{u} &=& u_0\\ket{0} + u_1\\ket{1} \\\\\n",
    "&=& a_0 e^{i b_0}\\ket{0} + a_1 e^{ib_1}\\ket{1}\\\\\n",
    "&=& e^{i b_0}\\big(a_0 \\ket{0} + a_1 e^{i(b_1-b_0)}\\ket{1}\\big)\\\\\n",
    "&\\sim & \\big( a_0 \\ket{0} + a_1 e^{i(b_1-b_0)}\\ket{1} \\big)\n",
    "\\end{array}\n",
    "$$\n",
    "    \n",
    "donde hemos hecho uso de la irrelevancia de una fase global para descartar $e^{i b_0}$ en la última línea.\n",
    "\n",
    "Ahora $a_1$ y $a_0$ no son números independientes sino que verifican $a_0^2 + a_1^2 = 0$ para que $\\|\\ket{u}\\|=1$.\n",
    "Esta ecuación se puede resolver en términos de un ángulo $\\theta/2$ tal que\n",
    "$$\n",
    "a_0 = \\cos\\frac{\\theta}{2}~~~,~~~ a_1 = \\sin\\frac{\\theta}{2} \n",
    "$$\n",
    "Por su parte, de los números $b_1, b_2$ sólo la diferencia\n",
    "$$\n",
    "\\varphi = b_1-b_2\n",
    "$$\n",
    "es relevante para especificar $\\ket{u}$.   \n",
    "</details>\n",
    "    \n",
    "</div>"
   ]
  },
  {
   "cell_type": "markdown",
   "id": "169aed4d",
   "metadata": {
    "slideshow": {
     "slide_type": "slide"
    }
   },
   "source": [
    "Esta rotación comienza aumentanto la amplitud del estado $\\ket{w}$ ya que $\\sin 3\\theta > \\sin \\theta$. Éste es el efecto de *amplificación de amplitud* buscado\n",
    "\n",
    "Habrá un valor de $k$ para el cuál la iteración se aproxime mucho al valor $\\sin (2k+1)\\theta \\approx 1$. \n",
    "\n",
    "Valores de $k$ superiores conducen a una supresión de dicha amplitud al rotar el vector $G^k\\ket{s}$ alejándose del eje $\\ket{w}$."
   ]
  },
  {
   "cell_type": "markdown",
   "id": "3c39becb",
   "metadata": {
    "slideshow": {
     "slide_type": "fragment"
    }
   },
   "source": [
    "Por para conocer el número óptimo de iteraciones, debemos solucionar  la ecuación de *máxima amplitud*\n",
    "\n",
    "$$\n",
    "\\sin (2k+1)\\theta) = 1\n",
    "$$\n",
    "\n",
    "- Esta ecuación tendría fácil solución \n",
    "<br>\n",
    "<br>\n",
    "$$\n",
    "(2k+1)\\theta)  = \\frac{\\pi}{2} ~~~~\\Rightarrow ~~~~ k = \\frac{\\pi}{4\\theta} - \\frac{1}{2}\n",
    "$$\n",
    "<br>\n",
    "<br>\n",
    "   si $k$ fuese un número real. "
   ]
  },
  {
   "cell_type": "markdown",
   "id": "1ddb957a",
   "metadata": {
    "slideshow": {
     "slide_type": "fragment"
    }
   },
   "source": [
    "- Pero es un número entero $ \\Rightarrow $ el siguiente teorema da la **solución óptima**"
   ]
  },
  {
   "cell_type": "markdown",
   "id": "4c7dcac4",
   "metadata": {
    "slideshow": {
     "slide_type": "slide"
    }
   },
   "source": [
    "<div class=\"alert alert-block alert-info\">\n",
    "<p style=\"text-align: center;\"> <p style=\"text-align: left ;color: navy;\">  \n",
    "<b> Teorema: </b> \n",
    "<br>\n",
    "el valor entero de $k\\in{\\mathbb Z}$ que maximiza la probabilidad $P_k = \\sin^2((2k+1)\\theta)$ de medir la solución $w$  es la parte entera \n",
    "<br>\n",
    "<br>    \n",
    "$$\n",
    "k_{op} = \\left[ \\frac{\\pi}{4\\theta} \\right]\n",
    "$$\n",
    "<br>\n",
    " donde $\\theta = \\arcsin \\sqrt{\\frac{1}{N}}$.\n",
    "<br>\n",
    "Se cumple en este caso que:\n",
    "<br>\n",
    "<br>\n",
    "$$\n",
    "1 - \\frac{1}{N} \\leq P_{k_{op}} \\leq 1\\, .\n",
    "$$\n",
    "</div>"
   ]
  },
  {
   "cell_type": "markdown",
   "id": "b1678f36",
   "metadata": {
    "slideshow": {
     "slide_type": "fragment"
    }
   },
   "source": [
    "<div class=\"alert alert-block alert-success\">\n",
    "<b> Ejercicio: </b> \n",
    "    \n",
    "ejecuta el algoritmo de Grover variando el número <i>it</i> de iteraciones de Grover y verifica que el valor de $k$ óptimo es el enunciado en el teorema.\n",
    "</div>"
   ]
  },
  {
   "cell_type": "markdown",
   "id": "00a47146",
   "metadata": {
    "slideshow": {
     "slide_type": "slide"
    }
   },
   "source": [
    "Cuando $N\\to \\infty$, es decir, cuando nuestra base de datos es muy grande \n",
    "el vector inicial tiene un ángulo muy pequeño. \n",
    "\n",
    "$$\n",
    "\\theta = \\arcsin \\frac{1}{\\sqrt{N}} \\to \\frac{1}{\\sqrt{N}} - ....\n",
    "$$\n",
    "\n",
    "a orden más bajo en serie de potencias de $1/\\sqrt{N}$\n"
   ]
  },
  {
   "cell_type": "markdown",
   "id": "76d54fd3",
   "metadata": {
    "slideshow": {
     "slide_type": "fragment"
    }
   },
   "source": [
    "<div class=\"alert alert-block alert-info\">\n",
    "<p style=\"text-align: center;\"> <p style=\"text-align: left ;color: navy;\">  \n",
    "<b> Teorema: </b> en el límite  de $N\\to\\infty$ el tiempo que necesita el algoritmo de Grover para aproximarse \n",
    "máximamente a la solución crece como \n",
    "<br>\n",
    "<br>\n",
    "$$\n",
    "k_{op} \\approx \\frac{\\pi}{4}\\sqrt{N}\n",
    "$$\n",
    "</div>"
   ]
  },
  {
   "cell_type": "markdown",
   "id": "75be4982",
   "metadata": {
    "slideshow": {
     "slide_type": "fragment"
    }
   },
   "source": [
    "Esto supone un crecimiento $\\mathcal{O}(\\sqrt{N})$ en lugar de $\\mathcal{O}(N)$ que es lo que esperaríamos clásicamente. \n"
   ]
  },
  {
   "cell_type": "markdown",
   "id": "79c665f5",
   "metadata": {
    "slideshow": {
     "slide_type": "slide"
    }
   },
   "source": [
    "<a id='agujas'></a>\n",
    "<table width=\"100%\">\n",
    "    <td style=\"font-size:250%px;font-family:Helvetica;text-align:left;background-color:rgba(0,0,900, 0.3);\">\n",
    "<b> Varias agujas en un pajar </b>\n",
    "</table>   "
   ]
  },
  {
   "cell_type": "markdown",
   "id": "0c575494",
   "metadata": {
    "slideshow": {
     "slide_type": "slide"
    }
   },
   "source": [
    "Un usuario podría tener más de una línea telefónica contratada. En ese caso, *varios* números de teléfono servirán para dar con *un sólo* nombre."
   ]
  },
  {
   "cell_type": "markdown",
   "id": "a6793187",
   "metadata": {
    "slideshow": {
     "slide_type": "fragment"
    }
   },
   "source": [
    "Supondremos ahora que la búsqueda en la base de datos admite $M$ resultados satisfactorios distintos $w_1,....,w_M$."
   ]
  },
  {
   "cell_type": "markdown",
   "id": "2cbd8829",
   "metadata": {
    "slideshow": {
     "slide_type": "fragment"
    }
   },
   "source": [
    "Ahora los vectores de la base que *son solución* $\\{\\ket{w_i} \\}$ generan un *subespacio* $\\mathcal{B} \\subset \\mathcal{H}$ de dimension $M$.  \n",
    "\n",
    "Podemos descomponer $~\\Hil = {\\cal B} \\oplus {\\cal B}_\\perp$ en suma directa de subespacios *solución* y su ortogonal.\n",
    "Un vector $\\ket{x}\\notin {\\cal B}~$ será $~\\ket{x} \\in {\\cal B}_\\perp$"
   ]
  },
  {
   "cell_type": "markdown",
   "id": "2cfe985b",
   "metadata": {
    "slideshow": {
     "slide_type": "fragment"
    }
   },
   "source": [
    "Definamos\n",
    "\\begin{equation}\n",
    "\\ket{w} = \\frac{1}{\\sqrt{M}}\\sum_{x\\in \\mathcal{B}}\\ket{x} = \\frac{1}{\\sqrt{M}}\\sum_i^M \\ket{w_i} \\in {\\cal B}\n",
    "~~~~~~~,~~~~~~~~\n",
    "\\ket{s^\\prime} = \\frac{1}{\\sqrt{N-M}}\\sum_{x \\in \\mathcal{B}_\\perp}\\ket{x} \\in {\\cal B}_\\perp\n",
    "\\end{equation}"
   ]
  },
  {
   "cell_type": "markdown",
   "id": "0546bd45",
   "metadata": {
    "slideshow": {
     "slide_type": "fragment"
    }
   },
   "source": [
    "El vector inicial se puede descomponer en suma de sus componentes *a lo largo* de ${\\cal B}$ y de ${\\cal B}_\\perp$\n",
    "\n",
    "\n",
    "\\begin{eqnarray}\n",
    "\\ket{s} = \\frac{1}{\\sqrt{N}} \\sum_{x\\in \\Hil} \\ket{x} \n",
    "&=&  \\frac{1}{\\sqrt{N}} \\sum_{x\\in {\\cal B}} \\ket{x}\n",
    " +  \\frac{1}{\\sqrt{N}} \\sum_{x\\in {\\cal B}_\\perp} \\ket{x}\n",
    "\\\\ \\rule{0mm}{12mm}\n",
    "&=&\\sqrt{\\frac{M}{N}}\\ket{w} + \\sqrt{\\frac{N-M}{N}}\\ket{s^\\prime}.\n",
    "\\end{eqnarray}\n",
    "\n",
    "\n"
   ]
  },
  {
   "cell_type": "markdown",
   "id": "4a1539d5",
   "metadata": {
    "slideshow": {
     "slide_type": "slide"
    }
   },
   "source": [
    "Con estas definiciones, las figuras en las que se representan las reflexiones son idénticas y todo ocurre en el *plano de Grover* generado por los vectores $\\{\\ket{w},\\ket{s'}\\}$ \n",
    "\n",
    "La *única diferencia* está en el valor del ángulo inicial \n",
    "\n",
    "$$\n",
    "\\theta = \\arcsin \\sqrt{\\frac{M}{N}}\n",
    "$$\n",
    "\n",
    "\n"
   ]
  },
  {
   "cell_type": "markdown",
   "id": "41c04080",
   "metadata": {
    "slideshow": {
     "slide_type": "fragment"
    }
   },
   "source": [
    "<div class=\"alert alert-block alert-info\">\n",
    "<p style=\"text-align: center;\"> <p style=\"text-align: left ;color: navy;\">  \n",
    "<b> Teorema: </b> \n",
    "<br>\n",
    "<br>\n",
    "el valor entero de $k\\in{\\mathbb Z}$ que maximiza la probabilidad $P_k = \\sin^2 ((2k+1)\\theta)$ de medir la solución $w$  es la parte entera de $\\pi/4\\theta$\n",
    "<br>\n",
    "<br>    \n",
    "$$\n",
    "k_{op} = \\left[ \\frac{\\pi}{4\\theta} \\right]\n",
    "$$\n",
    "<br>\n",
    " donde $\\theta = \\arcsin \\sqrt{\\frac{M}{N}}.~$\n",
    "En este caso, la probabilidad de medir el estado $\\ket{w}$ es\n",
    "<br>\n",
    "$$\n",
    "1 - \\frac{M}{N} \\leq P_{k_{op}} \\leq 1 \\, .\n",
    "$$\n",
    "</div>"
   ]
  },
  {
   "cell_type": "markdown",
   "id": "6a6300c2",
   "metadata": {
    "slideshow": {
     "slide_type": "fragment"
    }
   },
   "source": [
    "en el límite $N\\to \\infty$ el coste computacional crece aun como la raíz cuadrada\n",
    "\n",
    "<div class=\"alert alert-block alert-info\">\n",
    "<p style=\"text-align: center;\"> <p style=\"text-align: left ;color: navy;\">  \n",
    "<b> Teorema: </b> en el límite  de $N\\to\\infty$ el tiempo que necesita el algoritmo de Grover para aproximarse \n",
    "máximamente a alguna de las soluciones $w_i$, crece como \n",
    "<br>\n",
    "<br>\n",
    "$$\n",
    "k_{op} \\approx \\frac{\\pi}{4}\\sqrt{\\frac{N}{M}}\n",
    "$$\n",
    "</div>"
   ]
  },
  {
   "cell_type": "markdown",
   "id": "914bc10c",
   "metadata": {
    "slideshow": {
     "slide_type": "fragment"
    }
   },
   "source": [
    "Vemos que el número de iteraciones que hay que realizar es menor. A cambio sólo obtendremos una solución $w_i$ después de cada ejecución."
   ]
  },
  {
   "cell_type": "markdown",
   "id": "1a1c0f02",
   "metadata": {
    "slideshow": {
     "slide_type": "slide"
    }
   },
   "source": [
    "### El circuito de Grover "
   ]
  },
  {
   "cell_type": "markdown",
   "id": "652b2bce",
   "metadata": {
    "slideshow": {
     "slide_type": "fragment"
    }
   },
   "source": [
    "el único operador que necesitamos modificar es $R_w$"
   ]
  },
  {
   "cell_type": "code",
   "execution_count": 12,
   "id": "adf8b4fa",
   "metadata": {
    "slideshow": {
     "slide_type": "fragment"
    }
   },
   "outputs": [],
   "source": [
    "def Rw(n,w_array): #w_array es una lista de enteros w_i en S_n  \n",
    "            \n",
    "    qr = QuantumRegister(n)\n",
    "    qc = QuantumCircuit(qr) \n",
    "    \n",
    "    for w in w_array:\n",
    "        wstring = format(int(w), 'b').zfill(n)\n",
    "        for i,wi in enumerate(reversed(wstring)):\n",
    "            if wi == '1':\n",
    "                qc.x(qr[i])\n",
    "        qc.append(R0(n),qr)        \n",
    "        for i,wi in enumerate(reversed(wstring)):\n",
    "            if wi == '1':\n",
    "                qc.x(qr[i])\n",
    "    qcRw =  qc.to_gate()\n",
    "    qcRw.name='Rw'\n",
    "    return qcRw\n"
   ]
  },
  {
   "cell_type": "markdown",
   "id": "2c15847b",
   "metadata": {
    "slideshow": {
     "slide_type": "fragment"
    }
   },
   "source": [
    "Ahora podemos correr el mismo circuito con esta modificación\n",
    "\n"
   ]
  },
  {
   "cell_type": "markdown",
   "id": "dac9e070",
   "metadata": {
    "slideshow": {
     "slide_type": "slide"
    }
   },
   "source": [
    "Primero debemos calcular el valor óptimo de iteraciones $k_{op} = [\\pi/(4 \\arcsin \\sqrt{M/N})]$"
   ]
  },
  {
   "cell_type": "code",
   "execution_count": 13,
   "id": "6bf0be9b",
   "metadata": {
    "slideshow": {
     "slide_type": "fragment"
    }
   },
   "outputs": [
    {
     "name": "stdout",
     "output_type": "stream",
     "text": [
      "k_op = 1\n"
     ]
    }
   ],
   "source": [
    "# dimensión de la base de datos\n",
    "n=4\n",
    "# lista de soluciones ocultas\n",
    "w_array = [1, 3, 6, 7, 15]\n",
    "\n",
    "# valor de k óptimo\n",
    "k_op = int(np.pi/(4*np.arcsin(np.sqrt(len(w_array)/2**n))))\n",
    "print('k_op =',k_op)"
   ]
  },
  {
   "cell_type": "markdown",
   "id": "7f19c653",
   "metadata": {
    "slideshow": {
     "slide_type": "fragment"
    }
   },
   "source": [
    "Ahora construimos el circuito de Grover con $k_{op}$ iteraciones. "
   ]
  },
  {
   "cell_type": "code",
   "execution_count": 14,
   "id": "04f20422",
   "metadata": {
    "slideshow": {
     "slide_type": "slide"
    }
   },
   "outputs": [
    {
     "name": "stdout",
     "output_type": "stream",
     "text": [
      "w_i = ['0001', '0011', '0110', '0111', '1111']\n"
     ]
    },
    {
     "data": {
      "image/png": "[encoded data removed]",
      "text/plain": [
       "<Figure size 826.028x451.5 with 1 Axes>"
      ]
     },
     "execution_count": 14,
     "metadata": {},
     "output_type": "execute_result"
    }
   ],
   "source": [
    "# pasamos las soluciones a cadenas binarias de n entradas\n",
    "wstring = [format(int(w), 'b').zfill(n) for w in w_array]\n",
    "print('w_i =',wstring)\n",
    "\n",
    "qr = QuantumRegister(n)\n",
    "cr = ClassicalRegister(n)\n",
    "qcGrover = QuantumCircuit(qr,cr)\n",
    "qcGrover.h(qr)\n",
    "qcGrover.barrier()\n",
    "\n",
    "for i in range(k_op):\n",
    "    qcGrover.append(G(n,w_array),qr)\n",
    "\n",
    "qcGrover.barrier()\n",
    "\n",
    "qcGrover.measure(qr,cr)\n",
    "qcGrover.draw('mpl')"
   ]
  },
  {
   "cell_type": "code",
   "execution_count": 15,
   "id": "5a02427d",
   "metadata": {
    "slideshow": {
     "slide_type": "slide"
    }
   },
   "outputs": [
    {
     "data": {
      "image/png": "[encoded data removed]",
      "text/plain": [
       "<Figure size 700x500 with 1 Axes>"
      ]
     },
     "execution_count": 15,
     "metadata": {},
     "output_type": "execute_result"
    }
   ],
   "source": [
    "from qiskit import Aer, execute\n",
    "M_simulator = Aer.get_backend('qasm_simulator')\n",
    "\n",
    "shots = 10000\n",
    "# Ejecutamos la simulación y recogemos el número de cuentas de cada estado\n",
    "counts = execute(qcGrover,backend=M_simulator, shots=shots).result().get_counts()\n",
    "\n",
    "# Calculamos la probabilidad de medir w\n",
    "#prob_w = cuentas[wstring]/shots\n",
    "#print(r'La probabilidad de medir w=%s es %f' % (w, prob_w))\n",
    "\n",
    "# Histogramamos las probabilidades\n",
    "from qiskit.visualization import plot_histogram\n",
    "plot_histogram(counts)"
   ]
  },
  {
   "cell_type": "markdown",
   "id": "0e334120",
   "metadata": {
    "slideshow": {
     "slide_type": "slide"
    }
   },
   "source": [
    "Extraemos los valores que han obtenido las máximas frecuencias de medida"
   ]
  },
  {
   "cell_type": "code",
   "execution_count": 16,
   "id": "67bc571b",
   "metadata": {
    "slideshow": {
     "slide_type": "fragment"
    }
   },
   "outputs": [
    {
     "data": {
      "image/png": "[encoded data removed]",
      "text/plain": [
       "<Figure size 700x500 with 1 Axes>"
      ]
     },
     "execution_count": 16,
     "metadata": {},
     "output_type": "execute_result"
    }
   ],
   "source": [
    "majority_counts = {k: v for k, v in counts.items() if  v>300 }\n",
    "#print(projected_counts)\n",
    "plot_histogram(majority_counts)"
   ]
  },
  {
   "cell_type": "markdown",
   "id": "b1750f91",
   "metadata": {
    "slideshow": {
     "slide_type": "fragment"
    }
   },
   "source": [
    "los convertimos a base decimal"
   ]
  },
  {
   "cell_type": "code",
   "execution_count": 17,
   "id": "68669cc4",
   "metadata": {
    "slideshow": {
     "slide_type": "fragment"
    }
   },
   "outputs": [
    {
     "name": "stdout",
     "output_type": "stream",
     "text": [
      "{Ns} ~  [1, 3, 6, 7, 15]\n"
     ]
    }
   ],
   "source": [
    "wi_list = sorted([int(keys,2) for  keys in majority_counts]) \n",
    "print('{Ns} ~ ', wi_list)\n",
    "\n"
   ]
  },
  {
   "cell_type": "markdown",
   "id": "77bffadf",
   "metadata": {
    "slideshow": {
     "slide_type": "slide"
    }
   },
   "source": [
    "<a id='contcuan'></a>\n",
    "<table width=\"100%\">\n",
    "    <td style=\"font-size:250%px;font-family:Helvetica;text-align:left;background-color:rgba(0,0,900, 0.3);\">\n",
    "<b> Contaje cuántico </b>\n",
    "</table>   "
   ]
  },
  {
   "cell_type": "markdown",
   "id": "c7882e93",
   "metadata": {
    "slideshow": {
     "slide_type": "slide"
    }
   },
   "source": [
    "En el algoritmos de Grover es crucial saber cuántas iteracions $k$ del operador $G$ hay que realizar. \n",
    "\n",
    "En el caso de múltiples soluciones, esto depende de $M$. \n",
    "\n",
    "$M$ es desconocido de antemano, por lo que el algoritmo ve *comprometida su eficiencia*. "
   ]
  },
  {
   "cell_type": "markdown",
   "id": "45efaba7",
   "metadata": {
    "slideshow": {
     "slide_type": "fragment"
    }
   },
   "source": [
    "En esta sección vamos a explicar **cómo deducir** $M$ como paso previo, invocando el algoritmo de Estimación de Fase Cuántica."
   ]
  },
  {
   "cell_type": "markdown",
   "id": "c761bbf9",
   "metadata": {
    "slideshow": {
     "slide_type": "fragment"
    }
   },
   "source": [
    "Ya hemos visto que, en la base $\\{|\\omega\\rangle, |s'\\rangle\\}$, podemos escribir la iteración de Grover como la matriz de rotación\n",
    "\n",
    "$$\n",
    "G =\n",
    "\\begin{bmatrix}\n",
    "\\cos2\\theta & \\sin2\\theta\\\\\n",
    "-\\sin2\\theta & \\cos2\\theta\n",
    "\\end{bmatrix},\n",
    "$$\n",
    "\n",
    "donde \n",
    "\n",
    "$$\n",
    "\\theta = \\arcsin M/N \n",
    "$$"
   ]
  },
  {
   "cell_type": "markdown",
   "id": "a083955a",
   "metadata": {
    "slideshow": {
     "slide_type": "slide"
    }
   },
   "source": [
    "Conocer el valor de $\\theta$ nos permitiría tener acceso al valor de $$ M  = N\\sin\\theta \n",
    "$$"
   ]
  },
  {
   "cell_type": "markdown",
   "id": "34db302b",
   "metadata": {
    "slideshow": {
     "slide_type": "fragment"
    }
   },
   "source": [
    "\n",
    "Los  autovalores  y autoestados  de este operador son los siguientes\n",
    "\n",
    "$$\n",
    " \\left(e^{+ 2i\\theta}, \\begin{bmatrix}- i \\\\1 \\end{bmatrix}\\right)~~~~,~~~~ \\left( e^{- 2i\\theta}, \\begin{bmatrix}+ i \\\\1 \\end{bmatrix} \\right)\n",
    "$$ \n",
    "\n",
    "que están pidiendo *a gritos* el algoritmo QPE, de estimación cuántica de fase.\n"
   ]
  },
  {
   "cell_type": "markdown",
   "id": "e288846f",
   "metadata": {
    "slideshow": {
     "slide_type": "fragment"
    }
   },
   "source": [
    "<div class=\"alert alert-block alert-success\">\n",
    "<b> Ejercicio: </b> prueba este resultado\n",
    "</div>"
   ]
  },
  {
   "cell_type": "markdown",
   "id": "bc1e6e3f",
   "metadata": {
    "slideshow": {
     "slide_type": "slide"
    }
   },
   "source": [
    "### Una sutileza crucial"
   ]
  },
  {
   "cell_type": "markdown",
   "id": "ebc4d0f4",
   "metadata": {
    "slideshow": {
     "slide_type": "fragment"
    }
   },
   "source": [
    "En su momento comentamos que el operador que codificamos en el circuito de Grover no es realmente $U_{s_\\perp}$ sino\n",
    "$U_s = -U_{s_\\perp}$\n"
   ]
  },
  {
   "cell_type": "markdown",
   "id": "99151d6a",
   "metadata": {
    "slideshow": {
     "slide_type": "fragment"
    }
   },
   "source": [
    "\n",
    "Por tanto, realmente estamos implementando la acción de $ U_s U_w =  -U_{s_\\perp}U_w = -G  $.\n"
   ]
  },
  {
   "cell_type": "markdown",
   "id": "fd640886",
   "metadata": {
    "slideshow": {
     "slide_type": "fragment"
    }
   },
   "source": [
    "\n",
    "Este signo global lo hemos despreciado, y sin embargo es relevante a la hora de hacer una estimación de fase."
   ]
  },
  {
   "cell_type": "markdown",
   "id": "c4d3de7c",
   "metadata": {
    "slideshow": {
     "slide_type": "fragment"
    }
   },
   "source": [
    "El operador $-G = G e^{i\\pi}$ tiene por autovalores y autovectores\n",
    "\n",
    "$$\n",
    " \\left(e^{+ 2i\\theta + i\\pi}, \\begin{bmatrix}- i \\\\1 \\end{bmatrix}\\right)~~~~,~~~~ \\left( e^{- 2i\\theta + i\\pi}, \\begin{bmatrix}+ i \\\\1 \\end{bmatrix} \\right)\n",
    "$$ \n"
   ]
  },
  {
   "cell_type": "markdown",
   "id": "2c1c2823",
   "metadata": {
    "slideshow": {
     "slide_type": "fragment"
    }
   },
   "source": [
    "Vamos a definirlos las cantidades $\\varphi_\\pm$ relacionadas con los autovalores de $-G$\n",
    "\n",
    "$$\n",
    " e^{\\pm  2 i \\theta + i\\pi} \\equiv e^{2\\pi i \\varphi_\\pm} ~~~~\\Rightarrow ~~~~ {\\pm  2 i \\theta + i\\pi}  = {2\\pi i \\varphi_\\pm} \n",
    "$$"
   ]
  },
  {
   "cell_type": "markdown",
   "id": "bb9e32a6",
   "metadata": {
    "slideshow": {
     "slide_type": "fragment"
    }
   },
   "source": [
    "El algoritmo de estimación de fase nos debería dar una aproximación buena a $\\varphi_\\pm$, y a partir de estos dos valores, a\n",
    "\n",
    "$$\n",
    "\\theta = \\pm (\\pi \\varphi_\\pm - \\pi/2)\n",
    "$$"
   ]
  },
  {
   "cell_type": "markdown",
   "id": "32e95f86",
   "metadata": {
    "slideshow": {
     "slide_type": "slide"
    }
   },
   "source": [
    "\n",
    "Vamos a insertar $(-G)^{2^k}$ en un circuito de estimación de fase cuántica con **$t$ cúbits de contaje**"
   ]
  },
  {
   "cell_type": "markdown",
   "id": "2b0fd6f4",
   "metadata": {
    "slideshow": {
     "slide_type": "fragment"
    }
   },
   "source": [
    "<center> \n",
    "<img src=\"./figuras/ContajeCuantico.png\" width='60%' style='margin:automatic'/>\n",
    "</center>"
   ]
  },
  {
   "cell_type": "markdown",
   "id": "f03cad11",
   "metadata": {
    "slideshow": {
     "slide_type": "fragment"
    }
   },
   "source": [
    "A la salida de este circuito, el registro de phase, estará en una combinación de estados $\\ket{m_+}$ y $\\ket{m_-}$ donde $m_\\pm$ están distribuidas en torno a los estimadores de orden $t$  para $ a_\\pm = [2^t\\varphi_\\pm]$ "
   ]
  },
  {
   "cell_type": "markdown",
   "id": "9ff02ae5",
   "metadata": {
    "slideshow": {
     "slide_type": "slide"
    }
   },
   "source": [
    "El operador $-G \\in SU(2)$ puesto que su determinante es 1. \n",
    "\n",
    "\n",
    "Por tanto $$e^{2\\pi i\\varphi_+} e^{2\\pi i\\varphi_-} = 1$$"
   ]
  },
  {
   "cell_type": "markdown",
   "id": "7e971e96",
   "metadata": {
    "slideshow": {
     "slide_type": "fragment"
    }
   },
   "source": [
    "El algoritmo de estimación de fase nos dará estimaciones para $~~\\varphi_+ = \\varphi ~~$ , $~~\\varphi_- = 1 - \\varphi~,~~$ ambos pertenecientes al intervalo $[0,1)$. \n"
   ]
  },
  {
   "cell_type": "markdown",
   "id": "d806465a",
   "metadata": {
    "slideshow": {
     "slide_type": "fragment"
    }
   },
   "source": [
    "En **ambos casos** es inmediato verificar que se cumple\n",
    "\n",
    "$$\n",
    "\\frac{M}{N} \\equiv \\sin^2 \\theta = \\sin^2\\left( \\pi \\varphi - \\pi/2 \\right) = \\cos^2 (\\pi\\varphi) \n",
    "$$"
   ]
  },
  {
   "cell_type": "markdown",
   "id": "73612f9f",
   "metadata": {
    "slideshow": {
     "slide_type": "fragment"
    }
   },
   "source": [
    "A partir de aquí obtenemos \n",
    "$$M = N \\cos^2 (\\pi \\varphi) = N \\cos^2 (\\pi (1-\\varphi)) $$"
   ]
  },
  {
   "cell_type": "markdown",
   "id": "34c02ffb",
   "metadata": {
    "slideshow": {
     "slide_type": "slide"
    }
   },
   "source": [
    "Para generar el circuito de QPE, tenemos que programar la puerta $-G^k$ *controlada*  $~\\Rightarrow ~\\cg{(-G)^{k}}$ "
   ]
  },
  {
   "cell_type": "code",
   "execution_count": 24,
   "id": "cd38469f",
   "metadata": {
    "slideshow": {
     "slide_type": "fragment"
    }
   },
   "outputs": [],
   "source": [
    "def c_G(n,w_array,power): \n",
    "    qrG = QuantumRegister(n)\n",
    "    qcG = QuantumCircuit(qrG) \n",
    "\n",
    "    for _ in range(power):\n",
    "        qcG.append(G(n,w_array),qrG)\n",
    "    \n",
    "    c_mG=qcG.to_gate()\n",
    "    c_mG.name=\"(-G)^%i\" % power\n",
    "    c_mG = c_mG.control()\n",
    "    return c_mG\n"
   ]
  },
  {
   "cell_type": "code",
   "execution_count": 25,
   "id": "0c8832ae",
   "metadata": {
    "run_control": {
     "marked": false
    },
    "slideshow": {
     "slide_type": "slide"
    }
   },
   "outputs": [
    {
     "data": {
      "image/png": "[encoded data removed]",
      "text/plain": [
       "<Figure size 1840.37x869.556 with 1 Axes>"
      ]
     },
     "execution_count": 25,
     "metadata": {},
     "output_type": "execute_result"
    }
   ],
   "source": [
    "from qiskit import QuantumCircuit, QuantumRegister, ClassicalRegister\n",
    "\n",
    "t = 5 # la dimensión del registro de evaluación \n",
    "n = 4 \n",
    "\n",
    "qrt=QuantumRegister(t,name=\"t\")\n",
    "qra=QuantumRegister(n,name=\"qr_U\") # aquí 1 es la dimensión del espacio en el que opera U\n",
    "crt=ClassicalRegister(t)\n",
    "qpe = QuantumCircuit(qrt,qra,crt)   \n",
    "\n",
    "qpe.h(range(t+n))\n",
    "qpe.barrier()\n",
    "\n",
    "# aplicamos los operadores controlados c((-G)^(2^j))\n",
    "for j in range(t):\n",
    "    qpe.append(c_G(n,w_array,2**j),[qrt[j]]+qra[:])\n",
    "    \n",
    "qpe.barrier()\n",
    "\n",
    "# aplicamos la QFT^-1 que está definida en macro.py \n",
    "qpe.append(TFC_adj(t),qrt)\n",
    "\n",
    "qpe.measure(qrt,crt)\n",
    "\n",
    "qpe.draw(output=\"mpl\")"
   ]
  },
  {
   "cell_type": "markdown",
   "id": "bc27b89d",
   "metadata": {
    "slideshow": {
     "slide_type": "slide"
    }
   },
   "source": [
    "Ejecutamos el circuito de estimación de fase"
   ]
  },
  {
   "cell_type": "code",
   "execution_count": 26,
   "id": "45360e34",
   "metadata": {
    "slideshow": {
     "slide_type": "-"
    }
   },
   "outputs": [
    {
     "data": {
      "image/png": "[encoded data removed]",
      "text/plain": [
       "<Figure size 700x500 with 1 Axes>"
      ]
     },
     "execution_count": 26,
     "metadata": {},
     "output_type": "execute_result"
    }
   ],
   "source": [
    "from qiskit import Aer, execute\n",
    "M_backend = Aer.get_backend('qasm_simulator')\n",
    "\n",
    "from qiskit.visualization import plot_histogram\n",
    "results = execute(qpe, M_backend, shots=2048).result()\n",
    "counts = results.get_counts()\n",
    "plot_histogram(counts)"
   ]
  },
  {
   "cell_type": "markdown",
   "id": "060d2c9e",
   "metadata": {
    "slideshow": {
     "slide_type": "fragment"
    }
   },
   "source": [
    "Extraemos las salidas $m_i$ que tienen máxima probabilidad"
   ]
  },
  {
   "cell_type": "code",
   "execution_count": 27,
   "id": "456024a7",
   "metadata": {
    "slideshow": {
     "slide_type": "slide"
    }
   },
   "outputs": [
    {
     "data": {
      "image/png": "[encoded data removed]",
      "text/plain": [
       "<Figure size 700x500 with 1 Axes>"
      ]
     },
     "execution_count": 27,
     "metadata": {},
     "output_type": "execute_result"
    }
   ],
   "source": [
    "majority_counts = {k: v for k, v in counts.items() if  v>300 }\n",
    "#print(projected_counts)\n",
    "plot_histogram(majority_counts)"
   ]
  },
  {
   "cell_type": "markdown",
   "id": "0c3efccd",
   "metadata": {
    "slideshow": {
     "slide_type": "slide"
    }
   },
   "source": [
    "Convertimos a base decimal y extraemos sucesivamente\n",
    "$$\n",
    "m_i  ~~\\longrightarrow ~~  \\left[\\frac{m_i}{2^t}\\right] ~\\approx ~\\varphi_i ~~\\longrightarrow ~~ M_i = [N \\cos^2(\\pi \\varphi_i)]\n",
    "$$"
   ]
  },
  {
   "cell_type": "code",
   "execution_count": 28,
   "id": "d39f3420",
   "metadata": {
    "slideshow": {
     "slide_type": "fragment"
    }
   },
   "outputs": [
    {
     "name": "stdout",
     "output_type": "stream",
     "text": [
      "{m_i} ~  [10, 22]\n",
      "M_i= [4.938532541079283, 4.938532541079277]\n",
      " M_i = [5, 5]\n"
     ]
    }
   ],
   "source": [
    "# la lista de m_i\n",
    "mi_list = sorted([int(keys,2) for  keys in majority_counts]) \n",
    "print('{m_i} ~ ', mi_list)\n",
    "\n",
    "# la lista de a_i\n",
    "ai_list = [m/2**t for m in mi_list]\n",
    "\n",
    "# la lista de M_i\n",
    "Mi_list = [2**n*np.cos(np.pi*a)**2 for a in ai_list]\n",
    "print('M_i=', Mi_list)\n",
    "\n",
    "# redondeo de M_i al entero más próximo\n",
    "rounded_Mi_list = [round(Mi) for Mi in Mi_list]\n",
    "print(' M_i =', rounded_Mi_list)\n"
   ]
  },
  {
   "cell_type": "markdown",
   "id": "b3491b81",
   "metadata": {
    "slideshow": {
     "slide_type": "fragment"
    }
   },
   "source": [
    "The number of solutions $M$ obtained"
   ]
  },
  {
   "cell_type": "code",
   "execution_count": 29,
   "id": "c6c3135c",
   "metadata": {
    "slideshow": {
     "slide_type": "-"
    }
   },
   "outputs": [
    {
     "name": "stdout",
     "output_type": "stream",
     "text": [
      "Number of solutions = 5\n"
     ]
    }
   ],
   "source": [
    "print('Number of solutions =', round(np.mean(rounded_Mi_list)))"
   ]
  },
  {
   "cell_type": "markdown",
   "id": "25c0e5fa-f1d4-4462-892d-8c658eee2b11",
   "metadata": {},
   "source": [
    "<div class=\"alert alert-block alert-info\">\n",
    "<p style=\"text-align: center;\"> <p style=\"text-align: left ;color: navy;\">  \n",
    "<b> Lema:</b>\n",
    "<br>\n",
    "Sea $\\ket{\\psi}$ un vector <i>preparable</i> en la forma  $\\ket{\\psi} = V\\ket{0}$. El reflector paralelo a $\\ket{\\psi}$ es\n",
    "<br>\n",
    "<br>\n",
    "$$\n",
    "R_\\psi = I - 2\\ket{\\psi}\\bra{\\psi} = V \\left( I - 2\\ket{0}\\bra{0}\\rule{0mm}{6mm} \\right) V^\\dagger = V R_0 V^\\dagger\n",
    "$$\n",
    "</div>"
   ]
  },
  {
   "cell_type": "markdown",
   "id": "8e8864fd-0193-4bb5-bc5e-44aa5833fdfc",
   "metadata": {},
   "source": [
    "::::{admonition} Ejercicio\n",
    ":class:tip\n",
    "Prueba esta igualdad\n",
    "\n",
    ":::{dropdown} Solución\n",
    "Para demostrar el lema escribimos un vector de estado general usando la representación polar para las componentes complejas\n",
    "    \n",
    "TEXTO\n",
    "    \n",
    "::::\n"
   ]
  }
 ],
 "metadata": {
  "celltoolbar": "Slideshow",
  "kernelspec": {
   "display_name": "Python 3 (ipykernel)",
   "language": "python",
   "name": "python3"
  },
  "language_info": {
   "codemirror_mode": {
    "name": "ipython",
    "version": 3
   },
   "file_extension": ".py",
   "mimetype": "text/x-python",
   "name": "python",
   "nbconvert_exporter": "python",
   "pygments_lexer": "ipython3",
   "version": "3.10.13"
  },
  "varInspector": {
   "cols": {
    "lenName": 16,
    "lenType": 16,
    "lenVar": 40
   },
   "kernels_config": {
    "python": {
     "delete_cmd_postfix": "",
     "delete_cmd_prefix": "del ",
     "library": "var_list.py",
     "varRefreshCmd": "print(var_dic_list())"
    },
    "r": {
     "delete_cmd_postfix": ") ",
     "delete_cmd_prefix": "rm(",
     "library": "var_list.r",
     "varRefreshCmd": "cat(var_dic_list()) "
    }
   },
   "types_to_exclude": [
    "module",
    "function",
    "builtin_function_or_method",
    "instance",
    "_Feature"
   ],
   "window_display": false
  }
 },
 "nbformat": 4,
 "nbformat_minor": 5
}
