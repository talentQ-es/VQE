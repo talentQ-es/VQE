{
 "cells": [
  {
   "cell_type": "markdown",
   "id": "137125d1-44b2-422b-9755-048835f33c12",
   "metadata": {},
   "source": [
    "---\n",
    "license: CC-BY-4.0\n",
    "github: https://github.com/jamasole/Curso-TalentQ-Jupyterlab\n",
    "subject: Curso\n",
    "venue: Quantum Spain\n",
    "authors:\n",
    "  - name: Javier Mas\n",
    "    email: javier.mas@usc.es\n",
    "    corresponding: true\n",
    "    orcid: 0000-0001-7008-2126\n",
    "    affiliations:\n",
    "      - IGFAE-USC\n",
    "  - name: David Castaño\n",
    "    email: david.castano@uma.es\n",
    "    corresponding: true\n",
    "    orcid: 0000-0001-7008-2126\n",
    "    affiliations:\n",
    "      - UMA\n",
    "math:   \n",
    "    '\\i': '{\\color{blue} i}'\n",
    "    '\\bes': '\\begin{equation*}'\n",
    "    '\\ees': '\\end{equation*}'\n",
    "    '\\O': '{\\mathcal O}'\n",
    "    '\\Lin': '\\rm L'\n",
    "    '\\Hil': '{\\mathcal H}'\n",
    "    '\\braa': '{\\langle #1|}'\n",
    "    '\\ket': '{|#1\\rangle}'\n",
    "    '\\braket': '{\\langle #1|#2\\rangle}'\n",
    "    '\\ketbra': '{|#1\\rangle\\langle #2|}'\n",
    "    '\\tr': '{\\rm tr}'\n",
    "    '\\R': '{\\mathbb R}' \n",
    "    '\\C': '{\\mathbb C}'\n",
    "    '\\V': '{\\cal V}'\n",
    "---"
   ]
  },
  {
   "cell_type": "markdown",
   "id": "75189ffe-f3b7-4535-b71c-f96e478b042f",
   "metadata": {},
   "source": [
    "```{figure} ../thumbnails/myThumbnail.png\n",
    ":align: center\n",
    "```"
   ]
  },
  {
   "cell_type": "markdown",
   "id": "a5c4b528-9820-41cb-9a27-c2de1597c5e3",
   "metadata": {},
   "source": [
    "# Titulo"
   ]
  },
  {
   "cell_type": "markdown",
   "id": "b57d39e3-132e-4225-9882-a4ba32fb7975",
   "metadata": {},
   "source": [
    "# Dejar siempre esta celda al final!!!!!\n",
    "\n",
    "Es decir, esta celda en la que ahora estas leyendo esto debe de quedar siempre al final del documento."
   ]
  }
 ],
 "metadata": {
  "kernelspec": {
   "display_name": "Python 3 (ipykernel)",
   "language": "python",
   "name": "python3"
  },
  "language_info": {
   "codemirror_mode": {
    "name": "ipython",
    "version": 3
   },
   "file_extension": ".py",
   "mimetype": "text/x-python",
   "name": "python",
   "nbconvert_exporter": "python",
   "pygments_lexer": "ipython3",
   "version": "3.10.13"
  }
 },
 "nbformat": 4,
 "nbformat_minor": 5
}
