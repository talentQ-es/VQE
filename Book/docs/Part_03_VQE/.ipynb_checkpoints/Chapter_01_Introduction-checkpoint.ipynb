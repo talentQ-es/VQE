{
 "cells": [
  {
   "cell_type": "markdown",
   "id": "0ec3d300",
   "metadata": {
    "slideshow": {
     "slide_type": "-"
    },
    "tags": []
   },
   "source": [
    "<figure><center>\n",
    "<img align=\"left\" src=\"https://quantumspain-project.es/wp-content/uploads/2022/11/Logo_QS_EspanaDigital.png\" width=\"1000px\"/><br><br><br><br>\n",
    "</center></figure>\n",
    "\n",
    "<a id='Notebook_Date'></a> Created: 2022/10/30\n",
    "\n",
    "<center>\n",
    "<a rel=\"license\" href=\"http://creativecommons.org/licenses/by-sa/4.0/\">\n",
    "<img aling=\"left\" alt=\"Licencia Creative Commons\" style=\"border-width:0\" src=\"https://i.creativecommons.org/l/by-sa/4.0/88x31.png\" /></a>\n",
    "</center>\n",
    "\n",
    "License: <a rel=\"license\" href=\"http://creativecommons.org/licenses/by-sa/4.0/\">Licencia Creative Commons Atribución-CompartirIgual 4.0 Internacional</a>.\n",
    "\n",
    "Internal Reviewers:\n",
    "* Alba Cervera ([BSC](https://www.bsc.es/))\n",
    "* Andrés Gómez ([CESGA](http://www.cesga.es))\n",
    "\n",
    "Authors:\n",
    "* Irais Bautista ([CESGA](http://www.cesga.es))\n",
    "<img src=\"https://quantumspain-project.es/wp-content/uploads/2022/11/CESGA.png\" width=\"100px\">\n",
    "\n",
    "* Sergio Martínez ([BIFi-UNIZAR](https://bifi.es/es/))\n",
    "<img src=\"http://bifi.es/wp-content/uploads/2016/11/logo_vectorial-web.png\" width=\"200px\">\n",
    "\n",
    "* Jaime Scharfhausen ([UAM](https://www.uam.es/uam/inicio))\n",
    "<img src=\"https://www.iib.uam.es/iiblf6theme-theme/images/custom/logo-uam.png\" width = \"200px\">\n",
    "\n",
    "* Alejandro Jaramillo ([CSUC](https://www.csuc.cat/es))\n",
    "<img src=\"https://www.csuc.cat/sites/default/files/2021-02/CSUC_logo_corporatiu_0.png\" width = \"200px\">"
   ]
  },
  {
   "cell_type": "markdown",
   "id": "d376d716-30a5-4ddf-a603-1ba11f6b9040",
   "metadata": {},
   "source": [
    "<a id='sec_Introducción_al_Algoritmo_VQE'></a>\n",
    "# Introducción al Algoritmo VQE"
   ]
  },
  {
   "cell_type": "code",
   "execution_count": 42,
   "id": "8dd6c9c3",
   "metadata": {
    "scrolled": true,
    "slideshow": {
     "slide_type": ""
    },
    "tags": [
     "hide-input",
     "remove-output"
    ]
   },
   "outputs": [
    {
     "name": "stderr",
     "output_type": "stream",
     "text": [
      "[Qibo 0.1.12.dev0|INFO|2024-02-09 09:55:12]: Using numpy backend on /CPU:0\n"
     ]
    }
   ],
   "source": [
    "# Librerías generales\n",
    "import numpy as np\n",
    "from collections import defaultdict\n",
    "from functools import reduce\n",
    "from itertools import product\n",
    "import random\n",
    "import scipy\n",
    "import matplotlib.pyplot as plt\n",
    "\n",
    "# Librerías Qibo\n",
    "import qibo\n",
    "from qibo import models, gates, hamiltonians\n",
    "from qibo import matrices as m\n",
    "\n",
    "# Librerías Qiskit\n",
    "import qiskit\n",
    "from qiskit import IBMQ, QuantumCircuit, QuantumRegister, ClassicalRegister, Aer, execute, transpile\n",
    "from qiskit.visualization import plot_bloch_multivector\n",
    "from qiskit.algorithms.optimizers import COBYLA, SPSA, POWELL\n",
    "from qiskit.primitives import Estimator\n",
    "from qiskit.algorithms.minimum_eigensolvers import VQE\n",
    "from qiskit.utils import QuantumInstance, algorithm_globals\n",
    "from qiskit.opflow import X, Z, I, Y\n",
    "from qiskit.circuit.library import TwoLocal\n",
    "from qiskit.tools.parallel import parallel_map\n",
    "\n",
    "random.seed()\n",
    "\n",
    "qibo.set_backend(\"numpy\")\n",
    "\n",
    "%matplotlib inline"
   ]
  },
  {
   "cell_type": "markdown",
   "id": "3201b545",
   "metadata": {},
   "source": [
    "<a id='sec_Índice'></a>\n",
    "## Índice\n",
    "\n",
    "- [Primeros pasos](#sec_Primeros_pasos)\n",
    "\n",
    "    - [Programando el Algoritmo VQE](#sec_Programando_el_Algoritmo_VQE)\n",
    "\n",
    "- [El Modelo de Ising con el algoritmo VQE](#sec_El_Modelo_de_Ising_con_el_algoritmo_VQE)\n",
    "\n",
    "    - [El Modelo de Ising 1D](#sec_El_modelo_de_Ising_1D)\n",
    "    \n",
    "- [La Molécula de $\\text{H}_2$](#sec_La_Molécula_de_H2)\n",
    "\n",
    "- [Conclusiones](#sec_Conclusiones)\n",
    "    \n",
    "- [Bibliografía](#sec_Bibliografía)"
   ]
  },
  {
   "cell_type": "markdown",
   "id": "02711fa4",
   "metadata": {},
   "source": [
    "A lo largo de este documento vamos a explicar y ejemplificar el funcionamiento del algoritmo VQE. Para ello haremos uso de la librería de software libre __[Qibo](https://qibo.science/)__. Puede encontrar más información sobre el proceso de instalación [aquí](https://qibo.science/docs/qibo/stable). Así mismo, en la sección [La Molécula de $H_2$](#La-Molécula-de-H2) de este documento hacemos uso de la librería __[OpenFermion](https://quantumai.google/openfermion)__, desarrollada por Google. Puede encontrar [aquí](https://quantumai.google/openfermion/install) instrucciones para su instalación. También en esta sección hacemos uso de la librería de química computacional __[PySCF](https://pyscf.org/)__. Puede consultar las instrucciones de instalación [aquí](https://pyscf.org/install.html)."
   ]
  },
  {
   "cell_type": "markdown",
   "id": "9745b399",
   "metadata": {},
   "source": [
    "<a id='sec_Primeros_pasos'></a>\n",
    "## Primeros pasos"
   ]
  },
  {
   "cell_type": "markdown",
   "id": "b9285e48",
   "metadata": {},
   "source": [
    "El algoritmo VQE (Variational Quantum Eigensolver) es un algoritmo que busca obtener el autovalor más pequeño de un operador. Se originó en el campo de la química computacional [[1](#bib_peruzzo_variational_2014)], donde se propuso para encontrar el estado fundamental de moléculas, aunque tiene aplicaciones en muchos otros campos [[2](#bib_tilly_variational_2022)].\n",
    "<br>\n",
    "<br>\n",
    "Se trata de un **algoritmo híbrido**, pues combina computación cuántica y clásica. Utiliza un circuito cuántico parametrizado para generar estados cuánticos y posteriormente medir el valor esperado del operador. Este valor esperado se utilizará como función de coste para un **optimizador clásico**, que se encargará de ir variando los parámetros del circuito y devolviéndolos al sistema cuántico de forma iterativa hasta encontrar el autovalor mínimo.\n",
    "<br>\n",
    "<br>\n",
    "El circuito parametrizado, conocido como **ansatz**, será equivalente a un operador unitario que llamaremos $U(\\boldsymbol{\\theta})$, en el que $\\boldsymbol{\\theta}$ es un vector que contiene todos los parámetros del circuito. Este actuará sobre nuestros qubits inicialidados en el estado que más nos interese según la aplicación. Esto generará un estado parametrizado $|\\Psi(\\boldsymbol{\\theta}) \\rangle$. Esto nos permite explorar un **subespacio del espacio de Hilbert**. En este sentido, la elección del ansatz y el estado incial es crucial, ya que de esto depende en gran medida si conseguiremos encontrar el valor mínimo o no.\n",
    "<br>\n",
    "<br>\n",
    "Sobre ese estado parametrizado podremos medir el valor esperado del operador problema $\\mathcal{H}$. Este valor será, al igual que el estado, dependiente de los parámetros del *ansatz*, y lo denotamos por $E(\\boldsymbol{\\theta})$. Utilizaremos este valor como función de coste para un optimizador clásico, de manera que tras un número suficiente de iteraciones conseguiremos una muy buena aproximación del autovalor más pequeño de nuestro operador $E_{G}$."
   ]
  },
  {
   "cell_type": "markdown",
   "id": "ab0c66fd",
   "metadata": {},
   "source": [
    "El funcionamiento del circuito sería algo así:\n",
    "\n",
    "<figure><center>\n",
    "<a id='fig_flux_diagram'></a>\n",
    "<img src=\"pictures/VQE_flux.png\" alt=\"Diagrama--de--flujo--del--algoritmo--VQE.--En--primer--lugar--tenemos--un--problema--caracterizado--por--un--operador--$\\mathcal{H}$.--Codificamos--ese--problema--en--un--circuito--cuántico--con--puertas--parametrizadas.--De--ahí--realizamos--un--proceso--de--optimización--clásico.--Si--no--converge,--devolvemos--los--datos--al--circuito--cuántico.--Si--converge,--tenemos--el--resultado--$E_G$.\" align=center width='1000px'/>\n",
    "<center> Figura 1: Diagrama de flujo del algoritmo VQE. En primer lugar tenemos un problema caracterizado por un operador $\\mathcal{H}$. Codificamos ese problema en un circuito cuántico con puertas parametrizadas. De ahí realizamos un proceso de optimización clásico. Si no converge, devolvemos los datos al circuito cuántico. Si converge, tenemos el resultado $E_G$.</center>\n",
    "</center></figure>"
   ]
  },
  {
   "cell_type": "markdown",
   "id": "5b7b87b4",
   "metadata": {},
   "source": [
    "<a id='sec_Programando_el_Algoritmo_VQE'></a>\n",
    "### Programando el Algoritmo VQE"
   ]
  },
  {
   "cell_type": "markdown",
   "id": "299ef2db",
   "metadata": {
    "slideshow": {
     "slide_type": ""
    },
    "tags": []
   },
   "source": [
    "Vamos a ver el funcionamiento de este algoritmo para un caso trivial, programando \"manualmente\". Estas funciones son bastante ineficientes y no pueden competir con las funciones *built-in* en librerías como Qibo, Qiskit o Pennylane, pero nos ayudan a ver cada parte de forma individual. En las siguientes secciones analizaremos casos prácticos haciendo uso de estas funciones mejor optimizadas.\n",
    "<br>\n",
    "<br>\n",
    "El problema a resolver es encontrar el autovalor más pequeño de la siguiente matriz $ 4 \\times 4$: <br>\n",
    "<br>\n",
    "$$\n",
    "\\mathcal{H} = \\begin{bmatrix}\n",
    "2.5 & -1 & -0.5 & 0 \\\\\n",
    "-1.2 & 5 & 0 & 0.5 \\\\\n",
    "-0.5 & 0 & 2.5 & 1 \\\\\n",
    "0 & 0.5 & 1 & 2.5 \n",
    "\\end{bmatrix}\n",
    "$$"
   ]
  },
  {
   "cell_type": "markdown",
   "id": "d9250a99",
   "metadata": {
    "slideshow": {
     "slide_type": ""
    },
    "tags": []
   },
   "source": [
    "Vamos a dejarla diagonalizada también con Python, para asegurarnos de que obtenemos los autovalores correctos:"
   ]
  },
  {
   "cell_type": "code",
   "execution_count": 43,
   "id": "72865835",
   "metadata": {},
   "outputs": [
    {
     "name": "stdout",
     "output_type": "stream",
     "text": [
      "Autovalores: [1. 2. 3. 4.]\n",
      "Autovalor mínimo: 1.0\n"
     ]
    }
   ],
   "source": [
    "op = np.array([[2.5,-1,-0.5,0],[-1,2.5,0,0.5],[-0.5,0,2.5,1],[0,0.5,1,2.5]], dtype=complex)\n",
    "\n",
    "eigvals, eigvecs = scipy.linalg.eig(op)\n",
    "\n",
    "print(\"Autovalores:\", np.sort(np.real(eigvals)))\n",
    "print(\"Autovalor mínimo:\", np.real(np.round(min(eigvals))))"
   ]
  },
  {
   "cell_type": "markdown",
   "id": "d5b493fa",
   "metadata": {},
   "source": [
    "Empezamos por definir las matrices de Pauli, ya que son los principales operadores que se utilizan en circuitería cuántica. Todo operador hermítico de dimensión $2^n$ (entre los que se incluye nuestro operador $\\mathcal{H}$) puede descomponerse en productos tensoriales de matrices de Pauli. Estas, al ser hermíticas y unitarias, nos permiten tanto descomponer operadores como construir circuitos cuánticos."
   ]
  },
  {
   "cell_type": "code",
   "execution_count": 44,
   "id": "e607ec64",
   "metadata": {},
   "outputs": [],
   "source": [
    "PAULIS = {\n",
    "    \"I\": np.eye(2, dtype=complex),\n",
    "    \"X\": np.array([[0,1],[1,0]], dtype=complex),\n",
    "    \"Y\": np.array([[0,-1j],[1j,0]], dtype=complex),\n",
    "    \"Z\": np.array([[1,0],[0,-1]], dtype=complex)\n",
    "}"
   ]
  },
  {
   "cell_type": "markdown",
   "id": "9ea40ba0",
   "metadata": {},
   "source": [
    "Definimos la función ```pauli_decomposition(H)```, que toma nuestro operador matricial $\\mathcal{H}$ y lo convierte en una cadena de matrices de Pauli. "
   ]
  },
  {
   "cell_type": "code",
   "execution_count": 45,
   "id": "46dc8025",
   "metadata": {},
   "outputs": [],
   "source": [
    "def pauli_decomposition(H):\n",
    "\n",
    "    n = int(np.log2(len(H)))\n",
    "    dims = 2**n\n",
    "    \n",
    "    if H.shape != (dims,dims):\n",
    "        raise ValueError(\"La matriz debe tener dimensiones 2^n x 2^n\")\n",
    "        \n",
    "    basis_key = [\"\".join(k) for k in product(PAULIS.keys(), repeat = n)]\n",
    "    components = defaultdict(int)\n",
    "    \n",
    "    for i, val in enumerate(product(PAULIS.values(), repeat=n)):\n",
    "        basis_mat = reduce(np.kron, val)\n",
    "        coeff = H.reshape(-1).dot(basis_mat.reshape(-1)) / dims\n",
    "        coeff = np.real_if_close(coeff).item()\n",
    "        \n",
    "        if not np.allclose(coeff,0):\n",
    "            components[basis_key[i]] = coeff\n",
    "            \n",
    "    return components"
   ]
  },
  {
   "cell_type": "code",
   "execution_count": 46,
   "id": "89b87a04",
   "metadata": {},
   "outputs": [
    {
     "data": {
      "text/plain": [
       "defaultdict(int, {'II': 2.5, 'XZ': -0.5, 'ZX': -1.0})"
      ]
     },
     "execution_count": 46,
     "metadata": {},
     "output_type": "execute_result"
    }
   ],
   "source": [
    "components = pauli_decomposition(op)\n",
    "components"
   ]
  },
  {
   "cell_type": "markdown",
   "id": "c49f4142",
   "metadata": {},
   "source": [
    "Si volvemos a sumar nuestras componentes, vemos que se recupera nuestra matriz original $\\mathcal{H}$."
   ]
  },
  {
   "cell_type": "code",
   "execution_count": 47,
   "id": "5dacea48",
   "metadata": {},
   "outputs": [
    {
     "name": "stdout",
     "output_type": "stream",
     "text": [
      "[[ 2.5+0.j -1. +0.j -0.5+0.j  0. +0.j]\n",
      " [-1. +0.j  2.5+0.j  0. +0.j  0.5+0.j]\n",
      " [-0.5+0.j  0. +0.j  2.5+0.j  1. +0.j]\n",
      " [ 0. +0.j  0.5+0.j  1. +0.j  2.5+0.j]]\n",
      "\n",
      " Las dos matrices son iguales.\n"
     ]
    }
   ],
   "source": [
    "restr = components['II']*np.kron(PAULIS[\"I\"],PAULIS[\"I\"]) + components['XZ']*np.kron(PAULIS[\"X\"],PAULIS[\"Z\"]) + components['ZX']*np.kron(PAULIS[\"Z\"],PAULIS[\"X\"])\n",
    "\n",
    "print(restr)\n",
    "\n",
    "if restr.all() == op.all(): print(\"\\n Las dos matrices son iguales.\")"
   ]
  },
  {
   "cell_type": "markdown",
   "id": "87bdc318",
   "metadata": {},
   "source": [
    "Definimos también la función ```ansatz```, que, tomando un circuito cuántico y un conjunto de parámetros, nos implementa el estado $|\\psi (\\boldsymbol{\\theta})\\rangle$ como un conjunto de operadores parametrizados."
   ]
  },
  {
   "cell_type": "code",
   "execution_count": 48,
   "id": "4b51650a",
   "metadata": {},
   "outputs": [],
   "source": [
    "'''Qibo_code_cell'''\n",
    "\n",
    "def ansatz(circuit, nqubits, thetas, rounds=3):\n",
    "\n",
    "    for r in range(rounds):\n",
    "        for i in range(nqubits):\n",
    "            offset = r*nqubits*2 + i*2\n",
    "                        \n",
    "            circuit.add(gates.RY(i, thetas[offset]))\n",
    "            circuit.add(gates.RZ(i, thetas[offset+1]))\n",
    "            \n",
    "            if i > 0 and r < rounds - 1:\n",
    "                circuit.add(gates.CNOT(i-1, i))\n",
    "                \n",
    "    return circuit"
   ]
  },
  {
   "cell_type": "code",
   "execution_count": 9,
   "id": "5193290c-84ed-42ff-855a-9354e35054c5",
   "metadata": {},
   "outputs": [],
   "source": [
    "'''Qiskit_code_cell'''\n",
    "\n",
    "def ansatz(qc, qr, thetas, rounds=3):\n",
    "    \n",
    "    for r in range(rounds):\n",
    "        for i in range(len(qr)):\n",
    "            offset = r*len(qr)*2 + i*2\n",
    "            \n",
    "            qc.ry(thetas[offset], qr[i])\n",
    "            qc.rz(thetas[offset+1], qr[i])\n",
    "            \n",
    "            if i > 0 and r < rounds - 1:\n",
    "                qc.cx(qr[i-1], qr[i])\n",
    "                \n",
    "    return qc"
   ]
  },
  {
   "cell_type": "markdown",
   "id": "47372b4c",
   "metadata": {},
   "source": [
    "Veamos un ejemplo de ansatz que generaría este circuito si consideramos tres qubits:"
   ]
  },
  {
   "cell_type": "code",
   "execution_count": 49,
   "id": "264dbedf",
   "metadata": {},
   "outputs": [
    {
     "name": "stdout",
     "output_type": "stream",
     "text": [
      "q0: ─RY─RZ─o─────────RY─RZ─o─────────RY─RZ─o─────────RY─RZ─\n",
      "q1: ─RY─RZ─X───────o─RY─RZ─X───────o─RY─RZ─X───────o─RY─RZ─\n",
      "q2: ─────────RY─RZ─X─────────RY─RZ─X─────────RY─RZ─X─RY─RZ─\n"
     ]
    }
   ],
   "source": [
    "'''Qibo_code_cell'''\n",
    "\n",
    "nqubits = 3\n",
    "nrounds = 4\n",
    "\n",
    "qc = models.circuit.Circuit(nqubits)\n",
    "angles = np.random.rand(2*nqubits*nrounds)\n",
    "\n",
    "qc = ansatz(qc, nqubits=nqubits, thetas=angles, rounds=nrounds)\n",
    "\n",
    "print(qc.draw())"
   ]
  },
  {
   "cell_type": "code",
   "execution_count": 11,
   "id": "43f03ced-77aa-4161-bfb7-e058845142f0",
   "metadata": {},
   "outputs": [
    {
     "data": {
      "image/png": "[encoded data removed]",
      "text/plain": [
       "<Figure size 1308.86x284.278 with 1 Axes>"
      ]
     },
     "execution_count": 11,
     "metadata": {},
     "output_type": "execute_result"
    }
   ],
   "source": [
    "'''Qiskit_code_cell'''\n",
    "\n",
    "nqubits = 3\n",
    "nrounds = 4\n",
    "\n",
    "qr = QuantumRegister(nqubits)\n",
    "qc = QuantumCircuit(qr)\n",
    "angles = np.random.rand(2*nqubits*nrounds)\n",
    "\n",
    "qc = ansatz(qc, qr, thetas=angles, rounds=nrounds)\n",
    "\n",
    "qc.draw('mpl')"
   ]
  },
  {
   "cell_type": "markdown",
   "id": "022c1eab",
   "metadata": {},
   "source": [
    "En este caso concreto, tenemos puertas parametrizadas $R_Y$ y $R_Z$, cuyos ángulos de rotación son los parámetros $\\boldsymbol{\\theta}$ que vamos a ir modificando hasta llegar al autovalor mínimo. Por supuesto, podríamos haber utilizado también puertas $R_X$ o cualquier puerta que rotase los qubits en torno a un eje arbitrario.\n",
    "<br>\n",
    "<br>\n",
    "Para entrelazar qubits hemos utilizado puertas $CNOT$, aunque también se suelen usar $CZ$."
   ]
  },
  {
   "cell_type": "markdown",
   "id": "2a11f83a",
   "metadata": {},
   "source": [
    "Con todas estas herramientas, podemos definir la función ```matrix_decomposition_circuits```, que toma nuestro operador $\\mathcal{H}$ y, utilizando ```pauli_decomposition```, lo convierte en una suma de cadenas de Pauli. Con esto define tantos circuitos cuánticos como cadenas tengamos, añadiendo a cada uno de ellos nuestro *ansatz* empleando ```ansatz``` (la función ```add_ansatz(qc, qr)``` se define con ella).\n",
    "<br>\n",
    "<br>\n",
    "Después, dependiendo de como sean las cadenas de Pauli, añade los medidores que correspondan según la base (por ejemplo, si estamos midiendo en la dirección $Y$, debemos rotar nuestro qubit utilizando $H$ y $S^\\dagger$)."
   ]
  },
  {
   "cell_type": "code",
   "execution_count": 50,
   "id": "6d4dd8eb",
   "metadata": {},
   "outputs": [],
   "source": [
    "'''Qibo_code_cell'''\n",
    "\n",
    "def matrix_decomposition_circuits(H, add_ansatz):\n",
    "\n",
    "    from qibo import models, gates\n",
    "\n",
    "    # Definimos variables y comprobamos las dimensiones del Hamiltoniano\n",
    "    n = int(np.log2(len(H)))\n",
    "    dims = 2**n\n",
    "    \n",
    "    if H.shape != (dims,dims):\n",
    "        raise ValueError(\"La matriz debe tener dimensiones 2^n x 2^n\")\n",
    "        \n",
    "    # Descomponemos el Hamiltoniano en cadenas de Pauli\n",
    "    components = pauli_decomposition(H)\n",
    "    \n",
    "    circuits = {}\n",
    "    for (paulistring, weight) in components.items():\n",
    "        paulis = list(enumerate(reversed(paulistring)))\n",
    "        qc = models.Circuit(n)\n",
    "        \n",
    "        # No hacemos nada si todas las Pauli son I, utilizamos este circuito vacío que medirá el estado \"0\" (autovalor 1) en todos los caso\n",
    "        if all(x[1] == \"I\" for x in paulis):\n",
    "            qc.add(gates.M(qc.nqubits-1))\n",
    "            circuits[paulistring] = (qc, weight)\n",
    "            continue\n",
    "\n",
    "        # Al resto de posibles circuitos sí les añadimos el ansatz\n",
    "        add_ansatz(qc,n)\n",
    "            \n",
    "        # Hacemos las transformaciones sobre un solo qubit\n",
    "        for idx, letter in paulis:\n",
    "            if letter == \"X\":\n",
    "                qc.add(gates.H(idx))\n",
    "            elif letter == \"Y\":\n",
    "                qc.add(gates.H(idx))\n",
    "                qc.add(gates.S(idx).dagger())\n",
    "                \n",
    "        # Añadimos las puertas multiqubit\n",
    "        for idx, (first, second) in enumerate(zip(paulis, paulis[1:])):\n",
    "            if second[1] == \"I\":\n",
    "                qc.add(gates.SWAP(first[0], second[0]))\n",
    "            elif first[1] != \"I\":\n",
    "                paulis[idx+1] = (paulis[idx+1][0], paulis[idx][1])\n",
    "                qc.add(gates.CNOT(first[0],second[0]))\n",
    "                \n",
    "        # Medimos sobre el último qubit\n",
    "        qc.add(gates.M(qc.nqubits-1))\n",
    "        circuits[paulistring] = (qc, weight)\n",
    "        \n",
    "        \n",
    "    return circuits"
   ]
  },
  {
   "cell_type": "code",
   "execution_count": 12,
   "id": "f4ad2062-511b-41b6-a4de-14630172339d",
   "metadata": {},
   "outputs": [],
   "source": [
    "'''Qiskit_code_cell'''\n",
    "\n",
    "def matrix_decomposition_circuits(H, add_ansatz):\n",
    "\n",
    "    # Definimos variables y comprobamos las dimensiones del Hamiltoniano\n",
    "    \n",
    "    n = int(np.log2(len(H)))\n",
    "    dims = 2**n\n",
    "    \n",
    "    if H.shape != (dims,dims):\n",
    "        raise ValueError(\"La matriz debe tener dimensiones 2^n x 2^n\")\n",
    "        \n",
    "    components = pauli_decomposition(H)\n",
    "    \n",
    "    circuits = {}\n",
    "    for (paulistring, weight) in components.items():\n",
    "        paulis = list(enumerate(reversed(paulistring)))\n",
    "        \n",
    "        qr = QuantumRegister(n, \"qr\")\n",
    "        cr = ClassicalRegister(1, \"cr\")\n",
    "        qc = QuantumCircuit(qr, cr)\n",
    "        \n",
    "        add_ansatz(qc,qr)\n",
    "        \n",
    "        # No hacemos nada si todas las Pauli son I\n",
    "        if all(x[1] == \"I\" for x in paulis):\n",
    "            # utilizamos este circuito vacío que medirá el estado \"0\" (autovalor 1) en todos los casos\n",
    "            circuits[paulistring] = (qc, weight)\n",
    "            continue\n",
    "            \n",
    "        # Hacmos las transformaciones sobre un solo qubit\n",
    "        for idx, letter in paulis:\n",
    "            if letter == \"X\":\n",
    "                qc.h(qr[idx])\n",
    "            elif letter == \"Y\":\n",
    "                qc.h(qr[idx])\n",
    "                qc.sdg(qr[idx])\n",
    "                \n",
    "        # Añadimos las puertas multiqubit\n",
    "        for idx, (first, second) in enumerate(zip(paulis, paulis[1:])):\n",
    "            if second[1] == \"I\":\n",
    "                qc.swap(first[0], second[0])\n",
    "            elif first[1] != \"I\":\n",
    "                paulis[idx+1] = (paulis[idx+1][0], paulis[idx][1])\n",
    "                qc.cx(first[0],second[0])\n",
    "                \n",
    "        # Medimos sobre el último qubit\n",
    "        qc.measure(qr[-1], cr[0])\n",
    "        circuits[paulistring] = (qc, weight)\n",
    "        \n",
    "    return circuits"
   ]
  },
  {
   "cell_type": "markdown",
   "id": "486fd437",
   "metadata": {},
   "source": [
    "Definimos ahora la función ```run_circuit```, que lo que hace es ejecutar el circuito utilizando el backend que hayamos especificado y nos devuelve el valor esperado de la medida del circuito."
   ]
  },
  {
   "cell_type": "code",
   "execution_count": 51,
   "id": "d67d7a26",
   "metadata": {},
   "outputs": [],
   "source": [
    "'''Qibo_code_cell'''\n",
    "\n",
    "def run_circuit(circuit, shots=10000):\n",
    "    result = circuit.execute(nshots=shots)\n",
    "    counts = result.frequencies(binary=True)\n",
    "    return ((counts[\"0\"] if \"0\" in counts.keys() else 0) - (counts[\"1\"] if \"1\" in counts.keys() else 0))/shots"
   ]
  },
  {
   "cell_type": "code",
   "execution_count": 13,
   "id": "015cb2d3-4538-4f6a-b8d1-55c6e46d2e36",
   "metadata": {},
   "outputs": [],
   "source": [
    "'''Qiskit_code_cell'''\n",
    "\n",
    "def run_circuit(circuit, backend, shots=10000):\n",
    "    result = execute(circuit, backend, shots=shots).result()\n",
    "    counts = result.get_counts()\n",
    "    return ((counts[\"0\"] if \"0\" in counts.keys() else 0) - (counts[\"1\"] if \"1\" in counts.keys() else 0))/shots"
   ]
  },
  {
   "cell_type": "markdown",
   "id": "a031ae6f",
   "metadata": {},
   "source": [
    "Definimos ahora ```expectation```, que ejecuta los circuitos generados por ```matrix_decomposition_circuits``` utilizando ```run_circuit``` y suma sus resultados con los coeficientes de la descomposición, devolviendo el valor esperado del operador problema."
   ]
  },
  {
   "cell_type": "code",
   "execution_count": 52,
   "id": "45415f61",
   "metadata": {},
   "outputs": [],
   "source": [
    "'''Qibo_code_cell'''\n",
    "\n",
    "def expectation(H, rounds, thetas):\n",
    "    circuits = matrix_decomposition_circuits(H, lambda qc,n: ansatz(qc, n, thetas, rounds))\n",
    "    \n",
    "    return sum(map(lambda key: run_circuit(circuits[key][0])*circuits[key][1], circuits.keys()))"
   ]
  },
  {
   "cell_type": "code",
   "execution_count": 14,
   "id": "f5bf0330-1287-4e59-9c2c-d6f05c7ea103",
   "metadata": {},
   "outputs": [],
   "source": [
    "'''Qiskit_code_cell'''\n",
    "\n",
    "def expectation(H, rounds, thetas):\n",
    "    backend = Aer.get_backend('statevector_simulator')\n",
    "    circuits = matrix_decomposition_circuits(H, lambda qc,qr: ansatz(qc, qr, thetas, rounds))\n",
    "    \n",
    "    return sum(map(lambda key: run_circuit(circuits[key][0], backend)*circuits[key][1], circuits.keys()))"
   ]
  },
  {
   "cell_type": "markdown",
   "id": "5a77bc9e",
   "metadata": {},
   "source": [
    "Ahora definimos nuestro optimizador clásico. Vamos a utilizar un optimizador numérico conocido como SPSA (*Simultaneous Perturbation Stochastic Approximation*) [[4](#bib_bhatnagar_stochastic_2013)]. Lo programamos a continuación para ver cómo funciona pero, de nuevo, en adelante utilizaremos optimizadores que podemos encontrar en las librerías."
   ]
  },
  {
   "cell_type": "code",
   "execution_count": 53,
   "id": "4316ab2e",
   "metadata": {},
   "outputs": [],
   "source": [
    "class SPSA:\n",
    "    \n",
    "    def __init__(self, a, c, A, alpha, gamma, H, loss_function):\n",
    "        # Inicializamos parámetros de ganancia y factores de decaímiento\n",
    "        self.a = a\n",
    "        self.c = c\n",
    "        self.A = A\n",
    "        self.alpha = alpha\n",
    "        self.gamma = gamma\n",
    "        self.loss_function = loss_function\n",
    "        \n",
    "        # Contador\n",
    "        self.t = 0\n",
    "        \n",
    "    def step(self, current_estimate):\n",
    "        # Obtenemos los valores actuales para las secuencias de ganancia\n",
    "        a_t = self.a / (self.t + 1 + self.A)**self.alpha\n",
    "        c_t = self.c / (self.t + 1)**self.gamma\n",
    "        \n",
    "        # Vector de perturbaciones aleatorias de la distribución de Bernoulli\n",
    "        delta = np.random.randint(0, 2, np.array(current_estimate).shape) * 2 - 1\n",
    "        \n",
    "        # Medimos la función de pérdida en las perturbaciones\n",
    "        loss_plus = self.loss_function(current_estimate + delta * c_t)\n",
    "        loss_minus = self.loss_function(current_estimate - delta * c_t)\n",
    "        \n",
    "        # Estimación del gradiente\n",
    "        g_t = (loss_plus - loss_minus) / (2.0 * delta * c_t)\n",
    "        \n",
    "        # Actualizamos la estimación del parámetro\n",
    "        current_estimate = current_estimate - a_t * g_t\n",
    "        \n",
    "        # Incrementamos el contador\n",
    "        self.t +=1\n",
    "        \n",
    "        return current_estimate"
   ]
  },
  {
   "cell_type": "markdown",
   "id": "290534f8",
   "metadata": {},
   "source": [
    "Y ya, con un optimizador clásico y un operador cuántico, podemos definir nuestro algoritmo VQE, utilizando la función ```expectation``` como función de pérdida del optimizador (implementando aquí toda la circuitería cuántica)."
   ]
  },
  {
   "cell_type": "code",
   "execution_count": 54,
   "id": "b1fe1997",
   "metadata": {},
   "outputs": [],
   "source": [
    "def vqe(H, rounds, max_iter, thetas=None, save_steps = None):\n",
    "   \n",
    "    cnt_qubits = int(np.log2(len(H)))\n",
    "    if thetas is None:\n",
    "        thetas = list(map(lambda x: random.random(), [0] * ((1+rounds)*cnt_qubits*2)))\n",
    "        \n",
    "    # Creamos la clase del optimizador\n",
    "    optimizer = SPSA(a = 0.9, c = 1.0, A = max_iter/10, alpha = 0.602, gamma = 0.101, H = H, loss_function = lambda t_thetas: expectation(H, rounds, t_thetas))\n",
    "    \n",
    "    # Loop principal\n",
    "    for i in range(max_iter):\n",
    "        thetas = optimizer.step(thetas)\n",
    "        \n",
    "        if save_steps is not None and i % save_steps == 0:\n",
    "            yield (i, thetas, expectation(H, rounds, thetas))\n",
    "            \n",
    "    return (thetas, expectation(H, rounds, thetas))"
   ]
  },
  {
   "cell_type": "markdown",
   "id": "72e266cc",
   "metadata": {},
   "source": [
    "Y con todo este código podemos meter la matriz que diagonalizamos antes a mano y comprobar que, efectivamente, el autovalor más bajo que obtenemos es $E_G \\simeq 1$."
   ]
  },
  {
   "cell_type": "code",
   "execution_count": 55,
   "id": "38633b1e",
   "metadata": {
    "tags": [
     "scroll-output"
    ]
   },
   "outputs": [
    {
     "name": "stdout",
     "output_type": "stream",
     "text": [
      "Paso 0. Valor actual de la función de coste:  2.416\n",
      "Paso 3. Valor actual de la función de coste:  2.458\n",
      "Paso 6. Valor actual de la función de coste:  2.373\n",
      "Paso 9. Valor actual de la función de coste:  2.377\n",
      "Paso 12. Valor actual de la función de coste:  2.271\n",
      "Paso 15. Valor actual de la función de coste:  2.225\n",
      "Paso 18. Valor actual de la función de coste:  2.240\n",
      "Paso 21. Valor actual de la función de coste:  2.142\n",
      "Paso 24. Valor actual de la función de coste:  1.930\n",
      "Paso 27. Valor actual de la función de coste:  1.917\n",
      "Paso 30. Valor actual de la función de coste:  1.847\n",
      "Paso 33. Valor actual de la función de coste:  1.747\n",
      "Paso 36. Valor actual de la función de coste:  1.786\n",
      "Paso 39. Valor actual de la función de coste:  1.779\n",
      "Paso 42. Valor actual de la función de coste:  1.714\n",
      "Paso 45. Valor actual de la función de coste:  1.747\n",
      "Paso 48. Valor actual de la función de coste:  1.707\n",
      "Paso 51. Valor actual de la función de coste:  1.641\n",
      "Paso 54. Valor actual de la función de coste:  1.647\n",
      "Paso 57. Valor actual de la función de coste:  1.595\n",
      "Paso 60. Valor actual de la función de coste:  1.545\n",
      "Paso 63. Valor actual de la función de coste:  1.519\n",
      "Paso 66. Valor actual de la función de coste:  1.426\n",
      "Paso 69. Valor actual de la función de coste:  1.401\n",
      "Paso 72. Valor actual de la función de coste:  1.399\n",
      "Paso 75. Valor actual de la función de coste:  1.409\n",
      "Paso 78. Valor actual de la función de coste:  1.404\n",
      "Paso 81. Valor actual de la función de coste:  1.374\n",
      "Paso 84. Valor actual de la función de coste:  1.316\n",
      "Paso 87. Valor actual de la función de coste:  1.300\n",
      "Paso 90. Valor actual de la función de coste:  1.257\n",
      "Paso 93. Valor actual de la función de coste:  1.238\n",
      "Paso 96. Valor actual de la función de coste:  1.234\n",
      "Paso 99. Valor actual de la función de coste:  1.251\n",
      "Paso 102. Valor actual de la función de coste:  1.242\n",
      "Paso 105. Valor actual de la función de coste:  1.256\n",
      "Paso 108. Valor actual de la función de coste:  1.220\n",
      "Paso 111. Valor actual de la función de coste:  1.224\n",
      "Paso 114. Valor actual de la función de coste:  1.227\n",
      "Paso 117. Valor actual de la función de coste:  1.238\n",
      "Paso 120. Valor actual de la función de coste:  1.195\n",
      "Paso 123. Valor actual de la función de coste:  1.192\n",
      "Paso 126. Valor actual de la función de coste:  1.183\n",
      "Paso 129. Valor actual de la función de coste:  1.183\n",
      "Paso 132. Valor actual de la función de coste:  1.181\n",
      "Paso 135. Valor actual de la función de coste:  1.182\n",
      "Paso 138. Valor actual de la función de coste:  1.204\n",
      "Paso 141. Valor actual de la función de coste:  1.194\n",
      "Paso 144. Valor actual de la función de coste:  1.221\n",
      "Paso 147. Valor actual de la función de coste:  1.225\n",
      "Paso 150. Valor actual de la función de coste:  1.196\n",
      "Paso 153. Valor actual de la función de coste:  1.192\n",
      "Paso 156. Valor actual de la función de coste:  1.191\n",
      "Paso 159. Valor actual de la función de coste:  1.178\n",
      "Paso 162. Valor actual de la función de coste:  1.194\n",
      "Paso 165. Valor actual de la función de coste:  1.192\n",
      "Paso 168. Valor actual de la función de coste:  1.180\n",
      "Paso 171. Valor actual de la función de coste:  1.182\n",
      "Paso 174. Valor actual de la función de coste:  1.169\n",
      "Paso 177. Valor actual de la función de coste:  1.180\n",
      "Paso 180. Valor actual de la función de coste:  1.166\n",
      "Paso 183. Valor actual de la función de coste:  1.179\n",
      "Paso 186. Valor actual de la función de coste:  1.190\n",
      "Paso 189. Valor actual de la función de coste:  1.166\n",
      "Paso 192. Valor actual de la función de coste:  1.155\n",
      "Paso 195. Valor actual de la función de coste:  1.146\n",
      "Paso 198. Valor actual de la función de coste:  1.177\n",
      "Paso 201. Valor actual de la función de coste:  1.162\n",
      "Paso 204. Valor actual de la función de coste:  1.155\n",
      "Paso 207. Valor actual de la función de coste:  1.173\n",
      "Paso 210. Valor actual de la función de coste:  1.166\n",
      "Paso 213. Valor actual de la función de coste:  1.175\n",
      "Paso 216. Valor actual de la función de coste:  1.170\n",
      "Paso 219. Valor actual de la función de coste:  1.171\n",
      "Paso 222. Valor actual de la función de coste:  1.163\n",
      "Paso 225. Valor actual de la función de coste:  1.167\n",
      "Paso 228. Valor actual de la función de coste:  1.141\n",
      "Paso 231. Valor actual de la función de coste:  1.136\n",
      "Paso 234. Valor actual de la función de coste:  1.130\n",
      "Paso 237. Valor actual de la función de coste:  1.126\n",
      "Paso 240. Valor actual de la función de coste:  1.113\n",
      "Paso 243. Valor actual de la función de coste:  1.126\n",
      "Paso 246. Valor actual de la función de coste:  1.128\n",
      "Paso 249. Valor actual de la función de coste:  1.128\n",
      "Paso 252. Valor actual de la función de coste:  1.120\n",
      "Paso 255. Valor actual de la función de coste:  1.121\n",
      "Paso 258. Valor actual de la función de coste:  1.114\n",
      "Paso 261. Valor actual de la función de coste:  1.111\n",
      "Paso 264. Valor actual de la función de coste:  1.109\n",
      "Paso 267. Valor actual de la función de coste:  1.107\n",
      "Paso 270. Valor actual de la función de coste:  1.093\n",
      "Paso 273. Valor actual de la función de coste:  1.091\n",
      "Paso 276. Valor actual de la función de coste:  1.077\n",
      "Paso 279. Valor actual de la función de coste:  1.074\n",
      "Paso 282. Valor actual de la función de coste:  1.059\n",
      "Paso 285. Valor actual de la función de coste:  1.065\n",
      "Paso 288. Valor actual de la función de coste:  1.065\n",
      "Paso 291. Valor actual de la función de coste:  1.067\n",
      "Paso 294. Valor actual de la función de coste:  1.060\n",
      "Paso 297. Valor actual de la función de coste:  1.059\n",
      "Paso 300. Valor actual de la función de coste:  1.044\n",
      "Paso 303. Valor actual de la función de coste:  1.045\n",
      "Paso 306. Valor actual de la función de coste:  1.045\n",
      "Paso 309. Valor actual de la función de coste:  1.046\n",
      "Paso 312. Valor actual de la función de coste:  1.046\n",
      "Paso 315. Valor actual de la función de coste:  1.038\n",
      "Paso 318. Valor actual de la función de coste:  1.041\n",
      "Paso 321. Valor actual de la función de coste:  1.044\n",
      "Paso 324. Valor actual de la función de coste:  1.036\n",
      "Paso 327. Valor actual de la función de coste:  1.046\n",
      "Paso 330. Valor actual de la función de coste:  1.042\n",
      "Paso 333. Valor actual de la función de coste:  1.047\n",
      "Paso 336. Valor actual de la función de coste:  1.051\n",
      "Paso 339. Valor actual de la función de coste:  1.041\n",
      "Paso 342. Valor actual de la función de coste:  1.041\n",
      "Paso 345. Valor actual de la función de coste:  1.037\n",
      "Paso 348. Valor actual de la función de coste:  1.027\n",
      "Paso 351. Valor actual de la función de coste:  1.038\n",
      "Paso 354. Valor actual de la función de coste:  1.037\n",
      "Paso 357. Valor actual de la función de coste:  1.035\n",
      "Paso 360. Valor actual de la función de coste:  1.032\n",
      "Paso 363. Valor actual de la función de coste:  1.030\n",
      "Paso 366. Valor actual de la función de coste:  1.040\n",
      "Paso 369. Valor actual de la función de coste:  1.038\n",
      "Paso 372. Valor actual de la función de coste:  1.040\n",
      "Paso 375. Valor actual de la función de coste:  1.054\n",
      "Paso 378. Valor actual de la función de coste:  1.053\n",
      "Paso 381. Valor actual de la función de coste:  1.059\n",
      "Paso 384. Valor actual de la función de coste:  1.070\n",
      "Paso 387. Valor actual de la función de coste:  1.068\n",
      "Paso 390. Valor actual de la función de coste:  1.070\n",
      "Paso 393. Valor actual de la función de coste:  1.067\n",
      "Paso 396. Valor actual de la función de coste:  1.046\n",
      "Paso 399. Valor actual de la función de coste:  1.043\n",
      "Paso 402. Valor actual de la función de coste:  1.043\n",
      "Paso 405. Valor actual de la función de coste:  1.044\n",
      "Paso 408. Valor actual de la función de coste:  1.038\n",
      "Paso 411. Valor actual de la función de coste:  1.045\n",
      "Paso 414. Valor actual de la función de coste:  1.036\n",
      "Paso 417. Valor actual de la función de coste:  1.033\n",
      "Paso 420. Valor actual de la función de coste:  1.037\n",
      "Paso 423. Valor actual de la función de coste:  1.034\n",
      "Paso 426. Valor actual de la función de coste:  1.038\n",
      "Paso 429. Valor actual de la función de coste:  1.028\n",
      "Paso 432. Valor actual de la función de coste:  1.030\n",
      "Paso 435. Valor actual de la función de coste:  1.026\n",
      "Paso 438. Valor actual de la función de coste:  1.023\n",
      "Paso 441. Valor actual de la función de coste:  1.026\n",
      "Paso 444. Valor actual de la función de coste:  1.030\n",
      "Paso 447. Valor actual de la función de coste:  1.022\n",
      "Paso 450. Valor actual de la función de coste:  1.028\n",
      "Paso 453. Valor actual de la función de coste:  1.027\n",
      "Paso 456. Valor actual de la función de coste:  1.027\n",
      "Paso 459. Valor actual de la función de coste:  1.035\n",
      "Paso 462. Valor actual de la función de coste:  1.033\n",
      "Paso 465. Valor actual de la función de coste:  1.034\n",
      "Paso 468. Valor actual de la función de coste:  1.032\n",
      "Paso 471. Valor actual de la función de coste:  1.034\n",
      "Paso 474. Valor actual de la función de coste:  1.031\n",
      "Paso 477. Valor actual de la función de coste:  1.039\n",
      "Paso 480. Valor actual de la función de coste:  1.037\n",
      "Paso 483. Valor actual de la función de coste:  1.031\n",
      "Paso 486. Valor actual de la función de coste:  1.034\n",
      "Paso 489. Valor actual de la función de coste:  1.035\n",
      "Paso 492. Valor actual de la función de coste:  1.034\n",
      "Paso 495. Valor actual de la función de coste:  1.033\n",
      "Paso 498. Valor actual de la función de coste:  1.028\n",
      "Paso 501. Valor actual de la función de coste:  1.030\n",
      "Paso 504. Valor actual de la función de coste:  1.032\n",
      "Paso 507. Valor actual de la función de coste:  1.035\n",
      "Paso 510. Valor actual de la función de coste:  1.042\n",
      "Paso 513. Valor actual de la función de coste:  1.021\n",
      "Paso 516. Valor actual de la función de coste:  1.020\n",
      "Paso 519. Valor actual de la función de coste:  1.024\n",
      "Paso 522. Valor actual de la función de coste:  1.022\n",
      "Paso 525. Valor actual de la función de coste:  1.020\n",
      "Paso 528. Valor actual de la función de coste:  1.017\n",
      "Paso 531. Valor actual de la función de coste:  1.015\n",
      "Paso 534. Valor actual de la función de coste:  1.020\n",
      "Paso 537. Valor actual de la función de coste:  1.021\n",
      "Paso 540. Valor actual de la función de coste:  1.020\n",
      "Paso 543. Valor actual de la función de coste:  1.018\n",
      "Paso 546. Valor actual de la función de coste:  1.018\n",
      "Paso 549. Valor actual de la función de coste:  1.024\n",
      "Paso 552. Valor actual de la función de coste:  1.017\n",
      "Paso 555. Valor actual de la función de coste:  1.019\n",
      "Paso 558. Valor actual de la función de coste:  1.020\n",
      "Paso 561. Valor actual de la función de coste:  1.028\n",
      "Paso 564. Valor actual de la función de coste:  1.019\n",
      "Paso 567. Valor actual de la función de coste:  1.020\n",
      "Paso 570. Valor actual de la función de coste:  1.014\n",
      "Paso 573. Valor actual de la función de coste:  1.017\n",
      "Paso 576. Valor actual de la función de coste:  1.020\n",
      "Paso 579. Valor actual de la función de coste:  1.015\n",
      "Paso 582. Valor actual de la función de coste:  1.016\n",
      "Paso 585. Valor actual de la función de coste:  1.021\n",
      "Paso 588. Valor actual de la función de coste:  1.020\n",
      "Paso 591. Valor actual de la función de coste:  1.021\n",
      "Paso 594. Valor actual de la función de coste:  1.024\n",
      "Paso 597. Valor actual de la función de coste:  1.022\n",
      "Paso 600. Valor actual de la función de coste:  1.022\n",
      "Paso 603. Valor actual de la función de coste:  1.024\n",
      "Paso 606. Valor actual de la función de coste:  1.021\n",
      "Paso 609. Valor actual de la función de coste:  1.022\n",
      "Paso 612. Valor actual de la función de coste:  1.022\n",
      "Paso 615. Valor actual de la función de coste:  1.024\n",
      "Paso 618. Valor actual de la función de coste:  1.022\n",
      "Paso 621. Valor actual de la función de coste:  1.019\n",
      "Paso 624. Valor actual de la función de coste:  1.018\n",
      "Paso 627. Valor actual de la función de coste:  1.019\n",
      "Paso 630. Valor actual de la función de coste:  1.015\n",
      "Paso 633. Valor actual de la función de coste:  1.019\n",
      "Paso 636. Valor actual de la función de coste:  1.015\n",
      "Paso 639. Valor actual de la función de coste:  1.034\n",
      "Paso 642. Valor actual de la función de coste:  1.034\n",
      "Paso 645. Valor actual de la función de coste:  1.034\n",
      "Paso 648. Valor actual de la función de coste:  1.033\n",
      "Paso 651. Valor actual de la función de coste:  1.031\n",
      "Paso 654. Valor actual de la función de coste:  1.031\n",
      "Paso 657. Valor actual de la función de coste:  1.028\n",
      "Paso 660. Valor actual de la función de coste:  1.029\n",
      "Paso 663. Valor actual de la función de coste:  1.026\n",
      "Paso 666. Valor actual de la función de coste:  1.024\n",
      "Paso 669. Valor actual de la función de coste:  1.026\n",
      "Paso 672. Valor actual de la función de coste:  1.038\n",
      "Paso 675. Valor actual de la función de coste:  1.035\n",
      "Paso 678. Valor actual de la función de coste:  1.035\n",
      "Paso 681. Valor actual de la función de coste:  1.036\n",
      "Paso 684. Valor actual de la función de coste:  1.033\n",
      "Paso 687. Valor actual de la función de coste:  1.041\n",
      "Paso 690. Valor actual de la función de coste:  1.036\n",
      "Paso 693. Valor actual de la función de coste:  1.033\n",
      "Paso 696. Valor actual de la función de coste:  1.023\n",
      "Paso 699. Valor actual de la función de coste:  1.033\n",
      "Paso 702. Valor actual de la función de coste:  1.022\n",
      "Paso 705. Valor actual de la función de coste:  1.028\n",
      "Paso 708. Valor actual de la función de coste:  1.021\n",
      "Paso 711. Valor actual de la función de coste:  1.025\n",
      "Paso 714. Valor actual de la función de coste:  1.027\n",
      "Paso 717. Valor actual de la función de coste:  1.027\n",
      "Paso 720. Valor actual de la función de coste:  1.030\n",
      "Paso 723. Valor actual de la función de coste:  1.038\n",
      "Paso 726. Valor actual de la función de coste:  1.031\n",
      "Paso 729. Valor actual de la función de coste:  1.029\n",
      "Paso 732. Valor actual de la función de coste:  1.031\n",
      "Paso 735. Valor actual de la función de coste:  1.026\n",
      "Paso 738. Valor actual de la función de coste:  1.034\n",
      "Paso 741. Valor actual de la función de coste:  1.039\n",
      "Paso 744. Valor actual de la función de coste:  1.033\n",
      "Paso 747. Valor actual de la función de coste:  1.033\n",
      "Paso 750. Valor actual de la función de coste:  1.020\n",
      "Paso 753. Valor actual de la función de coste:  1.022\n",
      "Paso 756. Valor actual de la función de coste:  1.023\n",
      "Paso 759. Valor actual de la función de coste:  1.020\n",
      "Paso 762. Valor actual de la función de coste:  1.025\n",
      "Paso 765. Valor actual de la función de coste:  1.026\n",
      "Paso 768. Valor actual de la función de coste:  1.026\n",
      "Paso 771. Valor actual de la función de coste:  1.020\n",
      "Paso 774. Valor actual de la función de coste:  1.028\n",
      "Paso 777. Valor actual de la función de coste:  1.032\n",
      "Paso 780. Valor actual de la función de coste:  1.028\n",
      "Paso 783. Valor actual de la función de coste:  1.032\n",
      "Paso 786. Valor actual de la función de coste:  1.030\n",
      "Paso 789. Valor actual de la función de coste:  1.032\n",
      "Paso 792. Valor actual de la función de coste:  1.031\n",
      "Paso 795. Valor actual de la función de coste:  1.026\n",
      "Paso 798. Valor actual de la función de coste:  1.038\n",
      "Paso 801. Valor actual de la función de coste:  1.037\n",
      "Paso 804. Valor actual de la función de coste:  1.037\n",
      "Paso 807. Valor actual de la función de coste:  1.033\n",
      "Paso 810. Valor actual de la función de coste:  1.033\n",
      "Paso 813. Valor actual de la función de coste:  1.035\n",
      "Paso 816. Valor actual de la función de coste:  1.041\n",
      "Paso 819. Valor actual de la función de coste:  1.044\n",
      "Paso 822. Valor actual de la función de coste:  1.037\n",
      "Paso 825. Valor actual de la función de coste:  1.037\n",
      "Paso 828. Valor actual de la función de coste:  1.034\n",
      "Paso 831. Valor actual de la función de coste:  1.036\n",
      "Paso 834. Valor actual de la función de coste:  1.037\n",
      "Paso 837. Valor actual de la función de coste:  1.035\n",
      "Paso 840. Valor actual de la función de coste:  1.031\n",
      "Paso 843. Valor actual de la función de coste:  1.029\n",
      "Paso 846. Valor actual de la función de coste:  1.028\n",
      "Paso 849. Valor actual de la función de coste:  1.031\n",
      "Paso 852. Valor actual de la función de coste:  1.029\n",
      "Paso 855. Valor actual de la función de coste:  1.024\n",
      "Paso 858. Valor actual de la función de coste:  1.028\n",
      "Paso 861. Valor actual de la función de coste:  1.024\n",
      "Paso 864. Valor actual de la función de coste:  1.032\n",
      "Paso 867. Valor actual de la función de coste:  1.021\n",
      "Paso 870. Valor actual de la función de coste:  1.021\n",
      "Paso 873. Valor actual de la función de coste:  1.016\n",
      "Paso 876. Valor actual de la función de coste:  1.018\n",
      "Paso 879. Valor actual de la función de coste:  1.020\n",
      "Paso 882. Valor actual de la función de coste:  1.015\n",
      "Paso 885. Valor actual de la función de coste:  1.015\n",
      "Paso 888. Valor actual de la función de coste:  1.016\n",
      "Paso 891. Valor actual de la función de coste:  1.017\n",
      "Paso 894. Valor actual de la función de coste:  1.018\n",
      "Paso 897. Valor actual de la función de coste:  1.017\n",
      "Paso 900. Valor actual de la función de coste:  1.020\n",
      "Paso 903. Valor actual de la función de coste:  1.014\n",
      "Paso 906. Valor actual de la función de coste:  1.020\n",
      "Paso 909. Valor actual de la función de coste:  1.020\n",
      "Paso 912. Valor actual de la función de coste:  1.022\n",
      "Paso 915. Valor actual de la función de coste:  1.018\n",
      "Paso 918. Valor actual de la función de coste:  1.020\n",
      "Paso 921. Valor actual de la función de coste:  1.021\n",
      "Paso 924. Valor actual de la función de coste:  1.023\n",
      "Paso 927. Valor actual de la función de coste:  1.022\n",
      "Paso 930. Valor actual de la función de coste:  1.021\n",
      "Paso 933. Valor actual de la función de coste:  1.020\n",
      "Paso 936. Valor actual de la función de coste:  1.017\n",
      "Paso 939. Valor actual de la función de coste:  1.018\n",
      "Paso 942. Valor actual de la función de coste:  1.015\n",
      "Paso 945. Valor actual de la función de coste:  1.013\n",
      "Paso 948. Valor actual de la función de coste:  1.014\n",
      "Paso 951. Valor actual de la función de coste:  1.017\n",
      "Paso 954. Valor actual de la función de coste:  1.013\n",
      "Paso 957. Valor actual de la función de coste:  1.008\n",
      "Paso 960. Valor actual de la función de coste:  1.010\n",
      "Paso 963. Valor actual de la función de coste:  1.008\n",
      "Paso 966. Valor actual de la función de coste:  1.011\n",
      "Paso 969. Valor actual de la función de coste:  1.012\n",
      "Paso 972. Valor actual de la función de coste:  1.010\n",
      "Paso 975. Valor actual de la función de coste:  1.016\n",
      "Paso 978. Valor actual de la función de coste:  1.015\n",
      "Paso 981. Valor actual de la función de coste:  1.019\n",
      "Paso 984. Valor actual de la función de coste:  1.023\n",
      "Paso 987. Valor actual de la función de coste:  1.021\n",
      "Paso 990. Valor actual de la función de coste:  1.022\n",
      "Paso 993. Valor actual de la función de coste:  1.021\n",
      "Paso 996. Valor actual de la función de coste:  1.017\n",
      "Paso 999. Valor actual de la función de coste:  1.016\n",
      "Los parámetros óptimos para este circuito son: [\n",
      "\t1.434,\t\t-0.606,\t\t-0.812,\n",
      "\t-0.007,\t\t-0.164,\t\t-0.368,\n",
      "\t1.439,\t\t0.076,\t\t1.318,\n",
      "\t0.126,\t\t-0.478,\t\t1.001,\n",
      "\t0.398,\t\t0.254,\t\t1.511,\n",
      "\t0.859,\t]\n",
      "El valor del autovalor mínimo es:  1.016\n"
     ]
    }
   ],
   "source": [
    "H = op\n",
    "\n",
    "result = None\n",
    "step_size = 3\n",
    "\n",
    "result_energy = []\n",
    "\n",
    "for step in vqe(H, rounds=3, max_iter=1002, save_steps = step_size):\n",
    "    result_energy.append(step[2])\n",
    "    print('Paso {step}. Valor actual de la función de coste: {ev: .3f}'.format(step=step[0], ev = step[2]))\n",
    "    result = step\n",
    "    \n",
    "print('Los parámetros óptimos para este circuito son: [\\n'\n",
    "     + \"\".join([\"\\t\"+str(round(t,3))\n",
    "     +\",\\n\" if i%3 == 2 else \"\\t\"+str(round(t,3))\n",
    "     +\",\\t\" for i, t in enumerate(result[1])])+\"]\")\n",
    "print('El valor del autovalor mínimo es: {ev: .3f}'.format(ev=result[2]))"
   ]
  },
  {
   "cell_type": "code",
   "execution_count": 56,
   "id": "2922c1b0",
   "metadata": {},
   "outputs": [
    {
     "data": {
      "image/png": "[encoded data removed]",
      "text/plain": [
       "<Figure size 1500x700 with 1 Axes>"
      ]
     },
     "metadata": {},
     "output_type": "display_data"
    }
   ],
   "source": [
    "# Con la información de las iteraciones podemos dibujar la convergencia de nuestro código\n",
    "\n",
    "fontsize = 15\n",
    "\n",
    "plt.rcParams['figure.figsize'] = (15, 7)\n",
    "plt.plot(range(len(result_energy)), result_energy, label=\"Valor de la energía\", color='red')\n",
    "plt.xticks(fontsize = fontsize)\n",
    "plt.yticks(fontsize = fontsize)\n",
    "plt.xlabel('Paso', fontsize = fontsize)\n",
    "plt.ylabel('Energía', fontsize = fontsize)\n",
    "plt.title('Convergencia de la energía con el optimizador SPSA', fontsize = fontsize)\n",
    "plt.legend(loc='upper right', fontsize = fontsize)\n",
    "plt.show()"
   ]
  },
  {
   "cell_type": "markdown",
   "id": "4d844ef7",
   "metadata": {},
   "source": [
    "Por supuesto, aunque con este código abordamos los principios básicos del algoritmo y podemos obtener una aproximacion decente de $E_G$ para matrices pequeñas, este algoritmo se puede implementar de forma más eficaz, rápida y con mayor precisión en operadores de mayor dimensionalidad."
   ]
  },
  {
   "cell_type": "markdown",
   "id": "fda38064",
   "metadata": {},
   "source": [
    "En resumen, en el algoritmo VQE se fabrica un circuito cuántico (*ansatz*) parametrizado ($\\boldsymbol{\\theta}$), se ejecuta para obtener el valor esperado del operador problema ($E (\\boldsymbol{\\theta})$) y se envía el resultado a un optimizador clásico (```SPSA```) para que reajuste los parámetros. A lo largo de varias iteraciones, el algoritmo converge a un valor en torno a $E_G$."
   ]
  },
  {
   "cell_type": "markdown",
   "id": "8d67bb2c",
   "metadata": {},
   "source": [
    "<a id='sec_El_Modelo_de_Ising_con_el_algoritmo_VQE'> </a> \n",
    "## El Modelo de Ising con el algoritmo VQE"
   ]
  },
  {
   "cell_type": "markdown",
   "id": "374b2e07",
   "metadata": {},
   "source": [
    "El Modelo de Ising es un modelo para entender los materiales magnéticos en términos de los *spines* de los átomos y los electrones que lo forman. Pdemos imaginar el sólido magnético como una red cristalina, y en cada uno de los nodos tenemos una flecha que apunta hacia arriba ($\\uparrow$) o hacia abajo ($\\downarrow$). Si dos flechas contiguas apuntan en la misma dirección ($\\uparrow \\uparrow$ o $\\downarrow \\downarrow$), esta unión tiene una contribución negativa a la energía del sistema: el sistema tiende a alinear los *spines* entre si. Por otro lado si las flechas apuntan en direcciones contrarias ($\\uparrow \\downarrow$), la energía de esa unión es positiva: al sistema le \"cuesta\" mantener flechas en direcciones opuestas.\n",
    "<br>\n",
    "<br>\n",
    "Existen dos factores externos que pueden condicionar el estado del sistema: el campo magnético y la temperatura a los que lo sometemos. Por un lado, si introducimos un campo magnético apuntando hacia arriba, los *spines* tienden a alinearse con el campo, por lo que todos querrán apuntar hacia arriba. Por otro lado, si calentamos mucho el sistema, las excitaciones térmicas provocarán que los *spines* se agiten, cambiando de dirección y desordenándose.\n",
    "<br>\n",
    "<br>\n",
    "En el caso cuántico, las fluctuaciones cuánticas del sistema provocan cambios en estos spines incluso a temperatura cero, permitiendo la existencia de transiciones de fase cuánticas."
   ]
  },
  {
   "cell_type": "markdown",
   "id": "2feaf91c",
   "metadata": {
    "slideshow": {
     "slide_type": ""
    },
    "tags": []
   },
   "source": [
    "Podemos expresar el Hamiltoniano del sistema como:<br>\n",
    "<br>\n",
    "$$\n",
    "\\mathcal{H} = - J \\sum_{\\langle i,j \\rangle} \\sigma_i \\sigma_j - h \\sum_i \\sigma_i \\;,\n",
    "$$\n",
    "<br>\n",
    "donde $J$ es la contribución energética de la interacción de dos *spines* adyacentes (fijémonos en que en el primer sumatorio solo se suma a primeros vecinos, $\\langle i,j \\rangle$) y $h$ está relacionado con este campo magnético externo. $\\sigma_i$ es la \"etiqueta\" del *spin* y vale $+1$ o $-1$ según apunte hacia arriba o hacia abajo.\n",
    "<br>\n",
    "<br>\n",
    "Este problema puede complicarse dados diferentes factores microcópicos como la estructura cristalina o incluso tener interacciones más allá de los primeros vecinos, lo que requiere métodos aproximados para solucionarlo. No obstante, hay dos casos especiales para los que existe una solución exacta y analítica del modelo: cuando el sistema tiene solo una dimensión o cuando el sistema tiene dos dimensiones y una estructura cuadrada."
   ]
  },
  {
   "cell_type": "markdown",
   "id": "4d946faa",
   "metadata": {
    "slideshow": {
     "slide_type": ""
    },
    "tags": []
   },
   "source": [
    "<a id='sec_El_Modelo_de_Ising_1D'></a>\n",
    "### El Modelo de Ising 1D"
   ]
  },
  {
   "cell_type": "markdown",
   "id": "40bc27d8",
   "metadata": {
    "slideshow": {
     "slide_type": ""
    },
    "tags": []
   },
   "source": [
    "Vamos a analizar el caso cuántico de la cadena de Ising **unidimensional**. Precisamente por la naturaleza cuántica del problema podemos utilizar las matrices de Pauli para caracterizar el Hamiltoniano, dando lugar a una nueva forma del operador [[6](#bib_cervera-lierta_exact_2018)]: <br>\n",
    "<br>\n",
    "$$\n",
    "\\mathcal{H} = -J \\sum_{i=1}^N X_i X_{i+1} - J g \\sum_i Z_i \\;,\n",
    "$$\n",
    "<br>\n",
    "siendo $N$ la longitud de la cadena y, de nuevo, $J$ está relacionado con la energía del sistema y $g$ con la intensidad del campo magnético a primeros vecinos. $X_i$ y $Z_i$ son operadores de Pauli como los que introducíamos al principio de este documento, actuando sobre el *spin* en posición $i$.\n",
    "<br>\n",
    "<br>\n",
    "Este modelo se conoce como **transverse field Ising Model**. A veces se define $\\Gamma = J g$, donde $\\Gamma$ se conoce como campo transverso."
   ]
  },
  {
   "cell_type": "markdown",
   "id": "7d1d57fe",
   "metadata": {
    "slideshow": {
     "slide_type": ""
    },
    "tags": []
   },
   "source": [
    "<div class=\"alert alert-block alert-danger\">\n",
    "<p style=\"color: DarkRed;\">\n",
    "<b>Nota</b>: <i>Notación reducida</i> \n",
    "<br>    \n",
    "En lo que a la descomposición de Pauli se refiere, los productos anteriores realmente son productos tensoriales de operadores para las partículas $i$ e $i+1$, teniendo identidades en el resto de posiciones. Por ejemplo, para una cadena de tres <i>spines</i>, $N=3$,  \n",
    "<br>\n",
    "$$\n",
    "\\mathcal{H} = -J(X \\otimes X \\otimes I + I \\otimes X \\otimes X + X \\otimes I \\otimes X) - J g (Z \\otimes I \\otimes I + I \\otimes Z \\otimes I + I \\otimes I \\otimes Z) \\;,\n",
    "$$    \n",
    "donde hemos tomado condiciones de contorno periódicas ($\\sigma_{N+1} \\rightarrow \\sigma_1$).\n",
    "</p>\n",
    "</div>"
   ]
  },
  {
   "cell_type": "markdown",
   "id": "d1ec3c35",
   "metadata": {
    "slideshow": {
     "slide_type": ""
    },
    "tags": []
   },
   "source": [
    "Vamos a redefinir nuestras constantes del problema $J$ y $g$ de forma que podamos expresarlas como magnitudes relativas, escribiendo nuestro operador como <br>\n",
    "<br>\n",
    "$$\n",
    "\\mathcal{H} = \\sum_{i=1}^N X_i X_{i+1} + \\gamma \\sum_i Z_i \\;.\n",
    "$$\n",
    "<br>\n",
    "Ahora los signos ($-$) han pasado a ser positivos y solo tenemos una constante de acoplo, $\\gamma$. Esto implica que, cuando $\\gamma$ es positivo estamos en el caso ferromagnético y cuando es negativo en el antiferromagnético.\n",
    "<br>\n",
    "<br>\n",
    "La función que implementa esto es la siguiente:"
   ]
  },
  {
   "cell_type": "code",
   "execution_count": 58,
   "id": "41a660be",
   "metadata": {
    "slideshow": {
     "slide_type": ""
    },
    "tags": []
   },
   "outputs": [],
   "source": [
    "'''Qibo_code_cell'''\n",
    "\n",
    "def ising_chain_ham_qibo(n, gam):\n",
    "    \n",
    "    # Esta función nos devuelve el Hamiltoniano en términos utilizables por los algoritmos de Qibo\n",
    "    # n = number of spin positions\n",
    "    # gam = transverse field parameter\n",
    "\n",
    "    from qibo.symbols import X, Z\n",
    "\n",
    "    sym_X = sum(X(i) * X(i+1) for i in range(n-1)) + (X(0) * X(n-1))\n",
    "    sym_Z = sum(Z(i) for i in range(n))\n",
    "    sym_H = sym_X + gam * sym_Z\n",
    "\n",
    "    H = hamiltonians.SymbolicHamiltonian(sym_H)\n",
    "    \n",
    "    return H, H.matrix"
   ]
  },
  {
   "cell_type": "code",
   "execution_count": 21,
   "id": "ab88f0d9-1f27-4ff5-8613-4a53032120a0",
   "metadata": {},
   "outputs": [],
   "source": [
    "'''Qiskit_code_cell'''\n",
    "\n",
    "def ising_chain_ham(n, gam):\n",
    "    \n",
    "    # Esta función nos devuelve el Hamiltoniano en términos utilizables por los algoritmos de Qiskit\n",
    "    # n = number of spin positions\n",
    "    # gam = transverse field parameter\n",
    "    \n",
    "    for i in range(n):\n",
    "        vecX = [I] * n\n",
    "        vecZ = [I] * n\n",
    "        vecX[i] = X\n",
    "        vecZ[i] = Z\n",
    "        \n",
    "        if i == n - 1:\n",
    "            vecX[0] = X\n",
    "        else:\n",
    "            vecX[i+1] = X\n",
    "\n",
    "        auxX = vecX[0]\n",
    "        auxZ = vecZ[0]\n",
    "        \n",
    "        for a in vecX[1:n]:\n",
    "            auxX = auxX ^ a\n",
    "        for b in vecZ[1:n]:\n",
    "            auxZ = auxZ ^ b\n",
    "            \n",
    "        if i == 0:\n",
    "            H = (auxX) + (gam * auxZ)\n",
    "        else:\n",
    "            H = H + (auxX) + (gam * auxZ)\n",
    "\n",
    "    return H\n",
    "\n",
    "\n",
    "def ising_chain_matrix(n, gam):\n",
    "    \n",
    "    # Esta función devuelve el Hamiltoniano como un array (lista de listas)\n",
    "      \n",
    "    for i in range(n):\n",
    "        HX = [PAULIS[\"I\"]] * n\n",
    "        HZ = [PAULIS[\"I\"]] * n\n",
    "        HX[i] = PAULIS[\"X\"]\n",
    "        HZ[i] = PAULIS[\"Z\"]\n",
    "        \n",
    "        if i == n - 1:\n",
    "            HX[0] = PAULIS[\"X\"]\n",
    "        else:\n",
    "            HX[i+1] = PAULIS[\"X\"]\n",
    "            \n",
    "        aux = reduce(np.kron, HZ)\n",
    "        aux = [val * gam for val in aux]\n",
    "        \n",
    "        if i == 0:\n",
    "            H = reduce(np.kron, HX) + aux\n",
    "        else:            \n",
    "            H = H + reduce(np.kron, HX) + aux\n",
    "        \n",
    "    return H"
   ]
  },
  {
   "cell_type": "markdown",
   "id": "d719839d",
   "metadata": {},
   "source": [
    "Vamos a resolver una cadena de Ising de $N = 4$ *spines*. Entonces prepararemos el Hamiltoniano y después le haremos una serie de transformaciones que nos permiten diagonalizarlo.\n",
    "<br>\n",
    "<br>\n",
    "Empezamos por escribir nuestro operador. Como tenemos $N=4$ <i>spines</i>, el operador será <br>\n",
    "<br>\n",
    "$$\n",
    "\\mathcal{H} = X_1X_2I_3I_4 + I_1X_2X_3I_4 + I_1I_2X_3X_4 + X_1I_2I_3X_4 + \\gamma (Z_1I_2I_3I_4 + I_1Z_2I_3I_4 + I_1I_2Z_3I_4 + I_1I_2I_3Z_4)\n",
    "$$\n",
    "<br>\n",
    "Tomemos un valor de $\\gamma$ pequeño, por ejemplo, $\\gamma = 0.3$."
   ]
  },
  {
   "cell_type": "code",
   "execution_count": 59,
   "id": "d2dcca0e",
   "metadata": {},
   "outputs": [
    {
     "name": "stderr",
     "output_type": "stream",
     "text": [
      "[Qibo 0.1.12.dev0|WARNING|2024-02-09 09:56:03]: Calculating the dense form of a symbolic Hamiltonian. This operation is memory inefficient.\n"
     ]
    }
   ],
   "source": [
    "'''Qibo_code_cell'''\n",
    "\n",
    "# Definimos el Hamiltoniano\n",
    "n = 4\n",
    "gam = .3\n",
    "\n",
    "op_H, matrix = ising_chain_ham_qibo(n,gam)"
   ]
  },
  {
   "cell_type": "code",
   "execution_count": 22,
   "id": "84be6fb0-29b6-4cd6-8953-9f5064c0a9f9",
   "metadata": {},
   "outputs": [],
   "source": [
    "'''Qiskit_code_cell'''\n",
    "\n",
    "# Definimos el Hamiltoniano\n",
    "n = 4\n",
    "gam = 0.3\n",
    "op_H = ising_chain_ham(n,gam)\n",
    "matrix = ising_chain_matrix(n, gam)"
   ]
  },
  {
   "cell_type": "code",
   "execution_count": 61,
   "id": "d94014e4",
   "metadata": {},
   "outputs": [],
   "source": [
    "'''Qibo_code_cell'''\n",
    "\n",
    "# Ahora creamos un circuito variacional de ansatz\n",
    "# En este caso usamos un circuito de puertas RY(theta) y CZ, haciendo los diferentes valores de theta aleatorios\n",
    "\n",
    "nqubits = n\n",
    "nlayers  = 8\n",
    "\n",
    "circuit = models.Circuit(nqubits)\n",
    "\n",
    "for l in range(nlayers):\n",
    "    circuit.add((gates.RY(q, theta=0) for q in range(nqubits)))\n",
    "    circuit.add((gates.CZ(q, q+1) for q in range(0, nqubits-1, 2)))\n",
    "    circuit.add((gates.RY(q, theta=0) for q in range(nqubits)))\n",
    "    circuit.add((gates.CZ(q, q+1) for q in range(1, nqubits-2, 2)))\n",
    "    circuit.add(gates.CZ(0, nqubits-1))\n",
    "    \n",
    "circuit.add((gates.RY(q, theta=0) for q in range(nqubits)))"
   ]
  },
  {
   "cell_type": "code",
   "execution_count": 23,
   "id": "911d615b-89ef-4650-bb33-3cfb30e18885",
   "metadata": {},
   "outputs": [],
   "source": [
    "'''Qiskit_code_cell'''\n",
    "\n",
    "# Ahora creamos un circuito variacional de ansatz\n",
    "# En este caso usamos un circuito de puertas RY(theta) y CZ, haciendo los diferentes valores de theta aleatorios\n",
    "\n",
    "ansatz_circ = TwoLocal(num_qubits=n, rotation_blocks='ry', entanglement_blocks='cz')"
   ]
  },
  {
   "cell_type": "markdown",
   "id": "279af954",
   "metadata": {},
   "source": [
    "En este caso, en lugar de utilizar el optimizador SPSA como hicimos en la sección anterior, empleamos uno nuevo: el algorimto de COBYLA. Realmente, este algoritmo tampoco es particularmente eficiente, pero la forma en la que converge resulta más ilustrativa. Para ejecutar este código de forma más rápida, sugerimos que se emplee el método de Powell [[9](#bib_powell_efficient_1964)]."
   ]
  },
  {
   "cell_type": "code",
   "execution_count": 65,
   "id": "b9b9cc66",
   "metadata": {},
   "outputs": [],
   "source": [
    "'''Qibo_code_cell'''\n",
    "\n",
    "# Especificamos el algorimto de optimización clásica\n",
    "opt = 'COBYLA'\n",
    "# opt = 'Powell'"
   ]
  },
  {
   "cell_type": "code",
   "execution_count": 24,
   "id": "69106ea4-27b1-4bc5-8c31-6c4724fa487f",
   "metadata": {},
   "outputs": [],
   "source": [
    "'''Qiskit_code_cell'''\n",
    "\n",
    "opt = COBYLA(maxiter = 10000)\n",
    "# opt = POWELL()"
   ]
  },
  {
   "cell_type": "markdown",
   "id": "3a6c633f-8a6d-4e2a-8cc2-f92feffb672b",
   "metadata": {},
   "source": [
    "Implementamos unas funciones de callback para poder almacenar los datos de cada iteración y hacer un análisis de la convergencia."
   ]
  },
  {
   "cell_type": "code",
   "execution_count": 63,
   "id": "1a1ff42c",
   "metadata": {},
   "outputs": [],
   "source": [
    "'''Qibo_code_cell'''\n",
    "\n",
    "# Esto son funciones auxiliares para guardar los datos de las iteraciones\n",
    "\n",
    "intermediate_info = {\n",
    "    'parameters': [],\n",
    "    'energy': [],\n",
    "    #'stddev': []\n",
    "}\n",
    "\n",
    "def callback(p):\n",
    "    intermediate_info['parameters'].append(p)\n",
    "    \n",
    "    energy, _, _ = vqe.minimize(p, callback = None, method=opt, options = None, compile=False)\n",
    "    \n",
    "    intermediate_info['energy'].append(energy)\n",
    "    \n",
    "    #intermediate_info['stddev'].append(stddev)"
   ]
  },
  {
   "cell_type": "code",
   "execution_count": 25,
   "id": "1fc9952e-3698-4a31-af57-6cca74438c94",
   "metadata": {},
   "outputs": [],
   "source": [
    "'''Qiskit_code_cell'''\n",
    "\n",
    "counts = []\n",
    "values = []\n",
    "\n",
    "def store_intermediate_result(eval_count, parameters, mean, std):\n",
    "    counts.append(eval_count)\n",
    "    values.append(mean)"
   ]
  },
  {
   "cell_type": "markdown",
   "id": "479205a0",
   "metadata": {},
   "source": [
    "Como anticipamos previamente, vamos a hacer uso de la función ```vqe``` que está ya implementada, ya que es considerablemente más eficiente que la que programamos en la sección anterior."
   ]
  },
  {
   "cell_type": "code",
   "execution_count": 66,
   "id": "7d357bf1",
   "metadata": {},
   "outputs": [
    {
     "name": "stdout",
     "output_type": "stream",
     "text": [
      "Optimization terminated successfully.\n",
      "         Current function value: -4.092902\n",
      "         Iterations: 3\n",
      "         Function evaluations: 1871\n",
      "E_G =  -4.092901871278741\n"
     ]
    }
   ],
   "source": [
    "'''Qibo_code_cell'''\n",
    "\n",
    "# Parámetros del Ansatz\n",
    "initial_parameters = np.random.uniform(-2*np.pi, 2*np.pi, 2*nqubits*nlayers + nqubits)\n",
    "\n",
    "# Construcción del método VQE\n",
    "vqe = models.VQE(circuit, op_H)\n",
    "options = {'disp': True, 'return_all': True}\n",
    "\n",
    "# Y ejecutamos el algoritmo\n",
    "best, params, extra = vqe.minimize(initial_parameters, callback = callback, method=opt, options = options, compile=False)\n",
    "print(\"E_G = \", best)\n",
    "\n",
    "values = intermediate_info['energy']"
   ]
  },
  {
   "cell_type": "code",
   "execution_count": 30,
   "id": "921fcfc3",
   "metadata": {},
   "outputs": [
    {
     "name": "stderr",
     "output_type": "stream",
     "text": [
      "/tmp/ipykernel_33264/1590746714.py:8: DeprecationWarning: The class ``qiskit.utils.quantum_instance.QuantumInstance`` is deprecated as of qiskit-terra 0.24.0. It will be removed no earlier than 3 months after the release date. For code migration guidelines, visit https://qisk.it/qi_migration.\n",
      "  qi = QuantumInstance(backend, seed_transpiler=63, seed_simulator=63)\n"
     ]
    },
    {
     "name": "stdout",
     "output_type": "stream",
     "text": [
      "E_G = -4.0905101973813816\n"
     ]
    }
   ],
   "source": [
    "'''Qiskit_code_cell'''\n",
    "\n",
    "# Simulador/Ordenador cuántico\n",
    "backend = Aer.get_backend('statevector_simulator')\n",
    "\n",
    "# Entorno para la resolución\n",
    "algorithm_globals.random_seed = 63\n",
    "qi = QuantumInstance(backend, seed_transpiler=63, seed_simulator=63)\n",
    "\n",
    "# Algoritmo VQE, introduciendo el ansatz y el optimizador elegidos\n",
    "vqe_proc = VQE(estimator = Estimator() ,ansatz=ansatz_circ, optimizer=opt, callback=store_intermediate_result)\n",
    "vqe_proc.quantum_instance = qi\n",
    "\n",
    "# Resultados\n",
    "sol = vqe_proc.compute_minimum_eigenvalue(operator = op_H)\n",
    "# print(sol, \"\\n\")\n",
    "best = sol.optimal_value\n",
    "print(\"E_G =\",best)"
   ]
  },
  {
   "cell_type": "code",
   "execution_count": 67,
   "id": "d3b0cd6c",
   "metadata": {},
   "outputs": [
    {
     "data": {
      "image/png": "[encoded data removed]",
      "text/plain": [
       "<Figure size 1500x700 with 1 Axes>"
      ]
     },
     "metadata": {},
     "output_type": "display_data"
    }
   ],
   "source": [
    "# Con la información de las iteraciones podemos dibujar la convergencia de nuestro código\n",
    "\n",
    "fontsize = 15\n",
    "\n",
    "plt.rcParams['figure.figsize'] = (15, 7)\n",
    "plt.plot(range(len(values)), values, label=\"Energy value\", color='red')\n",
    "plt.xticks(fontsize = fontsize)\n",
    "plt.yticks(fontsize = fontsize)\n",
    "plt.xlabel('Steps', fontsize = fontsize)\n",
    "plt.ylabel('Energy', fontsize = fontsize)\n",
    "plt.title('Energy convergence for COBYLA optimizer', fontsize = fontsize)\n",
    "plt.legend(loc='upper right', fontsize = fontsize);\n",
    "plt.show()"
   ]
  },
  {
   "cell_type": "markdown",
   "id": "4c3ae66c",
   "metadata": {},
   "source": [
    "También comparamos con el valor que obtenemos simplemente de diagonalizar la matriz, ya que, al ser \"pequeña\" ($16 \\times 16$), ```scipy``` no tiene problema en hacerlo."
   ]
  },
  {
   "cell_type": "code",
   "execution_count": 68,
   "id": "90607b2f",
   "metadata": {},
   "outputs": [
    {
     "name": "stdout",
     "output_type": "stream",
     "text": [
      "E_G = -4.092961599426855\n",
      "Error relativo = 0.0014592892374552804 %\n"
     ]
    }
   ],
   "source": [
    "eigvals, eigvecs = scipy.linalg.eig(matrix)\n",
    "\n",
    "print(\"E_G =\", min(eigvals).real)\n",
    "\n",
    "print(\"Error relativo =\", abs((best - min(eigvals).real)/min(eigvals).real) * 100, \"%\")"
   ]
  },
  {
   "cell_type": "markdown",
   "id": "47931194",
   "metadata": {},
   "source": [
    "<a id='sec_La_Molécula_de_H2'> </a> \n",
    "## La molécula de $\\text{H}_2$"
   ]
  },
  {
   "cell_type": "markdown",
   "id": "0c730d4a",
   "metadata": {},
   "source": [
    "El algoritmo VQE se propuso originalmente para obtener el estado de mínima energía de moléculas complicadas a partir de su Hamiltoniano [[1](#bib_peruzzo_variational_2014)]. Por este motivo, gran parte de su historia y sus aplicaciones se han desarrollado y estudiado dentro del ámbito de la química computacional. También por este motivo, muchas librerías y lenguajes de programación orientados a utilizar computadores cuánticos tienen integradas multitud de funciones y características para trabajar con moléculas.\n",
    "<br>\n",
    "<br>\n",
    "Por ejemplo, Google tiene su librería de computación cuántica [```openfermion```](https://quantumai.google/openfermion), mientras que Qiskit tiene, en su módulo ```qiskit_nature```, un método para construir moléculas utilizando PYSCF."
   ]
  },
  {
   "cell_type": "code",
   "execution_count": 69,
   "id": "4827d209",
   "metadata": {},
   "outputs": [],
   "source": [
    "'''Qibo_code_cell'''\n",
    "\n",
    "from openfermion import MolecularData\n",
    "from openfermionpyscf import run_pyscf\n",
    "from openfermion import jordan_wigner, count_qubits\n",
    "\n",
    "# NOTA: Haciendo este código me ha salido un error interno de las librerías de pyscf.\n",
    "# Este error alega que no existe un módulo llamado openfermion.chem\n",
    "# Esto puede deberse a que la versión de openfermion esté en una versión no compatible.\n",
    "# Para solucionarlo, basta con ir al script de la función de pyscf y cambiar el comando\n",
    "# from openfermion.chem import *\n",
    "#   por\n",
    "# from openfermion import *"
   ]
  },
  {
   "cell_type": "code",
   "execution_count": 33,
   "id": "e3e3884a-b94e-4ca2-92cc-80c662f0c460",
   "metadata": {},
   "outputs": [],
   "source": [
    "'''Qiskit_code_cell'''\n",
    "\n",
    "import qiskit_nature\n",
    "from qiskit_nature.units import DistanceUnit\n",
    "from qiskit_nature.second_q.drivers import PySCFDriver\n",
    "from qiskit_nature.second_q.algorithms import VQEUCCFactory, GroundStateEigensolver\n",
    "from qiskit_nature.second_q.circuit.library import UCCSD\n",
    "from qiskit_nature.second_q.mappers import JordanWignerMapper, QubitConverter"
   ]
  },
  {
   "cell_type": "markdown",
   "id": "a4a55688",
   "metadata": {},
   "source": [
    "Este módulo nos permite, entre otras cosas, fabricar diferentes moléculas, especificando los diferentes átomos que la componen, la base de funciones de la función de onda del electrón, la carga y la multiplicidad de la molécula."
   ]
  },
  {
   "cell_type": "markdown",
   "id": "72a85177",
   "metadata": {},
   "source": [
    "De todas las posibles moléculas que podríamos tratar, la más sencilla es la de $\\text{H}_2$: el átomo de Hidrógeno es el más pequeño y simple, presenta un único enlace y solo tiene dos electrones.\n",
    "<br>\n",
    "<br>\n",
    "Aun así, al contrario que el Modelo de Ising, la molécula de Hidrógeno presenta un problema: no es resoluble analíticamente. En su lugar, el \"valor teórico\" de su energía fundamental es realmente el resultado de simulaciones y experimentos, en ocasiones dando resultados en forma de operaciones infinitas que hay que truncar en alguna parte. \n",
    "<br>\n",
    "<br>\n",
    "Así, por ejemplo, en [[10](#bib_pang_hydrogen_1994)] se presenta un resultado de $-1.1746(5) E_h$ a partir de simulaciones de Monte Carlo, mientras que en [[11](#bib_yang_calculating_2019)] obtienen un resultado comprendido entre $-1.2241 E_h$ y $-1.0999 E_h$ empleando el modelo de Bohr."
   ]
  },
  {
   "cell_type": "code",
   "execution_count": 70,
   "id": "cc261428",
   "metadata": {},
   "outputs": [],
   "source": [
    "'''Qibo_code_cell'''\n",
    "\n",
    "# Creamos la molécula con los parámetros requeridos\n",
    "\n",
    "# Parámetros moleculares\n",
    "bond_length = 1.40104295\n",
    "multiplicity = 1    # Dependiendo del tipo de molécula, el spin queda determinado por la multiplicidad. Si lo detecta como incompatible, dará error.\n",
    "basis = 'sto-3g'\n",
    "charge = 0\n",
    "\n",
    "# Especificamos los elementos y su disposición geométrica\n",
    "geometry = [('H', (0., 0., 0.)), ('H', (0., 0., bond_length))]\n",
    "\n",
    "# Parámetros del cálculo. En nuestro caso especificamos solo run_scf porque nos basta con haber hecho solo Hartree-Fock.\n",
    "run_scf = 1\n",
    "run_mp2 = 0\n",
    "run_cisd = 0\n",
    "run_ccsd = 0\n",
    "run_fci = 0\n",
    "delete_input = True\n",
    "delete_output = True\n",
    "\n",
    "# Inicializamos la estructura molecular\n",
    "molecule = MolecularData(geometry, basis, multiplicity,\n",
    "                         charge, description=str(bond_length))\n",
    "\n",
    "# Calculamos sus integrales\n",
    "molecule = run_pyscf(molecule,\n",
    "                        run_scf=run_scf,\n",
    "                        run_mp2=run_mp2,\n",
    "                        run_cisd=run_cisd,\n",
    "                        run_ccsd=run_ccsd,\n",
    "                        run_fci=run_fci)\n",
    "\n"
   ]
  },
  {
   "cell_type": "code",
   "execution_count": 34,
   "id": "0af91144-cd6c-4d26-b109-57bb7f4d938b",
   "metadata": {},
   "outputs": [],
   "source": [
    "'''Qiskit_code_cell'''\n",
    "\n",
    "driver = PySCFDriver(\n",
    "    atom=\"H 0 0 0; H 0 0 0.741\",\n",
    "    basis=\"sto3g\",\n",
    "    charge=0,\n",
    "    spin=0,\n",
    "    unit=DistanceUnit.ANGSTROM,\n",
    "    # El método de aproximación por defecto es Hartree-Fock: method=MethodType.RHF\n",
    ")\n",
    "\n",
    "es_problem = driver.run()"
   ]
  },
  {
   "cell_type": "markdown",
   "id": "eeede440",
   "metadata": {},
   "source": [
    "Mientras que Qiskit puede generar el Hamiltoniano de la molécula con sus propias funciones, con Qibo necesitamos fabricar una función que nos convierta el problema molecular en uno legible por un circuito cuántico."
   ]
  },
  {
   "cell_type": "code",
   "execution_count": 73,
   "id": "b2704f9f",
   "metadata": {},
   "outputs": [],
   "source": [
    "'''Qibo_code_cell'''\n",
    "\n",
    "def qibo_mol_H(molecule):\n",
    "\n",
    "    # molecule es una estructura molecular de OpenFermion\n",
    "    # devuelve un Hamiltoniano en términos de Qibo\n",
    "\n",
    "    # Obtenemos el Hamiltoniano molecular de nuestra molécula fabricada con OpenFermion\n",
    "    H = molecule.get_molecular_hamiltonian()\n",
    "\n",
    "    # Nos aseguramos de que el término constante está bien definido\n",
    "    if H.constant is None: H.constant = 0\n",
    "\n",
    "    # Hacemos la transformación de Jordan Wigner\n",
    "    JW = jordan_wigner(H)\n",
    "    dim = count_qubits(JW)\n",
    "\n",
    "    # Inicializamos el operador con el término constante\n",
    "    operator = JW.constant * reduce(np.kron, [m.I]*dim)  \n",
    "\n",
    "    # Recorremos los términos del operador de Jordan-Wigner\n",
    "    for index in JW.terms.keys():\n",
    "        if index == ():\n",
    "            continue # Omitimos el término constante, ya que hemos inicializado con él\n",
    "\n",
    "        # Definimos una lista auxiliar de operadores identidad del tamaño del sistema\n",
    "        lis = [m.I]*dim\n",
    "\n",
    "        # Reemplazamos en nuestra lista los operadores en la posición en la que indica el término de JW\n",
    "        for tag in index:\n",
    "            if tag[1] == 'X': lis[tag[0]] = m.X\n",
    "            elif tag[1] == 'Y': lis[tag[0]] = m.Y\n",
    "            elif tag[1] == 'Z': lis[tag[0]] = m.Z\n",
    "\n",
    "        # Sumamos el término JW a nuestro operador matricial\n",
    "        operator += JW.terms[index] * reduce(np.kron, lis)\n",
    "\n",
    "    return hamiltonians.Hamiltonian(dim, operator), dim, operator"
   ]
  },
  {
   "cell_type": "code",
   "execution_count": 35,
   "id": "84e9c8a2-5d4c-4def-b5fe-54de948d9965",
   "metadata": {},
   "outputs": [
    {
     "name": "stderr",
     "output_type": "stream",
     "text": [
      "/tmp/ipykernel_33264/947847629.py:3: DeprecationWarning: The QubitConverter class is deprecated as of version 0.6.0 and will be removed no sooner than 3 months after the release . Instead you should directly use the QubitMapper instance which you used to pass into the QubitConverter as the first argument. Refer to the documentation of the qiskit_nature.second_q.mappers module for more information.\n",
      "  converter = QubitConverter(JordanWignerMapper())\n"
     ]
    }
   ],
   "source": [
    "'''Qiskit_code_cell'''\n",
    "\n",
    "converter = QubitConverter(JordanWignerMapper())"
   ]
  },
  {
   "cell_type": "markdown",
   "id": "a44fd645",
   "metadata": {},
   "source": [
    "Y, una vez tenemos el Hamiltoniano, podemos implementar el algoritmo VQE igual que hicimos antes:"
   ]
  },
  {
   "cell_type": "code",
   "execution_count": 74,
   "id": "7d21c007",
   "metadata": {},
   "outputs": [],
   "source": [
    "'''Qibo_code_cell'''\n",
    "\n",
    "# Ahora creamos un circuito variacional de ansatz\n",
    "# En este caso usamos un circuito de puertas RY(theta) y CZ, haciendo los diferentes valores de theta aleatorios\n",
    "\n",
    "op_H, n, mat = qibo_mol_H(molecule)\n",
    "\n",
    "nqubits = n\n",
    "nlayers  = 8\n",
    "\n",
    "circuit = models.Circuit(nqubits)\n",
    "\n",
    "for l in range(nlayers):\n",
    "    circuit.add((gates.RY(q, theta=0) for q in range(nqubits)))\n",
    "    circuit.add((gates.CZ(q, q+1) for q in range(0, nqubits-1, 2)))\n",
    "    circuit.add((gates.RY(q, theta=0) for q in range(nqubits)))\n",
    "    circuit.add((gates.CZ(q, q+1) for q in range(1, nqubits-2, 2)))\n",
    "    circuit.add(gates.CZ(0, nqubits-1))\n",
    "    \n",
    "circuit.add((gates.RY(q, theta=0) for q in range(nqubits)))"
   ]
  },
  {
   "cell_type": "code",
   "execution_count": 36,
   "id": "2870a151-3366-49f1-8634-39d2be042a36",
   "metadata": {},
   "outputs": [],
   "source": [
    "'''Qiskit_code_cell'''\n",
    "\n",
    "tl_circuit = TwoLocal(\n",
    "    rotation_blocks=[\"h\", \"rx\"],\n",
    "    entanglement_blocks=\"cz\",\n",
    "    entanglement=\"full\",\n",
    "    reps=2,\n",
    "    parameter_prefix=\"y\",\n",
    ")"
   ]
  },
  {
   "cell_type": "markdown",
   "id": "d03d3844",
   "metadata": {},
   "source": [
    "Utilizamos, de nuevo, el algoritmo de optimización de COBYLA."
   ]
  },
  {
   "cell_type": "code",
   "execution_count": 78,
   "id": "b77761c1",
   "metadata": {},
   "outputs": [],
   "source": [
    "'''Qibo_code_cell'''\n",
    "\n",
    "# Optimizador\n",
    "opt = 'COBYLA'\n",
    "# opt = 'Powell'"
   ]
  },
  {
   "cell_type": "code",
   "execution_count": 37,
   "id": "6cb19743-e8a4-4129-87a4-44758f71733e",
   "metadata": {},
   "outputs": [],
   "source": [
    "'''Qiskit_code_cell'''\n",
    "\n",
    "# Optimizador\n",
    "opt = COBYLA(maxiter=1000)\n",
    "# opt = POWELL()"
   ]
  },
  {
   "cell_type": "markdown",
   "id": "142e1df3-b962-407e-96c3-7f19d3578672",
   "metadata": {},
   "source": [
    "De nuevo necesitamos funciones de callback"
   ]
  },
  {
   "cell_type": "code",
   "execution_count": 79,
   "id": "f57dff3f",
   "metadata": {},
   "outputs": [],
   "source": [
    "'''Qibo_code_cell'''\n",
    "\n",
    "# Esto son funciones auxiliares para guardar los datos de las iteraciones\n",
    "\n",
    "intermediate_info = {\n",
    "    'parameters': [],\n",
    "    'energy': [],\n",
    "    #'stddev': []\n",
    "}\n",
    "\n",
    "def callback(p):\n",
    "    intermediate_info['parameters'].append(p)\n",
    "    \n",
    "    energy, _, _ = vqe.minimize(p, callback = None, method=opt, options = None, compile=False)\n",
    "    \n",
    "    intermediate_info['energy'].append(energy)\n",
    "    \n",
    "    #intermediate_info['stddev'].append(stddev)"
   ]
  },
  {
   "cell_type": "code",
   "execution_count": 38,
   "id": "6618dd3b-2ca9-4f1e-a0df-489c4b79d60d",
   "metadata": {},
   "outputs": [],
   "source": [
    "'''Qiskit_code_cell'''\n",
    "\n",
    "# Esto son funciones auxiliares para guardar los datos de las iteraciones\n",
    "\n",
    "intermediate_info = {\n",
    "    'parameters': [],\n",
    "    'energy': [],\n",
    "    #'stddev': []\n",
    "}\n",
    "\n",
    "def callback(eval_count, parameters, mean, std):\n",
    "   intermediate_info['parameters'].append(parameters)\n",
    "   intermediate_info['energy'].append(mean)"
   ]
  },
  {
   "cell_type": "code",
   "execution_count": 80,
   "id": "a6ae0337",
   "metadata": {},
   "outputs": [
    {
     "name": "stdout",
     "output_type": "stream",
     "text": [
      "Optimization terminated successfully.\n",
      "         Current function value: -1.015266\n",
      "         Iterations: 5\n",
      "         Function evaluations: 3057\n",
      "E_G =  -1.015265745672648\n"
     ]
    }
   ],
   "source": [
    "'''Qibo_code_cell'''\n",
    "\n",
    "# Parámetros del Ansatz\n",
    "initial_parameters = np.random.uniform(-2*np.pi, 2*np.pi, 2*nqubits*nlayers + nqubits)\n",
    "\n",
    "# Construcción del método VQE\n",
    "vqe = models.VQE(circuit, op_H)\n",
    "options = {'disp': True, 'return_all': True}\n",
    "\n",
    "# Y ejecutamos el algoritmo\n",
    "best, params, extra = vqe.minimize(initial_parameters, callback = callback, method=opt, options = options, compile=False)\n",
    "print(\"E_G = \", best)"
   ]
  },
  {
   "cell_type": "code",
   "execution_count": 39,
   "id": "c35f96af",
   "metadata": {},
   "outputs": [
    {
     "name": "stderr",
     "output_type": "stream",
     "text": [
      "/home/jscqcom/micromamba/envs/Quantum_Disaster/lib/python3.8/site-packages/qiskit_nature/deprecation.py:297: PauliSumOpDeprecationWarning: PauliSumOp is deprecated as of version 0.6.0 and support for them will be removed no sooner than 3 months after the release. Instead, use SparsePauliOp. You can switch to SparsePauliOp immediately, by setting `qiskit_nature.settings.use_pauli_sum_op` to `False`.\n",
      "  return func(*args, **kwargs)\n"
     ]
    },
    {
     "name": "stdout",
     "output_type": "stream",
     "text": [
      "E_G = [-1.11670614]\n"
     ]
    }
   ],
   "source": [
    "'''Qiskit_code_cell'''\n",
    "\n",
    "# Y ejecutamos el algoritmo\n",
    "vqe_solver = VQE(Estimator(), tl_circuit, opt, callback=callback)\n",
    "\n",
    "calc = GroundStateEigensolver(converter, vqe_solver)\n",
    "\n",
    "res = calc.solve(es_problem)\n",
    "best = res.total_energies\n",
    "print('E_G =',best)"
   ]
  },
  {
   "cell_type": "code",
   "execution_count": 81,
   "id": "0c12d017",
   "metadata": {},
   "outputs": [
    {
     "data": {
      "image/png": "[encoded data removed]",
      "text/plain": [
       "<Figure size 1500x700 with 1 Axes>"
      ]
     },
     "metadata": {},
     "output_type": "display_data"
    }
   ],
   "source": [
    "# Con la información de las iteraciones podemos dibujar la convergencia de nuestro código\n",
    "\n",
    "sim_values = intermediate_info['energy']\n",
    "fontsize = 15\n",
    "\n",
    "plt.rcParams['figure.figsize'] = (15, 7)\n",
    "plt.plot(range(len(sim_values)), sim_values, label=\"Energy value\", color='red')\n",
    "plt.xticks(fontsize = fontsize)\n",
    "plt.yticks(fontsize = fontsize)\n",
    "plt.xlabel('Steps', fontsize = fontsize)\n",
    "plt.ylabel('Energy', fontsize = fontsize)\n",
    "plt.title('Energy convergence for COBYLA optimizer', fontsize = fontsize)\n",
    "plt.legend(loc='upper right', fontsize = fontsize);\n",
    "plt.show()"
   ]
  },
  {
   "cell_type": "code",
   "execution_count": 41,
   "id": "0ee5ca86",
   "metadata": {},
   "outputs": [],
   "source": [
    "# TODAVÍA NO HE CONSEGUIDO IMPLEMENTAR ESTO CON QISKIT, ASÍ QUE DE MOMENTO COMENTO EL CÓDIGO DE QIBO\n",
    "\n",
    "# eigvals, eigvecs = scipy.linalg.eig(mat)\n",
    "\n",
    "# print(\"E_G =\", min(eigvals).real)\n",
    "\n",
    "# print(\"Error relativo =\", abs((best - min(eigvals).real)/min(eigvals).real) * 100, \"%\")"
   ]
  },
  {
   "cell_type": "markdown",
   "id": "df7f3d47",
   "metadata": {},
   "source": [
    "Para este caso concreto es importante destacar que el problema que hemos resuelto es la diagonalización del Hamiltoniano de Hartree-Fock de la molécula.\n",
    "<br>\n",
    "<br>\n",
    "Existen otros modelos de *ansatz* (como los *ansätze* UCC) que, antes que hacer la diagonalización, operan sobre el circuito introduciendo términos y consideraciones nuevas, como correcciones relativistas o correlación electrónica, y después obtienen la energía fundamental, de forma que la resolución del problema tiene en cuenta efectos más difíciles de simular con computadores clásicos."
   ]
  },
  {
   "cell_type": "markdown",
   "id": "5b983e7a",
   "metadata": {},
   "source": [
    "<a id='sec_Conclusiones'></a>\n",
    "## Conclusiones"
   ]
  },
  {
   "cell_type": "markdown",
   "id": "37b36b2f",
   "metadata": {},
   "source": [
    "El punto clave del algoritmo VQE, y de los algoritmos variacionales en general, es que, al ser repeticiones de un proceso parametrizado, los posibles errores inducidos por el circuito cuántico (puertas, cross-talking, recaída al fundamental...) al final son contemplados por las sucesivas elecciones de los parámetros, haciéndolo más robusto. Esto hace que, en esta era de la computación NISQ en la que vivimos, sea un algoritmo aplicable e implementable, al menos para casos lo suficientemente sencillos y que no demanden muchos recursos.\n",
    "<br>\n",
    "<br>\n",
    "Y es una suerte que esto sea así, porque los problemas de diagonalización y obtención del autovalor más bajo son de vital importancia en muchas ramas de la ciencia, como puede ser la química teórica [[1](#bib_peruzzo_variational_2014), [2](#bib_tilly_variational_2022)] o la física nuclear [[12](#bib_cervia_lipkin_2021), [13](#bib_grimsley_adaptive_2019), [14](#bib_romero_solving_2022)], así como en problemas de otras disciplinas, como la economía (*travelling salesman*, *max-cut*) [[3](#bib_zickert_hands-quantum_2022)].\n",
    "<br>\n",
    "<br>\n",
    "Los puntos claves de este algoritmo para aumentar las posibilidades y la velocidad de convergencia son la elección del *ansatz* (que al final determina la cantidad de recursos demandados y varias de las condiciones del problema a resolver) y del algoritmo de optimizador clásico (que debe lidiar con múltiples problemas en el espacio de parámetros, como los mínimos locales o los *barren plateaus*). En los siguientes apartados de esta documentación hablaremos más sobre estos dos temas."
   ]
  },
  {
   "cell_type": "markdown",
   "id": "01ab8651",
   "metadata": {},
   "source": [
    "<a id=\"Bibliografía\"></a>\n",
    "## Bibliografía\n",
    "\n",
    "[1] Peruzzo, A., McClean, J., Shadbolt, P., Yung, M.-H., Zhou, X.-Q., Love, P.J., Aspuru-Guzik, A., O’Brien, J.L., (2014). 'A variational eigenvalue solver on a photonic quantum processor'. *Nat Commun* 5, 4213. https://doi.org/10.1038/ncomms5213 <a id='bib_peruzzo_variational_2014'></a>\n",
    "\n",
    "[2] Tilly, J., Chen, H., Cao, S., Picozzi, D., Setia, K., Li, Y., Grant, E., Wossnig, L., Rungger, I., Booth, G.H., Tennyson, J., (2022). 'The Variational Quantum Eigensolver: A review of methods and best practices'. *Physics Reports*, The Variational Quantum Eigensolver: a review of methods and best practices 986, 1–128. https://doi.org/10.1016/j.physrep.2022.08.003 <a id='bib_tilly_variational_2022'></a>\n",
    "\n",
    "[3] Zickert, F., (2022). *Hands-On Quantum Machine Learning With Python*. PyQML. <a id='bib_zickert_hands-quantum_2022'></a>\n",
    "\n",
    "[4] Bhatnagar, S., Prasad, H.L., Prashanth, L.A., (2013). *Stochastic Recursive Algorithms for Optimization*, Lecture Notes in Control and Information Sciences. Springer London, London. https://doi.org/10.1007/978-1-4471-4285-0 <a id='bib_bhatnagar_stochastic_2013'></a>\n",
    "\n",
    "[5] Plischke, Michael, y Birger Bergersen. Equilibrium statistical physics. 3rd ed. Hackensack, NJ: World Scientific, 2006. <a id='bib_plischke_equilibrium_2006'></a>\n",
    "\n",
    "[6] Cervera-Lierta, A., (2018). 'Exact Ising model simulation on a quantum computer'. *Quantum* 2, 114. https://doi.org/10.22331/q-2018-12-21-114 <a id='bib_cervera-lierta_exact_2018'></a>\n",
    "\n",
    "[7] Sachdev, S., (2011). *Quantum phase transitions*, Second edition. ed. Cambridge University Press, Cambridge ; New York. <a id='bib_sachdev_quantum_2011'></a>\n",
    "\n",
    "[8] Suzuki, S., Inoue, J., Chakrabarti, B.K., (2013). *Quantum Ising Phases and Transitions in Transverse Ising Models*, Lecture Notes in Physics. Springer Berlin Heidelberg, Berlin, Heidelberg. https://doi.org/10.1007/978-3-642-33039-1 <a id='bib_suzuki_quantum_2013'></a>\n",
    "\n",
    "[9] Powell, M. J. D. «An efficient method for finding the minimum of a function of several variables without calculating derivatives». The Computer Journal 7, n.º 2 (1 de enero de 1964): 155-62. https://doi.org/10.1093/comjnl/7.2.155. <a id='bib_powell_efficient_1964'></a>\n",
    "\n",
    "[10] Pang, T., 1994. Hydrogen molecule under confinement: Exact results. Phys. Rev. A 49, 1709–1713. https://doi.org/10.1103/PhysRevA.49.1709 <a id='bib_pang_hydrogen_1994'></a>\n",
    "\n",
    "[11] Yang, Z.-Y., Hou, J.-X., 2019. Calculating the ground state energy of hydrogen molecules and helium hydride ions using Bohr’s quantum theory. Eur. J. Phys. 40, 065405. https://doi.org/10.1088/1361-6404/ab32ce <a id='bib_yang_calculating_2019'></a>\n",
    "\n",
    "[12] Cervia, Michael J., A. B. Balantekin, S. N. Coppersmith, Calvin W. Johnson, Peter J. Love, C. Poole, K. Robbins, y M. Saffman. «Lipkin Model on a Quantum Computer». Physical Review C 104, n.º 2 (3 de agosto de 2021): 024305. https://doi.org/10.1103/PhysRevC.104.024305. <a id='bib_cervia_lipkin_2021'></a>\n",
    "\n",
    "[13] Grimsley, Harper R., Sophia E. Economou, Edwin Barnes, y Nicholas J. Mayhall. «An Adaptive Variational Algorithm for Exact Molecular Simulations on a Quantum Computer». Nature Communications 10, n.º 1 (8 de julio de 2019): 3007. https://doi.org/10.1038/s41467-019-10988-2. <a id='bib_grimsley_adaptive_2019'></a>\n",
    "\n",
    "[14] Romero, A. M., J. Engel, Ho Lun Tang, y Sophia E. Economou. «Solving Nuclear Structure Problems with the Adaptive Variational Quantum Algorithm». Physical Review C 105, n.º 6 (27 de junio de 2022): 064317. https://doi.org/10.1103/PhysRevC.105.064317. <a id='bib_romero_solving_2022'></a>"
   ]
  },
  {
   "cell_type": "markdown",
   "id": "7a3a81d2",
   "metadata": {},
   "source": [
    "This work has been financially supported by the Ministry for Digital Transformation and of Civil Service of the Spanish Government through the QUANTUM ENIA project call - Quantum Spain project, and by the European Union through the Recovery, Transformation and Resilience Plan - NextGenerationEU within the framework of the Digital Spain 2026 Agenda.\n",
    "\n",
    "<center>\n",
    "<img align=\"left\" src=\"https://quantumspain-project.es/wp-content/uploads/2024/02/Banner-QS_GOB_v2.png\" width=\"1000px\" />\n",
    "</center>"
   ]
  }
 ],
 "metadata": {
  "celltoolbar": "Tags",
  "kernelspec": {
   "display_name": "Python 3 (ipykernel)",
   "language": "python",
   "name": "python3"
  },
  "language_info": {
   "codemirror_mode": {
    "name": "ipython",
    "version": 3
   },
   "file_extension": ".py",
   "mimetype": "text/x-python",
   "name": "python",
   "nbconvert_exporter": "python",
   "pygments_lexer": "ipython3",
   "version": "3.11.7"
  },
  "toc": {
   "base_numbering": 1,
   "nav_menu": {},
   "number_sections": false,
   "sideBar": true,
   "skip_h1_title": true,
   "title_cell": "Table of Contents",
   "title_sidebar": "Contents",
   "toc_cell": false,
   "toc_position": {},
   "toc_section_display": true,
   "toc_window_display": false
  },
  "vscode": {
   "interpreter": {
    "hash": "9ceb105841182fb6279c9286d3cac6f256262ba5358230452797534895d46c7b"
   }
  }
 },
 "nbformat": 4,
 "nbformat_minor": 5
}
