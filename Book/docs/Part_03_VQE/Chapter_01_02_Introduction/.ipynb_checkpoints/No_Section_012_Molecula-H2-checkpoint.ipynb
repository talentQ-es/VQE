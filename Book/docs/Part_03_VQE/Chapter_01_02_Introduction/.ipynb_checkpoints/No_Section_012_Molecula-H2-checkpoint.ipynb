{
 "cells": [
  {
   "cell_type": "markdown",
   "id": "0ec3d300",
   "metadata": {
    "slideshow": {
     "slide_type": "-"
    },
    "tags": []
   },
   "source": [
    "<figure><center>\n",
    "<img align=\"left\" src=\"https://quantumspain-project.es/wp-content/uploads/2022/11/Logo_QS_EspanaDigital.png\" width=\"1000px\"/><br><br><br><br>\n",
    "</center></figure>\n",
    "\n",
    "<a id='Notebook_Date'></a> Created: 2022/10/30\n",
    "\n",
    "<center>\n",
    "<a rel=\"license\" href=\"http://creativecommons.org/licenses/by-sa/4.0/\">\n",
    "<img aling=\"left\" alt=\"Licencia Creative Commons\" style=\"border-width:0\" src=\"https://i.creativecommons.org/l/by-sa/4.0/88x31.png\" /></a>\n",
    "</center>\n",
    "\n",
    "License: <a rel=\"license\" href=\"http://creativecommons.org/licenses/by-sa/4.0/\">Licencia Creative Commons Atribución-CompartirIgual 4.0 Internacional</a>.\n",
    "\n",
    "Internal Reviewers:\n",
    "* Alba Cervera ([BSC](https://www.bsc.es/))\n",
    "* Andrés Gómez ([CESGA](http://www.cesga.es))\n",
    "\n",
    "Authors:\n",
    "* Irais Bautista ([CESGA](http://www.cesga.es))\n",
    "<img src=\"https://quantumspain-project.es/wp-content/uploads/2022/11/CESGA.png\" width=\"100px\">\n",
    "\n",
    "* Sergio Martínez ([BIFi-UNIZAR](https://bifi.es/es/))\n",
    "<img src=\"http://bifi.es/wp-content/uploads/2016/11/logo_vectorial-web.png\" width=\"200px\">\n",
    "\n",
    "* Jaime Scharfhausen ([UAM](https://www.uam.es/uam/inicio))\n",
    "<img src=\"https://www.iib.uam.es/iiblf6theme-theme/images/custom/logo-uam.png\" width = \"200px\">\n",
    "\n",
    "* Alejandro Jaramillo ([CSUC](https://www.csuc.cat/es))\n",
    "<img src=\"https://www.csuc.cat/sites/default/files/2021-02/CSUC_logo_corporatiu_0.png\" width = \"200px\">"
   ]
  },
  {
   "cell_type": "markdown",
   "id": "d376d716-30a5-4ddf-a603-1ba11f6b9040",
   "metadata": {},
   "source": [
    "<a id='sec_Introducción_al_Algoritmo_VQE'></a>\n",
    "# Introducción al Algoritmo VQE"
   ]
  },
  {
   "cell_type": "code",
   "execution_count": 1,
   "id": "8dd6c9c3",
   "metadata": {
    "editable": true,
    "scrolled": true,
    "slideshow": {
     "slide_type": ""
    },
    "tags": [
     "hide-input",
     "remove-output"
    ]
   },
   "outputs": [
    {
     "ename": "ModuleNotFoundError",
     "evalue": "No module named 'qibo'",
     "output_type": "error",
     "traceback": [
      "\u001b[0;31m---------------------------------------------------------------------------\u001b[0m",
      "\u001b[0;31mModuleNotFoundError\u001b[0m                       Traceback (most recent call last)",
      "Cell \u001b[0;32mIn[1], line 11\u001b[0m\n\u001b[1;32m      8\u001b[0m \u001b[38;5;28;01mimport\u001b[39;00m \u001b[38;5;21;01mmatplotlib\u001b[39;00m\u001b[38;5;21;01m.\u001b[39;00m\u001b[38;5;21;01mpyplot\u001b[39;00m \u001b[38;5;28;01mas\u001b[39;00m \u001b[38;5;21;01mplt\u001b[39;00m\n\u001b[1;32m     10\u001b[0m \u001b[38;5;66;03m# Librerías Qibo\u001b[39;00m\n\u001b[0;32m---> 11\u001b[0m \u001b[38;5;28;01mimport\u001b[39;00m \u001b[38;5;21;01mqibo\u001b[39;00m\n\u001b[1;32m     12\u001b[0m \u001b[38;5;28;01mfrom\u001b[39;00m \u001b[38;5;21;01mqibo\u001b[39;00m \u001b[38;5;28;01mimport\u001b[39;00m models, gates, hamiltonians\n\u001b[1;32m     13\u001b[0m \u001b[38;5;28;01mfrom\u001b[39;00m \u001b[38;5;21;01mqibo\u001b[39;00m \u001b[38;5;28;01mimport\u001b[39;00m matrices \u001b[38;5;28;01mas\u001b[39;00m m\n",
      "\u001b[0;31mModuleNotFoundError\u001b[0m: No module named 'qibo'"
     ]
    }
   ],
   "source": [
    "# Librerías generales\n",
    "import numpy as np\n",
    "from collections import defaultdict\n",
    "from functools import reduce\n",
    "from itertools import product\n",
    "import random\n",
    "import scipy\n",
    "import matplotlib.pyplot as plt\n",
    "\n",
    "# Librerías Qibo\n",
    "import qibo\n",
    "from qibo import models, gates, hamiltonians\n",
    "from qibo import matrices as m\n",
    "\n",
    "# Librerías Qiskit\n",
    "import qiskit\n",
    "from qiskit import IBMQ, QuantumCircuit, QuantumRegister, ClassicalRegister, Aer, execute, transpile\n",
    "from qiskit.visualization import plot_bloch_multivector\n",
    "from qiskit.algorithms.optimizers import COBYLA, SPSA, POWELL\n",
    "from qiskit.primitives import Estimator\n",
    "from qiskit.algorithms.minimum_eigensolvers import VQE\n",
    "from qiskit.utils import QuantumInstance, algorithm_globals\n",
    "from qiskit.opflow import X, Z, I, Y\n",
    "from qiskit.circuit.library import TwoLocal\n",
    "from qiskit.tools.parallel import parallel_map\n",
    "\n",
    "random.seed()\n",
    "\n",
    "qibo.set_backend(\"numpy\")\n",
    "\n",
    "%matplotlib inline"
   ]
  },
  {
   "cell_type": "markdown",
   "id": "3201b545",
   "metadata": {
    "editable": true,
    "slideshow": {
     "slide_type": ""
    },
    "tags": []
   },
   "source": [
    "<a id='sec_Índice'></a>\n",
    "## Índice\n",
    "\n",
    "- [Primeros pasos](#sec_Primeros_pasos)\n",
    "\n",
    "    - [Programando el Algoritmo VQE](#sec_Programando_el_Algoritmo_VQE)\n",
    "\n",
    "- [El Modelo de Ising con el algoritmo VQE](#sec_El_Modelo_de_Ising_con_el_algoritmo_VQE)\n",
    "\n",
    "    - [El Modelo de Ising 1D](#sec_El_modelo_de_Ising_1D)\n",
    "    \n",
    "- [La Molécula de $\\text{H}_2$](#sec_La_Molécula_de_H2)\n",
    "\n",
    "- [Conclusiones](#sec_Conclusiones)\n",
    "    \n",
    "- [Bibliografía](#sec_Bibliografía)"
   ]
  },
  {
   "cell_type": "markdown",
   "id": "47931194",
   "metadata": {},
   "source": [
    "<a id='sec_La_Molécula_de_H2'> </a> \n",
    "## La molécula de $\\text{H}_2$"
   ]
  },
  {
   "cell_type": "markdown",
   "id": "0c730d4a",
   "metadata": {},
   "source": [
    "El algoritmo VQE se propuso originalmente para obtener el estado de mínima energía de moléculas complicadas a partir de su Hamiltoniano [[1](#bib_peruzzo_variational_2014)]. Por este motivo, gran parte de su historia y sus aplicaciones se han desarrollado y estudiado dentro del ámbito de la química computacional. También por este motivo, muchas librerías y lenguajes de programación orientados a utilizar computadores cuánticos tienen integradas multitud de funciones y características para trabajar con moléculas.\n",
    "<br>\n",
    "<br>\n",
    "Por ejemplo, Google tiene su librería de computación cuántica [```openfermion```](https://quantumai.google/openfermion), mientras que Qiskit tiene, en su módulo ```qiskit_nature```, un método para construir moléculas utilizando PYSCF."
   ]
  },
  {
   "cell_type": "code",
   "execution_count": 69,
   "id": "4827d209",
   "metadata": {},
   "outputs": [],
   "source": [
    "'''Qibo_code_cell'''\n",
    "\n",
    "from openfermion import MolecularData\n",
    "from openfermionpyscf import run_pyscf\n",
    "from openfermion import jordan_wigner, count_qubits\n",
    "\n",
    "# NOTA: Haciendo este código me ha salido un error interno de las librerías de pyscf.\n",
    "# Este error alega que no existe un módulo llamado openfermion.chem\n",
    "# Esto puede deberse a que la versión de openfermion esté en una versión no compatible.\n",
    "# Para solucionarlo, basta con ir al script de la función de pyscf y cambiar el comando\n",
    "# from openfermion.chem import *\n",
    "#   por\n",
    "# from openfermion import *"
   ]
  },
  {
   "cell_type": "code",
   "execution_count": 33,
   "id": "e3e3884a-b94e-4ca2-92cc-80c662f0c460",
   "metadata": {},
   "outputs": [],
   "source": [
    "'''Qiskit_code_cell'''\n",
    "\n",
    "import qiskit_nature\n",
    "from qiskit_nature.units import DistanceUnit\n",
    "from qiskit_nature.second_q.drivers import PySCFDriver\n",
    "from qiskit_nature.second_q.algorithms import VQEUCCFactory, GroundStateEigensolver\n",
    "from qiskit_nature.second_q.circuit.library import UCCSD\n",
    "from qiskit_nature.second_q.mappers import JordanWignerMapper, QubitConverter"
   ]
  },
  {
   "cell_type": "markdown",
   "id": "a4a55688",
   "metadata": {},
   "source": [
    "Este módulo nos permite, entre otras cosas, fabricar diferentes moléculas, especificando los diferentes átomos que la componen, la base de funciones de la función de onda del electrón, la carga y la multiplicidad de la molécula."
   ]
  },
  {
   "cell_type": "markdown",
   "id": "72a85177",
   "metadata": {},
   "source": [
    "De todas las posibles moléculas que podríamos tratar, la más sencilla es la de $\\text{H}_2$: el átomo de Hidrógeno es el más pequeño y simple, presenta un único enlace y solo tiene dos electrones.\n",
    "<br>\n",
    "<br>\n",
    "Aun así, al contrario que el Modelo de Ising, la molécula de Hidrógeno presenta un problema: no es resoluble analíticamente. En su lugar, el \"valor teórico\" de su energía fundamental es realmente el resultado de simulaciones y experimentos, en ocasiones dando resultados en forma de operaciones infinitas que hay que truncar en alguna parte. \n",
    "<br>\n",
    "<br>\n",
    "Así, por ejemplo, en [[10](#bib_pang_hydrogen_1994)] se presenta un resultado de $-1.1746(5) E_h$ a partir de simulaciones de Monte Carlo, mientras que en [[11](#bib_yang_calculating_2019)] obtienen un resultado comprendido entre $-1.2241 E_h$ y $-1.0999 E_h$ empleando el modelo de Bohr."
   ]
  },
  {
   "cell_type": "code",
   "execution_count": 70,
   "id": "cc261428",
   "metadata": {},
   "outputs": [],
   "source": [
    "'''Qibo_code_cell'''\n",
    "\n",
    "# Creamos la molécula con los parámetros requeridos\n",
    "\n",
    "# Parámetros moleculares\n",
    "bond_length = 1.40104295\n",
    "multiplicity = 1    # Dependiendo del tipo de molécula, el spin queda determinado por la multiplicidad. Si lo detecta como incompatible, dará error.\n",
    "basis = 'sto-3g'\n",
    "charge = 0\n",
    "\n",
    "# Especificamos los elementos y su disposición geométrica\n",
    "geometry = [('H', (0., 0., 0.)), ('H', (0., 0., bond_length))]\n",
    "\n",
    "# Parámetros del cálculo. En nuestro caso especificamos solo run_scf porque nos basta con haber hecho solo Hartree-Fock.\n",
    "run_scf = 1\n",
    "run_mp2 = 0\n",
    "run_cisd = 0\n",
    "run_ccsd = 0\n",
    "run_fci = 0\n",
    "delete_input = True\n",
    "delete_output = True\n",
    "\n",
    "# Inicializamos la estructura molecular\n",
    "molecule = MolecularData(geometry, basis, multiplicity,\n",
    "                         charge, description=str(bond_length))\n",
    "\n",
    "# Calculamos sus integrales\n",
    "molecule = run_pyscf(molecule,\n",
    "                        run_scf=run_scf,\n",
    "                        run_mp2=run_mp2,\n",
    "                        run_cisd=run_cisd,\n",
    "                        run_ccsd=run_ccsd,\n",
    "                        run_fci=run_fci)\n",
    "\n"
   ]
  },
  {
   "cell_type": "code",
   "execution_count": 34,
   "id": "0af91144-cd6c-4d26-b109-57bb7f4d938b",
   "metadata": {},
   "outputs": [],
   "source": [
    "'''Qiskit_code_cell'''\n",
    "\n",
    "driver = PySCFDriver(\n",
    "    atom=\"H 0 0 0; H 0 0 0.741\",\n",
    "    basis=\"sto3g\",\n",
    "    charge=0,\n",
    "    spin=0,\n",
    "    unit=DistanceUnit.ANGSTROM,\n",
    "    # El método de aproximación por defecto es Hartree-Fock: method=MethodType.RHF\n",
    ")\n",
    "\n",
    "es_problem = driver.run()"
   ]
  },
  {
   "cell_type": "markdown",
   "id": "eeede440",
   "metadata": {},
   "source": [
    "Mientras que Qiskit puede generar el Hamiltoniano de la molécula con sus propias funciones, con Qibo necesitamos fabricar una función que nos convierta el problema molecular en uno legible por un circuito cuántico."
   ]
  },
  {
   "cell_type": "code",
   "execution_count": 73,
   "id": "b2704f9f",
   "metadata": {},
   "outputs": [],
   "source": [
    "'''Qibo_code_cell'''\n",
    "\n",
    "def qibo_mol_H(molecule):\n",
    "\n",
    "    # molecule es una estructura molecular de OpenFermion\n",
    "    # devuelve un Hamiltoniano en términos de Qibo\n",
    "\n",
    "    # Obtenemos el Hamiltoniano molecular de nuestra molécula fabricada con OpenFermion\n",
    "    H = molecule.get_molecular_hamiltonian()\n",
    "\n",
    "    # Nos aseguramos de que el término constante está bien definido\n",
    "    if H.constant is None: H.constant = 0\n",
    "\n",
    "    # Hacemos la transformación de Jordan Wigner\n",
    "    JW = jordan_wigner(H)\n",
    "    dim = count_qubits(JW)\n",
    "\n",
    "    # Inicializamos el operador con el término constante\n",
    "    operator = JW.constant * reduce(np.kron, [m.I]*dim)  \n",
    "\n",
    "    # Recorremos los términos del operador de Jordan-Wigner\n",
    "    for index in JW.terms.keys():\n",
    "        if index == ():\n",
    "            continue # Omitimos el término constante, ya que hemos inicializado con él\n",
    "\n",
    "        # Definimos una lista auxiliar de operadores identidad del tamaño del sistema\n",
    "        lis = [m.I]*dim\n",
    "\n",
    "        # Reemplazamos en nuestra lista los operadores en la posición en la que indica el término de JW\n",
    "        for tag in index:\n",
    "            if tag[1] == 'X': lis[tag[0]] = m.X\n",
    "            elif tag[1] == 'Y': lis[tag[0]] = m.Y\n",
    "            elif tag[1] == 'Z': lis[tag[0]] = m.Z\n",
    "\n",
    "        # Sumamos el término JW a nuestro operador matricial\n",
    "        operator += JW.terms[index] * reduce(np.kron, lis)\n",
    "\n",
    "    return hamiltonians.Hamiltonian(dim, operator), dim, operator"
   ]
  },
  {
   "cell_type": "code",
   "execution_count": 35,
   "id": "84e9c8a2-5d4c-4def-b5fe-54de948d9965",
   "metadata": {},
   "outputs": [
    {
     "name": "stderr",
     "output_type": "stream",
     "text": [
      "/tmp/ipykernel_33264/947847629.py:3: DeprecationWarning: The QubitConverter class is deprecated as of version 0.6.0 and will be removed no sooner than 3 months after the release . Instead you should directly use the QubitMapper instance which you used to pass into the QubitConverter as the first argument. Refer to the documentation of the qiskit_nature.second_q.mappers module for more information.\n",
      "  converter = QubitConverter(JordanWignerMapper())\n"
     ]
    }
   ],
   "source": [
    "'''Qiskit_code_cell'''\n",
    "\n",
    "converter = QubitConverter(JordanWignerMapper())"
   ]
  },
  {
   "cell_type": "markdown",
   "id": "a44fd645",
   "metadata": {},
   "source": [
    "Y, una vez tenemos el Hamiltoniano, podemos implementar el algoritmo VQE igual que hicimos antes:"
   ]
  },
  {
   "cell_type": "code",
   "execution_count": 74,
   "id": "7d21c007",
   "metadata": {},
   "outputs": [],
   "source": [
    "'''Qibo_code_cell'''\n",
    "\n",
    "# Ahora creamos un circuito variacional de ansatz\n",
    "# En este caso usamos un circuito de puertas RY(theta) y CZ, haciendo los diferentes valores de theta aleatorios\n",
    "\n",
    "op_H, n, mat = qibo_mol_H(molecule)\n",
    "\n",
    "nqubits = n\n",
    "nlayers  = 8\n",
    "\n",
    "circuit = models.Circuit(nqubits)\n",
    "\n",
    "for l in range(nlayers):\n",
    "    circuit.add((gates.RY(q, theta=0) for q in range(nqubits)))\n",
    "    circuit.add((gates.CZ(q, q+1) for q in range(0, nqubits-1, 2)))\n",
    "    circuit.add((gates.RY(q, theta=0) for q in range(nqubits)))\n",
    "    circuit.add((gates.CZ(q, q+1) for q in range(1, nqubits-2, 2)))\n",
    "    circuit.add(gates.CZ(0, nqubits-1))\n",
    "    \n",
    "circuit.add((gates.RY(q, theta=0) for q in range(nqubits)))"
   ]
  },
  {
   "cell_type": "code",
   "execution_count": 36,
   "id": "2870a151-3366-49f1-8634-39d2be042a36",
   "metadata": {},
   "outputs": [],
   "source": [
    "'''Qiskit_code_cell'''\n",
    "\n",
    "tl_circuit = TwoLocal(\n",
    "    rotation_blocks=[\"h\", \"rx\"],\n",
    "    entanglement_blocks=\"cz\",\n",
    "    entanglement=\"full\",\n",
    "    reps=2,\n",
    "    parameter_prefix=\"y\",\n",
    ")"
   ]
  },
  {
   "cell_type": "markdown",
   "id": "d03d3844",
   "metadata": {},
   "source": [
    "Utilizamos, de nuevo, el algoritmo de optimización de COBYLA."
   ]
  },
  {
   "cell_type": "code",
   "execution_count": 78,
   "id": "b77761c1",
   "metadata": {},
   "outputs": [],
   "source": [
    "'''Qibo_code_cell'''\n",
    "\n",
    "# Optimizador\n",
    "opt = 'COBYLA'\n",
    "# opt = 'Powell'"
   ]
  },
  {
   "cell_type": "code",
   "execution_count": 37,
   "id": "6cb19743-e8a4-4129-87a4-44758f71733e",
   "metadata": {},
   "outputs": [],
   "source": [
    "'''Qiskit_code_cell'''\n",
    "\n",
    "# Optimizador\n",
    "opt = COBYLA(maxiter=1000)\n",
    "# opt = POWELL()"
   ]
  },
  {
   "cell_type": "markdown",
   "id": "142e1df3-b962-407e-96c3-7f19d3578672",
   "metadata": {},
   "source": [
    "De nuevo necesitamos funciones de callback"
   ]
  },
  {
   "cell_type": "code",
   "execution_count": 79,
   "id": "f57dff3f",
   "metadata": {},
   "outputs": [],
   "source": [
    "'''Qibo_code_cell'''\n",
    "\n",
    "# Esto son funciones auxiliares para guardar los datos de las iteraciones\n",
    "\n",
    "intermediate_info = {\n",
    "    'parameters': [],\n",
    "    'energy': [],\n",
    "    #'stddev': []\n",
    "}\n",
    "\n",
    "def callback(p):\n",
    "    intermediate_info['parameters'].append(p)\n",
    "    \n",
    "    energy, _, _ = vqe.minimize(p, callback = None, method=opt, options = None, compile=False)\n",
    "    \n",
    "    intermediate_info['energy'].append(energy)\n",
    "    \n",
    "    #intermediate_info['stddev'].append(stddev)"
   ]
  },
  {
   "cell_type": "code",
   "execution_count": 38,
   "id": "6618dd3b-2ca9-4f1e-a0df-489c4b79d60d",
   "metadata": {},
   "outputs": [],
   "source": [
    "'''Qiskit_code_cell'''\n",
    "\n",
    "# Esto son funciones auxiliares para guardar los datos de las iteraciones\n",
    "\n",
    "intermediate_info = {\n",
    "    'parameters': [],\n",
    "    'energy': [],\n",
    "    #'stddev': []\n",
    "}\n",
    "\n",
    "def callback(eval_count, parameters, mean, std):\n",
    "   intermediate_info['parameters'].append(parameters)\n",
    "   intermediate_info['energy'].append(mean)"
   ]
  },
  {
   "cell_type": "code",
   "execution_count": 80,
   "id": "a6ae0337",
   "metadata": {},
   "outputs": [
    {
     "name": "stdout",
     "output_type": "stream",
     "text": [
      "Optimization terminated successfully.\n",
      "         Current function value: -1.015266\n",
      "         Iterations: 5\n",
      "         Function evaluations: 3057\n",
      "E_G =  -1.015265745672648\n"
     ]
    }
   ],
   "source": [
    "'''Qibo_code_cell'''\n",
    "\n",
    "# Parámetros del Ansatz\n",
    "initial_parameters = np.random.uniform(-2*np.pi, 2*np.pi, 2*nqubits*nlayers + nqubits)\n",
    "\n",
    "# Construcción del método VQE\n",
    "vqe = models.VQE(circuit, op_H)\n",
    "options = {'disp': True, 'return_all': True}\n",
    "\n",
    "# Y ejecutamos el algoritmo\n",
    "best, params, extra = vqe.minimize(initial_parameters, callback = callback, method=opt, options = options, compile=False)\n",
    "print(\"E_G = \", best)"
   ]
  },
  {
   "cell_type": "code",
   "execution_count": 39,
   "id": "c35f96af",
   "metadata": {},
   "outputs": [
    {
     "name": "stderr",
     "output_type": "stream",
     "text": [
      "/home/jscqcom/micromamba/envs/Quantum_Disaster/lib/python3.8/site-packages/qiskit_nature/deprecation.py:297: PauliSumOpDeprecationWarning: PauliSumOp is deprecated as of version 0.6.0 and support for them will be removed no sooner than 3 months after the release. Instead, use SparsePauliOp. You can switch to SparsePauliOp immediately, by setting `qiskit_nature.settings.use_pauli_sum_op` to `False`.\n",
      "  return func(*args, **kwargs)\n"
     ]
    },
    {
     "name": "stdout",
     "output_type": "stream",
     "text": [
      "E_G = [-1.11670614]\n"
     ]
    }
   ],
   "source": [
    "'''Qiskit_code_cell'''\n",
    "\n",
    "# Y ejecutamos el algoritmo\n",
    "vqe_solver = VQE(Estimator(), tl_circuit, opt, callback=callback)\n",
    "\n",
    "calc = GroundStateEigensolver(converter, vqe_solver)\n",
    "\n",
    "res = calc.solve(es_problem)\n",
    "best = res.total_energies\n",
    "print('E_G =',best)"
   ]
  },
  {
   "cell_type": "code",
   "execution_count": 81,
   "id": "0c12d017",
   "metadata": {},
   "outputs": [
    {
     "data": {
      "image/png": "[encoded data removed]",
      "text/plain": [
       "<Figure size 1500x700 with 1 Axes>"
      ]
     },
     "metadata": {},
     "output_type": "display_data"
    }
   ],
   "source": [
    "# Con la información de las iteraciones podemos dibujar la convergencia de nuestro código\n",
    "\n",
    "sim_values = intermediate_info['energy']\n",
    "fontsize = 15\n",
    "\n",
    "plt.rcParams['figure.figsize'] = (15, 7)\n",
    "plt.plot(range(len(sim_values)), sim_values, label=\"Energy value\", color='red')\n",
    "plt.xticks(fontsize = fontsize)\n",
    "plt.yticks(fontsize = fontsize)\n",
    "plt.xlabel('Steps', fontsize = fontsize)\n",
    "plt.ylabel('Energy', fontsize = fontsize)\n",
    "plt.title('Energy convergence for COBYLA optimizer', fontsize = fontsize)\n",
    "plt.legend(loc='upper right', fontsize = fontsize);\n",
    "plt.show()"
   ]
  },
  {
   "cell_type": "markdown",
   "id": "df7f3d47",
   "metadata": {
    "editable": true,
    "slideshow": {
     "slide_type": ""
    },
    "tags": []
   },
   "source": [
    "Para este caso concreto es importante destacar que el problema que hemos resuelto es la diagonalización del Hamiltoniano de Hartree-Fock de la molécula.\n",
    "<br>\n",
    "<br>\n",
    "Existen otros modelos de *ansatz* (como los *ansätze* UCC) que, antes que hacer la diagonalización, operan sobre el circuito introduciendo términos y consideraciones nuevas, como correcciones relativistas o correlación electrónica, y después obtienen la energía fundamental, de forma que la resolución del problema tiene en cuenta efectos más difíciles de simular con computadores clásicos."
   ]
  },
  {
   "cell_type": "markdown",
   "id": "01ab8651",
   "metadata": {},
   "source": [
    "<a id=\"Bibliografía\"></a>\n",
    "## Bibliografía\n",
    "\n",
    "[1] Peruzzo, A., McClean, J., Shadbolt, P., Yung, M.-H., Zhou, X.-Q., Love, P.J., Aspuru-Guzik, A., O’Brien, J.L., (2014). 'A variational eigenvalue solver on a photonic quantum processor'. *Nat Commun* 5, 4213. https://doi.org/10.1038/ncomms5213 <a id='bib_peruzzo_variational_2014'></a>\n",
    "\n",
    "[2] Tilly, J., Chen, H., Cao, S., Picozzi, D., Setia, K., Li, Y., Grant, E., Wossnig, L., Rungger, I., Booth, G.H., Tennyson, J., (2022). 'The Variational Quantum Eigensolver: A review of methods and best practices'. *Physics Reports*, The Variational Quantum Eigensolver: a review of methods and best practices 986, 1–128. https://doi.org/10.1016/j.physrep.2022.08.003 <a id='bib_tilly_variational_2022'></a>\n",
    "\n",
    "[3] Zickert, F., (2022). *Hands-On Quantum Machine Learning With Python*. PyQML. <a id='bib_zickert_hands-quantum_2022'></a>\n",
    "\n",
    "[4] Bhatnagar, S., Prasad, H.L., Prashanth, L.A., (2013). *Stochastic Recursive Algorithms for Optimization*, Lecture Notes in Control and Information Sciences. Springer London, London. https://doi.org/10.1007/978-1-4471-4285-0 <a id='bib_bhatnagar_stochastic_2013'></a>\n",
    "\n",
    "[5] Plischke, Michael, y Birger Bergersen. Equilibrium statistical physics. 3rd ed. Hackensack, NJ: World Scientific, 2006. <a id='bib_plischke_equilibrium_2006'></a>\n",
    "\n",
    "[6] Cervera-Lierta, A., (2018). 'Exact Ising model simulation on a quantum computer'. *Quantum* 2, 114. https://doi.org/10.22331/q-2018-12-21-114 <a id='bib_cervera-lierta_exact_2018'></a>\n",
    "\n",
    "[7] Sachdev, S., (2011). *Quantum phase transitions*, Second edition. ed. Cambridge University Press, Cambridge ; New York. <a id='bib_sachdev_quantum_2011'></a>\n",
    "\n",
    "[8] Suzuki, S., Inoue, J., Chakrabarti, B.K., (2013). *Quantum Ising Phases and Transitions in Transverse Ising Models*, Lecture Notes in Physics. Springer Berlin Heidelberg, Berlin, Heidelberg. https://doi.org/10.1007/978-3-642-33039-1 <a id='bib_suzuki_quantum_2013'></a>\n",
    "\n",
    "[9] Powell, M. J. D. «An efficient method for finding the minimum of a function of several variables without calculating derivatives». The Computer Journal 7, n.º 2 (1 de enero de 1964): 155-62. https://doi.org/10.1093/comjnl/7.2.155. <a id='bib_powell_efficient_1964'></a>\n",
    "\n",
    "[10] Pang, T., 1994. Hydrogen molecule under confinement: Exact results. Phys. Rev. A 49, 1709–1713. https://doi.org/10.1103/PhysRevA.49.1709 <a id='bib_pang_hydrogen_1994'></a>\n",
    "\n",
    "[11] Yang, Z.-Y., Hou, J.-X., 2019. Calculating the ground state energy of hydrogen molecules and helium hydride ions using Bohr’s quantum theory. Eur. J. Phys. 40, 065405. https://doi.org/10.1088/1361-6404/ab32ce <a id='bib_yang_calculating_2019'></a>\n",
    "\n",
    "[12] Cervia, Michael J., A. B. Balantekin, S. N. Coppersmith, Calvin W. Johnson, Peter J. Love, C. Poole, K. Robbins, y M. Saffman. «Lipkin Model on a Quantum Computer». Physical Review C 104, n.º 2 (3 de agosto de 2021): 024305. https://doi.org/10.1103/PhysRevC.104.024305. <a id='bib_cervia_lipkin_2021'></a>\n",
    "\n",
    "[13] Grimsley, Harper R., Sophia E. Economou, Edwin Barnes, y Nicholas J. Mayhall. «An Adaptive Variational Algorithm for Exact Molecular Simulations on a Quantum Computer». Nature Communications 10, n.º 1 (8 de julio de 2019): 3007. https://doi.org/10.1038/s41467-019-10988-2. <a id='bib_grimsley_adaptive_2019'></a>\n",
    "\n",
    "[14] Romero, A. M., J. Engel, Ho Lun Tang, y Sophia E. Economou. «Solving Nuclear Structure Problems with the Adaptive Variational Quantum Algorithm». Physical Review C 105, n.º 6 (27 de junio de 2022): 064317. https://doi.org/10.1103/PhysRevC.105.064317. <a id='bib_romero_solving_2022'></a>"
   ]
  },
  {
   "cell_type": "markdown",
   "id": "7a3a81d2",
   "metadata": {},
   "source": [
    "This work has been financially supported by the Ministry for Digital Transformation and of Civil Service of the Spanish Government through the QUANTUM ENIA project call - Quantum Spain project, and by the European Union through the Recovery, Transformation and Resilience Plan - NextGenerationEU within the framework of the Digital Spain 2026 Agenda.\n",
    "\n",
    "<center>\n",
    "<img align=\"left\" src=\"https://quantumspain-project.es/wp-content/uploads/2024/02/Banner-QS_GOB_v2.png\" width=\"1000px\" />\n",
    "</center>"
   ]
  }
 ],
 "metadata": {
  "celltoolbar": "Tags",
  "kernelspec": {
   "display_name": "Python 3 (ipykernel)",
   "language": "python",
   "name": "python3"
  },
  "language_info": {
   "codemirror_mode": {
    "name": "ipython",
    "version": 3
   },
   "file_extension": ".py",
   "mimetype": "text/x-python",
   "name": "python",
   "nbconvert_exporter": "python",
   "pygments_lexer": "ipython3",
   "version": "3.8.18"
  },
  "toc": {
   "base_numbering": 1,
   "nav_menu": {},
   "number_sections": false,
   "sideBar": true,
   "skip_h1_title": true,
   "title_cell": "Table of Contents",
   "title_sidebar": "Contents",
   "toc_cell": false,
   "toc_position": {},
   "toc_section_display": true,
   "toc_window_display": false
  },
  "vscode": {
   "interpreter": {
    "hash": "9ceb105841182fb6279c9286d3cac6f256262ba5358230452797534895d46c7b"
   }
  }
 },
 "nbformat": 4,
 "nbformat_minor": 5
}
