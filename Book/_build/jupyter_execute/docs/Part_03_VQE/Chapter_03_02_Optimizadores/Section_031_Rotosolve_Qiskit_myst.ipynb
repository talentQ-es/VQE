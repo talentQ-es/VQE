{
 "cells": [
  {
   "cell_type": "markdown",
   "id": "0ec3d300",
   "metadata": {},
   "source": [
    "> May 06, 2024 | {sub-ref}`wordcount-minutes` min read\n",
    "\n",
    "\n"
   ]
  },
  {
   "cell_type": "code",
   "execution_count": 1,
   "id": "29d595ad",
   "metadata": {
    "slideshow": {
     "slide_type": ""
    },
    "tags": [
     "hide-input"
    ]
   },
   "outputs": [],
   "source": [
    "# General libraries\n",
    "from utils.hamiltonian_utils import ising_chain_ham\n",
    "from utils.rotosolve_optimizer import Rotosolve\n",
    "from scipy.ndimage import gaussian_filter\n",
    "import json\n",
    "from styles.style import qspain\n",
    "from IPython.display import Latex\n",
    "from IPython import display\n",
    "import matplotlib.pyplot as plt\n",
    "import warnings\n",
    "import numpy as np\n",
    "\n",
    "# Qiskit libraries\n",
    "from qiskit.utils import QuantumInstance, algorithm_globals\n",
    "from qiskit import Aer\n",
    "from qiskit.circuit.library import TwoLocal\n",
    "from qiskit import transpile\n",
    "from qiskit.algorithms.optimizers import SPSA\n",
    "from qiskit_aer.noise import NoiseModel\n",
    "from qiskit_ibm_runtime.fake_provider import FakeLima\n",
    "from qiskit_aer import QasmSimulator\n",
    "from qiskit.primitives import Estimator\n",
    "from qiskit.algorithms.minimum_eigensolvers import VQE\n",
    "from qiskit.utils.mitigation import CompleteMeasFitter\n",
    "from qiskit_ibm_provider import least_busy\n",
    "from qiskit_ibm_provider import IBMProvider as IBMQ\n",
    "import qiskit.tools.jupyter\n",
    "\n",
    "warnings.filterwarnings(\"ignore\")\n",
    "%matplotlib inline"
   ]
  },
  {
   "cell_type": "markdown",
   "id": "213b70c4",
   "metadata": {
    "slideshow": {
     "slide_type": ""
    },
    "tags": []
   },
   "source": [
    "(sec_Algoritmo_de_optimización_Rotosolve)= \n",
    "# Algoritmo de optimización Rotosolve"
   ]
  },
  {
   "cell_type": "markdown",
   "id": "743bb014-a8b7-406d-a813-a6e245641666",
   "metadata": {
    "jp-MarkdownHeadingCollapsed": true,
    "slideshow": {
     "slide_type": ""
    },
    "tags": []
   },
   "source": [
    ":::{contents}\n",
    ":local:\n",
    ":depth: 1\n",
    ":::\n"
   ]
  },
  {
   "cell_type": "markdown",
   "id": "06f9321f-b359-4ae3-9422-a52088b07732",
   "metadata": {},
   "source": [
    "(sec_Fundamento_teórico_del_optimizador_Rotosolve)= \n",
    "## Fundamento teórico del optimizador Rotosolve"
   ]
  },
  {
   "cell_type": "markdown",
   "id": "fae371df",
   "metadata": {},
   "source": [
    "El algoritmo de optimización <b>Rotosolve</b> es un algoritmo <i>quantum-aware</i>, ya que dicho algoritmo esta optimizado para obtener las mejores resultados sobre hardware de ordenadores cuánticos.\n",
    "\n",
    "\n",
    "Este algoritmo de optimización es uno más de los posibles algoritmos que se pueden usar en circuitos variacionales (parametrizados) cuánticos. En esencia, el optimizador Rotosolve minimiza una función objetivo con respecto a los parámetros de un circuito cuántico sin necesidad de calcular el gradiente de la función. El algoritmo realiza iteraciones en los que actualiza los parámetros del circuito $\\theta = \\theta_1, \\dots, \\theta_D$ con la función de coste hasta completar el número máximo de iteraciones.\n",
    "\n",
    "\n",
    "Este algoritmo de optimización hace descender el valor inicial de manera drástica, alcanzando el valor mínimo en pocas iteraciones.\n",
    "\n",
    "\n",
    "El código del algoritmo Rotosolve se encuentra en el archivo <a href=\"./utils/rotosolve_optimizer.py\">rotosolve_optimizer.py</a>."
   ]
  },
  {
   "cell_type": "code",
   "execution_count": 2,
   "id": "75ec9a91",
   "metadata": {
    "slideshow": {
     "slide_type": ""
    },
    "tags": [
     "scroll-ouput"
    ]
   },
   "outputs": [
    {
     "data": {
      "text/html": [
       "<style>pre { line-height: 125%; }\n",
       "td.linenos .normal { color: inherit; background-color: transparent; padding-left: 5px; padding-right: 5px; }\n",
       "span.linenos { color: inherit; background-color: transparent; padding-left: 5px; padding-right: 5px; }\n",
       "td.linenos .special { color: #000000; background-color: #ffffc0; padding-left: 5px; padding-right: 5px; }\n",
       "span.linenos.special { color: #000000; background-color: #ffffc0; padding-left: 5px; padding-right: 5px; }\n",
       ".output_html .hll { background-color: #ffffcc }\n",
       ".output_html { background: #f8f8f8; }\n",
       ".output_html .c { color: #3D7B7B; font-style: italic } /* Comment */\n",
       ".output_html .err { border: 1px solid #FF0000 } /* Error */\n",
       ".output_html .k { color: #008000; font-weight: bold } /* Keyword */\n",
       ".output_html .o { color: #666666 } /* Operator */\n",
       ".output_html .ch { color: #3D7B7B; font-style: italic } /* Comment.Hashbang */\n",
       ".output_html .cm { color: #3D7B7B; font-style: italic } /* Comment.Multiline */\n",
       ".output_html .cp { color: #9C6500 } /* Comment.Preproc */\n",
       ".output_html .cpf { color: #3D7B7B; font-style: italic } /* Comment.PreprocFile */\n",
       ".output_html .c1 { color: #3D7B7B; font-style: italic } /* Comment.Single */\n",
       ".output_html .cs { color: #3D7B7B; font-style: italic } /* Comment.Special */\n",
       ".output_html .gd { color: #A00000 } /* Generic.Deleted */\n",
       ".output_html .ge { font-style: italic } /* Generic.Emph */\n",
       ".output_html .ges { font-weight: bold; font-style: italic } /* Generic.EmphStrong */\n",
       ".output_html .gr { color: #E40000 } /* Generic.Error */\n",
       ".output_html .gh { color: #000080; font-weight: bold } /* Generic.Heading */\n",
       ".output_html .gi { color: #008400 } /* Generic.Inserted */\n",
       ".output_html .go { color: #717171 } /* Generic.Output */\n",
       ".output_html .gp { color: #000080; font-weight: bold } /* Generic.Prompt */\n",
       ".output_html .gs { font-weight: bold } /* Generic.Strong */\n",
       ".output_html .gu { color: #800080; font-weight: bold } /* Generic.Subheading */\n",
       ".output_html .gt { color: #0044DD } /* Generic.Traceback */\n",
       ".output_html .kc { color: #008000; font-weight: bold } /* Keyword.Constant */\n",
       ".output_html .kd { color: #008000; font-weight: bold } /* Keyword.Declaration */\n",
       ".output_html .kn { color: #008000; font-weight: bold } /* Keyword.Namespace */\n",
       ".output_html .kp { color: #008000 } /* Keyword.Pseudo */\n",
       ".output_html .kr { color: #008000; font-weight: bold } /* Keyword.Reserved */\n",
       ".output_html .kt { color: #B00040 } /* Keyword.Type */\n",
       ".output_html .m { color: #666666 } /* Literal.Number */\n",
       ".output_html .s { color: #BA2121 } /* Literal.String */\n",
       ".output_html .na { color: #687822 } /* Name.Attribute */\n",
       ".output_html .nb { color: #008000 } /* Name.Builtin */\n",
       ".output_html .nc { color: #0000FF; font-weight: bold } /* Name.Class */\n",
       ".output_html .no { color: #880000 } /* Name.Constant */\n",
       ".output_html .nd { color: #AA22FF } /* Name.Decorator */\n",
       ".output_html .ni { color: #717171; font-weight: bold } /* Name.Entity */\n",
       ".output_html .ne { color: #CB3F38; font-weight: bold } /* Name.Exception */\n",
       ".output_html .nf { color: #0000FF } /* Name.Function */\n",
       ".output_html .nl { color: #767600 } /* Name.Label */\n",
       ".output_html .nn { color: #0000FF; font-weight: bold } /* Name.Namespace */\n",
       ".output_html .nt { color: #008000; font-weight: bold } /* Name.Tag */\n",
       ".output_html .nv { color: #19177C } /* Name.Variable */\n",
       ".output_html .ow { color: #AA22FF; font-weight: bold } /* Operator.Word */\n",
       ".output_html .w { color: #bbbbbb } /* Text.Whitespace */\n",
       ".output_html .mb { color: #666666 } /* Literal.Number.Bin */\n",
       ".output_html .mf { color: #666666 } /* Literal.Number.Float */\n",
       ".output_html .mh { color: #666666 } /* Literal.Number.Hex */\n",
       ".output_html .mi { color: #666666 } /* Literal.Number.Integer */\n",
       ".output_html .mo { color: #666666 } /* Literal.Number.Oct */\n",
       ".output_html .sa { color: #BA2121 } /* Literal.String.Affix */\n",
       ".output_html .sb { color: #BA2121 } /* Literal.String.Backtick */\n",
       ".output_html .sc { color: #BA2121 } /* Literal.String.Char */\n",
       ".output_html .dl { color: #BA2121 } /* Literal.String.Delimiter */\n",
       ".output_html .sd { color: #BA2121; font-style: italic } /* Literal.String.Doc */\n",
       ".output_html .s2 { color: #BA2121 } /* Literal.String.Double */\n",
       ".output_html .se { color: #AA5D1F; font-weight: bold } /* Literal.String.Escape */\n",
       ".output_html .sh { color: #BA2121 } /* Literal.String.Heredoc */\n",
       ".output_html .si { color: #A45A77; font-weight: bold } /* Literal.String.Interpol */\n",
       ".output_html .sx { color: #008000 } /* Literal.String.Other */\n",
       ".output_html .sr { color: #A45A77 } /* Literal.String.Regex */\n",
       ".output_html .s1 { color: #BA2121 } /* Literal.String.Single */\n",
       ".output_html .ss { color: #19177C } /* Literal.String.Symbol */\n",
       ".output_html .bp { color: #008000 } /* Name.Builtin.Pseudo */\n",
       ".output_html .fm { color: #0000FF } /* Name.Function.Magic */\n",
       ".output_html .vc { color: #19177C } /* Name.Variable.Class */\n",
       ".output_html .vg { color: #19177C } /* Name.Variable.Global */\n",
       ".output_html .vi { color: #19177C } /* Name.Variable.Instance */\n",
       ".output_html .vm { color: #19177C } /* Name.Variable.Magic */\n",
       ".output_html .il { color: #666666 } /* Literal.Number.Integer.Long */</style><div class=\"highlight\"><pre><span></span><span class=\"sd\">&quot;&quot;&quot;</span>\n",
       "<span class=\"sd\">Created by: QuantumSpain (https://quantumspain-project.es/)</span>\n",
       "<span class=\"sd\">&quot;&quot;&quot;</span>\n",
       "<span class=\"kn\">from</span> <span class=\"nn\">qiskit.algorithms.optimizers.optimizer</span> <span class=\"kn\">import</span> <span class=\"n\">Optimizer</span><span class=\"p\">,</span> <span class=\"n\">OptimizerSupportLevel</span><span class=\"p\">,</span> <span class=\"n\">OptimizerResult</span>\n",
       "<span class=\"kn\">import</span> <span class=\"nn\">numpy</span> <span class=\"k\">as</span> <span class=\"nn\">np</span>\n",
       "<span class=\"kn\">from</span> <span class=\"nn\">typing</span> <span class=\"kn\">import</span> <span class=\"n\">Dict</span><span class=\"p\">,</span> <span class=\"n\">Any</span>\n",
       "\n",
       "<span class=\"k\">class</span> <span class=\"nc\">Rotosolve</span><span class=\"p\">(</span><span class=\"n\">Optimizer</span><span class=\"p\">):</span>\n",
       "<span class=\"w\">    </span><span class=\"sd\">&quot;&quot;&quot;Create an instance of the Rotosolve optimizer.</span>\n",
       "<span class=\"sd\">    Parameters</span>\n",
       "<span class=\"sd\">    ----------</span>\n",
       "<span class=\"sd\">    max_steps : int</span>\n",
       "<span class=\"sd\">        Maximum number of steps to take in the optimizer. This is the number</span>\n",
       "<span class=\"sd\">        of times to loop through all the parameters in the objective function.</span>\n",
       "<span class=\"sd\">    alt_convention : bool</span>\n",
       "<span class=\"sd\">        The Rotosolve paper uses the convention that there is a `1/2`</span>\n",
       "<span class=\"sd\">        in the exponent. This convention corresponds to `alt_convention=False`.</span>\n",
       "<span class=\"sd\">        In other algorithms this factor is</span>\n",
       "<span class=\"sd\">        not present, in which case, use `alt_convention=True`.</span>\n",
       "<span class=\"sd\">    step_size : int</span>\n",
       "<span class=\"sd\">        The step count in the value optimization loop.</span>\n",
       "<span class=\"sd\">    See: https://arxiv.org/abs/1905.09692</span>\n",
       "<span class=\"sd\">    &quot;&quot;&quot;</span>\n",
       "\n",
       "    <span class=\"n\">CONFIGURATION</span> <span class=\"o\">=</span> <span class=\"p\">{</span>\n",
       "        <span class=\"s1\">&#39;name&#39;</span><span class=\"p\">:</span> <span class=\"s1\">&#39;RotoSolve&#39;</span><span class=\"p\">,</span>\n",
       "        <span class=\"s1\">&#39;description&#39;</span><span class=\"p\">:</span> <span class=\"s1\">&#39;RotoSolve Optimizer&#39;</span><span class=\"p\">,</span>\n",
       "        <span class=\"s1\">&#39;input_schema&#39;</span><span class=\"p\">:</span> <span class=\"p\">{</span>\n",
       "            <span class=\"s1\">&#39;$schema&#39;</span><span class=\"p\">:</span> <span class=\"s1\">&#39;http://json-schema.org/schema#&#39;</span><span class=\"p\">,</span>\n",
       "            <span class=\"s1\">&#39;id&#39;</span><span class=\"p\">:</span> <span class=\"s1\">&#39;GP_schema&#39;</span><span class=\"p\">,</span>\n",
       "            <span class=\"s1\">&#39;type&#39;</span><span class=\"p\">:</span> <span class=\"s1\">&#39;object&#39;</span><span class=\"p\">,</span>\n",
       "            <span class=\"s1\">&#39;properties&#39;</span><span class=\"p\">:</span> <span class=\"p\">{},</span>\n",
       "            <span class=\"s1\">&#39;additionalProperties&#39;</span><span class=\"p\">:</span> <span class=\"kc\">False</span>\n",
       "        <span class=\"p\">},</span>\n",
       "        <span class=\"s1\">&#39;support_level&#39;</span><span class=\"p\">:</span> <span class=\"p\">{</span>\n",
       "            <span class=\"s1\">&#39;gradient&#39;</span><span class=\"p\">:</span> <span class=\"n\">OptimizerSupportLevel</span><span class=\"o\">.</span><span class=\"n\">ignored</span><span class=\"p\">,</span>\n",
       "            <span class=\"s1\">&#39;bounds&#39;</span><span class=\"p\">:</span> <span class=\"n\">OptimizerSupportLevel</span><span class=\"o\">.</span><span class=\"n\">ignored</span><span class=\"p\">,</span>\n",
       "            <span class=\"s1\">&#39;initial_point&#39;</span><span class=\"p\">:</span> <span class=\"n\">OptimizerSupportLevel</span><span class=\"o\">.</span><span class=\"n\">supported</span>\n",
       "        <span class=\"p\">},</span>\n",
       "        <span class=\"s1\">&#39;options&#39;</span><span class=\"p\">:</span> <span class=\"p\">[],</span>\n",
       "        <span class=\"s1\">&#39;optimizer&#39;</span><span class=\"p\">:</span> <span class=\"p\">[],</span>\n",
       "        <span class=\"s1\">&#39;maxiter&#39;</span><span class=\"p\">:</span> <span class=\"mi\">1024</span>\n",
       "    <span class=\"p\">}</span>\n",
       "\n",
       "    <span class=\"k\">def</span> <span class=\"fm\">__init__</span><span class=\"p\">(</span><span class=\"bp\">self</span><span class=\"p\">,</span> <span class=\"n\">max_steps</span><span class=\"p\">:</span> <span class=\"nb\">int</span> <span class=\"o\">=</span> <span class=\"mi\">10</span><span class=\"p\">,</span> <span class=\"n\">step_size</span><span class=\"p\">:</span> <span class=\"nb\">int</span> <span class=\"o\">=</span> <span class=\"mi\">1</span><span class=\"p\">,</span> <span class=\"n\">alt_convention</span><span class=\"p\">:</span> <span class=\"nb\">bool</span> <span class=\"o\">=</span> <span class=\"kc\">False</span><span class=\"p\">):</span>\n",
       "        \n",
       "        <span class=\"nb\">super</span><span class=\"p\">()</span><span class=\"o\">.</span><span class=\"fm\">__init__</span><span class=\"p\">()</span>\n",
       "        \n",
       "        <span class=\"bp\">self</span><span class=\"o\">.</span><span class=\"n\">_max_steps</span> <span class=\"o\">=</span> <span class=\"n\">max_steps</span>\n",
       "        <span class=\"bp\">self</span><span class=\"o\">.</span><span class=\"n\">_step_size</span> <span class=\"o\">=</span> <span class=\"n\">step_size</span>\n",
       "        \n",
       "        <span class=\"c1\"># alt_convention == False:</span>\n",
       "        <span class=\"c1\"># e^{-i H theta}</span>\n",
       "        <span class=\"c1\"># alt_convention == True</span>\n",
       "        <span class=\"c1\"># e^{-i H theta/2}</span>\n",
       "        <span class=\"bp\">self</span><span class=\"o\">.</span><span class=\"n\">_alt_convention</span> <span class=\"o\">=</span> <span class=\"n\">alt_convention</span>\n",
       "\n",
       "    <span class=\"k\">def</span> <span class=\"nf\">optimize</span><span class=\"p\">(</span><span class=\"bp\">self</span><span class=\"p\">,</span> <span class=\"n\">num_vars</span><span class=\"p\">,</span> <span class=\"n\">obj_function</span><span class=\"p\">,</span> <span class=\"n\">gradient_function</span><span class=\"o\">=</span><span class=\"kc\">None</span><span class=\"p\">,</span> <span class=\"n\">variable_bounds</span><span class=\"o\">=</span><span class=\"kc\">None</span><span class=\"p\">,</span> <span class=\"n\">initial_point</span><span class=\"o\">=</span><span class=\"kc\">None</span><span class=\"p\">):</span>\n",
       "<span class=\"w\">        </span><span class=\"sd\">&quot;&quot;&quot;See `qiskit.algorithms.optimizers.optimizer.Optimizer` documentation.&quot;&quot;&quot;</span>\n",
       "        <span class=\"nb\">super</span><span class=\"p\">()</span><span class=\"o\">.</span><span class=\"n\">optimize</span><span class=\"p\">(</span><span class=\"n\">num_vars</span><span class=\"p\">,</span> <span class=\"n\">obj_function</span><span class=\"p\">,</span> <span class=\"n\">gradient_function</span><span class=\"p\">,</span> <span class=\"n\">variable_bounds</span><span class=\"p\">,</span> <span class=\"n\">initial_point</span><span class=\"p\">)</span>\n",
       "\n",
       "        <span class=\"k\">if</span> <span class=\"n\">initial_point</span> <span class=\"ow\">is</span> <span class=\"kc\">None</span><span class=\"p\">:</span>\n",
       "            <span class=\"n\">initial_point</span> <span class=\"o\">=</span> <span class=\"n\">np</span><span class=\"o\">.</span><span class=\"n\">random</span><span class=\"o\">.</span><span class=\"n\">uniform</span><span class=\"p\">(</span><span class=\"o\">-</span><span class=\"n\">np</span><span class=\"o\">.</span><span class=\"n\">pi</span><span class=\"p\">,</span> <span class=\"o\">+</span><span class=\"n\">np</span><span class=\"o\">.</span><span class=\"n\">pi</span><span class=\"p\">,</span> <span class=\"n\">num_vars</span><span class=\"p\">)</span>\n",
       "            \n",
       "        <span class=\"k\">return</span> <span class=\"bp\">self</span><span class=\"o\">.</span><span class=\"n\">minimize</span><span class=\"p\">(</span><span class=\"n\">fun</span> <span class=\"o\">=</span> <span class=\"n\">obj_function</span><span class=\"p\">,</span> <span class=\"n\">x0</span> <span class=\"o\">=</span> <span class=\"n\">initial_point</span><span class=\"p\">)</span>\n",
       "\n",
       "    <span class=\"k\">def</span> <span class=\"nf\">minimize</span><span class=\"p\">(</span><span class=\"bp\">self</span><span class=\"p\">,</span> <span class=\"n\">fun</span><span class=\"p\">,</span> <span class=\"n\">x0</span><span class=\"p\">,</span> <span class=\"n\">bounds</span> <span class=\"o\">=</span> <span class=\"kc\">None</span><span class=\"p\">,</span> <span class=\"n\">jac</span> <span class=\"o\">=</span> <span class=\"kc\">None</span><span class=\"p\">):</span>\n",
       "    \n",
       "        <span class=\"n\">factor</span> <span class=\"o\">=</span> <span class=\"mi\">2</span> <span class=\"k\">if</span> <span class=\"bp\">self</span><span class=\"o\">.</span><span class=\"n\">_alt_convention</span> <span class=\"k\">else</span> <span class=\"mi\">1</span>\n",
       "\n",
       "        <span class=\"k\">def</span> <span class=\"nf\">f</span><span class=\"p\">(</span><span class=\"n\">x</span><span class=\"p\">):</span>\n",
       "            <span class=\"k\">return</span> <span class=\"n\">fun</span><span class=\"p\">(</span><span class=\"n\">x</span> <span class=\"o\">/</span> <span class=\"n\">factor</span><span class=\"p\">)</span>\n",
       "        \n",
       "        <span class=\"n\">theta_min</span><span class=\"p\">,</span> <span class=\"n\">f_min</span><span class=\"p\">,</span> <span class=\"n\">f_evals</span><span class=\"p\">,</span> <span class=\"n\">f_values</span> <span class=\"o\">=</span>  <span class=\"bp\">self</span><span class=\"o\">.</span><span class=\"n\">_rotosolve</span><span class=\"p\">(</span><span class=\"n\">f</span><span class=\"p\">,</span> <span class=\"n\">x0</span><span class=\"p\">,</span> <span class=\"bp\">self</span><span class=\"o\">.</span><span class=\"n\">_max_steps</span><span class=\"p\">,</span> <span class=\"bp\">self</span><span class=\"o\">.</span><span class=\"n\">_step_size</span><span class=\"p\">)</span>\n",
       "        \n",
       "        <span class=\"bp\">self</span><span class=\"o\">.</span><span class=\"n\">energy_values</span> <span class=\"o\">=</span> <span class=\"n\">f_values</span>\n",
       "        \n",
       "        <span class=\"n\">result</span> <span class=\"o\">=</span> <span class=\"n\">OptimizerResult</span><span class=\"p\">()</span>\n",
       "        <span class=\"n\">result</span><span class=\"o\">.</span><span class=\"n\">x</span> <span class=\"o\">=</span> <span class=\"n\">theta_min</span> <span class=\"c1\"># optimal parameters</span>\n",
       "        <span class=\"n\">result</span><span class=\"o\">.</span><span class=\"n\">fun</span> <span class=\"o\">=</span> <span class=\"n\">f_min</span> <span class=\"c1\"># optimal function value</span>\n",
       "        <span class=\"n\">result</span><span class=\"o\">.</span><span class=\"n\">nfev</span> <span class=\"o\">=</span> <span class=\"n\">f_evals</span>\n",
       "\n",
       "        <span class=\"k\">return</span> <span class=\"n\">result</span>\n",
       "    \n",
       "    <span class=\"nd\">@staticmethod</span>\n",
       "    <span class=\"k\">def</span> <span class=\"nf\">_rotosolve</span><span class=\"p\">(</span><span class=\"n\">f</span><span class=\"p\">,</span> <span class=\"n\">initial_point</span><span class=\"p\">:</span> <span class=\"n\">np</span><span class=\"o\">.</span><span class=\"n\">array</span><span class=\"p\">,</span> <span class=\"n\">max_steps</span><span class=\"p\">:</span> <span class=\"nb\">int</span><span class=\"p\">,</span> <span class=\"n\">step_size</span><span class=\"p\">:</span> <span class=\"nb\">int</span><span class=\"p\">):</span>\n",
       "        \n",
       "        <span class=\"n\">D</span> <span class=\"o\">=</span> <span class=\"nb\">len</span><span class=\"p\">(</span><span class=\"n\">initial_point</span><span class=\"p\">)</span>\n",
       "        <span class=\"n\">theta</span> <span class=\"o\">=</span> <span class=\"n\">initial_point</span>\n",
       "        <span class=\"n\">f_evals</span> <span class=\"o\">=</span> <span class=\"mi\">0</span>\n",
       "        \n",
       "        <span class=\"k\">def</span> <span class=\"nf\">f_counter</span><span class=\"p\">(</span><span class=\"o\">*</span><span class=\"n\">args</span><span class=\"p\">,</span> <span class=\"o\">**</span><span class=\"n\">kwargs</span><span class=\"p\">):</span>\n",
       "            <span class=\"k\">return</span> <span class=\"n\">f</span><span class=\"p\">(</span><span class=\"o\">*</span><span class=\"n\">args</span><span class=\"p\">,</span> <span class=\"o\">**</span><span class=\"n\">kwargs</span><span class=\"p\">)</span>\n",
       "\n",
       "        <span class=\"n\">f_current</span> <span class=\"o\">=</span> <span class=\"n\">f_counter</span><span class=\"p\">(</span><span class=\"n\">initial_point</span><span class=\"p\">)</span>\n",
       "        <span class=\"n\">f_evals</span> <span class=\"o\">+=</span> <span class=\"mi\">1</span>\n",
       "        \n",
       "        <span class=\"n\">converged</span> <span class=\"o\">=</span> <span class=\"kc\">False</span>\n",
       "        <span class=\"n\">steps</span> <span class=\"o\">=</span> <span class=\"mi\">0</span>\n",
       "\n",
       "        <span class=\"n\">theta_values</span> <span class=\"o\">=</span> <span class=\"p\">[]</span>\n",
       "        <span class=\"n\">f_values</span> <span class=\"o\">=</span> <span class=\"p\">[]</span>\n",
       "        \n",
       "        <span class=\"nb\">print</span><span class=\"p\">(</span><span class=\"s2\">&quot;Rotosolve algorithm for optimizing a given value&quot;</span><span class=\"p\">)</span>\n",
       "        <span class=\"nb\">print</span><span class=\"p\">(</span><span class=\"s2\">&quot;================================================&quot;</span><span class=\"p\">)</span>\n",
       "        \n",
       "        <span class=\"k\">while</span> <span class=\"ow\">not</span> <span class=\"n\">converged</span><span class=\"p\">:</span>\n",
       "            \n",
       "            <span class=\"k\">for</span> <span class=\"n\">d</span> <span class=\"ow\">in</span> <span class=\"nb\">range</span><span class=\"p\">(</span><span class=\"n\">D</span><span class=\"p\">):</span>\n",
       "                \n",
       "                <span class=\"n\">phi</span> <span class=\"o\">=</span> <span class=\"n\">np</span><span class=\"o\">.</span><span class=\"n\">random</span><span class=\"o\">.</span><span class=\"n\">uniform</span><span class=\"p\">(</span><span class=\"o\">-</span><span class=\"n\">np</span><span class=\"o\">.</span><span class=\"n\">pi</span><span class=\"p\">,</span> <span class=\"o\">+</span><span class=\"n\">np</span><span class=\"o\">.</span><span class=\"n\">pi</span><span class=\"p\">)</span>\n",
       "                <span class=\"n\">theta_d</span> <span class=\"o\">=</span> <span class=\"n\">phi</span>\n",
       "                <span class=\"n\">theta</span><span class=\"p\">[</span><span class=\"n\">d</span><span class=\"p\">]</span> <span class=\"o\">=</span> <span class=\"n\">theta_d</span>\n",
       "                <span class=\"n\">m_vals</span> <span class=\"o\">=</span> <span class=\"p\">{</span>\n",
       "                    <span class=\"s1\">&#39;phi+0&#39;</span><span class=\"p\">:</span> <span class=\"mi\">0</span><span class=\"p\">,</span>\n",
       "                    <span class=\"s1\">&#39;phi+pi/2&#39;</span><span class=\"p\">:</span> <span class=\"mi\">0</span><span class=\"p\">,</span>\n",
       "                    <span class=\"s1\">&#39;phi-pi/2&#39;</span><span class=\"p\">:</span> <span class=\"mi\">0</span>\n",
       "                <span class=\"p\">}</span>\n",
       "\n",
       "                <span class=\"n\">m_vals</span><span class=\"p\">[</span><span class=\"s1\">&#39;phi+0&#39;</span><span class=\"p\">]</span> <span class=\"o\">=</span> <span class=\"n\">f_counter</span><span class=\"p\">(</span><span class=\"n\">theta</span><span class=\"p\">)</span>\n",
       "                <span class=\"n\">f_evals</span> <span class=\"o\">+=</span> <span class=\"mi\">1</span>\n",
       "                <span class=\"n\">theta</span><span class=\"p\">[</span><span class=\"n\">d</span><span class=\"p\">]</span> <span class=\"o\">=</span> <span class=\"n\">theta</span><span class=\"p\">[</span><span class=\"n\">d</span><span class=\"p\">]</span> <span class=\"o\">+</span> <span class=\"n\">np</span><span class=\"o\">.</span><span class=\"n\">pi</span><span class=\"o\">/</span><span class=\"mi\">2</span>\n",
       "                \n",
       "                <span class=\"n\">m_vals</span><span class=\"p\">[</span><span class=\"s1\">&#39;phi+pi/2&#39;</span><span class=\"p\">]</span> <span class=\"o\">=</span> <span class=\"n\">f_counter</span><span class=\"p\">(</span><span class=\"n\">theta</span><span class=\"p\">)</span>\n",
       "                <span class=\"n\">f_evals</span> <span class=\"o\">+=</span> <span class=\"mi\">1</span>\n",
       "                <span class=\"n\">theta</span><span class=\"p\">[</span><span class=\"n\">d</span><span class=\"p\">]</span> <span class=\"o\">=</span> <span class=\"n\">theta</span><span class=\"p\">[</span><span class=\"n\">d</span><span class=\"p\">]</span> <span class=\"o\">-</span> <span class=\"n\">np</span><span class=\"o\">.</span><span class=\"n\">pi</span>\n",
       "                \n",
       "                <span class=\"n\">m_vals</span><span class=\"p\">[</span><span class=\"s1\">&#39;phi-pi/2&#39;</span><span class=\"p\">]</span> <span class=\"o\">=</span> <span class=\"n\">f_counter</span><span class=\"p\">(</span><span class=\"n\">theta</span><span class=\"p\">)</span>\n",
       "                <span class=\"n\">f_evals</span> <span class=\"o\">+=</span> <span class=\"mi\">1</span>\n",
       "                <span class=\"n\">theta</span><span class=\"p\">[</span><span class=\"n\">d</span><span class=\"p\">]</span> <span class=\"o\">=</span> <span class=\"n\">phi</span> <span class=\"o\">-</span> <span class=\"n\">np</span><span class=\"o\">.</span><span class=\"n\">pi</span><span class=\"o\">/</span><span class=\"mi\">2</span> <span class=\"o\">-</span> <span class=\"n\">np</span><span class=\"o\">.</span><span class=\"n\">arctan2</span><span class=\"p\">(</span>\n",
       "                    <span class=\"mi\">2</span><span class=\"o\">*</span><span class=\"n\">m_vals</span><span class=\"p\">[</span><span class=\"s1\">&#39;phi+0&#39;</span><span class=\"p\">]</span> <span class=\"o\">-</span> <span class=\"n\">m_vals</span><span class=\"p\">[</span><span class=\"s1\">&#39;phi+pi/2&#39;</span><span class=\"p\">]</span> <span class=\"o\">-</span> <span class=\"n\">m_vals</span><span class=\"p\">[</span><span class=\"s1\">&#39;phi-pi/2&#39;</span><span class=\"p\">],</span> \n",
       "                    <span class=\"n\">m_vals</span><span class=\"p\">[</span><span class=\"s1\">&#39;phi+pi/2&#39;</span><span class=\"p\">]</span> <span class=\"o\">-</span> <span class=\"n\">m_vals</span><span class=\"p\">[</span><span class=\"s1\">&#39;phi-pi/2&#39;</span><span class=\"p\">]</span>\n",
       "                <span class=\"p\">)</span>\n",
       "\n",
       "                <span class=\"n\">phi</span> <span class=\"o\">=</span> <span class=\"mi\">0</span>\n",
       "                <span class=\"n\">theta_d</span> <span class=\"o\">=</span> <span class=\"mi\">0</span>\n",
       "\n",
       "            <span class=\"n\">theta_values</span><span class=\"o\">.</span><span class=\"n\">append</span><span class=\"p\">(</span><span class=\"n\">theta</span><span class=\"p\">)</span>\n",
       "\n",
       "            <span class=\"n\">expectation_value</span> <span class=\"o\">=</span> <span class=\"n\">f</span><span class=\"p\">(</span><span class=\"n\">theta</span><span class=\"p\">)</span>\n",
       "            <span class=\"n\">f_values</span><span class=\"o\">.</span><span class=\"n\">append</span><span class=\"p\">(</span><span class=\"n\">expectation_value</span><span class=\"p\">)</span>\n",
       "            \n",
       "            <span class=\"nb\">print</span><span class=\"p\">(</span><span class=\"s1\">&#39;Step </span><span class=\"si\">{step}</span><span class=\"s1\">. Current expectation value: </span><span class=\"si\">{ev: .8f}</span><span class=\"s1\">&#39;</span><span class=\"o\">.</span><span class=\"n\">format</span><span class=\"p\">(</span><span class=\"n\">step</span> <span class=\"o\">=</span> <span class=\"n\">steps</span><span class=\"p\">,</span> <span class=\"n\">ev</span> <span class=\"o\">=</span> <span class=\"n\">expectation_value</span><span class=\"p\">))</span>\n",
       "            \n",
       "            <span class=\"n\">steps</span> <span class=\"o\">+=</span> <span class=\"n\">step_size</span>\n",
       "            \n",
       "            <span class=\"k\">if</span> <span class=\"n\">steps</span> <span class=\"o\">&gt;=</span> <span class=\"n\">max_steps</span><span class=\"p\">:</span>\n",
       "                <span class=\"n\">converged</span> <span class=\"o\">=</span> <span class=\"kc\">True</span>\n",
       "\n",
       "        <span class=\"n\">f_current</span> <span class=\"o\">=</span> <span class=\"n\">f_counter</span><span class=\"p\">(</span><span class=\"n\">theta</span><span class=\"p\">)</span>\n",
       "        <span class=\"n\">f_evals</span> <span class=\"o\">+=</span> <span class=\"mi\">1</span>\n",
       "\n",
       "        <span class=\"n\">min_index</span> <span class=\"o\">=</span> <span class=\"n\">np</span><span class=\"o\">.</span><span class=\"n\">argmin</span><span class=\"p\">(</span><span class=\"n\">f_values</span><span class=\"p\">)</span>\n",
       "        <span class=\"n\">f_min</span> <span class=\"o\">=</span> <span class=\"n\">f_values</span><span class=\"p\">[</span><span class=\"n\">min_index</span><span class=\"p\">]</span>\n",
       "        <span class=\"n\">theta_min</span> <span class=\"o\">=</span> <span class=\"n\">theta_values</span><span class=\"p\">[</span><span class=\"n\">min_index</span><span class=\"p\">]</span>\n",
       "\n",
       "        <span class=\"k\">return</span> <span class=\"n\">theta_min</span><span class=\"p\">,</span> <span class=\"n\">f_min</span><span class=\"p\">,</span> <span class=\"n\">f_evals</span><span class=\"p\">,</span> <span class=\"n\">f_values</span>\n",
       "    \n",
       "    <span class=\"nd\">@property</span>\n",
       "    <span class=\"k\">def</span> <span class=\"nf\">settings</span><span class=\"p\">(</span><span class=\"bp\">self</span><span class=\"p\">)</span> <span class=\"o\">-&gt;</span> <span class=\"n\">Dict</span><span class=\"p\">[</span><span class=\"nb\">str</span><span class=\"p\">,</span> <span class=\"n\">Any</span><span class=\"p\">]:</span>\n",
       "        <span class=\"n\">conf</span> <span class=\"o\">=</span> <span class=\"bp\">self</span><span class=\"o\">.</span><span class=\"n\">CONFIGURATION</span>\n",
       "        <span class=\"k\">return</span> <span class=\"n\">conf</span>\n",
       "\n",
       "    <span class=\"k\">def</span> <span class=\"nf\">estimate_stddev</span><span class=\"p\">(</span><span class=\"bp\">self</span><span class=\"p\">):</span>\n",
       "<span class=\"w\">        </span><span class=\"sd\">&quot;&quot;&quot;Estimate the standard deviation.&quot;&quot;&quot;</span>\n",
       "        <span class=\"n\">ar</span> <span class=\"o\">=</span> <span class=\"n\">np</span><span class=\"o\">.</span><span class=\"n\">array</span><span class=\"p\">(</span><span class=\"bp\">self</span><span class=\"o\">.</span><span class=\"n\">energy_values</span><span class=\"p\">)</span>\n",
       "        <span class=\"n\">x</span> <span class=\"o\">=</span> <span class=\"n\">np</span><span class=\"o\">.</span><span class=\"n\">abs</span><span class=\"p\">(</span><span class=\"n\">ar</span> <span class=\"o\">-</span> <span class=\"n\">ar</span><span class=\"o\">.</span><span class=\"n\">mean</span><span class=\"p\">())</span><span class=\"o\">**</span><span class=\"mi\">2</span>\n",
       "        <span class=\"n\">std</span> <span class=\"o\">=</span> <span class=\"n\">np</span><span class=\"o\">.</span><span class=\"n\">sqrt</span><span class=\"p\">(</span><span class=\"n\">np</span><span class=\"o\">.</span><span class=\"n\">sum</span><span class=\"p\">(</span><span class=\"n\">x</span><span class=\"p\">)</span> <span class=\"o\">/</span> <span class=\"nb\">len</span><span class=\"p\">(</span><span class=\"n\">ar</span><span class=\"p\">))</span>\n",
       "    \n",
       "        <span class=\"k\">return</span> <span class=\"n\">std</span>\n",
       "\n",
       "    <span class=\"k\">def</span> <span class=\"nf\">get_support_level</span><span class=\"p\">(</span><span class=\"bp\">self</span><span class=\"p\">):</span>\n",
       "<span class=\"w\">        </span><span class=\"sd\">&quot;&quot;&quot;Get the support level dictionary.&quot;&quot;&quot;</span>\n",
       "        <span class=\"k\">return</span> <span class=\"bp\">self</span><span class=\"o\">.</span><span class=\"n\">CONFIGURATION</span><span class=\"p\">[</span><span class=\"s1\">&#39;support_level&#39;</span><span class=\"p\">]</span>\n",
       "</pre></div>\n"
      ],
      "text/latex": [
       "\\begin{Verbatim}[commandchars=\\\\\\{\\}]\n",
       "\\PY{l+s+sd}{\\PYZdq{}\\PYZdq{}\\PYZdq{}}\n",
       "\\PY{l+s+sd}{Created by: QuantumSpain (https://quantumspain\\PYZhy{}project.es/)}\n",
       "\\PY{l+s+sd}{\\PYZdq{}\\PYZdq{}\\PYZdq{}}\n",
       "\\PY{k+kn}{from} \\PY{n+nn}{qiskit}\\PY{n+nn}{.}\\PY{n+nn}{algorithms}\\PY{n+nn}{.}\\PY{n+nn}{optimizers}\\PY{n+nn}{.}\\PY{n+nn}{optimizer} \\PY{k+kn}{import} \\PY{n}{Optimizer}\\PY{p}{,} \\PY{n}{OptimizerSupportLevel}\\PY{p}{,} \\PY{n}{OptimizerResult}\n",
       "\\PY{k+kn}{import} \\PY{n+nn}{numpy} \\PY{k}{as} \\PY{n+nn}{np}\n",
       "\\PY{k+kn}{from} \\PY{n+nn}{typing} \\PY{k+kn}{import} \\PY{n}{Dict}\\PY{p}{,} \\PY{n}{Any}\n",
       "\n",
       "\\PY{k}{class} \\PY{n+nc}{Rotosolve}\\PY{p}{(}\\PY{n}{Optimizer}\\PY{p}{)}\\PY{p}{:}\n",
       "\\PY{+w}{    }\\PY{l+s+sd}{\\PYZdq{}\\PYZdq{}\\PYZdq{}Create an instance of the Rotosolve optimizer.}\n",
       "\\PY{l+s+sd}{    Parameters}\n",
       "\\PY{l+s+sd}{    \\PYZhy{}\\PYZhy{}\\PYZhy{}\\PYZhy{}\\PYZhy{}\\PYZhy{}\\PYZhy{}\\PYZhy{}\\PYZhy{}\\PYZhy{}}\n",
       "\\PY{l+s+sd}{    max\\PYZus{}steps : int}\n",
       "\\PY{l+s+sd}{        Maximum number of steps to take in the optimizer. This is the number}\n",
       "\\PY{l+s+sd}{        of times to loop through all the parameters in the objective function.}\n",
       "\\PY{l+s+sd}{    alt\\PYZus{}convention : bool}\n",
       "\\PY{l+s+sd}{        The Rotosolve paper uses the convention that there is a `1/2`}\n",
       "\\PY{l+s+sd}{        in the exponent. This convention corresponds to `alt\\PYZus{}convention=False`.}\n",
       "\\PY{l+s+sd}{        In other algorithms this factor is}\n",
       "\\PY{l+s+sd}{        not present, in which case, use `alt\\PYZus{}convention=True`.}\n",
       "\\PY{l+s+sd}{    step\\PYZus{}size : int}\n",
       "\\PY{l+s+sd}{        The step count in the value optimization loop.}\n",
       "\\PY{l+s+sd}{    See: https://arxiv.org/abs/1905.09692}\n",
       "\\PY{l+s+sd}{    \\PYZdq{}\\PYZdq{}\\PYZdq{}}\n",
       "\n",
       "    \\PY{n}{CONFIGURATION} \\PY{o}{=} \\PY{p}{\\PYZob{}}\n",
       "        \\PY{l+s+s1}{\\PYZsq{}}\\PY{l+s+s1}{name}\\PY{l+s+s1}{\\PYZsq{}}\\PY{p}{:} \\PY{l+s+s1}{\\PYZsq{}}\\PY{l+s+s1}{RotoSolve}\\PY{l+s+s1}{\\PYZsq{}}\\PY{p}{,}\n",
       "        \\PY{l+s+s1}{\\PYZsq{}}\\PY{l+s+s1}{description}\\PY{l+s+s1}{\\PYZsq{}}\\PY{p}{:} \\PY{l+s+s1}{\\PYZsq{}}\\PY{l+s+s1}{RotoSolve Optimizer}\\PY{l+s+s1}{\\PYZsq{}}\\PY{p}{,}\n",
       "        \\PY{l+s+s1}{\\PYZsq{}}\\PY{l+s+s1}{input\\PYZus{}schema}\\PY{l+s+s1}{\\PYZsq{}}\\PY{p}{:} \\PY{p}{\\PYZob{}}\n",
       "            \\PY{l+s+s1}{\\PYZsq{}}\\PY{l+s+s1}{\\PYZdl{}schema}\\PY{l+s+s1}{\\PYZsq{}}\\PY{p}{:} \\PY{l+s+s1}{\\PYZsq{}}\\PY{l+s+s1}{http://json\\PYZhy{}schema.org/schema\\PYZsh{}}\\PY{l+s+s1}{\\PYZsq{}}\\PY{p}{,}\n",
       "            \\PY{l+s+s1}{\\PYZsq{}}\\PY{l+s+s1}{id}\\PY{l+s+s1}{\\PYZsq{}}\\PY{p}{:} \\PY{l+s+s1}{\\PYZsq{}}\\PY{l+s+s1}{GP\\PYZus{}schema}\\PY{l+s+s1}{\\PYZsq{}}\\PY{p}{,}\n",
       "            \\PY{l+s+s1}{\\PYZsq{}}\\PY{l+s+s1}{type}\\PY{l+s+s1}{\\PYZsq{}}\\PY{p}{:} \\PY{l+s+s1}{\\PYZsq{}}\\PY{l+s+s1}{object}\\PY{l+s+s1}{\\PYZsq{}}\\PY{p}{,}\n",
       "            \\PY{l+s+s1}{\\PYZsq{}}\\PY{l+s+s1}{properties}\\PY{l+s+s1}{\\PYZsq{}}\\PY{p}{:} \\PY{p}{\\PYZob{}}\\PY{p}{\\PYZcb{}}\\PY{p}{,}\n",
       "            \\PY{l+s+s1}{\\PYZsq{}}\\PY{l+s+s1}{additionalProperties}\\PY{l+s+s1}{\\PYZsq{}}\\PY{p}{:} \\PY{k+kc}{False}\n",
       "        \\PY{p}{\\PYZcb{}}\\PY{p}{,}\n",
       "        \\PY{l+s+s1}{\\PYZsq{}}\\PY{l+s+s1}{support\\PYZus{}level}\\PY{l+s+s1}{\\PYZsq{}}\\PY{p}{:} \\PY{p}{\\PYZob{}}\n",
       "            \\PY{l+s+s1}{\\PYZsq{}}\\PY{l+s+s1}{gradient}\\PY{l+s+s1}{\\PYZsq{}}\\PY{p}{:} \\PY{n}{OptimizerSupportLevel}\\PY{o}{.}\\PY{n}{ignored}\\PY{p}{,}\n",
       "            \\PY{l+s+s1}{\\PYZsq{}}\\PY{l+s+s1}{bounds}\\PY{l+s+s1}{\\PYZsq{}}\\PY{p}{:} \\PY{n}{OptimizerSupportLevel}\\PY{o}{.}\\PY{n}{ignored}\\PY{p}{,}\n",
       "            \\PY{l+s+s1}{\\PYZsq{}}\\PY{l+s+s1}{initial\\PYZus{}point}\\PY{l+s+s1}{\\PYZsq{}}\\PY{p}{:} \\PY{n}{OptimizerSupportLevel}\\PY{o}{.}\\PY{n}{supported}\n",
       "        \\PY{p}{\\PYZcb{}}\\PY{p}{,}\n",
       "        \\PY{l+s+s1}{\\PYZsq{}}\\PY{l+s+s1}{options}\\PY{l+s+s1}{\\PYZsq{}}\\PY{p}{:} \\PY{p}{[}\\PY{p}{]}\\PY{p}{,}\n",
       "        \\PY{l+s+s1}{\\PYZsq{}}\\PY{l+s+s1}{optimizer}\\PY{l+s+s1}{\\PYZsq{}}\\PY{p}{:} \\PY{p}{[}\\PY{p}{]}\\PY{p}{,}\n",
       "        \\PY{l+s+s1}{\\PYZsq{}}\\PY{l+s+s1}{maxiter}\\PY{l+s+s1}{\\PYZsq{}}\\PY{p}{:} \\PY{l+m+mi}{1024}\n",
       "    \\PY{p}{\\PYZcb{}}\n",
       "\n",
       "    \\PY{k}{def} \\PY{n+nf+fm}{\\PYZus{}\\PYZus{}init\\PYZus{}\\PYZus{}}\\PY{p}{(}\\PY{n+nb+bp}{self}\\PY{p}{,} \\PY{n}{max\\PYZus{}steps}\\PY{p}{:} \\PY{n+nb}{int} \\PY{o}{=} \\PY{l+m+mi}{10}\\PY{p}{,} \\PY{n}{step\\PYZus{}size}\\PY{p}{:} \\PY{n+nb}{int} \\PY{o}{=} \\PY{l+m+mi}{1}\\PY{p}{,} \\PY{n}{alt\\PYZus{}convention}\\PY{p}{:} \\PY{n+nb}{bool} \\PY{o}{=} \\PY{k+kc}{False}\\PY{p}{)}\\PY{p}{:}\n",
       "        \n",
       "        \\PY{n+nb}{super}\\PY{p}{(}\\PY{p}{)}\\PY{o}{.}\\PY{n+nf+fm}{\\PYZus{}\\PYZus{}init\\PYZus{}\\PYZus{}}\\PY{p}{(}\\PY{p}{)}\n",
       "        \n",
       "        \\PY{n+nb+bp}{self}\\PY{o}{.}\\PY{n}{\\PYZus{}max\\PYZus{}steps} \\PY{o}{=} \\PY{n}{max\\PYZus{}steps}\n",
       "        \\PY{n+nb+bp}{self}\\PY{o}{.}\\PY{n}{\\PYZus{}step\\PYZus{}size} \\PY{o}{=} \\PY{n}{step\\PYZus{}size}\n",
       "        \n",
       "        \\PY{c+c1}{\\PYZsh{} alt\\PYZus{}convention == False:}\n",
       "        \\PY{c+c1}{\\PYZsh{} e\\PYZca{}\\PYZob{}\\PYZhy{}i H theta\\PYZcb{}}\n",
       "        \\PY{c+c1}{\\PYZsh{} alt\\PYZus{}convention == True}\n",
       "        \\PY{c+c1}{\\PYZsh{} e\\PYZca{}\\PYZob{}\\PYZhy{}i H theta/2\\PYZcb{}}\n",
       "        \\PY{n+nb+bp}{self}\\PY{o}{.}\\PY{n}{\\PYZus{}alt\\PYZus{}convention} \\PY{o}{=} \\PY{n}{alt\\PYZus{}convention}\n",
       "\n",
       "    \\PY{k}{def} \\PY{n+nf}{optimize}\\PY{p}{(}\\PY{n+nb+bp}{self}\\PY{p}{,} \\PY{n}{num\\PYZus{}vars}\\PY{p}{,} \\PY{n}{obj\\PYZus{}function}\\PY{p}{,} \\PY{n}{gradient\\PYZus{}function}\\PY{o}{=}\\PY{k+kc}{None}\\PY{p}{,} \\PY{n}{variable\\PYZus{}bounds}\\PY{o}{=}\\PY{k+kc}{None}\\PY{p}{,} \\PY{n}{initial\\PYZus{}point}\\PY{o}{=}\\PY{k+kc}{None}\\PY{p}{)}\\PY{p}{:}\n",
       "\\PY{+w}{        }\\PY{l+s+sd}{\\PYZdq{}\\PYZdq{}\\PYZdq{}See `qiskit.algorithms.optimizers.optimizer.Optimizer` documentation.\\PYZdq{}\\PYZdq{}\\PYZdq{}}\n",
       "        \\PY{n+nb}{super}\\PY{p}{(}\\PY{p}{)}\\PY{o}{.}\\PY{n}{optimize}\\PY{p}{(}\\PY{n}{num\\PYZus{}vars}\\PY{p}{,} \\PY{n}{obj\\PYZus{}function}\\PY{p}{,} \\PY{n}{gradient\\PYZus{}function}\\PY{p}{,} \\PY{n}{variable\\PYZus{}bounds}\\PY{p}{,} \\PY{n}{initial\\PYZus{}point}\\PY{p}{)}\n",
       "\n",
       "        \\PY{k}{if} \\PY{n}{initial\\PYZus{}point} \\PY{o+ow}{is} \\PY{k+kc}{None}\\PY{p}{:}\n",
       "            \\PY{n}{initial\\PYZus{}point} \\PY{o}{=} \\PY{n}{np}\\PY{o}{.}\\PY{n}{random}\\PY{o}{.}\\PY{n}{uniform}\\PY{p}{(}\\PY{o}{\\PYZhy{}}\\PY{n}{np}\\PY{o}{.}\\PY{n}{pi}\\PY{p}{,} \\PY{o}{+}\\PY{n}{np}\\PY{o}{.}\\PY{n}{pi}\\PY{p}{,} \\PY{n}{num\\PYZus{}vars}\\PY{p}{)}\n",
       "            \n",
       "        \\PY{k}{return} \\PY{n+nb+bp}{self}\\PY{o}{.}\\PY{n}{minimize}\\PY{p}{(}\\PY{n}{fun} \\PY{o}{=} \\PY{n}{obj\\PYZus{}function}\\PY{p}{,} \\PY{n}{x0} \\PY{o}{=} \\PY{n}{initial\\PYZus{}point}\\PY{p}{)}\n",
       "\n",
       "    \\PY{k}{def} \\PY{n+nf}{minimize}\\PY{p}{(}\\PY{n+nb+bp}{self}\\PY{p}{,} \\PY{n}{fun}\\PY{p}{,} \\PY{n}{x0}\\PY{p}{,} \\PY{n}{bounds} \\PY{o}{=} \\PY{k+kc}{None}\\PY{p}{,} \\PY{n}{jac} \\PY{o}{=} \\PY{k+kc}{None}\\PY{p}{)}\\PY{p}{:}\n",
       "    \n",
       "        \\PY{n}{factor} \\PY{o}{=} \\PY{l+m+mi}{2} \\PY{k}{if} \\PY{n+nb+bp}{self}\\PY{o}{.}\\PY{n}{\\PYZus{}alt\\PYZus{}convention} \\PY{k}{else} \\PY{l+m+mi}{1}\n",
       "\n",
       "        \\PY{k}{def} \\PY{n+nf}{f}\\PY{p}{(}\\PY{n}{x}\\PY{p}{)}\\PY{p}{:}\n",
       "            \\PY{k}{return} \\PY{n}{fun}\\PY{p}{(}\\PY{n}{x} \\PY{o}{/} \\PY{n}{factor}\\PY{p}{)}\n",
       "        \n",
       "        \\PY{n}{theta\\PYZus{}min}\\PY{p}{,} \\PY{n}{f\\PYZus{}min}\\PY{p}{,} \\PY{n}{f\\PYZus{}evals}\\PY{p}{,} \\PY{n}{f\\PYZus{}values} \\PY{o}{=}  \\PY{n+nb+bp}{self}\\PY{o}{.}\\PY{n}{\\PYZus{}rotosolve}\\PY{p}{(}\\PY{n}{f}\\PY{p}{,} \\PY{n}{x0}\\PY{p}{,} \\PY{n+nb+bp}{self}\\PY{o}{.}\\PY{n}{\\PYZus{}max\\PYZus{}steps}\\PY{p}{,} \\PY{n+nb+bp}{self}\\PY{o}{.}\\PY{n}{\\PYZus{}step\\PYZus{}size}\\PY{p}{)}\n",
       "        \n",
       "        \\PY{n+nb+bp}{self}\\PY{o}{.}\\PY{n}{energy\\PYZus{}values} \\PY{o}{=} \\PY{n}{f\\PYZus{}values}\n",
       "        \n",
       "        \\PY{n}{result} \\PY{o}{=} \\PY{n}{OptimizerResult}\\PY{p}{(}\\PY{p}{)}\n",
       "        \\PY{n}{result}\\PY{o}{.}\\PY{n}{x} \\PY{o}{=} \\PY{n}{theta\\PYZus{}min} \\PY{c+c1}{\\PYZsh{} optimal parameters}\n",
       "        \\PY{n}{result}\\PY{o}{.}\\PY{n}{fun} \\PY{o}{=} \\PY{n}{f\\PYZus{}min} \\PY{c+c1}{\\PYZsh{} optimal function value}\n",
       "        \\PY{n}{result}\\PY{o}{.}\\PY{n}{nfev} \\PY{o}{=} \\PY{n}{f\\PYZus{}evals}\n",
       "\n",
       "        \\PY{k}{return} \\PY{n}{result}\n",
       "    \n",
       "    \\PY{n+nd}{@staticmethod}\n",
       "    \\PY{k}{def} \\PY{n+nf}{\\PYZus{}rotosolve}\\PY{p}{(}\\PY{n}{f}\\PY{p}{,} \\PY{n}{initial\\PYZus{}point}\\PY{p}{:} \\PY{n}{np}\\PY{o}{.}\\PY{n}{array}\\PY{p}{,} \\PY{n}{max\\PYZus{}steps}\\PY{p}{:} \\PY{n+nb}{int}\\PY{p}{,} \\PY{n}{step\\PYZus{}size}\\PY{p}{:} \\PY{n+nb}{int}\\PY{p}{)}\\PY{p}{:}\n",
       "        \n",
       "        \\PY{n}{D} \\PY{o}{=} \\PY{n+nb}{len}\\PY{p}{(}\\PY{n}{initial\\PYZus{}point}\\PY{p}{)}\n",
       "        \\PY{n}{theta} \\PY{o}{=} \\PY{n}{initial\\PYZus{}point}\n",
       "        \\PY{n}{f\\PYZus{}evals} \\PY{o}{=} \\PY{l+m+mi}{0}\n",
       "        \n",
       "        \\PY{k}{def} \\PY{n+nf}{f\\PYZus{}counter}\\PY{p}{(}\\PY{o}{*}\\PY{n}{args}\\PY{p}{,} \\PY{o}{*}\\PY{o}{*}\\PY{n}{kwargs}\\PY{p}{)}\\PY{p}{:}\n",
       "            \\PY{k}{return} \\PY{n}{f}\\PY{p}{(}\\PY{o}{*}\\PY{n}{args}\\PY{p}{,} \\PY{o}{*}\\PY{o}{*}\\PY{n}{kwargs}\\PY{p}{)}\n",
       "\n",
       "        \\PY{n}{f\\PYZus{}current} \\PY{o}{=} \\PY{n}{f\\PYZus{}counter}\\PY{p}{(}\\PY{n}{initial\\PYZus{}point}\\PY{p}{)}\n",
       "        \\PY{n}{f\\PYZus{}evals} \\PY{o}{+}\\PY{o}{=} \\PY{l+m+mi}{1}\n",
       "        \n",
       "        \\PY{n}{converged} \\PY{o}{=} \\PY{k+kc}{False}\n",
       "        \\PY{n}{steps} \\PY{o}{=} \\PY{l+m+mi}{0}\n",
       "\n",
       "        \\PY{n}{theta\\PYZus{}values} \\PY{o}{=} \\PY{p}{[}\\PY{p}{]}\n",
       "        \\PY{n}{f\\PYZus{}values} \\PY{o}{=} \\PY{p}{[}\\PY{p}{]}\n",
       "        \n",
       "        \\PY{n+nb}{print}\\PY{p}{(}\\PY{l+s+s2}{\\PYZdq{}}\\PY{l+s+s2}{Rotosolve algorithm for optimizing a given value}\\PY{l+s+s2}{\\PYZdq{}}\\PY{p}{)}\n",
       "        \\PY{n+nb}{print}\\PY{p}{(}\\PY{l+s+s2}{\\PYZdq{}}\\PY{l+s+s2}{================================================}\\PY{l+s+s2}{\\PYZdq{}}\\PY{p}{)}\n",
       "        \n",
       "        \\PY{k}{while} \\PY{o+ow}{not} \\PY{n}{converged}\\PY{p}{:}\n",
       "            \n",
       "            \\PY{k}{for} \\PY{n}{d} \\PY{o+ow}{in} \\PY{n+nb}{range}\\PY{p}{(}\\PY{n}{D}\\PY{p}{)}\\PY{p}{:}\n",
       "                \n",
       "                \\PY{n}{phi} \\PY{o}{=} \\PY{n}{np}\\PY{o}{.}\\PY{n}{random}\\PY{o}{.}\\PY{n}{uniform}\\PY{p}{(}\\PY{o}{\\PYZhy{}}\\PY{n}{np}\\PY{o}{.}\\PY{n}{pi}\\PY{p}{,} \\PY{o}{+}\\PY{n}{np}\\PY{o}{.}\\PY{n}{pi}\\PY{p}{)}\n",
       "                \\PY{n}{theta\\PYZus{}d} \\PY{o}{=} \\PY{n}{phi}\n",
       "                \\PY{n}{theta}\\PY{p}{[}\\PY{n}{d}\\PY{p}{]} \\PY{o}{=} \\PY{n}{theta\\PYZus{}d}\n",
       "                \\PY{n}{m\\PYZus{}vals} \\PY{o}{=} \\PY{p}{\\PYZob{}}\n",
       "                    \\PY{l+s+s1}{\\PYZsq{}}\\PY{l+s+s1}{phi+0}\\PY{l+s+s1}{\\PYZsq{}}\\PY{p}{:} \\PY{l+m+mi}{0}\\PY{p}{,}\n",
       "                    \\PY{l+s+s1}{\\PYZsq{}}\\PY{l+s+s1}{phi+pi/2}\\PY{l+s+s1}{\\PYZsq{}}\\PY{p}{:} \\PY{l+m+mi}{0}\\PY{p}{,}\n",
       "                    \\PY{l+s+s1}{\\PYZsq{}}\\PY{l+s+s1}{phi\\PYZhy{}pi/2}\\PY{l+s+s1}{\\PYZsq{}}\\PY{p}{:} \\PY{l+m+mi}{0}\n",
       "                \\PY{p}{\\PYZcb{}}\n",
       "\n",
       "                \\PY{n}{m\\PYZus{}vals}\\PY{p}{[}\\PY{l+s+s1}{\\PYZsq{}}\\PY{l+s+s1}{phi+0}\\PY{l+s+s1}{\\PYZsq{}}\\PY{p}{]} \\PY{o}{=} \\PY{n}{f\\PYZus{}counter}\\PY{p}{(}\\PY{n}{theta}\\PY{p}{)}\n",
       "                \\PY{n}{f\\PYZus{}evals} \\PY{o}{+}\\PY{o}{=} \\PY{l+m+mi}{1}\n",
       "                \\PY{n}{theta}\\PY{p}{[}\\PY{n}{d}\\PY{p}{]} \\PY{o}{=} \\PY{n}{theta}\\PY{p}{[}\\PY{n}{d}\\PY{p}{]} \\PY{o}{+} \\PY{n}{np}\\PY{o}{.}\\PY{n}{pi}\\PY{o}{/}\\PY{l+m+mi}{2}\n",
       "                \n",
       "                \\PY{n}{m\\PYZus{}vals}\\PY{p}{[}\\PY{l+s+s1}{\\PYZsq{}}\\PY{l+s+s1}{phi+pi/2}\\PY{l+s+s1}{\\PYZsq{}}\\PY{p}{]} \\PY{o}{=} \\PY{n}{f\\PYZus{}counter}\\PY{p}{(}\\PY{n}{theta}\\PY{p}{)}\n",
       "                \\PY{n}{f\\PYZus{}evals} \\PY{o}{+}\\PY{o}{=} \\PY{l+m+mi}{1}\n",
       "                \\PY{n}{theta}\\PY{p}{[}\\PY{n}{d}\\PY{p}{]} \\PY{o}{=} \\PY{n}{theta}\\PY{p}{[}\\PY{n}{d}\\PY{p}{]} \\PY{o}{\\PYZhy{}} \\PY{n}{np}\\PY{o}{.}\\PY{n}{pi}\n",
       "                \n",
       "                \\PY{n}{m\\PYZus{}vals}\\PY{p}{[}\\PY{l+s+s1}{\\PYZsq{}}\\PY{l+s+s1}{phi\\PYZhy{}pi/2}\\PY{l+s+s1}{\\PYZsq{}}\\PY{p}{]} \\PY{o}{=} \\PY{n}{f\\PYZus{}counter}\\PY{p}{(}\\PY{n}{theta}\\PY{p}{)}\n",
       "                \\PY{n}{f\\PYZus{}evals} \\PY{o}{+}\\PY{o}{=} \\PY{l+m+mi}{1}\n",
       "                \\PY{n}{theta}\\PY{p}{[}\\PY{n}{d}\\PY{p}{]} \\PY{o}{=} \\PY{n}{phi} \\PY{o}{\\PYZhy{}} \\PY{n}{np}\\PY{o}{.}\\PY{n}{pi}\\PY{o}{/}\\PY{l+m+mi}{2} \\PY{o}{\\PYZhy{}} \\PY{n}{np}\\PY{o}{.}\\PY{n}{arctan2}\\PY{p}{(}\n",
       "                    \\PY{l+m+mi}{2}\\PY{o}{*}\\PY{n}{m\\PYZus{}vals}\\PY{p}{[}\\PY{l+s+s1}{\\PYZsq{}}\\PY{l+s+s1}{phi+0}\\PY{l+s+s1}{\\PYZsq{}}\\PY{p}{]} \\PY{o}{\\PYZhy{}} \\PY{n}{m\\PYZus{}vals}\\PY{p}{[}\\PY{l+s+s1}{\\PYZsq{}}\\PY{l+s+s1}{phi+pi/2}\\PY{l+s+s1}{\\PYZsq{}}\\PY{p}{]} \\PY{o}{\\PYZhy{}} \\PY{n}{m\\PYZus{}vals}\\PY{p}{[}\\PY{l+s+s1}{\\PYZsq{}}\\PY{l+s+s1}{phi\\PYZhy{}pi/2}\\PY{l+s+s1}{\\PYZsq{}}\\PY{p}{]}\\PY{p}{,} \n",
       "                    \\PY{n}{m\\PYZus{}vals}\\PY{p}{[}\\PY{l+s+s1}{\\PYZsq{}}\\PY{l+s+s1}{phi+pi/2}\\PY{l+s+s1}{\\PYZsq{}}\\PY{p}{]} \\PY{o}{\\PYZhy{}} \\PY{n}{m\\PYZus{}vals}\\PY{p}{[}\\PY{l+s+s1}{\\PYZsq{}}\\PY{l+s+s1}{phi\\PYZhy{}pi/2}\\PY{l+s+s1}{\\PYZsq{}}\\PY{p}{]}\n",
       "                \\PY{p}{)}\n",
       "\n",
       "                \\PY{n}{phi} \\PY{o}{=} \\PY{l+m+mi}{0}\n",
       "                \\PY{n}{theta\\PYZus{}d} \\PY{o}{=} \\PY{l+m+mi}{0}\n",
       "\n",
       "            \\PY{n}{theta\\PYZus{}values}\\PY{o}{.}\\PY{n}{append}\\PY{p}{(}\\PY{n}{theta}\\PY{p}{)}\n",
       "\n",
       "            \\PY{n}{expectation\\PYZus{}value} \\PY{o}{=} \\PY{n}{f}\\PY{p}{(}\\PY{n}{theta}\\PY{p}{)}\n",
       "            \\PY{n}{f\\PYZus{}values}\\PY{o}{.}\\PY{n}{append}\\PY{p}{(}\\PY{n}{expectation\\PYZus{}value}\\PY{p}{)}\n",
       "            \n",
       "            \\PY{n+nb}{print}\\PY{p}{(}\\PY{l+s+s1}{\\PYZsq{}}\\PY{l+s+s1}{Step }\\PY{l+s+si}{\\PYZob{}step\\PYZcb{}}\\PY{l+s+s1}{. Current expectation value: }\\PY{l+s+si}{\\PYZob{}ev: .8f\\PYZcb{}}\\PY{l+s+s1}{\\PYZsq{}}\\PY{o}{.}\\PY{n}{format}\\PY{p}{(}\\PY{n}{step} \\PY{o}{=} \\PY{n}{steps}\\PY{p}{,} \\PY{n}{ev} \\PY{o}{=} \\PY{n}{expectation\\PYZus{}value}\\PY{p}{)}\\PY{p}{)}\n",
       "            \n",
       "            \\PY{n}{steps} \\PY{o}{+}\\PY{o}{=} \\PY{n}{step\\PYZus{}size}\n",
       "            \n",
       "            \\PY{k}{if} \\PY{n}{steps} \\PY{o}{\\PYZgt{}}\\PY{o}{=} \\PY{n}{max\\PYZus{}steps}\\PY{p}{:}\n",
       "                \\PY{n}{converged} \\PY{o}{=} \\PY{k+kc}{True}\n",
       "\n",
       "        \\PY{n}{f\\PYZus{}current} \\PY{o}{=} \\PY{n}{f\\PYZus{}counter}\\PY{p}{(}\\PY{n}{theta}\\PY{p}{)}\n",
       "        \\PY{n}{f\\PYZus{}evals} \\PY{o}{+}\\PY{o}{=} \\PY{l+m+mi}{1}\n",
       "\n",
       "        \\PY{n}{min\\PYZus{}index} \\PY{o}{=} \\PY{n}{np}\\PY{o}{.}\\PY{n}{argmin}\\PY{p}{(}\\PY{n}{f\\PYZus{}values}\\PY{p}{)}\n",
       "        \\PY{n}{f\\PYZus{}min} \\PY{o}{=} \\PY{n}{f\\PYZus{}values}\\PY{p}{[}\\PY{n}{min\\PYZus{}index}\\PY{p}{]}\n",
       "        \\PY{n}{theta\\PYZus{}min} \\PY{o}{=} \\PY{n}{theta\\PYZus{}values}\\PY{p}{[}\\PY{n}{min\\PYZus{}index}\\PY{p}{]}\n",
       "\n",
       "        \\PY{k}{return} \\PY{n}{theta\\PYZus{}min}\\PY{p}{,} \\PY{n}{f\\PYZus{}min}\\PY{p}{,} \\PY{n}{f\\PYZus{}evals}\\PY{p}{,} \\PY{n}{f\\PYZus{}values}\n",
       "    \n",
       "    \\PY{n+nd}{@property}\n",
       "    \\PY{k}{def} \\PY{n+nf}{settings}\\PY{p}{(}\\PY{n+nb+bp}{self}\\PY{p}{)} \\PY{o}{\\PYZhy{}}\\PY{o}{\\PYZgt{}} \\PY{n}{Dict}\\PY{p}{[}\\PY{n+nb}{str}\\PY{p}{,} \\PY{n}{Any}\\PY{p}{]}\\PY{p}{:}\n",
       "        \\PY{n}{conf} \\PY{o}{=} \\PY{n+nb+bp}{self}\\PY{o}{.}\\PY{n}{CONFIGURATION}\n",
       "        \\PY{k}{return} \\PY{n}{conf}\n",
       "\n",
       "    \\PY{k}{def} \\PY{n+nf}{estimate\\PYZus{}stddev}\\PY{p}{(}\\PY{n+nb+bp}{self}\\PY{p}{)}\\PY{p}{:}\n",
       "\\PY{+w}{        }\\PY{l+s+sd}{\\PYZdq{}\\PYZdq{}\\PYZdq{}Estimate the standard deviation.\\PYZdq{}\\PYZdq{}\\PYZdq{}}\n",
       "        \\PY{n}{ar} \\PY{o}{=} \\PY{n}{np}\\PY{o}{.}\\PY{n}{array}\\PY{p}{(}\\PY{n+nb+bp}{self}\\PY{o}{.}\\PY{n}{energy\\PYZus{}values}\\PY{p}{)}\n",
       "        \\PY{n}{x} \\PY{o}{=} \\PY{n}{np}\\PY{o}{.}\\PY{n}{abs}\\PY{p}{(}\\PY{n}{ar} \\PY{o}{\\PYZhy{}} \\PY{n}{ar}\\PY{o}{.}\\PY{n}{mean}\\PY{p}{(}\\PY{p}{)}\\PY{p}{)}\\PY{o}{*}\\PY{o}{*}\\PY{l+m+mi}{2}\n",
       "        \\PY{n}{std} \\PY{o}{=} \\PY{n}{np}\\PY{o}{.}\\PY{n}{sqrt}\\PY{p}{(}\\PY{n}{np}\\PY{o}{.}\\PY{n}{sum}\\PY{p}{(}\\PY{n}{x}\\PY{p}{)} \\PY{o}{/} \\PY{n+nb}{len}\\PY{p}{(}\\PY{n}{ar}\\PY{p}{)}\\PY{p}{)}\n",
       "    \n",
       "        \\PY{k}{return} \\PY{n}{std}\n",
       "\n",
       "    \\PY{k}{def} \\PY{n+nf}{get\\PYZus{}support\\PYZus{}level}\\PY{p}{(}\\PY{n+nb+bp}{self}\\PY{p}{)}\\PY{p}{:}\n",
       "\\PY{+w}{        }\\PY{l+s+sd}{\\PYZdq{}\\PYZdq{}\\PYZdq{}Get the support level dictionary.\\PYZdq{}\\PYZdq{}\\PYZdq{}}\n",
       "        \\PY{k}{return} \\PY{n+nb+bp}{self}\\PY{o}{.}\\PY{n}{CONFIGURATION}\\PY{p}{[}\\PY{l+s+s1}{\\PYZsq{}}\\PY{l+s+s1}{support\\PYZus{}level}\\PY{l+s+s1}{\\PYZsq{}}\\PY{p}{]}\n",
       "\\end{Verbatim}\n"
      ],
      "text/plain": [
       "\"\"\"\n",
       "Created by: QuantumSpain (https://quantumspain-project.es/)\n",
       "\"\"\"\n",
       "from qiskit.algorithms.optimizers.optimizer import Optimizer, OptimizerSupportLevel, OptimizerResult\n",
       "import numpy as np\n",
       "from typing import Dict, Any\n",
       "\n",
       "class Rotosolve(Optimizer):\n",
       "    \"\"\"Create an instance of the Rotosolve optimizer.\n",
       "    Parameters\n",
       "    ----------\n",
       "    max_steps : int\n",
       "        Maximum number of steps to take in the optimizer. This is the number\n",
       "        of times to loop through all the parameters in the objective function.\n",
       "    alt_convention : bool\n",
       "        The Rotosolve paper uses the convention that there is a `1/2`\n",
       "        in the exponent. This convention corresponds to `alt_convention=False`.\n",
       "        In other algorithms this factor is\n",
       "        not present, in which case, use `alt_convention=True`.\n",
       "    step_size : int\n",
       "        The step count in the value optimization loop.\n",
       "    See: https://arxiv.org/abs/1905.09692\n",
       "    \"\"\"\n",
       "\n",
       "    CONFIGURATION = {\n",
       "        'name': 'RotoSolve',\n",
       "        'description': 'RotoSolve Optimizer',\n",
       "        'input_schema': {\n",
       "            '$schema': 'http://json-schema.org/schema#',\n",
       "            'id': 'GP_schema',\n",
       "            'type': 'object',\n",
       "            'properties': {},\n",
       "            'additionalProperties': False\n",
       "        },\n",
       "        'support_level': {\n",
       "            'gradient': OptimizerSupportLevel.ignored,\n",
       "            'bounds': OptimizerSupportLevel.ignored,\n",
       "            'initial_point': OptimizerSupportLevel.supported\n",
       "        },\n",
       "        'options': [],\n",
       "        'optimizer': [],\n",
       "        'maxiter': 1024\n",
       "    }\n",
       "\n",
       "    def __init__(self, max_steps: int = 10, step_size: int = 1, alt_convention: bool = False):\n",
       "        \n",
       "        super().__init__()\n",
       "        \n",
       "        self._max_steps = max_steps\n",
       "        self._step_size = step_size\n",
       "        \n",
       "        # alt_convention == False:\n",
       "        # e^{-i H theta}\n",
       "        # alt_convention == True\n",
       "        # e^{-i H theta/2}\n",
       "        self._alt_convention = alt_convention\n",
       "\n",
       "    def optimize(self, num_vars, obj_function, gradient_function=None, variable_bounds=None, initial_point=None):\n",
       "        \"\"\"See `qiskit.algorithms.optimizers.optimizer.Optimizer` documentation.\"\"\"\n",
       "        super().optimize(num_vars, obj_function, gradient_function, variable_bounds, initial_point)\n",
       "\n",
       "        if initial_point is None:\n",
       "            initial_point = np.random.uniform(-np.pi, +np.pi, num_vars)\n",
       "            \n",
       "        return self.minimize(fun = obj_function, x0 = initial_point)\n",
       "\n",
       "    def minimize(self, fun, x0, bounds = None, jac = None):\n",
       "    \n",
       "        factor = 2 if self._alt_convention else 1\n",
       "\n",
       "        def f(x):\n",
       "            return fun(x / factor)\n",
       "        \n",
       "        theta_min, f_min, f_evals, f_values =  self._rotosolve(f, x0, self._max_steps, self._step_size)\n",
       "        \n",
       "        self.energy_values = f_values\n",
       "        \n",
       "        result = OptimizerResult()\n",
       "        result.x = theta_min # optimal parameters\n",
       "        result.fun = f_min # optimal function value\n",
       "        result.nfev = f_evals\n",
       "\n",
       "        return result\n",
       "    \n",
       "    @staticmethod\n",
       "    def _rotosolve(f, initial_point: np.array, max_steps: int, step_size: int):\n",
       "        \n",
       "        D = len(initial_point)\n",
       "        theta = initial_point\n",
       "        f_evals = 0\n",
       "        \n",
       "        def f_counter(*args, **kwargs):\n",
       "            return f(*args, **kwargs)\n",
       "\n",
       "        f_current = f_counter(initial_point)\n",
       "        f_evals += 1\n",
       "        \n",
       "        converged = False\n",
       "        steps = 0\n",
       "\n",
       "        theta_values = []\n",
       "        f_values = []\n",
       "        \n",
       "        print(\"Rotosolve algorithm for optimizing a given value\")\n",
       "        print(\"================================================\")\n",
       "        \n",
       "        while not converged:\n",
       "            \n",
       "            for d in range(D):\n",
       "                \n",
       "                phi = np.random.uniform(-np.pi, +np.pi)\n",
       "                theta_d = phi\n",
       "                theta[d] = theta_d\n",
       "                m_vals = {\n",
       "                    'phi+0': 0,\n",
       "                    'phi+pi/2': 0,\n",
       "                    'phi-pi/2': 0\n",
       "                }\n",
       "\n",
       "                m_vals['phi+0'] = f_counter(theta)\n",
       "                f_evals += 1\n",
       "                theta[d] = theta[d] + np.pi/2\n",
       "                \n",
       "                m_vals['phi+pi/2'] = f_counter(theta)\n",
       "                f_evals += 1\n",
       "                theta[d] = theta[d] - np.pi\n",
       "                \n",
       "                m_vals['phi-pi/2'] = f_counter(theta)\n",
       "                f_evals += 1\n",
       "                theta[d] = phi - np.pi/2 - np.arctan2(\n",
       "                    2*m_vals['phi+0'] - m_vals['phi+pi/2'] - m_vals['phi-pi/2'], \n",
       "                    m_vals['phi+pi/2'] - m_vals['phi-pi/2']\n",
       "                )\n",
       "\n",
       "                phi = 0\n",
       "                theta_d = 0\n",
       "\n",
       "            theta_values.append(theta)\n",
       "\n",
       "            expectation_value = f(theta)\n",
       "            f_values.append(expectation_value)\n",
       "            \n",
       "            print('Step {step}. Current expectation value: {ev: .8f}'.format(step = steps, ev = expectation_value))\n",
       "            \n",
       "            steps += step_size\n",
       "            \n",
       "            if steps >= max_steps:\n",
       "                converged = True\n",
       "\n",
       "        f_current = f_counter(theta)\n",
       "        f_evals += 1\n",
       "\n",
       "        min_index = np.argmin(f_values)\n",
       "        f_min = f_values[min_index]\n",
       "        theta_min = theta_values[min_index]\n",
       "\n",
       "        return theta_min, f_min, f_evals, f_values\n",
       "    \n",
       "    @property\n",
       "    def settings(self) -> Dict[str, Any]:\n",
       "        conf = self.CONFIGURATION\n",
       "        return conf\n",
       "\n",
       "    def estimate_stddev(self):\n",
       "        \"\"\"Estimate the standard deviation.\"\"\"\n",
       "        ar = np.array(self.energy_values)\n",
       "        x = np.abs(ar - ar.mean())**2\n",
       "        std = np.sqrt(np.sum(x) / len(ar))\n",
       "    \n",
       "        return std\n",
       "\n",
       "    def get_support_level(self):\n",
       "        \"\"\"Get the support level dictionary.\"\"\"\n",
       "        return self.CONFIGURATION['support_level']"
      ]
     },
     "execution_count": 2,
     "metadata": {},
     "output_type": "execute_result"
    }
   ],
   "source": [
    "# Vista del archivo rotosolve_optimizer.py\n",
    "display.Code(\"./utils/rotosolve_optimizer.py\")"
   ]
  },
  {
   "cell_type": "markdown",
   "id": "756f71e3",
   "metadata": {
    "slideshow": {
     "slide_type": ""
    },
    "tags": []
   },
   "source": [
    "El algoritmo <b>Rotosolve</b>{cite}`bib_jtilly_variational_2022`,{cite}`bib_mostaszewski_variational_2021`,{cite}`bib_jvidal_parameterized_2018`,{cite}`bib_dwierichs_parameter_2022` actúa de la siguiente forma, toma una puerta parametrizada de nuestro circuito de función de onda (<i>ansatz</i>) y ajusta su ángulo y dirección de rotación para obtener el valor de mínima energía. Este proceso se realiza iterativamente con cada una de las puertas parametrizadas, una vez el algoritmo de optimización ajusta la última puerta parametrizada repite el proceso hasta converger al valor mínimo. "
   ]
  },
  {
   "cell_type": "markdown",
   "id": "2e534b22",
   "metadata": {
    "slideshow": {
     "slide_type": ""
    },
    "tags": []
   },
   "source": [
    "$\\newcommand{\\argmin}{\\mathrm{arg}\\;\\mathrm{min}}$\n",
    "\n",
    "Consideremos un problema de optimización donde la función objetivo es un operador hermítico $M$ y la solución candidata se codifica en un circuito cuántico parametrizado $U = U_D \\dots U_1$ que actúa sobre un estado inicial $\\rho$ de n-qubits.\n",
    "\n",
    "\n",
    "Cada puerta del circuito esta parametrizada de la forma $\\text{exp}(-i\\frac{\\theta_d}{2}H_d)$, donde el ángulo de rotación $\\theta \\in (-\\pi, \\pi]$ y donde $H_d$ son matrices <b>unitarias</b> y <b>hermíticas</b>. Con todo ello, y sin pérdida de generalidad, minimizaremos la función objetivo a la que simplemente nos referiremos a ella como <i>la energía</i>. Matemáticamente, podemos plantear el problema como: \n",
    "\n",
    "$$\n",
    "(\\theta^{\\ast}, H^{\\ast}) = \\argmin_{\\theta, H}\\ {\\langle{H}\\rangle}_{\\theta, H},\\ \\text{donde}\\ {\\langle{H}\\rangle}_{\\theta, H} = tr(MU\\rho U^\\dagger)\n",
    "$$"
   ]
  },
  {
   "cell_type": "markdown",
   "id": "82df1a56",
   "metadata": {
    "slideshow": {
     "slide_type": ""
    },
    "tags": []
   },
   "source": [
    "Disponemos de dos formas de solucionar el planteamiento matemático, una primera forma en la que optimizamos los ángulos de las puertas parametrizadas dejando invariante al circuito y una segunda forma en la que optimizamos simultaneamente el circuito y los ángulos de las puertas parametrizadas, esta última solución se denomina <b>Rotoselect</b>.\n",
    "\n",
    "\n",
    "Rotoselect hace uso del algoritmo Rotosolve para obtener el valor óptimo del ángulo de cada una de las puertas parametrizadas. \n",
    "\n",
    "\n",
    "Seleccionaremos la primera opción expuesta por ser la solución usada en el algoritmo <b>Rotosolve</b>."
   ]
  },
  {
   "cell_type": "markdown",
   "id": "70233629",
   "metadata": {
    "slideshow": {
     "slide_type": ""
    },
    "tags": []
   },
   "source": [
    "$\\newcommand{\\argmin}{\\mathrm{arg}\\;\\mathrm{min}}$\n",
    "En la primera solución (Rotosolve), tomamos el ángulo de la primera puerta para su optimización dejando las demás puertas fijas, de tal manera que este proceso se repite de forma secuencial pasando por todas las puertas parametrizadas. Esto es bastante simple de realizar ya que en cada paso secuencial la energía tiene una forma sinusoidal con un periodo de $2\\pi$. Por ejemplo, para la puerta $U_d$ el ángulo óptimo se calcula de la siguiente forma: \n",
    "\n",
    "\n",
    "$$\n",
    "\\begin{align*}\n",
    "\\theta_{d}^* &= \\argmin_{\\theta_d} {\\langle{M}\\rangle}_{\\theta_d} = \\phi - \\tfrac{\\pi}{2} - \\text{arctan2}\\big(2{\\langle{M}\\rangle}_{\\phi} - {\\langle{M}\\rangle}_{\\phi+\\frac{\\pi}{2}} - {\\langle{M}\\rangle}_{\\phi-\\frac{\\pi}{2}} , ~ {\\langle{M}\\rangle}_{\\phi+\\frac{\\pi}{2}} - {\\langle{M}\\rangle}_{\\phi-\\frac{\\pi}{2}} \\big) + 2\\pi k\n",
    "\\end{align*}\n",
    "$$\n",
    "\n",
    "\n",
    "Esta expresión se cumple para cualquier número real $\\phi$ y cualquier número entero $k$. En la práctica seleccionamos un valor de $k$ tal que $\\theta_d^* \\in (-\\pi, \\pi]$.\n",
    "\n",
    "\n",
    "El ángulo óptimo se puede encontrar para todo $d = 1, \\dots D$ hasta completar el ciclo de puertas parametrizadas. Una vez todos los ángulos se han actualizado, se inicia un nuevo ciclo de optimización a menos que se cumpla un cierto criterio de parada."
   ]
  },
  {
   "cell_type": "markdown",
   "id": "ab2d2366",
   "metadata": {
    "slideshow": {
     "slide_type": ""
    },
    "tags": []
   },
   "source": [
    "(sec_Modelo_de_Ising_1D_con_optimizador_Rotosolve)= \n",
    "## Modelo de Ising 1D con optimizador Rotosolve"
   ]
  },
  {
   "cell_type": "markdown",
   "id": "de33747a",
   "metadata": {
    "slideshow": {
     "slide_type": ""
    },
    "tags": []
   },
   "source": [
    "Para ejemplificar el algoritmo de optimización Rotosolve, tomaremos el mismo Hamiltoniano del Modelo de Ising 1D descrito en el <i>notebook</i> de <a href=\"../Chapter_01_Introduction.ipynb#sec_El_Modelo_de_Ising_con_el_algoritmo_VQE\">Introducción al algoritmo VQE</a>, usaremos el mismo número de espínes ($n = 4$) y el mismo valor de $\\gamma = 0.3$: \n",
    "\n",
    "$$\n",
    "\\mathcal{H} = X_1X_2I_3I_4 + I_1X_2X_3I_4 + I_1I_2X_3X_4 + X_1I_2I_3X_4 + \\gamma (Z_1I_2I_3I_4 + I_1Z_2I_3I_4 + I_1I_2Z_3I_4 + I_1I_2I_3Z_4)\n",
    "$$\n",
    "\n",
    "\n",
    "En este caso usaremos el algoritmo de optimización <b>Rotosolve</b> y compararemos los resultados con el valor obtenido con anterioridad en el <i>notebook</i> introductorio al algoritmo VQE</a>."
   ]
  },
  {
   "cell_type": "markdown",
   "id": "d2447bb4",
   "metadata": {
    "slideshow": {
     "slide_type": ""
    },
    "tags": []
   },
   "source": [
    "Codificamos el hamiltoniano en Qiskit como un operador y preparamos un ansatz TwoLocal ya implementado en esta librería."
   ]
  },
  {
   "cell_type": "markdown",
   "id": "6d124acf",
   "metadata": {},
   "source": [
    ":::::{tab-set}\n",
    "::::{tab-item} Qiskit\n",
    "```python\n",
    "\n",
    "# Definimos el Hamiltoniano\n",
    "n = 4 \n",
    "gam = 0.3\n",
    "\n",
    "op_H = ising_chain_ham(n, gam) # Creamos el Hamiltoniano descrito\n",
    "\n",
    "ansatz = TwoLocal(num_qubits=n, rotation_blocks='ry', entanglement_blocks='cx')\n",
    "ansatz.draw('mpl', style='iqx')\n",
    "\n",
    "ansatz.decompose().draw('mpl', style='iqx')\n",
    "```\n",
    "::::\n",
    ":::::\n"
   ]
  },
  {
   "cell_type": "code",
   "execution_count": 3,
   "id": "084ab30d",
   "metadata": {
    "tags": [
     "remove_input"
    ]
   },
   "outputs": [
    {
     "data": {
      "image/png": "[encoded data removed]",
      "text/plain": [
       "<Figure size 1792.5x367.889 with 1 Axes>"
      ]
     },
     "execution_count": 3,
     "metadata": {},
     "output_type": "execute_result"
    }
   ],
   "source": [
    "'''Qiskit_code_cell'''\n",
    "\n",
    "# Definimos el Hamiltoniano\n",
    "n = 4 \n",
    "gam = 0.3\n",
    "\n",
    "op_H = ising_chain_ham(n, gam) # Creamos el Hamiltoniano descrito\n",
    "\n",
    "ansatz = TwoLocal(num_qubits=n, rotation_blocks='ry', entanglement_blocks='cx')\n",
    "ansatz.draw('mpl', style='iqx')\n",
    "\n",
    "ansatz.decompose().draw('mpl', style='iqx')"
   ]
  },
  {
   "cell_type": "markdown",
   "id": "bb9dbaef",
   "metadata": {
    "slideshow": {
     "slide_type": ""
    },
    "tags": []
   },
   "source": [
    "El siguiente paso es hacer una llamada al solucionador VQE pasándole el hamiltoniano, el ansatz y un optimizador. En este caso hemos implementado el operador Rotosolve[[2]](bib_mostaszewski_variational_2021) para Qiskit"
   ]
  },
  {
   "cell_type": "markdown",
   "id": "879e1542",
   "metadata": {},
   "source": [
    ":::::{tab-set}\n",
    "::::{tab-item} Qiskit\n",
    "```python\n",
    "\n",
    "seed = 63\n",
    "np.random.seed(seed) # seed for reproducibility\n",
    "algorithm_globals.random_seed = seed\n",
    "\n",
    "# Instanciamos la clase Rotosolve con 200 iteraciones como máximo y un paso de 3\n",
    "# en total serán 200/3 = 66 iteraciones\n",
    "optimizer = Rotosolve(max_steps = 200, step_size = 3)\n",
    "\n",
    "initial_point = np.random.random(ansatz.num_parameters) # valor inicial\n",
    "\n",
    "intermediate_info = {\n",
    "    'nfev': [],\n",
    "    'parameters': [],\n",
    "    'mean': [],\n",
    "    #'stddev': []\n",
    "}\n",
    "\n",
    "def callback(nfev, parameters, mean, stddev):\n",
    "    intermediate_info['nfev'].append(nfev)\n",
    "    intermediate_info['parameters'].append(parameters)\n",
    "    intermediate_info['mean'].append(mean)\n",
    "    #intermediate_info['stddev'].append(stddev)\n",
    "\n",
    "backend = Aer.get_backend('aer_simulator')\n",
    "\n",
    "qi = QuantumInstance(backend, shots=1024, seed_simulator=seed, seed_transpiler=seed)\n",
    "\n",
    "vqe_min = VQE(estimator = Estimator(),\n",
    "           ansatz=ansatz,\n",
    "           optimizer=optimizer,\n",
    "           initial_point=initial_point,\n",
    "           callback=callback)\n",
    "\n",
    "vqe_min.quantum_instance = qi\n",
    "\n",
    "result = vqe_min.compute_minimum_eigenvalue(op_H)\n",
    "\n",
    "print('\\nEigenvalue:', result.eigenvalue)\n",
    "print('Eigenvalue real part:', result.eigenvalue.real)\n",
    "\n",
    "print(result, \"\\n\")\n",
    "print(\"E_G =\", result.optimal_value)\n",
    "```\n",
    "::::\n",
    ":::::\n"
   ]
  },
  {
   "cell_type": "code",
   "execution_count": 4,
   "id": "fd6f162d",
   "metadata": {
    "tags": [
     "remove_input"
    ]
   },
   "outputs": [
    {
     "name": "stdout",
     "output_type": "stream",
     "text": [
      "Rotosolve algorithm for optimizing a given value\n",
      "================================================\n",
      "Step 0. Current expectation value: -3.86172400\n"
     ]
    },
    {
     "name": "stdout",
     "output_type": "stream",
     "text": [
      "Step 3. Current expectation value: -4.06494515\n",
      "Step 6. Current expectation value: -4.08179742\n"
     ]
    },
    {
     "name": "stdout",
     "output_type": "stream",
     "text": [
      "Step 9. Current expectation value: -4.08555553\n",
      "Step 12. Current expectation value: -4.08710498\n"
     ]
    },
    {
     "name": "stdout",
     "output_type": "stream",
     "text": [
      "Step 15. Current expectation value: -4.08812628\n",
      "Step 18. Current expectation value: -4.08886023\n"
     ]
    },
    {
     "name": "stdout",
     "output_type": "stream",
     "text": [
      "Step 21. Current expectation value: -4.08937372\n",
      "Step 24. Current expectation value: -4.08972181\n"
     ]
    },
    {
     "name": "stdout",
     "output_type": "stream",
     "text": [
      "Step 27. Current expectation value: -4.08995283\n",
      "Step 30. Current expectation value: -4.09010424\n"
     ]
    },
    {
     "name": "stdout",
     "output_type": "stream",
     "text": [
      "Step 33. Current expectation value: -4.09020279\n",
      "Step 36. Current expectation value: -4.09026674\n"
     ]
    },
    {
     "name": "stdout",
     "output_type": "stream",
     "text": [
      "Step 39. Current expectation value: -4.09030819\n",
      "Step 42. Current expectation value: -4.09033508\n"
     ]
    },
    {
     "name": "stdout",
     "output_type": "stream",
     "text": [
      "Step 45. Current expectation value: -4.09035256\n",
      "Step 48. Current expectation value: -4.09036394\n"
     ]
    },
    {
     "name": "stdout",
     "output_type": "stream",
     "text": [
      "Step 51. Current expectation value: -4.09037137\n",
      "Step 54. Current expectation value: -4.09037623\n"
     ]
    },
    {
     "name": "stdout",
     "output_type": "stream",
     "text": [
      "Step 57. Current expectation value: -4.09037943\n",
      "Step 60. Current expectation value: -4.09038153\n"
     ]
    },
    {
     "name": "stdout",
     "output_type": "stream",
     "text": [
      "Step 63. Current expectation value: -4.09038292\n",
      "Step 66. Current expectation value: -4.09038385\n"
     ]
    },
    {
     "name": "stdout",
     "output_type": "stream",
     "text": [
      "Step 69. Current expectation value: -4.09038446\n",
      "Step 72. Current expectation value: -4.09038487\n"
     ]
    },
    {
     "name": "stdout",
     "output_type": "stream",
     "text": [
      "Step 75. Current expectation value: -4.09038514\n",
      "Step 78. Current expectation value: -4.09038532\n"
     ]
    },
    {
     "name": "stdout",
     "output_type": "stream",
     "text": [
      "Step 81. Current expectation value: -4.09038544\n",
      "Step 84. Current expectation value: -4.09038552\n"
     ]
    },
    {
     "name": "stdout",
     "output_type": "stream",
     "text": [
      "Step 87. Current expectation value: -4.09038558\n",
      "Step 90. Current expectation value: -4.09038562\n"
     ]
    },
    {
     "name": "stdout",
     "output_type": "stream",
     "text": [
      "Step 93. Current expectation value: -4.09038564\n",
      "Step 96. Current expectation value: -4.09038566\n"
     ]
    },
    {
     "name": "stdout",
     "output_type": "stream",
     "text": [
      "Step 99. Current expectation value: -4.09038567\n",
      "Step 102. Current expectation value: -4.09038568\n"
     ]
    },
    {
     "name": "stdout",
     "output_type": "stream",
     "text": [
      "Step 105. Current expectation value: -4.09038568\n",
      "Step 108. Current expectation value: -4.09038569\n"
     ]
    },
    {
     "name": "stdout",
     "output_type": "stream",
     "text": [
      "Step 111. Current expectation value: -4.09038569\n",
      "Step 114. Current expectation value: -4.09038569\n"
     ]
    },
    {
     "name": "stdout",
     "output_type": "stream",
     "text": [
      "Step 117. Current expectation value: -4.09038569\n",
      "Step 120. Current expectation value: -4.09038569\n"
     ]
    },
    {
     "name": "stdout",
     "output_type": "stream",
     "text": [
      "Step 123. Current expectation value: -4.09038569\n",
      "Step 126. Current expectation value: -4.09038569\n"
     ]
    },
    {
     "name": "stdout",
     "output_type": "stream",
     "text": [
      "Step 129. Current expectation value: -4.09038569\n",
      "Step 132. Current expectation value: -4.09038569\n"
     ]
    },
    {
     "name": "stdout",
     "output_type": "stream",
     "text": [
      "Step 135. Current expectation value: -4.09038569\n",
      "Step 138. Current expectation value: -4.09038569\n"
     ]
    },
    {
     "name": "stdout",
     "output_type": "stream",
     "text": [
      "Step 141. Current expectation value: -4.09038569\n",
      "Step 144. Current expectation value: -4.09038569\n"
     ]
    },
    {
     "name": "stdout",
     "output_type": "stream",
     "text": [
      "Step 147. Current expectation value: -4.09038569\n",
      "Step 150. Current expectation value: -4.09038569\n"
     ]
    },
    {
     "name": "stdout",
     "output_type": "stream",
     "text": [
      "Step 153. Current expectation value: -4.09038569\n",
      "Step 156. Current expectation value: -4.09038569\n"
     ]
    },
    {
     "name": "stdout",
     "output_type": "stream",
     "text": [
      "Step 159. Current expectation value: -4.09038569\n",
      "Step 162. Current expectation value: -4.09038569\n"
     ]
    },
    {
     "name": "stdout",
     "output_type": "stream",
     "text": [
      "Step 165. Current expectation value: -4.09038569\n",
      "Step 168. Current expectation value: -4.09038569\n"
     ]
    },
    {
     "name": "stdout",
     "output_type": "stream",
     "text": [
      "Step 171. Current expectation value: -4.09038569\n",
      "Step 174. Current expectation value: -4.09038569\n"
     ]
    },
    {
     "name": "stdout",
     "output_type": "stream",
     "text": [
      "Step 177. Current expectation value: -4.09038569\n",
      "Step 180. Current expectation value: -4.09038569\n"
     ]
    },
    {
     "name": "stdout",
     "output_type": "stream",
     "text": [
      "Step 183. Current expectation value: -4.09038569\n",
      "Step 186. Current expectation value: -4.09038569\n"
     ]
    },
    {
     "name": "stdout",
     "output_type": "stream",
     "text": [
      "Step 189. Current expectation value: -4.09038569\n",
      "Step 192. Current expectation value: -4.09038569\n"
     ]
    },
    {
     "name": "stdout",
     "output_type": "stream",
     "text": [
      "Step 195. Current expectation value: -4.09038569\n",
      "Step 198. Current expectation value: -4.09038569\n",
      "\n",
      "Eigenvalue: -4.090385692923965\n",
      "Eigenvalue real part: -4.090385692923965\n",
      "{   'aux_operators_evaluated': None,\n",
      "    'cost_function_evals': 3218,\n",
      "    'eigenvalue': -4.090385692923965,\n",
      "    'optimal_circuit': <qiskit.circuit.library.n_local.two_local.TwoLocal object at 0x7f628255cfd0>,\n",
      "    'optimal_parameters': {   ParameterVectorElement(θ[0]): 3.1363336731589193,\n",
      "                              ParameterVectorElement(θ[4]): 0.0012340330691393842,\n",
      "                              ParameterVectorElement(θ[14]): 0.8071925311464565,\n",
      "                              ParameterVectorElement(θ[13]): 0.13749721982322427,\n",
      "                              ParameterVectorElement(θ[12]): 0.8729448109274336,\n",
      "                              ParameterVectorElement(θ[11]): 0.007423521393656471,\n",
      "                              ParameterVectorElement(θ[10]): -6.064214646764594,\n",
      "                              ParameterVectorElement(θ[3]): -4.728833029066754,\n",
      "                              ParameterVectorElement(θ[2]): -0.6732870965495588,\n",
      "                              ParameterVectorElement(θ[1]): -0.8550947114884395,\n",
      "                              ParameterVectorElement(θ[5]): -1.282626084904102,\n",
      "                              ParameterVectorElement(θ[9]): 0.5112702796620026,\n",
      "                              ParameterVectorElement(θ[8]): 0.5462705000806938,\n",
      "                              ParameterVectorElement(θ[7]): 0.0018442098574964483,\n",
      "                              ParameterVectorElement(θ[6]): 0.12365576784278365,\n",
      "                              ParameterVectorElement(θ[15]): 0.15027838129524168},\n",
      "    'optimal_point': array([ 3.13633367e+00, -8.55094711e-01, -6.73287097e-01, -4.72883303e+00,\n",
      "        1.23403307e-03, -1.28262608e+00,  1.23655768e-01,  1.84420986e-03,\n",
      "        5.46270500e-01,  5.11270280e-01, -6.06421465e+00,  7.42352139e-03,\n",
      "        8.72944811e-01,  1.37497220e-01,  8.07192531e-01,  1.50278381e-01]),\n",
      "    'optimal_value': -4.090385692923965,\n",
      "    'optimizer_evals': None,\n",
      "    'optimizer_result': <qiskit.algorithms.optimizers.optimizer.OptimizerResult object at 0x7f62821f27d0>,\n",
      "    'optimizer_time': 10.333253383636475} \n",
      "\n",
      "E_G = -4.090385692923965\n"
     ]
    }
   ],
   "source": [
    "'''Qiskit_code_cell'''\n",
    "\n",
    "seed = 63\n",
    "np.random.seed(seed) # seed for reproducibility\n",
    "algorithm_globals.random_seed = seed\n",
    "\n",
    "# Instanciamos la clase Rotosolve con 200 iteraciones como máximo y un paso de 3\n",
    "# en total serán 200/3 = 66 iteraciones\n",
    "optimizer = Rotosolve(max_steps = 200, step_size = 3)\n",
    "\n",
    "initial_point = np.random.random(ansatz.num_parameters) # valor inicial\n",
    "\n",
    "intermediate_info = {\n",
    "    'nfev': [],\n",
    "    'parameters': [],\n",
    "    'mean': [],\n",
    "    #'stddev': []\n",
    "}\n",
    "\n",
    "def callback(nfev, parameters, mean, stddev):\n",
    "    intermediate_info['nfev'].append(nfev)\n",
    "    intermediate_info['parameters'].append(parameters)\n",
    "    intermediate_info['mean'].append(mean)\n",
    "    #intermediate_info['stddev'].append(stddev)\n",
    "\n",
    "backend = Aer.get_backend('aer_simulator')\n",
    "\n",
    "qi = QuantumInstance(backend, shots=1024, seed_simulator=seed, seed_transpiler=seed)\n",
    "\n",
    "vqe_min = VQE(estimator = Estimator(),\n",
    "           ansatz=ansatz,\n",
    "           optimizer=optimizer,\n",
    "           initial_point=initial_point,\n",
    "           callback=callback)\n",
    "\n",
    "vqe_min.quantum_instance = qi\n",
    "\n",
    "result = vqe_min.compute_minimum_eigenvalue(op_H)\n",
    "\n",
    "print('\\nEigenvalue:', result.eigenvalue)\n",
    "print('Eigenvalue real part:', result.eigenvalue.real)\n",
    "\n",
    "print(result, \"\\n\")\n",
    "print(\"E_G =\", result.optimal_value)"
   ]
  },
  {
   "cell_type": "markdown",
   "id": "a0f9ac1c",
   "metadata": {
    "slideshow": {
     "slide_type": ""
    },
    "tags": []
   },
   "source": [
    "Podemos mostrar la evolución de la convergencia del operador en una gráfica:"
   ]
  },
  {
   "cell_type": "markdown",
   "id": "66395598",
   "metadata": {},
   "source": [
    ":::::{tab-set}\n",
    "::::{tab-item} Qiskit\n",
    "```python\n",
    "\n",
    "sim_values = optimizer.energy_values\n",
    "fontsize = 15\n",
    "\n",
    "plt.rcParams['figure.figsize'] = (15, 7)\n",
    "plt.plot(range(len(sim_values)), sim_values, label=\"Energy value\", color='red')\n",
    "plt.xticks(fontsize = fontsize)\n",
    "plt.yticks(fontsize = fontsize)\n",
    "plt.xlabel('Steps', fontsize = fontsize)\n",
    "plt.ylabel('Energy', fontsize = fontsize)\n",
    "plt.title('Energy convergence for Rotosolve optimizer', fontsize = fontsize)\n",
    "plt.legend(loc='upper right', fontsize = fontsize);\n",
    "plt.show()\n",
    "```\n",
    "::::\n",
    ":::::\n"
   ]
  },
  {
   "cell_type": "code",
   "execution_count": 5,
   "id": "9e26c8eb",
   "metadata": {
    "tags": [
     "remove_input"
    ]
   },
   "outputs": [
    {
     "data": {
      "image/png": "[encoded data removed]",
      "text/plain": [
       "<Figure size 1500x700 with 1 Axes>"
      ]
     },
     "metadata": {},
     "output_type": "display_data"
    }
   ],
   "source": [
    "'''Qiskit_code_cell'''\n",
    "\n",
    "sim_values = optimizer.energy_values\n",
    "fontsize = 15\n",
    "\n",
    "plt.rcParams['figure.figsize'] = (15, 7)\n",
    "plt.plot(range(len(sim_values)), sim_values, label=\"Energy value\", color='red')\n",
    "plt.xticks(fontsize = fontsize)\n",
    "plt.yticks(fontsize = fontsize)\n",
    "plt.xlabel('Steps', fontsize = fontsize)\n",
    "plt.ylabel('Energy', fontsize = fontsize)\n",
    "plt.title('Energy convergence for Rotosolve optimizer', fontsize = fontsize)\n",
    "plt.legend(loc='upper right', fontsize = fontsize);\n",
    "plt.show()"
   ]
  },
  {
   "cell_type": "markdown",
   "id": "8afccbd8",
   "metadata": {
    "slideshow": {
     "slide_type": ""
    },
    "tags": []
   },
   "source": [
    "En la gráfica podemos ver que el valor mínimo se alcanza con pocas iteraciones, la aproximación es bastante buena pero no mejora el valor obtenido con el algoritmo de optimización <b>SPSA</b> usado en el <i>notebook</i> de <a href=\"../Chapter_01_Introduction.ipynb#sec_El_Modelo_de_Ising_con_el_algoritmo_VQE\">Introducción al algoritmo VQE</a>.\n",
    "\n",
    "\n",
    "<table style='margin: 0 auto; font-size:11pt'>\n",
    "  <tr>\n",
    "      <th></th>\n",
    "      <th style=\"text-align:center\">Energía mínima <br/>(autovalor)</th>\n",
    "  </tr>\n",
    "  <tr>\n",
    "    <td style=\"text-align:center\"><b>SPSA</b></td>\n",
    "    <td style=\"text-align:center\">-4.092961599426855</td>\n",
    "  </tr>\n",
    "  <tr>\n",
    "    <td style=\"text-align:center\"><b>Rotosolve ideal</b></td>\n",
    "    <td style=\"text-align:center\">-4.090385692923965</td>\n",
    "  </tr>\n",
    "</table> \n",
    "\n",
    "\n",
    "La selección del algoritmo de optimización es una decisión difícil de tomar, en algunas ocasiones se necesita un valor más exacto y en otras ocasiones con una aproximación es suficiente, además el tiempo de cómputo también influye en la selección del algoritmo de optimización lo cual también viene relacionado con la cantidad de recursos <i>hardware</i> que se dispongan."
   ]
  },
  {
   "cell_type": "markdown",
   "id": "b230efab",
   "metadata": {
    "slideshow": {
     "slide_type": ""
    },
    "tags": []
   },
   "source": [
    "(sec_Ejecución_de_VQE_en_computador_cuántico_real)= \n",
    "### Ejecución de VQE en computador cuántico real"
   ]
  },
  {
   "cell_type": "markdown",
   "id": "379c09e0",
   "metadata": {
    "slideshow": {
     "slide_type": ""
    },
    "tags": []
   },
   "source": [
    "Creamos la configuración inicial para ejecutar nuestro código en un ordenador real de IBM. Para que los cálculos sean más rápidos usamos un backend falso llamado **ibmq_lima**, además haremos uso de los datos de una ejecución anterior para que el proceso no tarde en ejecutarse indefinidamente.\n",
    "\n",
    "\n",
    "Los ordenadores cuánticos de IBM estan abiertos a todos los usuarios, por ello hay una cola de ejecución que puede demorar la obtención de los resultados."
   ]
  },
  {
   "cell_type": "markdown",
   "id": "0ef3c2d0",
   "metadata": {},
   "source": [
    ":::::{tab-set}\n",
    "::::{tab-item} Qiskit\n",
    "```python\n",
    "\n",
    "# Incluye aquí el token personal de ibmq --> https://quantum-computing.ibm.com/\n",
    "QISKIT_TOKEN = \"\" \n",
    "\n",
    "# Configuración de ejecución\n",
    "CONFIGURATION = {\n",
    "    'USE_REAL_BACKEND_NOISE': False, # Usa o no el backend real de ibmq_lima para obtener el ruido del dispositivo para la simulacion VQE\n",
    "    'JSON_RESULT': True, # Usa los resultados obtenidos de una ejecución previa del algoritmo VQE en el dispositivo real ibmq_lima, desactivar esta opción puede hacer que la ejecución de VQE tarde horas\n",
    "}\n",
    "```\n",
    "::::\n",
    ":::::\n"
   ]
  },
  {
   "cell_type": "code",
   "execution_count": 6,
   "id": "492f8ec6",
   "metadata": {
    "tags": [
     "remove_input"
    ]
   },
   "outputs": [],
   "source": [
    "'''Qiskit_code_cell'''\n",
    "\n",
    "# Incluye aquí el token personal de ibmq --> https://quantum-computing.ibm.com/\n",
    "QISKIT_TOKEN = \"\" \n",
    "\n",
    "# Configuración de ejecución\n",
    "CONFIGURATION = {\n",
    "    'USE_REAL_BACKEND_NOISE': False, # Usa o no el backend real de ibmq_lima para obtener el ruido del dispositivo para la simulacion VQE\n",
    "    'JSON_RESULT': True, # Usa los resultados obtenidos de una ejecución previa del algoritmo VQE en el dispositivo real ibmq_lima, desactivar esta opción puede hacer que la ejecución de VQE tarde horas\n",
    "}"
   ]
  },
  {
   "cell_type": "markdown",
   "id": "ebb69042",
   "metadata": {
    "slideshow": {
     "slide_type": ""
    },
    "tags": []
   },
   "source": [
    "Nos conectamos al ordenador cuántico real o no en función de la configuración seleccionada:"
   ]
  },
  {
   "cell_type": "markdown",
   "id": "acd99522",
   "metadata": {},
   "source": [
    ":::::{tab-set}\n",
    "::::{tab-item} Qiskit\n",
    "```python\n",
    "\n",
    "if not CONFIGURATION['USE_REAL_BACKEND_NOISE']:\n",
    "    \n",
    "    # Use FakeLima device (fake device)\n",
    "    print(\"Using fake ibmq_lima device...\\n\")\n",
    "        \n",
    "    device_backend = FakeLima()\n",
    "    backend = QasmSimulator.from_backend(device_backend)\n",
    "    \n",
    "else:\n",
    "\n",
    "    if QISKIT_TOKEN != \"\":\n",
    "        IBMQ.save_account(QISKIT_TOKEN, overwrite=True)\n",
    "        print(\"Token IBMQ guardado!\")\n",
    "    #else:\n",
    "    #    pass # Skip token check\n",
    "    #    raise(\"Token no encontrado. Regístrate en https://quantum-computing.ibm.com/ para obtener el token y usar un backend real\")\n",
    "        \n",
    "    print(\"Token activo!\\n\")\n",
    "    \n",
    "    provider = IBMQ()\n",
    "\n",
    "    provider.backends(simulator=False, operational=True)\n",
    "\n",
    "    print(\"Provider seleccionado: \", provider.active_account()['instance'])\n",
    "\n",
    "    # Seleccionamos el backend que este disponible acorde a nuestra configuración\n",
    "    #backend = least_busy(provider.backends(filters = lambda b: b.configuration().n_qubits >= n and \n",
    "    #                                             b.status().operational and not b.configuration().simulator))\n",
    "\n",
    "    # Obtenemos el backend ibmq_lima\n",
    "    backend = provider.get_backend('ibm_osaka')\n",
    "\n",
    "    # Use ibmq_lima real device\n",
    "    print(\"\\nUsando el backend '%s'...\" % (backend.configuration().backend_name))\n",
    "```\n",
    "::::\n",
    ":::::\n"
   ]
  },
  {
   "cell_type": "code",
   "execution_count": 7,
   "id": "d672e8fe",
   "metadata": {
    "tags": [
     "remove_input"
    ]
   },
   "outputs": [
    {
     "name": "stdout",
     "output_type": "stream",
     "text": [
      "Using fake ibmq_lima device...\n",
      "\n"
     ]
    }
   ],
   "source": [
    "'''Qiskit_code_cell'''\n",
    "\n",
    "if not CONFIGURATION['USE_REAL_BACKEND_NOISE']:\n",
    "    \n",
    "    # Use FakeLima device (fake device)\n",
    "    print(\"Using fake ibmq_lima device...\\n\")\n",
    "        \n",
    "    device_backend = FakeLima()\n",
    "    backend = QasmSimulator.from_backend(device_backend)\n",
    "    \n",
    "else:\n",
    "\n",
    "    if QISKIT_TOKEN != \"\":\n",
    "        IBMQ.save_account(QISKIT_TOKEN, overwrite=True)\n",
    "        print(\"Token IBMQ guardado!\")\n",
    "    #else:\n",
    "    #    pass # Skip token check\n",
    "    #    raise(\"Token no encontrado. Regístrate en https://quantum-computing.ibm.com/ para obtener el token y usar un backend real\")\n",
    "        \n",
    "    print(\"Token activo!\\n\")\n",
    "    \n",
    "    provider = IBMQ()\n",
    "\n",
    "    provider.backends(simulator=False, operational=True)\n",
    "\n",
    "    print(\"Provider seleccionado: \", provider.active_account()['instance'])\n",
    "\n",
    "    # Seleccionamos el backend que este disponible acorde a nuestra configuración\n",
    "    #backend = least_busy(provider.backends(filters = lambda b: b.configuration().n_qubits >= n and \n",
    "    #                                             b.status().operational and not b.configuration().simulator))\n",
    "\n",
    "    # Obtenemos el backend ibmq_lima\n",
    "    backend = provider.get_backend('ibm_osaka')\n",
    "\n",
    "    # Use ibmq_lima real device\n",
    "    print(\"\\nUsando el backend '%s'...\" % (backend.configuration().backend_name))"
   ]
  },
  {
   "cell_type": "markdown",
   "id": "bdcb59b8",
   "metadata": {
    "slideshow": {
     "slide_type": ""
    },
    "tags": []
   },
   "source": [
    "Obtenemos los datos de una ejecución previa de nuestro circuito cuántico y obtenemos la energía de convergencia:"
   ]
  },
  {
   "cell_type": "markdown",
   "id": "463399a4",
   "metadata": {},
   "source": [
    ":::::{tab-set}\n",
    "::::{tab-item} Qiskit\n",
    "```python\n",
    "\n",
    "# El proceso de procesado de VQE en un computador cuántico real es my costoso (puede durar horas) y tiene timeout en el servidor\n",
    "# podemos cargar los resultados de una ejecución previa de VQE preparado en un JSON\n",
    "if not CONFIGURATION['JSON_RESULT']:\n",
    "\n",
    "    intermediate_info = {\n",
    "        'nfev': [],\n",
    "        'parameters': [],\n",
    "        'energy': [],\n",
    "        #'stddev': []\n",
    "    }\n",
    "    \n",
    "    def callback(nfev, parameters, mean, stddev):\n",
    "        intermediate_info['nfev'].append(nfev)\n",
    "        intermediate_info['parameters'].append(parameters)\n",
    "        intermediate_info['energy'].append(mean)\n",
    "        #intermediate_info['stddev'].append(stddev)\n",
    "    \n",
    "    basis_gates = backend.configuration().basis_gates\n",
    "    \n",
    "    # Transpilación del circuito ansatz para su representación en función de las puertas base del backend\n",
    "    trans_ansatz = transpile(ansatz, basis_gates = basis_gates, optimization_level = 0)\n",
    "\n",
    "    # No podemos enviar el algoritmo rotosolve a un ordenador real porque qiskit no lo tiene implementado\n",
    "    # si enviamos el programa de VQE con rotosolve nos devolverá un error \n",
    "    optimizer_real = SPSA(maxiter = 300)\n",
    "    \n",
    "    vqe_min_real = VQE(estimator = Estimator(),\n",
    "                       ansatz = trans_ansatz,\n",
    "                       optimizer = optimizer_real, \n",
    "                       initial_point = initial_point,\n",
    "                       callback = callback)\n",
    "    \n",
    "    vqe_min_real.quantum_instance = QuantumInstance(backend, seed_transpiler=63, seed_simulator=63)\n",
    "    \n",
    "    result = vqe_min_real.compute_minimum_eigenvalue(op_H)\n",
    "    eigenvalue = result.eigenvalue\n",
    "    optimal_value = result.optimal_value\n",
    "    \n",
    "else:\n",
    "\n",
    "    # Ejecución previa de VQE con SPSA y 300 iteraciones en el backend ibmq_osaka\n",
    "    # Recuperamos la ejecución, job id: cf5f7poi10jrivgn92ag\n",
    "    with open('./utils/results/cf5f7poi10jrivgn92ag-result.json') as user_file:\n",
    "        json_dict = user_file.read()\n",
    "\n",
    "    result = json.loads(json_dict)\n",
    "    \n",
    "    eigenvalue = complex(result['eigenvalue']['__value__'][0], result['eigenvalue']['__value__'][1])\n",
    "    optimal_value = result['optimal_value']\n",
    "    \n",
    "print('Eigenvalue:', eigenvalue)\n",
    "print('Eigenvalue real part:', np.real(eigenvalue))\n",
    "print(\"E_G =\", optimal_value)\n",
    "```\n",
    "::::\n",
    ":::::\n"
   ]
  },
  {
   "cell_type": "code",
   "execution_count": 8,
   "id": "78502540",
   "metadata": {
    "tags": [
     "remove_input"
    ]
   },
   "outputs": [
    {
     "name": "stdout",
     "output_type": "stream",
     "text": [
      "Eigenvalue: (-0.8261718749999999+0j)\n",
      "Eigenvalue real part: -0.8261718749999999\n",
      "E_G = -0.8261718749999999\n"
     ]
    }
   ],
   "source": [
    "'''Qiskit_code_cell'''\n",
    "\n",
    "# El proceso de procesado de VQE en un computador cuántico real es my costoso (puede durar horas) y tiene timeout en el servidor\n",
    "# podemos cargar los resultados de una ejecución previa de VQE preparado en un JSON\n",
    "if not CONFIGURATION['JSON_RESULT']:\n",
    "\n",
    "    intermediate_info = {\n",
    "        'nfev': [],\n",
    "        'parameters': [],\n",
    "        'energy': [],\n",
    "        #'stddev': []\n",
    "    }\n",
    "    \n",
    "    def callback(nfev, parameters, mean, stddev):\n",
    "        intermediate_info['nfev'].append(nfev)\n",
    "        intermediate_info['parameters'].append(parameters)\n",
    "        intermediate_info['energy'].append(mean)\n",
    "        #intermediate_info['stddev'].append(stddev)\n",
    "    \n",
    "    basis_gates = backend.configuration().basis_gates\n",
    "    \n",
    "    # Transpilación del circuito ansatz para su representación en función de las puertas base del backend\n",
    "    trans_ansatz = transpile(ansatz, basis_gates = basis_gates, optimization_level = 0)\n",
    "\n",
    "    # No podemos enviar el algoritmo rotosolve a un ordenador real porque qiskit no lo tiene implementado\n",
    "    # si enviamos el programa de VQE con rotosolve nos devolverá un error \n",
    "    optimizer_real = SPSA(maxiter = 300)\n",
    "    \n",
    "    vqe_min_real = VQE(estimator = Estimator(),\n",
    "                       ansatz = trans_ansatz,\n",
    "                       optimizer = optimizer_real, \n",
    "                       initial_point = initial_point,\n",
    "                       callback = callback)\n",
    "    \n",
    "    vqe_min_real.quantum_instance = QuantumInstance(backend, seed_transpiler=63, seed_simulator=63)\n",
    "    \n",
    "    result = vqe_min_real.compute_minimum_eigenvalue(op_H)\n",
    "    eigenvalue = result.eigenvalue\n",
    "    optimal_value = result.optimal_value\n",
    "    \n",
    "else:\n",
    "\n",
    "    # Ejecución previa de VQE con SPSA y 300 iteraciones en el backend ibmq_osaka\n",
    "    # Recuperamos la ejecución, job id: cf5f7poi10jrivgn92ag\n",
    "    with open('./utils/results/cf5f7poi10jrivgn92ag-result.json') as user_file:\n",
    "        json_dict = user_file.read()\n",
    "\n",
    "    result = json.loads(json_dict)\n",
    "    \n",
    "    eigenvalue = complex(result['eigenvalue']['__value__'][0], result['eigenvalue']['__value__'][1])\n",
    "    optimal_value = result['optimal_value']\n",
    "    \n",
    "print('Eigenvalue:', eigenvalue)\n",
    "print('Eigenvalue real part:', np.real(eigenvalue))\n",
    "print(\"E_G =\", optimal_value)"
   ]
  },
  {
   "cell_type": "markdown",
   "id": "40b12868",
   "metadata": {
    "slideshow": {
     "slide_type": ""
    },
    "tags": []
   },
   "source": [
    "Obtenemos una gráfica los resultados:"
   ]
  },
  {
   "cell_type": "markdown",
   "id": "99eee207",
   "metadata": {},
   "source": [
    ":::::{tab-set}\n",
    "::::{tab-item} Qiskit\n",
    "```python\n",
    "\n",
    "plot_values = intermediate_info['energy'] if not CONFIGURATION['JSON_RESULT'] else result['optimizer_history']['energy']\n",
    "fontsize = 15\n",
    "\n",
    "plt.rcParams['figure.figsize'] = (15, 7)\n",
    "plt.plot(range(len(plot_values)), plot_values, label=\"Energy value real\", color='red')\n",
    "plt.xticks(fontsize = fontsize)\n",
    "plt.yticks(fontsize = fontsize)\n",
    "plt.xlabel('Steps', fontsize = fontsize)\n",
    "plt.ylabel('Energy', fontsize = fontsize)\n",
    "plt.title('Energy convergence for SPSA optimizer', fontsize = fontsize)\n",
    "plt.legend(loc='upper right', fontsize = fontsize);\n",
    "plt.show()\n",
    "```\n",
    "::::\n",
    ":::::\n"
   ]
  },
  {
   "cell_type": "code",
   "execution_count": 9,
   "id": "b4e46df9",
   "metadata": {
    "tags": [
     "remove_input"
    ]
   },
   "outputs": [
    {
     "data": {
      "image/png": "[encoded data removed]",
      "text/plain": [
       "<Figure size 1500x700 with 1 Axes>"
      ]
     },
     "metadata": {},
     "output_type": "display_data"
    }
   ],
   "source": [
    "'''Qiskit_code_cell'''\n",
    "\n",
    "plot_values = intermediate_info['energy'] if not CONFIGURATION['JSON_RESULT'] else result['optimizer_history']['energy']\n",
    "fontsize = 15\n",
    "\n",
    "plt.rcParams['figure.figsize'] = (15, 7)\n",
    "plt.plot(range(len(plot_values)), plot_values, label=\"Energy value real\", color='red')\n",
    "plt.xticks(fontsize = fontsize)\n",
    "plt.yticks(fontsize = fontsize)\n",
    "plt.xlabel('Steps', fontsize = fontsize)\n",
    "plt.ylabel('Energy', fontsize = fontsize)\n",
    "plt.title('Energy convergence for SPSA optimizer', fontsize = fontsize)\n",
    "plt.legend(loc='upper right', fontsize = fontsize);\n",
    "plt.show()"
   ]
  },
  {
   "cell_type": "markdown",
   "id": "90d5bae7",
   "metadata": {
    "slideshow": {
     "slide_type": ""
    },
    "tags": []
   },
   "source": [
    "Los resultados obtenidos con el computador cuántico no son muy fiables puesto que tiene ciertas limitaciones en la ejecución del algoritmo de optimización como el número de iteraciones, esta limitación impacta en el tiempo máximo de ejecución que se ha dispuesto para cada trabajo que se envía de tal manera que si se sobrepasa ese límite de tiempo la ejecución se para y nos devuelve el resultado en ese preciso instante, es por ello que los resultados no se acercan a los esperados.\n",
    "\n",
    "\n",
    "Además el algoritmo **Rotosolve** no esta disponible en el servidor remoto por lo que debemos seleccionar otro algoritmo de optimización disponible como el **SPSA**.\n",
    "\n",
    "\n",
    "Como solución a estas limitaciones impuestas, vamos a obtener las condiciones del ordenador cuántico real y las vamos a aplicar al simulador local, ésto es, nos descargaremos el ruido del ordenador cuántico remoto, obtendremos sus puertas básicas para traducir nuestro circuito a ese tipo de puertas básicas y obtendremos el mapa de conexiones entre las puertas, con todo esto aplicado al simulador local no tendremos problemas de tiempo de ejecución ni restricciones en la selección del algoritmo de optimización.\n",
    "\n",
    "\n",
    "Usaremos el mismo <i>backend</i> que hemos usado hasta ahora pero en dos vertientes: el computador cuántico real (<b>ibmq_lima</b>) y su versión simulada (<b>fake_lima</b>), ambos tienen los parámetros que deseamos obtener para el simulador local.\n",
    "\n",
    "\n",
    "Debemos tener presente el concepto de <b>transpilación de un circuito cuántico</b>. Los computadores cuánticos, en general, no tienen implementadas todas las puertas cuánticas disponibles, es un esfuerzo bastante grande obtener puertas con una fiabilidad alta y por ello la implementación de las puertas cuánticas en un dispositivo real puede ser my costosa. Por eso, debemos traducir nuestro circuito complejo al conjunto de puertas disponibles del computador cuántico remoto."
   ]
  },
  {
   "cell_type": "markdown",
   "id": "1308c783",
   "metadata": {
    "slideshow": {
     "slide_type": ""
    },
    "tags": []
   },
   "source": [
    "(sec_Ejecución_de_VQE_con_Rotosolve_simulando_el_ruido_de_un_computador_cuántico_real)= \n",
    "### Ejecución de VQE con Rotosolve simulando el ruido de un computador cuántico real"
   ]
  },
  {
   "cell_type": "markdown",
   "id": "d18f7f0d",
   "metadata": {
    "slideshow": {
     "slide_type": ""
    },
    "tags": []
   },
   "source": [
    "No es necesario enviar el circuito cuántico a un ordenador real, podemos simular este escenario añadiendo el ruido que se produce en ese entorno, con ello obtenemos unos resultados inmediatos y más fiables."
   ]
  },
  {
   "cell_type": "markdown",
   "id": "ed095182",
   "metadata": {},
   "source": [
    ":::::{tab-set}\n",
    "::::{tab-item} Qiskit\n",
    "```python\n",
    "\n",
    "noise_model = NoiseModel.from_backend(backend) # modelo de ruido\n",
    "coupling_map = backend.configuration().coupling_map # configuración de conexiones de puertas cuánticas\n",
    "basis_gates = noise_model.basis_gates # puertas básicas\n",
    "\n",
    "#print(noise_model)\n",
    "print(\"\\nCoupling map: \", coupling_map)\n",
    "print(\"\\nBasis gates: \", basis_gates)\n",
    "```\n",
    "::::\n",
    ":::::\n"
   ]
  },
  {
   "cell_type": "code",
   "execution_count": 10,
   "id": "fb522ff3",
   "metadata": {
    "tags": [
     "remove_input"
    ]
   },
   "outputs": [
    {
     "name": "stdout",
     "output_type": "stream",
     "text": [
      "\n",
      "Coupling map:  [[0, 1], [1, 0], [1, 2], [1, 3], [2, 1], [3, 1], [3, 4], [4, 3]]\n",
      "\n",
      "Basis gates:  ['cx', 'id', 'kraus', 'measure', 'qerror_loc', 'quantum_channel', 'reset', 'roerror', 'rz', 'save_amplitudes', 'save_amplitudes_sq', 'save_density_matrix', 'save_expval', 'save_expval_var', 'save_probabilities', 'save_probabilities_dict', 'save_stabilizer', 'save_state', 'save_statevector', 'save_statevector_dict', 'set_density_matrix', 'set_stabilizer', 'set_statevector', 'sx', 'x']\n"
     ]
    }
   ],
   "source": [
    "'''Qiskit_code_cell'''\n",
    "\n",
    "noise_model = NoiseModel.from_backend(backend) # modelo de ruido\n",
    "coupling_map = backend.configuration().coupling_map # configuración de conexiones de puertas cuánticas\n",
    "basis_gates = noise_model.basis_gates # puertas básicas\n",
    "\n",
    "#print(noise_model)\n",
    "print(\"\\nCoupling map: \", coupling_map)\n",
    "print(\"\\nBasis gates: \", basis_gates)"
   ]
  },
  {
   "cell_type": "markdown",
   "id": "040957a7",
   "metadata": {
    "slideshow": {
     "slide_type": ""
    },
    "tags": []
   },
   "source": [
    "Podemos obtener información detalla del ordenador cuántico sobre el que deseamos ejecutar nuestro Hamiltoniano:"
   ]
  },
  {
   "cell_type": "markdown",
   "id": "c1e0b4d0",
   "metadata": {},
   "source": [
    ":::::{tab-set}\n",
    "::::{tab-item} Qiskit\n",
    "```python\n",
    "\n",
    "print(\"Backend name: \", backend.configuration().backend_name)\n",
    "# print(backend.configuration().hamiltonian['description'])\n",
    "display.display(Latex(backend.configuration().hamiltonian[\"h_latex\"]))\n",
    "```\n",
    "::::\n",
    ":::::\n"
   ]
  },
  {
   "cell_type": "code",
   "execution_count": 11,
   "id": "523368d9",
   "metadata": {
    "tags": [
     "remove_input"
    ]
   },
   "outputs": [
    {
     "name": "stdout",
     "output_type": "stream",
     "text": [
      "Backend name:  qasm_simulator(fake_lima)\n"
     ]
    },
    {
     "data": {
      "text/latex": [
       "\\begin{align} \\mathcal{H}/\\hbar = & \\sum_{i=0}^{4}\\left(\\frac{\\omega_{q,i}}{2}(\\mathbb{I}-\\sigma_i^{z})+\\frac{\\Delta_{i}}{2}(O_i^2-O_i)+\\Omega_{d,i}D_i(t)\\sigma_i^{X}\\right) \\\\ & + J_{0,1}(\\sigma_{0}^{+}\\sigma_{1}^{-}+\\sigma_{0}^{-}\\sigma_{1}^{+}) + J_{1,3}(\\sigma_{1}^{+}\\sigma_{3}^{-}+\\sigma_{1}^{-}\\sigma_{3}^{+}) + J_{3,4}(\\sigma_{3}^{+}\\sigma_{4}^{-}+\\sigma_{3}^{-}\\sigma_{4}^{+}) + J_{1,2}(\\sigma_{1}^{+}\\sigma_{2}^{-}+\\sigma_{1}^{-}\\sigma_{2}^{+}) \\\\ & + \\Omega_{d,0}(U_{0}^{(0,1)}(t))\\sigma_{0}^{X} + \\Omega_{d,1}(U_{1}^{(1,0)}(t)+U_{3}^{(1,3)}(t)+U_{2}^{(1,2)}(t))\\sigma_{1}^{X} \\\\ & + \\Omega_{d,2}(U_{4}^{(2,1)}(t))\\sigma_{2}^{X} + \\Omega_{d,3}(U_{5}^{(3,1)}(t)+U_{6}^{(3,4)}(t))\\sigma_{3}^{X} \\\\ & + \\Omega_{d,4}(U_{7}^{(4,3)}(t))\\sigma_{4}^{X} \\\\ \\end{align}"
      ],
      "text/plain": [
       "<IPython.core.display.Latex object>"
      ]
     },
     "metadata": {},
     "output_type": "display_data"
    }
   ],
   "source": [
    "'''Qiskit_code_cell'''\n",
    "\n",
    "print(\"Backend name: \", backend.configuration().backend_name)\n",
    "# print(backend.configuration().hamiltonian['description'])\n",
    "display.display(Latex(backend.configuration().hamiltonian[\"h_latex\"]))"
   ]
  },
  {
   "cell_type": "markdown",
   "id": "b41f5168-d119-4aae-aed7-251cd75e112f",
   "metadata": {
    "slideshow": {
     "slide_type": ""
    },
    "tags": []
   },
   "source": [
    "Qubits are modeled as Duffing oscillators. In this case, the system includes higher energy states, i.e. not just $\\ket{0}$ and $\\ket{1}$. The Pauli operators are generalized via the following set of transformations: $(\\mathbb{I}-\\sigma_{i}^z)/2 \\rightarrow O_i \\equiv b^\\dagger_{i} b_{i}$,\n",
    "$\\sigma_{+} \\rightarrow b^\\dagger$, $\\sigma_{-} \\rightarrow b$, $\\sigma_{i}^X \\rightarrow b^\\dagger_{i} + b_{i}$. Qubits are coupled through resonator buses. The provided Hamiltonian has been projected into the zero excitation subspace of the resonator buses leading to an effective qubit-qubit flip-flop interaction. The qubit resonance frequencies in the Hamiltonian are the cavity dressed frequencies and not exactly what is returned by the backend defaults, which also includes the dressing due to the qubit-qubit interactions. Quantities are returned in angular frequencies, with units 2*$\\pi$*GHz. WARNING: Currently not all system Hamiltonian information is available to the public, missing values have been replaced with 0."
   ]
  },
  {
   "cell_type": "markdown",
   "id": "ffbdeb24",
   "metadata": {},
   "source": [
    ":::::{tab-set}\n",
    "::::{tab-item} Qiskit\n",
    "```python\n",
    "\n",
    "intermediate_info_noise = {\n",
    "    'nfev': [],\n",
    "    'parameters': [],\n",
    "    'mean': [],\n",
    "    #'stddev': []\n",
    "}\n",
    "\n",
    "def callback_noisy(nfev, parameters, mean, stddev):\n",
    "    intermediate_info_noise['nfev'].append(nfev)\n",
    "    intermediate_info_noise['parameters'].append(parameters)\n",
    "    intermediate_info_noise['mean'].append(mean)\n",
    "    #intermediate_info_noise['stddev'].append(stddev)\n",
    "\n",
    "optimizer_noise = Rotosolve(max_steps = 200, step_size = 3)\n",
    "\n",
    "sim_backend = Aer.get_backend('aer_simulator')\n",
    "\n",
    "qi = QuantumInstance(backend = sim_backend, \n",
    "                     shots=1024,\n",
    "                     seed_simulator=seed, \n",
    "                     seed_transpiler=seed, \n",
    "                     coupling_map = coupling_map, \n",
    "                     #measurement_error_mitigation_cls = CompleteMeasFitter, # Mitigación de errores\n",
    "                     #cals_matrix_refresh_period = 30, # Mitigación de errores\n",
    "                     noise_model = noise_model)\n",
    "\n",
    "# Transpilación del circuito ansatz para su representación en función de las puertas base del backend\n",
    "# y selección del nivel de optimización (0 --> sin optimización, 3 --> optimización máxima)\n",
    "optimization_level = 0 # sin optimización\n",
    "#optimization_level = 3 # con optimización máxima\n",
    "trans_ansatz = transpile(ansatz, basis_gates = basis_gates, optimization_level = optimization_level) \n",
    "\n",
    "vqe_min_energy = VQE(estimator = Estimator(),\n",
    "                     ansatz = trans_ansatz,\n",
    "                     optimizer = optimizer_noise, \n",
    "                     initial_point = initial_point,\n",
    "                     callback = callback_noisy)\n",
    "\n",
    "vqe_min_energy.quantum_instance = qi\n",
    "\n",
    "result_sim = vqe_min_energy.compute_minimum_eigenvalue(op_H)\n",
    "\n",
    "print(\"==============================================\")\n",
    "print('\\nEigenvalue:', result_sim.eigenvalue)\n",
    "print('Eigenvalue real part:', result_sim.eigenvalue.real)\n",
    "print(\"E_G =\", result_sim.optimal_value)\n",
    "```\n",
    "::::\n",
    ":::::\n"
   ]
  },
  {
   "cell_type": "code",
   "execution_count": 12,
   "id": "377f0364",
   "metadata": {
    "tags": [
     "remove_input"
    ]
   },
   "outputs": [
    {
     "name": "stdout",
     "output_type": "stream",
     "text": [
      "Rotosolve algorithm for optimizing a given value\n",
      "================================================\n"
     ]
    },
    {
     "name": "stdout",
     "output_type": "stream",
     "text": [
      "Step 0. Current expectation value: -4.09038569\n"
     ]
    },
    {
     "name": "stdout",
     "output_type": "stream",
     "text": [
      "Step 3. Current expectation value: -4.09038569\n"
     ]
    },
    {
     "name": "stdout",
     "output_type": "stream",
     "text": [
      "Step 6. Current expectation value: -4.09038569\n"
     ]
    },
    {
     "name": "stdout",
     "output_type": "stream",
     "text": [
      "Step 9. Current expectation value: -4.09038569\n"
     ]
    },
    {
     "name": "stdout",
     "output_type": "stream",
     "text": [
      "Step 12. Current expectation value: -4.09038569\n"
     ]
    },
    {
     "name": "stdout",
     "output_type": "stream",
     "text": [
      "Step 15. Current expectation value: -4.09038569\n"
     ]
    },
    {
     "name": "stdout",
     "output_type": "stream",
     "text": [
      "Step 18. Current expectation value: -4.09038569\n"
     ]
    },
    {
     "name": "stdout",
     "output_type": "stream",
     "text": [
      "Step 21. Current expectation value: -4.09038569\n"
     ]
    },
    {
     "name": "stdout",
     "output_type": "stream",
     "text": [
      "Step 24. Current expectation value: -4.09038569\n"
     ]
    },
    {
     "name": "stdout",
     "output_type": "stream",
     "text": [
      "Step 27. Current expectation value: -4.09038569\n"
     ]
    },
    {
     "name": "stdout",
     "output_type": "stream",
     "text": [
      "Step 30. Current expectation value: -4.09038569\n"
     ]
    },
    {
     "name": "stdout",
     "output_type": "stream",
     "text": [
      "Step 33. Current expectation value: -4.09038569\n"
     ]
    },
    {
     "name": "stdout",
     "output_type": "stream",
     "text": [
      "Step 36. Current expectation value: -4.09038569\n"
     ]
    },
    {
     "name": "stdout",
     "output_type": "stream",
     "text": [
      "Step 39. Current expectation value: -4.09038569\n"
     ]
    },
    {
     "name": "stdout",
     "output_type": "stream",
     "text": [
      "Step 42. Current expectation value: -4.09038569\n"
     ]
    },
    {
     "name": "stdout",
     "output_type": "stream",
     "text": [
      "Step 45. Current expectation value: -4.09038569\n"
     ]
    },
    {
     "name": "stdout",
     "output_type": "stream",
     "text": [
      "Step 48. Current expectation value: -4.09038569\n"
     ]
    },
    {
     "name": "stdout",
     "output_type": "stream",
     "text": [
      "Step 51. Current expectation value: -4.09038569\n"
     ]
    },
    {
     "name": "stdout",
     "output_type": "stream",
     "text": [
      "Step 54. Current expectation value: -4.09038569\n"
     ]
    },
    {
     "name": "stdout",
     "output_type": "stream",
     "text": [
      "Step 57. Current expectation value: -4.09038569\n"
     ]
    },
    {
     "name": "stdout",
     "output_type": "stream",
     "text": [
      "Step 60. Current expectation value: -4.09038569\n"
     ]
    },
    {
     "name": "stdout",
     "output_type": "stream",
     "text": [
      "Step 63. Current expectation value: -4.09038569\n"
     ]
    },
    {
     "name": "stdout",
     "output_type": "stream",
     "text": [
      "Step 66. Current expectation value: -4.09038569\n"
     ]
    },
    {
     "name": "stdout",
     "output_type": "stream",
     "text": [
      "Step 69. Current expectation value: -4.09038569\n"
     ]
    },
    {
     "name": "stdout",
     "output_type": "stream",
     "text": [
      "Step 72. Current expectation value: -4.09038569\n"
     ]
    },
    {
     "name": "stdout",
     "output_type": "stream",
     "text": [
      "Step 75. Current expectation value: -4.09038569\n"
     ]
    },
    {
     "name": "stdout",
     "output_type": "stream",
     "text": [
      "Step 78. Current expectation value: -4.09038569\n"
     ]
    },
    {
     "name": "stdout",
     "output_type": "stream",
     "text": [
      "Step 81. Current expectation value: -4.09038569\n"
     ]
    },
    {
     "name": "stdout",
     "output_type": "stream",
     "text": [
      "Step 84. Current expectation value: -4.09038569\n"
     ]
    },
    {
     "name": "stdout",
     "output_type": "stream",
     "text": [
      "Step 87. Current expectation value: -4.09038569\n"
     ]
    },
    {
     "name": "stdout",
     "output_type": "stream",
     "text": [
      "Step 90. Current expectation value: -4.09038569\n"
     ]
    },
    {
     "name": "stdout",
     "output_type": "stream",
     "text": [
      "Step 93. Current expectation value: -4.09038569\n"
     ]
    },
    {
     "name": "stdout",
     "output_type": "stream",
     "text": [
      "Step 96. Current expectation value: -4.09038569\n"
     ]
    },
    {
     "name": "stdout",
     "output_type": "stream",
     "text": [
      "Step 99. Current expectation value: -4.09038569\n"
     ]
    },
    {
     "name": "stdout",
     "output_type": "stream",
     "text": [
      "Step 102. Current expectation value: -4.09038569\n"
     ]
    },
    {
     "name": "stdout",
     "output_type": "stream",
     "text": [
      "Step 105. Current expectation value: -4.09038569\n"
     ]
    },
    {
     "name": "stdout",
     "output_type": "stream",
     "text": [
      "Step 108. Current expectation value: -4.09038569\n"
     ]
    },
    {
     "name": "stdout",
     "output_type": "stream",
     "text": [
      "Step 111. Current expectation value: -4.09038569\n"
     ]
    },
    {
     "name": "stdout",
     "output_type": "stream",
     "text": [
      "Step 114. Current expectation value: -4.09038569\n"
     ]
    },
    {
     "name": "stdout",
     "output_type": "stream",
     "text": [
      "Step 117. Current expectation value: -4.09038569\n"
     ]
    },
    {
     "name": "stdout",
     "output_type": "stream",
     "text": [
      "Step 120. Current expectation value: -4.09038569\n"
     ]
    },
    {
     "name": "stdout",
     "output_type": "stream",
     "text": [
      "Step 123. Current expectation value: -4.09038569\n"
     ]
    },
    {
     "name": "stdout",
     "output_type": "stream",
     "text": [
      "Step 126. Current expectation value: -4.09038569\n"
     ]
    },
    {
     "name": "stdout",
     "output_type": "stream",
     "text": [
      "Step 129. Current expectation value: -4.09038569\n"
     ]
    },
    {
     "name": "stdout",
     "output_type": "stream",
     "text": [
      "Step 132. Current expectation value: -4.09038569\n"
     ]
    },
    {
     "name": "stdout",
     "output_type": "stream",
     "text": [
      "Step 135. Current expectation value: -4.09038569\n"
     ]
    },
    {
     "name": "stdout",
     "output_type": "stream",
     "text": [
      "Step 138. Current expectation value: -4.09038569\n"
     ]
    },
    {
     "name": "stdout",
     "output_type": "stream",
     "text": [
      "Step 141. Current expectation value: -4.09038569\n"
     ]
    },
    {
     "name": "stdout",
     "output_type": "stream",
     "text": [
      "Step 144. Current expectation value: -4.09038569\n"
     ]
    },
    {
     "name": "stdout",
     "output_type": "stream",
     "text": [
      "Step 147. Current expectation value: -4.09038569\n"
     ]
    },
    {
     "name": "stdout",
     "output_type": "stream",
     "text": [
      "Step 150. Current expectation value: -4.09038569\n"
     ]
    },
    {
     "name": "stdout",
     "output_type": "stream",
     "text": [
      "Step 153. Current expectation value: -4.09038569\n"
     ]
    },
    {
     "name": "stdout",
     "output_type": "stream",
     "text": [
      "Step 156. Current expectation value: -4.09038569\n"
     ]
    },
    {
     "name": "stdout",
     "output_type": "stream",
     "text": [
      "Step 159. Current expectation value: -4.09038569\n"
     ]
    },
    {
     "name": "stdout",
     "output_type": "stream",
     "text": [
      "Step 162. Current expectation value: -4.09038569\n"
     ]
    },
    {
     "name": "stdout",
     "output_type": "stream",
     "text": [
      "Step 165. Current expectation value: -4.09038569\n"
     ]
    },
    {
     "name": "stdout",
     "output_type": "stream",
     "text": [
      "Step 168. Current expectation value: -4.09038569\n"
     ]
    },
    {
     "name": "stdout",
     "output_type": "stream",
     "text": [
      "Step 171. Current expectation value: -4.09038569\n"
     ]
    },
    {
     "name": "stdout",
     "output_type": "stream",
     "text": [
      "Step 174. Current expectation value: -4.09038569\n"
     ]
    },
    {
     "name": "stdout",
     "output_type": "stream",
     "text": [
      "Step 177. Current expectation value: -4.09038569\n"
     ]
    },
    {
     "name": "stdout",
     "output_type": "stream",
     "text": [
      "Step 180. Current expectation value: -4.09038569\n"
     ]
    },
    {
     "name": "stdout",
     "output_type": "stream",
     "text": [
      "Step 183. Current expectation value: -4.09038569\n"
     ]
    },
    {
     "name": "stdout",
     "output_type": "stream",
     "text": [
      "Step 186. Current expectation value: -4.09038569\n"
     ]
    },
    {
     "name": "stdout",
     "output_type": "stream",
     "text": [
      "Step 189. Current expectation value: -4.09038569\n"
     ]
    },
    {
     "name": "stdout",
     "output_type": "stream",
     "text": [
      "Step 192. Current expectation value: -4.09038569\n"
     ]
    },
    {
     "name": "stdout",
     "output_type": "stream",
     "text": [
      "Step 195. Current expectation value: -4.09038569\n"
     ]
    },
    {
     "name": "stdout",
     "output_type": "stream",
     "text": [
      "Step 198. Current expectation value: -4.09038569\n",
      "==============================================\n",
      "\n",
      "Eigenvalue: -4.090385693670181\n",
      "Eigenvalue real part: -4.090385693670181\n",
      "E_G = -4.090385693670181\n"
     ]
    }
   ],
   "source": [
    "'''Qiskit_code_cell'''\n",
    "\n",
    "intermediate_info_noise = {\n",
    "    'nfev': [],\n",
    "    'parameters': [],\n",
    "    'mean': [],\n",
    "    #'stddev': []\n",
    "}\n",
    "\n",
    "def callback_noisy(nfev, parameters, mean, stddev):\n",
    "    intermediate_info_noise['nfev'].append(nfev)\n",
    "    intermediate_info_noise['parameters'].append(parameters)\n",
    "    intermediate_info_noise['mean'].append(mean)\n",
    "    #intermediate_info_noise['stddev'].append(stddev)\n",
    "\n",
    "optimizer_noise = Rotosolve(max_steps = 200, step_size = 3)\n",
    "\n",
    "sim_backend = Aer.get_backend('aer_simulator')\n",
    "\n",
    "qi = QuantumInstance(backend = sim_backend, \n",
    "                     shots=1024,\n",
    "                     seed_simulator=seed, \n",
    "                     seed_transpiler=seed, \n",
    "                     coupling_map = coupling_map, \n",
    "                     #measurement_error_mitigation_cls = CompleteMeasFitter, # Mitigación de errores\n",
    "                     #cals_matrix_refresh_period = 30, # Mitigación de errores\n",
    "                     noise_model = noise_model)\n",
    "\n",
    "# Transpilación del circuito ansatz para su representación en función de las puertas base del backend\n",
    "# y selección del nivel de optimización (0 --> sin optimización, 3 --> optimización máxima)\n",
    "optimization_level = 0 # sin optimización\n",
    "#optimization_level = 3 # con optimización máxima\n",
    "trans_ansatz = transpile(ansatz, basis_gates = basis_gates, optimization_level = optimization_level) \n",
    "\n",
    "vqe_min_energy = VQE(estimator = Estimator(),\n",
    "                     ansatz = trans_ansatz,\n",
    "                     optimizer = optimizer_noise, \n",
    "                     initial_point = initial_point,\n",
    "                     callback = callback_noisy)\n",
    "\n",
    "vqe_min_energy.quantum_instance = qi\n",
    "\n",
    "result_sim = vqe_min_energy.compute_minimum_eigenvalue(op_H)\n",
    "\n",
    "print(\"==============================================\")\n",
    "print('\\nEigenvalue:', result_sim.eigenvalue)\n",
    "print('Eigenvalue real part:', result_sim.eigenvalue.real)\n",
    "print(\"E_G =\", result_sim.optimal_value)"
   ]
  },
  {
   "cell_type": "markdown",
   "id": "a6acdad9",
   "metadata": {
    "slideshow": {
     "slide_type": ""
    },
    "tags": []
   },
   "source": [
    "Lel resultado de la energía es bastante bueno y converge muy rápido, el algoritmo de optimización Rotosolve ha hecho que el proceso de convergencia dure unas pocas iteraciones."
   ]
  },
  {
   "cell_type": "code",
   "execution_count": 13,
   "id": "c1180196",
   "metadata": {
    "slideshow": {
     "slide_type": ""
    },
    "tags": []
   },
   "outputs": [
    {
     "data": {
      "image/png": "[encoded data removed]",
      "text/plain": [
       "<Figure size 2271.45x785.944 with 1 Axes>"
      ]
     },
     "execution_count": 13,
     "metadata": {},
     "output_type": "execute_result"
    }
   ],
   "source": [
    "vqe_min_energy.ansatz.draw('mpl', initial_state=True, style=qspain())"
   ]
  },
  {
   "cell_type": "markdown",
   "id": "12c16f54",
   "metadata": {
    "slideshow": {
     "slide_type": ""
    },
    "tags": []
   },
   "source": [
    "Con la siguiente gráfica, podemos ver que la convergencia ya es final en las primeras iteraciones y para a optimizar el décimo dígito decimal."
   ]
  },
  {
   "cell_type": "markdown",
   "id": "34f5c823",
   "metadata": {},
   "source": [
    ":::::{tab-set}\n",
    "::::{tab-item} Qiskit\n",
    "```python\n",
    "\n",
    "sim_noisy_values = optimizer_noise.energy_values\n",
    "fontsize = 15\n",
    "\n",
    "plt.rcParams['figure.figsize'] = (15, 7)\n",
    "plt.plot(range(len(sim_noisy_values)), sim_noisy_values, label=\"Energy value\", color='blue')\n",
    "plt.xticks(fontsize = fontsize)\n",
    "plt.yticks(fontsize = fontsize)\n",
    "plt.xlabel('Steps', fontsize = fontsize)\n",
    "plt.ylabel('Energy', fontsize = fontsize)\n",
    "#plt.ylim([np.min(sim_noisy_values), np.max(sim_noisy_values)])\n",
    "plt.title('Energy convergence for Rotosolve optimizer with noise (Zoom in)', fontsize = fontsize)\n",
    "plt.legend(loc='upper right', fontsize = fontsize);\n",
    "plt.show()\n",
    "```\n",
    "::::\n",
    ":::::\n"
   ]
  },
  {
   "cell_type": "code",
   "execution_count": 14,
   "id": "5bf58406",
   "metadata": {
    "tags": [
     "remove_input"
    ]
   },
   "outputs": [
    {
     "data": {
      "image/png": "[encoded data removed]",
      "text/plain": [
       "<Figure size 1500x700 with 1 Axes>"
      ]
     },
     "metadata": {},
     "output_type": "display_data"
    }
   ],
   "source": [
    "'''Qiskit_code_cell'''\n",
    "\n",
    "sim_noisy_values = optimizer_noise.energy_values\n",
    "fontsize = 15\n",
    "\n",
    "plt.rcParams['figure.figsize'] = (15, 7)\n",
    "plt.plot(range(len(sim_noisy_values)), sim_noisy_values, label=\"Energy value\", color='blue')\n",
    "plt.xticks(fontsize = fontsize)\n",
    "plt.yticks(fontsize = fontsize)\n",
    "plt.xlabel('Steps', fontsize = fontsize)\n",
    "plt.ylabel('Energy', fontsize = fontsize)\n",
    "#plt.ylim([np.min(sim_noisy_values), np.max(sim_noisy_values)])\n",
    "plt.title('Energy convergence for Rotosolve optimizer with noise (Zoom in)', fontsize = fontsize)\n",
    "plt.legend(loc='upper right', fontsize = fontsize);\n",
    "plt.show()"
   ]
  },
  {
   "cell_type": "markdown",
   "id": "ad0cd648",
   "metadata": {
    "slideshow": {
     "slide_type": ""
    },
    "tags": []
   },
   "source": [
    "En la siguiente gráfica vemos como la energía ya ha llegado al mínimo en las primeras iteraciones y se mantiene estable en las iteraciones siguientes:"
   ]
  },
  {
   "cell_type": "markdown",
   "id": "e0309420",
   "metadata": {},
   "source": [
    ":::::{tab-set}\n",
    "::::{tab-item} Qiskit\n",
    "```python\n",
    "\n",
    "sim_noisy_values = optimizer_noise.energy_values\n",
    "fontsize = 15\n",
    "\n",
    "plt.rcParams['figure.figsize'] = (15, 7)\n",
    "plt.plot(range(len(sim_noisy_values)), sim_noisy_values, label=\"Energy value\", color='red')\n",
    "plt.xticks(fontsize = fontsize)\n",
    "plt.yticks(fontsize = fontsize)\n",
    "plt.xlabel('Steps', fontsize = fontsize)\n",
    "plt.ylabel('Energy', fontsize = fontsize)\n",
    "\n",
    "eig_val = result_sim.eigenvalue.real\n",
    "plt.ylim([eig_val - 1e-4, eig_val + 1e-4])\n",
    "plt.title('Energy convergence for Rotosolve optimizer with noise (Zoom out)', fontsize = fontsize)\n",
    "plt.legend(loc='upper right', fontsize = fontsize);\n",
    "plt.show()\n",
    "```\n",
    "::::\n",
    ":::::\n"
   ]
  },
  {
   "cell_type": "code",
   "execution_count": 15,
   "id": "ccfddd22",
   "metadata": {
    "tags": [
     "remove_input"
    ]
   },
   "outputs": [
    {
     "data": {
      "image/png": "[encoded data removed]",
      "text/plain": [
       "<Figure size 1500x700 with 1 Axes>"
      ]
     },
     "metadata": {},
     "output_type": "display_data"
    }
   ],
   "source": [
    "'''Qiskit_code_cell'''\n",
    "\n",
    "sim_noisy_values = optimizer_noise.energy_values\n",
    "fontsize = 15\n",
    "\n",
    "plt.rcParams['figure.figsize'] = (15, 7)\n",
    "plt.plot(range(len(sim_noisy_values)), sim_noisy_values, label=\"Energy value\", color='red')\n",
    "plt.xticks(fontsize = fontsize)\n",
    "plt.yticks(fontsize = fontsize)\n",
    "plt.xlabel('Steps', fontsize = fontsize)\n",
    "plt.ylabel('Energy', fontsize = fontsize)\n",
    "\n",
    "eig_val = result_sim.eigenvalue.real\n",
    "plt.ylim([eig_val - 1e-4, eig_val + 1e-4])\n",
    "plt.title('Energy convergence for Rotosolve optimizer with noise (Zoom out)', fontsize = fontsize)\n",
    "plt.legend(loc='upper right', fontsize = fontsize);\n",
    "plt.show()"
   ]
  },
  {
   "cell_type": "markdown",
   "id": "225498bd",
   "metadata": {
    "slideshow": {
     "slide_type": ""
    },
    "tags": []
   },
   "source": [
    "<table style='margin: 0 auto; font-size:11pt'>\n",
    "  <tr>\n",
    "      <th style=\"text-align:center\">Algoritmo<br/>optimización</th>\n",
    "      <th style=\"text-align:center\">Dispositivo</th>\n",
    "      <th style=\"text-align:center\">Ruido<br/>incorporado</th>\n",
    "      <th style=\"text-align:center\">Optimizacion<br/>activada</th>\n",
    "      <th style=\"text-align:center\">Num.<br/>Iteraciones</th>\n",
    "      <th style=\"text-align:center\">Energía mínima <br/>(autovalor)</th>\n",
    "  </tr>\n",
    "  <tr>\n",
    "    <td style=\"text-align:center\"><b>SPSA</b></td>\n",
    "    <td style=\"text-align:center\">Aer Simulator</td>\n",
    "    <td style=\"text-align:center\"><i class='fa fa-close' aria-hidden=\"true\" style='color: #ff392e'></i></td>\n",
    "    <td style=\"text-align:center\"><i class='fa fa-close' aria-hidden=\"true\" style='color: #ff392e'></i></td>\n",
    "    <td style=\"text-align:center\">300</td>\n",
    "    <td style=\"text-align:center\">-4.092961599426855</td>\n",
    "  </tr>\n",
    "  <tr>\n",
    "    <td style=\"text-align:center\"><b>Rotosolve</b></td>\n",
    "    <td style=\"text-align:center\">Aer Simulator</td>\n",
    "    <td style=\"text-align:center\"><i class='fa fa-close' aria-hidden=\"true\" style='color: #ff392e'></i></td>\n",
    "    <td style=\"text-align:center\"><i class='fa fa-close' aria-hidden=\"true\" style='color: #ff392e'></i></td>\n",
    "    <td style=\"text-align:center\">66</td>\n",
    "    <td style=\"text-align:center\">-4.090385692923965</td>\n",
    "  </tr>\n",
    "  <tr>\n",
    "    <td style=\"text-align:center\"><b>Rotosolve</b></td>\n",
    "    <td style=\"text-align:center\">Aer Simulator + ibmq_lima</td>\n",
    "    <td style=\"text-align:center\"><i class=\"fa fa-check\" aria-hidden=\"true\" style='color: #4ed34e'></i></td>\n",
    "    <td style=\"text-align:center\"><i class='fa fa-close' aria-hidden=\"true\" style='color: #ff392e'></i></td>\n",
    "    <td style=\"text-align:center\">66</td>\n",
    "    <td style=\"text-align:center\"><b>-4.090385694416840</b></td>\n",
    "  </tr>\n",
    "  <tr>\n",
    "    <td style=\"text-align:center\"><b>Rotosolve</b></td>\n",
    "    <td style=\"text-align:center\">Aer Simulator + ibmq_lima</td>\n",
    "    <td style=\"text-align:center\"><i class=\"fa fa-check\" aria-hidden=\"true\" style='color: #4ed34e'></i></td>\n",
    "    <td style=\"text-align:center\"><i class=\"fa fa-check\" aria-hidden=\"true\" style='color: #4ed34e'></i></td>\n",
    "    <td style=\"text-align:center\">66</td>\n",
    "    <td style=\"text-align:center\">-4.090385693670182</td>\n",
    "  </tr>\n",
    "  <tr>\n",
    "    <td style=\"text-align:center\"><b>Rotosolve</b></td>\n",
    "    <td style=\"text-align:center\">Aer Simulator + FakeLima</td>\n",
    "    <td style=\"text-align:center\"><i class=\"fa fa-check\" aria-hidden=\"true\" style='color: #4ed34e'></i></td>\n",
    "    <td style=\"text-align:center\"><i class='fa fa-close' aria-hidden=\"true\" style='color: #ff392e'></i></td>\n",
    "    <td style=\"text-align:center\">66</td>\n",
    "    <td style=\"text-align:center\">-4.090385693670182</td>\n",
    "  </tr>\n",
    "  <tr>\n",
    "    <td style=\"text-align:center\"><b>Rotosolve</b></td>\n",
    "    <td style=\"text-align:center\">Aer Simulator + FakeLima</td>\n",
    "    <td style=\"text-align:center\"><i class=\"fa fa-check\" aria-hidden=\"true\" style='color: #4ed34e'></i></td>\n",
    "    <td style=\"text-align:center\"><i class=\"fa fa-check\" aria-hidden=\"true\" style='color: #4ed34e'></i></td>\n",
    "    <td style=\"text-align:center\">66</td>\n",
    "    <td style=\"text-align:center\">-4.090385693670182</td>\n",
    "  </tr>\n",
    "</table>"
   ]
  },
  {
   "cell_type": "markdown",
   "id": "6c50325e",
   "metadata": {},
   "source": [
    "Tras una serie de pruebas, la combinación del simulador local con los parámetros del computador cuántico real (<b>Aer Simulator + ibmq_lima</b>) dan los mejores resultados, es un hecho inesperado porque podemos llegar a pensar que los parámetros del computador cuántico simulado pueden estar más afinados. Por otra parte, resulta curioso el hecho de haber desactivado la optimización para obtener mejores resultados, esto nos dice que el proceso de optimización genera algún tipo de ruido adicional que penaliza el valor de la energía.\n",
    "\n",
    "\n",
    "De igual manera, se ha obtenido una optimización muy fuerte desde la primera iteración del algoritmo Rotosolve, es decir, desde el inicio se ha obtenido el valor mínimo de la energía que buscábamos, haciendo que en las siguientes iteraciones se refine su décimo decimal, es una gran sorpresa la rápida convergencia del algoritmo Rotosolve a su valor mínimo.\n",
    "\n",
    "\n",
    "En la primera gráfica, ya se observa que el descenso de la energía aparece desde el décimo dígito decimal cayendo en picado. En la segunda gráfica se muestra una imagen general de la curva de optimización y vemos que la gráfica es plana porque ya se encuentra en su valor mínimo desde la primera iteración.\n",
    "\n",
    "\n",
    "- El valor de la energía mínima es: <b>-4.090385694416840</b>"
   ]
  },
  {
   "cell_type": "markdown",
   "id": "ce4c9555",
   "metadata": {},
   "source": [
    "(sec_Conclusiones_optimizadores)= \n",
    "## Conclusiones"
   ]
  },
  {
   "cell_type": "markdown",
   "id": "9eff1982",
   "metadata": {},
   "source": [
    "Hemos visto cómo los optimizadores puede hacer que llegemos a una solución con pocas iteraciones, independientemente del framework de que usemos ya sea Qiskit o Pennylane.\n",
    "<br/>\n",
    "<br/>\n",
    "Usar un optimizador un circuito no es nada trivial, es podible que un optimizador funcione mejor o peor con un ansatz, por ello hay que buscar un consenso entre un buen ansatz que se adapte al problema y un optimizador que sea capaz de obtener el resultado esperado en pocas iteraciones."
   ]
  },
  {
   "cell_type": "markdown",
   "id": "ce88864f",
   "metadata": {},
   "source": []
  },
  {
   "cell_type": "code",
   "execution_count": 16,
   "id": "9be9d18f",
   "metadata": {},
   "outputs": [
    {
     "data": {
      "text/html": [
       "<h3>Version Information</h3><table><tr><th>Software</th><th>Version</th></tr><tr><td><code>qiskit</code></td><td>0.45.2</td></tr><tr><td><code>qiskit_ibm_runtime</code></td><td>0.20.0</td></tr><tr><td><code>qiskit_aer</code></td><td>0.13.2</td></tr><tr><td><code>qiskit_ibm_provider</code></td><td>0.8.0</td></tr><tr><th colspan='2'>System information</th></tr><tr><td>Python version</td><td>3.11.7</td></tr><tr><td>Python compiler</td><td>GCC 12.3.0</td></tr><tr><td>Python build</td><td>main, Dec 23 2023 14:43:09</td></tr><tr><td>OS</td><td>Linux</td></tr><tr><td>CPUs</td><td>10</td></tr><tr><td>Memory (Gb)</td><td>15.34124755859375</td></tr><tr><td colspan='2'>Wed Jun 12 10:15:28 2024 CEST</td></tr></table>"
      ],
      "text/plain": [
       "<IPython.core.display.HTML object>"
      ]
     },
     "metadata": {},
     "output_type": "display_data"
    }
   ],
   "source": [
    "import qiskit.tools.jupyter\n",
    "%qiskit_version_table"
   ]
  },
  {
   "cell_type": "markdown",
   "id": "5d74f55d",
   "metadata": {
    "slideshow": {
     "slide_type": ""
    },
    "tags": []
   },
   "source": [
    "---\n",
    "Authors:\n",
    "\n",
    "Irais Bautista ([CESGA](http://www.cesga.es)), Sergio Martínez ([BIFi-UNIZAR](https://bifi.es/es/)), Jaime Scharfhausen ([UAM](https://www.uam.es/uam/inicio)) y Alejandro Jaramillo ([CSUC](https://www.csuc.cat/es))\n",
    "\n",
    "<img src=\"https://quantumspain-project.es/wp-content/uploads/2022/11/CESGA.png\" width=\"150px\">\n",
    "<img src=\"http://bifi.es/wp-content/uploads/2016/11/logo_vectorial-web.png\" width=\"200px\">\n",
    "<img src=\"https://www.iib.uam.es/iiblf6theme-theme/images/custom/logo-uam.png\" width = \"200px\">\n",
    "<img src=\"https://www.csuc.cat/sites/default/files/2021-02/CSUC_logo_corporatiu_0.png\" width = \"200px\">\n",
    "\n",
    "\n",
    "---\n",
    "::::{figure} https://quantumspain-project.es/wp-content/uploads/2022/11/Logo_QS_EspanaDigital.png\n",
    ":width: 2000px\n",
    ":align: center\n",
    "::::\n",
    "\n",
    "<center>\n",
    "<a rel=\"license\" href=\"http://creativecommons.org/licenses/by-sa/4.0/\">\n",
    "<img aling=\"left\" alt=\"Licencia Creative Commons\" style=\"border-width:0\" src=\"https://i.creativecommons.org/l/by-sa/4.0/88x31.png\" /></a>\n",
    "</center>\n",
    "\n",
    "License: <a rel=\"license\" href=\"http://creativecommons.org/licenses/by-sa/4.0/\">Licencia Creative Commons Atribución-CompartirIgual 4.0 Internacional</a>.\n",
    "\n",
    "This work has been financially supported by the Ministry for Digital Transformation and of Civil Service of the Spanish Government through the QUANTUM ENIA project call - Quantum Spain project, and by the European Union through the Recovery, Transformation and Resilience Plan - NextGenerationEU within the framework of the Digital Spain 2026 Agenda.\n",
    "\n",
    "<center>\n",
    "<img align=\"left\" src=\"https://quantumspain-project.es/wp-content/uploads/2024/02/Banner-QS_GOB_v2.png\" width=\"1000px\" />\n",
    "</center>"
   ]
  }
 ],
 "metadata": {
  "celltoolbar": "Tags",
  "kernelspec": {
   "display_name": "Python 3 (ipykernel)",
   "language": "python",
   "name": "python3"
  },
  "language_info": {
   "codemirror_mode": {
    "name": "ipython",
    "version": 3
   },
   "file_extension": ".py",
   "mimetype": "text/x-python",
   "name": "python",
   "nbconvert_exporter": "python",
   "pygments_lexer": "ipython3",
   "version": "3.11.7"
  },
  "toc": {
   "base_numbering": 1,
   "nav_menu": {},
   "number_sections": false,
   "sideBar": true,
   "skip_h1_title": true,
   "title_cell": "Table of Contents",
   "title_sidebar": "Contents",
   "toc_cell": false,
   "toc_position": {},
   "toc_section_display": true,
   "toc_window_display": false
  },
  "vscode": {
   "interpreter": {
    "hash": "b3c50f5b1d1b6c9a9e19128d59d33acdcdcce0820827aa2654487d1e3ddd0b6f"
   }
  },
  "widgets": {
   "application/vnd.jupyter.widget-state+json": {
    "state": {
     "22acb641dff44ad1a1bb89e86e46620d": {
      "model_module": "@jupyter-widgets/controls",
      "model_module_version": "2.0.0",
      "model_name": "HTMLModel",
      "state": {
       "_dom_classes": [],
       "_model_module": "@jupyter-widgets/controls",
       "_model_module_version": "2.0.0",
       "_model_name": "HTMLModel",
       "_view_count": null,
       "_view_module": "@jupyter-widgets/controls",
       "_view_module_version": "2.0.0",
       "_view_name": "HTMLView",
       "description": "",
       "description_allow_html": false,
       "layout": "IPY_MODEL_884285ef383049f18fb23f2bc08069cd",
       "placeholder": "​",
       "style": "IPY_MODEL_aacf57ac75f3473ea69bd230af110fae",
       "tabbable": null,
       "tooltip": null,
       "value": "<p style='font-family: IBM Plex Sans, Arial, Helvetica, sans-serif; font-size: 20px; font-weight: medium;'>Circuit Properties</p>"
      }
     },
     "884285ef383049f18fb23f2bc08069cd": {
      "model_module": "@jupyter-widgets/base",
      "model_module_version": "2.0.0",
      "model_name": "LayoutModel",
      "state": {
       "_model_module": "@jupyter-widgets/base",
       "_model_module_version": "2.0.0",
       "_model_name": "LayoutModel",
       "_view_count": null,
       "_view_module": "@jupyter-widgets/base",
       "_view_module_version": "2.0.0",
       "_view_name": "LayoutView",
       "align_content": null,
       "align_items": null,
       "align_self": null,
       "border_bottom": null,
       "border_left": null,
       "border_right": null,
       "border_top": null,
       "bottom": null,
       "display": null,
       "flex": null,
       "flex_flow": null,
       "grid_area": null,
       "grid_auto_columns": null,
       "grid_auto_flow": null,
       "grid_auto_rows": null,
       "grid_column": null,
       "grid_gap": null,
       "grid_row": null,
       "grid_template_areas": null,
       "grid_template_columns": null,
       "grid_template_rows": null,
       "height": null,
       "justify_content": null,
       "justify_items": null,
       "left": null,
       "margin": "0px 0px 10px 0px",
       "max_height": null,
       "max_width": null,
       "min_height": null,
       "min_width": null,
       "object_fit": null,
       "object_position": null,
       "order": null,
       "overflow": null,
       "padding": null,
       "right": null,
       "top": null,
       "visibility": null,
       "width": null
      }
     },
     "aacf57ac75f3473ea69bd230af110fae": {
      "model_module": "@jupyter-widgets/controls",
      "model_module_version": "2.0.0",
      "model_name": "HTMLStyleModel",
      "state": {
       "_model_module": "@jupyter-widgets/controls",
       "_model_module_version": "2.0.0",
       "_model_name": "HTMLStyleModel",
       "_view_count": null,
       "_view_module": "@jupyter-widgets/base",
       "_view_module_version": "2.0.0",
       "_view_name": "StyleView",
       "background": null,
       "description_width": "",
       "font_size": null,
       "text_color": null
      }
     }
    },
    "version_major": 2,
    "version_minor": 0
   }
  }
 },
 "nbformat": 4,
 "nbformat_minor": 5
}