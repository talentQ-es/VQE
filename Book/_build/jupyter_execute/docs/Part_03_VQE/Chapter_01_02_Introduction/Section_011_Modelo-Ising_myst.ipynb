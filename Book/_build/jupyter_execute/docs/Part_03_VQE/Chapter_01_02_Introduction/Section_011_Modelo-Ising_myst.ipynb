{
 "cells": [
  {
   "cell_type": "markdown",
   "id": "0ec3d300",
   "metadata": {
    "slideshow": {
     "slide_type": "-"
    },
    "tags": []
   },
   "source": [
    "> May 06, 2024 | {sub-ref}`wordcount-minutes` min read\n",
    "\n",
    "::::{figure} https://quantumspain-project.es/wp-content/uploads/2022/11/Logo_QS_EspanaDigital.png\n",
    ":width: 1000px\n",
    ":align: left\n",
    "::::\n",
    "\n",
    "\n",
    "\n",
    "Authors:\n",
    "* Irais Bautista ([CESGA](http://www.cesga.es)), Sergio Martínez ([BIFi-UNIZAR](https://bifi.es/es/)), Jaime Scharfhausen ([UAM](https://www.uam.es/uam/inicio)) y Alejandro Jaramillo ([CSUC](https://www.csuc.cat/es))\n",
    "\n",
    "<img src=\"https://quantumspain-project.es/wp-content/uploads/2022/11/CESGA.png\" width=\"100px\">\n",
    "<img src=\"http://bifi.es/wp-content/uploads/2016/11/logo_vectorial-web.png\" width=\"200px\">\n",
    "<img src=\"https://www.iib.uam.es/iiblf6theme-theme/images/custom/logo-uam.png\" width = \"200px\">\n",
    "<img src=\"https://www.csuc.cat/sites/default/files/2021-02/CSUC_logo_corporatiu_0.png\" width = \"200px\">"
   ]
  },
  {
   "cell_type": "markdown",
   "id": "c1bf6d1a-3388-44db-b7ca-07fc8c6836ac",
   "metadata": {},
   "source": [
    "(sec_El_Modelo_de_Ising_con_el_algoritmo_VQE)= \n",
    "# El Modelo de Ising con el algoritmo VQE"
   ]
  },
  {
   "cell_type": "code",
   "execution_count": 1,
   "id": "8dd6c9c3",
   "metadata": {
    "scrolled": true,
    "slideshow": {
     "slide_type": ""
    },
    "tags": [
     "hide-input",
     "remove-output"
    ]
   },
   "outputs": [
    {
     "name": "stderr",
     "output_type": "stream",
     "text": [
      "/tmp/ipykernel_6740/2196755265.py:19: DeprecationWarning: ``qiskit.algorithms`` has been migrated to an independent package: https://github.com/qiskit-community/qiskit-algorithms. The ``qiskit.algorithms`` import path is deprecated as of qiskit-terra 0.25.0 and will be removed no earlier than 3 months after the release date. Please run ``pip install qiskit_algorithms`` and use ``import qiskit_algorithms`` instead.\n",
      "  from qiskit.algorithms.optimizers import COBYLA, SPSA, POWELL\n",
      "[Qibo 0.1.12.dev0|INFO|2024-05-22 12:59:29]: Using numpy backend on /CPU:0\n"
     ]
    }
   ],
   "source": [
    "# Librerías generales\n",
    "import numpy as np\n",
    "from collections import defaultdict\n",
    "from functools import reduce\n",
    "from itertools import product\n",
    "import random\n",
    "import scipy\n",
    "import matplotlib.pyplot as plt\n",
    "\n",
    "# Librerías Qibo\n",
    "import qibo\n",
    "from qibo import models, gates, hamiltonians\n",
    "from qibo import matrices as m\n",
    "\n",
    "# Librerías Qiskit\n",
    "import qiskit\n",
    "from qiskit import IBMQ, QuantumCircuit, QuantumRegister, ClassicalRegister, Aer, execute, transpile\n",
    "from qiskit.visualization import plot_bloch_multivector\n",
    "from qiskit.algorithms.optimizers import COBYLA, SPSA, POWELL\n",
    "from qiskit.primitives import Estimator\n",
    "from qiskit.algorithms.minimum_eigensolvers import VQE\n",
    "from qiskit.utils import QuantumInstance, algorithm_globals\n",
    "from qiskit.opflow import X, Z, I, Y\n",
    "from qiskit.circuit.library import TwoLocal\n",
    "from qiskit.tools.parallel import parallel_map\n",
    "\n",
    "random.seed()\n",
    "\n",
    "qibo.set_backend(\"numpy\")\n",
    "\n",
    "%matplotlib inline"
   ]
  },
  {
   "cell_type": "markdown",
   "id": "3201b545",
   "metadata": {
    "slideshow": {
     "slide_type": ""
    },
    "tags": []
   },
   "source": [
    ":::{contents}\n",
    ":local:\n",
    ":depth: 1\n",
    ":::\n"
   ]
  },
  {
   "cell_type": "markdown",
   "id": "8d67bb2c",
   "metadata": {},
   "source": [
    "(sec_Introduccion_al_Modelo_de_Ising)= \n",
    "# Introducción al Modelo de Ising"
   ]
  },
  {
   "cell_type": "markdown",
   "id": "374b2e07",
   "metadata": {},
   "source": [
    "El Modelo de Ising es un modelo para entender los materiales magnéticos en términos de los *spines* de los átomos y los electrones que lo forman. Pdemos imaginar el sólido magnético como una red cristalina, y en cada uno de los nodos tenemos una flecha que apunta hacia arriba ($\\uparrow$) o hacia abajo ($\\downarrow$). Si dos flechas contiguas apuntan en la misma dirección ($\\uparrow \\uparrow$ o $\\downarrow \\downarrow$), esta unión tiene una contribución negativa a la energía del sistema: el sistema tiende a alinear los *spines* entre si. Por otro lado si las flechas apuntan en direcciones contrarias ($\\uparrow \\downarrow$), la energía de esa unión es positiva: al sistema le \"cuesta\" mantener flechas en direcciones opuestas.\n",
    "\n",
    "\n",
    "Existen dos factores externos que pueden condicionar el estado del sistema: el campo magnético y la temperatura a los que lo sometemos. Por un lado, si introducimos un campo magnético apuntando hacia arriba, los *spines* tienden a alinearse con el campo, por lo que todos querrán apuntar hacia arriba. Por otro lado, si calentamos mucho el sistema, las excitaciones térmicas provocarán que los *spines* se agiten, cambiando de dirección y desordenándose.\n",
    "\n",
    "\n",
    "En el caso cuántico, las fluctuaciones cuánticas del sistema provocan cambios en estos spines incluso a temperatura cero, permitiendo la existencia de transiciones de fase cuánticas."
   ]
  },
  {
   "cell_type": "markdown",
   "id": "2feaf91c",
   "metadata": {
    "slideshow": {
     "slide_type": ""
    },
    "tags": []
   },
   "source": [
    "Podemos expresar el Hamiltoniano del sistema como:\n",
    "\n",
    "$$\n",
    "\\mathcal{H} = - J \\sum_{\\langle i,j \\rangle} \\sigma_i \\sigma_j - h \\sum_i \\sigma_i \\;,\n",
    "$$\n",
    "\n",
    "donde $J$ es la contribución energética de la interacción de dos *spines* adyacentes (fijémonos en que en el primer sumatorio solo se suma a primeros vecinos, $\\langle i,j \\rangle$) y $h$ está relacionado con este campo magnético externo. $\\sigma_i$ es la \"etiqueta\" del *spin* y vale $+1$ o $-1$ según apunte hacia arriba o hacia abajo.\n",
    "\n",
    "\n",
    "Este problema puede complicarse dados diferentes factores microcópicos como la estructura cristalina o incluso tener interacciones más allá de los primeros vecinos, lo que requiere métodos aproximados para solucionarlo. No obstante, hay dos casos especiales para los que existe una solución exacta y analítica del modelo: cuando el sistema tiene solo una dimensión o cuando el sistema tiene dos dimensiones y una estructura cuadrada."
   ]
  },
  {
   "cell_type": "markdown",
   "id": "4d946faa",
   "metadata": {
    "slideshow": {
     "slide_type": ""
    },
    "tags": []
   },
   "source": [
    "(sec_El_Modelo_de_Ising_1D)= \n",
    "### El Modelo de Ising 1D"
   ]
  },
  {
   "cell_type": "markdown",
   "id": "40bc27d8",
   "metadata": {
    "slideshow": {
     "slide_type": ""
    },
    "tags": []
   },
   "source": [
    "Vamos a analizar el caso cuántico de la cadena de Ising **unidimensional**. Precisamente por la naturaleza cuántica del problema podemos utilizar las matrices de Pauli para caracterizar el Hamiltoniano, dando lugar a una nueva forma del operador {cite}`bib_cervera_lierta_exact_2018`: \n",
    "\n",
    "$$\n",
    "\\mathcal{H} = -J \\sum_{i=1}^N X_i X_{i+1} - J g \\sum_i Z_i \\;,\n",
    "$$\n",
    "\n",
    "siendo $N$ la longitud de la cadena y, de nuevo, $J$ está relacionado con la energía del sistema y $g$ con la intensidad del campo magnético a primeros vecinos. $X_i$ y $Z_i$ son operadores de Pauli como los que introducíamos al principio de este documento, actuando sobre el *spin* en posición $i$.\n",
    "\n",
    "\n",
    "Este modelo se conoce como **transverse field Ising Model**. A veces se define $\\Gamma = J g$, donde $\\Gamma$ se conoce como campo transverso."
   ]
  },
  {
   "cell_type": "markdown",
   "id": "7d1d57fe",
   "metadata": {
    "slideshow": {
     "slide_type": ""
    },
    "tags": []
   },
   "source": [
    "::::::{admonition} Nota (Notación reducida) \n",
    ":class: note\n",
    "\n",
    "\n",
    "    \n",
    "En lo que a la descomposición de Pauli se refiere, los productos anteriores realmente son productos tensoriales de operadores para las partículas $i$ e $i+1$, teniendo identidades en el resto de posiciones. Por ejemplo, para una cadena de tres <i>spines</i>, $N=3$,  \n",
    "\n",
    "$$\n",
    "\\mathcal{H} = -J(X \\otimes X \\otimes I + I \\otimes X \\otimes X + X \\otimes I \\otimes X) - J g (Z \\otimes I \\otimes I + I \\otimes Z \\otimes I + I \\otimes I \\otimes Z) \\;,\n",
    "$$    \n",
    "donde hemos tomado condiciones de contorno periódicas ($\\sigma_{N+1} \\rightarrow \\sigma_1$).\n",
    "\n",
    "::::::\n"
   ]
  },
  {
   "cell_type": "code",
   "execution_count": 2,
   "id": "6311b89f-3377-4d02-87a9-289522f6b674",
   "metadata": {
    "slideshow": {
     "slide_type": ""
    },
    "tags": [
     "hide-input"
    ]
   },
   "outputs": [],
   "source": [
    "PAULIS = {\n",
    "    \"I\": np.eye(2, dtype=complex),\n",
    "    \"X\": np.array([[0,1],[1,0]], dtype=complex),\n",
    "    \"Y\": np.array([[0,-1j],[1j,0]], dtype=complex),\n",
    "    \"Z\": np.array([[1,0],[0,-1]], dtype=complex)\n",
    "}"
   ]
  },
  {
   "cell_type": "markdown",
   "id": "d1ec3c35",
   "metadata": {
    "slideshow": {
     "slide_type": ""
    },
    "tags": []
   },
   "source": [
    "Vamos a redefinir nuestras constantes del problema $J$ y $g$ de forma que podamos expresarlas como magnitudes relativas, escribiendo nuestro operador como \n",
    "\n",
    "$$\n",
    "\\mathcal{H} = \\sum_{i=1}^N X_i X_{i+1} + \\gamma \\sum_i Z_i \\;.\n",
    "$$\n",
    "\n",
    "Ahora los signos ($-$) han pasado a ser positivos y solo tenemos una constante de acoplo, $\\gamma$. Esto implica que, cuando $\\gamma$ es positivo estamos en el caso ferromagnético y cuando es negativo en el antiferromagnético.\n",
    "\n",
    "\n",
    "La función que implementa esto es la siguiente:"
   ]
  },
  {
   "cell_type": "markdown",
   "id": "f8820d7a",
   "metadata": {},
   "source": [
    ":::::{tab-set}\n",
    "::::{tab-item} Qibo\n",
    "```python\n",
    "\n",
    "def ising_chain_ham_qibo(n, gam):\n",
    "    \n",
    "    # Esta función nos devuelve el Hamiltoniano en términos utilizables por los algoritmos de Qibo\n",
    "    # n = number of spin positions\n",
    "    # gam = transverse field parameter\n",
    "\n",
    "    from qibo.symbols import X, Z\n",
    "\n",
    "    sym_X = sum(X(i) * X(i+1) for i in range(n-1)) + (X(0) * X(n-1))\n",
    "    sym_Z = sum(Z(i) for i in range(n))\n",
    "    sym_H = sym_X + gam * sym_Z\n",
    "\n",
    "    H = hamiltonians.SymbolicHamiltonian(sym_H)\n",
    "    \n",
    "    return H, H.matrix\n",
    "```\n",
    "::::\n",
    "::::{tab-item} Qiskit\n",
    "```python\n",
    "\n",
    "def ising_chain_ham(n, gam):\n",
    "    \n",
    "    # Esta función nos devuelve el Hamiltoniano en términos utilizables por los algoritmos de Qiskit\n",
    "    # n = number of spin positions\n",
    "    # gam = transverse field parameter\n",
    "    \n",
    "    for i in range(n):\n",
    "        vecX = [I] * n\n",
    "        vecZ = [I] * n\n",
    "        vecX[i] = X\n",
    "        vecZ[i] = Z\n",
    "        \n",
    "        if i == n - 1:\n",
    "            vecX[0] = X\n",
    "        else:\n",
    "            vecX[i+1] = X\n",
    "\n",
    "        auxX = vecX[0]\n",
    "        auxZ = vecZ[0]\n",
    "        \n",
    "        for a in vecX[1:n]:\n",
    "            auxX = auxX ^ a\n",
    "        for b in vecZ[1:n]:\n",
    "            auxZ = auxZ ^ b\n",
    "            \n",
    "        if i == 0:\n",
    "            H = (auxX) + (gam * auxZ)\n",
    "        else:\n",
    "            H = H + (auxX) + (gam * auxZ)\n",
    "\n",
    "    return H\n",
    "\n",
    "\n",
    "def ising_chain_matrix(n, gam):\n",
    "    \n",
    "    # Esta función devuelve el Hamiltoniano como un array (lista de listas)\n",
    "      \n",
    "    for i in range(n):\n",
    "        HX = [PAULIS[\"I\"]] * n\n",
    "        HZ = [PAULIS[\"I\"]] * n\n",
    "        HX[i] = PAULIS[\"X\"]\n",
    "        HZ[i] = PAULIS[\"Z\"]\n",
    "        \n",
    "        if i == n - 1:\n",
    "            HX[0] = PAULIS[\"X\"]\n",
    "        else:\n",
    "            HX[i+1] = PAULIS[\"X\"]\n",
    "            \n",
    "        aux = reduce(np.kron, HZ)\n",
    "        aux = [val * gam for val in aux]\n",
    "        \n",
    "        if i == 0:\n",
    "            H = reduce(np.kron, HX) + aux\n",
    "        else:            \n",
    "            H = H + reduce(np.kron, HX) + aux\n",
    "        \n",
    "    return H\n",
    "```\n",
    "::::\n",
    ":::::\n"
   ]
  },
  {
   "cell_type": "code",
   "execution_count": 3,
   "id": "41a660be",
   "metadata": {
    "tags": [
     "remove_input"
    ]
   },
   "outputs": [],
   "source": [
    "'''Qibo_code_cell'''\n",
    "\n",
    "def ising_chain_ham_qibo(n, gam):\n",
    "    \n",
    "    # Esta función nos devuelve el Hamiltoniano en términos utilizables por los algoritmos de Qibo\n",
    "    # n = number of spin positions\n",
    "    # gam = transverse field parameter\n",
    "\n",
    "    from qibo.symbols import X, Z\n",
    "\n",
    "    sym_X = sum(X(i) * X(i+1) for i in range(n-1)) + (X(0) * X(n-1))\n",
    "    sym_Z = sum(Z(i) for i in range(n))\n",
    "    sym_H = sym_X + gam * sym_Z\n",
    "\n",
    "    H = hamiltonians.SymbolicHamiltonian(sym_H)\n",
    "    \n",
    "    return H, H.matrix"
   ]
  },
  {
   "cell_type": "markdown",
   "id": "d719839d",
   "metadata": {
    "slideshow": {
     "slide_type": ""
    },
    "tags": []
   },
   "source": [
    "Vamos a resolver una cadena de Ising de $N = 4$ *spines*. Entonces prepararemos el Hamiltoniano y después le haremos una serie de transformaciones que nos permiten diagonalizarlo.\n",
    "\n",
    "\n",
    "Empezamos por escribir nuestro operador. Como tenemos $N=4$ <i>spines</i>, el operador será \n",
    "\n",
    "$$\n",
    "\\mathcal{H} = X_1X_2I_3I_4 + I_1X_2X_3I_4 + I_1I_2X_3X_4 + X_1I_2I_3X_4 + \\gamma (Z_1I_2I_3I_4 + I_1Z_2I_3I_4 + I_1I_2Z_3I_4 + I_1I_2I_3Z_4)\n",
    "$$\n",
    "\n",
    "Tomemos un valor de $\\gamma$ pequeño, por ejemplo, $\\gamma = 0.3$."
   ]
  },
  {
   "cell_type": "markdown",
   "id": "837e7fa9",
   "metadata": {},
   "source": [
    ":::::{tab-set}\n",
    "::::{tab-item} Qibo\n",
    "```python\n",
    "\n",
    "# Definimos el Hamiltoniano\n",
    "n = 4\n",
    "gam = .3\n",
    "\n",
    "op_H, matrix = ising_chain_ham_qibo(n,gam)\n",
    "```\n",
    "::::\n",
    "::::{tab-item} Qiskit\n",
    "```python\n",
    "\n",
    "# Definimos el Hamiltoniano\n",
    "n = 4\n",
    "gam = 0.3\n",
    "op_H = ising_chain_ham(n,gam)\n",
    "matrix = ising_chain_matrix(n, gam)\n",
    "```\n",
    "::::\n",
    ":::::\n"
   ]
  },
  {
   "cell_type": "code",
   "execution_count": 4,
   "id": "d2dcca0e",
   "metadata": {
    "tags": [
     "remove_input"
    ]
   },
   "outputs": [
    {
     "name": "stderr",
     "output_type": "stream",
     "text": [
      "[Qibo 0.1.12.dev0|WARNING|2024-05-22 12:59:29]: Calculating the dense form of a symbolic Hamiltonian. This operation is memory inefficient.\n"
     ]
    }
   ],
   "source": [
    "'''Qibo_code_cell'''\n",
    "\n",
    "# Definimos el Hamiltoniano\n",
    "n = 4\n",
    "gam = .3\n",
    "\n",
    "op_H, matrix = ising_chain_ham_qibo(n,gam)"
   ]
  },
  {
   "cell_type": "markdown",
   "id": "83ebe5e2",
   "metadata": {},
   "source": [
    ":::::{tab-set}\n",
    "::::{tab-item} Qibo\n",
    "```python\n",
    "\n",
    "# Ahora creamos un circuito variacional de ansatz\n",
    "# En este caso usamos un circuito de puertas RY(theta) y CZ, haciendo los diferentes valores de theta aleatorios\n",
    "\n",
    "nqubits = n\n",
    "nlayers  = 8\n",
    "\n",
    "circuit = models.Circuit(nqubits)\n",
    "\n",
    "for l in range(nlayers):\n",
    "    circuit.add((gates.RY(q, theta=0) for q in range(nqubits)))\n",
    "    circuit.add((gates.CZ(q, q+1) for q in range(0, nqubits-1, 2)))\n",
    "    circuit.add((gates.RY(q, theta=0) for q in range(nqubits)))\n",
    "    circuit.add((gates.CZ(q, q+1) for q in range(1, nqubits-2, 2)))\n",
    "    circuit.add(gates.CZ(0, nqubits-1))\n",
    "    \n",
    "circuit.add((gates.RY(q, theta=0) for q in range(nqubits)))\n",
    "```\n",
    "::::\n",
    "::::{tab-item} Qiskit\n",
    "```python\n",
    "\n",
    "# Ahora creamos un circuito variacional de ansatz\n",
    "# En este caso usamos un circuito de puertas RY(theta) y CZ, haciendo los diferentes valores de theta aleatorios\n",
    "\n",
    "ansatz_circ = TwoLocal(num_qubits=n, rotation_blocks='ry', entanglement_blocks='cz')\n",
    "```\n",
    "::::\n",
    ":::::\n"
   ]
  },
  {
   "cell_type": "code",
   "execution_count": 5,
   "id": "d94014e4",
   "metadata": {
    "tags": [
     "remove_input"
    ]
   },
   "outputs": [],
   "source": [
    "'''Qibo_code_cell'''\n",
    "\n",
    "# Ahora creamos un circuito variacional de ansatz\n",
    "# En este caso usamos un circuito de puertas RY(theta) y CZ, haciendo los diferentes valores de theta aleatorios\n",
    "\n",
    "nqubits = n\n",
    "nlayers  = 8\n",
    "\n",
    "circuit = models.Circuit(nqubits)\n",
    "\n",
    "for l in range(nlayers):\n",
    "    circuit.add((gates.RY(q, theta=0) for q in range(nqubits)))\n",
    "    circuit.add((gates.CZ(q, q+1) for q in range(0, nqubits-1, 2)))\n",
    "    circuit.add((gates.RY(q, theta=0) for q in range(nqubits)))\n",
    "    circuit.add((gates.CZ(q, q+1) for q in range(1, nqubits-2, 2)))\n",
    "    circuit.add(gates.CZ(0, nqubits-1))\n",
    "    \n",
    "circuit.add((gates.RY(q, theta=0) for q in range(nqubits)))"
   ]
  },
  {
   "cell_type": "markdown",
   "id": "279af954",
   "metadata": {
    "slideshow": {
     "slide_type": ""
    },
    "tags": []
   },
   "source": [
    "En este caso, en lugar de utilizar el optimizador SPSA como hicimos en la sección anterior, empleamos uno nuevo: el método de Powell {cite}`bib_powell_efficient_1964`."
   ]
  },
  {
   "cell_type": "markdown",
   "id": "31242b9a-1863-4e72-a73c-f4d3ef305680",
   "metadata": {
    "slideshow": {
     "slide_type": ""
    },
    "tags": []
   },
   "source": [
    "::::::{admonition} Nota (Eficiencia en la optimización) \n",
    ":class: note\n",
    "\n",
    "\n",
    "    \n",
    "El algoritmo de Powell que estamos empleando es considerablemente más eficiente que el resto de algoritmos que hemos probado para este problema específicamente. No obstante, su funcionamiento da lugar a unas gráficas de convergencia que no son particularmente ilustrativas. Si se quiere ver una gráfica en la que realmente se aprecie la convergencia del algoritmo, se puede probar a utilizar el algoritmo COBYLA. No obstante, la ejecución del código tardará un tiempo considerable (del orden de 20 minutos).\n",
    "\n",
    "::::::\n"
   ]
  },
  {
   "cell_type": "markdown",
   "id": "038ac9cb",
   "metadata": {},
   "source": [
    ":::::{tab-set}\n",
    "::::{tab-item} Qibo\n",
    "```python\n",
    "\n",
    "# Especificamos el algorimto de optimización clásica\n",
    "# opt = 'COBYLA'\n",
    "opt = 'Powell'\n",
    "```\n",
    "::::\n",
    "::::{tab-item} Qiskit\n",
    "```python\n",
    "\n",
    "# Especificamos el algorimto de optimización clásica\n",
    "# opt = COBYLA(maxiter = 10000)\n",
    "opt = POWELL()\n",
    "```\n",
    "::::\n",
    ":::::\n"
   ]
  },
  {
   "cell_type": "code",
   "execution_count": 6,
   "id": "b9b9cc66",
   "metadata": {
    "tags": [
     "remove_input"
    ]
   },
   "outputs": [],
   "source": [
    "'''Qibo_code_cell'''\n",
    "\n",
    "# Especificamos el algorimto de optimización clásica\n",
    "# opt = 'COBYLA'\n",
    "opt = 'Powell'"
   ]
  },
  {
   "cell_type": "markdown",
   "id": "3a6c633f-8a6d-4e2a-8cc2-f92feffb672b",
   "metadata": {
    "slideshow": {
     "slide_type": ""
    },
    "tags": []
   },
   "source": [
    "Implementamos unas funciones de callback para poder almacenar los datos de cada iteración y hacer un análisis de la convergencia."
   ]
  },
  {
   "cell_type": "markdown",
   "id": "d22692b6",
   "metadata": {},
   "source": [
    ":::::{tab-set}\n",
    "::::{tab-item} Qibo\n",
    "```python\n",
    "\n",
    "# Esto son funciones auxiliares para guardar los datos de las iteraciones\n",
    "\n",
    "intermediate_info = {\n",
    "    'parameters': [],\n",
    "    'energy': [],\n",
    "    #'stddev': []\n",
    "}\n",
    "\n",
    "def callback(p):\n",
    "    intermediate_info['parameters'].append(p)    \n",
    "    energy, _, _ = vqe.minimize(p, callback = None, method=opt, options = None, compile=False)\n",
    "    intermediate_info['energy'].append(energy)\n",
    "    #intermediate_info['stddev'].append(stddev)\n",
    "```\n",
    "::::\n",
    "::::{tab-item} Qiskit\n",
    "```python\n",
    "\n",
    "# Esto son funciones auxiliares para guardar los datos de las iteraciones\n",
    "\n",
    "counts = []\n",
    "values = []\n",
    "\n",
    "def store_intermediate_result(eval_count, parameters, mean, std):\n",
    "    counts.append(eval_count)\n",
    "    values.append(mean)\n",
    "```\n",
    "::::\n",
    ":::::\n"
   ]
  },
  {
   "cell_type": "code",
   "execution_count": 7,
   "id": "1a1ff42c",
   "metadata": {
    "tags": [
     "remove_input"
    ]
   },
   "outputs": [],
   "source": [
    "'''Qibo_code_cell'''\n",
    "\n",
    "# Esto son funciones auxiliares para guardar los datos de las iteraciones\n",
    "\n",
    "intermediate_info = {\n",
    "    'parameters': [],\n",
    "    'energy': [],\n",
    "    #'stddev': []\n",
    "}\n",
    "\n",
    "def callback(p):\n",
    "    intermediate_info['parameters'].append(p)    \n",
    "    energy, _, _ = vqe.minimize(p, callback = None, method=opt, options = None, compile=False)\n",
    "    intermediate_info['energy'].append(energy)\n",
    "    #intermediate_info['stddev'].append(stddev)"
   ]
  },
  {
   "cell_type": "markdown",
   "id": "479205a0",
   "metadata": {
    "slideshow": {
     "slide_type": ""
    },
    "tags": []
   },
   "source": [
    "Como anticipamos previamente, vamos a hacer uso de la función ```vqe``` que está ya implementada, ya que es considerablemente más eficiente que la que programamos en la sección anterior."
   ]
  },
  {
   "cell_type": "markdown",
   "id": "caf87144",
   "metadata": {},
   "source": [
    ":::::{tab-set}\n",
    "::::{tab-item} Qibo\n",
    "```python\n",
    "\n",
    "# Parámetros del Ansatz\n",
    "initial_parameters = np.random.uniform(-2*np.pi, 2*np.pi, 2*nqubits*nlayers + nqubits)\n",
    "\n",
    "# Construcción del método VQE\n",
    "vqe = models.VQE(circuit, op_H)\n",
    "options = {'disp': True, 'return_all': True}\n",
    "\n",
    "# Y ejecutamos el algoritmo\n",
    "best, params, extra = vqe.minimize(initial_parameters, callback = callback, method=opt, options = options, compile=False)\n",
    "\n",
    "values = intermediate_info['energy']\n",
    "```\n",
    "::::\n",
    "::::{tab-item} Qiskit\n",
    "```python\n",
    "\n",
    "# Simulador/Ordenador cuántico\n",
    "backend = Aer.get_backend('statevector_simulator')\n",
    "\n",
    "# Entorno para la resolución\n",
    "algorithm_globals.random_seed = 63\n",
    "qi = QuantumInstance(backend, seed_transpiler=63, seed_simulator=63)\n",
    "\n",
    "# Algoritmo VQE, introduciendo el ansatz y el optimizador elegidos\n",
    "vqe_proc = VQE(estimator = Estimator() ,ansatz=ansatz_circ, optimizer=opt, callback=store_intermediate_result)\n",
    "vqe_proc.quantum_instance = qi\n",
    "\n",
    "# Resultados\n",
    "sol = vqe_proc.compute_minimum_eigenvalue(operator = op_H)\n",
    "# print(sol, \"\\n\")\n",
    "best = sol.optimal_value\n",
    "```\n",
    "::::\n",
    ":::::\n"
   ]
  },
  {
   "cell_type": "code",
   "execution_count": 8,
   "id": "7d357bf1",
   "metadata": {
    "tags": [
     "remove_input"
    ]
   },
   "outputs": [
    {
     "name": "stdout",
     "output_type": "stream",
     "text": [
      "Optimization terminated successfully.\n",
      "         Current function value: -4.092961\n",
      "         Iterations: 3\n",
      "         Function evaluations: 1892\n"
     ]
    }
   ],
   "source": [
    "'''Qibo_code_cell'''\n",
    "\n",
    "# Parámetros del Ansatz\n",
    "initial_parameters = np.random.uniform(-2*np.pi, 2*np.pi, 2*nqubits*nlayers + nqubits)\n",
    "\n",
    "# Construcción del método VQE\n",
    "vqe = models.VQE(circuit, op_H)\n",
    "options = {'disp': True, 'return_all': True}\n",
    "\n",
    "# Y ejecutamos el algoritmo\n",
    "best, params, extra = vqe.minimize(initial_parameters, callback = callback, method=opt, options = options, compile=False)\n",
    "\n",
    "values = intermediate_info['energy']"
   ]
  },
  {
   "cell_type": "code",
   "execution_count": 9,
   "id": "25069f0d-df65-40b6-a5a4-0fc2a8139520",
   "metadata": {
    "slideshow": {
     "slide_type": ""
    },
    "tags": []
   },
   "outputs": [
    {
     "name": "stdout",
     "output_type": "stream",
     "text": [
      "E_G = -4.092960684193663\n"
     ]
    }
   ],
   "source": [
    "# Y ya vemos el valor de la solución:\n",
    "print(\"E_G =\",best)"
   ]
  },
  {
   "cell_type": "code",
   "execution_count": 10,
   "id": "d3b0cd6c",
   "metadata": {
    "slideshow": {
     "slide_type": ""
    },
    "tags": []
   },
   "outputs": [
    {
     "data": {
      "image/png": "[encoded data removed]",
      "text/plain": [
       "<Figure size 1500x700 with 1 Axes>"
      ]
     },
     "metadata": {},
     "output_type": "display_data"
    }
   ],
   "source": [
    "# Con la información de las iteraciones podemos dibujar la convergencia de nuestro código\n",
    "\n",
    "fontsize = 15\n",
    "\n",
    "plt.rcParams['figure.figsize'] = (15, 7)\n",
    "plt.plot(range(len(values)), values, label=\"Energy value\", color='red')\n",
    "plt.xticks(fontsize = fontsize)\n",
    "plt.yticks(fontsize = fontsize)\n",
    "plt.xlabel('Steps', fontsize = fontsize)\n",
    "plt.ylabel('Energy', fontsize = fontsize)\n",
    "plt.title('Energy convergence for Powell optimizer', fontsize = fontsize)\n",
    "plt.legend(loc='upper right', fontsize = fontsize);\n",
    "plt.show()"
   ]
  },
  {
   "cell_type": "markdown",
   "id": "4c3ae66c",
   "metadata": {
    "slideshow": {
     "slide_type": ""
    },
    "tags": []
   },
   "source": [
    "También comparamos con el valor que obtenemos simplemente de diagonalizar la matriz, ya que, al ser \"pequeña\" ($16 \\times 16$), ```scipy``` no tiene problema en hacerlo."
   ]
  },
  {
   "cell_type": "code",
   "execution_count": 11,
   "id": "90607b2f",
   "metadata": {
    "slideshow": {
     "slide_type": ""
    },
    "tags": []
   },
   "outputs": [
    {
     "name": "stdout",
     "output_type": "stream",
     "text": [
      "E_G = -4.092961599426855\n",
      "Error relativo = 2.2361147770957046e-05 %\n"
     ]
    }
   ],
   "source": [
    "eigvals, eigvecs = scipy.linalg.eig(matrix)\n",
    "\n",
    "print(\"E_G =\", min(eigvals).real)\n",
    "\n",
    "print(\"Error relativo =\", abs((best - min(eigvals).real)/min(eigvals).real) * 100, \"%\")"
   ]
  },
  {
   "cell_type": "markdown",
   "id": "01ab8651",
   "metadata": {
    "slideshow": {
     "slide_type": ""
    },
    "tags": []
   },
   "source": [
    "---\n",
    "## Bibliografía \n",
    "```{bibliography} \n",
    ":style: plain\n",
    ":filter: docname in docnames\n",
    "```"
   ]
  },
  {
   "cell_type": "markdown",
   "id": "7a3a81d2",
   "metadata": {},
   "source": [
    "---\n",
    "<center>\n",
    "<a rel=\"license\" href=\"http://creativecommons.org/licenses/by-sa/4.0/\">\n",
    "<img aling=\"left\" alt=\"Licencia Creative Commons\" style=\"border-width:0\" src=\"https://i.creativecommons.org/l/by-sa/4.0/88x31.png\" /></a>\n",
    "</center>\n",
    "\n",
    "License: <a rel=\"license\" href=\"http://creativecommons.org/licenses/by-sa/4.0/\">Licencia Creative Commons Atribución-CompartirIgual 4.0 Internacional</a>.\n",
    "\n",
    "This work has been financially supported by the Ministry for Digital Transformation and of Civil Service of the Spanish Government through the QUANTUM ENIA project call - Quantum Spain project, and by the European Union through the Recovery, Transformation and Resilience Plan - NextGenerationEU within the framework of the Digital Spain 2026 Agenda.\n",
    "\n",
    "<img align=\"left\" src=\" https://quantumspain-project.es/wp-content/uploads/2024/02/Banner-QS_GOB_v2.png\" width=\"1000px\" />"
   ]
  }
 ],
 "metadata": {
  "celltoolbar": "Tags",
  "kernelspec": {
   "display_name": "Python 3 (ipykernel)",
   "language": "python",
   "name": "python3"
  },
  "language_info": {
   "codemirror_mode": {
    "name": "ipython",
    "version": 3
   },
   "file_extension": ".py",
   "mimetype": "text/x-python",
   "name": "python",
   "nbconvert_exporter": "python",
   "pygments_lexer": "ipython3",
   "version": "3.11.7"
  },
  "toc": {
   "base_numbering": 1,
   "nav_menu": {},
   "number_sections": false,
   "sideBar": true,
   "skip_h1_title": true,
   "title_cell": "Table of Contents",
   "title_sidebar": "Contents",
   "toc_cell": false,
   "toc_position": {},
   "toc_section_display": true,
   "toc_window_display": false
  },
  "vscode": {
   "interpreter": {
    "hash": "9ceb105841182fb6279c9286d3cac6f256262ba5358230452797534895d46c7b"
   }
  }
 },
 "nbformat": 4,
 "nbformat_minor": 5
}