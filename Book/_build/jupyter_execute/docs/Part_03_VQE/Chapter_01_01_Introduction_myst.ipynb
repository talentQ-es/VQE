{
 "cells": [
  {
   "cell_type": "markdown",
   "id": "0ec3d300",
   "metadata": {
    "slideshow": {
     "slide_type": "-"
    },
    "tags": []
   },
   "source": [
    "> May 06, 2024 | {sub-ref}`wordcount-minutes` min read\n",
    "\n",
    "\n"
   ]
  },
  {
   "cell_type": "markdown",
   "id": "d376d716-30a5-4ddf-a603-1ba11f6b9040",
   "metadata": {},
   "source": [
    "(sec_Casos_Sencillos_con_el_Algoritmo_VQE)= \n",
    "# Casos Sencillos con el Algoritmo VQE"
   ]
  },
  {
   "cell_type": "code",
   "execution_count": 1,
   "id": "8dd6c9c3",
   "metadata": {
    "scrolled": true,
    "slideshow": {
     "slide_type": ""
    },
    "tags": [
     "hide-input",
     "remove-output"
    ]
   },
   "outputs": [
    {
     "name": "stderr",
     "output_type": "stream",
     "text": [
      "/tmp/ipykernel_9786/2196755265.py:19: DeprecationWarning: ``qiskit.algorithms`` has been migrated to an independent package: https://github.com/qiskit-community/qiskit-algorithms. The ``qiskit.algorithms`` import path is deprecated as of qiskit-terra 0.25.0 and will be removed no earlier than 3 months after the release date. Please run ``pip install qiskit_algorithms`` and use ``import qiskit_algorithms`` instead.\n",
      "  from qiskit.algorithms.optimizers import COBYLA, SPSA, POWELL\n",
      "[Qibo 0.1.12.dev0|INFO|2024-06-13 07:32:15]: Using numpy backend on /CPU:0\n"
     ]
    }
   ],
   "source": [
    "# Librerías generales\n",
    "import numpy as np\n",
    "from collections import defaultdict\n",
    "from functools import reduce\n",
    "from itertools import product\n",
    "import random\n",
    "import scipy\n",
    "import matplotlib.pyplot as plt\n",
    "\n",
    "# Librerías Qibo\n",
    "import qibo\n",
    "from qibo import models, gates, hamiltonians\n",
    "from qibo import matrices as m\n",
    "\n",
    "# Librerías Qiskit\n",
    "import qiskit\n",
    "from qiskit import IBMQ, QuantumCircuit, QuantumRegister, ClassicalRegister, Aer, execute, transpile\n",
    "from qiskit.visualization import plot_bloch_multivector\n",
    "from qiskit.algorithms.optimizers import COBYLA, SPSA, POWELL\n",
    "from qiskit.primitives import Estimator\n",
    "from qiskit.algorithms.minimum_eigensolvers import VQE\n",
    "from qiskit.utils import QuantumInstance, algorithm_globals\n",
    "from qiskit.opflow import X, Z, I, Y\n",
    "from qiskit.circuit.library import TwoLocal\n",
    "from qiskit.tools.parallel import parallel_map\n",
    "\n",
    "random.seed()\n",
    "\n",
    "qibo.set_backend(\"numpy\")\n",
    "\n",
    "%matplotlib inline"
   ]
  },
  {
   "cell_type": "markdown",
   "id": "3201b545",
   "metadata": {
    "slideshow": {
     "slide_type": ""
    },
    "tags": []
   },
   "source": [
    ":::{contents}\n",
    ":local:\n",
    ":depth: 1\n",
    ":::\n"
   ]
  },
  {
   "cell_type": "markdown",
   "id": "02711fa4",
   "metadata": {},
   "source": [
    "A lo largo de este documento vamos a explicar y ejemplificar el funcionamiento del algoritmo VQE. Para ello haremos uso de la librería de software libre __[Qibo](https://qibo.science/)__. Puede encontrar más información sobre el proceso de instalación [aquí](https://qibo.science/docs/qibo/stable). Así mismo, en la sección {ref}`sec_La_Molécula_de_H2` de este documento hacemos uso de la librería __[OpenFermion](https://quantumai.google/openfermion)__, desarrollada por Google. Puede encontrar [aquí](https://quantumai.google/openfermion/install) instrucciones para su instalación. También en esta sección hacemos uso de la librería de química computacional __[PySCF](https://pyscf.org/)__. Puede consultar las instrucciones de instalación [aquí](https://pyscf.org/install.html)."
   ]
  },
  {
   "cell_type": "markdown",
   "id": "9745b399",
   "metadata": {},
   "source": [
    "(sec_Introducción_al_Algoritmo)= \n",
    "## Introducción al Algoritmo"
   ]
  },
  {
   "cell_type": "markdown",
   "id": "b9285e48",
   "metadata": {},
   "source": [
    "El algoritmo VQE (Variational Quantum Eigensolver) es un algoritmo que busca obtener el autovalor más pequeño de un operador. Se originó en el campo de la química computacional {cite}`bib_peruzzo_variational_2014`, donde se propuso para encontrar el estado fundamental de moléculas, aunque tiene aplicaciones en muchos otros campos {cite}`bib_tilly_variational_2022`.\n",
    "\n",
    "\n",
    "Se trata de un **algoritmo híbrido**, pues combina computación cuántica y clásica. Utiliza un circuito cuántico parametrizado para generar estados cuánticos y posteriormente medir el valor esperado del operador. Este valor esperado se utilizará como función de coste para un **optimizador clásico**, que se encargará de ir variando los parámetros del circuito y devolviéndolos al sistema cuántico de forma iterativa hasta encontrar el autovalor mínimo.\n",
    "\n",
    "\n",
    "El circuito parametrizado, conocido como **ansatz**, será equivalente a un operador unitario que llamaremos $U(\\boldsymbol{\\theta})$, en el que $\\boldsymbol{\\theta}$ es un vector que contiene todos los parámetros del circuito. Este actuará sobre nuestros qubits inicialidados en el estado que más nos interese según la aplicación. Esto generará un estado parametrizado $|\\Psi(\\boldsymbol{\\theta}) \\rangle$. Esto nos permite explorar un **subespacio del espacio de Hilbert**. En este sentido, la elección del ansatz y el estado incial es crucial, ya que de esto depende en gran medida si conseguiremos encontrar el valor mínimo o no.\n",
    "\n",
    "\n",
    "Sobre ese estado parametrizado podremos medir el valor esperado del operador problema $\\mathcal{H}$. Este valor será, al igual que el estado, dependiente de los parámetros del *ansatz*, y lo denotamos por $E(\\boldsymbol{\\theta})$. Utilizaremos este valor como función de coste para un optimizador clásico, de manera que tras un número suficiente de iteraciones conseguiremos una muy buena aproximación del autovalor más pequeño de nuestro operador $E_{G}$."
   ]
  },
  {
   "cell_type": "markdown",
   "id": "ab0c66fd",
   "metadata": {},
   "source": [
    "El funcionamiento del circuito sería algo así:\n",
    "\n",
    "::::{figure} pictures/VQE_flux.png\n",
    ":name: fig_flux_diagram\n",
    ":width: 1000px\n",
    ":align: center\n",
    "Diagrama de flujo del algoritmo VQE. En primer lugar tenemos un problema caracterizado por un operador $\\mathcal{H}$. Codificamos ese problema en un circuito cuántico con puertas parametrizadas. De ahí realizamos un proceso de optimización clásico. Si no converge, devolvemos los datos al circuito cuántico. Si converge, tenemos el resultado $E_G$.\n",
    "::::\n"
   ]
  },
  {
   "cell_type": "markdown",
   "id": "5b7b87b4",
   "metadata": {},
   "source": [
    "(sec_Programando_el_Algoritmo_VQE)= \n",
    "### Programando el Algoritmo VQE"
   ]
  },
  {
   "cell_type": "markdown",
   "id": "299ef2db",
   "metadata": {
    "slideshow": {
     "slide_type": ""
    },
    "tags": []
   },
   "source": [
    "Vamos a ver el funcionamiento de este algoritmo para un caso trivial, programando \"manualmente\" siguiendo el método que se emplea en la referencia {cite}`bib_zickert_hands_quantum_2022`. Estas funciones son bastante ineficientes y no pueden competir con las funciones *built-in* en librerías como Qibo, Qiskit o Pennylane, pero nos ayudan a ver cada parte de forma individual. En las siguientes secciones analizaremos casos prácticos haciendo uso de estas funciones mejor optimizadas.\n",
    "\n",
    "\n",
    "El problema a resolver es encontrar el autovalor más pequeño de la siguiente matriz $ 4 \\times 4$: \n",
    "\n",
    "$$\n",
    "\\mathcal{H} = \\begin{bmatrix}\n",
    "2.5 & -1 & -0.5 & 0 \\\\\n",
    "-1 & 2.5 & 0 & 0.5 \\\\\n",
    "-0.5 & 0 & 2.5 & 1 \\\\\n",
    "0 & 0.5 & 1 & 2.5 \n",
    "\\end{bmatrix}\n",
    "$$"
   ]
  },
  {
   "cell_type": "markdown",
   "id": "d9250a99",
   "metadata": {
    "slideshow": {
     "slide_type": ""
    },
    "tags": []
   },
   "source": [
    "Vamos a dejarla diagonalizada también con Python, para asegurarnos de que obtenemos los autovalores correctos:"
   ]
  },
  {
   "cell_type": "code",
   "execution_count": 2,
   "id": "72865835",
   "metadata": {
    "slideshow": {
     "slide_type": ""
    },
    "tags": []
   },
   "outputs": [
    {
     "name": "stdout",
     "output_type": "stream",
     "text": [
      "Autovalores: [1. 2. 3. 4.]\n",
      "Autovalor mínimo: 1.0\n"
     ]
    }
   ],
   "source": [
    "op = np.array([[2.5,-1,-0.5,0],[-1,2.5,0,0.5],[-0.5,0,2.5,1],[0,0.5,1,2.5]], dtype=complex)\n",
    "\n",
    "eigvals, eigvecs = scipy.linalg.eig(op)\n",
    "\n",
    "print(\"Autovalores:\", np.sort(np.real(eigvals)))\n",
    "print(\"Autovalor mínimo:\", np.real(np.round(min(eigvals))))"
   ]
  },
  {
   "cell_type": "markdown",
   "id": "d5b493fa",
   "metadata": {
    "slideshow": {
     "slide_type": ""
    },
    "tags": []
   },
   "source": [
    "Empezamos por definir las matrices de Pauli, ya que son los principales operadores que se utilizan en circuitería cuántica. Todo operador hermítico de dimensión $2^n$ (entre los que se incluye nuestro operador $\\mathcal{H}$) puede descomponerse en productos tensoriales de matrices de Pauli. Estas, al ser hermíticas y unitarias, nos permiten tanto descomponer operadores como construir circuitos cuánticos."
   ]
  },
  {
   "cell_type": "code",
   "execution_count": 3,
   "id": "e607ec64",
   "metadata": {
    "slideshow": {
     "slide_type": ""
    },
    "tags": []
   },
   "outputs": [],
   "source": [
    "PAULIS = {\n",
    "    \"I\": np.eye(2, dtype=complex),\n",
    "    \"X\": np.array([[0,1],[1,0]], dtype=complex),\n",
    "    \"Y\": np.array([[0,-1j],[1j,0]], dtype=complex),\n",
    "    \"Z\": np.array([[1,0],[0,-1]], dtype=complex)\n",
    "}"
   ]
  },
  {
   "cell_type": "markdown",
   "id": "9ea40ba0",
   "metadata": {
    "slideshow": {
     "slide_type": ""
    },
    "tags": []
   },
   "source": [
    "Definimos la función ```pauli_decomposition(H)```, que toma nuestro operador matricial $\\mathcal{H}$ y lo convierte en una cadena de matrices de Pauli. "
   ]
  },
  {
   "cell_type": "code",
   "execution_count": 4,
   "id": "46dc8025",
   "metadata": {
    "slideshow": {
     "slide_type": ""
    },
    "tags": [
     "remove-output"
    ]
   },
   "outputs": [],
   "source": [
    "def pauli_decomposition(H):\n",
    "\n",
    "    n = int(np.log2(len(H)))\n",
    "    dims = 2**n\n",
    "    \n",
    "    if H.shape != (dims,dims):\n",
    "        raise ValueError(\"La matriz debe tener dimensiones 2^n x 2^n\")\n",
    "        \n",
    "    basis_key = [\"\".join(k) for k in product(PAULIS.keys(), repeat = n)]\n",
    "    components = defaultdict(int)\n",
    "    \n",
    "    for i, val in enumerate(product(PAULIS.values(), repeat=n)):\n",
    "        basis_mat = reduce(np.kron, val)\n",
    "        coeff = H.reshape(-1).dot(basis_mat.reshape(-1)) / dims\n",
    "        coeff = np.real_if_close(coeff).item()\n",
    "        \n",
    "        if not np.allclose(coeff,0):\n",
    "            components[basis_key[i]] = coeff\n",
    "            \n",
    "    return components"
   ]
  },
  {
   "cell_type": "code",
   "execution_count": 5,
   "id": "89b87a04",
   "metadata": {
    "slideshow": {
     "slide_type": ""
    },
    "tags": []
   },
   "outputs": [
    {
     "data": {
      "text/plain": [
       "defaultdict(int, {'II': 2.5, 'XZ': -0.5, 'ZX': -1.0})"
      ]
     },
     "execution_count": 5,
     "metadata": {},
     "output_type": "execute_result"
    }
   ],
   "source": [
    "components = pauli_decomposition(op)\n",
    "components"
   ]
  },
  {
   "cell_type": "markdown",
   "id": "c49f4142",
   "metadata": {
    "slideshow": {
     "slide_type": ""
    },
    "tags": []
   },
   "source": [
    "Si volvemos a sumar nuestras componentes, vemos que se recupera nuestra matriz original $\\mathcal{H}$."
   ]
  },
  {
   "cell_type": "code",
   "execution_count": 6,
   "id": "5dacea48",
   "metadata": {
    "slideshow": {
     "slide_type": ""
    },
    "tags": []
   },
   "outputs": [
    {
     "name": "stdout",
     "output_type": "stream",
     "text": [
      "[[ 2.5+0.j -1. +0.j -0.5+0.j  0. +0.j]\n",
      " [-1. +0.j  2.5+0.j  0. +0.j  0.5+0.j]\n",
      " [-0.5+0.j  0. +0.j  2.5+0.j  1. +0.j]\n",
      " [ 0. +0.j  0.5+0.j  1. +0.j  2.5+0.j]]\n",
      "\n",
      " Las dos matrices son iguales.\n"
     ]
    }
   ],
   "source": [
    "restr = components['II']*np.kron(PAULIS[\"I\"],PAULIS[\"I\"]) + components['XZ']*np.kron(PAULIS[\"X\"],PAULIS[\"Z\"]) + components['ZX']*np.kron(PAULIS[\"Z\"],PAULIS[\"X\"])\n",
    "\n",
    "print(restr)\n",
    "\n",
    "if restr.all() == op.all(): print(\"\\n Las dos matrices son iguales.\")"
   ]
  },
  {
   "cell_type": "markdown",
   "id": "87bdc318",
   "metadata": {
    "slideshow": {
     "slide_type": ""
    },
    "tags": []
   },
   "source": [
    "Definimos también la función ```ansatz```, que, tomando un circuito cuántico y un conjunto de parámetros, nos implementa el estado $|\\psi (\\boldsymbol{\\theta})\\rangle$ como un conjunto de operadores parametrizados."
   ]
  },
  {
   "cell_type": "markdown",
   "id": "3657ba22",
   "metadata": {},
   "source": [
    ":::::{tab-set}\n",
    "::::{tab-item} Qibo\n",
    "```python\n",
    "\n",
    "def ansatz(circuit, nqubits, thetas, rounds=3):\n",
    "\n",
    "    for r in range(rounds):\n",
    "        for i in range(nqubits):\n",
    "            offset = r*nqubits*2 + i*2\n",
    "                        \n",
    "            circuit.add(gates.RY(i, thetas[offset]))\n",
    "            circuit.add(gates.RZ(i, thetas[offset+1]))\n",
    "            \n",
    "            if i > 0 and r < rounds - 1:\n",
    "                circuit.add(gates.CNOT(i-1, i))\n",
    "                \n",
    "    return circuit\n",
    "```\n",
    "::::\n",
    "::::{tab-item} Qiskit\n",
    "```python\n",
    "\n",
    "def ansatz(qc, qr, thetas, rounds=3):\n",
    "    \n",
    "    for r in range(rounds):\n",
    "        for i in range(len(qr)):\n",
    "            offset = r*len(qr)*2 + i*2\n",
    "            \n",
    "            qc.ry(thetas[offset], qr[i])\n",
    "            qc.rz(thetas[offset+1], qr[i])\n",
    "            \n",
    "            if i > 0 and r < rounds - 1:\n",
    "                qc.cx(qr[i-1], qr[i])\n",
    "                \n",
    "    return qc\n",
    "```\n",
    "::::\n",
    ":::::\n"
   ]
  },
  {
   "cell_type": "code",
   "execution_count": 7,
   "id": "4b51650a",
   "metadata": {
    "tags": [
     "remove_input"
    ]
   },
   "outputs": [],
   "source": [
    "'''Qibo_code_cell'''\n",
    "\n",
    "def ansatz(circuit, nqubits, thetas, rounds=3):\n",
    "\n",
    "    for r in range(rounds):\n",
    "        for i in range(nqubits):\n",
    "            offset = r*nqubits*2 + i*2\n",
    "                        \n",
    "            circuit.add(gates.RY(i, thetas[offset]))\n",
    "            circuit.add(gates.RZ(i, thetas[offset+1]))\n",
    "            \n",
    "            if i > 0 and r < rounds - 1:\n",
    "                circuit.add(gates.CNOT(i-1, i))\n",
    "                \n",
    "    return circuit"
   ]
  },
  {
   "cell_type": "markdown",
   "id": "47372b4c",
   "metadata": {},
   "source": [
    "Veamos un ejemplo de ansatz que generaría este circuito si consideramos tres qubits:"
   ]
  },
  {
   "cell_type": "markdown",
   "id": "01d6fc6b",
   "metadata": {},
   "source": [
    ":::::{tab-set}\n",
    "::::{tab-item} Qibo\n",
    "```python\n",
    "\n",
    "nqubits = 3\n",
    "nrounds = 4\n",
    "\n",
    "qc = models.circuit.Circuit(nqubits)\n",
    "angles = np.random.rand(2*nqubits*nrounds)\n",
    "\n",
    "qc = ansatz(qc, nqubits=nqubits, thetas=angles, rounds=nrounds)\n",
    "\n",
    "print(qc.draw())\n",
    "```\n",
    "::::\n",
    "::::{tab-item} Qiskit\n",
    "```python\n",
    "\n",
    "nqubits = 3\n",
    "nrounds = 4\n",
    "\n",
    "qr = QuantumRegister(nqubits)\n",
    "qc = QuantumCircuit(qr)\n",
    "angles = np.random.rand(2*nqubits*nrounds)\n",
    "\n",
    "qc = ansatz(qc, qr, thetas=angles, rounds=nrounds)\n",
    "\n",
    "qc.draw('mpl')\n",
    "```\n",
    "::::\n",
    ":::::\n"
   ]
  },
  {
   "cell_type": "code",
   "execution_count": 8,
   "id": "264dbedf",
   "metadata": {
    "tags": [
     "remove_input"
    ]
   },
   "outputs": [
    {
     "name": "stdout",
     "output_type": "stream",
     "text": [
      "q0: ─RY─RZ─o─────────RY─RZ─o─────────RY─RZ─o─────────RY─RZ─\n",
      "q1: ─RY─RZ─X───────o─RY─RZ─X───────o─RY─RZ─X───────o─RY─RZ─\n",
      "q2: ─────────RY─RZ─X─────────RY─RZ─X─────────RY─RZ─X─RY─RZ─\n"
     ]
    }
   ],
   "source": [
    "'''Qibo_code_cell'''\n",
    "\n",
    "nqubits = 3\n",
    "nrounds = 4\n",
    "\n",
    "qc = models.circuit.Circuit(nqubits)\n",
    "angles = np.random.rand(2*nqubits*nrounds)\n",
    "\n",
    "qc = ansatz(qc, nqubits=nqubits, thetas=angles, rounds=nrounds)\n",
    "\n",
    "print(qc.draw())"
   ]
  },
  {
   "cell_type": "markdown",
   "id": "022c1eab",
   "metadata": {},
   "source": [
    "En este caso concreto, tenemos puertas parametrizadas $R_Y$ y $R_Z$, cuyos ángulos de rotación son los parámetros $\\boldsymbol{\\theta}$ que vamos a ir modificando hasta llegar al autovalor mínimo. Por supuesto, podríamos haber utilizado también puertas $R_X$ o cualquier puerta que rotase los qubits en torno a un eje arbitrario.\n",
    "\n",
    "\n",
    "Para entrelazar qubits hemos utilizado puertas $CNOT$, aunque también se suelen usar $CZ$."
   ]
  },
  {
   "cell_type": "markdown",
   "id": "2a11f83a",
   "metadata": {},
   "source": [
    "Con todas estas herramientas, podemos definir la función ```matrix_decomposition_circuits```, que toma nuestro operador $\\mathcal{H}$ y, utilizando ```pauli_decomposition```, lo convierte en una suma de cadenas de Pauli. Con esto define tantos circuitos cuánticos como cadenas tengamos, añadiendo a cada uno de ellos nuestro *ansatz* empleando ```ansatz``` (la función ```add_ansatz(qc, qr)``` se define con ella).\n",
    "\n",
    "\n",
    "Después, dependiendo de como sean las cadenas de Pauli, añade los medidores que correspondan según la base (por ejemplo, si estamos midiendo en la dirección $Y$, debemos rotar nuestro qubit utilizando $H$ y $S^\\dagger$)."
   ]
  },
  {
   "cell_type": "markdown",
   "id": "7f0f96a8",
   "metadata": {},
   "source": [
    ":::::{tab-set}\n",
    "::::{tab-item} Qibo\n",
    "```python\n",
    "\n",
    "def matrix_decomposition_circuits(H, add_ansatz):\n",
    "\n",
    "    from qibo import models, gates\n",
    "\n",
    "    # Definimos variables y comprobamos las dimensiones del Hamiltoniano\n",
    "    n = int(np.log2(len(H)))\n",
    "    dims = 2**n\n",
    "    \n",
    "    if H.shape != (dims,dims):\n",
    "        raise ValueError(\"La matriz debe tener dimensiones 2^n x 2^n\")\n",
    "        \n",
    "    # Descomponemos el Hamiltoniano en cadenas de Pauli\n",
    "    components = pauli_decomposition(H)\n",
    "    \n",
    "    circuits = {}\n",
    "    for (paulistring, weight) in components.items():\n",
    "        paulis = list(enumerate(reversed(paulistring)))\n",
    "        qc = models.Circuit(n)\n",
    "        \n",
    "        # No hacemos nada si todas las Pauli son I, utilizamos este circuito vacío que medirá el estado \"0\" (autovalor 1) en todos los caso\n",
    "        if all(x[1] == \"I\" for x in paulis):\n",
    "            qc.add(gates.M(qc.nqubits-1))\n",
    "            circuits[paulistring] = (qc, weight)\n",
    "            continue\n",
    "\n",
    "        # Al resto de posibles circuitos sí les añadimos el ansatz\n",
    "        add_ansatz(qc,n)\n",
    "            \n",
    "        # Hacemos las transformaciones sobre un solo qubit\n",
    "        for idx, letter in paulis:\n",
    "            if letter == \"X\":\n",
    "                qc.add(gates.H(idx))\n",
    "            elif letter == \"Y\":\n",
    "                qc.add(gates.H(idx))\n",
    "                qc.add(gates.S(idx).dagger())\n",
    "                \n",
    "        # Añadimos las puertas multiqubit\n",
    "        for idx, (first, second) in enumerate(zip(paulis, paulis[1:])):\n",
    "            if second[1] == \"I\":\n",
    "                qc.add(gates.SWAP(first[0], second[0]))\n",
    "            elif first[1] != \"I\":\n",
    "                paulis[idx+1] = (paulis[idx+1][0], paulis[idx][1])\n",
    "                qc.add(gates.CNOT(first[0],second[0]))\n",
    "                \n",
    "        # Medimos sobre el último qubit\n",
    "        qc.add(gates.M(qc.nqubits-1))\n",
    "        circuits[paulistring] = (qc, weight)\n",
    "        \n",
    "        \n",
    "    return circuits\n",
    "```\n",
    "::::\n",
    "::::{tab-item} Qiskit\n",
    "```python\n",
    "\n",
    "def matrix_decomposition_circuits(H, add_ansatz):\n",
    "\n",
    "    # Definimos variables y comprobamos las dimensiones del Hamiltoniano\n",
    "    \n",
    "    n = int(np.log2(len(H)))\n",
    "    dims = 2**n\n",
    "    \n",
    "    if H.shape != (dims,dims):\n",
    "        raise ValueError(\"La matriz debe tener dimensiones 2^n x 2^n\")\n",
    "        \n",
    "    components = pauli_decomposition(H)\n",
    "    \n",
    "    circuits = {}\n",
    "    for (paulistring, weight) in components.items():\n",
    "        paulis = list(enumerate(reversed(paulistring)))\n",
    "        \n",
    "        qr = QuantumRegister(n, \"qr\")\n",
    "        cr = ClassicalRegister(1, \"cr\")\n",
    "        qc = QuantumCircuit(qr, cr)\n",
    "        \n",
    "        add_ansatz(qc,qr)\n",
    "        \n",
    "        # No hacemos nada si todas las Pauli son I\n",
    "        if all(x[1] == \"I\" for x in paulis):\n",
    "            # utilizamos este circuito vacío que medirá el estado \"0\" (autovalor 1) en todos los casos\n",
    "            circuits[paulistring] = (qc, weight)\n",
    "            continue\n",
    "            \n",
    "        # Hacmos las transformaciones sobre un solo qubit\n",
    "        for idx, letter in paulis:\n",
    "            if letter == \"X\":\n",
    "                qc.h(qr[idx])\n",
    "            elif letter == \"Y\":\n",
    "                qc.h(qr[idx])\n",
    "                qc.sdg(qr[idx])\n",
    "                \n",
    "        # Añadimos las puertas multiqubit\n",
    "        for idx, (first, second) in enumerate(zip(paulis, paulis[1:])):\n",
    "            if second[1] == \"I\":\n",
    "                qc.swap(first[0], second[0])\n",
    "            elif first[1] != \"I\":\n",
    "                paulis[idx+1] = (paulis[idx+1][0], paulis[idx][1])\n",
    "                qc.cx(first[0],second[0])\n",
    "                \n",
    "        # Medimos sobre el último qubit\n",
    "        qc.measure(qr[-1], cr[0])\n",
    "        circuits[paulistring] = (qc, weight)\n",
    "        \n",
    "    return circuits\n",
    "```\n",
    "::::\n",
    ":::::\n"
   ]
  },
  {
   "cell_type": "code",
   "execution_count": 9,
   "id": "6d4dd8eb",
   "metadata": {
    "tags": [
     "remove_input"
    ]
   },
   "outputs": [],
   "source": [
    "'''Qibo_code_cell'''\n",
    "\n",
    "def matrix_decomposition_circuits(H, add_ansatz):\n",
    "\n",
    "    from qibo import models, gates\n",
    "\n",
    "    # Definimos variables y comprobamos las dimensiones del Hamiltoniano\n",
    "    n = int(np.log2(len(H)))\n",
    "    dims = 2**n\n",
    "    \n",
    "    if H.shape != (dims,dims):\n",
    "        raise ValueError(\"La matriz debe tener dimensiones 2^n x 2^n\")\n",
    "        \n",
    "    # Descomponemos el Hamiltoniano en cadenas de Pauli\n",
    "    components = pauli_decomposition(H)\n",
    "    \n",
    "    circuits = {}\n",
    "    for (paulistring, weight) in components.items():\n",
    "        paulis = list(enumerate(reversed(paulistring)))\n",
    "        qc = models.Circuit(n)\n",
    "        \n",
    "        # No hacemos nada si todas las Pauli son I, utilizamos este circuito vacío que medirá el estado \"0\" (autovalor 1) en todos los caso\n",
    "        if all(x[1] == \"I\" for x in paulis):\n",
    "            qc.add(gates.M(qc.nqubits-1))\n",
    "            circuits[paulistring] = (qc, weight)\n",
    "            continue\n",
    "\n",
    "        # Al resto de posibles circuitos sí les añadimos el ansatz\n",
    "        add_ansatz(qc,n)\n",
    "            \n",
    "        # Hacemos las transformaciones sobre un solo qubit\n",
    "        for idx, letter in paulis:\n",
    "            if letter == \"X\":\n",
    "                qc.add(gates.H(idx))\n",
    "            elif letter == \"Y\":\n",
    "                qc.add(gates.H(idx))\n",
    "                qc.add(gates.S(idx).dagger())\n",
    "                \n",
    "        # Añadimos las puertas multiqubit\n",
    "        for idx, (first, second) in enumerate(zip(paulis, paulis[1:])):\n",
    "            if second[1] == \"I\":\n",
    "                qc.add(gates.SWAP(first[0], second[0]))\n",
    "            elif first[1] != \"I\":\n",
    "                paulis[idx+1] = (paulis[idx+1][0], paulis[idx][1])\n",
    "                qc.add(gates.CNOT(first[0],second[0]))\n",
    "                \n",
    "        # Medimos sobre el último qubit\n",
    "        qc.add(gates.M(qc.nqubits-1))\n",
    "        circuits[paulistring] = (qc, weight)\n",
    "        \n",
    "        \n",
    "    return circuits"
   ]
  },
  {
   "cell_type": "markdown",
   "id": "486fd437",
   "metadata": {},
   "source": [
    "Definimos ahora la función ```run_circuit```, que lo que hace es ejecutar el circuito utilizando el backend que hayamos especificado y nos devuelve el valor esperado de la medida del circuito."
   ]
  },
  {
   "cell_type": "markdown",
   "id": "3e3f483e",
   "metadata": {},
   "source": [
    ":::::{tab-set}\n",
    "::::{tab-item} Qibo\n",
    "```python\n",
    "\n",
    "def run_circuit(circuit, shots=10000):\n",
    "    result = circuit.execute(nshots=shots)\n",
    "    counts = result.frequencies(binary=True)\n",
    "    return ((counts[\"0\"] if \"0\" in counts.keys() else 0) - (counts[\"1\"] if \"1\" in counts.keys() else 0))/shots\n",
    "```\n",
    "::::\n",
    "::::{tab-item} Qiskit\n",
    "```python\n",
    "\n",
    "def run_circuit(circuit, backend, shots=10000):\n",
    "    result = execute(circuit, backend, shots=shots).result()\n",
    "    counts = result.get_counts()\n",
    "    return ((counts[\"0\"] if \"0\" in counts.keys() else 0) - (counts[\"1\"] if \"1\" in counts.keys() else 0))/shots\n",
    "```\n",
    "::::\n",
    ":::::\n"
   ]
  },
  {
   "cell_type": "code",
   "execution_count": 10,
   "id": "d67d7a26",
   "metadata": {
    "tags": [
     "remove_input"
    ]
   },
   "outputs": [],
   "source": [
    "'''Qibo_code_cell'''\n",
    "\n",
    "def run_circuit(circuit, shots=10000):\n",
    "    result = circuit.execute(nshots=shots)\n",
    "    counts = result.frequencies(binary=True)\n",
    "    return ((counts[\"0\"] if \"0\" in counts.keys() else 0) - (counts[\"1\"] if \"1\" in counts.keys() else 0))/shots"
   ]
  },
  {
   "cell_type": "markdown",
   "id": "a031ae6f",
   "metadata": {},
   "source": [
    "Definimos ahora ```expectation```, que ejecuta los circuitos generados por ```matrix_decomposition_circuits``` utilizando ```run_circuit``` y suma sus resultados con los coeficientes de la descomposición, devolviendo el valor esperado del operador problema."
   ]
  },
  {
   "cell_type": "markdown",
   "id": "fc197ac6",
   "metadata": {},
   "source": [
    ":::::{tab-set}\n",
    "::::{tab-item} Qibo\n",
    "```python\n",
    "\n",
    "def expectation(H, rounds, thetas):\n",
    "    circuits = matrix_decomposition_circuits(H, lambda qc,n: ansatz(qc, n, thetas, rounds))\n",
    "    \n",
    "    return sum(map(lambda key: run_circuit(circuits[key][0])*circuits[key][1], circuits.keys()))\n",
    "```\n",
    "::::\n",
    "::::{tab-item} Qiskit\n",
    "```python\n",
    "\n",
    "def expectation(H, rounds, thetas):\n",
    "    backend = Aer.get_backend('statevector_simulator')\n",
    "    circuits = matrix_decomposition_circuits(H, lambda qc,qr: ansatz(qc, qr, thetas, rounds))\n",
    "    \n",
    "    return sum(map(lambda key: run_circuit(circuits[key][0], backend)*circuits[key][1], circuits.keys()))\n",
    "```\n",
    "::::\n",
    ":::::\n"
   ]
  },
  {
   "cell_type": "code",
   "execution_count": 11,
   "id": "45415f61",
   "metadata": {
    "tags": [
     "remove_input"
    ]
   },
   "outputs": [],
   "source": [
    "'''Qibo_code_cell'''\n",
    "\n",
    "def expectation(H, rounds, thetas):\n",
    "    circuits = matrix_decomposition_circuits(H, lambda qc,n: ansatz(qc, n, thetas, rounds))\n",
    "    \n",
    "    return sum(map(lambda key: run_circuit(circuits[key][0])*circuits[key][1], circuits.keys()))"
   ]
  },
  {
   "cell_type": "markdown",
   "id": "5a77bc9e",
   "metadata": {},
   "source": [
    "Ahora definimos nuestro optimizador clásico. Vamos a utilizar un optimizador numérico conocido como SPSA (*Simultaneous Perturbation Stochastic Approximation*) {cite}`bib_bhatnagar_stochastic_2013`. Lo programamos a continuación para ver cómo funciona pero, de nuevo, en adelante utilizaremos optimizadores que podemos encontrar en las librerías."
   ]
  },
  {
   "cell_type": "code",
   "execution_count": 12,
   "id": "4316ab2e",
   "metadata": {
    "slideshow": {
     "slide_type": ""
    },
    "tags": []
   },
   "outputs": [],
   "source": [
    "class SPSA:\n",
    "    \n",
    "    def __init__(self, a, c, A, alpha, gamma, H, loss_function):\n",
    "        # Inicializamos parámetros de ganancia y factores de decaímiento\n",
    "        self.a = a\n",
    "        self.c = c\n",
    "        self.A = A\n",
    "        self.alpha = alpha\n",
    "        self.gamma = gamma\n",
    "        self.loss_function = loss_function\n",
    "        \n",
    "        # Contador\n",
    "        self.t = 0\n",
    "        \n",
    "    def step(self, current_estimate):\n",
    "        # Obtenemos los valores actuales para las secuencias de ganancia\n",
    "        a_t = self.a / (self.t + 1 + self.A)**self.alpha\n",
    "        c_t = self.c / (self.t + 1)**self.gamma\n",
    "        \n",
    "        # Vector de perturbaciones aleatorias de la distribución de Bernoulli\n",
    "        delta = np.random.randint(0, 2, np.array(current_estimate).shape) * 2 - 1\n",
    "        \n",
    "        # Medimos la función de pérdida en las perturbaciones\n",
    "        loss_plus = self.loss_function(current_estimate + delta * c_t)\n",
    "        loss_minus = self.loss_function(current_estimate - delta * c_t)\n",
    "        \n",
    "        # Estimación del gradiente\n",
    "        g_t = (loss_plus - loss_minus) / (2.0 * delta * c_t)\n",
    "        \n",
    "        # Actualizamos la estimación del parámetro\n",
    "        current_estimate = current_estimate - a_t * g_t\n",
    "        \n",
    "        # Incrementamos el contador\n",
    "        self.t +=1\n",
    "        \n",
    "        return current_estimate"
   ]
  },
  {
   "cell_type": "markdown",
   "id": "290534f8",
   "metadata": {
    "slideshow": {
     "slide_type": ""
    },
    "tags": []
   },
   "source": [
    "Y ya, con un optimizador clásico y un operador cuántico, podemos definir nuestro algoritmo VQE, utilizando la función ```expectation``` como función de pérdida del optimizador (implementando aquí toda la circuitería cuántica)."
   ]
  },
  {
   "cell_type": "code",
   "execution_count": 13,
   "id": "b1fe1997",
   "metadata": {
    "slideshow": {
     "slide_type": ""
    },
    "tags": []
   },
   "outputs": [],
   "source": [
    "def vqe(H, rounds, max_iter, thetas=None, save_steps = None):\n",
    "   \n",
    "    cnt_qubits = int(np.log2(len(H)))\n",
    "    if thetas is None:\n",
    "        thetas = list(map(lambda x: random.random(), [0] * ((1+rounds)*cnt_qubits*2)))\n",
    "        \n",
    "    # Creamos la clase del optimizador\n",
    "    optimizer = SPSA(a = 0.9, c = 1.0, A = max_iter/10, alpha = 0.602, gamma = 0.101, H = H, loss_function = lambda t_thetas: expectation(H, rounds, t_thetas))\n",
    "    \n",
    "    # Loop principal\n",
    "    for i in range(max_iter):\n",
    "        thetas = optimizer.step(thetas)\n",
    "        \n",
    "        if save_steps is not None and i % save_steps == 0:\n",
    "            yield (i, thetas, expectation(H, rounds, thetas))\n",
    "            \n",
    "    return (thetas, expectation(H, rounds, thetas))"
   ]
  },
  {
   "cell_type": "markdown",
   "id": "72e266cc",
   "metadata": {
    "slideshow": {
     "slide_type": ""
    },
    "tags": []
   },
   "source": [
    "Y con todo este código podemos meter la matriz que diagonalizamos antes a mano y comprobar que, efectivamente, el autovalor más bajo que obtenemos es $E_G \\simeq 1$."
   ]
  },
  {
   "cell_type": "code",
   "execution_count": 14,
   "id": "38633b1e",
   "metadata": {
    "slideshow": {
     "slide_type": ""
    },
    "tags": [
     "scroll-output"
    ]
   },
   "outputs": [
    {
     "name": "stdout",
     "output_type": "stream",
     "text": [
      "Paso 0. Valor actual de la función de coste:  2.685\n",
      "Paso 3. Valor actual de la función de coste:  2.694\n",
      "Paso 6. Valor actual de la función de coste:  2.699\n",
      "Paso 9. Valor actual de la función de coste:  2.699\n",
      "Paso 12. Valor actual de la función de coste:  2.716\n",
      "Paso 15. Valor actual de la función de coste:  2.683\n",
      "Paso 18. Valor actual de la función de coste:  2.527\n",
      "Paso 21. Valor actual de la función de coste:  2.421\n"
     ]
    },
    {
     "name": "stdout",
     "output_type": "stream",
     "text": [
      "Paso 24. Valor actual de la función de coste:  2.447\n"
     ]
    },
    {
     "name": "stdout",
     "output_type": "stream",
     "text": [
      "Paso 27. Valor actual de la función de coste:  2.426\n",
      "Paso 30. Valor actual de la función de coste:  2.296\n"
     ]
    },
    {
     "name": "stdout",
     "output_type": "stream",
     "text": [
      "Paso 33. Valor actual de la función de coste:  2.333\n",
      "Paso 36. Valor actual de la función de coste:  2.292\n",
      "Paso 39. Valor actual de la función de coste:  2.181\n",
      "Paso 42. Valor actual de la función de coste:  2.072\n",
      "Paso 45. Valor actual de la función de coste:  2.053\n",
      "Paso 48. Valor actual de la función de coste:  1.975\n",
      "Paso 51. Valor actual de la función de coste:  1.973\n",
      "Paso 54. Valor actual de la función de coste:  1.818\n",
      "Paso 57. Valor actual de la función de coste:  1.799\n"
     ]
    },
    {
     "name": "stdout",
     "output_type": "stream",
     "text": [
      "Paso 60. Valor actual de la función de coste:  1.790\n"
     ]
    },
    {
     "name": "stdout",
     "output_type": "stream",
     "text": [
      "Paso 63. Valor actual de la función de coste:  1.795\n",
      "Paso 66. Valor actual de la función de coste:  1.777\n",
      "Paso 69. Valor actual de la función de coste:  1.692\n"
     ]
    },
    {
     "name": "stdout",
     "output_type": "stream",
     "text": [
      "Paso 72. Valor actual de la función de coste:  1.674\n",
      "Paso 75. Valor actual de la función de coste:  1.638\n",
      "Paso 78. Valor actual de la función de coste:  1.620\n",
      "Paso 81. Valor actual de la función de coste:  1.563\n",
      "Paso 84. Valor actual de la función de coste:  1.530\n",
      "Paso 87. Valor actual de la función de coste:  1.502\n",
      "Paso 90. Valor actual de la función de coste:  1.503\n",
      "Paso 93. Valor actual de la función de coste:  1.500\n",
      "Paso 96. Valor actual de la función de coste:  1.513\n",
      "Paso 99. Valor actual de la función de coste:  1.493\n"
     ]
    },
    {
     "name": "stdout",
     "output_type": "stream",
     "text": [
      "Paso 102. Valor actual de la función de coste:  1.497\n"
     ]
    },
    {
     "name": "stdout",
     "output_type": "stream",
     "text": [
      "Paso 105. Valor actual de la función de coste:  1.484\n",
      "Paso 108. Valor actual de la función de coste:  1.446\n",
      "Paso 111. Valor actual de la función de coste:  1.446\n"
     ]
    },
    {
     "name": "stdout",
     "output_type": "stream",
     "text": [
      "Paso 114. Valor actual de la función de coste:  1.422\n",
      "Paso 117. Valor actual de la función de coste:  1.405\n",
      "Paso 120. Valor actual de la función de coste:  1.390\n",
      "Paso 123. Valor actual de la función de coste:  1.357\n",
      "Paso 126. Valor actual de la función de coste:  1.327\n",
      "Paso 129. Valor actual de la función de coste:  1.286\n",
      "Paso 132. Valor actual de la función de coste:  1.280\n",
      "Paso 135. Valor actual de la función de coste:  1.261\n",
      "Paso 138. Valor actual de la función de coste:  1.264\n",
      "Paso 141. Valor actual de la función de coste:  1.261\n"
     ]
    },
    {
     "name": "stdout",
     "output_type": "stream",
     "text": [
      "Paso 144. Valor actual de la función de coste:  1.289\n"
     ]
    },
    {
     "name": "stdout",
     "output_type": "stream",
     "text": [
      "Paso 147. Valor actual de la función de coste:  1.270\n",
      "Paso 150. Valor actual de la función de coste:  1.286\n",
      "Paso 153. Valor actual de la función de coste:  1.234\n"
     ]
    },
    {
     "name": "stdout",
     "output_type": "stream",
     "text": [
      "Paso 156. Valor actual de la función de coste:  1.222\n",
      "Paso 159. Valor actual de la función de coste:  1.206\n",
      "Paso 162. Valor actual de la función de coste:  1.200\n",
      "Paso 165. Valor actual de la función de coste:  1.184\n",
      "Paso 168. Valor actual de la función de coste:  1.153\n",
      "Paso 171. Valor actual de la función de coste:  1.148\n",
      "Paso 174. Valor actual de la función de coste:  1.145\n",
      "Paso 177. Valor actual de la función de coste:  1.138\n",
      "Paso 180. Valor actual de la función de coste:  1.160\n",
      "Paso 183. Valor actual de la función de coste:  1.150\n"
     ]
    },
    {
     "name": "stdout",
     "output_type": "stream",
     "text": [
      "Paso 186. Valor actual de la función de coste:  1.138\n"
     ]
    },
    {
     "name": "stdout",
     "output_type": "stream",
     "text": [
      "Paso 189. Valor actual de la función de coste:  1.126\n",
      "Paso 192. Valor actual de la función de coste:  1.120\n"
     ]
    },
    {
     "name": "stdout",
     "output_type": "stream",
     "text": [
      "Paso 195. Valor actual de la función de coste:  1.117\n",
      "Paso 198. Valor actual de la función de coste:  1.118\n",
      "Paso 201. Valor actual de la función de coste:  1.135\n",
      "Paso 204. Valor actual de la función de coste:  1.123\n",
      "Paso 207. Valor actual de la función de coste:  1.127\n",
      "Paso 210. Valor actual de la función de coste:  1.130\n",
      "Paso 213. Valor actual de la función de coste:  1.141\n",
      "Paso 216. Valor actual de la función de coste:  1.152\n",
      "Paso 219. Valor actual de la función de coste:  1.147\n",
      "Paso 222. Valor actual de la función de coste:  1.137\n"
     ]
    },
    {
     "name": "stdout",
     "output_type": "stream",
     "text": [
      "Paso 225. Valor actual de la función de coste:  1.137\n"
     ]
    },
    {
     "name": "stdout",
     "output_type": "stream",
     "text": [
      "Paso 228. Valor actual de la función de coste:  1.132\n",
      "Paso 231. Valor actual de la función de coste:  1.129\n"
     ]
    },
    {
     "name": "stdout",
     "output_type": "stream",
     "text": [
      "Paso 234. Valor actual de la función de coste:  1.132\n",
      "Paso 237. Valor actual de la función de coste:  1.138\n",
      "Paso 240. Valor actual de la función de coste:  1.135\n",
      "Paso 243. Valor actual de la función de coste:  1.128\n",
      "Paso 246. Valor actual de la función de coste:  1.121\n",
      "Paso 249. Valor actual de la función de coste:  1.118\n"
     ]
    },
    {
     "name": "stdout",
     "output_type": "stream",
     "text": [
      "Paso 252. Valor actual de la función de coste:  1.116\n",
      "Paso 255. Valor actual de la función de coste:  1.115\n"
     ]
    },
    {
     "name": "stdout",
     "output_type": "stream",
     "text": [
      "Paso 258. Valor actual de la función de coste:  1.103\n",
      "Paso 261. Valor actual de la función de coste:  1.105\n",
      "Paso 264. Valor actual de la función de coste:  1.107\n",
      "Paso 267. Valor actual de la función de coste:  1.107\n",
      "Paso 270. Valor actual de la función de coste:  1.091\n",
      "Paso 273. Valor actual de la función de coste:  1.087\n",
      "Paso 276. Valor actual de la función de coste:  1.086\n"
     ]
    },
    {
     "name": "stdout",
     "output_type": "stream",
     "text": [
      "Paso 279. Valor actual de la función de coste:  1.106\n",
      "Paso 282. Valor actual de la función de coste:  1.107\n",
      "Paso 285. Valor actual de la función de coste:  1.107\n"
     ]
    },
    {
     "name": "stdout",
     "output_type": "stream",
     "text": [
      "Paso 288. Valor actual de la función de coste:  1.090\n",
      "Paso 291. Valor actual de la función de coste:  1.090\n",
      "Paso 294. Valor actual de la función de coste:  1.084\n",
      "Paso 297. Valor actual de la función de coste:  1.087\n",
      "Paso 300. Valor actual de la función de coste:  1.084\n",
      "Paso 303. Valor actual de la función de coste:  1.079\n"
     ]
    },
    {
     "name": "stdout",
     "output_type": "stream",
     "text": [
      "Paso 306. Valor actual de la función de coste:  1.075\n",
      "Paso 309. Valor actual de la función de coste:  1.078\n",
      "Paso 312. Valor actual de la función de coste:  1.072\n"
     ]
    },
    {
     "name": "stdout",
     "output_type": "stream",
     "text": [
      "Paso 315. Valor actual de la función de coste:  1.073\n",
      "Paso 318. Valor actual de la función de coste:  1.071\n",
      "Paso 321. Valor actual de la función de coste:  1.070\n",
      "Paso 324. Valor actual de la función de coste:  1.073\n",
      "Paso 327. Valor actual de la función de coste:  1.071\n"
     ]
    },
    {
     "name": "stdout",
     "output_type": "stream",
     "text": [
      "Paso 330. Valor actual de la función de coste:  1.067\n",
      "Paso 333. Valor actual de la función de coste:  1.067\n"
     ]
    },
    {
     "name": "stdout",
     "output_type": "stream",
     "text": [
      "Paso 336. Valor actual de la función de coste:  1.064\n",
      "Paso 339. Valor actual de la función de coste:  1.066\n",
      "Paso 342. Valor actual de la función de coste:  1.059\n"
     ]
    },
    {
     "name": "stdout",
     "output_type": "stream",
     "text": [
      "Paso 345. Valor actual de la función de coste:  1.075\n",
      "Paso 348. Valor actual de la función de coste:  1.067\n"
     ]
    },
    {
     "name": "stdout",
     "output_type": "stream",
     "text": [
      "Paso 351. Valor actual de la función de coste:  1.058\n",
      "Paso 354. Valor actual de la función de coste:  1.069\n",
      "Paso 357. Valor actual de la función de coste:  1.066\n"
     ]
    },
    {
     "name": "stdout",
     "output_type": "stream",
     "text": [
      "Paso 360. Valor actual de la función de coste:  1.073\n",
      "Paso 363. Valor actual de la función de coste:  1.077\n"
     ]
    },
    {
     "name": "stdout",
     "output_type": "stream",
     "text": [
      "Paso 366. Valor actual de la función de coste:  1.080\n",
      "Paso 369. Valor actual de la función de coste:  1.088\n",
      "Paso 372. Valor actual de la función de coste:  1.076\n"
     ]
    },
    {
     "name": "stdout",
     "output_type": "stream",
     "text": [
      "Paso 375. Valor actual de la función de coste:  1.072\n",
      "Paso 378. Valor actual de la función de coste:  1.074\n"
     ]
    },
    {
     "name": "stdout",
     "output_type": "stream",
     "text": [
      "Paso 381. Valor actual de la función de coste:  1.061\n",
      "Paso 384. Valor actual de la función de coste:  1.064\n",
      "Paso 387. Valor actual de la función de coste:  1.055\n",
      "Paso 390. Valor actual de la función de coste:  1.045\n"
     ]
    },
    {
     "name": "stdout",
     "output_type": "stream",
     "text": [
      "Paso 393. Valor actual de la función de coste:  1.050\n",
      "Paso 396. Valor actual de la función de coste:  1.057\n",
      "Paso 399. Valor actual de la función de coste:  1.054\n"
     ]
    },
    {
     "name": "stdout",
     "output_type": "stream",
     "text": [
      "Paso 402. Valor actual de la función de coste:  1.061\n",
      "Paso 405. Valor actual de la función de coste:  1.056\n",
      "Paso 408. Valor actual de la función de coste:  1.057\n"
     ]
    },
    {
     "name": "stdout",
     "output_type": "stream",
     "text": [
      "Paso 411. Valor actual de la función de coste:  1.069\n",
      "Paso 414. Valor actual de la función de coste:  1.053\n",
      "Paso 417. Valor actual de la función de coste:  1.053\n"
     ]
    },
    {
     "name": "stdout",
     "output_type": "stream",
     "text": [
      "Paso 420. Valor actual de la función de coste:  1.050\n",
      "Paso 423. Valor actual de la función de coste:  1.045\n",
      "Paso 426. Valor actual de la función de coste:  1.035\n"
     ]
    },
    {
     "name": "stdout",
     "output_type": "stream",
     "text": [
      "Paso 429. Valor actual de la función de coste:  1.036\n",
      "Paso 432. Valor actual de la función de coste:  1.039\n",
      "Paso 435. Valor actual de la función de coste:  1.039\n",
      "Paso 438. Valor actual de la función de coste:  1.037\n"
     ]
    },
    {
     "name": "stdout",
     "output_type": "stream",
     "text": [
      "Paso 441. Valor actual de la función de coste:  1.039\n",
      "Paso 444. Valor actual de la función de coste:  1.038\n",
      "Paso 447. Valor actual de la función de coste:  1.033\n",
      "Paso 450. Valor actual de la función de coste:  1.036\n",
      "Paso 453. Valor actual de la función de coste:  1.035\n"
     ]
    },
    {
     "name": "stdout",
     "output_type": "stream",
     "text": [
      "Paso 456. Valor actual de la función de coste:  1.051\n",
      "Paso 459. Valor actual de la función de coste:  1.050\n",
      "Paso 462. Valor actual de la función de coste:  1.050\n"
     ]
    },
    {
     "name": "stdout",
     "output_type": "stream",
     "text": [
      "Paso 465. Valor actual de la función de coste:  1.042\n",
      "Paso 468. Valor actual de la función de coste:  1.038\n",
      "Paso 471. Valor actual de la función de coste:  1.037\n",
      "Paso 474. Valor actual de la función de coste:  1.036\n",
      "Paso 477. Valor actual de la función de coste:  1.030\n"
     ]
    },
    {
     "name": "stdout",
     "output_type": "stream",
     "text": [
      "Paso 480. Valor actual de la función de coste:  1.027\n",
      "Paso 483. Valor actual de la función de coste:  1.025\n",
      "Paso 486. Valor actual de la función de coste:  1.032\n",
      "Paso 489. Valor actual de la función de coste:  1.033\n",
      "Paso 492. Valor actual de la función de coste:  1.027\n"
     ]
    },
    {
     "name": "stdout",
     "output_type": "stream",
     "text": [
      "Paso 495. Valor actual de la función de coste:  1.024\n",
      "Paso 498. Valor actual de la función de coste:  1.023\n",
      "Paso 501. Valor actual de la función de coste:  1.026\n"
     ]
    },
    {
     "name": "stdout",
     "output_type": "stream",
     "text": [
      "Paso 504. Valor actual de la función de coste:  1.026\n",
      "Paso 507. Valor actual de la función de coste:  1.027\n"
     ]
    },
    {
     "name": "stdout",
     "output_type": "stream",
     "text": [
      "Paso 510. Valor actual de la función de coste:  1.028\n",
      "Paso 513. Valor actual de la función de coste:  1.026\n",
      "Paso 516. Valor actual de la función de coste:  1.024\n"
     ]
    },
    {
     "name": "stdout",
     "output_type": "stream",
     "text": [
      "Paso 519. Valor actual de la función de coste:  1.020\n"
     ]
    },
    {
     "name": "stdout",
     "output_type": "stream",
     "text": [
      "Paso 522. Valor actual de la función de coste:  1.018\n",
      "Paso 525. Valor actual de la función de coste:  1.023\n",
      "Paso 528. Valor actual de la función de coste:  1.021\n",
      "Paso 531. Valor actual de la función de coste:  1.017\n"
     ]
    },
    {
     "name": "stdout",
     "output_type": "stream",
     "text": [
      "Paso 534. Valor actual de la función de coste:  1.016\n"
     ]
    },
    {
     "name": "stdout",
     "output_type": "stream",
     "text": [
      "Paso 537. Valor actual de la función de coste:  1.027\n",
      "Paso 540. Valor actual de la función de coste:  1.026\n",
      "Paso 543. Valor actual de la función de coste:  1.027\n",
      "Paso 546. Valor actual de la función de coste:  1.033\n",
      "Paso 549. Valor actual de la función de coste:  1.023\n",
      "Paso 552. Valor actual de la función de coste:  1.023\n",
      "Paso 555. Valor actual de la función de coste:  1.026\n"
     ]
    },
    {
     "name": "stdout",
     "output_type": "stream",
     "text": [
      "Paso 558. Valor actual de la función de coste:  1.019\n"
     ]
    },
    {
     "name": "stdout",
     "output_type": "stream",
     "text": [
      "Paso 561. Valor actual de la función de coste:  1.018\n",
      "Paso 564. Valor actual de la función de coste:  1.021\n",
      "Paso 567. Valor actual de la función de coste:  1.020\n",
      "Paso 570. Valor actual de la función de coste:  1.019\n",
      "Paso 573. Valor actual de la función de coste:  1.024\n"
     ]
    },
    {
     "name": "stdout",
     "output_type": "stream",
     "text": [
      "Paso 576. Valor actual de la función de coste:  1.029\n",
      "Paso 579. Valor actual de la función de coste:  1.018\n",
      "Paso 582. Valor actual de la función de coste:  1.020\n",
      "Paso 585. Valor actual de la función de coste:  1.015\n",
      "Paso 588. Valor actual de la función de coste:  1.013\n"
     ]
    },
    {
     "name": "stdout",
     "output_type": "stream",
     "text": [
      "Paso 591. Valor actual de la función de coste:  1.014\n",
      "Paso 594. Valor actual de la función de coste:  1.011\n",
      "Paso 597. Valor actual de la función de coste:  1.009\n",
      "Paso 600. Valor actual de la función de coste:  1.011\n",
      "Paso 603. Valor actual de la función de coste:  1.013\n"
     ]
    },
    {
     "name": "stdout",
     "output_type": "stream",
     "text": [
      "Paso 606. Valor actual de la función de coste:  1.011\n",
      "Paso 609. Valor actual de la función de coste:  1.012\n",
      "Paso 612. Valor actual de la función de coste:  1.015\n",
      "Paso 615. Valor actual de la función de coste:  1.011\n",
      "Paso 618. Valor actual de la función de coste:  1.012\n",
      "Paso 621. Valor actual de la función de coste:  1.009\n"
     ]
    },
    {
     "name": "stdout",
     "output_type": "stream",
     "text": [
      "Paso 624. Valor actual de la función de coste:  1.011\n",
      "Paso 627. Valor actual de la función de coste:  1.010\n",
      "Paso 630. Valor actual de la función de coste:  1.010\n",
      "Paso 633. Valor actual de la función de coste:  1.011\n",
      "Paso 636. Valor actual de la función de coste:  1.008\n",
      "Paso 639. Valor actual de la función de coste:  1.008\n"
     ]
    },
    {
     "name": "stdout",
     "output_type": "stream",
     "text": [
      "Paso 642. Valor actual de la función de coste:  1.010\n",
      "Paso 645. Valor actual de la función de coste:  1.009\n",
      "Paso 648. Valor actual de la función de coste:  1.015\n",
      "Paso 651. Valor actual de la función de coste:  1.011\n",
      "Paso 654. Valor actual de la función de coste:  1.016\n",
      "Paso 657. Valor actual de la función de coste:  1.016\n"
     ]
    },
    {
     "name": "stdout",
     "output_type": "stream",
     "text": [
      "Paso 660. Valor actual de la función de coste:  1.022\n",
      "Paso 663. Valor actual de la función de coste:  1.019\n",
      "Paso 666. Valor actual de la función de coste:  1.019\n",
      "Paso 669. Valor actual de la función de coste:  1.022\n",
      "Paso 672. Valor actual de la función de coste:  1.017\n",
      "Paso 675. Valor actual de la función de coste:  1.018\n",
      "Paso 678. Valor actual de la función de coste:  1.023\n"
     ]
    },
    {
     "name": "stdout",
     "output_type": "stream",
     "text": [
      "Paso 681. Valor actual de la función de coste:  1.019\n",
      "Paso 684. Valor actual de la función de coste:  1.015\n",
      "Paso 687. Valor actual de la función de coste:  1.015\n",
      "Paso 690. Valor actual de la función de coste:  1.016\n",
      "Paso 693. Valor actual de la función de coste:  1.017\n",
      "Paso 696. Valor actual de la función de coste:  1.025\n",
      "Paso 699. Valor actual de la función de coste:  1.023\n",
      "Paso 702. Valor actual de la función de coste:  1.017\n",
      "Paso 705. Valor actual de la función de coste:  1.018\n",
      "Paso 708. Valor actual de la función de coste:  1.013\n",
      "Paso 711. Valor actual de la función de coste:  1.013\n",
      "Paso 714. Valor actual de la función de coste:  1.014\n",
      "Paso 717. Valor actual de la función de coste:  1.013\n"
     ]
    },
    {
     "name": "stdout",
     "output_type": "stream",
     "text": [
      "Paso 720. Valor actual de la función de coste:  1.014\n",
      "Paso 723. Valor actual de la función de coste:  1.013\n",
      "Paso 726. Valor actual de la función de coste:  1.018\n",
      "Paso 729. Valor actual de la función de coste:  1.019\n",
      "Paso 732. Valor actual de la función de coste:  1.017\n",
      "Paso 735. Valor actual de la función de coste:  1.019\n",
      "Paso 738. Valor actual de la función de coste:  1.019\n",
      "Paso 741. Valor actual de la función de coste:  1.027\n",
      "Paso 744. Valor actual de la función de coste:  1.030\n"
     ]
    },
    {
     "name": "stdout",
     "output_type": "stream",
     "text": [
      "Paso 747. Valor actual de la función de coste:  1.030\n",
      "Paso 750. Valor actual de la función de coste:  1.030\n",
      "Paso 753. Valor actual de la función de coste:  1.020\n",
      "Paso 756. Valor actual de la función de coste:  1.026\n",
      "Paso 759. Valor actual de la función de coste:  1.022\n",
      "Paso 762. Valor actual de la función de coste:  1.022\n",
      "Paso 765. Valor actual de la función de coste:  1.019\n",
      "Paso 768. Valor actual de la función de coste:  1.023\n",
      "Paso 771. Valor actual de la función de coste:  1.023\n"
     ]
    },
    {
     "name": "stdout",
     "output_type": "stream",
     "text": [
      "Paso 774. Valor actual de la función de coste:  1.022\n",
      "Paso 777. Valor actual de la función de coste:  1.020\n",
      "Paso 780. Valor actual de la función de coste:  1.020\n",
      "Paso 783. Valor actual de la función de coste:  1.024\n",
      "Paso 786. Valor actual de la función de coste:  1.023\n",
      "Paso 789. Valor actual de la función de coste:  1.028\n",
      "Paso 792. Valor actual de la función de coste:  1.022\n",
      "Paso 795. Valor actual de la función de coste:  1.020\n",
      "Paso 798. Valor actual de la función de coste:  1.018\n",
      "Paso 801. Valor actual de la función de coste:  1.019\n",
      "Paso 804. Valor actual de la función de coste:  1.016\n"
     ]
    },
    {
     "name": "stdout",
     "output_type": "stream",
     "text": [
      "Paso 807. Valor actual de la función de coste:  1.017\n",
      "Paso 810. Valor actual de la función de coste:  1.015\n",
      "Paso 813. Valor actual de la función de coste:  1.021\n",
      "Paso 816. Valor actual de la función de coste:  1.017\n",
      "Paso 819. Valor actual de la función de coste:  1.013\n",
      "Paso 822. Valor actual de la función de coste:  1.019\n",
      "Paso 825. Valor actual de la función de coste:  1.014\n",
      "Paso 828. Valor actual de la función de coste:  1.014\n",
      "Paso 831. Valor actual de la función de coste:  1.012\n",
      "Paso 834. Valor actual de la función de coste:  1.017\n"
     ]
    },
    {
     "name": "stdout",
     "output_type": "stream",
     "text": [
      "Paso 837. Valor actual de la función de coste:  1.015\n",
      "Paso 840. Valor actual de la función de coste:  1.013\n",
      "Paso 843. Valor actual de la función de coste:  1.012\n",
      "Paso 846. Valor actual de la función de coste:  1.012\n",
      "Paso 849. Valor actual de la función de coste:  1.015\n",
      "Paso 852. Valor actual de la función de coste:  1.014\n",
      "Paso 855. Valor actual de la función de coste:  1.014\n",
      "Paso 858. Valor actual de la función de coste:  1.011\n",
      "Paso 861. Valor actual de la función de coste:  1.010\n",
      "Paso 864. Valor actual de la función de coste:  1.011\n",
      "Paso 867. Valor actual de la función de coste:  1.011\n",
      "Paso 870. Valor actual de la función de coste:  1.011\n"
     ]
    },
    {
     "name": "stdout",
     "output_type": "stream",
     "text": [
      "Paso 873. Valor actual de la función de coste:  1.012\n",
      "Paso 876. Valor actual de la función de coste:  1.010\n",
      "Paso 879. Valor actual de la función de coste:  1.014\n",
      "Paso 882. Valor actual de la función de coste:  1.012\n",
      "Paso 885. Valor actual de la función de coste:  1.010\n",
      "Paso 888. Valor actual de la función de coste:  1.012\n",
      "Paso 891. Valor actual de la función de coste:  1.012\n",
      "Paso 894. Valor actual de la función de coste:  1.008\n",
      "Paso 897. Valor actual de la función de coste:  1.010\n",
      "Paso 900. Valor actual de la función de coste:  1.010\n",
      "Paso 903. Valor actual de la función de coste:  1.010\n",
      "Paso 906. Valor actual de la función de coste:  1.008\n",
      "Paso 909. Valor actual de la función de coste:  1.008\n",
      "Paso 912. Valor actual de la función de coste:  1.009\n"
     ]
    },
    {
     "name": "stdout",
     "output_type": "stream",
     "text": [
      "Paso 915. Valor actual de la función de coste:  1.011\n",
      "Paso 918. Valor actual de la función de coste:  1.009\n",
      "Paso 921. Valor actual de la función de coste:  1.008\n",
      "Paso 924. Valor actual de la función de coste:  1.011\n",
      "Paso 927. Valor actual de la función de coste:  1.009\n",
      "Paso 930. Valor actual de la función de coste:  1.011\n",
      "Paso 933. Valor actual de la función de coste:  1.008\n",
      "Paso 936. Valor actual de la función de coste:  1.007\n",
      "Paso 939. Valor actual de la función de coste:  1.008\n",
      "Paso 942. Valor actual de la función de coste:  1.011\n",
      "Paso 945. Valor actual de la función de coste:  1.010\n",
      "Paso 948. Valor actual de la función de coste:  1.009\n",
      "Paso 951. Valor actual de la función de coste:  1.010\n"
     ]
    },
    {
     "name": "stdout",
     "output_type": "stream",
     "text": [
      "Paso 954. Valor actual de la función de coste:  1.007\n",
      "Paso 957. Valor actual de la función de coste:  1.007\n",
      "Paso 960. Valor actual de la función de coste:  1.007\n",
      "Paso 963. Valor actual de la función de coste:  1.009\n",
      "Paso 966. Valor actual de la función de coste:  1.007\n",
      "Paso 969. Valor actual de la función de coste:  1.006\n",
      "Paso 972. Valor actual de la función de coste:  1.009\n",
      "Paso 975. Valor actual de la función de coste:  1.009\n",
      "Paso 978. Valor actual de la función de coste:  1.009\n",
      "Paso 981. Valor actual de la función de coste:  1.008\n",
      "Paso 984. Valor actual de la función de coste:  1.012\n",
      "Paso 987. Valor actual de la función de coste:  1.016\n",
      "Paso 990. Valor actual de la función de coste:  1.018\n"
     ]
    },
    {
     "name": "stdout",
     "output_type": "stream",
     "text": [
      "Paso 993. Valor actual de la función de coste:  1.015\n",
      "Paso 996. Valor actual de la función de coste:  1.017\n",
      "Paso 999. Valor actual de la función de coste:  1.017\n",
      "Los parámetros óptimos para este circuito son: [\n",
      "\t0.05,\t\t-0.065,\t\t-0.46,\n",
      "\t-0.044,\t\t-1.47,\t\t-0.277,\n",
      "\t0.382,\t\t1.481,\t\t1.373,\n",
      "\t0.083,\t\t0.142,\t\t0.443,\n",
      "\t0.888,\t\t0.269,\t\t0.162,\n",
      "\t1.185,\t]\n",
      "El valor del autovalor mínimo es:  1.017\n"
     ]
    }
   ],
   "source": [
    "H = op\n",
    "\n",
    "result = None\n",
    "step_size = 3\n",
    "\n",
    "result_energy = []\n",
    "\n",
    "for step in vqe(H, rounds=3, max_iter=1002, save_steps = step_size):\n",
    "    result_energy.append(step[2])\n",
    "    print('Paso {step}. Valor actual de la función de coste: {ev: .3f}'.format(step=step[0], ev = step[2]))\n",
    "    result = step\n",
    "    \n",
    "print('Los parámetros óptimos para este circuito son: [\\n'\n",
    "     + \"\".join([\"\\t\"+str(round(t,3))\n",
    "     +\",\\n\" if i%3 == 2 else \"\\t\"+str(round(t,3))\n",
    "     +\",\\t\" for i, t in enumerate(result[1])])+\"]\")\n",
    "print('El valor del autovalor mínimo es: {ev: .3f}'.format(ev=result[2]))"
   ]
  },
  {
   "cell_type": "code",
   "execution_count": 15,
   "id": "2922c1b0",
   "metadata": {
    "slideshow": {
     "slide_type": ""
    },
    "tags": []
   },
   "outputs": [
    {
     "data": {
      "image/png": "[encoded data removed]",
      "text/plain": [
       "<Figure size 1500x700 with 1 Axes>"
      ]
     },
     "metadata": {},
     "output_type": "display_data"
    }
   ],
   "source": [
    "# Con la información de las iteraciones podemos dibujar la convergencia de nuestro código\n",
    "\n",
    "fontsize = 15\n",
    "\n",
    "plt.rcParams['figure.figsize'] = (15, 7)\n",
    "plt.plot(range(len(result_energy)), result_energy, label=\"Valor de la energía\", color='red')\n",
    "plt.xticks(fontsize = fontsize)\n",
    "plt.yticks(fontsize = fontsize)\n",
    "plt.xlabel('Paso', fontsize = fontsize)\n",
    "plt.ylabel('Energía', fontsize = fontsize)\n",
    "plt.title('Convergencia de la energía con el optimizador SPSA', fontsize = fontsize)\n",
    "plt.legend(loc='upper right', fontsize = fontsize)\n",
    "plt.show()"
   ]
  },
  {
   "cell_type": "markdown",
   "id": "4d844ef7",
   "metadata": {
    "slideshow": {
     "slide_type": ""
    },
    "tags": []
   },
   "source": [
    "Por supuesto, aunque con este código abordamos los principios básicos del algoritmo y podemos obtener una aproximacion decente de $E_G$ para matrices pequeñas, este algoritmo se puede implementar de forma más eficaz, rápida y con mayor precisión en operadores de mayor dimensionalidad."
   ]
  },
  {
   "cell_type": "markdown",
   "id": "fda38064",
   "metadata": {},
   "source": [
    "En resumen, en el algoritmo VQE se fabrica un circuito cuántico (*ansatz*) parametrizado ($\\boldsymbol{\\theta}$), se ejecuta para obtener el valor esperado del operador problema ($E (\\boldsymbol{\\theta})$) y se envía el resultado a un optimizador clásico (```SPSA```) para que reajuste los parámetros. A lo largo de varias iteraciones, el algoritmo converge a un valor en torno a $E_G$."
   ]
  },
  {
   "cell_type": "markdown",
   "id": "01ab8651",
   "metadata": {
    "slideshow": {
     "slide_type": ""
    },
    "tags": []
   },
   "source": []
  },
  {
   "cell_type": "markdown",
   "id": "7a3a81d2",
   "metadata": {},
   "source": [
    "---\n",
    "Authors:\n",
    "\n",
    "Irais Bautista ([CESGA](http://www.cesga.es)), Sergio Martínez ([BIFi-UNIZAR](https://bifi.es/es/)), Jaime Scharfhausen ([UAM](https://www.uam.es/uam/inicio)) y Alejandro Jaramillo ([CSUC](https://www.csuc.cat/es))\n",
    "\n",
    "<img src=\"https://quantumspain-project.es/wp-content/uploads/2022/11/CESGA.png\" width=\"150px\">\n",
    "<img src=\"http://bifi.es/wp-content/uploads/2016/11/logo_vectorial-web.png\" width=\"200px\">\n",
    "<img src=\"https://www.iib.uam.es/iiblf6theme-theme/images/custom/logo-uam.png\" width = \"200px\">\n",
    "<img src=\"https://www.csuc.cat/sites/default/files/2021-02/CSUC_logo_corporatiu_0.png\" width = \"200px\">\n",
    "\n",
    "\n",
    "---\n",
    "::::{figure} https://quantumspain-project.es/wp-content/uploads/2022/11/Logo_QS_EspanaDigital.png\n",
    ":width: 2000px\n",
    ":align: center\n",
    "::::\n",
    "\n",
    "<center>\n",
    "<a rel=\"license\" href=\"http://creativecommons.org/licenses/by-sa/4.0/\">\n",
    "<img aling=\"left\" alt=\"Licencia Creative Commons\" style=\"border-width:0\" src=\"https://i.creativecommons.org/l/by-sa/4.0/88x31.png\" /></a>\n",
    "</center>\n",
    "\n",
    "License: <a rel=\"license\" href=\"http://creativecommons.org/licenses/by-sa/4.0/\">Licencia Creative Commons Atribución-CompartirIgual 4.0 Internacional</a>.\n",
    "\n",
    "This work has been financially supported by the Ministry for Digital Transformation and of Civil Service of the Spanish Government through the QUANTUM ENIA project call - Quantum Spain project, and by the European Union through the Recovery, Transformation and Resilience Plan - NextGenerationEU within the framework of the Digital Spain 2026 Agenda.\n",
    "\n",
    "<center>\n",
    "<img align=\"left\" src=\"https://quantumspain-project.es/wp-content/uploads/2024/02/Banner-QS_GOB_v2.png\" width=\"1000px\" />\n",
    "</center>"
   ]
  }
 ],
 "metadata": {
  "celltoolbar": "Tags",
  "kernelspec": {
   "display_name": "Python 3 (ipykernel)",
   "language": "python",
   "name": "python3"
  },
  "language_info": {
   "codemirror_mode": {
    "name": "ipython",
    "version": 3
   },
   "file_extension": ".py",
   "mimetype": "text/x-python",
   "name": "python",
   "nbconvert_exporter": "python",
   "pygments_lexer": "ipython3",
   "version": "3.11.7"
  },
  "toc": {
   "base_numbering": 1,
   "nav_menu": {},
   "number_sections": false,
   "sideBar": true,
   "skip_h1_title": true,
   "title_cell": "Table of Contents",
   "title_sidebar": "Contents",
   "toc_cell": false,
   "toc_position": {},
   "toc_section_display": true,
   "toc_window_display": false
  },
  "vscode": {
   "interpreter": {
    "hash": "9ceb105841182fb6279c9286d3cac6f256262ba5358230452797534895d46c7b"
   }
  }
 },
 "nbformat": 4,
 "nbformat_minor": 5
}