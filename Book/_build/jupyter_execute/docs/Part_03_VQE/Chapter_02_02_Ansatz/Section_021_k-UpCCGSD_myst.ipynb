{
 "cells": [
  {
   "cell_type": "markdown",
   "id": "0ec3d300",
   "metadata": {},
   "source": [
    "> May 06, 2024 | {sub-ref}`wordcount-minutes` min read\n",
    "\n",
    "::::{figure} https://quantumspain-project.es/wp-content/uploads/2022/11/Logo_QS_EspanaDigital.png\n",
    ":width: 1000px\n",
    ":align: left\n",
    "::::\n",
    "\n",
    "\n",
    "\n",
    "Authors:\n",
    "* Irais Bautista ([CESGA](http://www.cesga.es)), Sergio Martínez ([BIFi-UNIZAR](https://bifi.es/es/)), Jaime Scharfhausen ([UAM](https://www.uam.es/uam/inicio)) y Alejandro Jaramillo ([CSUC](https://www.csuc.cat/es))\n",
    "\n",
    "<img src=\"https://quantumspain-project.es/wp-content/uploads/2022/11/CESGA.png\" width=\"100px\">\n",
    "<img src=\"http://bifi.es/wp-content/uploads/2016/11/logo_vectorial-web.png\" width=\"200px\">\n",
    "<img src=\"https://www.iib.uam.es/iiblf6theme-theme/images/custom/logo-uam.png\" width = \"200px\">\n",
    "<img src=\"https://www.csuc.cat/sites/default/files/2021-02/CSUC_logo_corporatiu_0.png\" width = \"200px\">"
   ]
  },
  {
   "cell_type": "markdown",
   "id": "f4bdf484",
   "metadata": {},
   "source": [
    "<a id = 'sec_Ansatz_k-UpCCGSD'></a>\n",
    "# Ansatz k-UpCCGSD"
   ]
  },
  {
   "cell_type": "code",
   "execution_count": 1,
   "id": "21b88237",
   "metadata": {
    "slideshow": {
     "slide_type": ""
    },
    "tags": [
     "remove-output",
     "hide-input"
    ]
   },
   "outputs": [
    {
     "name": "stderr",
     "output_type": "stream",
     "text": [
      "/tmp/ipykernel_7025/537049398.py:9: DeprecationWarning: ``qiskit.algorithms`` has been migrated to an independent package: https://github.com/qiskit-community/qiskit-algorithms. The ``qiskit.algorithms`` import path is deprecated as of qiskit-terra 0.25.0 and will be removed no earlier than 3 months after the release date. Please run ``pip install qiskit_algorithms`` and use ``import qiskit_algorithms`` instead.\n",
      "  from qiskit.algorithms.minimum_eigensolvers import VQE\n"
     ]
    }
   ],
   "source": [
    "import qiskit\n",
    "# from qiskit_ibm_provider import IBMProvider\n",
    "# from qiskit import IBMQ\n",
    "# import qiskit.tools.jupyter\n",
    "from qiskit.tools.parallel import parallel_map\n",
    "import json\n",
    "from styles.style import qspain\n",
    "\n",
    "from qiskit.algorithms.minimum_eigensolvers import VQE\n",
    "from qiskit.algorithms.optimizers import COBYLA, SPSA, POWELL\n",
    "from qiskit.primitives import Estimator\n",
    "\n",
    "from qiskit_nature.second_q.circuit.library import UCC, PUCCD, HartreeFock\n",
    "from qiskit_nature.second_q.mappers import QubitMapper, JordanWignerMapper\n",
    "from qiskit_nature.second_q.drivers import PySCFDriver\n",
    "from qiskit_nature.units import DistanceUnit\n",
    "from qiskit_nature.second_q.algorithms import GroundStateEigensolver\n",
    "\n",
    "import pennylane as qml\n",
    "from pennylane import numpy as np\n",
    "\n",
    "\n",
    "%matplotlib inline\n",
    "#IBMQ.load_account()\n",
    "\n",
    "#%qiskit_backend_overview"
   ]
  },
  {
   "cell_type": "markdown",
   "id": "786df864",
   "metadata": {
    "slideshow": {
     "slide_type": ""
    },
    "tags": []
   },
   "source": [
    ":::{contents}\n",
    ":local:\n",
    ":depth: 1\n",
    ":::\n"
   ]
  },
  {
   "cell_type": "markdown",
   "id": "e566a634",
   "metadata": {},
   "source": [
    "(sec_Teoría_de_Coupled_Cluster)= \n",
    "## Teoría de Coupled Cluster"
   ]
  },
  {
   "cell_type": "markdown",
   "id": "2c49aca5",
   "metadata": {},
   "source": [
    "Para obtener el estado fundamental de una molécula, dado que son sistemas relativamente complejos en los que los diferentes electrones pueden ocupar muchas posiciones en los diferentes orbitales, es prácticamente imposible obtener un resultado exacto. En su lugar, se utilizan métodos aproximados.\n",
    "\n",
    "\n",
    "El más famoso de estos métodos, así como el punto de partida para empezar a aplicar el resto, es el método de Hartree-Fock. Con él se pueden aproximar las funciones de onda de los electrones del sistema atendiendo a la configuración de los orbitales atómicos o moleculares. \n",
    "\n",
    "\n",
    "Sin embargo, este método está bastante limitado por varios motivos: no considera la correlación electrónica, hace uso de la aproximación de Born-Oppenheimer para los núcleos, no tiene en cuenta posibles efectos relativistas... Es por todo esto que, tras obtener una primera aproximación del estado fundamental, se utilizan otros métodos para terminar de \"pulir\" este resultado como *Configuration Interaction* (CI) o *Møller–Plesset perturbation theory* (MP) {cite}`bib_andres_bort_theoretical_2007`.\n",
    "\n",
    "\n",
    "Es dentro de estos métodos post-Hartree-Fock donde encontramos los métodos de *Coupled Cluster* {cite}`bib_cizek_coupled_1980`, {cite}`bib_mcclean_theory_2016`, {cite}`bib_anand_quantum_2022`. La base del CC es, en resumidas cuentas, considerar de forma ponderada cómo contribuyen los estados con electrones a la energía del estado fundamental molecular. Para ello se añaden términos a la función de onda considerando las excitaciones de un electron de los orbitales libres a los orbitales ocupados (*Single excitation*), después de dos electrones con todas las combinaciones posibles (*Double*) y así sucesivamente.\n",
    "\n",
    "\n",
    "Los métodos CC se usan para crear sistemas correlacionados utilizando un **operador de cluster** $\\hat{T}$, de forma que el estado fabricado se genera a partir de otro de referencia haciendo \n",
    "\n",
    "$$\n",
    "\\ket{\\psi} = e^{\\hat{T}} \\ket{\\phi_0}\n",
    "$$ \n",
    "\n",
    "\n",
    "siendo $\\ket{\\phi_0}$ el estado de referencia en cuestión, típicamente el de Hartree-Fock.\n",
    "\n",
    "\n",
    "Dentro de estos métodos encontramos los CCSD (***Single and Double excitations*** *Coupled Cluster*), es decir, métodos que se limitan a considerar excitaciones simples o dobles de los orbitales. Cuando trabajamos con CCSD, el operador de cluster toma la forma \n",
    "\n",
    "$$ \n",
    "\\hat{T} =  \\hat{T}_1 + \\hat{T}_2 \n",
    "$$ \n",
    "\n",
    "\n",
    "siendo \n",
    "\n",
    "$$ \n",
    "\\hat{T}_1 = \\sum_{i,a} t_i^a \\hat{a}^\\dagger_a \\hat{a}_i \n",
    "$$\n",
    "\n",
    "\n",
    "y \n",
    "\n",
    "$$  \n",
    "\\hat{T}_2 = \\frac{1}{4} \\sum_{i,j ; a,b} t^{ab}_{ij} \\hat{a}^\\dagger_{a} \\hat{a}^\\dagger_{b} \\hat{a}_j \\hat{a}_i \n",
    "$$\n",
    "\n",
    "\n",
    "Los índices $i,j$ denotan orbitales ocupados, mientras que los índices $a,b$ denotan orbitales libres. Los parámetros a optimizar por tanto por el algoritmo VQE son precisamente estos $t^a_i, t^{ab}_{ij}$.\n",
    "\n",
    "\n",
    "Los operadores CC presentan un problema a la hora de implementarlos como parte de un algoritmo VQE, ya que la forma de proyectar el Hamiltoniano del sistema sobre los estados fabricados para calcular la energía no es compatible con el método variacional, que es la columna vertebral del VQE. Para solventar este problema tenemos un caso particular de los métodos CC: los métodos UCC (***Unitary*** *Coupled Cluster*). \n",
    "\n",
    "\n",
    "La solución al problema variacional es muy simple: la forma de fabricar el *ansatz* pasa a ser \n",
    "\n",
    "$$ \n",
    "\\ket{\\psi} = e^{\\hat{T} - \\hat{T}^\\dagger} \\ket{\\phi_0} \n",
    "$$\n",
    "\n",
    "\n",
    "Al igual que con los CC, podemos definir métodos UCCSD, con excitaciones simples y dobles, tomando de nuevo $ \\hat{T} =  \\hat{T}_1 + \\hat{T}_2 $. Un ordenador cuántico puede implementar eficientemente estos métodos UCCSD utilizando una **trotterización** del operador de cluster exponenciado.\n",
    "\n",
    "\n",
    "Después de esto, podemos buscar otro caso de UCC, el llamado UCCG (*Unitary Coupled Cluster **with Generalized wave functions***), el cual no distingue entre orbitales ocupados y libres. Es por ello que, en el caso UCCGSD, el operador de cluster vuelve a estar definido como $ \\hat{T} = \\hat{T}_1 + \\hat{T}_2 $, pero esta vez \n",
    "\n",
    "$$ \n",
    "\\hat{T}_1 = \\frac{1}{2} \\sum_{p,q} t^q_p \\hat{a}^\\dagger_q \\hat{a}_p \n",
    "$$ \n",
    "\n",
    "\n",
    "y \n",
    "\n",
    "$$ \n",
    "\\hat{T}_2 = \\frac{1}{4} \\sum_{p,q,r,s} t^{rs}_{pq} \\hat{a}^\\dagger_r \\hat{a}^\\dagger_s \\hat{a}_q \\hat{a}_p \n",
    "$$ \n",
    "\n",
    "\n",
    "denotando los cuatro índices $p,q,r,s$ cualquier tipo de orbital sin ocupar su ocupación.\n",
    "\n",
    "\n",
    "Estos últimos *ansätze* se pueden implementar en qiskit utilizando ```qiskit_nature```."
   ]
  },
  {
   "cell_type": "markdown",
   "id": "6448e6f1",
   "metadata": {},
   "source": [
    "De aquí podemos sacar una clase un poco más restringida, la clase UpCCGSD (*Unitary **Pair** Coupled Cluster with Generalized Singles and Doubles product wave functions*), que limita las amplitudes de las excitaciones dobles considerando únicamente las que mueven **un par de electrones** de un orbital espacial a otro. Esto provoca un cambio en el operador $\\hat{T}_2$, que se convierte en \n",
    "\n",
    "$$ \n",
    "\\hat{T}_2 = \\sum_{p,q} t^{q_\\alpha q_\\beta}_{p_\\alpha p_\\beta} \\hat{a}^\\dagger_{q_\\alpha} \\hat{a}^\\dagger_{q_\\beta} \\hat{a}_{p_\\beta} \\hat{a}_{p_\\alpha}\n",
    "$$\n",
    "\n",
    "\n",
    "Y de aquí por fin llegamos a la clase que queremos estudiar, k-UpCCGSD {cite}`bib_lee_generalized_2019`, {cite}`bib_greene_diniz_generalized_2021`, {cite}`bib_lim_quantum_2022`, con $k \\in \\mathbb{Z}$. Con este entero $k$ definimos nuestra función de prueba $\\ket{\\psi}$ como \n",
    "\n",
    "$$ \n",
    "\\ket{\\psi} = \\left( \\prod_{\\mu = 1}^k e^{\\hat{T}^{(\\mu)} - \\hat{T}^{(\\mu) \\dagger}} \\right) \\ket{\\phi_0} \n",
    "$$ \n",
    "\n",
    "\n",
    "haciendo que cada $ \\hat{T}^{(\\mu)} $ tenga su propio conjunto de parámetros $t^q_p, t^{q_\\alpha q_\\beta}_{p_\\alpha p_\\beta}$. "
   ]
  },
  {
   "cell_type": "markdown",
   "id": "c2de261a-cda5-4ed0-b610-656291b43b24",
   "metadata": {},
   "source": [
    "(sec_Utilizar_k-UpCCGSD)= \n",
    "## Utilizar k-UpCCGSD"
   ]
  },
  {
   "cell_type": "markdown",
   "id": "d250f1eb-6c39-4027-a6d9-76aad3c19943",
   "metadata": {},
   "source": [
    "Las mejores alternativas para implementar el ansatz k-UpCCGSD son ```qiskit```, librería con la que ya estamos, familiarizados, y ```pennylane``` otra librería enfocada a la Computación Cuántica y, más concretamente, a Quantum Machine Learning.\n",
    "\n",
    "\n",
    "Como ejemplo prototípico para problemas moleculares, vamos a resolver la molécula de hidrógeno $H_2$."
   ]
  },
  {
   "cell_type": "markdown",
   "id": "c0ba3b85",
   "metadata": {},
   "source": [
    ":::::{tab-set}\n",
    "::::{tab-item} Pennylane\n",
    "```python\n",
    "\n",
    "# Construimos la molécula de Hidrógeno H2\n",
    "symbols = [\"H\", \"H\"]\n",
    "coordinates = np.array([0.0, 0.0, 0.0, 0.0, 0.0, 1.400])\n",
    "H, qubits = qml.qchem.molecular_hamiltonian(symbols, coordinates)\n",
    "\n",
    "# Obtenemos el estado de referencia de Hartree-Fock\n",
    "electrons = 2\n",
    "ref_state = qml.qchem.hf_state(electrons, qubits)\n",
    "```\n",
    "::::\n",
    "::::{tab-item} Qiskit\n",
    "```python\n",
    "\n",
    "# Construimos la molécula de Hidrógeno H2\n",
    "driver = PySCFDriver(\n",
    "    atom=\"H 0 0 0; H 0 0 0.741\",\n",
    "    basis=\"sto3g\",\n",
    "    charge=0,\n",
    "    spin=0,\n",
    "    unit=DistanceUnit.ANGSTROM,\n",
    "    # El método de aproximación por defecto es Hartree-Fock: method=MethodType.RHF\n",
    ")\n",
    "\n",
    "es_problem = driver.run()\n",
    "\n",
    "# Utilizamos el mapping de Jordan-Wigner\n",
    "mapper = JordanWignerMapper()\n",
    "\n",
    "# Obtenemos el estado de referencia de Hartree-Fock\n",
    "ref_state = HartreeFock(es_problem.num_spatial_orbitals, es_problem.num_particles, mapper)\n",
    "```\n",
    "::::\n",
    ":::::\n"
   ]
  },
  {
   "cell_type": "code",
   "execution_count": 2,
   "id": "eecd51e9-215d-4875-b646-0958561aa37a",
   "metadata": {
    "tags": [
     "remove_input"
    ]
   },
   "outputs": [],
   "source": [
    "'''Pennylane_code_cell'''\n",
    "\n",
    "# Construimos la molécula de Hidrógeno H2\n",
    "symbols = [\"H\", \"H\"]\n",
    "coordinates = np.array([0.0, 0.0, 0.0, 0.0, 0.0, 1.400])\n",
    "H, qubits = qml.qchem.molecular_hamiltonian(symbols, coordinates)\n",
    "\n",
    "# Obtenemos el estado de referencia de Hartree-Fock\n",
    "electrons = 2\n",
    "ref_state = qml.qchem.hf_state(electrons, qubits)"
   ]
  },
  {
   "cell_type": "markdown",
   "id": "60bb7791-8d17-4cea-9d24-2d98f0dc12b1",
   "metadata": {
    "slideshow": {
     "slide_type": ""
    },
    "tags": []
   },
   "source": [
    "Un detalle importante a tener en cuenta a la hora de trabajar con estas librerías es que, mientras que en ```qiskit``` podemos decidir con qué unidades trabajamos, en ```pennylane``` trabajamos con unidades atómicas.En estas unidades, la distancia de enlace entre los átomos de hidrógeno de la molécula es $ 0.741 \\cdot 10^{-10} \\text{m} =1.40 a_0$"
   ]
  },
  {
   "cell_type": "markdown",
   "id": "47f2081d",
   "metadata": {},
   "source": [
    ":::::{tab-set}\n",
    "::::{tab-item} Pennylane\n",
    "```python\n",
    "\n",
    "# En pennylane tenemos que definir el circuito sobre el que trabajará el ansatz\n",
    "dev = qml.device('default.qubit', wires=qubits)\n",
    "\n",
    "# Definimos el ansatz k-UpCCGSD\n",
    "# weights son los parámetros t^q_p, t^{q_\\alpha q_\\beta}_{p_\\alpha p_\\beta}\n",
    "# wires son los qubits (o en general los sistemas) sobre los que se define el ansatz.\n",
    "# delta_sz especifica las reglas de selección para la proyección del espín en dirección z \n",
    "#     en los orbitales de las excitaciones simples.\n",
    "\n",
    "k = 3\n",
    "\n",
    "@qml.qnode(dev)\n",
    "def ansatz(weights):\n",
    "    qml.kUpCCGSD(weights, wires=[0, 1, 2, 3],\n",
    "                    k=k, delta_sz=0, init_state=ref_state)\n",
    "    return qml.expval(H)\n",
    "\n",
    "shape = qml.kUpCCGSD.shape(k=k,\n",
    "                    n_wires=qubits, delta_sz=0)\n",
    "```\n",
    "::::\n",
    "::::{tab-item} Qiskit\n",
    "```python\n",
    "\n",
    "# Preparamos el ansatz k-UpCCGSD\n",
    "\n",
    "k = 3\n",
    "\n",
    "# Para preparar este ansatz partimos de una función que ejecuta un ansatz UpCCD\n",
    "# Podemos añadirle las k repeticiones con la opción reps\n",
    "# Podemos añadirle las excitaciones S con la opción include_singles\n",
    "# Podemos añadirle las excitaciones generalizadas con la opción generalized\n",
    "\n",
    "ansatz = PUCCD(\n",
    "    num_spatial_orbitals=es_problem.num_spatial_orbitals, \n",
    "    num_particles=es_problem.num_particles, \n",
    "    qubit_mapper=mapper, \n",
    "    include_singles=(True,True), \n",
    "    generalized=True, \n",
    "    reps=k\n",
    ")\n",
    "```\n",
    "::::\n",
    ":::::\n"
   ]
  },
  {
   "cell_type": "code",
   "execution_count": 3,
   "id": "283dc8b5-2883-4cd6-9d76-9b66db3dad5f",
   "metadata": {
    "tags": [
     "remove_input"
    ]
   },
   "outputs": [],
   "source": [
    "'''Pennylane_code_cell'''\n",
    "\n",
    "# En pennylane tenemos que definir el circuito sobre el que trabajará el ansatz\n",
    "dev = qml.device('default.qubit', wires=qubits)\n",
    "\n",
    "# Definimos el ansatz k-UpCCGSD\n",
    "# weights son los parámetros t^q_p, t^{q_\\alpha q_\\beta}_{p_\\alpha p_\\beta}\n",
    "# wires son los qubits (o en general los sistemas) sobre los que se define el ansatz.\n",
    "# delta_sz especifica las reglas de selección para la proyección del espín en dirección z \n",
    "#     en los orbitales de las excitaciones simples.\n",
    "\n",
    "k = 3\n",
    "\n",
    "@qml.qnode(dev)\n",
    "def ansatz(weights):\n",
    "    qml.kUpCCGSD(weights, wires=[0, 1, 2, 3],\n",
    "                    k=k, delta_sz=0, init_state=ref_state)\n",
    "    return qml.expval(H)\n",
    "\n",
    "shape = qml.kUpCCGSD.shape(k=k,\n",
    "                    n_wires=qubits, delta_sz=0)"
   ]
  },
  {
   "cell_type": "markdown",
   "id": "e0e1bf37-7030-4521-9193-2beeeec7bb78",
   "metadata": {
    "slideshow": {
     "slide_type": ""
    },
    "tags": []
   },
   "source": [
    "Lo siguiente que tenemos que hacer es escoger el optimizador clásico."
   ]
  },
  {
   "cell_type": "markdown",
   "id": "44abfdda",
   "metadata": {},
   "source": [
    ":::::{tab-set}\n",
    "::::{tab-item} Pennylane\n",
    "```python\n",
    "\n",
    "# Escogemos un optimizador\n",
    "opt = qml.GradientDescentOptimizer(stepsize=0.4)\n",
    "# opt = qml.GradientDescentOptimizer(stepsize=0.04)\n",
    "# opt = qml.QNGOptimizer(stepsize=0.01)\n",
    "# opt = qml.RMSPropOptimizer(stepsize=0.01)\n",
    "# opt = qml.AdamOptimizer(stepsize=0.01)\n",
    "# opt = qml.AdagradOptimizer(stepsize=0.01)\n",
    "# opt = qml.SPSAOptimizer(maxiter=250) \n",
    "```\n",
    "::::\n",
    "::::{tab-item} Qiskit\n",
    "```python\n",
    "\n",
    "# Escogemos un optimizador\n",
    "opt = COBYLA(maxiter=1000)\n",
    "# opt = POWELL()\n",
    "```\n",
    "::::\n",
    ":::::\n"
   ]
  },
  {
   "cell_type": "code",
   "execution_count": 4,
   "id": "3f8d7c2a-729d-4e87-bc50-44d4f3623eee",
   "metadata": {
    "tags": [
     "remove_input"
    ]
   },
   "outputs": [],
   "source": [
    "'''Pennylane_code_cell'''\n",
    "\n",
    "# Escogemos un optimizador\n",
    "opt = qml.GradientDescentOptimizer(stepsize=0.4)\n",
    "# opt = qml.GradientDescentOptimizer(stepsize=0.04)\n",
    "# opt = qml.QNGOptimizer(stepsize=0.01)\n",
    "# opt = qml.RMSPropOptimizer(stepsize=0.01)\n",
    "# opt = qml.AdamOptimizer(stepsize=0.01)\n",
    "# opt = qml.AdagradOptimizer(stepsize=0.01)\n",
    "# opt = qml.SPSAOptimizer(maxiter=250) "
   ]
  },
  {
   "cell_type": "markdown",
   "id": "a4ff4868-04b5-43da-9238-c015d7ef2f77",
   "metadata": {
    "slideshow": {
     "slide_type": ""
    },
    "tags": []
   },
   "source": [
    "Y ya podemos resolver el problema VQE"
   ]
  },
  {
   "cell_type": "markdown",
   "id": "5a7ee3b3",
   "metadata": {},
   "source": [
    ":::::{tab-set}\n",
    "::::{tab-item} Pennylane\n",
    "```python\n",
    "\n",
    "# Inicializamos los primeros parámetros\n",
    "weights = np.random.random(size=shape)\n",
    "energy = [ansatz(weights)]\n",
    "\n",
    "# E iniciamos el proceso iterativo\n",
    "angle = [weights]\n",
    "max_iterations = 250\n",
    "conv_tol = 1e-08 # Escogemos una tolerancia en la que queremos que se detenga el algoritmo\n",
    "for n in range(max_iterations):\n",
    "    weights, prev_energy = opt.step_and_cost(ansatz, weights)\n",
    "    energy.append(ansatz(weights))\n",
    "    angle.append(weights)\n",
    "    conv = np.abs(energy[-1] - prev_energy)\n",
    "    # if n % 4 == 0:\n",
    "        # print(f\"Iteración: {n},  Energía = {energy[-1]:.8f} Ha\")\n",
    "    if conv <= conv_tol:\n",
    "        break\n",
    "\n",
    "print(\"\\n\" f\"Energía del estado fundamental (obtenida) = {energy[-1]:.8f} Ha\")\n",
    "print(\"\\n\" f\"Valores óptimos del circuito = {angle[-1]}\")\n",
    "```\n",
    "::::\n",
    "::::{tab-item} Qiskit\n",
    "```python\n",
    "\n",
    "# Ejecutamos el algoritmo\n",
    "vqe_solver = VQE(Estimator(), ansatz, opt)\n",
    "\n",
    "calc = GroundStateEigensolver(mapper, vqe_solver)\n",
    "\n",
    "res = calc.solve(es_problem)\n",
    "best = res.total_energies\n",
    "print('E_G =',best)\n",
    "```\n",
    "::::\n",
    ":::::\n"
   ]
  },
  {
   "cell_type": "code",
   "execution_count": 5,
   "id": "d884d973-fcfa-46f6-b326-24561bbbf203",
   "metadata": {
    "tags": [
     "remove_input"
    ]
   },
   "outputs": [
    {
     "name": "stdout",
     "output_type": "stream",
     "text": [
      "\n",
      "Energía del estado fundamental (obtenida) = -1.13727592 Ha\n",
      "\n",
      "Valores óptimos del circuito = [[0.47277375 0.763124   0.65265082 0.80044558 0.63689578 0.2509901 ]\n",
      " [0.41734635 0.41822243 0.85411198 0.21763306 0.31178434 0.49424296]\n",
      " [0.88739316 0.52998541 0.2680871  0.68472122 0.53887998 0.5154465 ]]\n"
     ]
    }
   ],
   "source": [
    "'''Pennylane_code_cell'''\n",
    "\n",
    "# Inicializamos los primeros parámetros\n",
    "weights = np.random.random(size=shape)\n",
    "energy = [ansatz(weights)]\n",
    "\n",
    "# E iniciamos el proceso iterativo\n",
    "angle = [weights]\n",
    "max_iterations = 250\n",
    "conv_tol = 1e-08 # Escogemos una tolerancia en la que queremos que se detenga el algoritmo\n",
    "for n in range(max_iterations):\n",
    "    weights, prev_energy = opt.step_and_cost(ansatz, weights)\n",
    "    energy.append(ansatz(weights))\n",
    "    angle.append(weights)\n",
    "    conv = np.abs(energy[-1] - prev_energy)\n",
    "    # if n % 4 == 0:\n",
    "        # print(f\"Iteración: {n},  Energía = {energy[-1]:.8f} Ha\")\n",
    "    if conv <= conv_tol:\n",
    "        break\n",
    "\n",
    "print(\"\\n\" f\"Energía del estado fundamental (obtenida) = {energy[-1]:.8f} Ha\")\n",
    "print(\"\\n\" f\"Valores óptimos del circuito = {angle[-1]}\")"
   ]
  },
  {
   "cell_type": "markdown",
   "id": "338c4a8a",
   "metadata": {
    "slideshow": {
     "slide_type": ""
    },
    "tags": []
   },
   "source": [
    "Mostramos aquí algunas tablas del valor al que converge la energía utilizando diferentes optimizadores y valores de $k$.\n",
    "\n",
    "\n",
    "|k|E (Ha) GradDesc|E (Ha) SPSA|E (Ha) ADAM|E (Ha) RMSProp|E (Ha) Adargrad| E (Ha) QNG|\n",
    "|---|---|---|---|---|---|---|\n",
    "|3|-1.13727592|-1.13575585|-1.13727562|-1.13628251|-1.1372758 |-1.13727591|\n",
    "|4|-1.13727592|-1.1355345 |-1.13727573|-1.13727594|-1.13727586|-1.13727586|\n",
    "|5|-1.13727585|-1.13606927|-1.13726938|-1.13465174|-1.1372759 |-1.13727585|\n",
    "|6|-1.13726475|-1.13358301|-1.13727593|-1.13727594|-1.1372757 |-1.13727587|\n",
    "|7|-1.13727592|-1.13560152|-1.13727591|-1.13339437|-1.13727577|-1.1372759 |"
   ]
  },
  {
   "cell_type": "markdown",
   "id": "408735ac-e5b1-489b-81f8-db8cf5fa184f",
   "metadata": {},
   "source": [
    "---\n",
    "## Bibliografía \n",
    "```{bibliography} \n",
    ":style: plain\n",
    ":filter: docname in docnames\n",
    "```"
   ]
  },
  {
   "cell_type": "markdown",
   "id": "5d74f55d",
   "metadata": {},
   "source": [
    "---\n",
    "<center>\n",
    "<a rel=\"license\" href=\"http://creativecommons.org/licenses/by-sa/4.0/\">\n",
    "<img aling=\"left\" alt=\"Licencia Creative Commons\" style=\"border-width:0\" src=\"https://i.creativecommons.org/l/by-sa/4.0/88x31.png\" /></a>\n",
    "</center>\n",
    "\n",
    "License: <a rel=\"license\" href=\"http://creativecommons.org/licenses/by-sa/4.0/\">Licencia Creative Commons Atribución-CompartirIgual 4.0 Internacional</a>.\n",
    "\n",
    "This work has been financially supported by the Ministry for Digital Transformation and of Civil Service of the Spanish Government through the QUANTUM ENIA project call - Quantum Spain project, and by the European Union through the Recovery, Transformation and Resilience Plan - NextGenerationEU within the framework of the Digital Spain 2026 Agenda.\n",
    "\n",
    "<img align=\"left\" src=\" https://quantumspain-project.es/wp-content/uploads/2024/02/Banner-QS_GOB_v2.png\" width=\"1000px\" />"
   ]
  }
 ],
 "metadata": {
  "kernelspec": {
   "display_name": "Python 3 (ipykernel)",
   "language": "python",
   "name": "python3"
  },
  "language_info": {
   "codemirror_mode": {
    "name": "ipython",
    "version": 3
   },
   "file_extension": ".py",
   "mimetype": "text/x-python",
   "name": "python",
   "nbconvert_exporter": "python",
   "pygments_lexer": "ipython3",
   "version": "3.11.7"
  },
  "toc": {
   "base_numbering": 1,
   "nav_menu": {},
   "number_sections": false,
   "sideBar": true,
   "skip_h1_title": true,
   "title_cell": "Table of Contents",
   "title_sidebar": "Contents",
   "toc_cell": false,
   "toc_position": {},
   "toc_section_display": true,
   "toc_window_display": false
  },
  "vscode": {
   "interpreter": {
    "hash": "04cb63b4c94165b41411d368b53ddd78f1783857099b4f36631a272ff7822abc"
   }
  }
 },
 "nbformat": 4,
 "nbformat_minor": 5
}