{
 "cells": [
  {
   "cell_type": "markdown",
   "id": "26cd4ff3",
   "metadata": {},
   "source": [
    "> {sub-ref}`today` | {sub-ref}`wordcount-words` words | {sub-ref}`wordcount-minutes` min read\n",
    "\n",
    "<figure><center>\n",
    "<img align=\"left\" src=\"https://quantumspain-project.es/wp-content/uploads/2022/11/Logo_QS_EspanaDigital.png\" width=\"1000px\"/><br><br><br><br>\n",
    "</center></figure>\n",
    "\n",
    "<a id='Notebook_Date'></a> Created: 2024/05/06\n",
    "\n",
    "Authors:\n",
    "* Irais Bautista ([CESGA](http://www.cesga.es)), Sergio Martínez ([BIFi-UNIZAR](https://bifi.es/es/)), Jaime Scharfhausen ([UAM](https://www.uam.es/uam/inicio)) y Alejandro Jaramillo ([CSUC](https://www.csuc.cat/es))\n",
    "\n",
    "<img src=\"https://quantumspain-project.es/wp-content/uploads/2022/11/CESGA.png\" width=\"100px\">\n",
    "<img src=\"http://bifi.es/wp-content/uploads/2016/11/logo_vectorial-web.png\" width=\"200px\">\n",
    "<img src=\"https://www.iib.uam.es/iiblf6theme-theme/images/custom/logo-uam.png\" width = \"200px\">\n",
    "<img src=\"https://www.csuc.cat/sites/default/files/2021-02/CSUC_logo_corporatiu_0.png\" width = \"200px\">\n",
    "\n",
    "\n",
    "\n",
    "\n",
    "(sec_Formalismo_Matematico)=\n",
    "# Optimizadores\n",
    "\n",
    "Vamos a hablar de algunos algoritmos de optimización clásica útiles para la resolución de problemas VQE.\n",
    "\n",
    "```{tableofcontents}\n",
    "```\n",
    "\n",
    "---\n",
    "<center>\n",
    "<a rel=\"license\" href=\"http://creativecommons.org/licenses/by-sa/4.0/\">\n",
    "<img aling=\"left\" alt=\"Licencia Creative Commons\" style=\"border-width:0\" src=\"https://i.creativecommons.org/l/by-sa/4.0/88x31.png\" /></a>\n",
    "</center>\n",
    "\n",
    "License: <a rel=\"license\" href=\"http://creativecommons.org/licenses/by-sa/4.0/\">Licencia Creative Commons Atribución-CompartirIgual 4.0 Internacional</a>.\n",
    "\n",
    "This work has been financially supported by the Ministry for Digital Transformation and of Civil Service of the Spanish Government through the QUANTUM ENIA project call - Quantum Spain project, and by the European Union through the Recovery, Transformation and Resilience Plan - NextGenerationEU within the framework of the Digital Spain 2026 Agenda.\n",
    "\n",
    "<img align=\"left\" src=\" https://quantumspain-project.es/wp-content/uploads/2024/02/Banner-QS_GOB_v2.png\" width=\"1000px\" />"
   ]
  }
 ],
 "metadata": {
  "jupytext": {
   "text_representation": {
    "extension": ".md",
    "format_name": "myst",
    "format_version": 0.13,
    "jupytext_version": "1.16.1"
   }
  },
  "kernelspec": {
   "display_name": "Python 3 (ipykernel)",
   "language": "python",
   "name": "python3"
  },
  "language_info": {
   "codemirror_mode": {
    "name": "ipython",
    "version": 3
   },
   "file_extension": ".py",
   "mimetype": "text/x-python",
   "name": "python",
   "nbconvert_exporter": "python",
   "pygments_lexer": "ipython3",
   "version": "3.11.7"
  },
  "source_map": [
   12
  ]
 },
 "nbformat": 4,
 "nbformat_minor": 5
}