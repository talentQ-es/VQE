{
 "cells": [
  {
   "cell_type": "code",
   "execution_count": 1,
   "id": "8dd6c9c3",
   "metadata": {
    "scrolled": true,
    "slideshow": {
     "slide_type": ""
    },
    "tags": [
     "hide-input",
     "remove-output"
    ]
   },
   "outputs": [
    {
     "name": "stderr",
     "output_type": "stream",
     "text": [
      "/tmp/ipykernel_18913/2196755265.py:19: DeprecationWarning: ``qiskit.algorithms`` has been migrated to an independent package: https://github.com/qiskit-community/qiskit-algorithms. The ``qiskit.algorithms`` import path is deprecated as of qiskit-terra 0.25.0 and will be removed no earlier than 3 months after the release date. Please run ``pip install qiskit_algorithms`` and use ``import qiskit_algorithms`` instead.\n",
      "  from qiskit.algorithms.optimizers import COBYLA, SPSA, POWELL\n",
      "[Qibo 0.1.12.dev0|INFO|2024-05-22 13:14:32]: Using numpy backend on /CPU:0\n"
     ]
    }
   ],
   "source": [
    "# Librerías generales\n",
    "import numpy as np\n",
    "from collections import defaultdict\n",
    "from functools import reduce\n",
    "from itertools import product\n",
    "import random\n",
    "import scipy\n",
    "import matplotlib.pyplot as plt\n",
    "\n",
    "# Librerías Qibo\n",
    "import qibo\n",
    "from qibo import models, gates, hamiltonians\n",
    "from qibo import matrices as m\n",
    "\n",
    "# Librerías Qiskit\n",
    "import qiskit\n",
    "from qiskit import IBMQ, QuantumCircuit, QuantumRegister, ClassicalRegister, Aer, execute, transpile\n",
    "from qiskit.visualization import plot_bloch_multivector\n",
    "from qiskit.algorithms.optimizers import COBYLA, SPSA, POWELL\n",
    "from qiskit.primitives import Estimator\n",
    "from qiskit.algorithms.minimum_eigensolvers import VQE\n",
    "from qiskit.utils import QuantumInstance, algorithm_globals\n",
    "from qiskit.opflow import X, Z, I, Y\n",
    "from qiskit.circuit.library import TwoLocal\n",
    "from qiskit.tools.parallel import parallel_map\n",
    "\n",
    "random.seed()\n",
    "\n",
    "qibo.set_backend(\"numpy\")\n",
    "\n",
    "%matplotlib inline"
   ]
  },
  {
   "cell_type": "code",
   "execution_count": 2,
   "id": "72865835",
   "metadata": {
    "slideshow": {
     "slide_type": ""
    },
    "tags": []
   },
   "outputs": [
    {
     "name": "stdout",
     "output_type": "stream",
     "text": [
      "Autovalores: [1. 2. 3. 4.]\n",
      "Autovalor mínimo: 1.0\n"
     ]
    }
   ],
   "source": [
    "op = np.array([[2.5,-1,-0.5,0],[-1,2.5,0,0.5],[-0.5,0,2.5,1],[0,0.5,1,2.5]], dtype=complex)\n",
    "\n",
    "eigvals, eigvecs = scipy.linalg.eig(op)\n",
    "\n",
    "print(\"Autovalores:\", np.sort(np.real(eigvals)))\n",
    "print(\"Autovalor mínimo:\", np.real(np.round(min(eigvals))))"
   ]
  },
  {
   "cell_type": "code",
   "execution_count": 3,
   "id": "e607ec64",
   "metadata": {
    "slideshow": {
     "slide_type": ""
    },
    "tags": []
   },
   "outputs": [],
   "source": [
    "PAULIS = {\n",
    "    \"I\": np.eye(2, dtype=complex),\n",
    "    \"X\": np.array([[0,1],[1,0]], dtype=complex),\n",
    "    \"Y\": np.array([[0,-1j],[1j,0]], dtype=complex),\n",
    "    \"Z\": np.array([[1,0],[0,-1]], dtype=complex)\n",
    "}"
   ]
  },
  {
   "cell_type": "code",
   "execution_count": 4,
   "id": "46dc8025",
   "metadata": {
    "slideshow": {
     "slide_type": ""
    },
    "tags": [
     "remove-output"
    ]
   },
   "outputs": [],
   "source": [
    "def pauli_decomposition(H):\n",
    "\n",
    "    n = int(np.log2(len(H)))\n",
    "    dims = 2**n\n",
    "    \n",
    "    if H.shape != (dims,dims):\n",
    "        raise ValueError(\"La matriz debe tener dimensiones 2^n x 2^n\")\n",
    "        \n",
    "    basis_key = [\"\".join(k) for k in product(PAULIS.keys(), repeat = n)]\n",
    "    components = defaultdict(int)\n",
    "    \n",
    "    for i, val in enumerate(product(PAULIS.values(), repeat=n)):\n",
    "        basis_mat = reduce(np.kron, val)\n",
    "        coeff = H.reshape(-1).dot(basis_mat.reshape(-1)) / dims\n",
    "        coeff = np.real_if_close(coeff).item()\n",
    "        \n",
    "        if not np.allclose(coeff,0):\n",
    "            components[basis_key[i]] = coeff\n",
    "            \n",
    "    return components"
   ]
  },
  {
   "cell_type": "code",
   "execution_count": 5,
   "id": "89b87a04",
   "metadata": {
    "slideshow": {
     "slide_type": ""
    },
    "tags": []
   },
   "outputs": [
    {
     "data": {
      "text/plain": [
       "defaultdict(int, {'II': 2.5, 'XZ': -0.5, 'ZX': -1.0})"
      ]
     },
     "execution_count": 5,
     "metadata": {},
     "output_type": "execute_result"
    }
   ],
   "source": [
    "components = pauli_decomposition(op)\n",
    "components"
   ]
  },
  {
   "cell_type": "code",
   "execution_count": 6,
   "id": "5dacea48",
   "metadata": {
    "slideshow": {
     "slide_type": ""
    },
    "tags": []
   },
   "outputs": [
    {
     "name": "stdout",
     "output_type": "stream",
     "text": [
      "[[ 2.5+0.j -1. +0.j -0.5+0.j  0. +0.j]\n",
      " [-1. +0.j  2.5+0.j  0. +0.j  0.5+0.j]\n",
      " [-0.5+0.j  0. +0.j  2.5+0.j  1. +0.j]\n",
      " [ 0. +0.j  0.5+0.j  1. +0.j  2.5+0.j]]\n",
      "\n",
      " Las dos matrices son iguales.\n"
     ]
    }
   ],
   "source": [
    "restr = components['II']*np.kron(PAULIS[\"I\"],PAULIS[\"I\"]) + components['XZ']*np.kron(PAULIS[\"X\"],PAULIS[\"Z\"]) + components['ZX']*np.kron(PAULIS[\"Z\"],PAULIS[\"X\"])\n",
    "\n",
    "print(restr)\n",
    "\n",
    "if restr.all() == op.all(): print(\"\\n Las dos matrices son iguales.\")"
   ]
  },
  {
   "cell_type": "code",
   "execution_count": 7,
   "id": "4b51650a",
   "metadata": {
    "tags": [
     "remove_input"
    ]
   },
   "outputs": [],
   "source": [
    "'''Qibo_code_cell'''\n",
    "\n",
    "def ansatz(circuit, nqubits, thetas, rounds=3):\n",
    "\n",
    "    for r in range(rounds):\n",
    "        for i in range(nqubits):\n",
    "            offset = r*nqubits*2 + i*2\n",
    "                        \n",
    "            circuit.add(gates.RY(i, thetas[offset]))\n",
    "            circuit.add(gates.RZ(i, thetas[offset+1]))\n",
    "            \n",
    "            if i > 0 and r < rounds - 1:\n",
    "                circuit.add(gates.CNOT(i-1, i))\n",
    "                \n",
    "    return circuit"
   ]
  },
  {
   "cell_type": "code",
   "execution_count": 8,
   "id": "264dbedf",
   "metadata": {
    "tags": [
     "remove_input"
    ]
   },
   "outputs": [
    {
     "name": "stdout",
     "output_type": "stream",
     "text": [
      "q0: ─RY─RZ─o─────────RY─RZ─o─────────RY─RZ─o─────────RY─RZ─\n",
      "q1: ─RY─RZ─X───────o─RY─RZ─X───────o─RY─RZ─X───────o─RY─RZ─\n",
      "q2: ─────────RY─RZ─X─────────RY─RZ─X─────────RY─RZ─X─RY─RZ─\n"
     ]
    }
   ],
   "source": [
    "'''Qibo_code_cell'''\n",
    "\n",
    "nqubits = 3\n",
    "nrounds = 4\n",
    "\n",
    "qc = models.circuit.Circuit(nqubits)\n",
    "angles = np.random.rand(2*nqubits*nrounds)\n",
    "\n",
    "qc = ansatz(qc, nqubits=nqubits, thetas=angles, rounds=nrounds)\n",
    "\n",
    "print(qc.draw())"
   ]
  },
  {
   "cell_type": "code",
   "execution_count": 9,
   "id": "6d4dd8eb",
   "metadata": {
    "tags": [
     "remove_input"
    ]
   },
   "outputs": [],
   "source": [
    "'''Qibo_code_cell'''\n",
    "\n",
    "def matrix_decomposition_circuits(H, add_ansatz):\n",
    "\n",
    "    from qibo import models, gates\n",
    "\n",
    "    # Definimos variables y comprobamos las dimensiones del Hamiltoniano\n",
    "    n = int(np.log2(len(H)))\n",
    "    dims = 2**n\n",
    "    \n",
    "    if H.shape != (dims,dims):\n",
    "        raise ValueError(\"La matriz debe tener dimensiones 2^n x 2^n\")\n",
    "        \n",
    "    # Descomponemos el Hamiltoniano en cadenas de Pauli\n",
    "    components = pauli_decomposition(H)\n",
    "    \n",
    "    circuits = {}\n",
    "    for (paulistring, weight) in components.items():\n",
    "        paulis = list(enumerate(reversed(paulistring)))\n",
    "        qc = models.Circuit(n)\n",
    "        \n",
    "        # No hacemos nada si todas las Pauli son I, utilizamos este circuito vacío que medirá el estado \"0\" (autovalor 1) en todos los caso\n",
    "        if all(x[1] == \"I\" for x in paulis):\n",
    "            qc.add(gates.M(qc.nqubits-1))\n",
    "            circuits[paulistring] = (qc, weight)\n",
    "            continue\n",
    "\n",
    "        # Al resto de posibles circuitos sí les añadimos el ansatz\n",
    "        add_ansatz(qc,n)\n",
    "            \n",
    "        # Hacemos las transformaciones sobre un solo qubit\n",
    "        for idx, letter in paulis:\n",
    "            if letter == \"X\":\n",
    "                qc.add(gates.H(idx))\n",
    "            elif letter == \"Y\":\n",
    "                qc.add(gates.H(idx))\n",
    "                qc.add(gates.S(idx).dagger())\n",
    "                \n",
    "        # Añadimos las puertas multiqubit\n",
    "        for idx, (first, second) in enumerate(zip(paulis, paulis[1:])):\n",
    "            if second[1] == \"I\":\n",
    "                qc.add(gates.SWAP(first[0], second[0]))\n",
    "            elif first[1] != \"I\":\n",
    "                paulis[idx+1] = (paulis[idx+1][0], paulis[idx][1])\n",
    "                qc.add(gates.CNOT(first[0],second[0]))\n",
    "                \n",
    "        # Medimos sobre el último qubit\n",
    "        qc.add(gates.M(qc.nqubits-1))\n",
    "        circuits[paulistring] = (qc, weight)\n",
    "        \n",
    "        \n",
    "    return circuits"
   ]
  },
  {
   "cell_type": "code",
   "execution_count": 10,
   "id": "d67d7a26",
   "metadata": {
    "tags": [
     "remove_input"
    ]
   },
   "outputs": [],
   "source": [
    "'''Qibo_code_cell'''\n",
    "\n",
    "def run_circuit(circuit, shots=10000):\n",
    "    result = circuit.execute(nshots=shots)\n",
    "    counts = result.frequencies(binary=True)\n",
    "    return ((counts[\"0\"] if \"0\" in counts.keys() else 0) - (counts[\"1\"] if \"1\" in counts.keys() else 0))/shots"
   ]
  },
  {
   "cell_type": "code",
   "execution_count": 11,
   "id": "45415f61",
   "metadata": {
    "tags": [
     "remove_input"
    ]
   },
   "outputs": [],
   "source": [
    "'''Qibo_code_cell'''\n",
    "\n",
    "def expectation(H, rounds, thetas):\n",
    "    circuits = matrix_decomposition_circuits(H, lambda qc,n: ansatz(qc, n, thetas, rounds))\n",
    "    \n",
    "    return sum(map(lambda key: run_circuit(circuits[key][0])*circuits[key][1], circuits.keys()))"
   ]
  },
  {
   "cell_type": "code",
   "execution_count": 12,
   "id": "4316ab2e",
   "metadata": {
    "slideshow": {
     "slide_type": ""
    },
    "tags": []
   },
   "outputs": [],
   "source": [
    "class SPSA:\n",
    "    \n",
    "    def __init__(self, a, c, A, alpha, gamma, H, loss_function):\n",
    "        # Inicializamos parámetros de ganancia y factores de decaímiento\n",
    "        self.a = a\n",
    "        self.c = c\n",
    "        self.A = A\n",
    "        self.alpha = alpha\n",
    "        self.gamma = gamma\n",
    "        self.loss_function = loss_function\n",
    "        \n",
    "        # Contador\n",
    "        self.t = 0\n",
    "        \n",
    "    def step(self, current_estimate):\n",
    "        # Obtenemos los valores actuales para las secuencias de ganancia\n",
    "        a_t = self.a / (self.t + 1 + self.A)**self.alpha\n",
    "        c_t = self.c / (self.t + 1)**self.gamma\n",
    "        \n",
    "        # Vector de perturbaciones aleatorias de la distribución de Bernoulli\n",
    "        delta = np.random.randint(0, 2, np.array(current_estimate).shape) * 2 - 1\n",
    "        \n",
    "        # Medimos la función de pérdida en las perturbaciones\n",
    "        loss_plus = self.loss_function(current_estimate + delta * c_t)\n",
    "        loss_minus = self.loss_function(current_estimate - delta * c_t)\n",
    "        \n",
    "        # Estimación del gradiente\n",
    "        g_t = (loss_plus - loss_minus) / (2.0 * delta * c_t)\n",
    "        \n",
    "        # Actualizamos la estimación del parámetro\n",
    "        current_estimate = current_estimate - a_t * g_t\n",
    "        \n",
    "        # Incrementamos el contador\n",
    "        self.t +=1\n",
    "        \n",
    "        return current_estimate"
   ]
  },
  {
   "cell_type": "code",
   "execution_count": 13,
   "id": "b1fe1997",
   "metadata": {
    "slideshow": {
     "slide_type": ""
    },
    "tags": []
   },
   "outputs": [],
   "source": [
    "def vqe(H, rounds, max_iter, thetas=None, save_steps = None):\n",
    "   \n",
    "    cnt_qubits = int(np.log2(len(H)))\n",
    "    if thetas is None:\n",
    "        thetas = list(map(lambda x: random.random(), [0] * ((1+rounds)*cnt_qubits*2)))\n",
    "        \n",
    "    # Creamos la clase del optimizador\n",
    "    optimizer = SPSA(a = 0.9, c = 1.0, A = max_iter/10, alpha = 0.602, gamma = 0.101, H = H, loss_function = lambda t_thetas: expectation(H, rounds, t_thetas))\n",
    "    \n",
    "    # Loop principal\n",
    "    for i in range(max_iter):\n",
    "        thetas = optimizer.step(thetas)\n",
    "        \n",
    "        if save_steps is not None and i % save_steps == 0:\n",
    "            yield (i, thetas, expectation(H, rounds, thetas))\n",
    "            \n",
    "    return (thetas, expectation(H, rounds, thetas))"
   ]
  },
  {
   "cell_type": "code",
   "execution_count": 14,
   "id": "38633b1e",
   "metadata": {
    "slideshow": {
     "slide_type": ""
    },
    "tags": [
     "scroll-output"
    ]
   },
   "outputs": [
    {
     "name": "stdout",
     "output_type": "stream",
     "text": [
      "Paso 0. Valor actual de la función de coste:  3.385\n",
      "Paso 3. Valor actual de la función de coste:  3.382\n",
      "Paso 6. Valor actual de la función de coste:  3.348\n",
      "Paso 9. Valor actual de la función de coste:  3.327\n",
      "Paso 12. Valor actual de la función de coste:  3.304\n",
      "Paso 15. Valor actual de la función de coste:  3.248\n",
      "Paso 18. Valor actual de la función de coste:  3.266\n",
      "Paso 21. Valor actual de la función de coste:  3.275\n",
      "Paso 24. Valor actual de la función de coste:  3.199\n",
      "Paso 27. Valor actual de la función de coste:  3.155\n",
      "Paso 30. Valor actual de la función de coste:  3.183\n",
      "Paso 33. Valor actual de la función de coste:  3.171\n"
     ]
    },
    {
     "name": "stdout",
     "output_type": "stream",
     "text": [
      "Paso 36. Valor actual de la función de coste:  3.085\n"
     ]
    },
    {
     "name": "stdout",
     "output_type": "stream",
     "text": [
      "Paso 39. Valor actual de la función de coste:  3.062\n",
      "Paso 42. Valor actual de la función de coste:  3.056\n",
      "Paso 45. Valor actual de la función de coste:  3.040\n"
     ]
    },
    {
     "name": "stdout",
     "output_type": "stream",
     "text": [
      "Paso 48. Valor actual de la función de coste:  2.983\n",
      "Paso 51. Valor actual de la función de coste:  2.867\n",
      "Paso 54. Valor actual de la función de coste:  2.776\n",
      "Paso 57. Valor actual de la función de coste:  2.735\n",
      "Paso 60. Valor actual de la función de coste:  2.614\n",
      "Paso 63. Valor actual de la función de coste:  2.547\n",
      "Paso 66. Valor actual de la función de coste:  2.508\n",
      "Paso 69. Valor actual de la función de coste:  2.436\n",
      "Paso 72. Valor actual de la función de coste:  2.437\n",
      "Paso 75. Valor actual de la función de coste:  2.403\n",
      "Paso 78. Valor actual de la función de coste:  2.369\n",
      "Paso 81. Valor actual de la función de coste:  2.357\n",
      "Paso 84. Valor actual de la función de coste:  2.319\n"
     ]
    },
    {
     "name": "stdout",
     "output_type": "stream",
     "text": [
      "Paso 87. Valor actual de la función de coste:  2.267\n"
     ]
    },
    {
     "name": "stdout",
     "output_type": "stream",
     "text": [
      "Paso 90. Valor actual de la función de coste:  2.230\n",
      "Paso 93. Valor actual de la función de coste:  2.159\n",
      "Paso 96. Valor actual de la función de coste:  2.147\n"
     ]
    },
    {
     "name": "stdout",
     "output_type": "stream",
     "text": [
      "Paso 99. Valor actual de la función de coste:  2.143\n",
      "Paso 102. Valor actual de la función de coste:  2.169\n",
      "Paso 105. Valor actual de la función de coste:  2.117\n",
      "Paso 108. Valor actual de la función de coste:  2.135\n",
      "Paso 111. Valor actual de la función de coste:  2.079\n",
      "Paso 114. Valor actual de la función de coste:  2.069\n",
      "Paso 117. Valor actual de la función de coste:  2.074\n",
      "Paso 120. Valor actual de la función de coste:  2.062\n",
      "Paso 123. Valor actual de la función de coste:  2.047\n",
      "Paso 126. Valor actual de la función de coste:  1.940\n",
      "Paso 129. Valor actual de la función de coste:  1.920\n",
      "Paso 132. Valor actual de la función de coste:  1.915\n",
      "Paso 135. Valor actual de la función de coste:  1.847\n"
     ]
    },
    {
     "name": "stdout",
     "output_type": "stream",
     "text": [
      "Paso 138. Valor actual de la función de coste:  1.789\n"
     ]
    },
    {
     "name": "stdout",
     "output_type": "stream",
     "text": [
      "Paso 141. Valor actual de la función de coste:  1.789\n",
      "Paso 144. Valor actual de la función de coste:  1.810\n",
      "Paso 147. Valor actual de la función de coste:  1.797\n"
     ]
    },
    {
     "name": "stdout",
     "output_type": "stream",
     "text": [
      "Paso 150. Valor actual de la función de coste:  1.751\n",
      "Paso 153. Valor actual de la función de coste:  1.746\n",
      "Paso 156. Valor actual de la función de coste:  1.721\n",
      "Paso 159. Valor actual de la función de coste:  1.703\n",
      "Paso 162. Valor actual de la función de coste:  1.670\n",
      "Paso 165. Valor actual de la función de coste:  1.659\n",
      "Paso 168. Valor actual de la función de coste:  1.681\n",
      "Paso 171. Valor actual de la función de coste:  1.639\n",
      "Paso 174. Valor actual de la función de coste:  1.635\n",
      "Paso 177. Valor actual de la función de coste:  1.633\n",
      "Paso 180. Valor actual de la función de coste:  1.602\n",
      "Paso 183. Valor actual de la función de coste:  1.608\n"
     ]
    },
    {
     "name": "stdout",
     "output_type": "stream",
     "text": [
      "Paso 186. Valor actual de la función de coste:  1.621\n"
     ]
    },
    {
     "name": "stdout",
     "output_type": "stream",
     "text": [
      "Paso 189. Valor actual de la función de coste:  1.587\n",
      "Paso 192. Valor actual de la función de coste:  1.524\n"
     ]
    },
    {
     "name": "stdout",
     "output_type": "stream",
     "text": [
      "Paso 195. Valor actual de la función de coste:  1.491\n",
      "Paso 198. Valor actual de la función de coste:  1.524\n",
      "Paso 201. Valor actual de la función de coste:  1.514\n",
      "Paso 204. Valor actual de la función de coste:  1.494\n",
      "Paso 207. Valor actual de la función de coste:  1.483\n",
      "Paso 210. Valor actual de la función de coste:  1.482\n",
      "Paso 213. Valor actual de la función de coste:  1.475\n",
      "Paso 216. Valor actual de la función de coste:  1.447\n",
      "Paso 219. Valor actual de la función de coste:  1.452\n",
      "Paso 222. Valor actual de la función de coste:  1.451\n"
     ]
    },
    {
     "name": "stdout",
     "output_type": "stream",
     "text": [
      "Paso 225. Valor actual de la función de coste:  1.448\n"
     ]
    },
    {
     "name": "stdout",
     "output_type": "stream",
     "text": [
      "Paso 228. Valor actual de la función de coste:  1.433\n",
      "Paso 231. Valor actual de la función de coste:  1.438\n",
      "Paso 234. Valor actual de la función de coste:  1.413\n",
      "Paso 237. Valor actual de la función de coste:  1.421\n",
      "Paso 240. Valor actual de la función de coste:  1.421\n",
      "Paso 243. Valor actual de la función de coste:  1.408\n"
     ]
    },
    {
     "name": "stdout",
     "output_type": "stream",
     "text": [
      "Paso 246. Valor actual de la función de coste:  1.371\n",
      "Paso 249. Valor actual de la función de coste:  1.372\n",
      "Paso 252. Valor actual de la función de coste:  1.379\n",
      "Paso 255. Valor actual de la función de coste:  1.372\n",
      "Paso 258. Valor actual de la función de coste:  1.359\n",
      "Paso 261. Valor actual de la función de coste:  1.369\n",
      "Paso 264. Valor actual de la función de coste:  1.334\n",
      "Paso 267. Valor actual de la función de coste:  1.343\n",
      "Paso 270. Valor actual de la función de coste:  1.310\n",
      "Paso 273. Valor actual de la función de coste:  1.268\n"
     ]
    },
    {
     "name": "stdout",
     "output_type": "stream",
     "text": [
      "Paso 276. Valor actual de la función de coste:  1.248\n"
     ]
    },
    {
     "name": "stdout",
     "output_type": "stream",
     "text": [
      "Paso 279. Valor actual de la función de coste:  1.224\n",
      "Paso 282. Valor actual de la función de coste:  1.221\n",
      "Paso 285. Valor actual de la función de coste:  1.214\n",
      "Paso 288. Valor actual de la función de coste:  1.207\n",
      "Paso 291. Valor actual de la función de coste:  1.208\n",
      "Paso 294. Valor actual de la función de coste:  1.219\n"
     ]
    },
    {
     "name": "stdout",
     "output_type": "stream",
     "text": [
      "Paso 297. Valor actual de la función de coste:  1.225\n",
      "Paso 300. Valor actual de la función de coste:  1.236\n",
      "Paso 303. Valor actual de la función de coste:  1.220\n",
      "Paso 306. Valor actual de la función de coste:  1.192\n",
      "Paso 309. Valor actual de la función de coste:  1.202\n",
      "Paso 312. Valor actual de la función de coste:  1.178\n",
      "Paso 315. Valor actual de la función de coste:  1.158\n",
      "Paso 318. Valor actual de la función de coste:  1.160\n",
      "Paso 321. Valor actual de la función de coste:  1.152\n",
      "Paso 324. Valor actual de la función de coste:  1.144\n"
     ]
    },
    {
     "name": "stdout",
     "output_type": "stream",
     "text": [
      "Paso 327. Valor actual de la función de coste:  1.133\n"
     ]
    },
    {
     "name": "stdout",
     "output_type": "stream",
     "text": [
      "Paso 330. Valor actual de la función de coste:  1.133\n",
      "Paso 333. Valor actual de la función de coste:  1.132\n",
      "Paso 336. Valor actual de la función de coste:  1.134\n",
      "Paso 339. Valor actual de la función de coste:  1.124\n",
      "Paso 342. Valor actual de la función de coste:  1.129\n",
      "Paso 345. Valor actual de la función de coste:  1.117\n"
     ]
    },
    {
     "name": "stdout",
     "output_type": "stream",
     "text": [
      "Paso 348. Valor actual de la función de coste:  1.119\n",
      "Paso 351. Valor actual de la función de coste:  1.104\n",
      "Paso 354. Valor actual de la función de coste:  1.119\n",
      "Paso 357. Valor actual de la función de coste:  1.126\n",
      "Paso 360. Valor actual de la función de coste:  1.115\n",
      "Paso 363. Valor actual de la función de coste:  1.120\n",
      "Paso 366. Valor actual de la función de coste:  1.101\n",
      "Paso 369. Valor actual de la función de coste:  1.108\n",
      "Paso 372. Valor actual de la función de coste:  1.106\n",
      "Paso 375. Valor actual de la función de coste:  1.112\n"
     ]
    },
    {
     "name": "stdout",
     "output_type": "stream",
     "text": [
      "Paso 378. Valor actual de la función de coste:  1.101\n"
     ]
    },
    {
     "name": "stdout",
     "output_type": "stream",
     "text": [
      "Paso 381. Valor actual de la función de coste:  1.093\n",
      "Paso 384. Valor actual de la función de coste:  1.101\n",
      "Paso 387. Valor actual de la función de coste:  1.089\n",
      "Paso 390. Valor actual de la función de coste:  1.096\n",
      "Paso 393. Valor actual de la función de coste:  1.091\n",
      "Paso 396. Valor actual de la función de coste:  1.088\n"
     ]
    },
    {
     "name": "stdout",
     "output_type": "stream",
     "text": [
      "Paso 399. Valor actual de la función de coste:  1.086\n",
      "Paso 402. Valor actual de la función de coste:  1.085\n",
      "Paso 405. Valor actual de la función de coste:  1.094\n",
      "Paso 408. Valor actual de la función de coste:  1.087\n",
      "Paso 411. Valor actual de la función de coste:  1.088\n",
      "Paso 414. Valor actual de la función de coste:  1.086\n",
      "Paso 417. Valor actual de la función de coste:  1.098\n",
      "Paso 420. Valor actual de la función de coste:  1.114\n",
      "Paso 423. Valor actual de la función de coste:  1.093\n"
     ]
    },
    {
     "name": "stdout",
     "output_type": "stream",
     "text": [
      "Paso 426. Valor actual de la función de coste:  1.096\n",
      "Paso 429. Valor actual de la función de coste:  1.099\n"
     ]
    },
    {
     "name": "stdout",
     "output_type": "stream",
     "text": [
      "Paso 432. Valor actual de la función de coste:  1.097\n",
      "Paso 435. Valor actual de la función de coste:  1.090\n",
      "Paso 438. Valor actual de la función de coste:  1.098\n",
      "Paso 441. Valor actual de la función de coste:  1.098\n",
      "Paso 444. Valor actual de la función de coste:  1.107\n",
      "Paso 447. Valor actual de la función de coste:  1.110\n"
     ]
    },
    {
     "name": "stdout",
     "output_type": "stream",
     "text": [
      "Paso 450. Valor actual de la función de coste:  1.102\n",
      "Paso 453. Valor actual de la función de coste:  1.095\n",
      "Paso 456. Valor actual de la función de coste:  1.104\n",
      "Paso 459. Valor actual de la función de coste:  1.105\n",
      "Paso 462. Valor actual de la función de coste:  1.095\n",
      "Paso 465. Valor actual de la función de coste:  1.083\n",
      "Paso 468. Valor actual de la función de coste:  1.075\n",
      "Paso 471. Valor actual de la función de coste:  1.071\n",
      "Paso 474. Valor actual de la función de coste:  1.068\n"
     ]
    },
    {
     "name": "stdout",
     "output_type": "stream",
     "text": [
      "Paso 477. Valor actual de la función de coste:  1.066\n",
      "Paso 480. Valor actual de la función de coste:  1.058\n"
     ]
    },
    {
     "name": "stdout",
     "output_type": "stream",
     "text": [
      "Paso 483. Valor actual de la función de coste:  1.052\n",
      "Paso 486. Valor actual de la función de coste:  1.054\n",
      "Paso 489. Valor actual de la función de coste:  1.048\n",
      "Paso 492. Valor actual de la función de coste:  1.055\n",
      "Paso 495. Valor actual de la función de coste:  1.057\n",
      "Paso 498. Valor actual de la función de coste:  1.056\n"
     ]
    },
    {
     "name": "stdout",
     "output_type": "stream",
     "text": [
      "Paso 501. Valor actual de la función de coste:  1.057\n",
      "Paso 504. Valor actual de la función de coste:  1.060\n",
      "Paso 507. Valor actual de la función de coste:  1.060\n",
      "Paso 510. Valor actual de la función de coste:  1.048\n",
      "Paso 513. Valor actual de la función de coste:  1.057\n",
      "Paso 516. Valor actual de la función de coste:  1.056\n",
      "Paso 519. Valor actual de la función de coste:  1.056\n",
      "Paso 522. Valor actual de la función de coste:  1.044\n",
      "Paso 525. Valor actual de la función de coste:  1.040\n",
      "Paso 528. Valor actual de la función de coste:  1.043\n"
     ]
    },
    {
     "name": "stdout",
     "output_type": "stream",
     "text": [
      "Paso 531. Valor actual de la función de coste:  1.041\n",
      "Paso 534. Valor actual de la función de coste:  1.039\n"
     ]
    },
    {
     "name": "stdout",
     "output_type": "stream",
     "text": [
      "Paso 537. Valor actual de la función de coste:  1.042\n",
      "Paso 540. Valor actual de la función de coste:  1.044\n",
      "Paso 543. Valor actual de la función de coste:  1.041\n",
      "Paso 546. Valor actual de la función de coste:  1.038\n",
      "Paso 549. Valor actual de la función de coste:  1.040\n",
      "Paso 552. Valor actual de la función de coste:  1.029\n"
     ]
    },
    {
     "name": "stdout",
     "output_type": "stream",
     "text": [
      "Paso 555. Valor actual de la función de coste:  1.030\n",
      "Paso 558. Valor actual de la función de coste:  1.034\n",
      "Paso 561. Valor actual de la función de coste:  1.034\n",
      "Paso 564. Valor actual de la función de coste:  1.035\n",
      "Paso 567. Valor actual de la función de coste:  1.035\n",
      "Paso 570. Valor actual de la función de coste:  1.036\n",
      "Paso 573. Valor actual de la función de coste:  1.041\n",
      "Paso 576. Valor actual de la función de coste:  1.044\n",
      "Paso 579. Valor actual de la función de coste:  1.034\n",
      "Paso 582. Valor actual de la función de coste:  1.027\n"
     ]
    },
    {
     "name": "stdout",
     "output_type": "stream",
     "text": [
      "Paso 585. Valor actual de la función de coste:  1.025\n",
      "Paso 588. Valor actual de la función de coste:  1.022\n"
     ]
    },
    {
     "name": "stdout",
     "output_type": "stream",
     "text": [
      "Paso 591. Valor actual de la función de coste:  1.024\n",
      "Paso 594. Valor actual de la función de coste:  1.028\n",
      "Paso 597. Valor actual de la función de coste:  1.027\n",
      "Paso 600. Valor actual de la función de coste:  1.033\n",
      "Paso 603. Valor actual de la función de coste:  1.027\n"
     ]
    },
    {
     "name": "stdout",
     "output_type": "stream",
     "text": [
      "Paso 606. Valor actual de la función de coste:  1.030\n",
      "Paso 609. Valor actual de la función de coste:  1.030\n",
      "Paso 612. Valor actual de la función de coste:  1.047\n",
      "Paso 615. Valor actual de la función de coste:  1.045\n",
      "Paso 618. Valor actual de la función de coste:  1.032\n",
      "Paso 621. Valor actual de la función de coste:  1.034\n",
      "Paso 624. Valor actual de la función de coste:  1.042\n",
      "Paso 627. Valor actual de la función de coste:  1.033\n",
      "Paso 630. Valor actual de la función de coste:  1.025\n",
      "Paso 633. Valor actual de la función de coste:  1.022\n"
     ]
    },
    {
     "name": "stdout",
     "output_type": "stream",
     "text": [
      "Paso 636. Valor actual de la función de coste:  1.023\n",
      "Paso 639. Valor actual de la función de coste:  1.027\n"
     ]
    },
    {
     "name": "stdout",
     "output_type": "stream",
     "text": [
      "Paso 642. Valor actual de la función de coste:  1.030\n",
      "Paso 645. Valor actual de la función de coste:  1.023\n",
      "Paso 648. Valor actual de la función de coste:  1.028\n",
      "Paso 651. Valor actual de la función de coste:  1.028\n",
      "Paso 654. Valor actual de la función de coste:  1.053\n"
     ]
    },
    {
     "name": "stdout",
     "output_type": "stream",
     "text": [
      "Paso 657. Valor actual de la función de coste:  1.049\n",
      "Paso 660. Valor actual de la función de coste:  1.038\n",
      "Paso 663. Valor actual de la función de coste:  1.034\n",
      "Paso 666. Valor actual de la función de coste:  1.029\n",
      "Paso 669. Valor actual de la función de coste:  1.020\n",
      "Paso 672. Valor actual de la función de coste:  1.018\n",
      "Paso 675. Valor actual de la función de coste:  1.014\n",
      "Paso 678. Valor actual de la función de coste:  1.017\n",
      "Paso 681. Valor actual de la función de coste:  1.023\n",
      "Paso 684. Valor actual de la función de coste:  1.022\n"
     ]
    },
    {
     "name": "stdout",
     "output_type": "stream",
     "text": [
      "Paso 687. Valor actual de la función de coste:  1.018\n",
      "Paso 690. Valor actual de la función de coste:  1.017\n"
     ]
    },
    {
     "name": "stdout",
     "output_type": "stream",
     "text": [
      "Paso 693. Valor actual de la función de coste:  1.015\n",
      "Paso 696. Valor actual de la función de coste:  1.022\n",
      "Paso 699. Valor actual de la función de coste:  1.017\n",
      "Paso 702. Valor actual de la función de coste:  1.016\n",
      "Paso 705. Valor actual de la función de coste:  1.014\n"
     ]
    },
    {
     "name": "stdout",
     "output_type": "stream",
     "text": [
      "Paso 708. Valor actual de la función de coste:  1.017\n",
      "Paso 711. Valor actual de la función de coste:  1.017\n",
      "Paso 714. Valor actual de la función de coste:  1.020\n",
      "Paso 717. Valor actual de la función de coste:  1.017\n",
      "Paso 720. Valor actual de la función de coste:  1.021\n",
      "Paso 723. Valor actual de la función de coste:  1.020\n",
      "Paso 726. Valor actual de la función de coste:  1.017\n",
      "Paso 729. Valor actual de la función de coste:  1.015\n",
      "Paso 732. Valor actual de la función de coste:  1.014\n",
      "Paso 735. Valor actual de la función de coste:  1.015\n"
     ]
    },
    {
     "name": "stdout",
     "output_type": "stream",
     "text": [
      "Paso 738. Valor actual de la función de coste:  1.015\n",
      "Paso 741. Valor actual de la función de coste:  1.016\n"
     ]
    },
    {
     "name": "stdout",
     "output_type": "stream",
     "text": [
      "Paso 744. Valor actual de la función de coste:  1.014\n",
      "Paso 747. Valor actual de la función de coste:  1.015\n",
      "Paso 750. Valor actual de la función de coste:  1.019\n",
      "Paso 753. Valor actual de la función de coste:  1.019\n",
      "Paso 756. Valor actual de la función de coste:  1.021\n"
     ]
    },
    {
     "name": "stdout",
     "output_type": "stream",
     "text": [
      "Paso 759. Valor actual de la función de coste:  1.020\n",
      "Paso 762. Valor actual de la función de coste:  1.017\n",
      "Paso 765. Valor actual de la función de coste:  1.014\n",
      "Paso 768. Valor actual de la función de coste:  1.019\n",
      "Paso 771. Valor actual de la función de coste:  1.019\n",
      "Paso 774. Valor actual de la función de coste:  1.019\n",
      "Paso 777. Valor actual de la función de coste:  1.019\n",
      "Paso 780. Valor actual de la función de coste:  1.019\n",
      "Paso 783. Valor actual de la función de coste:  1.019\n",
      "Paso 786. Valor actual de la función de coste:  1.013\n",
      "Paso 789. Valor actual de la función de coste:  1.018\n"
     ]
    },
    {
     "name": "stdout",
     "output_type": "stream",
     "text": [
      "Paso 792. Valor actual de la función de coste:  1.017\n",
      "Paso 795. Valor actual de la función de coste:  1.017\n"
     ]
    },
    {
     "name": "stdout",
     "output_type": "stream",
     "text": [
      "Paso 798. Valor actual de la función de coste:  1.019\n",
      "Paso 801. Valor actual de la función de coste:  1.019\n",
      "Paso 804. Valor actual de la función de coste:  1.018\n",
      "Paso 807. Valor actual de la función de coste:  1.014\n"
     ]
    },
    {
     "name": "stdout",
     "output_type": "stream",
     "text": [
      "Paso 810. Valor actual de la función de coste:  1.016\n",
      "Paso 813. Valor actual de la función de coste:  1.013\n",
      "Paso 816. Valor actual de la función de coste:  1.019\n",
      "Paso 819. Valor actual de la función de coste:  1.017\n",
      "Paso 822. Valor actual de la función de coste:  1.016\n",
      "Paso 825. Valor actual de la función de coste:  1.014\n",
      "Paso 828. Valor actual de la función de coste:  1.012\n",
      "Paso 831. Valor actual de la función de coste:  1.012\n",
      "Paso 834. Valor actual de la función de coste:  1.014\n",
      "Paso 837. Valor actual de la función de coste:  1.015\n",
      "Paso 840. Valor actual de la función de coste:  1.013\n"
     ]
    },
    {
     "name": "stdout",
     "output_type": "stream",
     "text": [
      "Paso 843. Valor actual de la función de coste:  1.018\n",
      "Paso 846. Valor actual de la función de coste:  1.017\n"
     ]
    },
    {
     "name": "stdout",
     "output_type": "stream",
     "text": [
      "Paso 849. Valor actual de la función de coste:  1.014\n",
      "Paso 852. Valor actual de la función de coste:  1.020\n",
      "Paso 855. Valor actual de la función de coste:  1.018\n",
      "Paso 858. Valor actual de la función de coste:  1.016\n"
     ]
    },
    {
     "name": "stdout",
     "output_type": "stream",
     "text": [
      "Paso 861. Valor actual de la función de coste:  1.013\n",
      "Paso 864. Valor actual de la función de coste:  1.011\n",
      "Paso 867. Valor actual de la función de coste:  1.011\n",
      "Paso 870. Valor actual de la función de coste:  1.010\n",
      "Paso 873. Valor actual de la función de coste:  1.010\n",
      "Paso 876. Valor actual de la función de coste:  1.011\n",
      "Paso 879. Valor actual de la función de coste:  1.010\n",
      "Paso 882. Valor actual de la función de coste:  1.012\n",
      "Paso 885. Valor actual de la función de coste:  1.012\n",
      "Paso 888. Valor actual de la función de coste:  1.011\n",
      "Paso 891. Valor actual de la función de coste:  1.011\n"
     ]
    },
    {
     "name": "stdout",
     "output_type": "stream",
     "text": [
      "Paso 894. Valor actual de la función de coste:  1.013\n",
      "Paso 897. Valor actual de la función de coste:  1.012\n"
     ]
    },
    {
     "name": "stdout",
     "output_type": "stream",
     "text": [
      "Paso 900. Valor actual de la función de coste:  1.013\n",
      "Paso 903. Valor actual de la función de coste:  1.017\n",
      "Paso 906. Valor actual de la función de coste:  1.014\n",
      "Paso 909. Valor actual de la función de coste:  1.013\n"
     ]
    },
    {
     "name": "stdout",
     "output_type": "stream",
     "text": [
      "Paso 912. Valor actual de la función de coste:  1.015\n",
      "Paso 915. Valor actual de la función de coste:  1.012\n",
      "Paso 918. Valor actual de la función de coste:  1.014\n",
      "Paso 921. Valor actual de la función de coste:  1.009\n",
      "Paso 924. Valor actual de la función de coste:  1.012\n",
      "Paso 927. Valor actual de la función de coste:  1.014\n",
      "Paso 930. Valor actual de la función de coste:  1.026\n",
      "Paso 933. Valor actual de la función de coste:  1.017\n",
      "Paso 936. Valor actual de la función de coste:  1.015\n",
      "Paso 939. Valor actual de la función de coste:  1.017\n",
      "Paso 942. Valor actual de la función de coste:  1.017\n"
     ]
    },
    {
     "name": "stdout",
     "output_type": "stream",
     "text": [
      "Paso 945. Valor actual de la función de coste:  1.018\n",
      "Paso 948. Valor actual de la función de coste:  1.017\n"
     ]
    },
    {
     "name": "stdout",
     "output_type": "stream",
     "text": [
      "Paso 951. Valor actual de la función de coste:  1.020\n",
      "Paso 954. Valor actual de la función de coste:  1.013\n",
      "Paso 957. Valor actual de la función de coste:  1.015\n",
      "Paso 960. Valor actual de la función de coste:  1.015\n"
     ]
    },
    {
     "name": "stdout",
     "output_type": "stream",
     "text": [
      "Paso 963. Valor actual de la función de coste:  1.016\n",
      "Paso 966. Valor actual de la función de coste:  1.016\n",
      "Paso 969. Valor actual de la función de coste:  1.012\n",
      "Paso 972. Valor actual de la función de coste:  1.011\n",
      "Paso 975. Valor actual de la función de coste:  1.017\n",
      "Paso 978. Valor actual de la función de coste:  1.014\n",
      "Paso 981. Valor actual de la función de coste:  1.013\n",
      "Paso 984. Valor actual de la función de coste:  1.014\n",
      "Paso 987. Valor actual de la función de coste:  1.013\n",
      "Paso 990. Valor actual de la función de coste:  1.014\n",
      "Paso 993. Valor actual de la función de coste:  1.011\n",
      "Paso 996. Valor actual de la función de coste:  1.013\n"
     ]
    },
    {
     "name": "stdout",
     "output_type": "stream",
     "text": [
      "Paso 999. Valor actual de la función de coste:  1.011\n",
      "Los parámetros óptimos para este circuito son: [\n",
      "\t0.353,\t\t0.077,\t\t0.606,\n",
      "\t0.398,\t\t1.226,\t\t1.836,\n",
      "\t-0.607,\t\t0.239,\t\t1.644,\n",
      "\t0.506,\t\t0.695,\t\t1.249,\n",
      "\t0.443,\t\t0.023,\t\t0.807,\n",
      "\t0.281,\t]\n",
      "El valor del autovalor mínimo es:  1.011\n"
     ]
    }
   ],
   "source": [
    "H = op\n",
    "\n",
    "result = None\n",
    "step_size = 3\n",
    "\n",
    "result_energy = []\n",
    "\n",
    "for step in vqe(H, rounds=3, max_iter=1002, save_steps = step_size):\n",
    "    result_energy.append(step[2])\n",
    "    print('Paso {step}. Valor actual de la función de coste: {ev: .3f}'.format(step=step[0], ev = step[2]))\n",
    "    result = step\n",
    "    \n",
    "print('Los parámetros óptimos para este circuito son: [\\n'\n",
    "     + \"\".join([\"\\t\"+str(round(t,3))\n",
    "     +\",\\n\" if i%3 == 2 else \"\\t\"+str(round(t,3))\n",
    "     +\",\\t\" for i, t in enumerate(result[1])])+\"]\")\n",
    "print('El valor del autovalor mínimo es: {ev: .3f}'.format(ev=result[2]))"
   ]
  },
  {
   "cell_type": "code",
   "execution_count": 15,
   "id": "2922c1b0",
   "metadata": {
    "slideshow": {
     "slide_type": ""
    },
    "tags": []
   },
   "outputs": [
    {
     "data": {
      "image/png": "[encoded data removed]",
      "text/plain": [
       "<Figure size 1500x700 with 1 Axes>"
      ]
     },
     "metadata": {},
     "output_type": "display_data"
    }
   ],
   "source": [
    "# Con la información de las iteraciones podemos dibujar la convergencia de nuestro código\n",
    "\n",
    "fontsize = 15\n",
    "\n",
    "plt.rcParams['figure.figsize'] = (15, 7)\n",
    "plt.plot(range(len(result_energy)), result_energy, label=\"Valor de la energía\", color='red')\n",
    "plt.xticks(fontsize = fontsize)\n",
    "plt.yticks(fontsize = fontsize)\n",
    "plt.xlabel('Paso', fontsize = fontsize)\n",
    "plt.ylabel('Energía', fontsize = fontsize)\n",
    "plt.title('Convergencia de la energía con el optimizador SPSA', fontsize = fontsize)\n",
    "plt.legend(loc='upper right', fontsize = fontsize)\n",
    "plt.show()"
   ]
  }
 ],
 "metadata": {
  "celltoolbar": "Tags",
  "kernelspec": {
   "display_name": "Python 3 (ipykernel)",
   "language": "python",
   "name": "python3"
  },
  "language_info": {
   "codemirror_mode": {
    "name": "ipython",
    "version": 3
   },
   "file_extension": ".py",
   "mimetype": "text/x-python",
   "name": "python",
   "nbconvert_exporter": "python",
   "pygments_lexer": "ipython3",
   "version": "3.11.7"
  },
  "toc": {
   "base_numbering": 1,
   "nav_menu": {},
   "number_sections": false,
   "sideBar": true,
   "skip_h1_title": true,
   "title_cell": "Table of Contents",
   "title_sidebar": "Contents",
   "toc_cell": false,
   "toc_position": {},
   "toc_section_display": true,
   "toc_window_display": false
  },
  "vscode": {
   "interpreter": {
    "hash": "9ceb105841182fb6279c9286d3cac6f256262ba5358230452797534895d46c7b"
   }
  }
 },
 "nbformat": 4,
 "nbformat_minor": 5
}