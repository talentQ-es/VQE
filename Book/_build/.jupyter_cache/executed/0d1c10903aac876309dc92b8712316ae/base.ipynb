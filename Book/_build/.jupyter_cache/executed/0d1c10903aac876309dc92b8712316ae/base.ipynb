{
 "cells": [
  {
   "cell_type": "code",
   "execution_count": 1,
   "id": "8dd6c9c3",
   "metadata": {
    "scrolled": true,
    "slideshow": {
     "slide_type": ""
    },
    "tags": [
     "hide-input",
     "remove-output"
    ]
   },
   "outputs": [
    {
     "name": "stderr",
     "output_type": "stream",
     "text": [
      "/tmp/ipykernel_10681/2196755265.py:19: DeprecationWarning: ``qiskit.algorithms`` has been migrated to an independent package: https://github.com/qiskit-community/qiskit-algorithms. The ``qiskit.algorithms`` import path is deprecated as of qiskit-terra 0.25.0 and will be removed no earlier than 3 months after the release date. Please run ``pip install qiskit_algorithms`` and use ``import qiskit_algorithms`` instead.\n",
      "  from qiskit.algorithms.optimizers import COBYLA, SPSA, POWELL\n",
      "[Qibo 0.1.12.dev0|INFO|2024-06-13 07:32:27]: Using numpy backend on /CPU:0\n"
     ]
    }
   ],
   "source": [
    "# Librerías generales\n",
    "import numpy as np\n",
    "from collections import defaultdict\n",
    "from functools import reduce\n",
    "from itertools import product\n",
    "import random\n",
    "import scipy\n",
    "import matplotlib.pyplot as plt\n",
    "\n",
    "# Librerías Qibo\n",
    "import qibo\n",
    "from qibo import models, gates, hamiltonians\n",
    "from qibo import matrices as m\n",
    "\n",
    "# Librerías Qiskit\n",
    "import qiskit\n",
    "from qiskit import IBMQ, QuantumCircuit, QuantumRegister, ClassicalRegister, Aer, execute, transpile\n",
    "from qiskit.visualization import plot_bloch_multivector\n",
    "from qiskit.algorithms.optimizers import COBYLA, SPSA, POWELL\n",
    "from qiskit.primitives import Estimator\n",
    "from qiskit.algorithms.minimum_eigensolvers import VQE\n",
    "from qiskit.utils import QuantumInstance, algorithm_globals\n",
    "from qiskit.opflow import X, Z, I, Y\n",
    "from qiskit.circuit.library import TwoLocal\n",
    "from qiskit.tools.parallel import parallel_map\n",
    "\n",
    "random.seed()\n",
    "\n",
    "qibo.set_backend(\"numpy\")\n",
    "\n",
    "%matplotlib inline"
   ]
  },
  {
   "cell_type": "code",
   "execution_count": 2,
   "id": "6311b89f-3377-4d02-87a9-289522f6b674",
   "metadata": {
    "slideshow": {
     "slide_type": ""
    },
    "tags": [
     "hide-input"
    ]
   },
   "outputs": [],
   "source": [
    "PAULIS = {\n",
    "    \"I\": np.eye(2, dtype=complex),\n",
    "    \"X\": np.array([[0,1],[1,0]], dtype=complex),\n",
    "    \"Y\": np.array([[0,-1j],[1j,0]], dtype=complex),\n",
    "    \"Z\": np.array([[1,0],[0,-1]], dtype=complex)\n",
    "}"
   ]
  },
  {
   "cell_type": "code",
   "execution_count": 3,
   "id": "41a660be",
   "metadata": {
    "tags": [
     "remove_input"
    ]
   },
   "outputs": [],
   "source": [
    "'''Qibo_code_cell'''\n",
    "\n",
    "def ising_chain_ham_qibo(n, gam):\n",
    "    \n",
    "    # Esta función nos devuelve el Hamiltoniano en términos utilizables por los algoritmos de Qibo\n",
    "    # n = number of spin positions\n",
    "    # gam = transverse field parameter\n",
    "\n",
    "    from qibo.symbols import X, Z\n",
    "\n",
    "    sym_X = sum(X(i) * X(i+1) for i in range(n-1)) + (X(0) * X(n-1))\n",
    "    sym_Z = sum(Z(i) for i in range(n))\n",
    "    sym_H = sym_X + gam * sym_Z\n",
    "\n",
    "    H = hamiltonians.SymbolicHamiltonian(sym_H)\n",
    "    \n",
    "    return H, H.matrix"
   ]
  },
  {
   "cell_type": "code",
   "execution_count": 4,
   "id": "d2dcca0e",
   "metadata": {
    "tags": [
     "remove_input"
    ]
   },
   "outputs": [
    {
     "name": "stderr",
     "output_type": "stream",
     "text": [
      "[Qibo 0.1.12.dev0|WARNING|2024-06-13 07:32:27]: Calculating the dense form of a symbolic Hamiltonian. This operation is memory inefficient.\n"
     ]
    }
   ],
   "source": [
    "'''Qibo_code_cell'''\n",
    "\n",
    "# Definimos el Hamiltoniano\n",
    "n = 4\n",
    "gam = .3\n",
    "\n",
    "op_H, matrix = ising_chain_ham_qibo(n,gam)"
   ]
  },
  {
   "cell_type": "code",
   "execution_count": 5,
   "id": "d94014e4",
   "metadata": {
    "tags": [
     "remove_input"
    ]
   },
   "outputs": [],
   "source": [
    "'''Qibo_code_cell'''\n",
    "\n",
    "# Ahora creamos un circuito variacional de ansatz\n",
    "# En este caso usamos un circuito de puertas RY(theta) y CZ, haciendo los diferentes valores de theta aleatorios\n",
    "\n",
    "nqubits = n\n",
    "nlayers  = 8\n",
    "\n",
    "circuit = models.Circuit(nqubits)\n",
    "\n",
    "for l in range(nlayers):\n",
    "    circuit.add((gates.RY(q, theta=0) for q in range(nqubits)))\n",
    "    circuit.add((gates.CZ(q, q+1) for q in range(0, nqubits-1, 2)))\n",
    "    circuit.add((gates.RY(q, theta=0) for q in range(nqubits)))\n",
    "    circuit.add((gates.CZ(q, q+1) for q in range(1, nqubits-2, 2)))\n",
    "    circuit.add(gates.CZ(0, nqubits-1))\n",
    "    \n",
    "circuit.add((gates.RY(q, theta=0) for q in range(nqubits)))"
   ]
  },
  {
   "cell_type": "code",
   "execution_count": 6,
   "id": "b9b9cc66",
   "metadata": {
    "tags": [
     "remove_input"
    ]
   },
   "outputs": [],
   "source": [
    "'''Qibo_code_cell'''\n",
    "\n",
    "# Especificamos el algorimto de optimización clásica\n",
    "# opt = 'COBYLA'\n",
    "opt = 'Powell'"
   ]
  },
  {
   "cell_type": "code",
   "execution_count": 7,
   "id": "1a1ff42c",
   "metadata": {
    "tags": [
     "remove_input"
    ]
   },
   "outputs": [],
   "source": [
    "'''Qibo_code_cell'''\n",
    "\n",
    "# Esto son funciones auxiliares para guardar los datos de las iteraciones\n",
    "\n",
    "intermediate_info = {\n",
    "    'parameters': [],\n",
    "    'energy': [],\n",
    "    #'stddev': []\n",
    "}\n",
    "\n",
    "def callback(p):\n",
    "    intermediate_info['parameters'].append(p)    \n",
    "    energy, _, _ = vqe.minimize(p, callback = None, method=opt, options = None, compile=False)\n",
    "    intermediate_info['energy'].append(energy)\n",
    "    #intermediate_info['stddev'].append(stddev)"
   ]
  },
  {
   "cell_type": "code",
   "execution_count": 8,
   "id": "7d357bf1",
   "metadata": {
    "tags": [
     "remove_input"
    ]
   },
   "outputs": [
    {
     "name": "stdout",
     "output_type": "stream",
     "text": [
      "Optimization terminated successfully.\n",
      "         Current function value: -4.090337\n",
      "         Iterations: 4\n",
      "         Function evaluations: 2498\n"
     ]
    }
   ],
   "source": [
    "'''Qibo_code_cell'''\n",
    "\n",
    "# Parámetros del Ansatz\n",
    "initial_parameters = np.random.uniform(-2*np.pi, 2*np.pi, 2*nqubits*nlayers + nqubits)\n",
    "\n",
    "# Construcción del método VQE\n",
    "vqe = models.VQE(circuit, op_H)\n",
    "options = {'disp': True, 'return_all': True}\n",
    "\n",
    "# Y ejecutamos el algoritmo\n",
    "best, params, extra = vqe.minimize(initial_parameters, callback = callback, method=opt, options = options, compile=False)\n",
    "\n",
    "values = intermediate_info['energy']"
   ]
  },
  {
   "cell_type": "code",
   "execution_count": 9,
   "id": "25069f0d-df65-40b6-a5a4-0fc2a8139520",
   "metadata": {
    "slideshow": {
     "slide_type": ""
    },
    "tags": []
   },
   "outputs": [
    {
     "name": "stdout",
     "output_type": "stream",
     "text": [
      "E_G = -4.090337110276804\n"
     ]
    }
   ],
   "source": [
    "# Y ya vemos el valor de la solución:\n",
    "print(\"E_G =\",best)"
   ]
  },
  {
   "cell_type": "code",
   "execution_count": 10,
   "id": "d3b0cd6c",
   "metadata": {
    "slideshow": {
     "slide_type": ""
    },
    "tags": []
   },
   "outputs": [
    {
     "data": {
      "image/png": "[encoded data removed]",
      "text/plain": [
       "<Figure size 1500x700 with 1 Axes>"
      ]
     },
     "metadata": {},
     "output_type": "display_data"
    }
   ],
   "source": [
    "# Con la información de las iteraciones podemos dibujar la convergencia de nuestro código\n",
    "\n",
    "fontsize = 15\n",
    "\n",
    "plt.rcParams['figure.figsize'] = (15, 7)\n",
    "plt.plot(range(len(values)), values, label=\"Energy value\", color='red')\n",
    "plt.xticks(fontsize = fontsize)\n",
    "plt.yticks(fontsize = fontsize)\n",
    "plt.xlabel('Steps', fontsize = fontsize)\n",
    "plt.ylabel('Energy', fontsize = fontsize)\n",
    "plt.title('Energy convergence for Powell optimizer', fontsize = fontsize)\n",
    "plt.legend(loc='upper right', fontsize = fontsize);\n",
    "plt.show()"
   ]
  },
  {
   "cell_type": "code",
   "execution_count": 11,
   "id": "90607b2f",
   "metadata": {
    "slideshow": {
     "slide_type": ""
    },
    "tags": []
   },
   "outputs": [
    {
     "name": "stdout",
     "output_type": "stream",
     "text": [
      "E_G = -4.092961599426855\n",
      "Error relativo = 0.06412200765378798 %\n"
     ]
    }
   ],
   "source": [
    "eigvals, eigvecs = scipy.linalg.eig(matrix)\n",
    "\n",
    "print(\"E_G =\", min(eigvals).real)\n",
    "\n",
    "print(\"Error relativo =\", abs((best - min(eigvals).real)/min(eigvals).real) * 100, \"%\")"
   ]
  }
 ],
 "metadata": {
  "celltoolbar": "Tags",
  "kernelspec": {
   "display_name": "Python 3 (ipykernel)",
   "language": "python",
   "name": "python3"
  },
  "language_info": {
   "codemirror_mode": {
    "name": "ipython",
    "version": 3
   },
   "file_extension": ".py",
   "mimetype": "text/x-python",
   "name": "python",
   "nbconvert_exporter": "python",
   "pygments_lexer": "ipython3",
   "version": "3.11.7"
  },
  "toc": {
   "base_numbering": 1,
   "nav_menu": {},
   "number_sections": false,
   "sideBar": true,
   "skip_h1_title": true,
   "title_cell": "Table of Contents",
   "title_sidebar": "Contents",
   "toc_cell": false,
   "toc_position": {},
   "toc_section_display": true,
   "toc_window_display": false
  },
  "vscode": {
   "interpreter": {
    "hash": "9ceb105841182fb6279c9286d3cac6f256262ba5358230452797534895d46c7b"
   }
  }
 },
 "nbformat": 4,
 "nbformat_minor": 5
}