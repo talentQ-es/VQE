{
 "cells": [
  {
   "cell_type": "code",
   "execution_count": 1,
   "id": "8dd6c9c3",
   "metadata": {
    "scrolled": true,
    "slideshow": {
     "slide_type": ""
    },
    "tags": [
     "hide-input",
     "remove-output"
    ]
   },
   "outputs": [
    {
     "name": "stderr",
     "output_type": "stream",
     "text": [
      "/tmp/ipykernel_28630/2196755265.py:19: DeprecationWarning: ``qiskit.algorithms`` has been migrated to an independent package: https://github.com/qiskit-community/qiskit-algorithms. The ``qiskit.algorithms`` import path is deprecated as of qiskit-terra 0.25.0 and will be removed no earlier than 3 months after the release date. Please run ``pip install qiskit_algorithms`` and use ``import qiskit_algorithms`` instead.\n",
      "  from qiskit.algorithms.optimizers import COBYLA, SPSA, POWELL\n",
      "[Qibo 0.1.12.dev0|INFO|2024-06-14 10:31:46]: Using numpy backend on /CPU:0\n"
     ]
    }
   ],
   "source": [
    "# Librerías generales\n",
    "import numpy as np\n",
    "from collections import defaultdict\n",
    "from functools import reduce\n",
    "from itertools import product\n",
    "import random\n",
    "import scipy\n",
    "import matplotlib.pyplot as plt\n",
    "\n",
    "# Librerías Qibo\n",
    "import qibo\n",
    "from qibo import models, gates, hamiltonians\n",
    "from qibo import matrices as m\n",
    "\n",
    "# Librerías Qiskit\n",
    "import qiskit\n",
    "from qiskit import IBMQ, QuantumCircuit, QuantumRegister, ClassicalRegister, Aer, execute, transpile\n",
    "from qiskit.visualization import plot_bloch_multivector\n",
    "from qiskit.algorithms.optimizers import COBYLA, SPSA, POWELL\n",
    "from qiskit.primitives import Estimator\n",
    "from qiskit.algorithms.minimum_eigensolvers import VQE\n",
    "from qiskit.utils import QuantumInstance, algorithm_globals\n",
    "from qiskit.opflow import X, Z, I, Y\n",
    "from qiskit.circuit.library import TwoLocal\n",
    "from qiskit.tools.parallel import parallel_map\n",
    "\n",
    "random.seed()\n",
    "\n",
    "qibo.set_backend(\"numpy\")\n",
    "\n",
    "%matplotlib inline"
   ]
  },
  {
   "cell_type": "code",
   "execution_count": 2,
   "id": "72865835",
   "metadata": {
    "slideshow": {
     "slide_type": ""
    },
    "tags": []
   },
   "outputs": [
    {
     "name": "stdout",
     "output_type": "stream",
     "text": [
      "Autovalores: [1. 2. 3. 4.]\n",
      "Autovalor mínimo: 1.0\n"
     ]
    }
   ],
   "source": [
    "op = np.array([[2.5,-1,-0.5,0],[-1,2.5,0,0.5],[-0.5,0,2.5,1],[0,0.5,1,2.5]], dtype=complex)\n",
    "\n",
    "eigvals, eigvecs = scipy.linalg.eig(op)\n",
    "\n",
    "print(\"Autovalores:\", np.sort(np.real(eigvals)))\n",
    "print(\"Autovalor mínimo:\", np.real(np.round(min(eigvals))))"
   ]
  },
  {
   "cell_type": "code",
   "execution_count": 3,
   "id": "e607ec64",
   "metadata": {
    "slideshow": {
     "slide_type": ""
    },
    "tags": []
   },
   "outputs": [],
   "source": [
    "PAULIS = {\n",
    "    \"I\": np.eye(2, dtype=complex),\n",
    "    \"X\": np.array([[0,1],[1,0]], dtype=complex),\n",
    "    \"Y\": np.array([[0,-1j],[1j,0]], dtype=complex),\n",
    "    \"Z\": np.array([[1,0],[0,-1]], dtype=complex)\n",
    "}"
   ]
  },
  {
   "cell_type": "code",
   "execution_count": 4,
   "id": "46dc8025",
   "metadata": {
    "slideshow": {
     "slide_type": ""
    },
    "tags": [
     "remove-output"
    ]
   },
   "outputs": [],
   "source": [
    "def pauli_decomposition(H):\n",
    "\n",
    "    n = int(np.log2(len(H)))\n",
    "    dims = 2**n\n",
    "    \n",
    "    if H.shape != (dims,dims):\n",
    "        raise ValueError(\"La matriz debe tener dimensiones 2^n x 2^n\")\n",
    "        \n",
    "    basis_key = [\"\".join(k) for k in product(PAULIS.keys(), repeat = n)]\n",
    "    components = defaultdict(int)\n",
    "    \n",
    "    for i, val in enumerate(product(PAULIS.values(), repeat=n)):\n",
    "        basis_mat = reduce(np.kron, val)\n",
    "        coeff = H.reshape(-1).dot(basis_mat.reshape(-1)) / dims\n",
    "        coeff = np.real_if_close(coeff).item()\n",
    "        \n",
    "        if not np.allclose(coeff,0):\n",
    "            components[basis_key[i]] = coeff\n",
    "            \n",
    "    return components"
   ]
  },
  {
   "cell_type": "code",
   "execution_count": 5,
   "id": "89b87a04",
   "metadata": {
    "slideshow": {
     "slide_type": ""
    },
    "tags": []
   },
   "outputs": [
    {
     "data": {
      "text/plain": [
       "defaultdict(int, {'II': 2.5, 'XZ': -0.5, 'ZX': -1.0})"
      ]
     },
     "execution_count": 5,
     "metadata": {},
     "output_type": "execute_result"
    }
   ],
   "source": [
    "components = pauli_decomposition(op)\n",
    "components"
   ]
  },
  {
   "cell_type": "code",
   "execution_count": 6,
   "id": "5dacea48",
   "metadata": {
    "slideshow": {
     "slide_type": ""
    },
    "tags": []
   },
   "outputs": [
    {
     "name": "stdout",
     "output_type": "stream",
     "text": [
      "[[ 2.5+0.j -1. +0.j -0.5+0.j  0. +0.j]\n",
      " [-1. +0.j  2.5+0.j  0. +0.j  0.5+0.j]\n",
      " [-0.5+0.j  0. +0.j  2.5+0.j  1. +0.j]\n",
      " [ 0. +0.j  0.5+0.j  1. +0.j  2.5+0.j]]\n",
      "\n",
      " Las dos matrices son iguales.\n"
     ]
    }
   ],
   "source": [
    "restr = components['II']*np.kron(PAULIS[\"I\"],PAULIS[\"I\"]) + components['XZ']*np.kron(PAULIS[\"X\"],PAULIS[\"Z\"]) + components['ZX']*np.kron(PAULIS[\"Z\"],PAULIS[\"X\"])\n",
    "\n",
    "print(restr)\n",
    "\n",
    "if restr.all() == op.all(): print(\"\\n Las dos matrices son iguales.\")"
   ]
  },
  {
   "cell_type": "code",
   "execution_count": 7,
   "id": "4b51650a",
   "metadata": {
    "tags": [
     "remove_input"
    ]
   },
   "outputs": [],
   "source": [
    "'''Qibo_code_cell'''\n",
    "\n",
    "def ansatz(circuit, nqubits, thetas, rounds=3):\n",
    "\n",
    "    for r in range(rounds):\n",
    "        for i in range(nqubits):\n",
    "            offset = r*nqubits*2 + i*2\n",
    "                        \n",
    "            circuit.add(gates.RY(i, thetas[offset]))\n",
    "            circuit.add(gates.RZ(i, thetas[offset+1]))\n",
    "            \n",
    "            if i > 0 and r < rounds - 1:\n",
    "                circuit.add(gates.CNOT(i-1, i))\n",
    "                \n",
    "    return circuit"
   ]
  },
  {
   "cell_type": "code",
   "execution_count": 8,
   "id": "264dbedf",
   "metadata": {
    "tags": [
     "remove_input"
    ]
   },
   "outputs": [
    {
     "name": "stdout",
     "output_type": "stream",
     "text": [
      "q0: ─RY─RZ─o─────────RY─RZ─o─────────RY─RZ─o─────────RY─RZ─\n",
      "q1: ─RY─RZ─X───────o─RY─RZ─X───────o─RY─RZ─X───────o─RY─RZ─\n",
      "q2: ─────────RY─RZ─X─────────RY─RZ─X─────────RY─RZ─X─RY─RZ─\n"
     ]
    }
   ],
   "source": [
    "'''Qibo_code_cell'''\n",
    "\n",
    "nqubits = 3\n",
    "nrounds = 4\n",
    "\n",
    "qc = models.circuit.Circuit(nqubits)\n",
    "angles = np.random.rand(2*nqubits*nrounds)\n",
    "\n",
    "qc = ansatz(qc, nqubits=nqubits, thetas=angles, rounds=nrounds)\n",
    "\n",
    "print(qc.draw())"
   ]
  },
  {
   "cell_type": "code",
   "execution_count": 9,
   "id": "6d4dd8eb",
   "metadata": {
    "tags": [
     "remove_input"
    ]
   },
   "outputs": [],
   "source": [
    "'''Qibo_code_cell'''\n",
    "\n",
    "def matrix_decomposition_circuits(H, add_ansatz):\n",
    "\n",
    "    from qibo import models, gates\n",
    "\n",
    "    # Definimos variables y comprobamos las dimensiones del Hamiltoniano\n",
    "    n = int(np.log2(len(H)))\n",
    "    dims = 2**n\n",
    "    \n",
    "    if H.shape != (dims,dims):\n",
    "        raise ValueError(\"La matriz debe tener dimensiones 2^n x 2^n\")\n",
    "        \n",
    "    # Descomponemos el Hamiltoniano en cadenas de Pauli\n",
    "    components = pauli_decomposition(H)\n",
    "    \n",
    "    circuits = {}\n",
    "    for (paulistring, weight) in components.items():\n",
    "        paulis = list(enumerate(reversed(paulistring)))\n",
    "        qc = models.Circuit(n)\n",
    "        \n",
    "        # No hacemos nada si todas las Pauli son I, utilizamos este circuito vacío que medirá el estado \"0\" (autovalor 1) en todos los caso\n",
    "        if all(x[1] == \"I\" for x in paulis):\n",
    "            qc.add(gates.M(qc.nqubits-1))\n",
    "            circuits[paulistring] = (qc, weight)\n",
    "            continue\n",
    "\n",
    "        # Al resto de posibles circuitos sí les añadimos el ansatz\n",
    "        add_ansatz(qc,n)\n",
    "            \n",
    "        # Hacemos las transformaciones sobre un solo qubit\n",
    "        for idx, letter in paulis:\n",
    "            if letter == \"X\":\n",
    "                qc.add(gates.H(idx))\n",
    "            elif letter == \"Y\":\n",
    "                qc.add(gates.H(idx))\n",
    "                qc.add(gates.S(idx).dagger())\n",
    "                \n",
    "        # Añadimos las puertas multiqubit\n",
    "        for idx, (first, second) in enumerate(zip(paulis, paulis[1:])):\n",
    "            if second[1] == \"I\":\n",
    "                qc.add(gates.SWAP(first[0], second[0]))\n",
    "            elif first[1] != \"I\":\n",
    "                paulis[idx+1] = (paulis[idx+1][0], paulis[idx][1])\n",
    "                qc.add(gates.CNOT(first[0],second[0]))\n",
    "                \n",
    "        # Medimos sobre el último qubit\n",
    "        qc.add(gates.M(qc.nqubits-1))\n",
    "        circuits[paulistring] = (qc, weight)\n",
    "        \n",
    "        \n",
    "    return circuits"
   ]
  },
  {
   "cell_type": "code",
   "execution_count": 10,
   "id": "d67d7a26",
   "metadata": {
    "tags": [
     "remove_input"
    ]
   },
   "outputs": [],
   "source": [
    "'''Qibo_code_cell'''\n",
    "\n",
    "def run_circuit(circuit, shots=10000):\n",
    "    result = circuit.execute(nshots=shots)\n",
    "    counts = result.frequencies(binary=True)\n",
    "    return ((counts[\"0\"] if \"0\" in counts.keys() else 0) - (counts[\"1\"] if \"1\" in counts.keys() else 0))/shots"
   ]
  },
  {
   "cell_type": "code",
   "execution_count": 11,
   "id": "45415f61",
   "metadata": {
    "tags": [
     "remove_input"
    ]
   },
   "outputs": [],
   "source": [
    "'''Qibo_code_cell'''\n",
    "\n",
    "def expectation(H, rounds, thetas):\n",
    "    circuits = matrix_decomposition_circuits(H, lambda qc,n: ansatz(qc, n, thetas, rounds))\n",
    "    \n",
    "    return sum(map(lambda key: run_circuit(circuits[key][0])*circuits[key][1], circuits.keys()))"
   ]
  },
  {
   "cell_type": "code",
   "execution_count": 12,
   "id": "4316ab2e",
   "metadata": {
    "slideshow": {
     "slide_type": ""
    },
    "tags": []
   },
   "outputs": [],
   "source": [
    "class SPSA:\n",
    "    \n",
    "    def __init__(self, a, c, A, alpha, gamma, H, loss_function):\n",
    "        # Inicializamos parámetros de ganancia y factores de decaímiento\n",
    "        self.a = a\n",
    "        self.c = c\n",
    "        self.A = A\n",
    "        self.alpha = alpha\n",
    "        self.gamma = gamma\n",
    "        self.loss_function = loss_function\n",
    "        \n",
    "        # Contador\n",
    "        self.t = 0\n",
    "        \n",
    "    def step(self, current_estimate):\n",
    "        # Obtenemos los valores actuales para las secuencias de ganancia\n",
    "        a_t = self.a / (self.t + 1 + self.A)**self.alpha\n",
    "        c_t = self.c / (self.t + 1)**self.gamma\n",
    "        \n",
    "        # Vector de perturbaciones aleatorias de la distribución de Bernoulli\n",
    "        delta = np.random.randint(0, 2, np.array(current_estimate).shape) * 2 - 1\n",
    "        \n",
    "        # Medimos la función de pérdida en las perturbaciones\n",
    "        loss_plus = self.loss_function(current_estimate + delta * c_t)\n",
    "        loss_minus = self.loss_function(current_estimate - delta * c_t)\n",
    "        \n",
    "        # Estimación del gradiente\n",
    "        g_t = (loss_plus - loss_minus) / (2.0 * delta * c_t)\n",
    "        \n",
    "        # Actualizamos la estimación del parámetro\n",
    "        current_estimate = current_estimate - a_t * g_t\n",
    "        \n",
    "        # Incrementamos el contador\n",
    "        self.t +=1\n",
    "        \n",
    "        return current_estimate"
   ]
  },
  {
   "cell_type": "code",
   "execution_count": 13,
   "id": "b1fe1997",
   "metadata": {
    "slideshow": {
     "slide_type": ""
    },
    "tags": []
   },
   "outputs": [],
   "source": [
    "def vqe(H, rounds, max_iter, thetas=None, save_steps = None):\n",
    "   \n",
    "    cnt_qubits = int(np.log2(len(H)))\n",
    "    if thetas is None:\n",
    "        thetas = list(map(lambda x: random.random(), [0] * ((1+rounds)*cnt_qubits*2)))\n",
    "        \n",
    "    # Creamos la clase del optimizador\n",
    "    optimizer = SPSA(a = 0.9, c = 1.0, A = max_iter/10, alpha = 0.602, gamma = 0.101, H = H, loss_function = lambda t_thetas: expectation(H, rounds, t_thetas))\n",
    "    \n",
    "    # Loop principal\n",
    "    for i in range(max_iter):\n",
    "        thetas = optimizer.step(thetas)\n",
    "        \n",
    "        if save_steps is not None and i % save_steps == 0:\n",
    "            yield (i, thetas, expectation(H, rounds, thetas))\n",
    "            \n",
    "    return (thetas, expectation(H, rounds, thetas))"
   ]
  },
  {
   "cell_type": "code",
   "execution_count": 14,
   "id": "38633b1e",
   "metadata": {
    "slideshow": {
     "slide_type": ""
    },
    "tags": [
     "scroll-output"
    ]
   },
   "outputs": [
    {
     "name": "stdout",
     "output_type": "stream",
     "text": [
      "Paso 0. Valor actual de la función de coste:  2.766\n",
      "Paso 3. Valor actual de la función de coste:  2.763\n",
      "Paso 6. Valor actual de la función de coste:  2.751\n",
      "Paso 9. Valor actual de la función de coste:  2.679\n",
      "Paso 12. Valor actual de la función de coste:  2.680\n",
      "Paso 15. Valor actual de la función de coste:  2.643\n",
      "Paso 18. Valor actual de la función de coste:  2.599\n",
      "Paso 21. Valor actual de la función de coste:  2.534\n",
      "Paso 24. Valor actual de la función de coste:  2.460\n",
      "Paso 27. Valor actual de la función de coste:  2.434\n",
      "Paso 30. Valor actual de la función de coste:  2.444\n"
     ]
    },
    {
     "name": "stdout",
     "output_type": "stream",
     "text": [
      "Paso 33. Valor actual de la función de coste:  2.409\n",
      "Paso 36. Valor actual de la función de coste:  2.442\n"
     ]
    },
    {
     "name": "stdout",
     "output_type": "stream",
     "text": [
      "Paso 39. Valor actual de la función de coste:  2.455\n",
      "Paso 42. Valor actual de la función de coste:  2.479\n"
     ]
    },
    {
     "name": "stdout",
     "output_type": "stream",
     "text": [
      "Paso 45. Valor actual de la función de coste:  2.440\n",
      "Paso 48. Valor actual de la función de coste:  2.473\n",
      "Paso 51. Valor actual de la función de coste:  2.466\n",
      "Paso 54. Valor actual de la función de coste:  2.375\n",
      "Paso 57. Valor actual de la función de coste:  2.400\n",
      "Paso 60. Valor actual de la función de coste:  2.402\n",
      "Paso 63. Valor actual de la función de coste:  2.385\n",
      "Paso 66. Valor actual de la función de coste:  2.352\n",
      "Paso 69. Valor actual de la función de coste:  2.267\n",
      "Paso 72. Valor actual de la función de coste:  2.287\n",
      "Paso 75. Valor actual de la función de coste:  2.325\n"
     ]
    },
    {
     "name": "stdout",
     "output_type": "stream",
     "text": [
      "Paso 78. Valor actual de la función de coste:  2.319\n",
      "Paso 81. Valor actual de la función de coste:  2.249\n"
     ]
    },
    {
     "name": "stdout",
     "output_type": "stream",
     "text": [
      "Paso 84. Valor actual de la función de coste:  2.225\n",
      "Paso 87. Valor actual de la función de coste:  2.236\n"
     ]
    },
    {
     "name": "stdout",
     "output_type": "stream",
     "text": [
      "Paso 90. Valor actual de la función de coste:  2.224\n",
      "Paso 93. Valor actual de la función de coste:  2.161\n",
      "Paso 96. Valor actual de la función de coste:  2.161\n",
      "Paso 99. Valor actual de la función de coste:  2.171\n",
      "Paso 102. Valor actual de la función de coste:  2.182\n",
      "Paso 105. Valor actual de la función de coste:  2.165\n",
      "Paso 108. Valor actual de la función de coste:  2.060\n",
      "Paso 111. Valor actual de la función de coste:  2.053\n",
      "Paso 114. Valor actual de la función de coste:  2.068\n",
      "Paso 117. Valor actual de la función de coste:  2.059\n",
      "Paso 120. Valor actual de la función de coste:  2.042\n"
     ]
    },
    {
     "name": "stdout",
     "output_type": "stream",
     "text": [
      "Paso 123. Valor actual de la función de coste:  1.982\n",
      "Paso 126. Valor actual de la función de coste:  1.988\n",
      "Paso 129. Valor actual de la función de coste:  1.982\n"
     ]
    },
    {
     "name": "stdout",
     "output_type": "stream",
     "text": [
      "Paso 132. Valor actual de la función de coste:  1.967\n"
     ]
    },
    {
     "name": "stdout",
     "output_type": "stream",
     "text": [
      "Paso 135. Valor actual de la función de coste:  1.943\n",
      "Paso 138. Valor actual de la función de coste:  1.935\n",
      "Paso 141. Valor actual de la función de coste:  1.939\n",
      "Paso 144. Valor actual de la función de coste:  1.930\n",
      "Paso 147. Valor actual de la función de coste:  1.885\n",
      "Paso 150. Valor actual de la función de coste:  1.868\n",
      "Paso 153. Valor actual de la función de coste:  1.854\n",
      "Paso 156. Valor actual de la función de coste:  1.819\n",
      "Paso 159. Valor actual de la función de coste:  1.817\n",
      "Paso 162. Valor actual de la función de coste:  1.818\n",
      "Paso 165. Valor actual de la función de coste:  1.806\n",
      "Paso 168. Valor actual de la función de coste:  1.814\n"
     ]
    },
    {
     "name": "stdout",
     "output_type": "stream",
     "text": [
      "Paso 171. Valor actual de la función de coste:  1.812\n",
      "Paso 174. Valor actual de la función de coste:  1.758\n",
      "Paso 177. Valor actual de la función de coste:  1.754\n"
     ]
    },
    {
     "name": "stdout",
     "output_type": "stream",
     "text": [
      "Paso 180. Valor actual de la función de coste:  1.742\n"
     ]
    },
    {
     "name": "stdout",
     "output_type": "stream",
     "text": [
      "Paso 183. Valor actual de la función de coste:  1.746\n",
      "Paso 186. Valor actual de la función de coste:  1.778\n",
      "Paso 189. Valor actual de la función de coste:  1.775\n",
      "Paso 192. Valor actual de la función de coste:  1.761\n",
      "Paso 195. Valor actual de la función de coste:  1.747\n",
      "Paso 198. Valor actual de la función de coste:  1.726\n",
      "Paso 201. Valor actual de la función de coste:  1.733\n",
      "Paso 204. Valor actual de la función de coste:  1.692\n",
      "Paso 207. Valor actual de la función de coste:  1.653\n",
      "Paso 210. Valor actual de la función de coste:  1.640\n",
      "Paso 213. Valor actual de la función de coste:  1.623\n",
      "Paso 216. Valor actual de la función de coste:  1.566\n"
     ]
    },
    {
     "name": "stdout",
     "output_type": "stream",
     "text": [
      "Paso 219. Valor actual de la función de coste:  1.507\n",
      "Paso 222. Valor actual de la función de coste:  1.463\n"
     ]
    },
    {
     "name": "stdout",
     "output_type": "stream",
     "text": [
      "Paso 225. Valor actual de la función de coste:  1.457\n"
     ]
    },
    {
     "name": "stdout",
     "output_type": "stream",
     "text": [
      "Paso 228. Valor actual de la función de coste:  1.434\n",
      "Paso 231. Valor actual de la función de coste:  1.407\n",
      "Paso 234. Valor actual de la función de coste:  1.403\n",
      "Paso 237. Valor actual de la función de coste:  1.388\n",
      "Paso 240. Valor actual de la función de coste:  1.380\n",
      "Paso 243. Valor actual de la función de coste:  1.368\n",
      "Paso 246. Valor actual de la función de coste:  1.347\n",
      "Paso 249. Valor actual de la función de coste:  1.327\n",
      "Paso 252. Valor actual de la función de coste:  1.306\n"
     ]
    },
    {
     "name": "stdout",
     "output_type": "stream",
     "text": [
      "Paso 255. Valor actual de la función de coste:  1.281\n",
      "Paso 258. Valor actual de la función de coste:  1.278\n"
     ]
    },
    {
     "name": "stdout",
     "output_type": "stream",
     "text": [
      "Paso 261. Valor actual de la función de coste:  1.271\n"
     ]
    },
    {
     "name": "stdout",
     "output_type": "stream",
     "text": [
      "Paso 264. Valor actual de la función de coste:  1.258\n",
      "Paso 267. Valor actual de la función de coste:  1.276\n",
      "Paso 270. Valor actual de la función de coste:  1.254\n",
      "Paso 273. Valor actual de la función de coste:  1.243\n",
      "Paso 276. Valor actual de la función de coste:  1.252\n",
      "Paso 279. Valor actual de la función de coste:  1.241\n",
      "Paso 282. Valor actual de la función de coste:  1.235\n",
      "Paso 285. Valor actual de la función de coste:  1.207\n",
      "Paso 288. Valor actual de la función de coste:  1.183\n",
      "Paso 291. Valor actual de la función de coste:  1.183\n",
      "Paso 294. Valor actual de la función de coste:  1.185\n",
      "Paso 297. Valor actual de la función de coste:  1.149\n",
      "Paso 300. Valor actual de la función de coste:  1.169\n"
     ]
    },
    {
     "name": "stdout",
     "output_type": "stream",
     "text": [
      "Paso 303. Valor actual de la función de coste:  1.177\n",
      "Paso 306. Valor actual de la función de coste:  1.173\n"
     ]
    },
    {
     "name": "stdout",
     "output_type": "stream",
     "text": [
      "Paso 309. Valor actual de la función de coste:  1.168\n"
     ]
    },
    {
     "name": "stdout",
     "output_type": "stream",
     "text": [
      "Paso 312. Valor actual de la función de coste:  1.162\n",
      "Paso 315. Valor actual de la función de coste:  1.162\n",
      "Paso 318. Valor actual de la función de coste:  1.173\n",
      "Paso 321. Valor actual de la función de coste:  1.150\n",
      "Paso 324. Valor actual de la función de coste:  1.150\n",
      "Paso 327. Valor actual de la función de coste:  1.136\n",
      "Paso 330. Valor actual de la función de coste:  1.130\n",
      "Paso 333. Valor actual de la función de coste:  1.134\n",
      "Paso 336. Valor actual de la función de coste:  1.129\n",
      "Paso 339. Valor actual de la función de coste:  1.138\n",
      "Paso 342. Valor actual de la función de coste:  1.143\n",
      "Paso 345. Valor actual de la función de coste:  1.139\n",
      "Paso 348. Valor actual de la función de coste:  1.146\n"
     ]
    },
    {
     "name": "stdout",
     "output_type": "stream",
     "text": [
      "Paso 351. Valor actual de la función de coste:  1.133\n",
      "Paso 354. Valor actual de la función de coste:  1.139\n"
     ]
    },
    {
     "name": "stdout",
     "output_type": "stream",
     "text": [
      "Paso 357. Valor actual de la función de coste:  1.139\n"
     ]
    },
    {
     "name": "stdout",
     "output_type": "stream",
     "text": [
      "Paso 360. Valor actual de la función de coste:  1.130\n",
      "Paso 363. Valor actual de la función de coste:  1.130\n",
      "Paso 366. Valor actual de la función de coste:  1.126\n",
      "Paso 369. Valor actual de la función de coste:  1.134\n",
      "Paso 372. Valor actual de la función de coste:  1.117\n",
      "Paso 375. Valor actual de la función de coste:  1.123\n",
      "Paso 378. Valor actual de la función de coste:  1.113\n",
      "Paso 381. Valor actual de la función de coste:  1.111\n",
      "Paso 384. Valor actual de la función de coste:  1.099\n",
      "Paso 387. Valor actual de la función de coste:  1.099\n",
      "Paso 390. Valor actual de la función de coste:  1.091\n",
      "Paso 393. Valor actual de la función de coste:  1.098\n",
      "Paso 396. Valor actual de la función de coste:  1.085\n"
     ]
    },
    {
     "name": "stdout",
     "output_type": "stream",
     "text": [
      "Paso 399. Valor actual de la función de coste:  1.079\n",
      "Paso 402. Valor actual de la función de coste:  1.068\n"
     ]
    },
    {
     "name": "stdout",
     "output_type": "stream",
     "text": [
      "Paso 405. Valor actual de la función de coste:  1.064\n"
     ]
    },
    {
     "name": "stdout",
     "output_type": "stream",
     "text": [
      "Paso 408. Valor actual de la función de coste:  1.060\n",
      "Paso 411. Valor actual de la función de coste:  1.047\n",
      "Paso 414. Valor actual de la función de coste:  1.053\n",
      "Paso 417. Valor actual de la función de coste:  1.042\n",
      "Paso 420. Valor actual de la función de coste:  1.032\n",
      "Paso 423. Valor actual de la función de coste:  1.032\n",
      "Paso 426. Valor actual de la función de coste:  1.037\n",
      "Paso 429. Valor actual de la función de coste:  1.032\n",
      "Paso 432. Valor actual de la función de coste:  1.041\n",
      "Paso 435. Valor actual de la función de coste:  1.032\n",
      "Paso 438. Valor actual de la función de coste:  1.041\n",
      "Paso 441. Valor actual de la función de coste:  1.043\n",
      "Paso 444. Valor actual de la función de coste:  1.029\n"
     ]
    },
    {
     "name": "stdout",
     "output_type": "stream",
     "text": [
      "Paso 447. Valor actual de la función de coste:  1.029\n",
      "Paso 450. Valor actual de la función de coste:  1.035\n"
     ]
    },
    {
     "name": "stdout",
     "output_type": "stream",
     "text": [
      "Paso 453. Valor actual de la función de coste:  1.026\n"
     ]
    },
    {
     "name": "stdout",
     "output_type": "stream",
     "text": [
      "Paso 456. Valor actual de la función de coste:  1.021\n",
      "Paso 459. Valor actual de la función de coste:  1.020\n",
      "Paso 462. Valor actual de la función de coste:  1.017\n",
      "Paso 465. Valor actual de la función de coste:  1.014\n",
      "Paso 468. Valor actual de la función de coste:  1.015\n",
      "Paso 471. Valor actual de la función de coste:  1.008\n",
      "Paso 474. Valor actual de la función de coste:  1.011\n",
      "Paso 477. Valor actual de la función de coste:  1.010\n",
      "Paso 480. Valor actual de la función de coste:  1.013\n",
      "Paso 483. Valor actual de la función de coste:  1.019\n",
      "Paso 486. Valor actual de la función de coste:  1.018\n",
      "Paso 489. Valor actual de la función de coste:  1.019\n"
     ]
    },
    {
     "name": "stdout",
     "output_type": "stream",
     "text": [
      "Paso 492. Valor actual de la función de coste:  1.018\n",
      "Paso 495. Valor actual de la función de coste:  1.016\n",
      "Paso 498. Valor actual de la función de coste:  1.020\n"
     ]
    },
    {
     "name": "stdout",
     "output_type": "stream",
     "text": [
      "Paso 501. Valor actual de la función de coste:  1.009\n"
     ]
    },
    {
     "name": "stdout",
     "output_type": "stream",
     "text": [
      "Paso 504. Valor actual de la función de coste:  1.012\n",
      "Paso 507. Valor actual de la función de coste:  1.010\n",
      "Paso 510. Valor actual de la función de coste:  1.008\n",
      "Paso 513. Valor actual de la función de coste:  1.012\n",
      "Paso 516. Valor actual de la función de coste:  1.005\n",
      "Paso 519. Valor actual de la función de coste:  1.008\n",
      "Paso 522. Valor actual de la función de coste:  1.005\n",
      "Paso 525. Valor actual de la función de coste:  1.002\n",
      "Paso 528. Valor actual de la función de coste:  1.002\n",
      "Paso 531. Valor actual de la función de coste:  1.003\n",
      "Paso 534. Valor actual de la función de coste:  1.005\n",
      "Paso 537. Valor actual de la función de coste:  1.002\n"
     ]
    },
    {
     "name": "stdout",
     "output_type": "stream",
     "text": [
      "Paso 540. Valor actual de la función de coste:  1.002\n",
      "Paso 543. Valor actual de la función de coste:  1.001\n",
      "Paso 546. Valor actual de la función de coste:  1.002\n"
     ]
    },
    {
     "name": "stdout",
     "output_type": "stream",
     "text": [
      "Paso 549. Valor actual de la función de coste:  1.002\n"
     ]
    },
    {
     "name": "stdout",
     "output_type": "stream",
     "text": [
      "Paso 552. Valor actual de la función de coste:  1.003\n",
      "Paso 555. Valor actual de la función de coste:  1.004\n",
      "Paso 558. Valor actual de la función de coste:  1.013\n",
      "Paso 561. Valor actual de la función de coste:  1.012\n",
      "Paso 564. Valor actual de la función de coste:  1.013\n",
      "Paso 567. Valor actual de la función de coste:  1.015\n",
      "Paso 570. Valor actual de la función de coste:  1.012\n",
      "Paso 573. Valor actual de la función de coste:  1.016\n",
      "Paso 576. Valor actual de la función de coste:  1.021\n",
      "Paso 579. Valor actual de la función de coste:  1.013\n",
      "Paso 582. Valor actual de la función de coste:  1.015\n",
      "Paso 585. Valor actual de la función de coste:  1.012\n"
     ]
    },
    {
     "name": "stdout",
     "output_type": "stream",
     "text": [
      "Paso 588. Valor actual de la función de coste:  1.004\n",
      "Paso 591. Valor actual de la función de coste:  1.006\n",
      "Paso 594. Valor actual de la función de coste:  1.008\n"
     ]
    },
    {
     "name": "stdout",
     "output_type": "stream",
     "text": [
      "Paso 597. Valor actual de la función de coste:  1.008\n"
     ]
    },
    {
     "name": "stdout",
     "output_type": "stream",
     "text": [
      "Paso 600. Valor actual de la función de coste:  1.010\n",
      "Paso 603. Valor actual de la función de coste:  1.011\n",
      "Paso 606. Valor actual de la función de coste:  1.009\n",
      "Paso 609. Valor actual de la función de coste:  1.006\n",
      "Paso 612. Valor actual de la función de coste:  1.008\n",
      "Paso 615. Valor actual de la función de coste:  1.008\n",
      "Paso 618. Valor actual de la función de coste:  1.007\n",
      "Paso 621. Valor actual de la función de coste:  1.010\n",
      "Paso 624. Valor actual de la función de coste:  1.006\n",
      "Paso 627. Valor actual de la función de coste:  1.006\n",
      "Paso 630. Valor actual de la función de coste:  1.006\n",
      "Paso 633. Valor actual de la función de coste:  1.006\n"
     ]
    },
    {
     "name": "stdout",
     "output_type": "stream",
     "text": [
      "Paso 636. Valor actual de la función de coste:  1.008\n",
      "Paso 639. Valor actual de la función de coste:  1.003\n",
      "Paso 642. Valor actual de la función de coste:  1.004\n"
     ]
    },
    {
     "name": "stdout",
     "output_type": "stream",
     "text": [
      "Paso 645. Valor actual de la función de coste:  1.003\n"
     ]
    },
    {
     "name": "stdout",
     "output_type": "stream",
     "text": [
      "Paso 648. Valor actual de la función de coste:  1.002\n",
      "Paso 651. Valor actual de la función de coste:  1.001\n",
      "Paso 654. Valor actual de la función de coste:  1.001\n",
      "Paso 657. Valor actual de la función de coste:  1.001\n",
      "Paso 660. Valor actual de la función de coste:  1.002\n",
      "Paso 663. Valor actual de la función de coste:  1.001\n",
      "Paso 666. Valor actual de la función de coste:  1.002\n",
      "Paso 669. Valor actual de la función de coste:  1.002\n",
      "Paso 672. Valor actual de la función de coste:  1.003\n",
      "Paso 675. Valor actual de la función de coste:  1.002\n",
      "Paso 678. Valor actual de la función de coste:  1.002\n",
      "Paso 681. Valor actual de la función de coste:  1.002\n"
     ]
    },
    {
     "name": "stdout",
     "output_type": "stream",
     "text": [
      "Paso 684. Valor actual de la función de coste:  1.003\n",
      "Paso 687. Valor actual de la función de coste:  1.003\n",
      "Paso 690. Valor actual de la función de coste:  1.002\n"
     ]
    },
    {
     "name": "stdout",
     "output_type": "stream",
     "text": [
      "Paso 693. Valor actual de la función de coste:  1.003\n"
     ]
    },
    {
     "name": "stdout",
     "output_type": "stream",
     "text": [
      "Paso 696. Valor actual de la función de coste:  1.002\n",
      "Paso 699. Valor actual de la función de coste:  1.004\n",
      "Paso 702. Valor actual de la función de coste:  1.005\n",
      "Paso 705. Valor actual de la función de coste:  1.004\n",
      "Paso 708. Valor actual de la función de coste:  1.004\n",
      "Paso 711. Valor actual de la función de coste:  1.004\n",
      "Paso 714. Valor actual de la función de coste:  1.004\n",
      "Paso 717. Valor actual de la función de coste:  1.005\n",
      "Paso 720. Valor actual de la función de coste:  1.006\n",
      "Paso 723. Valor actual de la función de coste:  1.006\n",
      "Paso 726. Valor actual de la función de coste:  1.007\n",
      "Paso 729. Valor actual de la función de coste:  1.006\n"
     ]
    },
    {
     "name": "stdout",
     "output_type": "stream",
     "text": [
      "Paso 732. Valor actual de la función de coste:  1.005\n",
      "Paso 735. Valor actual de la función de coste:  1.005\n",
      "Paso 738. Valor actual de la función de coste:  1.008\n"
     ]
    },
    {
     "name": "stdout",
     "output_type": "stream",
     "text": [
      "Paso 741. Valor actual de la función de coste:  1.009\n"
     ]
    },
    {
     "name": "stdout",
     "output_type": "stream",
     "text": [
      "Paso 744. Valor actual de la función de coste:  1.008\n",
      "Paso 747. Valor actual de la función de coste:  1.009\n",
      "Paso 750. Valor actual de la función de coste:  1.008\n",
      "Paso 753. Valor actual de la función de coste:  1.007\n",
      "Paso 756. Valor actual de la función de coste:  1.007\n",
      "Paso 759. Valor actual de la función de coste:  1.005\n",
      "Paso 762. Valor actual de la función de coste:  1.008\n",
      "Paso 765. Valor actual de la función de coste:  1.005\n",
      "Paso 768. Valor actual de la función de coste:  1.006\n",
      "Paso 771. Valor actual de la función de coste:  1.007\n",
      "Paso 774. Valor actual de la función de coste:  1.008\n",
      "Paso 777. Valor actual de la función de coste:  1.005\n"
     ]
    },
    {
     "name": "stdout",
     "output_type": "stream",
     "text": [
      "Paso 780. Valor actual de la función de coste:  1.005\n",
      "Paso 783. Valor actual de la función de coste:  1.004\n",
      "Paso 786. Valor actual de la función de coste:  1.006\n"
     ]
    },
    {
     "name": "stdout",
     "output_type": "stream",
     "text": [
      "Paso 789. Valor actual de la función de coste:  1.003\n"
     ]
    },
    {
     "name": "stdout",
     "output_type": "stream",
     "text": [
      "Paso 792. Valor actual de la función de coste:  1.002\n",
      "Paso 795. Valor actual de la función de coste:  1.004\n",
      "Paso 798. Valor actual de la función de coste:  1.002\n",
      "Paso 801. Valor actual de la función de coste:  1.003\n",
      "Paso 804. Valor actual de la función de coste:  1.003\n",
      "Paso 807. Valor actual de la función de coste:  1.004\n",
      "Paso 810. Valor actual de la función de coste:  1.005\n",
      "Paso 813. Valor actual de la función de coste:  1.004\n",
      "Paso 816. Valor actual de la función de coste:  1.005\n",
      "Paso 819. Valor actual de la función de coste:  1.002\n",
      "Paso 822. Valor actual de la función de coste:  1.004\n",
      "Paso 825. Valor actual de la función de coste:  1.006\n"
     ]
    },
    {
     "name": "stdout",
     "output_type": "stream",
     "text": [
      "Paso 828. Valor actual de la función de coste:  1.003\n",
      "Paso 831. Valor actual de la función de coste:  1.005\n",
      "Paso 834. Valor actual de la función de coste:  1.003\n"
     ]
    },
    {
     "name": "stdout",
     "output_type": "stream",
     "text": [
      "Paso 837. Valor actual de la función de coste:  1.002\n"
     ]
    },
    {
     "name": "stdout",
     "output_type": "stream",
     "text": [
      "Paso 840. Valor actual de la función de coste:  1.001\n",
      "Paso 843. Valor actual de la función de coste:  1.001\n",
      "Paso 846. Valor actual de la función de coste:  1.002\n",
      "Paso 849. Valor actual de la función de coste:  1.002\n",
      "Paso 852. Valor actual de la función de coste:  1.002\n",
      "Paso 855. Valor actual de la función de coste:  1.002\n",
      "Paso 858. Valor actual de la función de coste:  1.002\n",
      "Paso 861. Valor actual de la función de coste:  1.002\n",
      "Paso 864. Valor actual de la función de coste:  1.003\n",
      "Paso 867. Valor actual de la función de coste:  1.002\n",
      "Paso 870. Valor actual de la función de coste:  1.002\n",
      "Paso 873. Valor actual de la función de coste:  1.001\n"
     ]
    },
    {
     "name": "stdout",
     "output_type": "stream",
     "text": [
      "Paso 876. Valor actual de la función de coste:  1.001\n",
      "Paso 879. Valor actual de la función de coste:  1.001\n",
      "Paso 882. Valor actual de la función de coste:  1.002\n"
     ]
    },
    {
     "name": "stdout",
     "output_type": "stream",
     "text": [
      "Paso 885. Valor actual de la función de coste:  1.001\n"
     ]
    },
    {
     "name": "stdout",
     "output_type": "stream",
     "text": [
      "Paso 888. Valor actual de la función de coste:  1.002\n",
      "Paso 891. Valor actual de la función de coste:  1.002\n",
      "Paso 894. Valor actual de la función de coste:  1.002\n",
      "Paso 897. Valor actual de la función de coste:  1.004\n",
      "Paso 900. Valor actual de la función de coste:  1.005\n",
      "Paso 903. Valor actual de la función de coste:  1.004\n",
      "Paso 906. Valor actual de la función de coste:  1.003\n",
      "Paso 909. Valor actual de la función de coste:  1.003\n",
      "Paso 912. Valor actual de la función de coste:  1.002\n",
      "Paso 915. Valor actual de la función de coste:  1.002\n",
      "Paso 918. Valor actual de la función de coste:  1.001\n",
      "Paso 921. Valor actual de la función de coste:  1.000\n"
     ]
    },
    {
     "name": "stdout",
     "output_type": "stream",
     "text": [
      "Paso 924. Valor actual de la función de coste:  1.001\n",
      "Paso 927. Valor actual de la función de coste:  1.001\n",
      "Paso 930. Valor actual de la función de coste:  1.001\n"
     ]
    },
    {
     "name": "stdout",
     "output_type": "stream",
     "text": [
      "Paso 933. Valor actual de la función de coste:  1.001\n"
     ]
    },
    {
     "name": "stdout",
     "output_type": "stream",
     "text": [
      "Paso 936. Valor actual de la función de coste:  1.002\n",
      "Paso 939. Valor actual de la función de coste:  1.001\n",
      "Paso 942. Valor actual de la función de coste:  1.001\n",
      "Paso 945. Valor actual de la función de coste:  1.000\n",
      "Paso 948. Valor actual de la función de coste:  1.001\n",
      "Paso 951. Valor actual de la función de coste:  1.000\n",
      "Paso 954. Valor actual de la función de coste:  1.000\n",
      "Paso 957. Valor actual de la función de coste:  1.001\n",
      "Paso 960. Valor actual de la función de coste:  1.001\n",
      "Paso 963. Valor actual de la función de coste:  1.000\n",
      "Paso 966. Valor actual de la función de coste:  1.001\n",
      "Paso 969. Valor actual de la función de coste:  1.000\n"
     ]
    },
    {
     "name": "stdout",
     "output_type": "stream",
     "text": [
      "Paso 972. Valor actual de la función de coste:  1.002\n",
      "Paso 975. Valor actual de la función de coste:  1.005\n",
      "Paso 978. Valor actual de la función de coste:  1.004\n"
     ]
    },
    {
     "name": "stdout",
     "output_type": "stream",
     "text": [
      "Paso 981. Valor actual de la función de coste:  1.003\n"
     ]
    },
    {
     "name": "stdout",
     "output_type": "stream",
     "text": [
      "Paso 984. Valor actual de la función de coste:  1.001\n",
      "Paso 987. Valor actual de la función de coste:  1.002\n",
      "Paso 990. Valor actual de la función de coste:  1.001\n",
      "Paso 993. Valor actual de la función de coste:  1.002\n",
      "Paso 996. Valor actual de la función de coste:  1.001\n",
      "Paso 999. Valor actual de la función de coste:  1.002\n",
      "Los parámetros óptimos para este circuito son: [\n",
      "\t0.121,\t\t1.228,\t\t0.041,\n",
      "\t0.581,\t\t1.534,\t\t1.718,\n",
      "\t-0.181,\t\t1.888,\t\t1.103,\n",
      "\t1.106,\t\t1.048,\t\t1.237,\n",
      "\t0.05,\t\t-0.004,\t\t0.573,\n",
      "\t0.275,\t]\n",
      "El valor del autovalor mínimo es:  1.002\n"
     ]
    }
   ],
   "source": [
    "H = op\n",
    "\n",
    "result = None\n",
    "step_size = 3\n",
    "\n",
    "result_energy = []\n",
    "\n",
    "for step in vqe(H, rounds=3, max_iter=1002, save_steps = step_size):\n",
    "    result_energy.append(step[2])\n",
    "    print('Paso {step}. Valor actual de la función de coste: {ev: .3f}'.format(step=step[0], ev = step[2]))\n",
    "    result = step\n",
    "    \n",
    "print('Los parámetros óptimos para este circuito son: [\\n'\n",
    "     + \"\".join([\"\\t\"+str(round(t,3))\n",
    "     +\",\\n\" if i%3 == 2 else \"\\t\"+str(round(t,3))\n",
    "     +\",\\t\" for i, t in enumerate(result[1])])+\"]\")\n",
    "print('El valor del autovalor mínimo es: {ev: .3f}'.format(ev=result[2]))"
   ]
  },
  {
   "cell_type": "code",
   "execution_count": 15,
   "id": "2922c1b0",
   "metadata": {
    "slideshow": {
     "slide_type": ""
    },
    "tags": []
   },
   "outputs": [
    {
     "data": {
      "image/png": "[encoded data removed]",
      "text/plain": [
       "<Figure size 1500x700 with 1 Axes>"
      ]
     },
     "metadata": {},
     "output_type": "display_data"
    }
   ],
   "source": [
    "# Con la información de las iteraciones podemos dibujar la convergencia de nuestro código\n",
    "\n",
    "fontsize = 15\n",
    "\n",
    "plt.rcParams['figure.figsize'] = (15, 7)\n",
    "plt.plot(range(len(result_energy)), result_energy, label=\"Valor de la energía\", color='red')\n",
    "plt.xticks(fontsize = fontsize)\n",
    "plt.yticks(fontsize = fontsize)\n",
    "plt.xlabel('Paso', fontsize = fontsize)\n",
    "plt.ylabel('Energía', fontsize = fontsize)\n",
    "plt.title('Convergencia de la energía con el optimizador SPSA', fontsize = fontsize)\n",
    "plt.legend(loc='upper right', fontsize = fontsize)\n",
    "plt.show()"
   ]
  },
  {
   "cell_type": "code",
   "execution_count": null,
   "id": "6ef02ea5-af04-4672-be8e-01d0937967cb",
   "metadata": {},
   "outputs": [],
   "source": []
  }
 ],
 "metadata": {
  "celltoolbar": "Tags",
  "kernelspec": {
   "display_name": "Python 3 (ipykernel)",
   "language": "python",
   "name": "python3"
  },
  "language_info": {
   "codemirror_mode": {
    "name": "ipython",
    "version": 3
   },
   "file_extension": ".py",
   "mimetype": "text/x-python",
   "name": "python",
   "nbconvert_exporter": "python",
   "pygments_lexer": "ipython3",
   "version": "3.11.7"
  },
  "toc": {
   "base_numbering": 1,
   "nav_menu": {},
   "number_sections": false,
   "sideBar": true,
   "skip_h1_title": true,
   "title_cell": "Table of Contents",
   "title_sidebar": "Contents",
   "toc_cell": false,
   "toc_position": {},
   "toc_section_display": true,
   "toc_window_display": false
  },
  "vscode": {
   "interpreter": {
    "hash": "9ceb105841182fb6279c9286d3cac6f256262ba5358230452797534895d46c7b"
   }
  }
 },
 "nbformat": 4,
 "nbformat_minor": 5
}