{
 "cells": [
  {
   "cell_type": "code",
   "execution_count": 1,
   "id": "8dd6c9c3",
   "metadata": {
    "scrolled": true,
    "slideshow": {
     "slide_type": ""
    },
    "tags": [
     "hide-input",
     "remove-output"
    ]
   },
   "outputs": [
    {
     "name": "stderr",
     "output_type": "stream",
     "text": [
      "/tmp/ipykernel_6834/2196755265.py:19: DeprecationWarning: ``qiskit.algorithms`` has been migrated to an independent package: https://github.com/qiskit-community/qiskit-algorithms. The ``qiskit.algorithms`` import path is deprecated as of qiskit-terra 0.25.0 and will be removed no earlier than 3 months after the release date. Please run ``pip install qiskit_algorithms`` and use ``import qiskit_algorithms`` instead.\n",
      "  from qiskit.algorithms.optimizers import COBYLA, SPSA, POWELL\n",
      "[Qibo 0.1.12.dev0|INFO|2024-05-22 12:59:35]: Using numpy backend on /CPU:0\n"
     ]
    }
   ],
   "source": [
    "# Librerías generales\n",
    "import numpy as np\n",
    "from collections import defaultdict\n",
    "from functools import reduce\n",
    "from itertools import product\n",
    "import random\n",
    "import scipy\n",
    "import matplotlib.pyplot as plt\n",
    "\n",
    "# Librerías Qibo\n",
    "import qibo\n",
    "from qibo import models, gates, hamiltonians\n",
    "from qibo import matrices as m\n",
    "\n",
    "# Librerías Qiskit\n",
    "import qiskit\n",
    "from qiskit import IBMQ, QuantumCircuit, QuantumRegister, ClassicalRegister, Aer, execute, transpile\n",
    "from qiskit.visualization import plot_bloch_multivector\n",
    "from qiskit.algorithms.optimizers import COBYLA, SPSA, POWELL\n",
    "from qiskit.primitives import Estimator\n",
    "from qiskit.algorithms.minimum_eigensolvers import VQE\n",
    "from qiskit.utils import QuantumInstance, algorithm_globals\n",
    "from qiskit.opflow import X, Z, I, Y\n",
    "from qiskit.circuit.library import TwoLocal\n",
    "from qiskit.tools.parallel import parallel_map\n",
    "\n",
    "random.seed()\n",
    "\n",
    "qibo.set_backend(\"numpy\")\n",
    "\n",
    "%matplotlib inline"
   ]
  },
  {
   "cell_type": "code",
   "execution_count": 2,
   "id": "4827d209",
   "metadata": {
    "tags": [
     "remove_input"
    ]
   },
   "outputs": [],
   "source": [
    "'''Qibo_code_cell'''\n",
    "\n",
    "from openfermion import MolecularData\n",
    "from openfermionpyscf import run_pyscf\n",
    "from openfermion import jordan_wigner, count_qubits\n",
    "\n",
    "# NOTA: Haciendo este código me ha salido un error interno de las librerías de pyscf.\n",
    "# Este error alega que no existe un módulo llamado openfermion.chem\n",
    "# Esto puede deberse a que la versión de openfermion esté en una versión no compatible.\n",
    "# Para solucionarlo, basta con ir al script de la función de pyscf y cambiar el comando\n",
    "# from openfermion.chem import *\n",
    "#   por\n",
    "# from openfermion import *"
   ]
  },
  {
   "cell_type": "code",
   "execution_count": 3,
   "id": "cc261428",
   "metadata": {
    "tags": [
     "remove_input"
    ]
   },
   "outputs": [],
   "source": [
    "'''Qibo_code_cell'''\n",
    "\n",
    "# Creamos la molécula con los parámetros requeridos\n",
    "\n",
    "# Parámetros moleculares\n",
    "bond_length = 1.40104295\n",
    "multiplicity = 1    # Dependiendo del tipo de molécula, el spin queda determinado por la multiplicidad. Si lo detecta como incompatible, dará error.\n",
    "basis = 'sto-3g'\n",
    "charge = 0\n",
    "\n",
    "# Especificamos los elementos y su disposición geométrica\n",
    "geometry = [('H', (0., 0., 0.)), ('H', (0., 0., bond_length))]\n",
    "\n",
    "# Parámetros del cálculo. En nuestro caso especificamos solo run_scf porque nos basta con haber hecho solo Hartree-Fock.\n",
    "run_scf = 1\n",
    "run_mp2 = 0\n",
    "run_cisd = 0\n",
    "run_ccsd = 0\n",
    "run_fci = 0\n",
    "delete_input = True\n",
    "delete_output = True\n",
    "\n",
    "# Inicializamos la estructura molecular\n",
    "molecule = MolecularData(geometry, basis, multiplicity,\n",
    "                         charge, description=str(bond_length))\n",
    "\n",
    "# Calculamos sus integrales\n",
    "molecule = run_pyscf(molecule,\n",
    "                        run_scf=run_scf,\n",
    "                        run_mp2=run_mp2,\n",
    "                        run_cisd=run_cisd,\n",
    "                        run_ccsd=run_ccsd,\n",
    "                        run_fci=run_fci)\n",
    "\n"
   ]
  },
  {
   "cell_type": "code",
   "execution_count": 4,
   "id": "b2704f9f",
   "metadata": {
    "tags": [
     "remove_input"
    ]
   },
   "outputs": [],
   "source": [
    "'''Qibo_code_cell'''\n",
    "\n",
    "def qibo_mol_H(molecule):\n",
    "\n",
    "    # molecule es una estructura molecular de OpenFermion\n",
    "    # devuelve un Hamiltoniano en términos de Qibo\n",
    "\n",
    "    # Obtenemos el Hamiltoniano molecular de nuestra molécula fabricada con OpenFermion\n",
    "    H = molecule.get_molecular_hamiltonian()\n",
    "\n",
    "    # Nos aseguramos de que el término constante está bien definido\n",
    "    if H.constant is None: H.constant = 0\n",
    "\n",
    "    # Hacemos la transformación de Jordan Wigner\n",
    "    JW = jordan_wigner(H)\n",
    "    dim = count_qubits(JW)\n",
    "\n",
    "    # Inicializamos el operador con el término constante\n",
    "    operator = JW.constant * reduce(np.kron, [m.I]*dim)  \n",
    "\n",
    "    # Recorremos los términos del operador de Jordan-Wigner\n",
    "    for index in JW.terms.keys():\n",
    "        if index == ():\n",
    "            continue # Omitimos el término constante, ya que hemos inicializado con él\n",
    "\n",
    "        # Definimos una lista auxiliar de operadores identidad del tamaño del sistema\n",
    "        lis = [m.I]*dim\n",
    "\n",
    "        # Reemplazamos en nuestra lista los operadores en la posición en la que indica el término de JW\n",
    "        for tag in index:\n",
    "            if tag[1] == 'X': lis[tag[0]] = m.X\n",
    "            elif tag[1] == 'Y': lis[tag[0]] = m.Y\n",
    "            elif tag[1] == 'Z': lis[tag[0]] = m.Z\n",
    "\n",
    "        # Sumamos el término JW a nuestro operador matricial\n",
    "        operator += JW.terms[index] * reduce(np.kron, lis)\n",
    "\n",
    "    return hamiltonians.Hamiltonian(dim, operator), dim, operator"
   ]
  },
  {
   "cell_type": "code",
   "execution_count": 5,
   "id": "7d21c007",
   "metadata": {
    "tags": [
     "remove_input"
    ]
   },
   "outputs": [],
   "source": [
    "'''Qibo_code_cell'''\n",
    "\n",
    "# Ahora creamos un circuito variacional de ansatz\n",
    "# En este caso usamos un circuito de puertas RY(theta) y CZ, haciendo los diferentes valores de theta aleatorios\n",
    "\n",
    "op_H, n, mat = qibo_mol_H(molecule)\n",
    "\n",
    "nqubits = n\n",
    "nlayers  = 8\n",
    "\n",
    "circuit = models.Circuit(nqubits)\n",
    "\n",
    "for l in range(nlayers):\n",
    "    circuit.add((gates.RY(q, theta=0) for q in range(nqubits)))\n",
    "    circuit.add((gates.CZ(q, q+1) for q in range(0, nqubits-1, 2)))\n",
    "    circuit.add((gates.RY(q, theta=0) for q in range(nqubits)))\n",
    "    circuit.add((gates.CZ(q, q+1) for q in range(1, nqubits-2, 2)))\n",
    "    circuit.add(gates.CZ(0, nqubits-1))\n",
    "    \n",
    "circuit.add((gates.RY(q, theta=0) for q in range(nqubits)))"
   ]
  },
  {
   "cell_type": "code",
   "execution_count": 6,
   "id": "b77761c1",
   "metadata": {
    "tags": [
     "remove_input"
    ]
   },
   "outputs": [],
   "source": [
    "'''Qibo_code_cell'''\n",
    "\n",
    "# Optimizador\n",
    "# opt = 'COBYLA'\n",
    "opt = 'Powell'"
   ]
  },
  {
   "cell_type": "code",
   "execution_count": 7,
   "id": "f57dff3f",
   "metadata": {
    "tags": [
     "remove_input"
    ]
   },
   "outputs": [],
   "source": [
    "'''Qibo_code_cell'''\n",
    "\n",
    "# Esto son funciones auxiliares para guardar los datos de las iteraciones\n",
    "\n",
    "intermediate_info = {\n",
    "    'parameters': [],\n",
    "    'energy': [],\n",
    "    #'stddev': []\n",
    "}\n",
    "\n",
    "def callback(p):\n",
    "    intermediate_info['parameters'].append(p)\n",
    "    \n",
    "    energy, _, _ = vqe.minimize(p, callback = None, method=opt, options = None, compile=False)\n",
    "    \n",
    "    intermediate_info['energy'].append(energy)\n",
    "    \n",
    "    #intermediate_info['stddev'].append(stddev)"
   ]
  },
  {
   "cell_type": "code",
   "execution_count": 8,
   "id": "a6ae0337",
   "metadata": {
    "tags": [
     "remove_input"
    ]
   },
   "outputs": [
    {
     "name": "stdout",
     "output_type": "stream",
     "text": [
      "Optimization terminated successfully.\n",
      "         Current function value: -1.015274\n",
      "         Iterations: 4\n",
      "         Function evaluations: 2500\n"
     ]
    }
   ],
   "source": [
    "'''Qibo_code_cell'''\n",
    "\n",
    "# Parámetros del Ansatz\n",
    "initial_parameters = np.random.uniform(-2*np.pi, 2*np.pi, 2*nqubits*nlayers + nqubits)\n",
    "\n",
    "# Construcción del método VQE\n",
    "vqe = models.VQE(circuit, op_H)\n",
    "options = {'disp': True, 'return_all': True}\n",
    "\n",
    "# Y ejecutamos el algoritmo\n",
    "best, params, extra = vqe.minimize(initial_parameters, callback = callback, method=opt, options = options, compile=False)"
   ]
  },
  {
   "cell_type": "code",
   "execution_count": 9,
   "id": "4dfc9434-9fe1-481a-b4d2-41feee10966d",
   "metadata": {
    "slideshow": {
     "slide_type": ""
    },
    "tags": []
   },
   "outputs": [
    {
     "name": "stdout",
     "output_type": "stream",
     "text": [
      "E_G = -1.0152741319448177\n"
     ]
    }
   ],
   "source": [
    "# Vemos el valor al que convergemos\n",
    "print('E_G =',best)"
   ]
  },
  {
   "cell_type": "code",
   "execution_count": 10,
   "id": "0c12d017",
   "metadata": {
    "slideshow": {
     "slide_type": ""
    },
    "tags": []
   },
   "outputs": [
    {
     "data": {
      "image/png": "[encoded data removed]",
      "text/plain": [
       "<Figure size 1500x700 with 1 Axes>"
      ]
     },
     "metadata": {},
     "output_type": "display_data"
    }
   ],
   "source": [
    "# Con la información de las iteraciones podemos dibujar la convergencia de nuestro código\n",
    "\n",
    "sim_values = intermediate_info['energy']\n",
    "fontsize = 15\n",
    "\n",
    "plt.rcParams['figure.figsize'] = (15, 7)\n",
    "plt.plot(range(len(sim_values)), sim_values, label=\"Energy value\", color='red')\n",
    "plt.xticks(fontsize = fontsize)\n",
    "plt.yticks(fontsize = fontsize)\n",
    "plt.xlabel('Steps', fontsize = fontsize)\n",
    "plt.ylabel('Energy', fontsize = fontsize)\n",
    "plt.title('Energy convergence for Powell optimizer', fontsize = fontsize)\n",
    "plt.legend(loc='upper right', fontsize = fontsize);\n",
    "plt.show()"
   ]
  }
 ],
 "metadata": {
  "celltoolbar": "Tags",
  "kernelspec": {
   "display_name": "Python 3 (ipykernel)",
   "language": "python",
   "name": "python3"
  },
  "language_info": {
   "codemirror_mode": {
    "name": "ipython",
    "version": 3
   },
   "file_extension": ".py",
   "mimetype": "text/x-python",
   "name": "python",
   "nbconvert_exporter": "python",
   "pygments_lexer": "ipython3",
   "version": "3.11.7"
  },
  "toc": {
   "base_numbering": 1,
   "nav_menu": {},
   "number_sections": false,
   "sideBar": true,
   "skip_h1_title": true,
   "title_cell": "Table of Contents",
   "title_sidebar": "Contents",
   "toc_cell": false,
   "toc_position": {},
   "toc_section_display": true,
   "toc_window_display": false
  },
  "vscode": {
   "interpreter": {
    "hash": "9ceb105841182fb6279c9286d3cac6f256262ba5358230452797534895d46c7b"
   }
  }
 },
 "nbformat": 4,
 "nbformat_minor": 5
}