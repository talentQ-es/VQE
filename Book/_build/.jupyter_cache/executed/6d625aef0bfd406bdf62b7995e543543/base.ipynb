{
 "cells": [
  {
   "cell_type": "code",
   "execution_count": 1,
   "id": "21b88237",
   "metadata": {
    "slideshow": {
     "slide_type": ""
    },
    "tags": [
     "remove-output",
     "hide-input"
    ]
   },
   "outputs": [
    {
     "name": "stderr",
     "output_type": "stream",
     "text": [
      "/tmp/ipykernel_11450/537049398.py:9: DeprecationWarning: ``qiskit.algorithms`` has been migrated to an independent package: https://github.com/qiskit-community/qiskit-algorithms. The ``qiskit.algorithms`` import path is deprecated as of qiskit-terra 0.25.0 and will be removed no earlier than 3 months after the release date. Please run ``pip install qiskit_algorithms`` and use ``import qiskit_algorithms`` instead.\n",
      "  from qiskit.algorithms.minimum_eigensolvers import VQE\n"
     ]
    }
   ],
   "source": [
    "import qiskit\n",
    "# from qiskit_ibm_provider import IBMProvider\n",
    "# from qiskit import IBMQ\n",
    "# import qiskit.tools.jupyter\n",
    "from qiskit.tools.parallel import parallel_map\n",
    "import json\n",
    "from styles.style import qspain\n",
    "\n",
    "from qiskit.algorithms.minimum_eigensolvers import VQE\n",
    "from qiskit.algorithms.optimizers import COBYLA, SPSA, POWELL\n",
    "from qiskit.primitives import Estimator\n",
    "\n",
    "from qiskit_nature.second_q.circuit.library import UCC, PUCCD, HartreeFock\n",
    "from qiskit_nature.second_q.mappers import QubitMapper, JordanWignerMapper\n",
    "from qiskit_nature.second_q.drivers import PySCFDriver\n",
    "from qiskit_nature.units import DistanceUnit\n",
    "from qiskit_nature.second_q.algorithms import GroundStateEigensolver\n",
    "\n",
    "import pennylane as qml\n",
    "from pennylane import numpy as np\n",
    "\n",
    "\n",
    "%matplotlib inline\n",
    "#IBMQ.load_account()\n",
    "\n",
    "#%qiskit_backend_overview"
   ]
  },
  {
   "cell_type": "code",
   "execution_count": 2,
   "id": "eecd51e9-215d-4875-b646-0958561aa37a",
   "metadata": {
    "tags": [
     "remove_input"
    ]
   },
   "outputs": [],
   "source": [
    "'''Pennylane_code_cell'''\n",
    "\n",
    "# Construimos la molécula de Hidrógeno H2\n",
    "symbols = [\"H\", \"H\"]\n",
    "coordinates = np.array([0.0, 0.0, 0.0, 0.0, 0.0, 1.400])\n",
    "H, qubits = qml.qchem.molecular_hamiltonian(symbols, coordinates)\n",
    "\n",
    "# Obtenemos el estado de referencia de Hartree-Fock\n",
    "electrons = 2\n",
    "ref_state = qml.qchem.hf_state(electrons, qubits)"
   ]
  },
  {
   "cell_type": "code",
   "execution_count": 3,
   "id": "283dc8b5-2883-4cd6-9d76-9b66db3dad5f",
   "metadata": {
    "tags": [
     "remove_input"
    ]
   },
   "outputs": [],
   "source": [
    "'''Pennylane_code_cell'''\n",
    "\n",
    "# En pennylane tenemos que definir el circuito sobre el que trabajará el ansatz\n",
    "dev = qml.device('default.qubit', wires=qubits)\n",
    "\n",
    "# Definimos el ansatz k-UpCCGSD\n",
    "# weights son los parámetros t^q_p, t^{q_\\alpha q_\\beta}_{p_\\alpha p_\\beta}\n",
    "# wires son los qubits (o en general los sistemas) sobre los que se define el ansatz.\n",
    "# delta_sz especifica las reglas de selección para la proyección del espín en dirección z \n",
    "#     en los orbitales de las excitaciones simples.\n",
    "\n",
    "k = 3\n",
    "\n",
    "@qml.qnode(dev)\n",
    "def ansatz(weights):\n",
    "    qml.kUpCCGSD(weights, wires=[0, 1, 2, 3],\n",
    "                    k=k, delta_sz=0, init_state=ref_state)\n",
    "    return qml.expval(H)\n",
    "\n",
    "shape = qml.kUpCCGSD.shape(k=k,\n",
    "                    n_wires=qubits, delta_sz=0)"
   ]
  },
  {
   "cell_type": "code",
   "execution_count": 4,
   "id": "3f8d7c2a-729d-4e87-bc50-44d4f3623eee",
   "metadata": {
    "tags": [
     "remove_input"
    ]
   },
   "outputs": [],
   "source": [
    "'''Pennylane_code_cell'''\n",
    "\n",
    "# Escogemos un optimizador\n",
    "opt = qml.GradientDescentOptimizer(stepsize=0.4)\n",
    "# opt = qml.GradientDescentOptimizer(stepsize=0.04)\n",
    "# opt = qml.QNGOptimizer(stepsize=0.01)\n",
    "# opt = qml.RMSPropOptimizer(stepsize=0.01)\n",
    "# opt = qml.AdamOptimizer(stepsize=0.01)\n",
    "# opt = qml.AdagradOptimizer(stepsize=0.01)\n",
    "# opt = qml.SPSAOptimizer(maxiter=250) "
   ]
  },
  {
   "cell_type": "code",
   "execution_count": 5,
   "id": "d884d973-fcfa-46f6-b326-24561bbbf203",
   "metadata": {
    "tags": [
     "remove_input"
    ]
   },
   "outputs": [
    {
     "name": "stdout",
     "output_type": "stream",
     "text": [
      "\n",
      "Energía del estado fundamental (obtenida) = -1.13727592 Ha\n",
      "\n",
      "Valores óptimos del circuito = [[0.64602866 0.34079656 0.42082063 0.16922154 0.62086335 0.3463154 ]\n",
      " [0.2275569  0.04592067 0.12976618 0.68158533 0.29590652 0.35328037]\n",
      " [0.39530577 0.64276052 0.72391752 0.18231534 0.23546012 0.22749385]]\n"
     ]
    }
   ],
   "source": [
    "'''Pennylane_code_cell'''\n",
    "\n",
    "# Inicializamos los primeros parámetros\n",
    "weights = np.random.random(size=shape)\n",
    "energy = [ansatz(weights)]\n",
    "\n",
    "# E iniciamos el proceso iterativo\n",
    "angle = [weights]\n",
    "max_iterations = 250\n",
    "conv_tol = 1e-08 # Escogemos una tolerancia en la que queremos que se detenga el algoritmo\n",
    "for n in range(max_iterations):\n",
    "    weights, prev_energy = opt.step_and_cost(ansatz, weights)\n",
    "    energy.append(ansatz(weights))\n",
    "    angle.append(weights)\n",
    "    conv = np.abs(energy[-1] - prev_energy)\n",
    "    # if n % 4 == 0:\n",
    "        # print(f\"Iteración: {n},  Energía = {energy[-1]:.8f} Ha\")\n",
    "    if conv <= conv_tol:\n",
    "        break\n",
    "\n",
    "print(\"\\n\" f\"Energía del estado fundamental (obtenida) = {energy[-1]:.8f} Ha\")\n",
    "print(\"\\n\" f\"Valores óptimos del circuito = {angle[-1]}\")"
   ]
  }
 ],
 "metadata": {
  "kernelspec": {
   "display_name": "Python 3 (ipykernel)",
   "language": "python",
   "name": "python3"
  },
  "language_info": {
   "codemirror_mode": {
    "name": "ipython",
    "version": 3
   },
   "file_extension": ".py",
   "mimetype": "text/x-python",
   "name": "python",
   "nbconvert_exporter": "python",
   "pygments_lexer": "ipython3",
   "version": "3.11.7"
  },
  "toc": {
   "base_numbering": 1,
   "nav_menu": {},
   "number_sections": false,
   "sideBar": true,
   "skip_h1_title": true,
   "title_cell": "Table of Contents",
   "title_sidebar": "Contents",
   "toc_cell": false,
   "toc_position": {},
   "toc_section_display": true,
   "toc_window_display": false
  },
  "vscode": {
   "interpreter": {
    "hash": "04cb63b4c94165b41411d368b53ddd78f1783857099b4f36631a272ff7822abc"
   }
  }
 },
 "nbformat": 4,
 "nbformat_minor": 5
}