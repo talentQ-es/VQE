{
 "cells": [
  {
   "cell_type": "markdown",
   "id": "0ec3d300",
   "metadata": {},
   "source": [
    "> May 06, 2024 | {sub-ref}`wordcount-minutes` min read\n",
    "\n",
    "\n"
   ]
  },
  {
   "cell_type": "code",
   "execution_count": 51,
   "id": "8dd6c9c3",
   "metadata": {
    "scrolled": true
   },
   "outputs": [],
   "source": [
    "import qiskit\n",
    "from qiskit import IBMQ\n",
    "import qiskit.tools.jupyter\n",
    "\n",
    "%matplotlib inline\n",
    "#IBMQ.load_account()\n",
    "\n",
    "#%qiskit_backend_overview"
   ]
  },
  {
   "cell_type": "markdown",
   "id": "f3efa227",
   "metadata": {},
   "source": [
    "(sec_Ansätze)= \n",
    "# Ansätze"
   ]
  },
  {
   "cell_type": "markdown",
   "id": "2192363a",
   "metadata": {},
   "source": [
    "Uno de los puntos claves del algoritmo VQE (y de los algoritmos variacionales en general) es el llamado *ansatz* (del alemán 'estimación'), que se define en general como una primera aproximación a la solución del problema que queremos resolver. Partiendo del *ansatz*, uno puede ir ajustando y haciéndole pequeñas modificaciones hasta llegar al resultado correcto.\n",
    "\n",
    "\n",
    "En un problema VQE, el *ansatz* es el estado en el que preparamos el sistema, dejando libres un conjunto de parámetros $\\boldsymbol \\theta$. Se hace una iteración del algoritmo y se busca reducir el valor de la energía obtenido, bajando poco a poco hasta llegar a un resultado más próximo al valor real de la energía del estado fundamental.\n",
    "\n",
    "\n",
    "El estudio de los *ansätze* es de vital importancia porque, dependiendo del problema y el sistema físico que queramos resolver, la elección de nuestro punto de partida afecta drásticamente a la capacidad y al tiempo de resolución por parte del computador cuántico. Así mismo, un *ansatz* más específico o más preparado para una situación muy concreta puede desembocar en la necesidad de circuitos de gran tamaño y profundidad, imposibles de realizar eficientemente con la tecnología NISQ de la que disponemos actualmente."
   ]
  },
  {
   "cell_type": "markdown",
   "id": "e4e5802d",
   "metadata": {},
   "source": [
    "(sec_Propiedades_de_los_ansätze)= \n",
    "## Propiedades de los ansätze"
   ]
  },
  {
   "cell_type": "markdown",
   "id": "54fef148",
   "metadata": {},
   "source": [
    "Los *ansätze* se pueden estudiar en base a una serie de propiedades que afectan a su capacidad de llegar a ciertos resultados o a la precisión que pueden llegar a tener. Ciertos tipos de *ansatz* pueden llegar a estados más lejanos a él en el espacio de Hilbert. A esta propiedad se la conoce como **expresibilidad** (expressibility). No obstante, cuanto más expresable es un *ansatz*, más parámetros, iteraciones y recursos requiere, volviéndolo irrealizable e intratable. A la capacidad de encontrar el conjunto de parámetros óptimos en menor tiempo se la conoce como **entrenabilidad** (trainability).\n",
    "\n",
    "\n",
    "De forma más o menos lógica se puede deducir que, cuanto más expresable es un *ansatz*, más difícil es de entrenar, pues hay muchos más valores y consideraciones a optimizar."
   ]
  },
  {
   "cell_type": "markdown",
   "id": "0e9d2c8b",
   "metadata": {},
   "source": [
    "(sec_Tipos_de_ansätze)= \n",
    "## **Tipos de ansätze**"
   ]
  },
  {
   "cell_type": "markdown",
   "id": "9be9d18f",
   "metadata": {},
   "source": [
    "Podemos distinguir varias clases de *ansätze* en función del problema o sistema para el que están pensados. Por ejemplo:\n",
    "\n",
    "\n",
    "- Los *Hardware Efficient Ansätze* (HEA) son *ansätze* parametrizados con puertas nativas del tipo de computdor cuántico. No dan resultados tan precisos como aquellos pensados para un problema específico, pero consumen menos recursos y requieren de menos puertas y tiempo, siendo más resistentes a errores cuánticos y decoherencia.\n",
    "- Los *Unitary Coupled Cluster* (UCC) y sus múltiples extensiones son *ansätze* pensados para la resolución de problemas moleculares. Están basados en la teoría CC, un método post Hartree-Fock que introduce efectos de correlación electrónica. Son, con mucha diferencia, los *ansätze* más estudiados y probados, pues en el artículo original de VQE era el método que se empleaba.\n",
    "- Los *Symmetry Preserving* (SP) son *ansätze* cuyo espíritu es preservar simetrías del espacio de soluciones. Pese a que para casos usuales su coste de recursos es terriblemente elevado, tienen potencial de ser mejores que los UCC para sistemas muy grandes.\n",
    "- El *Hamiltonian Variarional Ansatz* (HVA) es un *ansatz* pensado para la resolución de problemas basados en redes de tipo cristalino (*lattice*), como el de Ising, el de Heisenberg o el de Hubbard.\n",
    "- Los *Adaptative Structre Ansätze* (ADAPT) son unas estructuras de circuitos un tanto particulares, en el sentido de que no solo cambian los parámetros, sino la propia estructura de puertas, con cada iteración, siendo ella misma optimizada."
   ]
  },
  {
   "cell_type": "markdown",
   "id": "3a7004b6",
   "metadata": {},
   "source": [
    "---\n",
    "Authors:\n",
    "\n",
    "Irais Bautista ([CESGA](http://www.cesga.es)), Sergio Martínez ([BIFi-UNIZAR](https://bifi.es/es/)), Jaime Scharfhausen ([UAM](https://www.uam.es/uam/inicio)) y Alejandro Jaramillo ([CSUC](https://www.csuc.cat/es))\n",
    "\n",
    "<img src=\"https://quantumspain-project.es/wp-content/uploads/2022/11/CESGA.png\" width=\"150px\">\n",
    "<img src=\"http://bifi.es/wp-content/uploads/2016/11/logo_vectorial-web.png\" width=\"200px\">\n",
    "<img src=\"https://www.iib.uam.es/iiblf6theme-theme/images/custom/logo-uam.png\" width = \"200px\">\n",
    "<img src=\"https://www.csuc.cat/sites/default/files/2021-02/CSUC_logo_corporatiu_0.png\" width = \"200px\">\n",
    "\n",
    "\n",
    "---\n",
    "::::{figure} https://quantumspain-project.es/wp-content/uploads/2022/11/Logo_QS_EspanaDigital.png\n",
    ":width: 2000px\n",
    ":align: center\n",
    "::::\n",
    "\n",
    "<center>\n",
    "<a rel=\"license\" href=\"http://creativecommons.org/licenses/by-sa/4.0/\">\n",
    "<img aling=\"left\" alt=\"Licencia Creative Commons\" style=\"border-width:0\" src=\"https://i.creativecommons.org/l/by-sa/4.0/88x31.png\" /></a>\n",
    "</center>\n",
    "\n",
    "License: <a rel=\"license\" href=\"http://creativecommons.org/licenses/by-sa/4.0/\">Licencia Creative Commons Atribución-CompartirIgual 4.0 Internacional</a>.\n",
    "\n",
    "This work has been financially supported by the Ministry for Digital Transformation and of Civil Service of the Spanish Government through the QUANTUM ENIA project call - Quantum Spain project, and by the European Union through the Recovery, Transformation and Resilience Plan - NextGenerationEU within the framework of the Digital Spain 2026 Agenda.\n",
    "\n",
    "<center>\n",
    "<img align=\"left\" src=\"https://quantumspain-project.es/wp-content/uploads/2024/02/Banner-QS_GOB_v2.png\" width=\"1000px\" />\n",
    "</center>"
   ]
  }
 ],
 "metadata": {
  "kernelspec": {
   "display_name": "Python 3 (ipykernel)",
   "language": "python",
   "name": "python3"
  },
  "language_info": {
   "codemirror_mode": {
    "name": "ipython",
    "version": 3
   },
   "file_extension": ".py",
   "mimetype": "text/x-python",
   "name": "python",
   "nbconvert_exporter": "python",
   "pygments_lexer": "ipython3",
   "version": "3.11.7"
  },
  "toc": {
   "base_numbering": 1,
   "nav_menu": {},
   "number_sections": false,
   "sideBar": true,
   "skip_h1_title": true,
   "title_cell": "Table of Contents",
   "title_sidebar": "Contents",
   "toc_cell": false,
   "toc_position": {},
   "toc_section_display": true,
   "toc_window_display": false
  },
  "vscode": {
   "interpreter": {
    "hash": "b3c50f5b1d1b6c9a9e19128d59d33acdcdcce0820827aa2654487d1e3ddd0b6f"
   }
  }
 },
 "nbformat": 4,
 "nbformat_minor": 5
}
