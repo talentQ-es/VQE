{
 "cells": [
  {
   "cell_type": "markdown",
   "id": "9f781fd0",
   "metadata": {
    "id": "9f781fd0"
   },
   "source": [
    "> May 06, 2024 | {sub-ref}`wordcount-minutes` min read\n",
    "\n",
    "\n"
   ]
  },
  {
   "cell_type": "markdown",
   "id": "cfe2618e-b212-40bc-8873-238e1c74a523",
   "metadata": {},
   "source": [
    "(sec_ADAPT_con_el_Modelo_de_lipkin)= \n",
    "# ADAPT con el Modelo de Lipkin"
   ]
  },
  {
   "cell_type": "code",
   "execution_count": 1,
   "id": "1728e779",
   "metadata": {
    "id": "1728e779",
    "slideshow": {
     "slide_type": ""
    },
    "tags": [
     "hide-input",
     "remove-output"
    ]
   },
   "outputs": [],
   "source": [
    "import scipy.optimize\n",
    "import scipy.sparse\n",
    "import numpy as np\n",
    "import random\n",
    "import qibo\n",
    "from qibo import hamiltonians as ham, models as m, gates as g\n",
    "from qibo.symbols import X, Y, Z, I"
   ]
  },
  {
   "cell_type": "markdown",
   "id": "0d471042-f3f0-4143-b2fa-e00c59a696ad",
   "metadata": {
    "slideshow": {
     "slide_type": ""
    },
    "tags": []
   },
   "source": [
    ":::{contents}\n",
    ":local:\n",
    ":depth: 1\n",
    ":::\n",
    "",
    "",
    "",
    ""
   ]
  },
  {
   "cell_type": "markdown",
   "id": "de0d8023",
   "metadata": {
    "id": "de0d8023"
   },
   "source": [
    "(sec_El_Modelo_de_Lipkin)= \n",
    "## El Modelo de Lipkin"
   ]
  },
  {
   "cell_type": "markdown",
   "id": "e788eff6",
   "metadata": {
    "id": "e788eff6"
   },
   "source": [
    "Un problema abierto en física nuclear es la determinación de la energía del estado fundamental para núcleos atómicos de toda la carta de Segrè. El motivo de que esté abierto es, principalmente, que los modelos que se utilizan habitualmente no son resolubles analíticamente y muy complicados de resolver numéricamente {cite}`bib_caurier_shell_2005`, {cite}`bib_otsuka_evolution_2020`, debido a la escala exponencial de los grados de libertad con el tamaño del núcleo. Es por ello que algoritmos como los VQE pueden jugar un papel importante, ya que pueden obtener dicha energía del estado fundamental y ser implementados en un ordenador cuántico, donde el número de estados computacionales que pueden describir los grados de libertad del núcleo también escala exponencialmente {cite}`bib_romero_solving_2022`, {cite}`bib_perez_obiol_nuclear_2023`, {cite}`bib_cervia_lipkin_2021`."
   ]
  },
  {
   "cell_type": "markdown",
   "id": "00b71473",
   "metadata": {
    "id": "00b71473"
   },
   "source": [
    "No obstante, el modelo que vamos a resolver aquí, llamado el modelo de Lipkin-Meshkov-Glick {cite}`bib_lipkin_validity_1965` o simplemente de Lipkin, no es más que un preámbulo, pues este sí es resoluble analíticamente (como el caso del Modelo de Ising 1D y 2D).\n",
    "\n",
    "\n",
    "En este modelo consideramos un sistema fermiónico de n partículas que pueden ocupar dos niveles cuya separación en energía es un gap de magnitud $\\varepsilon$ y ambos tienen degeneración $\\Omega = n$. Este modelo presenta una interacción a dos cuerpos constante de magnitud $V$. El Hamiltoniano del modelo de Lipkin viene dado por: \n",
    "\n",
    "$$\n",
    "\\mathcal{H} = \\frac{1}{2} \\varepsilon \\sum_{i=1}^n Z_i - \\frac{1}{2} V \\sum_{i < j} (X_i X_j - Y_i Y_j)\n",
    "$$\n",
    "\n",
    "\n",
    "Un ejemplo gráfico de este modelo puede observarse en la siguiente imagen:\n",
    "\n",
    "\n",
    "::::{figure} ../../pictures/Lipkin-model.png\n",
    ":name: fig_flux_diagram\n",
    ":width: 1000px\n",
    ":align: center\n",
    "Representación esquemática del modelo de Lipkin.\n",
    "::::\n"
   ]
  },
  {
   "cell_type": "code",
   "execution_count": 2,
   "id": "24fd93bd",
   "metadata": {
    "id": "24fd93bd",
    "slideshow": {
     "slide_type": ""
    },
    "tags": []
   },
   "outputs": [],
   "source": [
    "# Lipkin hamiltonian\n",
    "# eps es el gap, V es la interacción a dos cuerpos\n",
    "def lipkin_ham_qibo(n, eps, V):\n",
    "\n",
    "    sym_Z = sum(Z(i) for i in range(n))\n",
    "    sym_XY = sum(X(i) * X(j) - Y(i) * Y(j) for i in range(n) for j in range(i+1, n))\n",
    "    sym_H = .5*eps*sym_Z -.5*V *sym_XY\n",
    "\n",
    "    H = ham.SymbolicHamiltonian(sym_H)\n",
    "\n",
    "    return np.matrix(H.matrix)"
   ]
  },
  {
   "cell_type": "markdown",
   "id": "211de64b",
   "metadata": {
    "id": "211de64b",
    "slideshow": {
     "slide_type": ""
    },
    "tags": []
   },
   "source": [
    "(sec_ADAPT-VQE)= \n",
    "## ADAPT-VQE"
   ]
  },
  {
   "cell_type": "markdown",
   "id": "f42cd080",
   "metadata": {
    "id": "f42cd080"
   },
   "source": [
    "Para este problema vamos a explorar un nuevo tipo de *ansatz* utilizable en problemas VQE: ADAPT {cite}`bib_grimsley_adaptive_2019`. Se trata de un sistema muy similar a los *ansätze* tipo UCC: Tenemos un conjunto de operadores $\\{\\mathcal{A}_i (\\theta_i)\\}$ con el que podemos codificar nuestros fenómenos físicos, como excitaciones o desexcitaciones dobles. En un problema tipo UCC, obtendríamos el operador unitario $U = \\exp\\left[\\sum_i \\mathcal{A}_i\\right]$ y haríamos una descomposición de Trotter-Suzuki.\n",
    "\n",
    "\n",
    "Sin embargo, en este caso lo que hacemos es definir nuestro conjunto de operadores posibles de forma que $[\\mathcal{A}_i, \\mathcal{A}_j] = 0$. Con esto, conseguimos que \n",
    "\n",
    "$$\n",
    "U = \\exp\\left[\\sum_i \\mathcal{A}_i\\right] = \\prod_i e^{\\mathcal{A}_i}\n",
    "$$\n",
    "\n",
    "\n",
    "Lo que hacemos entonces es aplicar los operadores de forma sucesiva. Para ello, comenzamos calculando el gradiente de todos los posibles operadores de nuestro conjunto imponendo $\\theta_i = 0$. Esto se puede hacer de forma analítica, imponiendo $| \\psi^{(0)} \\rangle$ como nuestro estado de referencia y calculando \n",
    "\n",
    "$$ \n",
    "\\langle \\psi^{(0)} | [\\mathcal{H}, \\mathcal{A}_i (0)] | \\psi^{(0)} \\rangle \n",
    "$$ \n",
    "\n",
    "\n",
    "tomando $\\mathcal{A^{(1)}}$ como el operador que **maximiza** dicha cantidad.\n",
    "\n",
    "\n",
    "Entonces, calculamos nuestro nuevo estado como $|\\psi^{(1)} (\\theta) \\rangle = e^{\\mathcal{A}^{(1)} (\\theta)} |\\psi^{(0)}\\rangle$. Con este estado podemos calcular la energía de la forma usual, $E^{(1)} = \\langle \\psi^{(1)} (\\theta) | \\mathcal{H} | \\psi^{(1)} (\\theta) \\rangle$, y aquí ya usamos un proceso de minimización clásico (BFGS, SPSA, Powell...) para obtener el valor óptimo de $\\theta$.\n",
    "\n",
    "\n",
    "Repetimos este procedimiento de forma iterativa, seleccionando un nuevo operador $\\mathcal{A}^{(2)}$ maximizando esta vez $\\langle \\psi^{(1)} (\\theta_{\\text{opt}})| [\\mathcal{H}, \\mathcal{A}_i (0)] | \\psi^{(1)} (\\theta_{\\text{opt}}) \\rangle $, calculando $|\\psi^{(2)} (\\theta) \\rangle = e^{\\mathcal{A}^{(2)} (\\theta)} |\\psi^{(1)}\\rangle$ y minimizando $E^{(2)} = \\langle \\psi^{(2)} (\\theta) | \\mathcal{H} | \\psi^{(2)} (\\theta) \\rangle$; y así sucesivamente hasta converger al estado fundamental (o a un mínimo local). Cabe destacar que en esta última nueva minimización obtenemos un conjunto de parámetros óptimos que vuelve a ajustar los parámetros de iteraciones anteriores.\n",
    "\n",
    "\n",
    "Al final de este proceso, el circuito que habríamos ejecutado, visto desde la perspectiva del sistema global, sería \n",
    "\n",
    "$$\n",
    "|g\\rangle \\approx e^{\\mathcal{A}^{(n)}(\\theta_n)} e^{\\mathcal{A}^{(n-1)}(\\theta_{n-1})}\\dots e^{\\mathcal{A}^{(2)}(\\theta_2)}e^{\\mathcal{A}^{(1)}(\\theta_1)} |\\psi^{(0)} \\rangle\n",
    "$$"
   ]
  },
  {
   "cell_type": "markdown",
   "id": "1f69c4c3",
   "metadata": {
    "id": "1f69c4c3"
   },
   "source": [
    "El punto clave de este formalismo está en el conjunto $\\{\\mathcal{A}_i\\}$, ya que debe conformar un **Conjunto Completo de Operadores que Conmutan**, es decir, debemos considerar operadores que nos permitan obtener cualquier estado posible de nuestro modelo, barriendo por completo el espacio de Hilbert."
   ]
  },
  {
   "cell_type": "code",
   "execution_count": 3,
   "id": "ba3ee097",
   "metadata": {
    "id": "ba3ee097",
    "slideshow": {
     "slide_type": ""
    },
    "tags": []
   },
   "outputs": [],
   "source": [
    "\n",
    "# Construimos todos los operadores necesarios para el modelo de Lipkin\n",
    "# Esto devuelve todos los operadores a dos cuerpos para un sistema de n niveles\n",
    "# Esto tiene que ser un CONJUNTO COMPLETO (en el sentido algebraico) para cualquier configuración del modelo de Lipkin\n",
    "def oper_pool(n):\n",
    "    import numpy as np\n",
    "    from qibo import matrices as m\n",
    "\n",
    "    oper_mats=[]\n",
    "    oper_labs=[]\n",
    "\n",
    "    for p in range(0,n):\n",
    "        oper_mats.append(X(p).full_matrix(n))\n",
    "        oper_labs.append('X'+str(p))\n",
    "        oper_mats.append(Y(p).full_matrix(n))\n",
    "        oper_labs.append('Y'+str(p))\n",
    "        oper_mats.append(Z(p).full_matrix(n))\n",
    "        oper_labs.append('Z'+str(p))\n",
    "\n",
    "\n",
    "        for q in range(p+1,n):\n",
    "\n",
    "            oper_mats.append(0.5*(np.dot(X(p).full_matrix(n),X(q).full_matrix(n)) + np.dot(Y(p).full_matrix(n),Y(q).full_matrix(n))))\n",
    "            oper_labs.append('0.5 ('+'X'+str(p)+' '+'X'+str(q)+' '+'+'+' '+'Y'+str(p)+' '+'Y'+str(q)+')')\n",
    "\n",
    "            oper_mats.append(0.5*(np.dot(X(p).full_matrix(n),X(q).full_matrix(n)) - np.dot(Y(p).full_matrix(n),Y(q).full_matrix(n))))\n",
    "            oper_labs.append('0.5 ('+'X'+str(p)+' '+'X'+str(q)+' '+'-'+' '+'Y'+str(p)+' '+'Y'+str(q)+')')\n",
    "\n",
    "            oper_mats.append(0.5*(np.dot(X(p).full_matrix(n),Y(q).full_matrix(n)) + np.dot(Y(p).full_matrix(n),X(q).full_matrix(n))))\n",
    "            oper_labs.append('0.5 ('+'X'+str(p)+' '+'Y'+str(q)+' '+'+'+' '+'Y'+str(p)+' '+'X'+str(q)+')')\n",
    "\n",
    "            oper_mats.append(0.5*(np.dot(Y(p).full_matrix(n),X(q).full_matrix(n)) - np.dot(X(p).full_matrix(n),Y(q).full_matrix(n))))\n",
    "            oper_labs.append('0.5 ('+'Y'+str(p)+' '+'X'+str(q)+' '+'-'+' '+'X'+str(p)+' '+'Y'+str(q)+')')\n",
    "\n",
    "            oper_mats.append(np.dot(X(p).full_matrix(n),Z(q).full_matrix(n)))\n",
    "            oper_labs.append('X'+str(p)+' '+'Z'+str(q) )\n",
    "\n",
    "            oper_mats.append(np.dot(Y(p).full_matrix(n),Z(q).full_matrix(n)))\n",
    "            oper_labs.append('Y'+str(p)+' '+'Z'+str(q) )\n",
    "\n",
    "            oper_mats.append(np.dot(Z(p).full_matrix(n),Z(q).full_matrix(n)))\n",
    "            oper_labs.append('Z'+str(p)+' '+'Z'+str(q) )\n",
    "\n",
    "\n",
    "    return [oper_labs, oper_mats]\n",
    "\n",
    "# Obtenemos una lista de Pauli-strings y sus representaciones matriciales\n",
    "\n",
    "\n",
    "\n",
    "\n",
    "\n",
    "\n",
    "# En cada iteración, obtenemos el operador que nos da un mayor gradiente\n",
    "# Evaluamos conmutadores tipo <state|[H, A(0)]|state>\n",
    "# Devuelve el operador óptimo (con máximo gradiente) y el valor de dicho gradiente\n",
    "# Con verbose=True nos da el valor de todos los posibles gradientes\n",
    "def optimal_op(state, ham, ops, mats, verbose=False):\n",
    "\n",
    "    #Evaluate commutators\n",
    "    opt_op = []\n",
    "    com_pre = 0.\n",
    "    for m in range(len(ops)):\n",
    "        Om, Am = ops[m], mats[m]\n",
    "        com_mat = ham.dot(Am)-Am.dot(ham)\n",
    "        com_val = -1j*state.T*com_mat*state\n",
    "        if verbose:\n",
    "         if (abs(com_val) > 1e-6): print(m, Om, com_val)\n",
    "        if abs(com_val) > (abs(com_pre)+1e-6):\n",
    "            opt_op.append(Om)\n",
    "            com_pre = com_val\n",
    "\n",
    "    return [opt_op, abs(com_pre)]\n",
    "\n",
    "\n",
    "\n",
    "\n",
    "\n",
    "# Aquí actualizamos el estado, haciendo |psi(i+1)> = e^{A(i+1)(theta)} |psi(i)>\n",
    "def update_state(state,mats,pars):\n",
    "\n",
    "    \n",
    "\n",
    "    assert len(mats) == len(pars)\n",
    "    update_state = state[:]\n",
    "    update_state = np.matrix(update_state).T\n",
    "\n",
    "    for k in reversed(range(0, len(mats))):\n",
    "        update_state = scipy.sparse.linalg.expm_multiply(1j*pars[k]*mats[k], update_state)\n",
    "\n",
    "    #print(\"in update state: \", pars)\n",
    "\n",
    "    return update_state\n",
    "\n",
    "\n",
    "# Computamos el valor esperado <psi|H|psi> de forma que podamos minimizar después en función del valor del parámetro\n",
    "def ener(pars, state, ham, mats): \n",
    "\n",
    "    state_it = update_state(state,mats,pars)\n",
    "\n",
    "    ener = state_it.conj().T * ham * state_it\n",
    "\n",
    "    assert abs(ener.imag) < 1e-6\n",
    "\n",
    "    return ener.real\n",
    "\n",
    "\n",
    "# Utilizando otro Hamiltoniano en lugar de Lipkin, seguimos teniendo una implementación apropiada de ADAPT"
   ]
  },
  {
   "cell_type": "markdown",
   "id": "570bd0e2",
   "metadata": {
    "id": "570bd0e2",
    "slideshow": {
     "slide_type": ""
    },
    "tags": []
   },
   "source": [
    "Vamos a presentar un caso práctico utilizando un sistema de 4 partículas con unos valores concretos para $\\varepsilon$ y $V$."
   ]
  },
  {
   "cell_type": "code",
   "execution_count": 4,
   "id": "589fe8b0-ddcf-475e-b29b-d81cf3aa85dc",
   "metadata": {
    "id": "e5390d8a",
    "outputId": "ebf6864c-1a18-48a4-a92c-7ed0c895d1a1",
    "slideshow": {
     "slide_type": ""
    },
    "tags": []
   },
   "outputs": [
    {
     "name": "stderr",
     "output_type": "stream",
     "text": [
      "[Qibo 0.1.12.dev0|INFO|2024-04-18 11:17:42]: Using tensorflow backend on /device:CPU:0\n",
      "[Qibo 0.1.12.dev0|WARNING|2024-04-18 11:17:42]: Calculating the dense form of a symbolic Hamiltonian. This operation is memory inefficient.\n"
     ]
    },
    {
     "name": "stdout",
     "output_type": "stream",
     "text": [
      "Min eigenvalue from diagonalization:  -1.8690874778886049\n",
      " \n",
      "Start of iterative procedure\n",
      "============================\n",
      " \n",
      " \n",
      "it  ener\n",
      "===========\n",
      "0 -1.0593152586948005 [[0.964]] [0.42701317]\n",
      "1 -1.278630517389601 [[0.964]] [0.42701317 0.42701317]\n",
      "2 -1.4399699907734906 [[0.63330259]] [0.42701317 0.42701316 0.32300631]\n",
      "3 -1.6013094641573797 [[0.79865131]] [0.42701316 0.42701316 0.32300631 0.32300632]\n",
      "4 -1.7351984710229948 [[0.50568615]] [0.42701317 0.42701317 0.3230063  0.32300629 0.27094707]\n",
      "5 -1.869087477888605 [[0.73484309]] [0.42701317 0.4270132  0.3230063  0.3230063  0.27094706 0.27094704]\n",
      " \n",
      "============================\n",
      "Calculations have converged in norm!\n",
      "============================\n",
      " \n",
      " \n",
      "Parameters and operators\n",
      "------------------------\n",
      "0 0.42701316857130084 0.5 (X0 Y1 + Y0 X1)\n",
      "1 0.4270132009161558 0.5 (X2 Y3 + Y2 X3)\n",
      "2 0.3230063008194932 0.5 (X0 Y2 + Y0 X2)\n",
      "3 0.32300629767953715 0.5 (X1 Y3 + Y1 X3)\n",
      "4 0.27094705584500045 0.5 (X0 Y3 + Y0 X3)\n",
      "5 0.27094704405041853 0.5 (X1 Y2 + Y1 X2)\n",
      " \n",
      "Ground state: \n",
      "  (0, 0)\t(0.27529140908499256+0j)\n",
      "  (3, 0)\t(0.2578798480867337+0j)\n",
      "  (5, 0)\t(0.25787985637875865+0j)\n",
      "  (6, 0)\t(0.25787983306969847+0j)\n",
      "  (9, 0)\t(0.2578798212751166+0j)\n",
      "  (10, 0)\t(0.2578798532388026+0j)\n",
      "  (12, 0)\t(0.2578798804315887+0j)\n",
      "  (15, 0)\t(0.7247085909150072+0j)\n"
     ]
    }
   ],
   "source": [
    "####\n",
    "\n",
    "# Parámetros del Hamiltoniano de Lipkin\n",
    "n = 4\n",
    "eps, V = 0.42, 0.482\n",
    "\n",
    "# Parámetros del proceso de optimización\n",
    "max_iter = 300\n",
    "options = {'disp': False, 'gtol': 1e-10}\n",
    "\n",
    "\n",
    "# Construimos el hamiltoniano\n",
    "hamiltonian = lipkin_ham_qibo(n, eps, V)\n",
    "eigvals, eigvecs = scipy.linalg.eigh(hamiltonian)\n",
    "print(\"Min eigenvalue from diagonalization: \", min(eigvals))\n",
    "print(\" \")\n",
    "\n",
    "# Construimos el conjunto de operadores\n",
    "[ops_pool, mats_pool] = oper_pool(n)\n",
    "\n",
    "# Estado de referencia\n",
    "initial_state = np.zeros(2**n,dtype='complex128')\n",
    "mbeners = hamiltonian.diagonal()\n",
    "index_lowest_energy = np.argmin(mbeners)\n",
    "state = initial_state[:]\n",
    "state[index_lowest_energy]=1.\n",
    "ener_new = np.min(mbeners)\n",
    "\n",
    "# Inicializamos los arrays de soluciones\n",
    "pars = []\n",
    "sol_mat = []\n",
    "sol_ops = []\n",
    "opt_mat = []\n",
    "opt_ops = []\n",
    "\n",
    "\n",
    "\n",
    "print(\"Start of iterative procedure\")\n",
    "print(\"============================\")\n",
    "print(\" \")\n",
    "print(\" \")\n",
    "print(\"it  ener\")\n",
    "print(\"===========\")\n",
    "state = np.matrix(state).T\n",
    "for it in range(max_iter):\n",
    "\n",
    "    \n",
    "\n",
    "    [op_it_array, toler]     = optimal_op(np.matrix(state), hamiltonian, ops_pool, mats_pool, verbose=0)\n",
    "    if (len(op_it_array) > 0 ): op_it = op_it_array[-1]\n",
    "\n",
    "    ener_prev = ener_new\n",
    "\n",
    "    if (abs(toler) < 1e-6): # Convergencia en norma (todos los gradientes son 0)\n",
    "        print(\" \")\n",
    "        print(\"============================\")\n",
    "        print(\"Calculations have converged in norm!\")\n",
    "        print(\"============================\")\n",
    "        break\n",
    "\n",
    "    op_it_mat          = mats_pool[ops_pool.index(op_it)]\n",
    "    opt_ops.append(op_it)\n",
    "    opt_mat.append(op_it_mat)\n",
    "    opt_pars = np.append(pars, 0.) #np.insert(pars,0,0.)\n",
    "\n",
    "\n",
    "    opt_sol = scipy.optimize.minimize(ener, opt_pars, args=(initial_state, hamiltonian, opt_mat), options=options, method='BFGS')\n",
    "\n",
    "   # opt_sol = scipy.optimize.minimize(ener, opt_pars, args=(initial_state, hamiltonian, opt_mat), method='Nelder-Mead')\n",
    "\n",
    "\n",
    "    ener_new = opt_sol.fun\n",
    "\n",
    "    if (abs(ener_new - ener_prev) < 1e-6): # Convergencia en energía (alcanzado un mínimo, aunque podría ser local)\n",
    "        print(\" \")\n",
    "        print(\"============================\")\n",
    "        print(\"Calculations have converged in energy!\")\n",
    "        print(\"============================\")\n",
    "        break\n",
    "\n",
    "\n",
    "\n",
    "    pars = opt_sol.x\n",
    "    sol_ops.append(op_it)\n",
    "    sol_mat.append(op_it_mat)\n",
    "\n",
    "    state = update_state(initial_state,sol_mat,pars)\n",
    "\n",
    "    print(it, opt_sol.fun, toler, pars)\n",
    "\n",
    "\n",
    "print(\" \")\n",
    "print(\" \")\n",
    "print(\"Parameters and operators\")\n",
    "print(\"------------------------\")\n",
    "for k in range(len(sol_ops)):\n",
    " print(k, pars[k], sol_ops[k])\n",
    "\n",
    "\n",
    "# Estado fundamental obtenido (notación sparse)\n",
    "gs = scipy.sparse.csc_matrix(update_state(initial_state,sol_mat,pars))\n",
    "\n",
    "print(\" \")\n",
    "\n",
    "print(\"Ground state: \")\n",
    "print(gs)"
   ]
  },
  {
   "cell_type": "markdown",
   "id": "4c1dbb29",
   "metadata": {
    "id": "4c1dbb29",
    "slideshow": {
     "slide_type": ""
    },
    "tags": []
   },
   "source": [
    "",
    "",
    "",
    "",
    "",
    "",
    "",
    "",
    "",
    "",
    "",
    "",
    "",
    "",
    "",
    ""
   ]
  },
  {
   "cell_type": "markdown",
   "id": "5d0b5941",
   "metadata": {
    "id": "5d0b5941"
   },
   "source": [
    "---\n",
    "<center>\n",
    "<a rel=\"license\" href=\"http://creativecommons.org/licenses/by-sa/4.0/\">\n",
    "<img aling=\"left\" alt=\"Licencia Creative Commons\" style=\"border-width:0\" src=\"https://i.creativecommons.org/l/by-sa/4.0/88x31.png\" /></a>\n",
    "</center>\n",
    "\n",
    "License: <a rel=\"license\" href=\"http://creativecommons.org/licenses/by-sa/4.0/\">Licencia Creative Commons Atribución-CompartirIgual 4.0 Internacional</a>.\n",
    "\n",
    "This work has been financially supported by the Ministry for Digital Transformation and of Civil Service of the Spanish Government through the QUANTUM ENIA project call - Quantum Spain project, and by the European Union through the Recovery, Transformation and Resilience Plan - NextGenerationEU within the framework of the Digital Spain 2026 Agenda.\n",
    "\n",
    "<img align=\"left\" src=\" https://quantumspain-project.es/wp-content/uploads/2024/02/Banner-QS_GOB_v2.png\" width=\"1000px\" />"
   ]
  }
 ],
 "metadata": {
  "colab": {
   "provenance": []
  },
  "kernelspec": {
   "display_name": "Python 3 (ipykernel)",
   "language": "python",
   "name": "python3"
  },
  "language_info": {
   "codemirror_mode": {
    "name": "ipython",
    "version": 3
   },
   "file_extension": ".py",
   "mimetype": "text/x-python",
   "name": "python",
   "nbconvert_exporter": "python",
   "pygments_lexer": "ipython3",
   "version": "3.11.7"
  },
  "toc": {
   "base_numbering": 1,
   "nav_menu": {},
   "number_sections": false,
   "sideBar": true,
   "skip_h1_title": true,
   "title_cell": "Table of Contents",
   "title_sidebar": "Contents",
   "toc_cell": false,
   "toc_position": {},
   "toc_section_display": true,
   "toc_window_display": false
  }
 },
 "nbformat": 4,
 "nbformat_minor": 5
}
